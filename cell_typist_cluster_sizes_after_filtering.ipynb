{
 "cells": [
  {
   "cell_type": "code",
   "execution_count": 1,
   "metadata": {},
   "outputs": [],
   "source": [
    "import pandas as pd\n",
    "import scanpy as sc\n",
    "import json"
   ]
  },
  {
   "cell_type": "code",
   "execution_count": 9,
   "metadata": {},
   "outputs": [],
   "source": [
    "datasets = ['PBMC1', 'PBMC2', 'PBMC3', 'PBMC4']\n",
    "data_dir = './data/'\n",
    "for dataset in datasets:\n",
    "    filtered_dataset_path = f\"{data_dir}{dataset}/filtered/10X/\"\n",
    "    adata = sc.read_10x_mtx(filtered_dataset_path, var_names=\"gene_symbols\", cache=False)\n",
    "    filtered_barcodes = adata.obs.index.to_list()\n",
    "    labels = pd.read_csv(f\"{data_dir}{dataset}/celltypist/celltypist_labels.csv\", index_col=0)\n",
    "    labels.index = labels.index.str[:-2]\n",
    "    labels = labels[labels.index.isin(filtered_barcodes)]\n",
    "    counts = labels.value_counts().to_frame()\n",
    "    counts.index.names = ['id']\n",
    "    mapping = pd.read_csv(f\"{data_dir}/{dataset}/celltypist/celltypist_mapping.csv\", index_col=0)\n",
    "    counts_mappings = counts.merge(mapping, on='id')\n",
    "    counts_mappings.to_csv(f\"{data_dir}/{dataset}/celltypist/celltypist_annotation_counts_filtered.csv\")\n",
    "    with open(f'{data_dir}/{dataset}/celltypist/nclusters.json', 'w') as fp:\n",
    "        json.dump({'nclusters': counts_mappings[counts_mappings['count']>=50].shape[0]}, fp)"
   ]
  }
 ],
 "metadata": {
  "kernelspec": {
   "display_name": "CHLPy",
   "language": "python",
   "name": "python3"
  },
  "language_info": {
   "codemirror_mode": {
    "name": "ipython",
    "version": 3
   },
   "file_extension": ".py",
   "mimetype": "text/x-python",
   "name": "python",
   "nbconvert_exporter": "python",
   "pygments_lexer": "ipython3",
   "version": "3.11.5"
  },
  "orig_nbformat": 4
 },
 "nbformat": 4,
 "nbformat_minor": 2
}
