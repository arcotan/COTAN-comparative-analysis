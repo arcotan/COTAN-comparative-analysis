{
 "cells": [
  {
   "cell_type": "markdown",
   "metadata": {},
   "source": [
    "# Clustering and differential expression analysis using scanpy"
   ]
  },
  {
   "cell_type": "code",
   "execution_count": null,
   "metadata": {},
   "outputs": [],
   "source": [
    "import numpy as np\n",
    "import pandas as pd\n",
    "import scanpy as sc\n",
    "import json\n",
    "import os\n",
    "import matplotlib.pyplot as plt\n",
    "from scipy.stats import rankdata"
   ]
  },
  {
   "cell_type": "code",
   "execution_count": null,
   "metadata": {},
   "outputs": [],
   "source": [
    "dataset_name = 'E175'\n",
    "data_out_path = './data/{}/scanpy/'.format(dataset_name)\n",
    "default_path = '{}default/'.format(data_out_path)\n",
    "celltypist_path = '{}celltypist/'.format(data_out_path)\n",
    "nclusters_celltypist_path = './data/{}/nclusters.json'.format(dataset_name)\n",
    "\n",
    "top_number_of_markers = 500\n",
    "min_cluster_size = 0\n",
    "\n",
    "with open(nclusters_celltypist_path) as f:\n",
    "    nclusters_celltypist = json.load(f)['nclusters']\n",
    "\n",
    "nclusters_threshold = 1/10\n",
    "min_ncluster_celltypist = round(nclusters_celltypist - nclusters_threshold*nclusters_celltypist)\n",
    "max_ncluster_celltypist = round(nclusters_celltypist + nclusters_threshold*nclusters_celltypist)\n",
    "\n",
    "if not os.path.exists(default_path):\n",
    "    os.makedirs(default_path)\n",
    "\n",
    "if not os.path.exists(celltypist_path):\n",
    "    os.makedirs(celltypist_path)"
   ]
  },
  {
   "cell_type": "markdown",
   "metadata": {},
   "source": [
    "## Data loading and preparation"
   ]
  },
  {
   "cell_type": "markdown",
   "metadata": {},
   "source": [
    "Dataset loading"
   ]
  },
  {
   "cell_type": "code",
   "execution_count": null,
   "metadata": {},
   "outputs": [],
   "source": [
    "adata = sc.read_csv(f'./data/{dataset_name}/CorticalCells_GSM2861514_E175_cleaned.csv', first_column_names=None)\n",
    "adata = adata.T\n",
    "adata.var_names_make_unique()\n",
    "adata"
   ]
  },
  {
   "cell_type": "markdown",
   "metadata": {},
   "source": [
    "Studying feature variance"
   ]
  },
  {
   "cell_type": "code",
   "execution_count": null,
   "metadata": {},
   "outputs": [],
   "source": [
    "matrix = adata.X\n",
    "neg_variances = np.sort(-np.var(matrix, axis=0))\n",
    "sorted_log_variances = [np.log(-i) for i in neg_variances.T][:2000]\n",
    "plt.scatter([i for i in range(len(sorted_log_variances))], sorted_log_variances)"
   ]
  },
  {
   "cell_type": "markdown",
   "metadata": {},
   "source": [
    "Data normalization"
   ]
  },
  {
   "cell_type": "code",
   "execution_count": null,
   "metadata": {},
   "outputs": [],
   "source": [
    "sc.pp.normalize_total(adata, target_sum=1e4)\n",
    "sc.pp.log1p(adata)"
   ]
  },
  {
   "cell_type": "markdown",
   "metadata": {},
   "source": [
    "Feature selection"
   ]
  },
  {
   "cell_type": "code",
   "execution_count": null,
   "metadata": {},
   "outputs": [],
   "source": [
    "sc.pp.highly_variable_genes(\n",
    "    adata,\n",
    "    n_top_genes=500, # chosen based on elbow plot above\n",
    "    flavor='seurat_v3'\n",
    ")\n",
    "sc.pl.highly_variable_genes(adata)"
   ]
  },
  {
   "cell_type": "markdown",
   "metadata": {},
   "source": [
    "Feature scaling"
   ]
  },
  {
   "cell_type": "code",
   "execution_count": null,
   "metadata": {},
   "outputs": [],
   "source": [
    "adata.raw = adata\n",
    "adata = adata[:, adata.var.highly_variable]\n",
    "sc.pp.scale(adata, max_value=10) # default=None, 10 in the tutorial on pbmc"
   ]
  },
  {
   "cell_type": "markdown",
   "metadata": {},
   "source": [
    "## Clustering"
   ]
  },
  {
   "cell_type": "markdown",
   "metadata": {},
   "source": [
    "Plot pca explained variance ratio to choose number of components"
   ]
  },
  {
   "cell_type": "code",
   "execution_count": null,
   "metadata": {},
   "outputs": [],
   "source": [
    "sc.tl.pca(adata, svd_solver='arpack', n_comps=30, use_highly_variable=True)\n",
    "sc.pl.pca_variance_ratio(adata, log=True)"
   ]
  },
  {
   "cell_type": "markdown",
   "metadata": {},
   "source": [
    "### Clustering with default parameters"
   ]
  },
  {
   "cell_type": "markdown",
   "metadata": {},
   "source": [
    "Perform the clustering"
   ]
  },
  {
   "cell_type": "code",
   "execution_count": null,
   "metadata": {},
   "outputs": [],
   "source": [
    "sc.pp.neighbors(\n",
    "    adata,\n",
    "    n_pcs=10 # chosen based on elbow plot above\n",
    ")\n",
    "sc.tl.leiden(adata)"
   ]
  },
  {
   "cell_type": "markdown",
   "metadata": {},
   "source": [
    "Visualize the clustering in the PCA space"
   ]
  },
  {
   "cell_type": "code",
   "execution_count": null,
   "metadata": {},
   "outputs": [],
   "source": [
    "sc.pl.pca(\n",
    "    adata,\n",
    "    color=['leiden'],\n",
    "    size=20\n",
    ")"
   ]
  },
  {
   "cell_type": "markdown",
   "metadata": {},
   "source": [
    "Save the clustering results"
   ]
  },
  {
   "cell_type": "code",
   "execution_count": null,
   "metadata": {},
   "outputs": [],
   "source": [
    "default_markers_df = pd.DataFrame(adata.obs['leiden'])\n",
    "default_markers_df = default_markers_df.rename(columns={'leiden': 'cluster'})\n",
    "default_markers_df.index.name = 'cell'\n",
    "default_markers_df['cluster'] = default_markers_df['cluster'].astype(int) + 1\n",
    "default_markers_df.to_csv(f'{default_path}/clustering_labels.csv', index=True)\n",
    "num_clusters_default = len(default_markers_df['cluster'].unique())"
   ]
  },
  {
   "cell_type": "markdown",
   "metadata": {},
   "source": [
    "## Differential expression on default clusters"
   ]
  },
  {
   "cell_type": "code",
   "execution_count": null,
   "metadata": {},
   "outputs": [],
   "source": [
    "sc.tl.rank_genes_groups(adata, 'leiden', method='wilcoxon') # default='t-test', wilcoxon suggested in the tutorial"
   ]
  },
  {
   "cell_type": "markdown",
   "metadata": {},
   "source": [
    "Save markers"
   ]
  },
  {
   "cell_type": "code",
   "execution_count": null,
   "metadata": {},
   "outputs": [],
   "source": [
    "default_markers_df = pd.DataFrame(columns=['gene', 'cluster', 'rank'])\n",
    "for i in range(num_clusters_default):\n",
    "    indices = np.argsort(adata.uns['rank_genes_groups']['pvals_adj'][str(i)])\n",
    "    genes = adata.uns['rank_genes_groups']['names'][str(i)][indices][:top_number_of_markers]\n",
    "    ranks = rankdata(adata.uns['rank_genes_groups']['pvals_adj'][str(i)][indices][:top_number_of_markers], method=\"ordinal\")\n",
    "    temp_df = pd.DataFrame(\n",
    "        np.column_stack((genes, [i+1 for _ in range(top_number_of_markers)], ranks)),\n",
    "        columns=['gene', 'cluster', 'rank']\n",
    "    )\n",
    "    default_markers_df = pd.concat([default_markers_df, temp_df], ignore_index=True)\n",
    "\n",
    "default_markers_df['cluster'] = default_markers_df['cluster'].astype(int)\n",
    "default_markers_df['rank'] = default_markers_df['rank'].astype(int)\n",
    "default_markers_df.to_csv(f'{default_path}/markers.csv', index=False)"
   ]
  },
  {
   "cell_type": "markdown",
   "metadata": {},
   "source": [
    "### Clustering tuning resolution according to celltypist"
   ]
  },
  {
   "cell_type": "code",
   "execution_count": null,
   "metadata": {},
   "outputs": [],
   "source": [
    "print(\"Nummber of clusters to find: {}\".format(nclusters_celltypist))"
   ]
  },
  {
   "cell_type": "markdown",
   "metadata": {},
   "source": [
    "Perform the clustering"
   ]
  },
  {
   "cell_type": "code",
   "execution_count": null,
   "metadata": {},
   "outputs": [],
   "source": [
    "sc.pp.neighbors(\n",
    "    adata,\n",
    "    n_pcs=10 # chosen based on elbow plot above\n",
    ")\n",
    "\n",
    "max_resolution = 3\n",
    "min_resolution = 0\n",
    "\n",
    "while True:\n",
    "    resolution = (max_resolution + min_resolution)/2\n",
    "    print(\"Trying resolution: {}\".format(resolution))\n",
    "    sc.tl.leiden(adata, key_added=\"leiden\", resolution=resolution)\n",
    "    num_clusters = adata.obs.leiden.values.categories.nunique()\n",
    "    print(\"Number of clusters found: {}\".format(num_clusters))\n",
    "\n",
    "    if num_clusters >= min_ncluster_celltypist and num_clusters <= max_ncluster_celltypist:\n",
    "        break\n",
    "    elif num_clusters <  min_ncluster_celltypist:\n",
    "        min_resolution = resolution\n",
    "    else:\n",
    "        max_resolution = resolution"
   ]
  },
  {
   "cell_type": "markdown",
   "metadata": {},
   "source": [
    "Visualize the clustering in the PCA space"
   ]
  },
  {
   "cell_type": "code",
   "execution_count": null,
   "metadata": {},
   "outputs": [],
   "source": [
    "sc.pl.pca(\n",
    "    adata,\n",
    "    color=['leiden'],\n",
    "    size=20\n",
    ")"
   ]
  },
  {
   "cell_type": "markdown",
   "metadata": {},
   "source": [
    "Save the clustering results"
   ]
  },
  {
   "cell_type": "code",
   "execution_count": null,
   "metadata": {},
   "outputs": [],
   "source": [
    "celltypist_markers_df = pd.DataFrame(adata.obs['leiden'])\n",
    "celltypist_markers_df = celltypist_markers_df.rename(columns={'leiden': 'cluster'})\n",
    "celltypist_markers_df.index.name = 'cell'\n",
    "celltypist_markers_df['cluster'] = celltypist_markers_df['cluster'].astype(int) + 1\n",
    "celltypist_markers_df.to_csv(f'{celltypist_path}/clustering_labels.csv', index=True)\n",
    "celltypist_num_clusters = len(celltypist_markers_df['cluster'].unique())"
   ]
  },
  {
   "cell_type": "markdown",
   "metadata": {},
   "source": [
    "## Differential expression on clusters tuned according to celltypist"
   ]
  },
  {
   "cell_type": "code",
   "execution_count": null,
   "metadata": {},
   "outputs": [],
   "source": [
    "sc.tl.rank_genes_groups(adata, 'leiden', method='wilcoxon') # default='t-test', wilcoxon suggested in the tutorial"
   ]
  },
  {
   "cell_type": "markdown",
   "metadata": {},
   "source": [
    "Save markers"
   ]
  },
  {
   "cell_type": "code",
   "execution_count": null,
   "metadata": {},
   "outputs": [],
   "source": [
    "celltypist_markers_df = pd.DataFrame(columns=['gene', 'cluster', 'rank'])\n",
    "for i in range(celltypist_num_clusters):\n",
    "    indices = np.argsort(adata.uns['rank_genes_groups']['pvals_adj'][str(i)])\n",
    "    genes = adata.uns['rank_genes_groups']['names'][str(i)][indices][:top_number_of_markers]\n",
    "    ranks = rankdata(adata.uns['rank_genes_groups']['pvals_adj'][str(i)][indices][:top_number_of_markers], method=\"ordinal\")\n",
    "    temp_df = pd.DataFrame(\n",
    "        np.column_stack((genes, [i+1 for _ in range(top_number_of_markers)], ranks)),\n",
    "        columns=['gene', 'cluster', 'rank']\n",
    "    )\n",
    "    celltypist_markers_df = pd.concat([celltypist_markers_df, temp_df], ignore_index=True)\n",
    "\n",
    "celltypist_markers_df['cluster'] = celltypist_markers_df['cluster'].astype(int)\n",
    "celltypist_markers_df['rank'] = celltypist_markers_df['rank'].astype(int)\n",
    "celltypist_markers_df.to_csv(f'{celltypist_path}/markers.csv', index=False)"
   ]
  }
 ],
 "metadata": {
  "kernelspec": {
   "display_name": "chl",
   "language": "python",
   "name": "python3"
  },
  "language_info": {
   "codemirror_mode": {
    "name": "ipython",
    "version": 3
   },
   "file_extension": ".py",
   "mimetype": "text/x-python",
   "name": "python",
   "nbconvert_exporter": "python",
   "pygments_lexer": "ipython3",
   "version": "3.11.5"
  },
  "orig_nbformat": 4
 },
 "nbformat": 4,
 "nbformat_minor": 2
}
