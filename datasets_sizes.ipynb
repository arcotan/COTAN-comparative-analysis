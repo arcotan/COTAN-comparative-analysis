{
 "cells": [
  {
   "cell_type": "code",
   "execution_count": 1,
   "metadata": {},
   "outputs": [],
   "source": [
    "import scanpy as sc\n",
    "import pandas as pd"
   ]
  },
  {
   "cell_type": "code",
   "execution_count": 2,
   "metadata": {},
   "outputs": [],
   "source": [
    "DATASET_DIR = \"./data\"\n",
    "DATASET_NAMES = [\"PBMC1\", \"PBMC2\", \"PBMC3\", \"PBMC4\"]"
   ]
  },
  {
   "cell_type": "code",
   "execution_count": 3,
   "metadata": {},
   "outputs": [
    {
     "name": "stderr",
     "output_type": "stream",
     "text": [
      "/Users/irenetesta/anaconda3/envs/chl/lib/python3.11/site-packages/anndata/_core/anndata.py:1113: FutureWarning: is_categorical_dtype is deprecated and will be removed in a future version. Use isinstance(dtype, CategoricalDtype) instead\n",
      "  if not is_categorical_dtype(df_full[k]):\n",
      "/Users/irenetesta/anaconda3/envs/chl/lib/python3.11/site-packages/anndata/_core/anndata.py:1113: FutureWarning: is_categorical_dtype is deprecated and will be removed in a future version. Use isinstance(dtype, CategoricalDtype) instead\n",
      "  if not is_categorical_dtype(df_full[k]):\n",
      "/Users/irenetesta/anaconda3/envs/chl/lib/python3.11/site-packages/anndata/_core/anndata.py:1113: FutureWarning: is_categorical_dtype is deprecated and will be removed in a future version. Use isinstance(dtype, CategoricalDtype) instead\n",
      "  if not is_categorical_dtype(df_full[k]):\n",
      "/Users/irenetesta/anaconda3/envs/chl/lib/python3.11/site-packages/anndata/_core/anndata.py:1113: FutureWarning: is_categorical_dtype is deprecated and will be removed in a future version. Use isinstance(dtype, CategoricalDtype) instead\n",
      "  if not is_categorical_dtype(df_full[k]):\n"
     ]
    },
    {
     "data": {
      "text/html": [
       "<div>\n",
       "<style scoped>\n",
       "    .dataframe tbody tr th:only-of-type {\n",
       "        vertical-align: middle;\n",
       "    }\n",
       "\n",
       "    .dataframe tbody tr th {\n",
       "        vertical-align: top;\n",
       "    }\n",
       "\n",
       "    .dataframe thead th {\n",
       "        text-align: right;\n",
       "    }\n",
       "</style>\n",
       "<table border=\"1\" class=\"dataframe\">\n",
       "  <thead>\n",
       "    <tr style=\"text-align: right;\">\n",
       "      <th></th>\n",
       "      <th># cells</th>\n",
       "      <th># cells after step filtering</th>\n",
       "      <th># genes</th>\n",
       "      <th># genes after filtering</th>\n",
       "    </tr>\n",
       "    <tr>\n",
       "      <th>name</th>\n",
       "      <th></th>\n",
       "      <th></th>\n",
       "      <th></th>\n",
       "      <th></th>\n",
       "    </tr>\n",
       "  </thead>\n",
       "  <tbody>\n",
       "    <tr>\n",
       "      <th>PBMC1</th>\n",
       "      <td>5527</td>\n",
       "      <td>3610</td>\n",
       "      <td>33538</td>\n",
       "      <td>14366</td>\n",
       "    </tr>\n",
       "    <tr>\n",
       "      <th>PBMC2</th>\n",
       "      <td>6574</td>\n",
       "      <td>5975</td>\n",
       "      <td>36601</td>\n",
       "      <td>13704</td>\n",
       "    </tr>\n",
       "    <tr>\n",
       "      <th>PBMC3</th>\n",
       "      <td>11715</td>\n",
       "      <td>10944</td>\n",
       "      <td>33538</td>\n",
       "      <td>13119</td>\n",
       "    </tr>\n",
       "    <tr>\n",
       "      <th>PBMC4</th>\n",
       "      <td>8258</td>\n",
       "      <td>6966</td>\n",
       "      <td>33538</td>\n",
       "      <td>13600</td>\n",
       "    </tr>\n",
       "  </tbody>\n",
       "</table>\n",
       "</div>"
      ],
      "text/plain": [
       "       # cells  # cells after step filtering  # genes  # genes after filtering\n",
       "name                                                                          \n",
       "PBMC1     5527                          3610    33538                    14366\n",
       "PBMC2     6574                          5975    36601                    13704\n",
       "PBMC3    11715                         10944    33538                    13119\n",
       "PBMC4     8258                          6966    33538                    13600"
      ]
     },
     "execution_count": 3,
     "metadata": {},
     "output_type": "execute_result"
    }
   ],
   "source": [
    "dims = {}\n",
    "dims['name'] = []\n",
    "dims['# cells'] = []\n",
    "dims['# cells after step filtering'] = []\n",
    "dims['# genes'] = []\n",
    "dims['# genes after filtering'] = []\n",
    "\n",
    "for dataset in DATASET_NAMES:\n",
    "    dataset_path = DATASET_DIR + \"/\" + dataset + \"/raw/10X\"\n",
    "    filtered_dataset_path = DATASET_DIR + \"/\" + dataset + \"/filtered/10X\"\n",
    "    adata = sc.read_10x_mtx(dataset_path, var_names=\"gene_symbols\", cache=False)\n",
    "    adata_filtered = sc.read_10x_mtx(filtered_dataset_path, var_names=\"gene_symbols\", cache=False)\n",
    "    dims['name'].append(dataset)\n",
    "    dims['# cells'].append(adata.shape[0])\n",
    "    dims['# cells after step filtering'].append(adata_filtered.shape[0])\n",
    "    dims['# genes'].append(adata.shape[1])\n",
    "    dims['# genes after filtering'].append(adata_filtered.shape[1])\n",
    "\n",
    "dims_df = pd.DataFrame(dims)\n",
    "dims_df.set_index('name', inplace=True)\n",
    "dims_df.to_csv(DATASET_DIR + \"/pbmcs_sizes.csv\", index=False)\n",
    "dims_df"
   ]
  }
 ],
 "metadata": {
  "kernelspec": {
   "display_name": "chl",
   "language": "python",
   "name": "python3"
  },
  "language_info": {
   "codemirror_mode": {
    "name": "ipython",
    "version": 3
   },
   "file_extension": ".py",
   "mimetype": "text/x-python",
   "name": "python",
   "nbconvert_exporter": "python",
   "pygments_lexer": "ipython3",
   "version": "3.11.5"
  },
  "orig_nbformat": 4
 },
 "nbformat": 4,
 "nbformat_minor": 2
}
