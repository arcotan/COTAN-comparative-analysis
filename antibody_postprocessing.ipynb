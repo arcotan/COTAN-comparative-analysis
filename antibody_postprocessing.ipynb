{
 "cells": [
  {
   "cell_type": "code",
   "execution_count": null,
   "metadata": {},
   "outputs": [],
   "source": [
    "import pandas as pd"
   ]
  },
  {
   "cell_type": "code",
   "execution_count": null,
   "metadata": {},
   "outputs": [],
   "source": [
    "DIR = './data/'\n",
    "CLUSTERS_TO_DROP = {'PBMC1': [], 'PBMC2': [], 'PBMC3': [], 'PBMC4': []}\n",
    "CLUSTERS_TO_RENAME = {'PBMC1': {}, 'PBMC2': {}, 'PBMC3': {}, 'PBMC4': {}}"
   ]
  },
  {
   "cell_type": "code",
   "execution_count": null,
   "metadata": {},
   "outputs": [],
   "source": [
    "for dataset_name, clusters in CLUSTERS_TO_DROP.items():\n",
    "    file_name = DIR + dataset_name + '/' + 'antibody_annotation/antibody_labels.csv'\n",
    "    labels_df = pd.read_csv(file_name)\n",
    "    for cluster in clusters:\n",
    "        labels_df = labels_df[labels_df['cluster.ids'] != cluster]\n",
    "    labels_df.replace({'cluster.ids': CLUSTERS_TO_RENAME[dataset_name]}, inplace=True)\n",
    "    labels_df.to_csv(DIR + dataset_name + '/' + 'antibody_annotation/antibody_labels_subset.csv', index=False)"
   ]
  }
 ],
 "metadata": {
  "kernelspec": {
   "display_name": "chl",
   "language": "python",
   "name": "python3"
  },
  "language_info": {
   "codemirror_mode": {
    "name": "ipython",
    "version": 3
   },
   "file_extension": ".py",
   "mimetype": "text/x-python",
   "name": "python",
   "nbconvert_exporter": "python",
   "pygments_lexer": "ipython3",
   "version": "3.11.5"
  },
  "orig_nbformat": 4
 },
 "nbformat": 4,
 "nbformat_minor": 2
}
