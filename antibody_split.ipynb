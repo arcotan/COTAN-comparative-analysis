{
 "cells": [
  {
   "cell_type": "code",
   "execution_count": 1,
   "metadata": {},
   "outputs": [],
   "source": [
    "import pandas as pd"
   ]
  },
  {
   "cell_type": "code",
   "execution_count": 2,
   "metadata": {},
   "outputs": [],
   "source": [
    "DIR = './data/'\n",
    "DATASET_NAMES = ['PBMC1', 'PBMC2', 'PBMC3', 'PBMC4']\n",
    "for dataset_name in DATASET_NAMES:\n",
    "    file = DIR + dataset_name + '/antibody_annotation/antibody_labels_postproc.csv'\n",
    "    df = pd.read_csv(file)\n",
    "    df_train = df.groupby('cluster.ids').apply(lambda x: x.sample(frac=0.8)).reset_index(drop=True)\n",
    "    df_test = df[~df.index.isin(df_train.index)]\n",
    "    df_train.to_csv(DIR + dataset_name + '/antibody_annotation/antibody_labels_train.csv', index=False)\n",
    "    df_test.to_csv(DIR + dataset_name + '/antibody_annotation/antibody_labels_test.csv', index=False)"
   ]
  }
 ],
 "metadata": {
  "kernelspec": {
   "display_name": "chl",
   "language": "python",
   "name": "python3"
  },
  "language_info": {
   "codemirror_mode": {
    "name": "ipython",
    "version": 3
   },
   "file_extension": ".py",
   "mimetype": "text/x-python",
   "name": "python",
   "nbconvert_exporter": "python",
   "pygments_lexer": "ipython3",
   "version": "3.11.5"
  },
  "orig_nbformat": 4
 },
 "nbformat": 4,
 "nbformat_minor": 2
}
