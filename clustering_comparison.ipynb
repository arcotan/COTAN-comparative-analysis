{
 "cells": [
  {
   "cell_type": "code",
   "execution_count": 1,
   "metadata": {},
   "outputs": [],
   "source": [
    "import pandas as pd\n",
    "import scanpy as sc\n",
    "from sklearn.metrics.cluster import normalized_mutual_info_score, adjusted_rand_score\n",
    "from sklearn.metrics import homogeneity_score, completeness_score, v_measure_score, fowlkes_mallows_score, silhouette_score\n",
    "from utils import sankey_plot"
   ]
  },
  {
   "cell_type": "code",
   "execution_count": 2,
   "metadata": {},
   "outputs": [],
   "source": [
    "DIR = './data/'\n",
    "DATASET_NAMES = ['PBMC1', 'PBMC2', 'PBMC3', 'PBMC4']\n",
    "TOOLS = ['monocle', 'scanpy', 'scvi-tools', 'seurat', 'COTAN']\n",
    "PARAMS_TUNING = ['default', 'celltypist']#, 'antibody']"
   ]
  },
  {
   "cell_type": "code",
   "execution_count": 3,
   "metadata": {},
   "outputs": [],
   "source": [
    "def compute_scores(dir, dataset, labels_df, labels_matched, ground_truth_labels):\n",
    "    scores = {}\n",
    "    scores['NMI'] = {}\n",
    "    scores['ARI'] = {}\n",
    "    scores['homogeneity'] = {}\n",
    "    scores['completeness'] = {}\n",
    "    scores['v_measure'] = {}\n",
    "    scores['fowlkes_mallows'] = {}\n",
    "    for tool in TOOLS:\n",
    "        scores['NMI'][tool] = normalized_mutual_info_score(labels_pred=labels_df['cluster_'+tool], labels_true=labels_df[f'cluster_{ground_truth_labels}'], average_method='arithmetic')\n",
    "        scores['ARI'][tool] = adjusted_rand_score(labels_pred=labels_df['cluster_'+tool], labels_true=labels_df[f'cluster_{ground_truth_labels}'])\n",
    "        scores['homogeneity'][tool] = homogeneity_score(labels_pred=labels_df['cluster_'+tool], labels_true=labels_df[f'cluster_{ground_truth_labels}'])\n",
    "        scores['completeness'][tool] = completeness_score(labels_pred=labels_df['cluster_'+tool], labels_true=labels_df[f'cluster_{ground_truth_labels}'])\n",
    "        scores['v_measure'][tool] = v_measure_score(labels_pred=labels_df['cluster_'+tool], labels_true=labels_df[f'cluster_{ground_truth_labels}'])\n",
    "        scores['fowlkes_mallows'][tool] = fowlkes_mallows_score(labels_pred=labels_df['cluster_'+tool], labels_true=labels_df[f'cluster_{ground_truth_labels}'])\n",
    "    scores_df = pd.DataFrame(scores)\n",
    "    scores_df.to_csv(f'{dir}{dataset}/scores_{labels_matched}_{ground_truth_labels}.csv')\n",
    "    scores_df.to_latex(f'{dir}{dataset}/scores_{labels_matched}_{ground_truth_labels}.tex')\n",
    "    display(scores_df)"
   ]
  },
  {
   "cell_type": "code",
   "execution_count": 4,
   "metadata": {},
   "outputs": [
    {
     "name": "stdout",
     "output_type": "stream",
     "text": [
      "------------------------------\n",
      "PBMC1 - default labels\n"
     ]
    },
    {
     "name": "stderr",
     "output_type": "stream",
     "text": [
      "/Users/irenetesta/anaconda3/envs/chl/lib/python3.11/site-packages/anndata/_core/anndata.py:1113: FutureWarning:\n",
      "\n",
      "is_categorical_dtype is deprecated and will be removed in a future version. Use isinstance(dtype, CategoricalDtype) instead\n",
      "\n"
     ]
    },
    {
     "data": {
      "text/html": [
       "<div>\n",
       "<style scoped>\n",
       "    .dataframe tbody tr th:only-of-type {\n",
       "        vertical-align: middle;\n",
       "    }\n",
       "\n",
       "    .dataframe tbody tr th {\n",
       "        vertical-align: top;\n",
       "    }\n",
       "\n",
       "    .dataframe thead th {\n",
       "        text-align: right;\n",
       "    }\n",
       "</style>\n",
       "<table border=\"1\" class=\"dataframe\">\n",
       "  <thead>\n",
       "    <tr style=\"text-align: right;\">\n",
       "      <th></th>\n",
       "      <th>NMI</th>\n",
       "      <th>ARI</th>\n",
       "      <th>homogeneity</th>\n",
       "      <th>completeness</th>\n",
       "      <th>v_measure</th>\n",
       "      <th>fowlkes_mallows</th>\n",
       "    </tr>\n",
       "  </thead>\n",
       "  <tbody>\n",
       "    <tr>\n",
       "      <th>monocle</th>\n",
       "      <td>0.586477</td>\n",
       "      <td>0.434154</td>\n",
       "      <td>0.419100</td>\n",
       "      <td>0.976441</td>\n",
       "      <td>0.586477</td>\n",
       "      <td>0.641586</td>\n",
       "    </tr>\n",
       "    <tr>\n",
       "      <th>scanpy</th>\n",
       "      <td>0.707991</td>\n",
       "      <td>0.363700</td>\n",
       "      <td>0.821675</td>\n",
       "      <td>0.621941</td>\n",
       "      <td>0.707991</td>\n",
       "      <td>0.483365</td>\n",
       "    </tr>\n",
       "    <tr>\n",
       "      <th>scvi-tools</th>\n",
       "      <td>0.740929</td>\n",
       "      <td>0.538885</td>\n",
       "      <td>0.776916</td>\n",
       "      <td>0.708127</td>\n",
       "      <td>0.740929</td>\n",
       "      <td>0.623053</td>\n",
       "    </tr>\n",
       "    <tr>\n",
       "      <th>seurat</th>\n",
       "      <td>0.770234</td>\n",
       "      <td>0.588503</td>\n",
       "      <td>0.770632</td>\n",
       "      <td>0.769836</td>\n",
       "      <td>0.770234</td>\n",
       "      <td>0.661907</td>\n",
       "    </tr>\n",
       "    <tr>\n",
       "      <th>COTAN</th>\n",
       "      <td>0.756537</td>\n",
       "      <td>0.564212</td>\n",
       "      <td>0.825744</td>\n",
       "      <td>0.698034</td>\n",
       "      <td>0.756537</td>\n",
       "      <td>0.646916</td>\n",
       "    </tr>\n",
       "  </tbody>\n",
       "</table>\n",
       "</div>"
      ],
      "text/plain": [
       "                 NMI       ARI  homogeneity  completeness  v_measure  \\\n",
       "monocle     0.586477  0.434154     0.419100      0.976441   0.586477   \n",
       "scanpy      0.707991  0.363700     0.821675      0.621941   0.707991   \n",
       "scvi-tools  0.740929  0.538885     0.776916      0.708127   0.740929   \n",
       "seurat      0.770234  0.588503     0.770632      0.769836   0.770234   \n",
       "COTAN       0.756537  0.564212     0.825744      0.698034   0.756537   \n",
       "\n",
       "            fowlkes_mallows  \n",
       "monocle            0.641586  \n",
       "scanpy             0.483365  \n",
       "scvi-tools         0.623053  \n",
       "seurat             0.661907  \n",
       "COTAN              0.646916  "
      ]
     },
     "metadata": {},
     "output_type": "display_data"
    },
    {
     "data": {
      "application/vnd.plotly.v1+json": {
       "config": {
        "plotlyServerURL": "https://plot.ly"
       },
       "data": [
        {
         "link": {
          "source": [
           0,
           0,
           0,
           0,
           0,
           0,
           0,
           0,
           0,
           0,
           1,
           1,
           1,
           1,
           1,
           1,
           1,
           1,
           1,
           1,
           2,
           2,
           2,
           3,
           3,
           3,
           3,
           3,
           3,
           4,
           4,
           4,
           4,
           4,
           5,
           5,
           5,
           6,
           6,
           6,
           6,
           7,
           7,
           7,
           7,
           7,
           7,
           8,
           8,
           9,
           9,
           10,
           10,
           10,
           10,
           10,
           11,
           12,
           12,
           12,
           12,
           12,
           13,
           13,
           13,
           13,
           13,
           14,
           14,
           14,
           15,
           15,
           15,
           15,
           16,
           16,
           16,
           16,
           17,
           18,
           18,
           18,
           18,
           19,
           19,
           20,
           21,
           21,
           21,
           22,
           22,
           22,
           23,
           23,
           23,
           23,
           24,
           24,
           24,
           25,
           25,
           25,
           25,
           25,
           26,
           26,
           26,
           27,
           27,
           27,
           27,
           27,
           28,
           28,
           29,
           29,
           30,
           30,
           30,
           31,
           31,
           32,
           32,
           33,
           33,
           34,
           34,
           34,
           34,
           34,
           34,
           35,
           35,
           35,
           35,
           35,
           35,
           35,
           35,
           36,
           36,
           36,
           36,
           37,
           37,
           37,
           38,
           38,
           38,
           38,
           38,
           38,
           39,
           39,
           39,
           39,
           40,
           40,
           41,
           42,
           42,
           42,
           42,
           42,
           43,
           43,
           44,
           45,
           46,
           46,
           46,
           46,
           46,
           47,
           47,
           48,
           48,
           49,
           49,
           50,
           50,
           50,
           51,
           52,
           52,
           53,
           53,
           54,
           54,
           54,
           55,
           55,
           55,
           55,
           55,
           55,
           56,
           56,
           56,
           56,
           56,
           56,
           57,
           57,
           57,
           57,
           57,
           57,
           57,
           57,
           57,
           58,
           58,
           58,
           59,
           59,
           59,
           60,
           61,
           61,
           61,
           61,
           61,
           61,
           62,
           62,
           62,
           62,
           63,
           63,
           63,
           63
          ],
          "target": [
           3,
           4,
           6,
           7,
           8,
           10,
           12,
           14,
           16,
           18,
           3,
           4,
           5,
           7,
           9,
           11,
           15,
           17,
           19,
           20,
           12,
           13,
           15,
           22,
           23,
           24,
           27,
           31,
           32,
           22,
           23,
           24,
           31,
           32,
           21,
           25,
           30,
           22,
           24,
           31,
           32,
           21,
           23,
           25,
           26,
           27,
           30,
           26,
           27,
           21,
           25,
           22,
           23,
           24,
           31,
           32,
           21,
           22,
           23,
           26,
           27,
           31,
           21,
           25,
           27,
           28,
           29,
           23,
           27,
           32,
           21,
           25,
           28,
           29,
           22,
           23,
           24,
           27,
           25,
           22,
           24,
           31,
           32,
           25,
           30,
           33,
           36,
           37,
           40,
           34,
           35,
           39,
           34,
           35,
           36,
           39,
           34,
           35,
           39,
           35,
           36,
           37,
           42,
           43,
           36,
           38,
           39,
           35,
           36,
           38,
           39,
           41,
           40,
           41,
           40,
           41,
           36,
           37,
           43,
           34,
           39,
           34,
           35,
           43,
           44,
           48,
           54,
           55,
           56,
           57,
           58,
           48,
           54,
           55,
           56,
           57,
           58,
           59,
           61,
           45,
           48,
           49,
           50,
           47,
           49,
           50,
           56,
           57,
           60,
           61,
           62,
           63,
           56,
           57,
           61,
           62,
           52,
           53,
           53,
           46,
           47,
           49,
           50,
           55,
           46,
           50,
           51,
           66,
           66,
           67,
           68,
           74,
           82,
           66,
           74,
           66,
           71,
           66,
           74,
           66,
           68,
           74,
           82,
           72,
           73,
           72,
           73,
           65,
           77,
           78,
           65,
           71,
           74,
           77,
           78,
           81,
           64,
           65,
           66,
           70,
           78,
           81,
           64,
           65,
           69,
           70,
           76,
           78,
           79,
           80,
           81,
           70,
           78,
           79,
           76,
           78,
           79,
           75,
           64,
           65,
           77,
           78,
           80,
           81,
           64,
           66,
           75,
           80,
           64,
           73,
           75,
           80
          ],
          "value": [
           400,
           329,
           286,
           9,
           268,
           254,
           182,
           149,
           106,
           77,
           2,
           2,
           323,
           259,
           268,
           200,
           2,
           91,
           76,
           28,
           1,
           159,
           139,
           39,
           312,
           23,
           7,
           1,
           20,
           148,
           7,
           167,
           4,
           5,
           80,
           225,
           18,
           142,
           138,
           3,
           3,
           227,
           1,
           29,
           5,
           5,
           1,
           266,
           2,
           216,
           52,
           140,
           2,
           98,
           2,
           12,
           200,
           1,
           10,
           23,
           148,
           1,
           1,
           1,
           1,
           14,
           142,
           123,
           25,
           1,
           1,
           1,
           138,
           1,
           2,
           10,
           4,
           90,
           91,
           4,
           1,
           71,
           1,
           1,
           75,
           28,
           557,
           167,
           1,
           409,
           64,
           3,
           3,
           456,
           1,
           5,
           380,
           49,
           2,
           1,
           48,
           221,
           129,
           1,
           4,
           278,
           12,
           32,
           5,
           2,
           238,
           1,
           10,
           142,
           142,
           1,
           1,
           20,
           73,
           81,
           1,
           16,
           26,
           1,
           27,
           1,
           790,
           88,
           6,
           3,
           1,
           1,
           39,
           5,
           33,
           482,
           27,
           27,
           14,
           35,
           272,
           292,
           17,
           4,
           176,
           228,
           2,
           1,
           2,
           2,
           152,
           121,
           1,
           3,
           256,
           1,
           152,
           1,
           144,
           1,
           118,
           1,
           8,
           1,
           74,
           1,
           27,
           35,
           1,
           1,
           71,
           1,
           1,
           14,
           108,
           272,
           2,
           467,
           2,
           246,
           6,
           2,
           27,
           151,
           1,
           2,
           143,
           3,
           5,
           821,
           4,
           1,
           1,
           79,
           5,
           4,
           3,
           2,
           1,
           1,
           34,
           1,
           1,
           1,
           54,
           1,
           10,
           189,
           177,
           1,
           55,
           1,
           25,
           2,
           24,
           2,
           1,
           2,
           4,
           18,
           1,
           2,
           102,
           145,
           148,
           1,
           2,
           2,
           114,
           1,
           4,
           2
          ]
         },
         "node": {
          "color": [
           "#1f77b4",
           "#ff7f0e",
           "#2ca02c",
           "#d62728",
           "#9467bd",
           "#8c564b",
           "#e377c2",
           "#7f7f7f",
           "#bcbd22",
           "#17becf",
           "#1f77b4",
           "#ff7f0e",
           "#2ca02c",
           "#d62728",
           "#9467bd",
           "#8c564b",
           "#e377c2",
           "#7f7f7f",
           "#bcbd22",
           "#17becf",
           "#1f77b4",
           "#ff7f0e",
           "#2ca02c",
           "#d62728",
           "#9467bd",
           "#8c564b",
           "#e377c2",
           "#7f7f7f",
           "#bcbd22",
           "#17becf",
           "#1f77b4",
           "#ff7f0e",
           "#2ca02c",
           "#d62728",
           "#9467bd",
           "#8c564b",
           "#e377c2",
           "#7f7f7f",
           "#bcbd22",
           "#17becf",
           "#1f77b4",
           "#ff7f0e",
           "#2ca02c",
           "#d62728",
           "#9467bd",
           "#8c564b",
           "#e377c2",
           "#7f7f7f",
           "#bcbd22",
           "#17becf",
           "#1f77b4",
           "#ff7f0e",
           "#2ca02c",
           "#d62728",
           "#9467bd",
           "#8c564b",
           "#e377c2",
           "#7f7f7f",
           "#bcbd22",
           "#17becf",
           "#1f77b4",
           "#ff7f0e",
           "#2ca02c",
           "#d62728",
           "#9467bd",
           "#8c564b",
           "#e377c2",
           "#7f7f7f",
           "#bcbd22",
           "#17becf",
           "#1f77b4",
           "#ff7f0e",
           "#2ca02c",
           "#d62728",
           "#9467bd",
           "#8c564b",
           "#e377c2",
           "#7f7f7f",
           "#bcbd22",
           "#17becf",
           "#1f77b4",
           "#ff7f0e",
           "#2ca02c"
          ],
          "label": [
           1,
           2,
           3,
           1,
           2,
           3,
           4,
           5,
           6,
           7,
           8,
           9,
           10,
           11,
           12,
           13,
           14,
           15,
           16,
           17,
           18,
           1,
           2,
           3,
           4,
           5,
           6,
           7,
           8,
           9,
           10,
           11,
           12,
           13,
           1,
           2,
           3,
           4,
           5,
           6,
           7,
           8,
           9,
           10,
           11,
           1,
           2,
           3,
           4,
           5,
           6,
           7,
           8,
           9,
           10,
           11,
           12,
           13,
           14,
           15,
           16,
           17,
           18,
           19,
           "CD16+ NK cells",
           "CD8a/a",
           "Classical monocytes",
           "DC1",
           "DC2",
           "MAIT cells",
           "Megakaryocyte precursor",
           "Megakaryocytes/platelets",
           "Memory B cells",
           "Naive B cells",
           "Non-classical monocytes",
           "Plasmablasts",
           "Regulatory T cells",
           "Tcm/Naive cytotoxic T cells",
           "Tcm/Naive helper T cells",
           "Tem/Effector helper T cells",
           "Tem/Temra cytotoxic T cells",
           "Tem/Trm cytotoxic T cells",
           "pDC"
          ],
          "line": {
           "color": "black",
           "width": 0.5
          },
          "pad": 15,
          "thickness": 20
         },
         "type": "sankey"
        }
       ],
       "layout": {
        "annotations": [
         {
          "showarrow": false,
          "text": "monocle",
          "x": 0,
          "xref": "x",
          "y": 1.05,
          "yref": "paper"
         },
         {
          "showarrow": false,
          "text": "scanpy",
          "x": 1,
          "xref": "x",
          "y": 1.05,
          "yref": "paper"
         },
         {
          "showarrow": false,
          "text": "scvi-tools",
          "x": 2,
          "xref": "x",
          "y": 1.05,
          "yref": "paper"
         },
         {
          "showarrow": false,
          "text": "seurat",
          "x": 3,
          "xref": "x",
          "y": 1.05,
          "yref": "paper"
         },
         {
          "showarrow": false,
          "text": "COTAN",
          "x": 4,
          "xref": "x",
          "y": 1.05,
          "yref": "paper"
         },
         {
          "showarrow": false,
          "text": "celltypist",
          "x": 5,
          "xref": "x",
          "y": 1.05,
          "yref": "paper"
         }
        ],
        "font": {
         "size": 10
        },
        "plot_bgcolor": "rgba(0,0,0,0)",
        "template": {
         "data": {
          "bar": [
           {
            "error_x": {
             "color": "#2a3f5f"
            },
            "error_y": {
             "color": "#2a3f5f"
            },
            "marker": {
             "line": {
              "color": "#E5ECF6",
              "width": 0.5
             },
             "pattern": {
              "fillmode": "overlay",
              "size": 10,
              "solidity": 0.2
             }
            },
            "type": "bar"
           }
          ],
          "barpolar": [
           {
            "marker": {
             "line": {
              "color": "#E5ECF6",
              "width": 0.5
             },
             "pattern": {
              "fillmode": "overlay",
              "size": 10,
              "solidity": 0.2
             }
            },
            "type": "barpolar"
           }
          ],
          "carpet": [
           {
            "aaxis": {
             "endlinecolor": "#2a3f5f",
             "gridcolor": "white",
             "linecolor": "white",
             "minorgridcolor": "white",
             "startlinecolor": "#2a3f5f"
            },
            "baxis": {
             "endlinecolor": "#2a3f5f",
             "gridcolor": "white",
             "linecolor": "white",
             "minorgridcolor": "white",
             "startlinecolor": "#2a3f5f"
            },
            "type": "carpet"
           }
          ],
          "choropleth": [
           {
            "colorbar": {
             "outlinewidth": 0,
             "ticks": ""
            },
            "type": "choropleth"
           }
          ],
          "contour": [
           {
            "colorbar": {
             "outlinewidth": 0,
             "ticks": ""
            },
            "colorscale": [
             [
              0,
              "#0d0887"
             ],
             [
              0.1111111111111111,
              "#46039f"
             ],
             [
              0.2222222222222222,
              "#7201a8"
             ],
             [
              0.3333333333333333,
              "#9c179e"
             ],
             [
              0.4444444444444444,
              "#bd3786"
             ],
             [
              0.5555555555555556,
              "#d8576b"
             ],
             [
              0.6666666666666666,
              "#ed7953"
             ],
             [
              0.7777777777777778,
              "#fb9f3a"
             ],
             [
              0.8888888888888888,
              "#fdca26"
             ],
             [
              1,
              "#f0f921"
             ]
            ],
            "type": "contour"
           }
          ],
          "contourcarpet": [
           {
            "colorbar": {
             "outlinewidth": 0,
             "ticks": ""
            },
            "type": "contourcarpet"
           }
          ],
          "heatmap": [
           {
            "colorbar": {
             "outlinewidth": 0,
             "ticks": ""
            },
            "colorscale": [
             [
              0,
              "#0d0887"
             ],
             [
              0.1111111111111111,
              "#46039f"
             ],
             [
              0.2222222222222222,
              "#7201a8"
             ],
             [
              0.3333333333333333,
              "#9c179e"
             ],
             [
              0.4444444444444444,
              "#bd3786"
             ],
             [
              0.5555555555555556,
              "#d8576b"
             ],
             [
              0.6666666666666666,
              "#ed7953"
             ],
             [
              0.7777777777777778,
              "#fb9f3a"
             ],
             [
              0.8888888888888888,
              "#fdca26"
             ],
             [
              1,
              "#f0f921"
             ]
            ],
            "type": "heatmap"
           }
          ],
          "heatmapgl": [
           {
            "colorbar": {
             "outlinewidth": 0,
             "ticks": ""
            },
            "colorscale": [
             [
              0,
              "#0d0887"
             ],
             [
              0.1111111111111111,
              "#46039f"
             ],
             [
              0.2222222222222222,
              "#7201a8"
             ],
             [
              0.3333333333333333,
              "#9c179e"
             ],
             [
              0.4444444444444444,
              "#bd3786"
             ],
             [
              0.5555555555555556,
              "#d8576b"
             ],
             [
              0.6666666666666666,
              "#ed7953"
             ],
             [
              0.7777777777777778,
              "#fb9f3a"
             ],
             [
              0.8888888888888888,
              "#fdca26"
             ],
             [
              1,
              "#f0f921"
             ]
            ],
            "type": "heatmapgl"
           }
          ],
          "histogram": [
           {
            "marker": {
             "pattern": {
              "fillmode": "overlay",
              "size": 10,
              "solidity": 0.2
             }
            },
            "type": "histogram"
           }
          ],
          "histogram2d": [
           {
            "colorbar": {
             "outlinewidth": 0,
             "ticks": ""
            },
            "colorscale": [
             [
              0,
              "#0d0887"
             ],
             [
              0.1111111111111111,
              "#46039f"
             ],
             [
              0.2222222222222222,
              "#7201a8"
             ],
             [
              0.3333333333333333,
              "#9c179e"
             ],
             [
              0.4444444444444444,
              "#bd3786"
             ],
             [
              0.5555555555555556,
              "#d8576b"
             ],
             [
              0.6666666666666666,
              "#ed7953"
             ],
             [
              0.7777777777777778,
              "#fb9f3a"
             ],
             [
              0.8888888888888888,
              "#fdca26"
             ],
             [
              1,
              "#f0f921"
             ]
            ],
            "type": "histogram2d"
           }
          ],
          "histogram2dcontour": [
           {
            "colorbar": {
             "outlinewidth": 0,
             "ticks": ""
            },
            "colorscale": [
             [
              0,
              "#0d0887"
             ],
             [
              0.1111111111111111,
              "#46039f"
             ],
             [
              0.2222222222222222,
              "#7201a8"
             ],
             [
              0.3333333333333333,
              "#9c179e"
             ],
             [
              0.4444444444444444,
              "#bd3786"
             ],
             [
              0.5555555555555556,
              "#d8576b"
             ],
             [
              0.6666666666666666,
              "#ed7953"
             ],
             [
              0.7777777777777778,
              "#fb9f3a"
             ],
             [
              0.8888888888888888,
              "#fdca26"
             ],
             [
              1,
              "#f0f921"
             ]
            ],
            "type": "histogram2dcontour"
           }
          ],
          "mesh3d": [
           {
            "colorbar": {
             "outlinewidth": 0,
             "ticks": ""
            },
            "type": "mesh3d"
           }
          ],
          "parcoords": [
           {
            "line": {
             "colorbar": {
              "outlinewidth": 0,
              "ticks": ""
             }
            },
            "type": "parcoords"
           }
          ],
          "pie": [
           {
            "automargin": true,
            "type": "pie"
           }
          ],
          "scatter": [
           {
            "fillpattern": {
             "fillmode": "overlay",
             "size": 10,
             "solidity": 0.2
            },
            "type": "scatter"
           }
          ],
          "scatter3d": [
           {
            "line": {
             "colorbar": {
              "outlinewidth": 0,
              "ticks": ""
             }
            },
            "marker": {
             "colorbar": {
              "outlinewidth": 0,
              "ticks": ""
             }
            },
            "type": "scatter3d"
           }
          ],
          "scattercarpet": [
           {
            "marker": {
             "colorbar": {
              "outlinewidth": 0,
              "ticks": ""
             }
            },
            "type": "scattercarpet"
           }
          ],
          "scattergeo": [
           {
            "marker": {
             "colorbar": {
              "outlinewidth": 0,
              "ticks": ""
             }
            },
            "type": "scattergeo"
           }
          ],
          "scattergl": [
           {
            "marker": {
             "colorbar": {
              "outlinewidth": 0,
              "ticks": ""
             }
            },
            "type": "scattergl"
           }
          ],
          "scattermapbox": [
           {
            "marker": {
             "colorbar": {
              "outlinewidth": 0,
              "ticks": ""
             }
            },
            "type": "scattermapbox"
           }
          ],
          "scatterpolar": [
           {
            "marker": {
             "colorbar": {
              "outlinewidth": 0,
              "ticks": ""
             }
            },
            "type": "scatterpolar"
           }
          ],
          "scatterpolargl": [
           {
            "marker": {
             "colorbar": {
              "outlinewidth": 0,
              "ticks": ""
             }
            },
            "type": "scatterpolargl"
           }
          ],
          "scatterternary": [
           {
            "marker": {
             "colorbar": {
              "outlinewidth": 0,
              "ticks": ""
             }
            },
            "type": "scatterternary"
           }
          ],
          "surface": [
           {
            "colorbar": {
             "outlinewidth": 0,
             "ticks": ""
            },
            "colorscale": [
             [
              0,
              "#0d0887"
             ],
             [
              0.1111111111111111,
              "#46039f"
             ],
             [
              0.2222222222222222,
              "#7201a8"
             ],
             [
              0.3333333333333333,
              "#9c179e"
             ],
             [
              0.4444444444444444,
              "#bd3786"
             ],
             [
              0.5555555555555556,
              "#d8576b"
             ],
             [
              0.6666666666666666,
              "#ed7953"
             ],
             [
              0.7777777777777778,
              "#fb9f3a"
             ],
             [
              0.8888888888888888,
              "#fdca26"
             ],
             [
              1,
              "#f0f921"
             ]
            ],
            "type": "surface"
           }
          ],
          "table": [
           {
            "cells": {
             "fill": {
              "color": "#EBF0F8"
             },
             "line": {
              "color": "white"
             }
            },
            "header": {
             "fill": {
              "color": "#C8D4E3"
             },
             "line": {
              "color": "white"
             }
            },
            "type": "table"
           }
          ]
         },
         "layout": {
          "annotationdefaults": {
           "arrowcolor": "#2a3f5f",
           "arrowhead": 0,
           "arrowwidth": 1
          },
          "autotypenumbers": "strict",
          "coloraxis": {
           "colorbar": {
            "outlinewidth": 0,
            "ticks": ""
           }
          },
          "colorscale": {
           "diverging": [
            [
             0,
             "#8e0152"
            ],
            [
             0.1,
             "#c51b7d"
            ],
            [
             0.2,
             "#de77ae"
            ],
            [
             0.3,
             "#f1b6da"
            ],
            [
             0.4,
             "#fde0ef"
            ],
            [
             0.5,
             "#f7f7f7"
            ],
            [
             0.6,
             "#e6f5d0"
            ],
            [
             0.7,
             "#b8e186"
            ],
            [
             0.8,
             "#7fbc41"
            ],
            [
             0.9,
             "#4d9221"
            ],
            [
             1,
             "#276419"
            ]
           ],
           "sequential": [
            [
             0,
             "#0d0887"
            ],
            [
             0.1111111111111111,
             "#46039f"
            ],
            [
             0.2222222222222222,
             "#7201a8"
            ],
            [
             0.3333333333333333,
             "#9c179e"
            ],
            [
             0.4444444444444444,
             "#bd3786"
            ],
            [
             0.5555555555555556,
             "#d8576b"
            ],
            [
             0.6666666666666666,
             "#ed7953"
            ],
            [
             0.7777777777777778,
             "#fb9f3a"
            ],
            [
             0.8888888888888888,
             "#fdca26"
            ],
            [
             1,
             "#f0f921"
            ]
           ],
           "sequentialminus": [
            [
             0,
             "#0d0887"
            ],
            [
             0.1111111111111111,
             "#46039f"
            ],
            [
             0.2222222222222222,
             "#7201a8"
            ],
            [
             0.3333333333333333,
             "#9c179e"
            ],
            [
             0.4444444444444444,
             "#bd3786"
            ],
            [
             0.5555555555555556,
             "#d8576b"
            ],
            [
             0.6666666666666666,
             "#ed7953"
            ],
            [
             0.7777777777777778,
             "#fb9f3a"
            ],
            [
             0.8888888888888888,
             "#fdca26"
            ],
            [
             1,
             "#f0f921"
            ]
           ]
          },
          "colorway": [
           "#636efa",
           "#EF553B",
           "#00cc96",
           "#ab63fa",
           "#FFA15A",
           "#19d3f3",
           "#FF6692",
           "#B6E880",
           "#FF97FF",
           "#FECB52"
          ],
          "font": {
           "color": "#2a3f5f"
          },
          "geo": {
           "bgcolor": "white",
           "lakecolor": "white",
           "landcolor": "#E5ECF6",
           "showlakes": true,
           "showland": true,
           "subunitcolor": "white"
          },
          "hoverlabel": {
           "align": "left"
          },
          "hovermode": "closest",
          "mapbox": {
           "style": "light"
          },
          "paper_bgcolor": "white",
          "plot_bgcolor": "#E5ECF6",
          "polar": {
           "angularaxis": {
            "gridcolor": "white",
            "linecolor": "white",
            "ticks": ""
           },
           "bgcolor": "#E5ECF6",
           "radialaxis": {
            "gridcolor": "white",
            "linecolor": "white",
            "ticks": ""
           }
          },
          "scene": {
           "xaxis": {
            "backgroundcolor": "#E5ECF6",
            "gridcolor": "white",
            "gridwidth": 2,
            "linecolor": "white",
            "showbackground": true,
            "ticks": "",
            "zerolinecolor": "white"
           },
           "yaxis": {
            "backgroundcolor": "#E5ECF6",
            "gridcolor": "white",
            "gridwidth": 2,
            "linecolor": "white",
            "showbackground": true,
            "ticks": "",
            "zerolinecolor": "white"
           },
           "zaxis": {
            "backgroundcolor": "#E5ECF6",
            "gridcolor": "white",
            "gridwidth": 2,
            "linecolor": "white",
            "showbackground": true,
            "ticks": "",
            "zerolinecolor": "white"
           }
          },
          "shapedefaults": {
           "line": {
            "color": "#2a3f5f"
           }
          },
          "ternary": {
           "aaxis": {
            "gridcolor": "white",
            "linecolor": "white",
            "ticks": ""
           },
           "baxis": {
            "gridcolor": "white",
            "linecolor": "white",
            "ticks": ""
           },
           "bgcolor": "#E5ECF6",
           "caxis": {
            "gridcolor": "white",
            "linecolor": "white",
            "ticks": ""
           }
          },
          "title": {
           "x": 0.05
          },
          "xaxis": {
           "automargin": true,
           "gridcolor": "white",
           "linecolor": "white",
           "ticks": "",
           "title": {
            "standoff": 15
           },
           "zerolinecolor": "white",
           "zerolinewidth": 2
          },
          "yaxis": {
           "automargin": true,
           "gridcolor": "white",
           "linecolor": "white",
           "ticks": "",
           "title": {
            "standoff": 15
           },
           "zerolinecolor": "white",
           "zerolinewidth": 2
          }
         }
        },
        "title": {
         "text": "PBMC1 - default labels"
        },
        "xaxis": {
         "showgrid": false,
         "visible": false,
         "zeroline": false
        },
        "yaxis": {
         "showgrid": false,
         "visible": false,
         "zeroline": false
        }
       }
      }
     },
     "metadata": {},
     "output_type": "display_data"
    },
    {
     "data": {
      "text/html": [
       "<div>\n",
       "<style scoped>\n",
       "    .dataframe tbody tr th:only-of-type {\n",
       "        vertical-align: middle;\n",
       "    }\n",
       "\n",
       "    .dataframe tbody tr th {\n",
       "        vertical-align: top;\n",
       "    }\n",
       "\n",
       "    .dataframe thead th {\n",
       "        text-align: right;\n",
       "    }\n",
       "</style>\n",
       "<table border=\"1\" class=\"dataframe\">\n",
       "  <thead>\n",
       "    <tr style=\"text-align: right;\">\n",
       "      <th></th>\n",
       "      <th>NMI</th>\n",
       "      <th>ARI</th>\n",
       "      <th>homogeneity</th>\n",
       "      <th>completeness</th>\n",
       "      <th>v_measure</th>\n",
       "      <th>fowlkes_mallows</th>\n",
       "    </tr>\n",
       "  </thead>\n",
       "  <tbody>\n",
       "    <tr>\n",
       "      <th>monocle</th>\n",
       "      <td>0.611988</td>\n",
       "      <td>0.425929</td>\n",
       "      <td>0.446299</td>\n",
       "      <td>0.973344</td>\n",
       "      <td>0.611988</td>\n",
       "      <td>0.635502</td>\n",
       "    </tr>\n",
       "    <tr>\n",
       "      <th>scanpy</th>\n",
       "      <td>0.659645</td>\n",
       "      <td>0.391203</td>\n",
       "      <td>0.795577</td>\n",
       "      <td>0.563386</td>\n",
       "      <td>0.659645</td>\n",
       "      <td>0.507730</td>\n",
       "    </tr>\n",
       "    <tr>\n",
       "      <th>scvi-tools</th>\n",
       "      <td>0.700834</td>\n",
       "      <td>0.565180</td>\n",
       "      <td>0.761397</td>\n",
       "      <td>0.649195</td>\n",
       "      <td>0.700834</td>\n",
       "      <td>0.643658</td>\n",
       "    </tr>\n",
       "    <tr>\n",
       "      <th>seurat</th>\n",
       "      <td>0.738344</td>\n",
       "      <td>0.643097</td>\n",
       "      <td>0.764146</td>\n",
       "      <td>0.714228</td>\n",
       "      <td>0.738344</td>\n",
       "      <td>0.706018</td>\n",
       "    </tr>\n",
       "    <tr>\n",
       "      <th>COTAN</th>\n",
       "      <td>0.714625</td>\n",
       "      <td>0.584684</td>\n",
       "      <td>0.809127</td>\n",
       "      <td>0.639888</td>\n",
       "      <td>0.714625</td>\n",
       "      <td>0.662378</td>\n",
       "    </tr>\n",
       "  </tbody>\n",
       "</table>\n",
       "</div>"
      ],
      "text/plain": [
       "                 NMI       ARI  homogeneity  completeness  v_measure  \\\n",
       "monocle     0.611988  0.425929     0.446299      0.973344   0.611988   \n",
       "scanpy      0.659645  0.391203     0.795577      0.563386   0.659645   \n",
       "scvi-tools  0.700834  0.565180     0.761397      0.649195   0.700834   \n",
       "seurat      0.738344  0.643097     0.764146      0.714228   0.738344   \n",
       "COTAN       0.714625  0.584684     0.809127      0.639888   0.714625   \n",
       "\n",
       "            fowlkes_mallows  \n",
       "monocle            0.635502  \n",
       "scanpy             0.507730  \n",
       "scvi-tools         0.643658  \n",
       "seurat             0.706018  \n",
       "COTAN              0.662378  "
      ]
     },
     "metadata": {},
     "output_type": "display_data"
    },
    {
     "data": {
      "application/vnd.plotly.v1+json": {
       "config": {
        "plotlyServerURL": "https://plot.ly"
       },
       "data": [
        {
         "link": {
          "source": [
           0,
           0,
           0,
           0,
           0,
           0,
           0,
           0,
           0,
           0,
           1,
           1,
           1,
           1,
           1,
           1,
           1,
           1,
           1,
           1,
           2,
           2,
           2,
           3,
           3,
           3,
           3,
           3,
           3,
           4,
           4,
           4,
           4,
           4,
           5,
           5,
           5,
           6,
           6,
           6,
           6,
           7,
           7,
           7,
           7,
           7,
           7,
           8,
           8,
           9,
           9,
           10,
           10,
           10,
           10,
           10,
           11,
           12,
           12,
           12,
           12,
           12,
           13,
           13,
           13,
           13,
           13,
           14,
           14,
           14,
           15,
           15,
           15,
           15,
           16,
           16,
           16,
           16,
           17,
           18,
           18,
           18,
           18,
           19,
           19,
           20,
           21,
           21,
           21,
           22,
           22,
           22,
           23,
           23,
           23,
           23,
           24,
           24,
           24,
           25,
           25,
           25,
           25,
           25,
           26,
           26,
           26,
           27,
           27,
           27,
           27,
           27,
           28,
           28,
           29,
           29,
           30,
           30,
           30,
           31,
           31,
           32,
           32,
           33,
           33,
           34,
           34,
           34,
           34,
           34,
           34,
           35,
           35,
           35,
           35,
           35,
           35,
           35,
           35,
           36,
           36,
           36,
           36,
           37,
           37,
           37,
           38,
           38,
           38,
           38,
           38,
           38,
           39,
           39,
           39,
           39,
           40,
           40,
           41,
           42,
           42,
           42,
           42,
           42,
           43,
           43,
           44,
           45,
           45,
           45,
           45,
           46,
           46,
           46,
           47,
           47,
           47,
           47,
           48,
           48,
           49,
           49,
           49,
           50,
           50,
           50,
           50,
           51,
           51,
           51,
           52,
           52,
           52,
           52,
           53,
           53,
           53,
           54,
           54,
           54,
           54,
           55,
           55,
           55,
           55,
           56,
           56,
           56,
           56,
           56,
           56,
           56,
           57,
           57,
           57,
           57,
           57,
           57,
           58,
           58,
           58,
           59,
           59,
           60,
           60,
           61,
           61,
           61,
           61,
           61,
           61,
           61,
           62,
           62,
           62,
           62,
           62,
           63,
           63,
           63,
           63
          ],
          "target": [
           3,
           4,
           6,
           7,
           8,
           10,
           12,
           14,
           16,
           18,
           3,
           4,
           5,
           7,
           9,
           11,
           15,
           17,
           19,
           20,
           12,
           13,
           15,
           22,
           23,
           24,
           27,
           31,
           32,
           22,
           23,
           24,
           31,
           32,
           21,
           25,
           30,
           22,
           24,
           31,
           32,
           21,
           23,
           25,
           26,
           27,
           30,
           26,
           27,
           21,
           25,
           22,
           23,
           24,
           31,
           32,
           21,
           22,
           23,
           26,
           27,
           31,
           21,
           25,
           27,
           28,
           29,
           23,
           27,
           32,
           21,
           25,
           28,
           29,
           22,
           23,
           24,
           27,
           25,
           22,
           24,
           31,
           32,
           25,
           30,
           33,
           36,
           37,
           40,
           34,
           35,
           39,
           34,
           35,
           36,
           39,
           34,
           35,
           39,
           35,
           36,
           37,
           42,
           43,
           36,
           38,
           39,
           35,
           36,
           38,
           39,
           41,
           40,
           41,
           40,
           41,
           36,
           37,
           43,
           34,
           39,
           34,
           35,
           43,
           44,
           48,
           54,
           55,
           56,
           57,
           58,
           48,
           54,
           55,
           56,
           57,
           58,
           59,
           61,
           45,
           48,
           49,
           50,
           47,
           49,
           50,
           56,
           57,
           60,
           61,
           62,
           63,
           56,
           57,
           61,
           62,
           52,
           53,
           53,
           46,
           47,
           49,
           50,
           55,
           46,
           50,
           51,
           66,
           69,
           71,
           74,
           69,
           73,
           74,
           66,
           69,
           73,
           74,
           73,
           74,
           66,
           69,
           74,
           66,
           69,
           73,
           74,
           73,
           74,
           75,
           68,
           69,
           75,
           76,
           68,
           69,
           76,
           64,
           66,
           70,
           75,
           64,
           66,
           72,
           75,
           64,
           66,
           67,
           70,
           72,
           73,
           75,
           64,
           67,
           70,
           72,
           73,
           75,
           70,
           73,
           75,
           64,
           70,
           65,
           71,
           64,
           65,
           67,
           70,
           71,
           72,
           75,
           65,
           67,
           71,
           74,
           76,
           65,
           67,
           71,
           76
          ],
          "value": [
           400,
           328,
           286,
           9,
           268,
           254,
           182,
           149,
           106,
           77,
           2,
           2,
           322,
           259,
           267,
           198,
           2,
           91,
           75,
           28,
           1,
           159,
           138,
           39,
           312,
           23,
           7,
           1,
           20,
           148,
           7,
           166,
           4,
           5,
           80,
           224,
           18,
           142,
           138,
           3,
           3,
           227,
           1,
           29,
           5,
           5,
           1,
           266,
           2,
           215,
           52,
           140,
           2,
           98,
           2,
           12,
           198,
           1,
           10,
           23,
           148,
           1,
           1,
           1,
           1,
           14,
           142,
           123,
           25,
           1,
           1,
           1,
           137,
           1,
           2,
           10,
           4,
           90,
           91,
           4,
           1,
           71,
           1,
           1,
           74,
           28,
           554,
           167,
           1,
           409,
           64,
           3,
           3,
           456,
           1,
           5,
           379,
           49,
           2,
           1,
           48,
           220,
           129,
           1,
           4,
           278,
           12,
           32,
           5,
           2,
           238,
           1,
           10,
           141,
           142,
           1,
           1,
           20,
           72,
           81,
           1,
           16,
           26,
           1,
           27,
           1,
           789,
           88,
           6,
           3,
           1,
           1,
           39,
           5,
           33,
           482,
           27,
           27,
           14,
           35,
           270,
           291,
           17,
           4,
           175,
           228,
           2,
           1,
           2,
           2,
           152,
           121,
           1,
           3,
           256,
           1,
           152,
           1,
           143,
           1,
           118,
           1,
           8,
           1,
           73,
           1,
           27,
           30,
           1,
           1,
           3,
           1,
           56,
           17,
           4,
           38,
           1,
           79,
           1,
           271,
           5,
           2,
           460,
           6,
           2,
           1,
           245,
           25,
           1,
           1,
           3,
           1,
           1,
           147,
           2,
           1,
           141,
           13,
           1,
           49,
           765,
           81,
           1,
           2,
           10,
           2,
           1,
           2,
           23,
           1,
           1,
           12,
           10,
           1,
           437,
           20,
           1,
           20,
           26,
           1,
           1,
           1,
           26,
           1,
           1,
           54,
           38,
           1,
           39,
           1,
           135,
           4,
           2,
           3,
           146,
           1,
           1,
           3,
           3,
           114,
           1
          ]
         },
         "node": {
          "color": [
           "#1f77b4",
           "#ff7f0e",
           "#2ca02c",
           "#d62728",
           "#9467bd",
           "#8c564b",
           "#e377c2",
           "#7f7f7f",
           "#bcbd22",
           "#17becf",
           "#1f77b4",
           "#ff7f0e",
           "#2ca02c",
           "#d62728",
           "#9467bd",
           "#8c564b",
           "#e377c2",
           "#7f7f7f",
           "#bcbd22",
           "#17becf",
           "#1f77b4",
           "#ff7f0e",
           "#2ca02c",
           "#d62728",
           "#9467bd",
           "#8c564b",
           "#e377c2",
           "#7f7f7f",
           "#bcbd22",
           "#17becf",
           "#1f77b4",
           "#ff7f0e",
           "#2ca02c",
           "#d62728",
           "#9467bd",
           "#8c564b",
           "#e377c2",
           "#7f7f7f",
           "#bcbd22",
           "#17becf",
           "#1f77b4",
           "#ff7f0e",
           "#2ca02c",
           "#d62728",
           "#9467bd",
           "#8c564b",
           "#e377c2",
           "#7f7f7f",
           "#bcbd22",
           "#17becf",
           "#1f77b4",
           "#ff7f0e",
           "#2ca02c",
           "#d62728",
           "#9467bd",
           "#8c564b",
           "#e377c2",
           "#7f7f7f",
           "#bcbd22",
           "#17becf",
           "#1f77b4",
           "#ff7f0e",
           "#2ca02c",
           "#d62728",
           "#9467bd",
           "#8c564b",
           "#e377c2",
           "#7f7f7f",
           "#bcbd22",
           "#17becf",
           "#1f77b4",
           "#ff7f0e",
           "#2ca02c",
           "#d62728",
           "#9467bd",
           "#8c564b",
           "#e377c2"
          ],
          "label": [
           1,
           2,
           3,
           1,
           2,
           3,
           4,
           5,
           6,
           7,
           8,
           9,
           10,
           11,
           12,
           13,
           14,
           15,
           16,
           17,
           18,
           1,
           2,
           3,
           4,
           5,
           6,
           7,
           8,
           9,
           10,
           11,
           12,
           13,
           1,
           2,
           3,
           4,
           5,
           6,
           7,
           8,
           9,
           10,
           11,
           1,
           2,
           3,
           4,
           5,
           6,
           7,
           8,
           9,
           10,
           11,
           12,
           13,
           14,
           15,
           16,
           17,
           18,
           19,
           "Cluster-1",
           "Cluster-10",
           "Cluster-11",
           "Cluster-12",
           "Cluster-13",
           "Cluster-2",
           "Cluster-3",
           "Cluster-4",
           "Cluster-5",
           "Cluster-6",
           "Cluster-7",
           "Cluster-8",
           "Cluster-9"
          ],
          "line": {
           "color": "black",
           "width": 0.5
          },
          "pad": 15,
          "thickness": 20
         },
         "type": "sankey"
        }
       ],
       "layout": {
        "annotations": [
         {
          "showarrow": false,
          "text": "monocle",
          "x": 0,
          "xref": "x",
          "y": 1.05,
          "yref": "paper"
         },
         {
          "showarrow": false,
          "text": "scanpy",
          "x": 1,
          "xref": "x",
          "y": 1.05,
          "yref": "paper"
         },
         {
          "showarrow": false,
          "text": "scvi-tools",
          "x": 2,
          "xref": "x",
          "y": 1.05,
          "yref": "paper"
         },
         {
          "showarrow": false,
          "text": "seurat",
          "x": 3,
          "xref": "x",
          "y": 1.05,
          "yref": "paper"
         },
         {
          "showarrow": false,
          "text": "COTAN",
          "x": 4,
          "xref": "x",
          "y": 1.05,
          "yref": "paper"
         },
         {
          "showarrow": false,
          "text": "antibody",
          "x": 5,
          "xref": "x",
          "y": 1.05,
          "yref": "paper"
         }
        ],
        "font": {
         "size": 10
        },
        "plot_bgcolor": "rgba(0,0,0,0)",
        "template": {
         "data": {
          "bar": [
           {
            "error_x": {
             "color": "#2a3f5f"
            },
            "error_y": {
             "color": "#2a3f5f"
            },
            "marker": {
             "line": {
              "color": "#E5ECF6",
              "width": 0.5
             },
             "pattern": {
              "fillmode": "overlay",
              "size": 10,
              "solidity": 0.2
             }
            },
            "type": "bar"
           }
          ],
          "barpolar": [
           {
            "marker": {
             "line": {
              "color": "#E5ECF6",
              "width": 0.5
             },
             "pattern": {
              "fillmode": "overlay",
              "size": 10,
              "solidity": 0.2
             }
            },
            "type": "barpolar"
           }
          ],
          "carpet": [
           {
            "aaxis": {
             "endlinecolor": "#2a3f5f",
             "gridcolor": "white",
             "linecolor": "white",
             "minorgridcolor": "white",
             "startlinecolor": "#2a3f5f"
            },
            "baxis": {
             "endlinecolor": "#2a3f5f",
             "gridcolor": "white",
             "linecolor": "white",
             "minorgridcolor": "white",
             "startlinecolor": "#2a3f5f"
            },
            "type": "carpet"
           }
          ],
          "choropleth": [
           {
            "colorbar": {
             "outlinewidth": 0,
             "ticks": ""
            },
            "type": "choropleth"
           }
          ],
          "contour": [
           {
            "colorbar": {
             "outlinewidth": 0,
             "ticks": ""
            },
            "colorscale": [
             [
              0,
              "#0d0887"
             ],
             [
              0.1111111111111111,
              "#46039f"
             ],
             [
              0.2222222222222222,
              "#7201a8"
             ],
             [
              0.3333333333333333,
              "#9c179e"
             ],
             [
              0.4444444444444444,
              "#bd3786"
             ],
             [
              0.5555555555555556,
              "#d8576b"
             ],
             [
              0.6666666666666666,
              "#ed7953"
             ],
             [
              0.7777777777777778,
              "#fb9f3a"
             ],
             [
              0.8888888888888888,
              "#fdca26"
             ],
             [
              1,
              "#f0f921"
             ]
            ],
            "type": "contour"
           }
          ],
          "contourcarpet": [
           {
            "colorbar": {
             "outlinewidth": 0,
             "ticks": ""
            },
            "type": "contourcarpet"
           }
          ],
          "heatmap": [
           {
            "colorbar": {
             "outlinewidth": 0,
             "ticks": ""
            },
            "colorscale": [
             [
              0,
              "#0d0887"
             ],
             [
              0.1111111111111111,
              "#46039f"
             ],
             [
              0.2222222222222222,
              "#7201a8"
             ],
             [
              0.3333333333333333,
              "#9c179e"
             ],
             [
              0.4444444444444444,
              "#bd3786"
             ],
             [
              0.5555555555555556,
              "#d8576b"
             ],
             [
              0.6666666666666666,
              "#ed7953"
             ],
             [
              0.7777777777777778,
              "#fb9f3a"
             ],
             [
              0.8888888888888888,
              "#fdca26"
             ],
             [
              1,
              "#f0f921"
             ]
            ],
            "type": "heatmap"
           }
          ],
          "heatmapgl": [
           {
            "colorbar": {
             "outlinewidth": 0,
             "ticks": ""
            },
            "colorscale": [
             [
              0,
              "#0d0887"
             ],
             [
              0.1111111111111111,
              "#46039f"
             ],
             [
              0.2222222222222222,
              "#7201a8"
             ],
             [
              0.3333333333333333,
              "#9c179e"
             ],
             [
              0.4444444444444444,
              "#bd3786"
             ],
             [
              0.5555555555555556,
              "#d8576b"
             ],
             [
              0.6666666666666666,
              "#ed7953"
             ],
             [
              0.7777777777777778,
              "#fb9f3a"
             ],
             [
              0.8888888888888888,
              "#fdca26"
             ],
             [
              1,
              "#f0f921"
             ]
            ],
            "type": "heatmapgl"
           }
          ],
          "histogram": [
           {
            "marker": {
             "pattern": {
              "fillmode": "overlay",
              "size": 10,
              "solidity": 0.2
             }
            },
            "type": "histogram"
           }
          ],
          "histogram2d": [
           {
            "colorbar": {
             "outlinewidth": 0,
             "ticks": ""
            },
            "colorscale": [
             [
              0,
              "#0d0887"
             ],
             [
              0.1111111111111111,
              "#46039f"
             ],
             [
              0.2222222222222222,
              "#7201a8"
             ],
             [
              0.3333333333333333,
              "#9c179e"
             ],
             [
              0.4444444444444444,
              "#bd3786"
             ],
             [
              0.5555555555555556,
              "#d8576b"
             ],
             [
              0.6666666666666666,
              "#ed7953"
             ],
             [
              0.7777777777777778,
              "#fb9f3a"
             ],
             [
              0.8888888888888888,
              "#fdca26"
             ],
             [
              1,
              "#f0f921"
             ]
            ],
            "type": "histogram2d"
           }
          ],
          "histogram2dcontour": [
           {
            "colorbar": {
             "outlinewidth": 0,
             "ticks": ""
            },
            "colorscale": [
             [
              0,
              "#0d0887"
             ],
             [
              0.1111111111111111,
              "#46039f"
             ],
             [
              0.2222222222222222,
              "#7201a8"
             ],
             [
              0.3333333333333333,
              "#9c179e"
             ],
             [
              0.4444444444444444,
              "#bd3786"
             ],
             [
              0.5555555555555556,
              "#d8576b"
             ],
             [
              0.6666666666666666,
              "#ed7953"
             ],
             [
              0.7777777777777778,
              "#fb9f3a"
             ],
             [
              0.8888888888888888,
              "#fdca26"
             ],
             [
              1,
              "#f0f921"
             ]
            ],
            "type": "histogram2dcontour"
           }
          ],
          "mesh3d": [
           {
            "colorbar": {
             "outlinewidth": 0,
             "ticks": ""
            },
            "type": "mesh3d"
           }
          ],
          "parcoords": [
           {
            "line": {
             "colorbar": {
              "outlinewidth": 0,
              "ticks": ""
             }
            },
            "type": "parcoords"
           }
          ],
          "pie": [
           {
            "automargin": true,
            "type": "pie"
           }
          ],
          "scatter": [
           {
            "fillpattern": {
             "fillmode": "overlay",
             "size": 10,
             "solidity": 0.2
            },
            "type": "scatter"
           }
          ],
          "scatter3d": [
           {
            "line": {
             "colorbar": {
              "outlinewidth": 0,
              "ticks": ""
             }
            },
            "marker": {
             "colorbar": {
              "outlinewidth": 0,
              "ticks": ""
             }
            },
            "type": "scatter3d"
           }
          ],
          "scattercarpet": [
           {
            "marker": {
             "colorbar": {
              "outlinewidth": 0,
              "ticks": ""
             }
            },
            "type": "scattercarpet"
           }
          ],
          "scattergeo": [
           {
            "marker": {
             "colorbar": {
              "outlinewidth": 0,
              "ticks": ""
             }
            },
            "type": "scattergeo"
           }
          ],
          "scattergl": [
           {
            "marker": {
             "colorbar": {
              "outlinewidth": 0,
              "ticks": ""
             }
            },
            "type": "scattergl"
           }
          ],
          "scattermapbox": [
           {
            "marker": {
             "colorbar": {
              "outlinewidth": 0,
              "ticks": ""
             }
            },
            "type": "scattermapbox"
           }
          ],
          "scatterpolar": [
           {
            "marker": {
             "colorbar": {
              "outlinewidth": 0,
              "ticks": ""
             }
            },
            "type": "scatterpolar"
           }
          ],
          "scatterpolargl": [
           {
            "marker": {
             "colorbar": {
              "outlinewidth": 0,
              "ticks": ""
             }
            },
            "type": "scatterpolargl"
           }
          ],
          "scatterternary": [
           {
            "marker": {
             "colorbar": {
              "outlinewidth": 0,
              "ticks": ""
             }
            },
            "type": "scatterternary"
           }
          ],
          "surface": [
           {
            "colorbar": {
             "outlinewidth": 0,
             "ticks": ""
            },
            "colorscale": [
             [
              0,
              "#0d0887"
             ],
             [
              0.1111111111111111,
              "#46039f"
             ],
             [
              0.2222222222222222,
              "#7201a8"
             ],
             [
              0.3333333333333333,
              "#9c179e"
             ],
             [
              0.4444444444444444,
              "#bd3786"
             ],
             [
              0.5555555555555556,
              "#d8576b"
             ],
             [
              0.6666666666666666,
              "#ed7953"
             ],
             [
              0.7777777777777778,
              "#fb9f3a"
             ],
             [
              0.8888888888888888,
              "#fdca26"
             ],
             [
              1,
              "#f0f921"
             ]
            ],
            "type": "surface"
           }
          ],
          "table": [
           {
            "cells": {
             "fill": {
              "color": "#EBF0F8"
             },
             "line": {
              "color": "white"
             }
            },
            "header": {
             "fill": {
              "color": "#C8D4E3"
             },
             "line": {
              "color": "white"
             }
            },
            "type": "table"
           }
          ]
         },
         "layout": {
          "annotationdefaults": {
           "arrowcolor": "#2a3f5f",
           "arrowhead": 0,
           "arrowwidth": 1
          },
          "autotypenumbers": "strict",
          "coloraxis": {
           "colorbar": {
            "outlinewidth": 0,
            "ticks": ""
           }
          },
          "colorscale": {
           "diverging": [
            [
             0,
             "#8e0152"
            ],
            [
             0.1,
             "#c51b7d"
            ],
            [
             0.2,
             "#de77ae"
            ],
            [
             0.3,
             "#f1b6da"
            ],
            [
             0.4,
             "#fde0ef"
            ],
            [
             0.5,
             "#f7f7f7"
            ],
            [
             0.6,
             "#e6f5d0"
            ],
            [
             0.7,
             "#b8e186"
            ],
            [
             0.8,
             "#7fbc41"
            ],
            [
             0.9,
             "#4d9221"
            ],
            [
             1,
             "#276419"
            ]
           ],
           "sequential": [
            [
             0,
             "#0d0887"
            ],
            [
             0.1111111111111111,
             "#46039f"
            ],
            [
             0.2222222222222222,
             "#7201a8"
            ],
            [
             0.3333333333333333,
             "#9c179e"
            ],
            [
             0.4444444444444444,
             "#bd3786"
            ],
            [
             0.5555555555555556,
             "#d8576b"
            ],
            [
             0.6666666666666666,
             "#ed7953"
            ],
            [
             0.7777777777777778,
             "#fb9f3a"
            ],
            [
             0.8888888888888888,
             "#fdca26"
            ],
            [
             1,
             "#f0f921"
            ]
           ],
           "sequentialminus": [
            [
             0,
             "#0d0887"
            ],
            [
             0.1111111111111111,
             "#46039f"
            ],
            [
             0.2222222222222222,
             "#7201a8"
            ],
            [
             0.3333333333333333,
             "#9c179e"
            ],
            [
             0.4444444444444444,
             "#bd3786"
            ],
            [
             0.5555555555555556,
             "#d8576b"
            ],
            [
             0.6666666666666666,
             "#ed7953"
            ],
            [
             0.7777777777777778,
             "#fb9f3a"
            ],
            [
             0.8888888888888888,
             "#fdca26"
            ],
            [
             1,
             "#f0f921"
            ]
           ]
          },
          "colorway": [
           "#636efa",
           "#EF553B",
           "#00cc96",
           "#ab63fa",
           "#FFA15A",
           "#19d3f3",
           "#FF6692",
           "#B6E880",
           "#FF97FF",
           "#FECB52"
          ],
          "font": {
           "color": "#2a3f5f"
          },
          "geo": {
           "bgcolor": "white",
           "lakecolor": "white",
           "landcolor": "#E5ECF6",
           "showlakes": true,
           "showland": true,
           "subunitcolor": "white"
          },
          "hoverlabel": {
           "align": "left"
          },
          "hovermode": "closest",
          "mapbox": {
           "style": "light"
          },
          "paper_bgcolor": "white",
          "plot_bgcolor": "#E5ECF6",
          "polar": {
           "angularaxis": {
            "gridcolor": "white",
            "linecolor": "white",
            "ticks": ""
           },
           "bgcolor": "#E5ECF6",
           "radialaxis": {
            "gridcolor": "white",
            "linecolor": "white",
            "ticks": ""
           }
          },
          "scene": {
           "xaxis": {
            "backgroundcolor": "#E5ECF6",
            "gridcolor": "white",
            "gridwidth": 2,
            "linecolor": "white",
            "showbackground": true,
            "ticks": "",
            "zerolinecolor": "white"
           },
           "yaxis": {
            "backgroundcolor": "#E5ECF6",
            "gridcolor": "white",
            "gridwidth": 2,
            "linecolor": "white",
            "showbackground": true,
            "ticks": "",
            "zerolinecolor": "white"
           },
           "zaxis": {
            "backgroundcolor": "#E5ECF6",
            "gridcolor": "white",
            "gridwidth": 2,
            "linecolor": "white",
            "showbackground": true,
            "ticks": "",
            "zerolinecolor": "white"
           }
          },
          "shapedefaults": {
           "line": {
            "color": "#2a3f5f"
           }
          },
          "ternary": {
           "aaxis": {
            "gridcolor": "white",
            "linecolor": "white",
            "ticks": ""
           },
           "baxis": {
            "gridcolor": "white",
            "linecolor": "white",
            "ticks": ""
           },
           "bgcolor": "#E5ECF6",
           "caxis": {
            "gridcolor": "white",
            "linecolor": "white",
            "ticks": ""
           }
          },
          "title": {
           "x": 0.05
          },
          "xaxis": {
           "automargin": true,
           "gridcolor": "white",
           "linecolor": "white",
           "ticks": "",
           "title": {
            "standoff": 15
           },
           "zerolinecolor": "white",
           "zerolinewidth": 2
          },
          "yaxis": {
           "automargin": true,
           "gridcolor": "white",
           "linecolor": "white",
           "ticks": "",
           "title": {
            "standoff": 15
           },
           "zerolinecolor": "white",
           "zerolinewidth": 2
          }
         }
        },
        "title": {
         "text": "PBMC1 - default labels"
        },
        "xaxis": {
         "showgrid": false,
         "visible": false,
         "zeroline": false
        },
        "yaxis": {
         "showgrid": false,
         "visible": false,
         "zeroline": false
        }
       }
      }
     },
     "metadata": {},
     "output_type": "display_data"
    },
    {
     "name": "stdout",
     "output_type": "stream",
     "text": [
      "------------------------------\n",
      "PBMC2 - default labels\n"
     ]
    },
    {
     "name": "stderr",
     "output_type": "stream",
     "text": [
      "/Users/irenetesta/anaconda3/envs/chl/lib/python3.11/site-packages/anndata/_core/anndata.py:1113: FutureWarning:\n",
      "\n",
      "is_categorical_dtype is deprecated and will be removed in a future version. Use isinstance(dtype, CategoricalDtype) instead\n",
      "\n"
     ]
    },
    {
     "data": {
      "text/html": [
       "<div>\n",
       "<style scoped>\n",
       "    .dataframe tbody tr th:only-of-type {\n",
       "        vertical-align: middle;\n",
       "    }\n",
       "\n",
       "    .dataframe tbody tr th {\n",
       "        vertical-align: top;\n",
       "    }\n",
       "\n",
       "    .dataframe thead th {\n",
       "        text-align: right;\n",
       "    }\n",
       "</style>\n",
       "<table border=\"1\" class=\"dataframe\">\n",
       "  <thead>\n",
       "    <tr style=\"text-align: right;\">\n",
       "      <th></th>\n",
       "      <th>NMI</th>\n",
       "      <th>ARI</th>\n",
       "      <th>homogeneity</th>\n",
       "      <th>completeness</th>\n",
       "      <th>v_measure</th>\n",
       "      <th>fowlkes_mallows</th>\n",
       "    </tr>\n",
       "  </thead>\n",
       "  <tbody>\n",
       "    <tr>\n",
       "      <th>monocle</th>\n",
       "      <td>0.408008</td>\n",
       "      <td>0.245699</td>\n",
       "      <td>0.257439</td>\n",
       "      <td>0.982850</td>\n",
       "      <td>0.408008</td>\n",
       "      <td>0.563497</td>\n",
       "    </tr>\n",
       "    <tr>\n",
       "      <th>scanpy</th>\n",
       "      <td>0.711770</td>\n",
       "      <td>0.411761</td>\n",
       "      <td>0.814608</td>\n",
       "      <td>0.631986</td>\n",
       "      <td>0.711770</td>\n",
       "      <td>0.532994</td>\n",
       "    </tr>\n",
       "    <tr>\n",
       "      <th>scvi-tools</th>\n",
       "      <td>0.717161</td>\n",
       "      <td>0.432623</td>\n",
       "      <td>0.795019</td>\n",
       "      <td>0.653193</td>\n",
       "      <td>0.717161</td>\n",
       "      <td>0.544665</td>\n",
       "    </tr>\n",
       "    <tr>\n",
       "      <th>seurat</th>\n",
       "      <td>0.766101</td>\n",
       "      <td>0.515115</td>\n",
       "      <td>0.827245</td>\n",
       "      <td>0.713374</td>\n",
       "      <td>0.766101</td>\n",
       "      <td>0.614991</td>\n",
       "    </tr>\n",
       "    <tr>\n",
       "      <th>COTAN</th>\n",
       "      <td>0.728780</td>\n",
       "      <td>0.461602</td>\n",
       "      <td>0.862867</td>\n",
       "      <td>0.630761</td>\n",
       "      <td>0.728780</td>\n",
       "      <td>0.576264</td>\n",
       "    </tr>\n",
       "  </tbody>\n",
       "</table>\n",
       "</div>"
      ],
      "text/plain": [
       "                 NMI       ARI  homogeneity  completeness  v_measure  \\\n",
       "monocle     0.408008  0.245699     0.257439      0.982850   0.408008   \n",
       "scanpy      0.711770  0.411761     0.814608      0.631986   0.711770   \n",
       "scvi-tools  0.717161  0.432623     0.795019      0.653193   0.717161   \n",
       "seurat      0.766101  0.515115     0.827245      0.713374   0.766101   \n",
       "COTAN       0.728780  0.461602     0.862867      0.630761   0.728780   \n",
       "\n",
       "            fowlkes_mallows  \n",
       "monocle            0.563497  \n",
       "scanpy             0.532994  \n",
       "scvi-tools         0.544665  \n",
       "seurat             0.614991  \n",
       "COTAN              0.576264  "
      ]
     },
     "metadata": {},
     "output_type": "display_data"
    },
    {
     "data": {
      "application/vnd.plotly.v1+json": {
       "config": {
        "plotlyServerURL": "https://plot.ly"
       },
       "data": [
        {
         "link": {
          "source": [
           0,
           0,
           0,
           0,
           0,
           0,
           0,
           0,
           0,
           0,
           0,
           0,
           1,
           1,
           1,
           1,
           1,
           1,
           1,
           1,
           1,
           1,
           2,
           2,
           2,
           2,
           2,
           2,
           2,
           2,
           3,
           3,
           3,
           3,
           3,
           3,
           3,
           4,
           4,
           4,
           4,
           4,
           5,
           5,
           5,
           5,
           5,
           5,
           5,
           5,
           6,
           6,
           6,
           7,
           7,
           8,
           8,
           8,
           9,
           9,
           9,
           9,
           9,
           9,
           10,
           10,
           10,
           10,
           10,
           10,
           10,
           10,
           11,
           11,
           11,
           11,
           12,
           12,
           12,
           12,
           12,
           12,
           12,
           12,
           13,
           13,
           13,
           13,
           13,
           13,
           13,
           13,
           14,
           14,
           14,
           15,
           15,
           15,
           16,
           16,
           17,
           18,
           18,
           19,
           19,
           20,
           20,
           20,
           20,
           20,
           21,
           21,
           21,
           21,
           22,
           22,
           22,
           22,
           22,
           23,
           23,
           23,
           24,
           24,
           24,
           24,
           25,
           25,
           25,
           25,
           25,
           26,
           26,
           26,
           26,
           26,
           27,
           27,
           27,
           27,
           27,
           27,
           27,
           27,
           28,
           28,
           28,
           28,
           28,
           28,
           28,
           29,
           29,
           30,
           30,
           30,
           30,
           30,
           30,
           31,
           31,
           31,
           31,
           31,
           32,
           32,
           32,
           33,
           33,
           33,
           34,
           34,
           35,
           36,
           37,
           37,
           37,
           38,
           38,
           38,
           38,
           38,
           38,
           38,
           38,
           38,
           38,
           39,
           39,
           39,
           39,
           39,
           39,
           39,
           40,
           40,
           40,
           41,
           41,
           41,
           41,
           41,
           41,
           41,
           41,
           41,
           41,
           41,
           41,
           42,
           42,
           42,
           42,
           43,
           43,
           43,
           43,
           43,
           43,
           43,
           43,
           43,
           43,
           43,
           44,
           44,
           44,
           44,
           44,
           45,
           45,
           46,
           46,
           47,
           47,
           47,
           47,
           48,
           48,
           48,
           48,
           48,
           48,
           49,
           50,
           51,
           51,
           51,
           52,
           52,
           52,
           53,
           53,
           53,
           53,
           53,
           54,
           54,
           54,
           54,
           54,
           55,
           55,
           55,
           55,
           55,
           55,
           55,
           56,
           56,
           56,
           56,
           56,
           57,
           57,
           57,
           57,
           58,
           58,
           58,
           59,
           59,
           59,
           60,
           60,
           60,
           60,
           60,
           60,
           61,
           61,
           61,
           61,
           61,
           62,
           62,
           62,
           62,
           62,
           62,
           63,
           63,
           63,
           63,
           63,
           64,
           64,
           64,
           64,
           65,
           66,
           66,
           67,
           67,
           67,
           68,
           69,
           69,
           69,
           70,
           71,
           72,
           72,
           73,
           74,
           74,
           75,
           75,
           75,
           76,
           76,
           76,
           77,
           78,
           79,
           79
          ],
          "target": [
           2,
           3,
           4,
           5,
           7,
           8,
           9,
           10,
           11,
           12,
           13,
           15,
           3,
           5,
           6,
           8,
           10,
           14,
           16,
           17,
           18,
           19,
           20,
           21,
           23,
           25,
           27,
           28,
           30,
           31,
           20,
           21,
           25,
           27,
           28,
           30,
           31,
           20,
           23,
           27,
           28,
           30,
           20,
           21,
           25,
           27,
           28,
           30,
           31,
           33,
           24,
           29,
           32,
           22,
           34,
           26,
           27,
           34,
           21,
           22,
           25,
           27,
           30,
           33,
           20,
           21,
           25,
           27,
           28,
           30,
           31,
           33,
           22,
           27,
           33,
           34,
           20,
           21,
           22,
           25,
           27,
           28,
           30,
           31,
           20,
           23,
           24,
           25,
           27,
           28,
           30,
           31,
           24,
           29,
           36,
           22,
           25,
           27,
           24,
           29,
           32,
           32,
           35,
           26,
           34,
           37,
           38,
           39,
           42,
           43,
           37,
           38,
           39,
           45,
           38,
           40,
           43,
           45,
           48,
           37,
           42,
           43,
           41,
           43,
           46,
           48,
           37,
           38,
           39,
           43,
           45,
           39,
           44,
           45,
           47,
           48,
           37,
           38,
           39,
           42,
           43,
           45,
           47,
           48,
           37,
           38,
           39,
           41,
           42,
           43,
           45,
           41,
           46,
           37,
           38,
           39,
           42,
           43,
           45,
           37,
           38,
           39,
           42,
           43,
           41,
           49,
           50,
           43,
           45,
           48,
           40,
           48,
           50,
           41,
           51,
           52,
           54,
           51,
           53,
           54,
           55,
           59,
           60,
           61,
           62,
           63,
           64,
           51,
           53,
           54,
           55,
           59,
           60,
           61,
           56,
           57,
           58,
           51,
           54,
           57,
           66,
           67,
           68,
           69,
           70,
           71,
           72,
           73,
           77,
           51,
           52,
           54,
           61,
           51,
           52,
           53,
           54,
           55,
           59,
           60,
           61,
           62,
           63,
           64,
           58,
           63,
           74,
           75,
           76,
           55,
           62,
           65,
           66,
           58,
           74,
           75,
           76,
           55,
           56,
           58,
           63,
           69,
           79,
           67,
           78,
           82,
           93,
           94,
           93,
           94,
           96,
           92,
           93,
           94,
           95,
           96,
           91,
           92,
           93,
           94,
           95,
           86,
           87,
           91,
           93,
           94,
           95,
           96,
           80,
           81,
           89,
           91,
           94,
           80,
           81,
           82,
           91,
           80,
           81,
           89,
           92,
           94,
           95,
           89,
           91,
           92,
           93,
           94,
           96,
           86,
           93,
           94,
           95,
           96,
           86,
           89,
           93,
           94,
           95,
           96,
           80,
           86,
           91,
           94,
           96,
           86,
           93,
           94,
           96,
           90,
           82,
           90,
           82,
           83,
           84,
           82,
           82,
           87,
           90,
           82,
           82,
           82,
           94,
           82,
           88,
           89,
           88,
           89,
           94,
           88,
           89,
           94,
           82,
           97,
           85,
           87
          ],
          "value": [
           944,
           624,
           579,
           507,
           463,
           2,
           318,
           300,
           285,
           207,
           205,
           184,
           1,
           1,
           483,
           440,
           5,
           189,
           88,
           88,
           48,
           14,
           633,
           10,
           6,
           1,
           7,
           161,
           77,
           49,
           91,
           371,
           47,
           3,
           50,
           35,
           28,
           10,
           547,
           18,
           3,
           1,
           5,
           417,
           23,
           13,
           19,
           21,
           9,
           1,
           470,
           2,
           11,
           462,
           1,
           440,
           1,
           1,
           1,
           3,
           210,
           30,
           1,
           73,
           189,
           13,
           6,
           2,
           55,
           24,
           11,
           5,
           214,
           5,
           1,
           65,
           1,
           51,
           3,
           140,
           2,
           5,
           2,
           3,
           2,
           17,
           1,
           11,
           166,
           5,
           2,
           1,
           10,
           170,
           9,
           1,
           7,
           176,
           86,
           2,
           88,
           1,
           47,
           1,
           13,
           785,
           5,
           132,
           6,
           3,
           8,
           489,
           364,
           2,
           1,
           620,
           2,
           1,
           59,
           13,
           539,
           18,
           559,
           1,
           6,
           1,
           1,
           205,
           30,
           14,
           195,
           1,
           291,
           1,
           147,
           1,
           4,
           19,
           8,
           9,
           376,
           2,
           1,
           4,
           198,
           23,
           72,
           1,
           1,
           2,
           1,
           8,
           166,
           93,
           25,
           41,
           1,
           2,
           1,
           54,
           13,
           32,
           1,
           1,
           18,
           81,
           1,
           6,
           68,
           6,
           17,
           63,
           47,
           9,
           1149,
           3,
           4,
           1,
           9,
           21,
           728,
           4,
           1,
           1,
           8,
           1,
           6,
           24,
           1,
           442,
           102,
           56,
           54,
           1,
           2,
           428,
           207,
           1,
           1,
           1,
           5,
           5,
           38,
           116,
           235,
           138,
           37,
           15,
           3,
           1,
           553,
           1,
           2,
           2,
           20,
           136,
           6,
           7,
           1,
           1,
           56,
           3,
           125,
           68,
           2,
           1,
           3,
           141,
           144,
           3,
           268,
           101,
           71,
           1,
           139,
           7,
           1,
           1,
           108,
           5,
           1,
           3,
           16,
           81,
           48,
           1,
           6,
           1171,
           560,
           12,
           4,
           1,
           88,
           4,
           1,
           52,
           1,
           1,
           4,
           466,
           3,
           18,
           1,
           2,
           6,
           619,
           194,
           1,
           58,
           48,
           1,
           2,
           1,
           421,
           1,
           1,
           6,
           194,
           18,
           3,
           45,
           15,
           1,
           1,
           4,
           4,
           1,
           44,
           2,
           1,
           3,
           53,
           1,
           2,
           267,
           1,
           2,
           5,
           2,
           2,
           1,
           2,
           1,
           4,
           120,
           2,
           8,
           15,
           49,
           101,
           10,
           66,
           10,
           3,
           73,
           38,
           115,
           3,
           1,
           235,
           138,
           36,
           1,
           15,
           1,
           141,
           73,
           74,
           1,
           133,
           11,
           1,
           3,
           48,
           14,
           2
          ]
         },
         "node": {
          "color": [
           "#1f77b4",
           "#ff7f0e",
           "#2ca02c",
           "#d62728",
           "#9467bd",
           "#8c564b",
           "#e377c2",
           "#7f7f7f",
           "#bcbd22",
           "#17becf",
           "#1f77b4",
           "#ff7f0e",
           "#2ca02c",
           "#d62728",
           "#9467bd",
           "#8c564b",
           "#e377c2",
           "#7f7f7f",
           "#bcbd22",
           "#17becf",
           "#1f77b4",
           "#ff7f0e",
           "#2ca02c",
           "#d62728",
           "#9467bd",
           "#8c564b",
           "#e377c2",
           "#7f7f7f",
           "#bcbd22",
           "#17becf",
           "#1f77b4",
           "#ff7f0e",
           "#2ca02c",
           "#d62728",
           "#9467bd",
           "#8c564b",
           "#e377c2",
           "#7f7f7f",
           "#bcbd22",
           "#17becf",
           "#1f77b4",
           "#ff7f0e",
           "#2ca02c",
           "#d62728",
           "#9467bd",
           "#8c564b",
           "#e377c2",
           "#7f7f7f",
           "#bcbd22",
           "#17becf",
           "#1f77b4",
           "#ff7f0e",
           "#2ca02c",
           "#d62728",
           "#9467bd",
           "#8c564b",
           "#e377c2",
           "#7f7f7f",
           "#bcbd22",
           "#17becf",
           "#1f77b4",
           "#ff7f0e",
           "#2ca02c",
           "#d62728",
           "#9467bd",
           "#8c564b",
           "#e377c2",
           "#7f7f7f",
           "#bcbd22",
           "#17becf",
           "#1f77b4",
           "#ff7f0e",
           "#2ca02c",
           "#d62728",
           "#9467bd",
           "#8c564b",
           "#e377c2",
           "#7f7f7f",
           "#bcbd22",
           "#17becf",
           "#1f77b4",
           "#ff7f0e",
           "#2ca02c",
           "#d62728",
           "#9467bd",
           "#8c564b",
           "#e377c2",
           "#7f7f7f",
           "#bcbd22",
           "#17becf",
           "#1f77b4",
           "#ff7f0e",
           "#2ca02c",
           "#d62728",
           "#9467bd",
           "#8c564b",
           "#e377c2",
           "#7f7f7f"
          ],
          "label": [
           1,
           2,
           1,
           2,
           3,
           4,
           5,
           6,
           7,
           8,
           9,
           10,
           11,
           12,
           13,
           14,
           15,
           16,
           17,
           18,
           1,
           2,
           3,
           4,
           5,
           6,
           7,
           8,
           9,
           10,
           11,
           12,
           13,
           14,
           15,
           16,
           17,
           1,
           2,
           3,
           4,
           5,
           6,
           7,
           8,
           9,
           10,
           11,
           12,
           13,
           14,
           1,
           2,
           3,
           4,
           5,
           6,
           7,
           8,
           9,
           10,
           11,
           12,
           13,
           14,
           15,
           16,
           17,
           18,
           19,
           20,
           21,
           22,
           23,
           24,
           25,
           26,
           27,
           28,
           29,
           "CD16+ NK cells",
           "CD16- NK cells",
           "Classical monocytes",
           "DC1",
           "DC2",
           "HSC/MPP",
           "MAIT cells",
           "Megakaryocytes/platelets",
           "Memory B cells",
           "Naive B cells",
           "Non-classical monocytes",
           "Plasmablasts",
           "Regulatory T cells",
           "Tcm/Naive cytotoxic T cells",
           "Tcm/Naive helper T cells",
           "Tem/Effector helper T cells",
           "Tem/Trm cytotoxic T cells",
           "pDC"
          ],
          "line": {
           "color": "black",
           "width": 0.5
          },
          "pad": 15,
          "thickness": 20
         },
         "type": "sankey"
        }
       ],
       "layout": {
        "annotations": [
         {
          "showarrow": false,
          "text": "monocle",
          "x": 0,
          "xref": "x",
          "y": 1.05,
          "yref": "paper"
         },
         {
          "showarrow": false,
          "text": "scanpy",
          "x": 1,
          "xref": "x",
          "y": 1.05,
          "yref": "paper"
         },
         {
          "showarrow": false,
          "text": "scvi-tools",
          "x": 2,
          "xref": "x",
          "y": 1.05,
          "yref": "paper"
         },
         {
          "showarrow": false,
          "text": "seurat",
          "x": 3,
          "xref": "x",
          "y": 1.05,
          "yref": "paper"
         },
         {
          "showarrow": false,
          "text": "COTAN",
          "x": 4,
          "xref": "x",
          "y": 1.05,
          "yref": "paper"
         },
         {
          "showarrow": false,
          "text": "celltypist",
          "x": 5,
          "xref": "x",
          "y": 1.05,
          "yref": "paper"
         }
        ],
        "font": {
         "size": 10
        },
        "plot_bgcolor": "rgba(0,0,0,0)",
        "template": {
         "data": {
          "bar": [
           {
            "error_x": {
             "color": "#2a3f5f"
            },
            "error_y": {
             "color": "#2a3f5f"
            },
            "marker": {
             "line": {
              "color": "#E5ECF6",
              "width": 0.5
             },
             "pattern": {
              "fillmode": "overlay",
              "size": 10,
              "solidity": 0.2
             }
            },
            "type": "bar"
           }
          ],
          "barpolar": [
           {
            "marker": {
             "line": {
              "color": "#E5ECF6",
              "width": 0.5
             },
             "pattern": {
              "fillmode": "overlay",
              "size": 10,
              "solidity": 0.2
             }
            },
            "type": "barpolar"
           }
          ],
          "carpet": [
           {
            "aaxis": {
             "endlinecolor": "#2a3f5f",
             "gridcolor": "white",
             "linecolor": "white",
             "minorgridcolor": "white",
             "startlinecolor": "#2a3f5f"
            },
            "baxis": {
             "endlinecolor": "#2a3f5f",
             "gridcolor": "white",
             "linecolor": "white",
             "minorgridcolor": "white",
             "startlinecolor": "#2a3f5f"
            },
            "type": "carpet"
           }
          ],
          "choropleth": [
           {
            "colorbar": {
             "outlinewidth": 0,
             "ticks": ""
            },
            "type": "choropleth"
           }
          ],
          "contour": [
           {
            "colorbar": {
             "outlinewidth": 0,
             "ticks": ""
            },
            "colorscale": [
             [
              0,
              "#0d0887"
             ],
             [
              0.1111111111111111,
              "#46039f"
             ],
             [
              0.2222222222222222,
              "#7201a8"
             ],
             [
              0.3333333333333333,
              "#9c179e"
             ],
             [
              0.4444444444444444,
              "#bd3786"
             ],
             [
              0.5555555555555556,
              "#d8576b"
             ],
             [
              0.6666666666666666,
              "#ed7953"
             ],
             [
              0.7777777777777778,
              "#fb9f3a"
             ],
             [
              0.8888888888888888,
              "#fdca26"
             ],
             [
              1,
              "#f0f921"
             ]
            ],
            "type": "contour"
           }
          ],
          "contourcarpet": [
           {
            "colorbar": {
             "outlinewidth": 0,
             "ticks": ""
            },
            "type": "contourcarpet"
           }
          ],
          "heatmap": [
           {
            "colorbar": {
             "outlinewidth": 0,
             "ticks": ""
            },
            "colorscale": [
             [
              0,
              "#0d0887"
             ],
             [
              0.1111111111111111,
              "#46039f"
             ],
             [
              0.2222222222222222,
              "#7201a8"
             ],
             [
              0.3333333333333333,
              "#9c179e"
             ],
             [
              0.4444444444444444,
              "#bd3786"
             ],
             [
              0.5555555555555556,
              "#d8576b"
             ],
             [
              0.6666666666666666,
              "#ed7953"
             ],
             [
              0.7777777777777778,
              "#fb9f3a"
             ],
             [
              0.8888888888888888,
              "#fdca26"
             ],
             [
              1,
              "#f0f921"
             ]
            ],
            "type": "heatmap"
           }
          ],
          "heatmapgl": [
           {
            "colorbar": {
             "outlinewidth": 0,
             "ticks": ""
            },
            "colorscale": [
             [
              0,
              "#0d0887"
             ],
             [
              0.1111111111111111,
              "#46039f"
             ],
             [
              0.2222222222222222,
              "#7201a8"
             ],
             [
              0.3333333333333333,
              "#9c179e"
             ],
             [
              0.4444444444444444,
              "#bd3786"
             ],
             [
              0.5555555555555556,
              "#d8576b"
             ],
             [
              0.6666666666666666,
              "#ed7953"
             ],
             [
              0.7777777777777778,
              "#fb9f3a"
             ],
             [
              0.8888888888888888,
              "#fdca26"
             ],
             [
              1,
              "#f0f921"
             ]
            ],
            "type": "heatmapgl"
           }
          ],
          "histogram": [
           {
            "marker": {
             "pattern": {
              "fillmode": "overlay",
              "size": 10,
              "solidity": 0.2
             }
            },
            "type": "histogram"
           }
          ],
          "histogram2d": [
           {
            "colorbar": {
             "outlinewidth": 0,
             "ticks": ""
            },
            "colorscale": [
             [
              0,
              "#0d0887"
             ],
             [
              0.1111111111111111,
              "#46039f"
             ],
             [
              0.2222222222222222,
              "#7201a8"
             ],
             [
              0.3333333333333333,
              "#9c179e"
             ],
             [
              0.4444444444444444,
              "#bd3786"
             ],
             [
              0.5555555555555556,
              "#d8576b"
             ],
             [
              0.6666666666666666,
              "#ed7953"
             ],
             [
              0.7777777777777778,
              "#fb9f3a"
             ],
             [
              0.8888888888888888,
              "#fdca26"
             ],
             [
              1,
              "#f0f921"
             ]
            ],
            "type": "histogram2d"
           }
          ],
          "histogram2dcontour": [
           {
            "colorbar": {
             "outlinewidth": 0,
             "ticks": ""
            },
            "colorscale": [
             [
              0,
              "#0d0887"
             ],
             [
              0.1111111111111111,
              "#46039f"
             ],
             [
              0.2222222222222222,
              "#7201a8"
             ],
             [
              0.3333333333333333,
              "#9c179e"
             ],
             [
              0.4444444444444444,
              "#bd3786"
             ],
             [
              0.5555555555555556,
              "#d8576b"
             ],
             [
              0.6666666666666666,
              "#ed7953"
             ],
             [
              0.7777777777777778,
              "#fb9f3a"
             ],
             [
              0.8888888888888888,
              "#fdca26"
             ],
             [
              1,
              "#f0f921"
             ]
            ],
            "type": "histogram2dcontour"
           }
          ],
          "mesh3d": [
           {
            "colorbar": {
             "outlinewidth": 0,
             "ticks": ""
            },
            "type": "mesh3d"
           }
          ],
          "parcoords": [
           {
            "line": {
             "colorbar": {
              "outlinewidth": 0,
              "ticks": ""
             }
            },
            "type": "parcoords"
           }
          ],
          "pie": [
           {
            "automargin": true,
            "type": "pie"
           }
          ],
          "scatter": [
           {
            "fillpattern": {
             "fillmode": "overlay",
             "size": 10,
             "solidity": 0.2
            },
            "type": "scatter"
           }
          ],
          "scatter3d": [
           {
            "line": {
             "colorbar": {
              "outlinewidth": 0,
              "ticks": ""
             }
            },
            "marker": {
             "colorbar": {
              "outlinewidth": 0,
              "ticks": ""
             }
            },
            "type": "scatter3d"
           }
          ],
          "scattercarpet": [
           {
            "marker": {
             "colorbar": {
              "outlinewidth": 0,
              "ticks": ""
             }
            },
            "type": "scattercarpet"
           }
          ],
          "scattergeo": [
           {
            "marker": {
             "colorbar": {
              "outlinewidth": 0,
              "ticks": ""
             }
            },
            "type": "scattergeo"
           }
          ],
          "scattergl": [
           {
            "marker": {
             "colorbar": {
              "outlinewidth": 0,
              "ticks": ""
             }
            },
            "type": "scattergl"
           }
          ],
          "scattermapbox": [
           {
            "marker": {
             "colorbar": {
              "outlinewidth": 0,
              "ticks": ""
             }
            },
            "type": "scattermapbox"
           }
          ],
          "scatterpolar": [
           {
            "marker": {
             "colorbar": {
              "outlinewidth": 0,
              "ticks": ""
             }
            },
            "type": "scatterpolar"
           }
          ],
          "scatterpolargl": [
           {
            "marker": {
             "colorbar": {
              "outlinewidth": 0,
              "ticks": ""
             }
            },
            "type": "scatterpolargl"
           }
          ],
          "scatterternary": [
           {
            "marker": {
             "colorbar": {
              "outlinewidth": 0,
              "ticks": ""
             }
            },
            "type": "scatterternary"
           }
          ],
          "surface": [
           {
            "colorbar": {
             "outlinewidth": 0,
             "ticks": ""
            },
            "colorscale": [
             [
              0,
              "#0d0887"
             ],
             [
              0.1111111111111111,
              "#46039f"
             ],
             [
              0.2222222222222222,
              "#7201a8"
             ],
             [
              0.3333333333333333,
              "#9c179e"
             ],
             [
              0.4444444444444444,
              "#bd3786"
             ],
             [
              0.5555555555555556,
              "#d8576b"
             ],
             [
              0.6666666666666666,
              "#ed7953"
             ],
             [
              0.7777777777777778,
              "#fb9f3a"
             ],
             [
              0.8888888888888888,
              "#fdca26"
             ],
             [
              1,
              "#f0f921"
             ]
            ],
            "type": "surface"
           }
          ],
          "table": [
           {
            "cells": {
             "fill": {
              "color": "#EBF0F8"
             },
             "line": {
              "color": "white"
             }
            },
            "header": {
             "fill": {
              "color": "#C8D4E3"
             },
             "line": {
              "color": "white"
             }
            },
            "type": "table"
           }
          ]
         },
         "layout": {
          "annotationdefaults": {
           "arrowcolor": "#2a3f5f",
           "arrowhead": 0,
           "arrowwidth": 1
          },
          "autotypenumbers": "strict",
          "coloraxis": {
           "colorbar": {
            "outlinewidth": 0,
            "ticks": ""
           }
          },
          "colorscale": {
           "diverging": [
            [
             0,
             "#8e0152"
            ],
            [
             0.1,
             "#c51b7d"
            ],
            [
             0.2,
             "#de77ae"
            ],
            [
             0.3,
             "#f1b6da"
            ],
            [
             0.4,
             "#fde0ef"
            ],
            [
             0.5,
             "#f7f7f7"
            ],
            [
             0.6,
             "#e6f5d0"
            ],
            [
             0.7,
             "#b8e186"
            ],
            [
             0.8,
             "#7fbc41"
            ],
            [
             0.9,
             "#4d9221"
            ],
            [
             1,
             "#276419"
            ]
           ],
           "sequential": [
            [
             0,
             "#0d0887"
            ],
            [
             0.1111111111111111,
             "#46039f"
            ],
            [
             0.2222222222222222,
             "#7201a8"
            ],
            [
             0.3333333333333333,
             "#9c179e"
            ],
            [
             0.4444444444444444,
             "#bd3786"
            ],
            [
             0.5555555555555556,
             "#d8576b"
            ],
            [
             0.6666666666666666,
             "#ed7953"
            ],
            [
             0.7777777777777778,
             "#fb9f3a"
            ],
            [
             0.8888888888888888,
             "#fdca26"
            ],
            [
             1,
             "#f0f921"
            ]
           ],
           "sequentialminus": [
            [
             0,
             "#0d0887"
            ],
            [
             0.1111111111111111,
             "#46039f"
            ],
            [
             0.2222222222222222,
             "#7201a8"
            ],
            [
             0.3333333333333333,
             "#9c179e"
            ],
            [
             0.4444444444444444,
             "#bd3786"
            ],
            [
             0.5555555555555556,
             "#d8576b"
            ],
            [
             0.6666666666666666,
             "#ed7953"
            ],
            [
             0.7777777777777778,
             "#fb9f3a"
            ],
            [
             0.8888888888888888,
             "#fdca26"
            ],
            [
             1,
             "#f0f921"
            ]
           ]
          },
          "colorway": [
           "#636efa",
           "#EF553B",
           "#00cc96",
           "#ab63fa",
           "#FFA15A",
           "#19d3f3",
           "#FF6692",
           "#B6E880",
           "#FF97FF",
           "#FECB52"
          ],
          "font": {
           "color": "#2a3f5f"
          },
          "geo": {
           "bgcolor": "white",
           "lakecolor": "white",
           "landcolor": "#E5ECF6",
           "showlakes": true,
           "showland": true,
           "subunitcolor": "white"
          },
          "hoverlabel": {
           "align": "left"
          },
          "hovermode": "closest",
          "mapbox": {
           "style": "light"
          },
          "paper_bgcolor": "white",
          "plot_bgcolor": "#E5ECF6",
          "polar": {
           "angularaxis": {
            "gridcolor": "white",
            "linecolor": "white",
            "ticks": ""
           },
           "bgcolor": "#E5ECF6",
           "radialaxis": {
            "gridcolor": "white",
            "linecolor": "white",
            "ticks": ""
           }
          },
          "scene": {
           "xaxis": {
            "backgroundcolor": "#E5ECF6",
            "gridcolor": "white",
            "gridwidth": 2,
            "linecolor": "white",
            "showbackground": true,
            "ticks": "",
            "zerolinecolor": "white"
           },
           "yaxis": {
            "backgroundcolor": "#E5ECF6",
            "gridcolor": "white",
            "gridwidth": 2,
            "linecolor": "white",
            "showbackground": true,
            "ticks": "",
            "zerolinecolor": "white"
           },
           "zaxis": {
            "backgroundcolor": "#E5ECF6",
            "gridcolor": "white",
            "gridwidth": 2,
            "linecolor": "white",
            "showbackground": true,
            "ticks": "",
            "zerolinecolor": "white"
           }
          },
          "shapedefaults": {
           "line": {
            "color": "#2a3f5f"
           }
          },
          "ternary": {
           "aaxis": {
            "gridcolor": "white",
            "linecolor": "white",
            "ticks": ""
           },
           "baxis": {
            "gridcolor": "white",
            "linecolor": "white",
            "ticks": ""
           },
           "bgcolor": "#E5ECF6",
           "caxis": {
            "gridcolor": "white",
            "linecolor": "white",
            "ticks": ""
           }
          },
          "title": {
           "x": 0.05
          },
          "xaxis": {
           "automargin": true,
           "gridcolor": "white",
           "linecolor": "white",
           "ticks": "",
           "title": {
            "standoff": 15
           },
           "zerolinecolor": "white",
           "zerolinewidth": 2
          },
          "yaxis": {
           "automargin": true,
           "gridcolor": "white",
           "linecolor": "white",
           "ticks": "",
           "title": {
            "standoff": 15
           },
           "zerolinecolor": "white",
           "zerolinewidth": 2
          }
         }
        },
        "title": {
         "text": "PBMC2 - default labels"
        },
        "xaxis": {
         "showgrid": false,
         "visible": false,
         "zeroline": false
        },
        "yaxis": {
         "showgrid": false,
         "visible": false,
         "zeroline": false
        }
       }
      }
     },
     "metadata": {},
     "output_type": "display_data"
    },
    {
     "data": {
      "text/html": [
       "<div>\n",
       "<style scoped>\n",
       "    .dataframe tbody tr th:only-of-type {\n",
       "        vertical-align: middle;\n",
       "    }\n",
       "\n",
       "    .dataframe tbody tr th {\n",
       "        vertical-align: top;\n",
       "    }\n",
       "\n",
       "    .dataframe thead th {\n",
       "        text-align: right;\n",
       "    }\n",
       "</style>\n",
       "<table border=\"1\" class=\"dataframe\">\n",
       "  <thead>\n",
       "    <tr style=\"text-align: right;\">\n",
       "      <th></th>\n",
       "      <th>NMI</th>\n",
       "      <th>ARI</th>\n",
       "      <th>homogeneity</th>\n",
       "      <th>completeness</th>\n",
       "      <th>v_measure</th>\n",
       "      <th>fowlkes_mallows</th>\n",
       "    </tr>\n",
       "  </thead>\n",
       "  <tbody>\n",
       "    <tr>\n",
       "      <th>monocle</th>\n",
       "      <td>0.277314</td>\n",
       "      <td>0.107135</td>\n",
       "      <td>0.165534</td>\n",
       "      <td>0.853977</td>\n",
       "      <td>0.277314</td>\n",
       "      <td>0.450594</td>\n",
       "    </tr>\n",
       "    <tr>\n",
       "      <th>scanpy</th>\n",
       "      <td>0.682604</td>\n",
       "      <td>0.524109</td>\n",
       "      <td>0.759388</td>\n",
       "      <td>0.619922</td>\n",
       "      <td>0.682604</td>\n",
       "      <td>0.602311</td>\n",
       "    </tr>\n",
       "    <tr>\n",
       "      <th>scvi-tools</th>\n",
       "      <td>0.667101</td>\n",
       "      <td>0.533758</td>\n",
       "      <td>0.720104</td>\n",
       "      <td>0.621366</td>\n",
       "      <td>0.667101</td>\n",
       "      <td>0.605379</td>\n",
       "    </tr>\n",
       "    <tr>\n",
       "      <th>seurat</th>\n",
       "      <td>0.745221</td>\n",
       "      <td>0.680424</td>\n",
       "      <td>0.779523</td>\n",
       "      <td>0.713810</td>\n",
       "      <td>0.745221</td>\n",
       "      <td>0.731101</td>\n",
       "    </tr>\n",
       "    <tr>\n",
       "      <th>COTAN</th>\n",
       "      <td>0.707707</td>\n",
       "      <td>0.634022</td>\n",
       "      <td>0.797479</td>\n",
       "      <td>0.636102</td>\n",
       "      <td>0.707707</td>\n",
       "      <td>0.694466</td>\n",
       "    </tr>\n",
       "  </tbody>\n",
       "</table>\n",
       "</div>"
      ],
      "text/plain": [
       "                 NMI       ARI  homogeneity  completeness  v_measure  \\\n",
       "monocle     0.277314  0.107135     0.165534      0.853977   0.277314   \n",
       "scanpy      0.682604  0.524109     0.759388      0.619922   0.682604   \n",
       "scvi-tools  0.667101  0.533758     0.720104      0.621366   0.667101   \n",
       "seurat      0.745221  0.680424     0.779523      0.713810   0.745221   \n",
       "COTAN       0.707707  0.634022     0.797479      0.636102   0.707707   \n",
       "\n",
       "            fowlkes_mallows  \n",
       "monocle            0.450594  \n",
       "scanpy             0.602311  \n",
       "scvi-tools         0.605379  \n",
       "seurat             0.731101  \n",
       "COTAN              0.694466  "
      ]
     },
     "metadata": {},
     "output_type": "display_data"
    },
    {
     "data": {
      "application/vnd.plotly.v1+json": {
       "config": {
        "plotlyServerURL": "https://plot.ly"
       },
       "data": [
        {
         "link": {
          "source": [
           0,
           0,
           0,
           0,
           0,
           0,
           0,
           0,
           0,
           0,
           0,
           0,
           1,
           1,
           1,
           1,
           1,
           1,
           1,
           1,
           1,
           1,
           2,
           2,
           2,
           2,
           2,
           2,
           2,
           2,
           3,
           3,
           3,
           3,
           3,
           3,
           3,
           4,
           4,
           4,
           4,
           4,
           5,
           5,
           5,
           5,
           5,
           5,
           5,
           5,
           6,
           6,
           6,
           7,
           7,
           8,
           8,
           9,
           9,
           9,
           9,
           9,
           9,
           10,
           10,
           10,
           10,
           10,
           10,
           10,
           10,
           11,
           11,
           11,
           11,
           12,
           12,
           12,
           12,
           12,
           12,
           12,
           12,
           13,
           13,
           13,
           13,
           13,
           13,
           13,
           14,
           14,
           14,
           15,
           15,
           15,
           16,
           16,
           17,
           18,
           18,
           19,
           20,
           20,
           20,
           20,
           20,
           21,
           21,
           21,
           21,
           22,
           22,
           22,
           22,
           22,
           23,
           23,
           23,
           24,
           24,
           24,
           25,
           25,
           25,
           25,
           25,
           26,
           26,
           26,
           26,
           26,
           27,
           27,
           27,
           27,
           27,
           27,
           27,
           27,
           28,
           28,
           28,
           28,
           28,
           28,
           28,
           29,
           29,
           30,
           30,
           30,
           30,
           30,
           30,
           31,
           31,
           31,
           31,
           31,
           32,
           32,
           32,
           33,
           33,
           33,
           34,
           34,
           35,
           36,
           37,
           37,
           37,
           38,
           38,
           38,
           38,
           38,
           38,
           38,
           38,
           38,
           38,
           39,
           39,
           39,
           39,
           39,
           39,
           39,
           40,
           40,
           40,
           41,
           41,
           41,
           41,
           41,
           41,
           41,
           41,
           41,
           41,
           41,
           42,
           42,
           42,
           42,
           43,
           43,
           43,
           43,
           43,
           43,
           43,
           43,
           43,
           43,
           43,
           44,
           44,
           44,
           44,
           45,
           45,
           46,
           46,
           47,
           47,
           47,
           47,
           48,
           48,
           48,
           48,
           48,
           48,
           49,
           50,
           51,
           51,
           51,
           51,
           51,
           51,
           52,
           52,
           52,
           52,
           52,
           52,
           53,
           53,
           53,
           53,
           53,
           54,
           54,
           54,
           54,
           54,
           54,
           54,
           55,
           55,
           55,
           55,
           55,
           55,
           56,
           56,
           56,
           56,
           56,
           57,
           57,
           57,
           57,
           58,
           58,
           58,
           59,
           59,
           59,
           59,
           60,
           60,
           60,
           60,
           60,
           61,
           61,
           61,
           61,
           62,
           62,
           62,
           62,
           62,
           62,
           62,
           62,
           63,
           63,
           63,
           63,
           63,
           63,
           64,
           64,
           64,
           64,
           64,
           64,
           65,
           65,
           65,
           66,
           66,
           66,
           66,
           67,
           67,
           67,
           67,
           67,
           68,
           68,
           69,
           69,
           69,
           70,
           70,
           70,
           71,
           71,
           72,
           72,
           72,
           72,
           72,
           72,
           72,
           73,
           74,
           74,
           75,
           75,
           75,
           76,
           76,
           76,
           77,
           78,
           78,
           78,
           78,
           78,
           78,
           78,
           79,
           79
          ],
          "target": [
           2,
           3,
           4,
           5,
           7,
           8,
           9,
           10,
           11,
           12,
           13,
           15,
           3,
           5,
           6,
           8,
           10,
           14,
           16,
           17,
           18,
           19,
           20,
           21,
           23,
           25,
           27,
           28,
           30,
           31,
           20,
           21,
           25,
           27,
           28,
           30,
           31,
           20,
           23,
           27,
           28,
           30,
           20,
           21,
           25,
           27,
           28,
           30,
           31,
           33,
           24,
           29,
           32,
           22,
           34,
           26,
           27,
           21,
           22,
           25,
           27,
           30,
           33,
           20,
           21,
           25,
           27,
           28,
           30,
           31,
           33,
           22,
           27,
           33,
           34,
           20,
           21,
           22,
           25,
           27,
           28,
           30,
           31,
           20,
           23,
           25,
           27,
           28,
           30,
           31,
           24,
           29,
           36,
           22,
           25,
           27,
           24,
           29,
           32,
           32,
           35,
           34,
           37,
           38,
           39,
           42,
           43,
           37,
           38,
           39,
           45,
           38,
           40,
           43,
           45,
           48,
           37,
           42,
           43,
           41,
           46,
           48,
           37,
           38,
           39,
           43,
           45,
           39,
           44,
           45,
           47,
           48,
           37,
           38,
           39,
           42,
           43,
           45,
           47,
           48,
           37,
           38,
           39,
           41,
           42,
           43,
           45,
           41,
           46,
           37,
           38,
           39,
           42,
           43,
           45,
           37,
           38,
           39,
           42,
           43,
           41,
           49,
           50,
           43,
           45,
           48,
           40,
           48,
           50,
           41,
           51,
           52,
           54,
           51,
           53,
           54,
           55,
           59,
           60,
           61,
           62,
           63,
           64,
           51,
           53,
           54,
           55,
           59,
           60,
           61,
           56,
           57,
           58,
           51,
           54,
           66,
           67,
           68,
           69,
           70,
           71,
           72,
           73,
           77,
           51,
           52,
           54,
           61,
           51,
           52,
           53,
           54,
           55,
           59,
           60,
           61,
           62,
           63,
           64,
           58,
           74,
           75,
           76,
           55,
           62,
           65,
           66,
           58,
           74,
           75,
           76,
           55,
           56,
           58,
           63,
           69,
           79,
           67,
           78,
           80,
           82,
           83,
           87,
           88,
           90,
           82,
           83,
           86,
           88,
           89,
           90,
           83,
           87,
           88,
           89,
           90,
           80,
           82,
           86,
           87,
           88,
           89,
           90,
           80,
           82,
           87,
           88,
           89,
           90,
           80,
           83,
           86,
           91,
           92,
           80,
           86,
           91,
           92,
           86,
           91,
           92,
           80,
           82,
           87,
           88,
           82,
           87,
           88,
           89,
           90,
           83,
           87,
           88,
           89,
           80,
           82,
           83,
           84,
           87,
           88,
           89,
           90,
           83,
           86,
           87,
           88,
           89,
           90,
           82,
           83,
           87,
           88,
           89,
           90,
           85,
           86,
           92,
           80,
           81,
           85,
           86,
           80,
           81,
           82,
           87,
           90,
           80,
           87,
           80,
           81,
           85,
           80,
           81,
           85,
           80,
           81,
           80,
           81,
           82,
           83,
           84,
           86,
           87,
           80,
           82,
           84,
           82,
           83,
           84,
           82,
           83,
           84,
           84,
           80,
           82,
           83,
           84,
           87,
           90,
           92,
           80,
           87
          ],
          "value": [
           943,
           621,
           578,
           504,
           462,
           2,
           315,
           300,
           284,
           207,
           203,
           184,
           1,
           1,
           117,
           273,
           2,
           174,
           53,
           87,
           46,
           13,
           632,
           10,
           6,
           1,
           7,
           161,
           77,
           49,
           91,
           370,
           47,
           3,
           49,
           35,
           27,
           10,
           546,
           18,
           3,
           1,
           5,
           414,
           23,
           13,
           19,
           21,
           9,
           1,
           106,
           2,
           9,
           461,
           1,
           274,
           1,
           1,
           3,
           209,
           29,
           1,
           72,
           189,
           13,
           6,
           2,
           55,
           24,
           11,
           2,
           213,
           5,
           1,
           65,
           1,
           51,
           3,
           140,
           2,
           5,
           2,
           3,
           2,
           17,
           11,
           165,
           5,
           2,
           1,
           3,
           163,
           8,
           1,
           7,
           176,
           51,
           2,
           87,
           1,
           45,
           13,
           784,
           5,
           132,
           6,
           3,
           8,
           487,
           362,
           2,
           1,
           619,
           2,
           1,
           58,
           13,
           538,
           18,
           155,
           4,
           1,
           1,
           205,
           30,
           14,
           194,
           1,
           166,
           1,
           105,
           1,
           4,
           19,
           8,
           8,
           375,
           2,
           1,
           4,
           198,
           23,
           71,
           1,
           1,
           2,
           1,
           7,
           160,
           93,
           25,
           41,
           1,
           2,
           1,
           54,
           13,
           31,
           1,
           1,
           15,
           81,
           1,
           6,
           67,
           3,
           17,
           62,
           45,
           8,
           1148,
           3,
           4,
           1,
           9,
           21,
           726,
           4,
           1,
           1,
           8,
           1,
           6,
           24,
           1,
           439,
           101,
           56,
           54,
           1,
           2,
           427,
           207,
           1,
           1,
           3,
           5,
           8,
           32,
           66,
           24,
           35,
           8,
           3,
           1,
           551,
           1,
           2,
           2,
           20,
           135,
           6,
           7,
           1,
           1,
           56,
           3,
           125,
           67,
           2,
           2,
           66,
           96,
           3,
           266,
           99,
           65,
           1,
           100,
           4,
           1,
           1,
           107,
           5,
           1,
           2,
           13,
           81,
           46,
           4,
           1081,
           6,
           76,
           9,
           1,
           1,
           520,
           1,
           10,
           11,
           31,
           11,
           5,
           2,
           114,
           13,
           1,
           22,
           2,
           436,
           2,
           1,
           8,
           6,
           5,
           801,
           4,
           16,
           6,
           9,
           1,
           49,
           46,
           4,
           1,
           4,
           4,
           418,
           4,
           8,
           203,
           1,
           2,
           57,
           1,
           2,
           49,
           1,
           3,
           1,
           11,
           1,
           37,
           11,
           1,
           1,
           1,
           1,
           44,
           105,
           120,
           4,
           9,
           1,
           3,
           19,
           93,
           2,
           1,
           7,
           9,
           6,
           48,
           2,
           91,
           6,
           2,
           2,
           4,
           50,
           12,
           70,
           5,
           2,
           4,
           5,
           6,
           2,
           4,
           29,
           1,
           1,
           60,
           5,
           4,
           20,
           25,
           1,
           1,
           1,
           4,
           1,
           2,
           8,
           1,
           101,
           2,
           1,
           67,
           2,
           1,
           94,
           3,
           37,
           1,
           1,
           1,
           3,
           2,
           1,
           12,
           1
          ]
         },
         "node": {
          "color": [
           "#1f77b4",
           "#ff7f0e",
           "#2ca02c",
           "#d62728",
           "#9467bd",
           "#8c564b",
           "#e377c2",
           "#7f7f7f",
           "#bcbd22",
           "#17becf",
           "#1f77b4",
           "#ff7f0e",
           "#2ca02c",
           "#d62728",
           "#9467bd",
           "#8c564b",
           "#e377c2",
           "#7f7f7f",
           "#bcbd22",
           "#17becf",
           "#1f77b4",
           "#ff7f0e",
           "#2ca02c",
           "#d62728",
           "#9467bd",
           "#8c564b",
           "#e377c2",
           "#7f7f7f",
           "#bcbd22",
           "#17becf",
           "#1f77b4",
           "#ff7f0e",
           "#2ca02c",
           "#d62728",
           "#9467bd",
           "#8c564b",
           "#e377c2",
           "#7f7f7f",
           "#bcbd22",
           "#17becf",
           "#1f77b4",
           "#ff7f0e",
           "#2ca02c",
           "#d62728",
           "#9467bd",
           "#8c564b",
           "#e377c2",
           "#7f7f7f",
           "#bcbd22",
           "#17becf",
           "#1f77b4",
           "#ff7f0e",
           "#2ca02c",
           "#d62728",
           "#9467bd",
           "#8c564b",
           "#e377c2",
           "#7f7f7f",
           "#bcbd22",
           "#17becf",
           "#1f77b4",
           "#ff7f0e",
           "#2ca02c",
           "#d62728",
           "#9467bd",
           "#8c564b",
           "#e377c2",
           "#7f7f7f",
           "#bcbd22",
           "#17becf",
           "#1f77b4",
           "#ff7f0e",
           "#2ca02c",
           "#d62728",
           "#9467bd",
           "#8c564b",
           "#e377c2",
           "#7f7f7f",
           "#bcbd22",
           "#17becf",
           "#1f77b4",
           "#ff7f0e",
           "#2ca02c",
           "#d62728",
           "#9467bd",
           "#8c564b",
           "#e377c2",
           "#7f7f7f",
           "#bcbd22",
           "#17becf",
           "#1f77b4",
           "#ff7f0e",
           "#2ca02c"
          ],
          "label": [
           1,
           2,
           1,
           2,
           3,
           4,
           5,
           6,
           7,
           8,
           9,
           10,
           11,
           12,
           13,
           14,
           15,
           16,
           17,
           18,
           1,
           2,
           3,
           4,
           5,
           6,
           7,
           8,
           9,
           10,
           11,
           12,
           13,
           14,
           15,
           16,
           17,
           1,
           2,
           3,
           4,
           5,
           6,
           7,
           8,
           9,
           10,
           11,
           12,
           13,
           14,
           1,
           2,
           3,
           4,
           5,
           6,
           7,
           8,
           9,
           10,
           11,
           12,
           13,
           14,
           15,
           16,
           17,
           18,
           19,
           20,
           21,
           22,
           23,
           24,
           25,
           26,
           27,
           28,
           29,
           "Cluster-1",
           "Cluster-10",
           "Cluster-11",
           "Cluster-12",
           "Cluster-13",
           "Cluster-2",
           "Cluster-3",
           "Cluster-4",
           "Cluster-5",
           "Cluster-6",
           "Cluster-7",
           "Cluster-8",
           "Cluster-9"
          ],
          "line": {
           "color": "black",
           "width": 0.5
          },
          "pad": 15,
          "thickness": 20
         },
         "type": "sankey"
        }
       ],
       "layout": {
        "annotations": [
         {
          "showarrow": false,
          "text": "monocle",
          "x": 0,
          "xref": "x",
          "y": 1.05,
          "yref": "paper"
         },
         {
          "showarrow": false,
          "text": "scanpy",
          "x": 1,
          "xref": "x",
          "y": 1.05,
          "yref": "paper"
         },
         {
          "showarrow": false,
          "text": "scvi-tools",
          "x": 2,
          "xref": "x",
          "y": 1.05,
          "yref": "paper"
         },
         {
          "showarrow": false,
          "text": "seurat",
          "x": 3,
          "xref": "x",
          "y": 1.05,
          "yref": "paper"
         },
         {
          "showarrow": false,
          "text": "COTAN",
          "x": 4,
          "xref": "x",
          "y": 1.05,
          "yref": "paper"
         },
         {
          "showarrow": false,
          "text": "antibody",
          "x": 5,
          "xref": "x",
          "y": 1.05,
          "yref": "paper"
         }
        ],
        "font": {
         "size": 10
        },
        "plot_bgcolor": "rgba(0,0,0,0)",
        "template": {
         "data": {
          "bar": [
           {
            "error_x": {
             "color": "#2a3f5f"
            },
            "error_y": {
             "color": "#2a3f5f"
            },
            "marker": {
             "line": {
              "color": "#E5ECF6",
              "width": 0.5
             },
             "pattern": {
              "fillmode": "overlay",
              "size": 10,
              "solidity": 0.2
             }
            },
            "type": "bar"
           }
          ],
          "barpolar": [
           {
            "marker": {
             "line": {
              "color": "#E5ECF6",
              "width": 0.5
             },
             "pattern": {
              "fillmode": "overlay",
              "size": 10,
              "solidity": 0.2
             }
            },
            "type": "barpolar"
           }
          ],
          "carpet": [
           {
            "aaxis": {
             "endlinecolor": "#2a3f5f",
             "gridcolor": "white",
             "linecolor": "white",
             "minorgridcolor": "white",
             "startlinecolor": "#2a3f5f"
            },
            "baxis": {
             "endlinecolor": "#2a3f5f",
             "gridcolor": "white",
             "linecolor": "white",
             "minorgridcolor": "white",
             "startlinecolor": "#2a3f5f"
            },
            "type": "carpet"
           }
          ],
          "choropleth": [
           {
            "colorbar": {
             "outlinewidth": 0,
             "ticks": ""
            },
            "type": "choropleth"
           }
          ],
          "contour": [
           {
            "colorbar": {
             "outlinewidth": 0,
             "ticks": ""
            },
            "colorscale": [
             [
              0,
              "#0d0887"
             ],
             [
              0.1111111111111111,
              "#46039f"
             ],
             [
              0.2222222222222222,
              "#7201a8"
             ],
             [
              0.3333333333333333,
              "#9c179e"
             ],
             [
              0.4444444444444444,
              "#bd3786"
             ],
             [
              0.5555555555555556,
              "#d8576b"
             ],
             [
              0.6666666666666666,
              "#ed7953"
             ],
             [
              0.7777777777777778,
              "#fb9f3a"
             ],
             [
              0.8888888888888888,
              "#fdca26"
             ],
             [
              1,
              "#f0f921"
             ]
            ],
            "type": "contour"
           }
          ],
          "contourcarpet": [
           {
            "colorbar": {
             "outlinewidth": 0,
             "ticks": ""
            },
            "type": "contourcarpet"
           }
          ],
          "heatmap": [
           {
            "colorbar": {
             "outlinewidth": 0,
             "ticks": ""
            },
            "colorscale": [
             [
              0,
              "#0d0887"
             ],
             [
              0.1111111111111111,
              "#46039f"
             ],
             [
              0.2222222222222222,
              "#7201a8"
             ],
             [
              0.3333333333333333,
              "#9c179e"
             ],
             [
              0.4444444444444444,
              "#bd3786"
             ],
             [
              0.5555555555555556,
              "#d8576b"
             ],
             [
              0.6666666666666666,
              "#ed7953"
             ],
             [
              0.7777777777777778,
              "#fb9f3a"
             ],
             [
              0.8888888888888888,
              "#fdca26"
             ],
             [
              1,
              "#f0f921"
             ]
            ],
            "type": "heatmap"
           }
          ],
          "heatmapgl": [
           {
            "colorbar": {
             "outlinewidth": 0,
             "ticks": ""
            },
            "colorscale": [
             [
              0,
              "#0d0887"
             ],
             [
              0.1111111111111111,
              "#46039f"
             ],
             [
              0.2222222222222222,
              "#7201a8"
             ],
             [
              0.3333333333333333,
              "#9c179e"
             ],
             [
              0.4444444444444444,
              "#bd3786"
             ],
             [
              0.5555555555555556,
              "#d8576b"
             ],
             [
              0.6666666666666666,
              "#ed7953"
             ],
             [
              0.7777777777777778,
              "#fb9f3a"
             ],
             [
              0.8888888888888888,
              "#fdca26"
             ],
             [
              1,
              "#f0f921"
             ]
            ],
            "type": "heatmapgl"
           }
          ],
          "histogram": [
           {
            "marker": {
             "pattern": {
              "fillmode": "overlay",
              "size": 10,
              "solidity": 0.2
             }
            },
            "type": "histogram"
           }
          ],
          "histogram2d": [
           {
            "colorbar": {
             "outlinewidth": 0,
             "ticks": ""
            },
            "colorscale": [
             [
              0,
              "#0d0887"
             ],
             [
              0.1111111111111111,
              "#46039f"
             ],
             [
              0.2222222222222222,
              "#7201a8"
             ],
             [
              0.3333333333333333,
              "#9c179e"
             ],
             [
              0.4444444444444444,
              "#bd3786"
             ],
             [
              0.5555555555555556,
              "#d8576b"
             ],
             [
              0.6666666666666666,
              "#ed7953"
             ],
             [
              0.7777777777777778,
              "#fb9f3a"
             ],
             [
              0.8888888888888888,
              "#fdca26"
             ],
             [
              1,
              "#f0f921"
             ]
            ],
            "type": "histogram2d"
           }
          ],
          "histogram2dcontour": [
           {
            "colorbar": {
             "outlinewidth": 0,
             "ticks": ""
            },
            "colorscale": [
             [
              0,
              "#0d0887"
             ],
             [
              0.1111111111111111,
              "#46039f"
             ],
             [
              0.2222222222222222,
              "#7201a8"
             ],
             [
              0.3333333333333333,
              "#9c179e"
             ],
             [
              0.4444444444444444,
              "#bd3786"
             ],
             [
              0.5555555555555556,
              "#d8576b"
             ],
             [
              0.6666666666666666,
              "#ed7953"
             ],
             [
              0.7777777777777778,
              "#fb9f3a"
             ],
             [
              0.8888888888888888,
              "#fdca26"
             ],
             [
              1,
              "#f0f921"
             ]
            ],
            "type": "histogram2dcontour"
           }
          ],
          "mesh3d": [
           {
            "colorbar": {
             "outlinewidth": 0,
             "ticks": ""
            },
            "type": "mesh3d"
           }
          ],
          "parcoords": [
           {
            "line": {
             "colorbar": {
              "outlinewidth": 0,
              "ticks": ""
             }
            },
            "type": "parcoords"
           }
          ],
          "pie": [
           {
            "automargin": true,
            "type": "pie"
           }
          ],
          "scatter": [
           {
            "fillpattern": {
             "fillmode": "overlay",
             "size": 10,
             "solidity": 0.2
            },
            "type": "scatter"
           }
          ],
          "scatter3d": [
           {
            "line": {
             "colorbar": {
              "outlinewidth": 0,
              "ticks": ""
             }
            },
            "marker": {
             "colorbar": {
              "outlinewidth": 0,
              "ticks": ""
             }
            },
            "type": "scatter3d"
           }
          ],
          "scattercarpet": [
           {
            "marker": {
             "colorbar": {
              "outlinewidth": 0,
              "ticks": ""
             }
            },
            "type": "scattercarpet"
           }
          ],
          "scattergeo": [
           {
            "marker": {
             "colorbar": {
              "outlinewidth": 0,
              "ticks": ""
             }
            },
            "type": "scattergeo"
           }
          ],
          "scattergl": [
           {
            "marker": {
             "colorbar": {
              "outlinewidth": 0,
              "ticks": ""
             }
            },
            "type": "scattergl"
           }
          ],
          "scattermapbox": [
           {
            "marker": {
             "colorbar": {
              "outlinewidth": 0,
              "ticks": ""
             }
            },
            "type": "scattermapbox"
           }
          ],
          "scatterpolar": [
           {
            "marker": {
             "colorbar": {
              "outlinewidth": 0,
              "ticks": ""
             }
            },
            "type": "scatterpolar"
           }
          ],
          "scatterpolargl": [
           {
            "marker": {
             "colorbar": {
              "outlinewidth": 0,
              "ticks": ""
             }
            },
            "type": "scatterpolargl"
           }
          ],
          "scatterternary": [
           {
            "marker": {
             "colorbar": {
              "outlinewidth": 0,
              "ticks": ""
             }
            },
            "type": "scatterternary"
           }
          ],
          "surface": [
           {
            "colorbar": {
             "outlinewidth": 0,
             "ticks": ""
            },
            "colorscale": [
             [
              0,
              "#0d0887"
             ],
             [
              0.1111111111111111,
              "#46039f"
             ],
             [
              0.2222222222222222,
              "#7201a8"
             ],
             [
              0.3333333333333333,
              "#9c179e"
             ],
             [
              0.4444444444444444,
              "#bd3786"
             ],
             [
              0.5555555555555556,
              "#d8576b"
             ],
             [
              0.6666666666666666,
              "#ed7953"
             ],
             [
              0.7777777777777778,
              "#fb9f3a"
             ],
             [
              0.8888888888888888,
              "#fdca26"
             ],
             [
              1,
              "#f0f921"
             ]
            ],
            "type": "surface"
           }
          ],
          "table": [
           {
            "cells": {
             "fill": {
              "color": "#EBF0F8"
             },
             "line": {
              "color": "white"
             }
            },
            "header": {
             "fill": {
              "color": "#C8D4E3"
             },
             "line": {
              "color": "white"
             }
            },
            "type": "table"
           }
          ]
         },
         "layout": {
          "annotationdefaults": {
           "arrowcolor": "#2a3f5f",
           "arrowhead": 0,
           "arrowwidth": 1
          },
          "autotypenumbers": "strict",
          "coloraxis": {
           "colorbar": {
            "outlinewidth": 0,
            "ticks": ""
           }
          },
          "colorscale": {
           "diverging": [
            [
             0,
             "#8e0152"
            ],
            [
             0.1,
             "#c51b7d"
            ],
            [
             0.2,
             "#de77ae"
            ],
            [
             0.3,
             "#f1b6da"
            ],
            [
             0.4,
             "#fde0ef"
            ],
            [
             0.5,
             "#f7f7f7"
            ],
            [
             0.6,
             "#e6f5d0"
            ],
            [
             0.7,
             "#b8e186"
            ],
            [
             0.8,
             "#7fbc41"
            ],
            [
             0.9,
             "#4d9221"
            ],
            [
             1,
             "#276419"
            ]
           ],
           "sequential": [
            [
             0,
             "#0d0887"
            ],
            [
             0.1111111111111111,
             "#46039f"
            ],
            [
             0.2222222222222222,
             "#7201a8"
            ],
            [
             0.3333333333333333,
             "#9c179e"
            ],
            [
             0.4444444444444444,
             "#bd3786"
            ],
            [
             0.5555555555555556,
             "#d8576b"
            ],
            [
             0.6666666666666666,
             "#ed7953"
            ],
            [
             0.7777777777777778,
             "#fb9f3a"
            ],
            [
             0.8888888888888888,
             "#fdca26"
            ],
            [
             1,
             "#f0f921"
            ]
           ],
           "sequentialminus": [
            [
             0,
             "#0d0887"
            ],
            [
             0.1111111111111111,
             "#46039f"
            ],
            [
             0.2222222222222222,
             "#7201a8"
            ],
            [
             0.3333333333333333,
             "#9c179e"
            ],
            [
             0.4444444444444444,
             "#bd3786"
            ],
            [
             0.5555555555555556,
             "#d8576b"
            ],
            [
             0.6666666666666666,
             "#ed7953"
            ],
            [
             0.7777777777777778,
             "#fb9f3a"
            ],
            [
             0.8888888888888888,
             "#fdca26"
            ],
            [
             1,
             "#f0f921"
            ]
           ]
          },
          "colorway": [
           "#636efa",
           "#EF553B",
           "#00cc96",
           "#ab63fa",
           "#FFA15A",
           "#19d3f3",
           "#FF6692",
           "#B6E880",
           "#FF97FF",
           "#FECB52"
          ],
          "font": {
           "color": "#2a3f5f"
          },
          "geo": {
           "bgcolor": "white",
           "lakecolor": "white",
           "landcolor": "#E5ECF6",
           "showlakes": true,
           "showland": true,
           "subunitcolor": "white"
          },
          "hoverlabel": {
           "align": "left"
          },
          "hovermode": "closest",
          "mapbox": {
           "style": "light"
          },
          "paper_bgcolor": "white",
          "plot_bgcolor": "#E5ECF6",
          "polar": {
           "angularaxis": {
            "gridcolor": "white",
            "linecolor": "white",
            "ticks": ""
           },
           "bgcolor": "#E5ECF6",
           "radialaxis": {
            "gridcolor": "white",
            "linecolor": "white",
            "ticks": ""
           }
          },
          "scene": {
           "xaxis": {
            "backgroundcolor": "#E5ECF6",
            "gridcolor": "white",
            "gridwidth": 2,
            "linecolor": "white",
            "showbackground": true,
            "ticks": "",
            "zerolinecolor": "white"
           },
           "yaxis": {
            "backgroundcolor": "#E5ECF6",
            "gridcolor": "white",
            "gridwidth": 2,
            "linecolor": "white",
            "showbackground": true,
            "ticks": "",
            "zerolinecolor": "white"
           },
           "zaxis": {
            "backgroundcolor": "#E5ECF6",
            "gridcolor": "white",
            "gridwidth": 2,
            "linecolor": "white",
            "showbackground": true,
            "ticks": "",
            "zerolinecolor": "white"
           }
          },
          "shapedefaults": {
           "line": {
            "color": "#2a3f5f"
           }
          },
          "ternary": {
           "aaxis": {
            "gridcolor": "white",
            "linecolor": "white",
            "ticks": ""
           },
           "baxis": {
            "gridcolor": "white",
            "linecolor": "white",
            "ticks": ""
           },
           "bgcolor": "#E5ECF6",
           "caxis": {
            "gridcolor": "white",
            "linecolor": "white",
            "ticks": ""
           }
          },
          "title": {
           "x": 0.05
          },
          "xaxis": {
           "automargin": true,
           "gridcolor": "white",
           "linecolor": "white",
           "ticks": "",
           "title": {
            "standoff": 15
           },
           "zerolinecolor": "white",
           "zerolinewidth": 2
          },
          "yaxis": {
           "automargin": true,
           "gridcolor": "white",
           "linecolor": "white",
           "ticks": "",
           "title": {
            "standoff": 15
           },
           "zerolinecolor": "white",
           "zerolinewidth": 2
          }
         }
        },
        "title": {
         "text": "PBMC2 - default labels"
        },
        "xaxis": {
         "showgrid": false,
         "visible": false,
         "zeroline": false
        },
        "yaxis": {
         "showgrid": false,
         "visible": false,
         "zeroline": false
        }
       }
      }
     },
     "metadata": {},
     "output_type": "display_data"
    },
    {
     "name": "stdout",
     "output_type": "stream",
     "text": [
      "------------------------------\n",
      "PBMC3 - default labels\n"
     ]
    },
    {
     "name": "stderr",
     "output_type": "stream",
     "text": [
      "/Users/irenetesta/anaconda3/envs/chl/lib/python3.11/site-packages/anndata/_core/anndata.py:1113: FutureWarning:\n",
      "\n",
      "is_categorical_dtype is deprecated and will be removed in a future version. Use isinstance(dtype, CategoricalDtype) instead\n",
      "\n"
     ]
    },
    {
     "data": {
      "text/html": [
       "<div>\n",
       "<style scoped>\n",
       "    .dataframe tbody tr th:only-of-type {\n",
       "        vertical-align: middle;\n",
       "    }\n",
       "\n",
       "    .dataframe tbody tr th {\n",
       "        vertical-align: top;\n",
       "    }\n",
       "\n",
       "    .dataframe thead th {\n",
       "        text-align: right;\n",
       "    }\n",
       "</style>\n",
       "<table border=\"1\" class=\"dataframe\">\n",
       "  <thead>\n",
       "    <tr style=\"text-align: right;\">\n",
       "      <th></th>\n",
       "      <th>NMI</th>\n",
       "      <th>ARI</th>\n",
       "      <th>homogeneity</th>\n",
       "      <th>completeness</th>\n",
       "      <th>v_measure</th>\n",
       "      <th>fowlkes_mallows</th>\n",
       "    </tr>\n",
       "  </thead>\n",
       "  <tbody>\n",
       "    <tr>\n",
       "      <th>monocle</th>\n",
       "      <td>0.512556</td>\n",
       "      <td>0.273175</td>\n",
       "      <td>0.350038</td>\n",
       "      <td>0.956777</td>\n",
       "      <td>0.512556</td>\n",
       "      <td>0.539835</td>\n",
       "    </tr>\n",
       "    <tr>\n",
       "      <th>scanpy</th>\n",
       "      <td>0.677829</td>\n",
       "      <td>0.412995</td>\n",
       "      <td>0.770393</td>\n",
       "      <td>0.605122</td>\n",
       "      <td>0.677829</td>\n",
       "      <td>0.510203</td>\n",
       "    </tr>\n",
       "    <tr>\n",
       "      <th>scvi-tools</th>\n",
       "      <td>0.734975</td>\n",
       "      <td>0.525048</td>\n",
       "      <td>0.776449</td>\n",
       "      <td>0.697707</td>\n",
       "      <td>0.734975</td>\n",
       "      <td>0.599726</td>\n",
       "    </tr>\n",
       "    <tr>\n",
       "      <th>seurat</th>\n",
       "      <td>0.753550</td>\n",
       "      <td>0.525128</td>\n",
       "      <td>0.819169</td>\n",
       "      <td>0.697665</td>\n",
       "      <td>0.753550</td>\n",
       "      <td>0.603686</td>\n",
       "    </tr>\n",
       "    <tr>\n",
       "      <th>COTAN</th>\n",
       "      <td>0.680463</td>\n",
       "      <td>0.411260</td>\n",
       "      <td>0.875689</td>\n",
       "      <td>0.556416</td>\n",
       "      <td>0.680463</td>\n",
       "      <td>0.530906</td>\n",
       "    </tr>\n",
       "  </tbody>\n",
       "</table>\n",
       "</div>"
      ],
      "text/plain": [
       "                 NMI       ARI  homogeneity  completeness  v_measure  \\\n",
       "monocle     0.512556  0.273175     0.350038      0.956777   0.512556   \n",
       "scanpy      0.677829  0.412995     0.770393      0.605122   0.677829   \n",
       "scvi-tools  0.734975  0.525048     0.776449      0.697707   0.734975   \n",
       "seurat      0.753550  0.525128     0.819169      0.697665   0.753550   \n",
       "COTAN       0.680463  0.411260     0.875689      0.556416   0.680463   \n",
       "\n",
       "            fowlkes_mallows  \n",
       "monocle            0.539835  \n",
       "scanpy             0.510203  \n",
       "scvi-tools         0.599726  \n",
       "seurat             0.603686  \n",
       "COTAN              0.530906  "
      ]
     },
     "metadata": {},
     "output_type": "display_data"
    },
    {
     "data": {
      "application/vnd.plotly.v1+json": {
       "config": {
        "plotlyServerURL": "https://plot.ly"
       },
       "data": [
        {
         "link": {
          "source": [
           0,
           0,
           0,
           0,
           0,
           0,
           0,
           0,
           0,
           0,
           0,
           0,
           0,
           0,
           0,
           1,
           1,
           1,
           1,
           1,
           1,
           1,
           1,
           1,
           1,
           2,
           2,
           2,
           2,
           3,
           3,
           3,
           3,
           3,
           3,
           4,
           4,
           4,
           4,
           5,
           5,
           5,
           5,
           5,
           5,
           5,
           5,
           5,
           6,
           7,
           7,
           7,
           8,
           8,
           8,
           8,
           8,
           9,
           9,
           9,
           9,
           9,
           9,
           10,
           10,
           10,
           10,
           10,
           10,
           10,
           10,
           10,
           11,
           11,
           11,
           11,
           11,
           11,
           11,
           11,
           11,
           12,
           12,
           12,
           12,
           12,
           12,
           12,
           12,
           12,
           13,
           14,
           14,
           14,
           14,
           14,
           14,
           14,
           14,
           14,
           14,
           14,
           15,
           15,
           15,
           15,
           16,
           16,
           17,
           17,
           17,
           17,
           17,
           17,
           17,
           17,
           17,
           18,
           18,
           18,
           19,
           19,
           19,
           19,
           19,
           19,
           19,
           19,
           20,
           20,
           21,
           21,
           22,
           23,
           23,
           23,
           23,
           23,
           24,
           25,
           25,
           25,
           25,
           25,
           25,
           25,
           25,
           25,
           25,
           26,
           26,
           26,
           26,
           26,
           26,
           27,
           27,
           27,
           27,
           27,
           28,
           28,
           28,
           28,
           28,
           28,
           29,
           29,
           29,
           29,
           29,
           30,
           30,
           30,
           30,
           30,
           30,
           31,
           31,
           31,
           31,
           31,
           31,
           32,
           32,
           32,
           32,
           32,
           32,
           32,
           32,
           33,
           33,
           33,
           33,
           33,
           33,
           34,
           34,
           34,
           34,
           35,
           35,
           35,
           35,
           35,
           36,
           36,
           36,
           36,
           36,
           36,
           36,
           36,
           37,
           37,
           37,
           38,
           38,
           38,
           38,
           38,
           38,
           39,
           39,
           40,
           40,
           40,
           40,
           41,
           42,
           42,
           42,
           42,
           42,
           42,
           42,
           42,
           42,
           42,
           42,
           42,
           43,
           43,
           43,
           43,
           43,
           43,
           43,
           43,
           43,
           43,
           43,
           43,
           43,
           43,
           44,
           44,
           44,
           44,
           44,
           44,
           44,
           44,
           44,
           45,
           45,
           45,
           45,
           45,
           45,
           45,
           46,
           46,
           46,
           46,
           46,
           46,
           46,
           46,
           46,
           46,
           46,
           46,
           46,
           46,
           46,
           46,
           47,
           47,
           47,
           47,
           47,
           47,
           47,
           47,
           47,
           48,
           48,
           48,
           48,
           48,
           48,
           48,
           48,
           48,
           48,
           48,
           48,
           48,
           48,
           48,
           48,
           48,
           48,
           48,
           48,
           48,
           48,
           48,
           48,
           49,
           49,
           49,
           49,
           49,
           49,
           49,
           49,
           49,
           50,
           50,
           50,
           50,
           50,
           50,
           51,
           51,
           51,
           51,
           52,
           52,
           52,
           52,
           52,
           52,
           52,
           53,
           53,
           53,
           53,
           53,
           53,
           53,
           53,
           53,
           53,
           53,
           54,
           54,
           54,
           54,
           55,
           55,
           55,
           55,
           55,
           56,
           56,
           57,
           57,
           57,
           57,
           57,
           57,
           57,
           57,
           57,
           57,
           58,
           59,
           59,
           59,
           59,
           59,
           59,
           59,
           60,
           61,
           61,
           62,
           62,
           62,
           62,
           62,
           63,
           63,
           63,
           64,
           64,
           64,
           64,
           64,
           65,
           66,
           66,
           66,
           66,
           66,
           67,
           67,
           67,
           67,
           67,
           67,
           68,
           69,
           69,
           69,
           69,
           70,
           70,
           70,
           71,
           71,
           71,
           71,
           71,
           71,
           72,
           72,
           72,
           72,
           72,
           72,
           72,
           73,
           73,
           73,
           74,
           74,
           74,
           74,
           74,
           74,
           75,
           75,
           75,
           75,
           75,
           76,
           76,
           76,
           77,
           77,
           78,
           78,
           78,
           78,
           79,
           79,
           80,
           80,
           81,
           81,
           82,
           82,
           82,
           82,
           82,
           83,
           83,
           83,
           83,
           83,
           83,
           84,
           84,
           84,
           84,
           84,
           84,
           84,
           85,
           85,
           86,
           86,
           87,
           87,
           88,
           88,
           88,
           88,
           89,
           89,
           89,
           89,
           89,
           90,
           90,
           91,
           92,
           93,
           93,
           94,
           94,
           94,
           94,
           94,
           95,
           95,
           96,
           97,
           97,
           97,
           97,
           97,
           98,
           98,
           99,
           99,
           100,
           100,
           101,
           102,
           102,
           103,
           104,
           104,
           104,
           105,
           105,
           106,
           106,
           106,
           107,
           107,
           107,
           108,
           108,
           108,
           109,
           109,
           109,
           110,
           110,
           110,
           110,
           111,
           112,
           112,
           112,
           113,
           113,
           114,
           114,
           114,
           115,
           116
          ],
          "target": [
           3,
           4,
           5,
           8,
           9,
           10,
           11,
           12,
           14,
           15,
           17,
           18,
           19,
           23,
           24,
           4,
           7,
           13,
           16,
           18,
           19,
           20,
           21,
           22,
           24,
           6,
           11,
           19,
           22,
           26,
           27,
           30,
           31,
           35,
           36,
           28,
           32,
           36,
           40,
           26,
           27,
           29,
           31,
           32,
           33,
           35,
           36,
           37,
           29,
           25,
           34,
           37,
           27,
           30,
           31,
           32,
           36,
           26,
           28,
           32,
           33,
           36,
           38,
           26,
           27,
           29,
           30,
           31,
           32,
           33,
           35,
           36,
           26,
           29,
           30,
           31,
           32,
           33,
           35,
           36,
           38,
           25,
           26,
           27,
           28,
           30,
           31,
           32,
           35,
           36,
           25,
           26,
           27,
           28,
           29,
           30,
           31,
           32,
           33,
           35,
           36,
           38,
           28,
           32,
           36,
           38,
           25,
           34,
           26,
           27,
           30,
           31,
           32,
           33,
           35,
           36,
           38,
           25,
           35,
           41,
           25,
           28,
           29,
           32,
           35,
           36,
           38,
           40,
           25,
           37,
           33,
           39,
           25,
           26,
           27,
           30,
           31,
           32,
           40,
           42,
           44,
           46,
           49,
           50,
           52,
           53,
           55,
           56,
           57,
           42,
           43,
           46,
           47,
           48,
           50,
           42,
           43,
           46,
           47,
           48,
           43,
           45,
           46,
           48,
           50,
           54,
           43,
           48,
           49,
           51,
           57,
           42,
           43,
           46,
           47,
           48,
           57,
           42,
           43,
           46,
           47,
           48,
           54,
           43,
           45,
           46,
           47,
           48,
           50,
           54,
           57,
           43,
           46,
           48,
           50,
           57,
           58,
           44,
           52,
           53,
           55,
           42,
           43,
           46,
           48,
           57,
           42,
           43,
           45,
           46,
           47,
           48,
           54,
           59,
           44,
           54,
           56,
           43,
           45,
           46,
           48,
           50,
           57,
           56,
           58,
           45,
           49,
           57,
           59,
           59,
           69,
           73,
           76,
           77,
           78,
           79,
           80,
           81,
           82,
           87,
           88,
           89,
           66,
           67,
           71,
           72,
           74,
           75,
           78,
           82,
           83,
           84,
           85,
           87,
           88,
           89,
           90,
           95,
           97,
           98,
           99,
           100,
           101,
           102,
           103,
           60,
           61,
           62,
           63,
           64,
           65,
           73,
           67,
           69,
           71,
           73,
           74,
           75,
           78,
           81,
           82,
           83,
           84,
           85,
           86,
           87,
           88,
           89,
           69,
           71,
           76,
           77,
           78,
           79,
           80,
           86,
           88,
           62,
           66,
           67,
           68,
           69,
           70,
           71,
           72,
           73,
           74,
           75,
           76,
           77,
           78,
           79,
           80,
           82,
           83,
           84,
           85,
           86,
           87,
           88,
           89,
           104,
           105,
           107,
           108,
           109,
           110,
           111,
           112,
           114,
           63,
           66,
           67,
           68,
           72,
           84,
           105,
           106,
           107,
           109,
           90,
           91,
           92,
           93,
           94,
           99,
           100,
           62,
           64,
           89,
           94,
           95,
           96,
           98,
           100,
           101,
           104,
           110,
           61,
           62,
           74,
           85,
           94,
           96,
           100,
           101,
           103,
           97,
           99,
           76,
           83,
           84,
           104,
           105,
           106,
           107,
           108,
           110,
           112,
           115,
           64,
           71,
           72,
           94,
           113,
           114,
           116,
           117,
           117,
           126,
           117,
           123,
           126,
           131,
           132,
           117,
           118,
           132,
           117,
           118,
           123,
           124,
           126,
           117,
           123,
           131,
           132,
           133,
           134,
           117,
           123,
           129,
           131,
           132,
           134,
           134,
           123,
           131,
           132,
           134,
           131,
           132,
           134,
           123,
           124,
           131,
           132,
           133,
           134,
           123,
           124,
           130,
           131,
           132,
           133,
           134,
           117,
           132,
           134,
           117,
           129,
           130,
           131,
           132,
           133,
           129,
           130,
           132,
           133,
           134,
           131,
           132,
           134,
           131,
           132,
           118,
           131,
           132,
           134,
           131,
           132,
           131,
           132,
           132,
           133,
           118,
           130,
           132,
           133,
           134,
           125,
           129,
           130,
           131,
           132,
           133,
           117,
           123,
           125,
           129,
           131,
           132,
           133,
           132,
           133,
           131,
           132,
           130,
           132,
           130,
           131,
           132,
           133,
           118,
           130,
           131,
           132,
           133,
           118,
           128,
           128,
           128,
           118,
           128,
           118,
           124,
           125,
           128,
           132,
           117,
           118,
           118,
           118,
           119,
           120,
           128,
           135,
           118,
           128,
           118,
           128,
           118,
           132,
           118,
           117,
           118,
           118,
           117,
           125,
           129,
           125,
           127,
           117,
           125,
           127,
           125,
           127,
           129,
           117,
           125,
           127,
           125,
           127,
           132,
           117,
           118,
           125,
           127,
           125,
           117,
           125,
           129,
           121,
           133,
           117,
           124,
           125,
           135,
           122
          ],
          "value": [
           1439,
           967,
           953,
           835,
           758,
           721,
           488,
           461,
           392,
           322,
           310,
           5,
           1,
           29,
           4,
           1,
           914,
           392,
           313,
           264,
           12,
           161,
           57,
           37,
           16,
           938,
           1,
           152,
           1,
           15,
           866,
           25,
           524,
           3,
           6,
           961,
           2,
           4,
           1,
           785,
           4,
           2,
           11,
           10,
           16,
           119,
           5,
           1,
           938,
           903,
           5,
           6,
           11,
           814,
           7,
           2,
           1,
           5,
           7,
           311,
           296,
           13,
           126,
           424,
           133,
           1,
           2,
           88,
           22,
           13,
           30,
           8,
           144,
           2,
           2,
           9,
           117,
           180,
           9,
           20,
           6,
           3,
           78,
           206,
           1,
           10,
           155,
           3,
           1,
           4,
           392,
           97,
           104,
           1,
           1,
           59,
           24,
           44,
           25,
           27,
           3,
           7,
           233,
           7,
           81,
           1,
           31,
           282,
           9,
           1,
           45,
           4,
           215,
           6,
           1,
           27,
           2,
           257,
           1,
           11,
           2,
           1,
           137,
           2,
           1,
           13,
           1,
           8,
           18,
           143,
           1,
           56,
           38,
           1,
           16,
           1,
           10,
           1,
           20,
           2,
           1108,
           1,
           1,
           1,
           31,
           252,
           231,
           16,
           1,
           22,
           1092,
           425,
           1,
           12,
           6,
           1108,
           13,
           213,
           6,
           1,
           2,
           1042,
           1,
           4,
           4,
           151,
           3,
           2,
           592,
           338,
           146,
           21,
           3,
           2,
           888,
           43,
           1,
           612,
           21,
           181,
           6,
           10,
           2,
           46,
           3,
           26,
           2,
           647,
           9,
           1,
           2,
           192,
           9,
           11,
           323,
           1,
           1,
           3,
           282,
           1,
           1,
           2,
           16,
           164,
           9,
           1,
           8,
           9,
           1,
           8,
           1,
           53,
           93,
           12,
           5,
           1,
           144,
           3,
           1,
           1,
           12,
           125,
           1,
           5,
           51,
           1,
           7,
           1,
           20,
           11,
           2,
           1,
           4,
           1,
           1745,
           1,
           2,
           1,
           1,
           9,
           7,
           1,
           10,
           3,
           7,
           4,
           2,
           2,
           1,
           142,
           329,
           471,
           372,
           5,
           39,
           13,
           2,
           4,
           4,
           15,
           126,
           49,
           249,
           358,
           309,
           11,
           1,
           1,
           87,
           110,
           837,
           1,
           1,
           3,
           1,
           20,
           146,
           45,
           60,
           11,
           26,
           75,
           14,
           5,
           5,
           90,
           287,
           242,
           1,
           5,
           49,
           41,
           4,
           604,
           197,
           2,
           1,
           3,
           3,
           256,
           62,
           67,
           30,
           249,
           48,
           1,
           1,
           15,
           3,
           2,
           5,
           3,
           2,
           3,
           3,
           11,
           2,
           24,
           3,
           7,
           1,
           9,
           15,
           84,
           84,
           204,
           133,
           28,
           25,
           18,
           2,
           457,
           2,
           1,
           1,
           5,
           332,
           2,
           1,
           3,
           31,
           38,
           158,
           71,
           1,
           13,
           1,
           1,
           1,
           1,
           54,
           20,
           31,
           139,
           1,
           3,
           1,
           1,
           97,
           149,
           1,
           1,
           4,
           1,
           222,
           4,
           1,
           164,
           1,
           2,
           1,
           1,
           6,
           1,
           134,
           2,
           2,
           4,
           1,
           52,
           1,
           1,
           1,
           1,
           11,
           16,
           12,
           11,
           4,
           94,
           144,
           2,
           5,
           1,
           2,
           87,
           1,
           1,
           103,
           1,
           5,
           1,
           2,
           837,
           443,
           1,
           12,
           11,
           3,
           1,
           6,
           1,
           7,
           12,
           235,
           63,
           2,
           3,
           66,
           2,
           27,
           1,
           2,
           1,
           1,
           172,
           35,
           1,
           53,
           3,
           1,
           1,
           10,
           37,
           1,
           1,
           1,
           20,
           2,
           1,
           1,
           126,
           1,
           14,
           7,
           8,
           2,
           42,
           7,
           3,
           55,
           1,
           2,
           39,
           5,
           1,
           8,
           1805,
           1,
           599,
           9,
           195,
           6,
           11,
           1,
           1,
           2,
           159,
           7,
           3,
           1,
           1,
           1,
           2,
           134,
           269,
           1,
           9,
           1,
           1,
           8,
           395,
           87,
           107,
           273,
           14,
           17,
           19,
           88,
           1,
           5,
           314,
           21,
           1,
           22,
           1,
           227,
           7,
           4,
           29,
           38,
           158,
           2,
           69,
           54,
           1,
           1,
           2,
           2,
           22,
           2,
           32,
           12,
           8,
           141,
           2,
           5,
           152,
           2,
           83,
           57,
           272,
           1,
           256,
           1,
           357,
           310,
           1,
           10,
           5,
           31,
           317,
           22,
           109,
           5,
           83,
           2,
           2,
           2,
           82,
           2,
           157,
           49,
           1,
           2,
           1,
           134,
           1,
           28,
           1,
           24,
           1,
           10,
           1,
           1,
           16,
           17,
           52,
           12
          ]
         },
         "node": {
          "color": [
           "#1f77b4",
           "#ff7f0e",
           "#2ca02c",
           "#d62728",
           "#9467bd",
           "#8c564b",
           "#e377c2",
           "#7f7f7f",
           "#bcbd22",
           "#17becf",
           "#1f77b4",
           "#ff7f0e",
           "#2ca02c",
           "#d62728",
           "#9467bd",
           "#8c564b",
           "#e377c2",
           "#7f7f7f",
           "#bcbd22",
           "#17becf",
           "#1f77b4",
           "#ff7f0e",
           "#2ca02c",
           "#d62728",
           "#9467bd",
           "#8c564b",
           "#e377c2",
           "#7f7f7f",
           "#bcbd22",
           "#17becf",
           "#1f77b4",
           "#ff7f0e",
           "#2ca02c",
           "#d62728",
           "#9467bd",
           "#8c564b",
           "#e377c2",
           "#7f7f7f",
           "#bcbd22",
           "#17becf",
           "#1f77b4",
           "#ff7f0e",
           "#2ca02c",
           "#d62728",
           "#9467bd",
           "#8c564b",
           "#e377c2",
           "#7f7f7f",
           "#bcbd22",
           "#17becf",
           "#1f77b4",
           "#ff7f0e",
           "#2ca02c",
           "#d62728",
           "#9467bd",
           "#8c564b",
           "#e377c2",
           "#7f7f7f",
           "#bcbd22",
           "#17becf",
           "#1f77b4",
           "#ff7f0e",
           "#2ca02c",
           "#d62728",
           "#9467bd",
           "#8c564b",
           "#e377c2",
           "#7f7f7f",
           "#bcbd22",
           "#17becf",
           "#1f77b4",
           "#ff7f0e",
           "#2ca02c",
           "#d62728",
           "#9467bd",
           "#8c564b",
           "#e377c2",
           "#7f7f7f",
           "#bcbd22",
           "#17becf",
           "#1f77b4",
           "#ff7f0e",
           "#2ca02c",
           "#d62728",
           "#9467bd",
           "#8c564b",
           "#e377c2",
           "#7f7f7f",
           "#bcbd22",
           "#17becf",
           "#1f77b4",
           "#ff7f0e",
           "#2ca02c",
           "#d62728",
           "#9467bd",
           "#8c564b",
           "#e377c2",
           "#7f7f7f",
           "#bcbd22",
           "#17becf",
           "#1f77b4",
           "#ff7f0e",
           "#2ca02c",
           "#d62728",
           "#9467bd",
           "#8c564b",
           "#e377c2",
           "#7f7f7f",
           "#bcbd22",
           "#17becf",
           "#1f77b4",
           "#ff7f0e",
           "#2ca02c",
           "#d62728",
           "#9467bd",
           "#8c564b",
           "#e377c2",
           "#7f7f7f",
           "#bcbd22",
           "#17becf",
           "#1f77b4",
           "#ff7f0e",
           "#2ca02c",
           "#d62728",
           "#9467bd",
           "#8c564b",
           "#e377c2",
           "#7f7f7f",
           "#bcbd22",
           "#17becf",
           "#1f77b4",
           "#ff7f0e",
           "#2ca02c",
           "#d62728",
           "#9467bd",
           "#8c564b"
          ],
          "label": [
           1,
           2,
           3,
           1,
           2,
           3,
           4,
           5,
           6,
           7,
           8,
           9,
           10,
           11,
           12,
           13,
           14,
           15,
           16,
           17,
           18,
           19,
           20,
           21,
           22,
           1,
           2,
           3,
           4,
           5,
           6,
           7,
           8,
           9,
           10,
           11,
           12,
           13,
           14,
           15,
           16,
           17,
           1,
           2,
           3,
           4,
           5,
           6,
           7,
           8,
           9,
           10,
           11,
           12,
           13,
           14,
           15,
           16,
           17,
           18,
           1,
           2,
           3,
           4,
           5,
           6,
           7,
           8,
           9,
           10,
           11,
           12,
           13,
           14,
           15,
           16,
           17,
           18,
           19,
           20,
           21,
           22,
           23,
           24,
           25,
           26,
           27,
           28,
           29,
           30,
           31,
           32,
           33,
           34,
           35,
           36,
           37,
           38,
           39,
           40,
           41,
           42,
           43,
           44,
           45,
           46,
           47,
           48,
           49,
           50,
           51,
           52,
           53,
           54,
           55,
           56,
           57,
           "CD16+ NK cells",
           "Classical monocytes",
           "DC1",
           "DC2",
           "Epithelial cells",
           "HSC/MPP",
           "MAIT cells",
           "Megakaryocytes/platelets",
           "Memory B cells",
           "NK cells",
           "Naive B cells",
           "Non-classical monocytes",
           "Plasma cells",
           "Regulatory T cells",
           "Tcm/Naive cytotoxic T cells",
           "Tcm/Naive helper T cells",
           "Tem/Effector helper T cells",
           "Tem/Trm cytotoxic T cells",
           "pDC"
          ],
          "line": {
           "color": "black",
           "width": 0.5
          },
          "pad": 15,
          "thickness": 20
         },
         "type": "sankey"
        }
       ],
       "layout": {
        "annotations": [
         {
          "showarrow": false,
          "text": "monocle",
          "x": 0,
          "xref": "x",
          "y": 1.05,
          "yref": "paper"
         },
         {
          "showarrow": false,
          "text": "scanpy",
          "x": 1,
          "xref": "x",
          "y": 1.05,
          "yref": "paper"
         },
         {
          "showarrow": false,
          "text": "scvi-tools",
          "x": 2,
          "xref": "x",
          "y": 1.05,
          "yref": "paper"
         },
         {
          "showarrow": false,
          "text": "seurat",
          "x": 3,
          "xref": "x",
          "y": 1.05,
          "yref": "paper"
         },
         {
          "showarrow": false,
          "text": "COTAN",
          "x": 4,
          "xref": "x",
          "y": 1.05,
          "yref": "paper"
         },
         {
          "showarrow": false,
          "text": "celltypist",
          "x": 5,
          "xref": "x",
          "y": 1.05,
          "yref": "paper"
         }
        ],
        "font": {
         "size": 10
        },
        "plot_bgcolor": "rgba(0,0,0,0)",
        "template": {
         "data": {
          "bar": [
           {
            "error_x": {
             "color": "#2a3f5f"
            },
            "error_y": {
             "color": "#2a3f5f"
            },
            "marker": {
             "line": {
              "color": "#E5ECF6",
              "width": 0.5
             },
             "pattern": {
              "fillmode": "overlay",
              "size": 10,
              "solidity": 0.2
             }
            },
            "type": "bar"
           }
          ],
          "barpolar": [
           {
            "marker": {
             "line": {
              "color": "#E5ECF6",
              "width": 0.5
             },
             "pattern": {
              "fillmode": "overlay",
              "size": 10,
              "solidity": 0.2
             }
            },
            "type": "barpolar"
           }
          ],
          "carpet": [
           {
            "aaxis": {
             "endlinecolor": "#2a3f5f",
             "gridcolor": "white",
             "linecolor": "white",
             "minorgridcolor": "white",
             "startlinecolor": "#2a3f5f"
            },
            "baxis": {
             "endlinecolor": "#2a3f5f",
             "gridcolor": "white",
             "linecolor": "white",
             "minorgridcolor": "white",
             "startlinecolor": "#2a3f5f"
            },
            "type": "carpet"
           }
          ],
          "choropleth": [
           {
            "colorbar": {
             "outlinewidth": 0,
             "ticks": ""
            },
            "type": "choropleth"
           }
          ],
          "contour": [
           {
            "colorbar": {
             "outlinewidth": 0,
             "ticks": ""
            },
            "colorscale": [
             [
              0,
              "#0d0887"
             ],
             [
              0.1111111111111111,
              "#46039f"
             ],
             [
              0.2222222222222222,
              "#7201a8"
             ],
             [
              0.3333333333333333,
              "#9c179e"
             ],
             [
              0.4444444444444444,
              "#bd3786"
             ],
             [
              0.5555555555555556,
              "#d8576b"
             ],
             [
              0.6666666666666666,
              "#ed7953"
             ],
             [
              0.7777777777777778,
              "#fb9f3a"
             ],
             [
              0.8888888888888888,
              "#fdca26"
             ],
             [
              1,
              "#f0f921"
             ]
            ],
            "type": "contour"
           }
          ],
          "contourcarpet": [
           {
            "colorbar": {
             "outlinewidth": 0,
             "ticks": ""
            },
            "type": "contourcarpet"
           }
          ],
          "heatmap": [
           {
            "colorbar": {
             "outlinewidth": 0,
             "ticks": ""
            },
            "colorscale": [
             [
              0,
              "#0d0887"
             ],
             [
              0.1111111111111111,
              "#46039f"
             ],
             [
              0.2222222222222222,
              "#7201a8"
             ],
             [
              0.3333333333333333,
              "#9c179e"
             ],
             [
              0.4444444444444444,
              "#bd3786"
             ],
             [
              0.5555555555555556,
              "#d8576b"
             ],
             [
              0.6666666666666666,
              "#ed7953"
             ],
             [
              0.7777777777777778,
              "#fb9f3a"
             ],
             [
              0.8888888888888888,
              "#fdca26"
             ],
             [
              1,
              "#f0f921"
             ]
            ],
            "type": "heatmap"
           }
          ],
          "heatmapgl": [
           {
            "colorbar": {
             "outlinewidth": 0,
             "ticks": ""
            },
            "colorscale": [
             [
              0,
              "#0d0887"
             ],
             [
              0.1111111111111111,
              "#46039f"
             ],
             [
              0.2222222222222222,
              "#7201a8"
             ],
             [
              0.3333333333333333,
              "#9c179e"
             ],
             [
              0.4444444444444444,
              "#bd3786"
             ],
             [
              0.5555555555555556,
              "#d8576b"
             ],
             [
              0.6666666666666666,
              "#ed7953"
             ],
             [
              0.7777777777777778,
              "#fb9f3a"
             ],
             [
              0.8888888888888888,
              "#fdca26"
             ],
             [
              1,
              "#f0f921"
             ]
            ],
            "type": "heatmapgl"
           }
          ],
          "histogram": [
           {
            "marker": {
             "pattern": {
              "fillmode": "overlay",
              "size": 10,
              "solidity": 0.2
             }
            },
            "type": "histogram"
           }
          ],
          "histogram2d": [
           {
            "colorbar": {
             "outlinewidth": 0,
             "ticks": ""
            },
            "colorscale": [
             [
              0,
              "#0d0887"
             ],
             [
              0.1111111111111111,
              "#46039f"
             ],
             [
              0.2222222222222222,
              "#7201a8"
             ],
             [
              0.3333333333333333,
              "#9c179e"
             ],
             [
              0.4444444444444444,
              "#bd3786"
             ],
             [
              0.5555555555555556,
              "#d8576b"
             ],
             [
              0.6666666666666666,
              "#ed7953"
             ],
             [
              0.7777777777777778,
              "#fb9f3a"
             ],
             [
              0.8888888888888888,
              "#fdca26"
             ],
             [
              1,
              "#f0f921"
             ]
            ],
            "type": "histogram2d"
           }
          ],
          "histogram2dcontour": [
           {
            "colorbar": {
             "outlinewidth": 0,
             "ticks": ""
            },
            "colorscale": [
             [
              0,
              "#0d0887"
             ],
             [
              0.1111111111111111,
              "#46039f"
             ],
             [
              0.2222222222222222,
              "#7201a8"
             ],
             [
              0.3333333333333333,
              "#9c179e"
             ],
             [
              0.4444444444444444,
              "#bd3786"
             ],
             [
              0.5555555555555556,
              "#d8576b"
             ],
             [
              0.6666666666666666,
              "#ed7953"
             ],
             [
              0.7777777777777778,
              "#fb9f3a"
             ],
             [
              0.8888888888888888,
              "#fdca26"
             ],
             [
              1,
              "#f0f921"
             ]
            ],
            "type": "histogram2dcontour"
           }
          ],
          "mesh3d": [
           {
            "colorbar": {
             "outlinewidth": 0,
             "ticks": ""
            },
            "type": "mesh3d"
           }
          ],
          "parcoords": [
           {
            "line": {
             "colorbar": {
              "outlinewidth": 0,
              "ticks": ""
             }
            },
            "type": "parcoords"
           }
          ],
          "pie": [
           {
            "automargin": true,
            "type": "pie"
           }
          ],
          "scatter": [
           {
            "fillpattern": {
             "fillmode": "overlay",
             "size": 10,
             "solidity": 0.2
            },
            "type": "scatter"
           }
          ],
          "scatter3d": [
           {
            "line": {
             "colorbar": {
              "outlinewidth": 0,
              "ticks": ""
             }
            },
            "marker": {
             "colorbar": {
              "outlinewidth": 0,
              "ticks": ""
             }
            },
            "type": "scatter3d"
           }
          ],
          "scattercarpet": [
           {
            "marker": {
             "colorbar": {
              "outlinewidth": 0,
              "ticks": ""
             }
            },
            "type": "scattercarpet"
           }
          ],
          "scattergeo": [
           {
            "marker": {
             "colorbar": {
              "outlinewidth": 0,
              "ticks": ""
             }
            },
            "type": "scattergeo"
           }
          ],
          "scattergl": [
           {
            "marker": {
             "colorbar": {
              "outlinewidth": 0,
              "ticks": ""
             }
            },
            "type": "scattergl"
           }
          ],
          "scattermapbox": [
           {
            "marker": {
             "colorbar": {
              "outlinewidth": 0,
              "ticks": ""
             }
            },
            "type": "scattermapbox"
           }
          ],
          "scatterpolar": [
           {
            "marker": {
             "colorbar": {
              "outlinewidth": 0,
              "ticks": ""
             }
            },
            "type": "scatterpolar"
           }
          ],
          "scatterpolargl": [
           {
            "marker": {
             "colorbar": {
              "outlinewidth": 0,
              "ticks": ""
             }
            },
            "type": "scatterpolargl"
           }
          ],
          "scatterternary": [
           {
            "marker": {
             "colorbar": {
              "outlinewidth": 0,
              "ticks": ""
             }
            },
            "type": "scatterternary"
           }
          ],
          "surface": [
           {
            "colorbar": {
             "outlinewidth": 0,
             "ticks": ""
            },
            "colorscale": [
             [
              0,
              "#0d0887"
             ],
             [
              0.1111111111111111,
              "#46039f"
             ],
             [
              0.2222222222222222,
              "#7201a8"
             ],
             [
              0.3333333333333333,
              "#9c179e"
             ],
             [
              0.4444444444444444,
              "#bd3786"
             ],
             [
              0.5555555555555556,
              "#d8576b"
             ],
             [
              0.6666666666666666,
              "#ed7953"
             ],
             [
              0.7777777777777778,
              "#fb9f3a"
             ],
             [
              0.8888888888888888,
              "#fdca26"
             ],
             [
              1,
              "#f0f921"
             ]
            ],
            "type": "surface"
           }
          ],
          "table": [
           {
            "cells": {
             "fill": {
              "color": "#EBF0F8"
             },
             "line": {
              "color": "white"
             }
            },
            "header": {
             "fill": {
              "color": "#C8D4E3"
             },
             "line": {
              "color": "white"
             }
            },
            "type": "table"
           }
          ]
         },
         "layout": {
          "annotationdefaults": {
           "arrowcolor": "#2a3f5f",
           "arrowhead": 0,
           "arrowwidth": 1
          },
          "autotypenumbers": "strict",
          "coloraxis": {
           "colorbar": {
            "outlinewidth": 0,
            "ticks": ""
           }
          },
          "colorscale": {
           "diverging": [
            [
             0,
             "#8e0152"
            ],
            [
             0.1,
             "#c51b7d"
            ],
            [
             0.2,
             "#de77ae"
            ],
            [
             0.3,
             "#f1b6da"
            ],
            [
             0.4,
             "#fde0ef"
            ],
            [
             0.5,
             "#f7f7f7"
            ],
            [
             0.6,
             "#e6f5d0"
            ],
            [
             0.7,
             "#b8e186"
            ],
            [
             0.8,
             "#7fbc41"
            ],
            [
             0.9,
             "#4d9221"
            ],
            [
             1,
             "#276419"
            ]
           ],
           "sequential": [
            [
             0,
             "#0d0887"
            ],
            [
             0.1111111111111111,
             "#46039f"
            ],
            [
             0.2222222222222222,
             "#7201a8"
            ],
            [
             0.3333333333333333,
             "#9c179e"
            ],
            [
             0.4444444444444444,
             "#bd3786"
            ],
            [
             0.5555555555555556,
             "#d8576b"
            ],
            [
             0.6666666666666666,
             "#ed7953"
            ],
            [
             0.7777777777777778,
             "#fb9f3a"
            ],
            [
             0.8888888888888888,
             "#fdca26"
            ],
            [
             1,
             "#f0f921"
            ]
           ],
           "sequentialminus": [
            [
             0,
             "#0d0887"
            ],
            [
             0.1111111111111111,
             "#46039f"
            ],
            [
             0.2222222222222222,
             "#7201a8"
            ],
            [
             0.3333333333333333,
             "#9c179e"
            ],
            [
             0.4444444444444444,
             "#bd3786"
            ],
            [
             0.5555555555555556,
             "#d8576b"
            ],
            [
             0.6666666666666666,
             "#ed7953"
            ],
            [
             0.7777777777777778,
             "#fb9f3a"
            ],
            [
             0.8888888888888888,
             "#fdca26"
            ],
            [
             1,
             "#f0f921"
            ]
           ]
          },
          "colorway": [
           "#636efa",
           "#EF553B",
           "#00cc96",
           "#ab63fa",
           "#FFA15A",
           "#19d3f3",
           "#FF6692",
           "#B6E880",
           "#FF97FF",
           "#FECB52"
          ],
          "font": {
           "color": "#2a3f5f"
          },
          "geo": {
           "bgcolor": "white",
           "lakecolor": "white",
           "landcolor": "#E5ECF6",
           "showlakes": true,
           "showland": true,
           "subunitcolor": "white"
          },
          "hoverlabel": {
           "align": "left"
          },
          "hovermode": "closest",
          "mapbox": {
           "style": "light"
          },
          "paper_bgcolor": "white",
          "plot_bgcolor": "#E5ECF6",
          "polar": {
           "angularaxis": {
            "gridcolor": "white",
            "linecolor": "white",
            "ticks": ""
           },
           "bgcolor": "#E5ECF6",
           "radialaxis": {
            "gridcolor": "white",
            "linecolor": "white",
            "ticks": ""
           }
          },
          "scene": {
           "xaxis": {
            "backgroundcolor": "#E5ECF6",
            "gridcolor": "white",
            "gridwidth": 2,
            "linecolor": "white",
            "showbackground": true,
            "ticks": "",
            "zerolinecolor": "white"
           },
           "yaxis": {
            "backgroundcolor": "#E5ECF6",
            "gridcolor": "white",
            "gridwidth": 2,
            "linecolor": "white",
            "showbackground": true,
            "ticks": "",
            "zerolinecolor": "white"
           },
           "zaxis": {
            "backgroundcolor": "#E5ECF6",
            "gridcolor": "white",
            "gridwidth": 2,
            "linecolor": "white",
            "showbackground": true,
            "ticks": "",
            "zerolinecolor": "white"
           }
          },
          "shapedefaults": {
           "line": {
            "color": "#2a3f5f"
           }
          },
          "ternary": {
           "aaxis": {
            "gridcolor": "white",
            "linecolor": "white",
            "ticks": ""
           },
           "baxis": {
            "gridcolor": "white",
            "linecolor": "white",
            "ticks": ""
           },
           "bgcolor": "#E5ECF6",
           "caxis": {
            "gridcolor": "white",
            "linecolor": "white",
            "ticks": ""
           }
          },
          "title": {
           "x": 0.05
          },
          "xaxis": {
           "automargin": true,
           "gridcolor": "white",
           "linecolor": "white",
           "ticks": "",
           "title": {
            "standoff": 15
           },
           "zerolinecolor": "white",
           "zerolinewidth": 2
          },
          "yaxis": {
           "automargin": true,
           "gridcolor": "white",
           "linecolor": "white",
           "ticks": "",
           "title": {
            "standoff": 15
           },
           "zerolinecolor": "white",
           "zerolinewidth": 2
          }
         }
        },
        "title": {
         "text": "PBMC3 - default labels"
        },
        "xaxis": {
         "showgrid": false,
         "visible": false,
         "zeroline": false
        },
        "yaxis": {
         "showgrid": false,
         "visible": false,
         "zeroline": false
        }
       }
      }
     },
     "metadata": {},
     "output_type": "display_data"
    },
    {
     "data": {
      "text/html": [
       "<div>\n",
       "<style scoped>\n",
       "    .dataframe tbody tr th:only-of-type {\n",
       "        vertical-align: middle;\n",
       "    }\n",
       "\n",
       "    .dataframe tbody tr th {\n",
       "        vertical-align: top;\n",
       "    }\n",
       "\n",
       "    .dataframe thead th {\n",
       "        text-align: right;\n",
       "    }\n",
       "</style>\n",
       "<table border=\"1\" class=\"dataframe\">\n",
       "  <thead>\n",
       "    <tr style=\"text-align: right;\">\n",
       "      <th></th>\n",
       "      <th>NMI</th>\n",
       "      <th>ARI</th>\n",
       "      <th>homogeneity</th>\n",
       "      <th>completeness</th>\n",
       "      <th>v_measure</th>\n",
       "      <th>fowlkes_mallows</th>\n",
       "    </tr>\n",
       "  </thead>\n",
       "  <tbody>\n",
       "    <tr>\n",
       "      <th>monocle</th>\n",
       "      <td>0.429744</td>\n",
       "      <td>0.168276</td>\n",
       "      <td>0.280823</td>\n",
       "      <td>0.914939</td>\n",
       "      <td>0.429744</td>\n",
       "      <td>0.437511</td>\n",
       "    </tr>\n",
       "    <tr>\n",
       "      <th>scanpy</th>\n",
       "      <td>0.664567</td>\n",
       "      <td>0.542630</td>\n",
       "      <td>0.702416</td>\n",
       "      <td>0.630588</td>\n",
       "      <td>0.664567</td>\n",
       "      <td>0.596647</td>\n",
       "    </tr>\n",
       "    <tr>\n",
       "      <th>scvi-tools</th>\n",
       "      <td>0.680967</td>\n",
       "      <td>0.584528</td>\n",
       "      <td>0.674752</td>\n",
       "      <td>0.687298</td>\n",
       "      <td>0.680967</td>\n",
       "      <td>0.629620</td>\n",
       "    </tr>\n",
       "    <tr>\n",
       "      <th>seurat</th>\n",
       "      <td>0.734744</td>\n",
       "      <td>0.661116</td>\n",
       "      <td>0.743884</td>\n",
       "      <td>0.725826</td>\n",
       "      <td>0.734744</td>\n",
       "      <td>0.698627</td>\n",
       "    </tr>\n",
       "    <tr>\n",
       "      <th>COTAN</th>\n",
       "      <td>0.657683</td>\n",
       "      <td>0.477137</td>\n",
       "      <td>0.779987</td>\n",
       "      <td>0.568536</td>\n",
       "      <td>0.657683</td>\n",
       "      <td>0.548422</td>\n",
       "    </tr>\n",
       "  </tbody>\n",
       "</table>\n",
       "</div>"
      ],
      "text/plain": [
       "                 NMI       ARI  homogeneity  completeness  v_measure  \\\n",
       "monocle     0.429744  0.168276     0.280823      0.914939   0.429744   \n",
       "scanpy      0.664567  0.542630     0.702416      0.630588   0.664567   \n",
       "scvi-tools  0.680967  0.584528     0.674752      0.687298   0.680967   \n",
       "seurat      0.734744  0.661116     0.743884      0.725826   0.734744   \n",
       "COTAN       0.657683  0.477137     0.779987      0.568536   0.657683   \n",
       "\n",
       "            fowlkes_mallows  \n",
       "monocle            0.437511  \n",
       "scanpy             0.596647  \n",
       "scvi-tools         0.629620  \n",
       "seurat             0.698627  \n",
       "COTAN              0.548422  "
      ]
     },
     "metadata": {},
     "output_type": "display_data"
    },
    {
     "data": {
      "application/vnd.plotly.v1+json": {
       "config": {
        "plotlyServerURL": "https://plot.ly"
       },
       "data": [
        {
         "link": {
          "source": [
           0,
           0,
           0,
           0,
           0,
           0,
           0,
           0,
           0,
           0,
           0,
           0,
           0,
           0,
           0,
           1,
           1,
           1,
           1,
           1,
           1,
           1,
           1,
           1,
           1,
           2,
           2,
           2,
           3,
           3,
           3,
           3,
           3,
           3,
           4,
           4,
           4,
           4,
           5,
           5,
           5,
           5,
           5,
           5,
           5,
           5,
           5,
           6,
           7,
           7,
           7,
           8,
           8,
           8,
           8,
           8,
           9,
           9,
           9,
           9,
           9,
           9,
           10,
           10,
           10,
           10,
           10,
           10,
           10,
           10,
           10,
           11,
           11,
           11,
           11,
           11,
           11,
           11,
           11,
           11,
           12,
           12,
           12,
           12,
           12,
           12,
           12,
           12,
           13,
           14,
           14,
           14,
           14,
           14,
           14,
           14,
           14,
           14,
           14,
           14,
           15,
           15,
           15,
           15,
           16,
           16,
           17,
           17,
           17,
           17,
           17,
           17,
           17,
           17,
           17,
           18,
           18,
           19,
           19,
           19,
           19,
           19,
           19,
           19,
           20,
           20,
           21,
           21,
           22,
           23,
           23,
           23,
           23,
           23,
           24,
           25,
           25,
           25,
           25,
           25,
           25,
           26,
           26,
           26,
           26,
           26,
           26,
           27,
           27,
           27,
           27,
           27,
           28,
           28,
           28,
           28,
           28,
           28,
           29,
           29,
           29,
           29,
           29,
           30,
           30,
           30,
           30,
           30,
           31,
           31,
           31,
           31,
           31,
           31,
           32,
           32,
           32,
           32,
           32,
           32,
           32,
           32,
           33,
           33,
           33,
           33,
           33,
           33,
           34,
           34,
           34,
           35,
           35,
           35,
           35,
           36,
           36,
           36,
           36,
           36,
           36,
           36,
           36,
           37,
           37,
           37,
           38,
           38,
           38,
           38,
           38,
           38,
           39,
           39,
           40,
           40,
           40,
           40,
           41,
           42,
           42,
           42,
           42,
           42,
           42,
           42,
           42,
           42,
           43,
           43,
           43,
           43,
           43,
           43,
           43,
           43,
           43,
           43,
           43,
           43,
           43,
           43,
           44,
           44,
           44,
           44,
           44,
           44,
           44,
           44,
           44,
           45,
           45,
           45,
           45,
           45,
           45,
           45,
           46,
           46,
           46,
           46,
           46,
           46,
           46,
           46,
           46,
           46,
           46,
           46,
           46,
           46,
           46,
           46,
           47,
           47,
           47,
           47,
           47,
           47,
           47,
           47,
           47,
           48,
           48,
           48,
           48,
           48,
           48,
           48,
           48,
           48,
           48,
           48,
           48,
           48,
           48,
           48,
           48,
           48,
           48,
           48,
           48,
           48,
           48,
           48,
           48,
           49,
           49,
           49,
           49,
           49,
           49,
           49,
           49,
           49,
           50,
           50,
           50,
           50,
           50,
           50,
           51,
           51,
           51,
           51,
           52,
           52,
           52,
           52,
           52,
           52,
           53,
           53,
           53,
           53,
           53,
           53,
           53,
           53,
           53,
           53,
           54,
           54,
           54,
           54,
           55,
           55,
           55,
           55,
           55,
           56,
           56,
           57,
           57,
           57,
           57,
           57,
           57,
           57,
           57,
           57,
           57,
           58,
           59,
           59,
           59,
           59,
           59,
           60,
           61,
           61,
           61,
           61,
           61,
           62,
           62,
           62,
           62,
           62,
           62,
           62,
           63,
           63,
           63,
           63,
           63,
           63,
           63,
           64,
           64,
           64,
           64,
           64,
           64,
           64,
           64,
           65,
           65,
           65,
           65,
           65,
           66,
           66,
           66,
           66,
           66,
           66,
           66,
           66,
           66,
           66,
           66,
           67,
           67,
           67,
           67,
           67,
           67,
           67,
           68,
           68,
           68,
           69,
           69,
           69,
           69,
           69,
           69,
           70,
           71,
           71,
           71,
           71,
           71,
           71,
           71,
           72,
           72,
           72,
           72,
           72,
           72,
           72,
           73,
           73,
           73,
           73,
           73,
           73,
           74,
           74,
           74,
           74,
           74,
           74,
           74,
           75,
           75,
           75,
           75,
           75,
           75,
           75,
           75,
           76,
           76,
           76,
           76,
           76,
           77,
           77,
           77,
           77,
           77,
           77,
           78,
           78,
           78,
           78,
           78,
           78,
           78,
           78,
           79,
           79,
           79,
           79,
           79,
           79,
           79,
           80,
           80,
           80,
           80,
           80,
           81,
           81,
           82,
           82,
           82,
           82,
           82,
           82,
           82,
           82,
           83,
           83,
           83,
           83,
           83,
           83,
           83,
           83,
           84,
           84,
           84,
           84,
           84,
           84,
           84,
           84,
           84,
           84,
           84,
           85,
           85,
           85,
           85,
           85,
           85,
           85,
           85,
           86,
           86,
           86,
           86,
           86,
           87,
           87,
           87,
           87,
           87,
           87,
           87,
           88,
           88,
           88,
           88,
           88,
           88,
           88,
           88,
           89,
           89,
           89,
           89,
           89,
           89,
           89,
           90,
           90,
           90,
           91,
           91,
           91,
           91,
           91,
           91,
           92,
           92,
           92,
           92,
           92,
           92,
           93,
           93,
           93,
           93,
           93,
           93,
           94,
           94,
           94,
           94,
           94,
           94,
           94,
           94,
           94,
           94,
           95,
           95,
           95,
           96,
           96,
           97,
           97,
           97,
           97,
           97,
           97,
           97,
           97,
           98,
           98,
           98,
           98,
           98,
           98,
           98,
           98,
           98,
           99,
           99,
           99,
           99,
           99,
           99,
           100,
           100,
           100,
           100,
           101,
           101,
           101,
           101,
           101,
           102,
           102,
           102,
           102,
           103,
           103,
           103,
           104,
           104,
           104,
           104,
           104,
           105,
           105,
           106,
           106,
           106,
           106,
           106,
           106,
           106,
           106,
           107,
           107,
           108,
           108,
           108,
           108,
           109,
           109,
           109,
           109,
           110,
           110,
           110,
           110,
           111,
           111,
           112,
           112,
           113,
           113,
           114,
           114,
           114,
           114,
           114,
           115,
           115,
           115,
           115,
           115,
           115,
           115,
           115,
           116,
           116,
           116
          ],
          "target": [
           3,
           4,
           5,
           8,
           9,
           10,
           11,
           12,
           14,
           15,
           17,
           18,
           19,
           23,
           24,
           4,
           7,
           13,
           16,
           18,
           19,
           20,
           21,
           22,
           24,
           6,
           11,
           19,
           26,
           27,
           30,
           31,
           35,
           36,
           28,
           32,
           36,
           40,
           26,
           27,
           29,
           31,
           32,
           33,
           35,
           36,
           37,
           29,
           25,
           34,
           37,
           27,
           30,
           31,
           32,
           36,
           26,
           28,
           32,
           33,
           36,
           38,
           26,
           27,
           29,
           30,
           31,
           32,
           33,
           35,
           36,
           26,
           29,
           30,
           31,
           32,
           33,
           35,
           36,
           38,
           26,
           27,
           28,
           30,
           31,
           32,
           35,
           36,
           25,
           26,
           27,
           28,
           29,
           30,
           31,
           32,
           33,
           35,
           36,
           38,
           28,
           32,
           36,
           38,
           25,
           34,
           26,
           27,
           30,
           31,
           32,
           33,
           35,
           36,
           38,
           25,
           41,
           25,
           28,
           29,
           32,
           36,
           38,
           40,
           25,
           37,
           33,
           39,
           25,
           26,
           27,
           30,
           31,
           32,
           40,
           44,
           50,
           52,
           53,
           55,
           56,
           42,
           43,
           46,
           47,
           48,
           50,
           42,
           43,
           46,
           47,
           48,
           43,
           45,
           46,
           48,
           50,
           54,
           43,
           48,
           49,
           51,
           57,
           42,
           43,
           46,
           47,
           48,
           42,
           43,
           46,
           47,
           48,
           54,
           43,
           45,
           46,
           47,
           48,
           50,
           54,
           57,
           43,
           46,
           48,
           50,
           57,
           58,
           44,
           52,
           53,
           42,
           43,
           46,
           48,
           42,
           43,
           45,
           46,
           47,
           48,
           54,
           59,
           44,
           54,
           56,
           43,
           45,
           46,
           48,
           50,
           57,
           56,
           58,
           45,
           49,
           57,
           59,
           59,
           69,
           76,
           77,
           78,
           79,
           80,
           87,
           88,
           89,
           66,
           67,
           71,
           72,
           74,
           75,
           78,
           82,
           83,
           84,
           85,
           87,
           88,
           89,
           90,
           95,
           97,
           98,
           99,
           100,
           101,
           102,
           103,
           60,
           61,
           62,
           63,
           64,
           65,
           73,
           67,
           69,
           71,
           73,
           74,
           75,
           78,
           81,
           82,
           83,
           84,
           85,
           86,
           87,
           88,
           89,
           69,
           71,
           76,
           77,
           78,
           79,
           80,
           86,
           88,
           62,
           66,
           67,
           68,
           69,
           70,
           71,
           72,
           73,
           74,
           75,
           76,
           77,
           78,
           79,
           80,
           82,
           83,
           84,
           85,
           86,
           87,
           88,
           89,
           104,
           105,
           107,
           108,
           109,
           110,
           111,
           112,
           114,
           63,
           66,
           67,
           68,
           72,
           84,
           105,
           106,
           107,
           109,
           90,
           91,
           92,
           93,
           94,
           99,
           62,
           64,
           89,
           94,
           95,
           96,
           98,
           100,
           101,
           104,
           61,
           62,
           74,
           85,
           94,
           96,
           100,
           101,
           103,
           97,
           99,
           76,
           83,
           84,
           104,
           105,
           106,
           107,
           108,
           110,
           112,
           115,
           72,
           94,
           113,
           114,
           116,
           135,
           122,
           133,
           135,
           136,
           138,
           118,
           120,
           122,
           123,
           128,
           134,
           135,
           118,
           122,
           123,
           128,
           133,
           135,
           138,
           117,
           118,
           122,
           123,
           125,
           133,
           135,
           137,
           122,
           123,
           128,
           133,
           135,
           117,
           118,
           120,
           122,
           123,
           127,
           131,
           134,
           136,
           138,
           139,
           117,
           118,
           120,
           134,
           136,
           138,
           139,
           120,
           134,
           136,
           117,
           120,
           131,
           136,
           138,
           139,
           136,
           117,
           118,
           120,
           134,
           136,
           138,
           139,
           117,
           118,
           120,
           131,
           134,
           136,
           139,
           117,
           118,
           120,
           135,
           136,
           139,
           122,
           131,
           132,
           134,
           136,
           138,
           139,
           117,
           118,
           120,
           131,
           134,
           136,
           138,
           139,
           120,
           127,
           134,
           136,
           138,
           117,
           118,
           120,
           134,
           136,
           138,
           117,
           118,
           120,
           131,
           134,
           136,
           138,
           139,
           117,
           118,
           120,
           123,
           134,
           136,
           138,
           117,
           118,
           120,
           134,
           138,
           136,
           139,
           117,
           131,
           132,
           133,
           134,
           136,
           138,
           139,
           117,
           118,
           131,
           132,
           134,
           136,
           138,
           139,
           117,
           118,
           119,
           120,
           122,
           124,
           131,
           134,
           136,
           138,
           139,
           117,
           119,
           131,
           133,
           134,
           136,
           138,
           139,
           118,
           131,
           134,
           136,
           139,
           118,
           131,
           132,
           134,
           136,
           138,
           139,
           117,
           118,
           122,
           131,
           132,
           134,
           138,
           139,
           118,
           119,
           131,
           132,
           134,
           138,
           139,
           126,
           128,
           137,
           119,
           122,
           123,
           128,
           135,
           139,
           122,
           123,
           125,
           128,
           129,
           135,
           122,
           123,
           126,
           128,
           135,
           137,
           118,
           119,
           126,
           128,
           130,
           134,
           135,
           136,
           137,
           138,
           125,
           128,
           137,
           121,
           126,
           118,
           119,
           121,
           129,
           134,
           137,
           138,
           139,
           117,
           118,
           119,
           120,
           128,
           130,
           137,
           138,
           139,
           118,
           119,
           126,
           128,
           130,
           137,
           119,
           130,
           137,
           138,
           119,
           126,
           128,
           137,
           138,
           119,
           128,
           130,
           137,
           119,
           130,
           137,
           121,
           124,
           126,
           127,
           133,
           121,
           124,
           118,
           120,
           121,
           122,
           123,
           124,
           125,
           127,
           121,
           127,
           121,
           125,
           135,
           139,
           121,
           124,
           125,
           127,
           121,
           124,
           125,
           127,
           121,
           124,
           121,
           125,
           135,
           138,
           119,
           121,
           127,
           135,
           138,
           118,
           121,
           122,
           126,
           128,
           129,
           131,
           137,
           118,
           133,
           138
          ],
          "value": [
           1421,
           950,
           943,
           830,
           749,
           712,
           481,
           452,
           372,
           320,
           307,
           5,
           1,
           29,
           2,
           1,
           759,
           276,
           296,
           207,
           12,
           159,
           56,
           30,
           15,
           874,
           1,
           138,
           14,
           860,
           25,
           513,
           3,
           6,
           944,
           2,
           4,
           1,
           776,
           3,
           2,
           11,
           10,
           16,
           119,
           5,
           1,
           874,
           748,
           5,
           6,
           11,
           809,
           7,
           2,
           1,
           5,
           7,
           306,
           294,
           13,
           124,
           419,
           133,
           1,
           2,
           84,
           22,
           13,
           30,
           8,
           142,
           2,
           2,
           9,
           114,
           178,
           9,
           20,
           6,
           78,
           206,
           1,
           10,
           149,
           3,
           1,
           4,
           276,
           92,
           103,
           1,
           1,
           56,
           18,
           40,
           24,
           27,
           3,
           7,
           231,
           7,
           81,
           1,
           29,
           267,
           9,
           1,
           43,
           4,
           214,
           6,
           1,
           27,
           2,
           210,
           2,
           1,
           1,
           125,
           2,
           13,
           1,
           8,
           18,
           141,
           1,
           55,
           30,
           1,
           16,
           1,
           10,
           1,
           17,
           898,
           1,
           27,
           204,
           166,
           16,
           20,
           1080,
           417,
           1,
           12,
           6,
           1102,
           13,
           211,
           6,
           1,
           2,
           1023,
           1,
           4,
           4,
           151,
           3,
           2,
           543,
           327,
           130,
           21,
           3,
           2,
           881,
           41,
           597,
           21,
           169,
           6,
           10,
           2,
           46,
           3,
           24,
           2,
           636,
           9,
           1,
           2,
           190,
           9,
           11,
           320,
           1,
           1,
           3,
           268,
           1,
           2,
           16,
           163,
           9,
           8,
           9,
           1,
           8,
           1,
           53,
           93,
           12,
           5,
           1,
           142,
           3,
           1,
           1,
           11,
           124,
           1,
           5,
           50,
           1,
           7,
           1,
           17,
           2,
           2,
           4,
           1,
           1723,
           1,
           2,
           9,
           7,
           1,
           10,
           3,
           7,
           4,
           2,
           2,
           1,
           136,
           328,
           467,
           369,
           5,
           39,
           13,
           2,
           3,
           4,
           11,
           108,
           37,
           196,
           290,
           255,
           11,
           1,
           1,
           84,
           109,
           822,
           1,
           1,
           3,
           1,
           11,
           143,
           45,
           59,
           11,
           24,
           74,
           14,
           5,
           5,
           88,
           284,
           237,
           1,
           5,
           48,
           40,
           4,
           600,
           196,
           2,
           1,
           3,
           3,
           247,
           62,
           67,
           29,
           246,
           47,
           1,
           1,
           15,
           3,
           2,
           5,
           3,
           2,
           3,
           3,
           11,
           2,
           24,
           3,
           7,
           1,
           8,
           15,
           78,
           75,
           187,
           118,
           28,
           24,
           17,
           2,
           453,
           2,
           1,
           1,
           5,
           321,
           2,
           1,
           3,
           28,
           37,
           151,
           66,
           1,
           12,
           1,
           1,
           1,
           37,
           17,
           25,
           118,
           1,
           3,
           1,
           97,
           149,
           1,
           1,
           3,
           1,
           158,
           3,
           1,
           162,
           1,
           1,
           1,
           1,
           6,
           1,
           118,
           2,
           2,
           2,
           1,
           51,
           1,
           1,
           2,
           15,
           12,
           11,
           8,
           74,
           13,
           2,
           1,
           3,
           6,
           113,
           28,
           1,
           1,
           2,
           1,
           1,
           2,
           1,
           3,
           73,
           5,
           1,
           1,
           5,
           11,
           1,
           2,
           88,
           1,
           8,
           5,
           1,
           2,
           806,
           182,
           2,
           5,
           3,
           1,
           1,
           1,
           11,
           225,
           10,
           25,
           28,
           2,
           28,
           8,
           163,
           3,
           21,
           1,
           3,
           59,
           53,
           10,
           1,
           6,
           1,
           2,
           29,
           3,
           3,
           27,
           13,
           196,
           7,
           10,
           2,
           1,
           1,
           4,
           33,
           11,
           1,
           1,
           1,
           3,
           1,
           1,
           6,
           1,
           2,
           109,
           2,
           1,
           1,
           31,
           6,
           2,
           3,
           1,
           1,
           3,
           1,
           45,
           48,
           1,
           2,
           4,
           1,
           1,
           1,
           30,
           1,
           2,
           8,
           10,
           1549,
           4,
           18,
           16,
           1,
           31,
           163,
           2,
           2,
           548,
           1,
           41,
           8,
           2,
           3,
           1,
           189,
           4,
           3,
           1,
           10,
           2,
           1,
           3,
           2,
           2,
           2,
           21,
           130,
           1,
           6,
           3,
           3,
           9,
           13,
           6,
           365,
           1,
           3,
           1,
           2,
           1,
           1,
           4,
           14,
           9,
           4,
           458,
           1,
           1,
           8,
           2,
           3,
           2,
           3,
           357,
           1,
           1,
           26,
           1,
           2,
           18,
           1,
           7,
           6,
           1,
           11,
           61,
           1,
           10,
           1,
           13,
           1,
           10,
           4,
           298,
           8,
           1,
           12,
           7,
           3,
           6,
           216,
           2,
           17,
           11,
           2,
           18,
           9,
           4,
           1,
           3,
           1,
           1,
           1,
           139,
           1,
           8,
           1,
           2,
           4,
           56,
           1,
           2,
           1,
           22,
           1,
           1,
           8,
           1,
           1,
           1,
           4,
           2,
           1,
           18,
           1,
           2,
           24,
           4,
           2,
           2,
           37,
           2,
           27,
           87,
           5,
           1,
           3,
           79,
           2,
           6,
           28,
           4,
           5,
           1,
           1,
           6,
           1,
           17,
           1,
           95,
           3,
           2,
           189,
           2,
           3,
           2,
           2,
           192,
           3,
           5,
           4,
           1,
           280,
           2,
           3,
           251,
           9,
           3,
           1,
           1,
           1,
           334,
           3,
           3,
           1,
           4,
           1,
           1,
           66,
           18,
           26,
           79,
           2,
           74,
           1,
           1,
           1,
           185,
           1,
           1,
           3,
           114,
           4,
           1,
           1,
           25,
           3,
           24,
           1,
           1,
           1,
           1,
           15,
           2,
           1,
           13,
           2,
           1,
           3,
           1,
           1,
           40,
           1,
           2,
           2,
           1,
           9
          ]
         },
         "node": {
          "color": [
           "#1f77b4",
           "#ff7f0e",
           "#2ca02c",
           "#d62728",
           "#9467bd",
           "#8c564b",
           "#e377c2",
           "#7f7f7f",
           "#bcbd22",
           "#17becf",
           "#1f77b4",
           "#ff7f0e",
           "#2ca02c",
           "#d62728",
           "#9467bd",
           "#8c564b",
           "#e377c2",
           "#7f7f7f",
           "#bcbd22",
           "#17becf",
           "#1f77b4",
           "#ff7f0e",
           "#2ca02c",
           "#d62728",
           "#9467bd",
           "#8c564b",
           "#e377c2",
           "#7f7f7f",
           "#bcbd22",
           "#17becf",
           "#1f77b4",
           "#ff7f0e",
           "#2ca02c",
           "#d62728",
           "#9467bd",
           "#8c564b",
           "#e377c2",
           "#7f7f7f",
           "#bcbd22",
           "#17becf",
           "#1f77b4",
           "#ff7f0e",
           "#2ca02c",
           "#d62728",
           "#9467bd",
           "#8c564b",
           "#e377c2",
           "#7f7f7f",
           "#bcbd22",
           "#17becf",
           "#1f77b4",
           "#ff7f0e",
           "#2ca02c",
           "#d62728",
           "#9467bd",
           "#8c564b",
           "#e377c2",
           "#7f7f7f",
           "#bcbd22",
           "#17becf",
           "#1f77b4",
           "#ff7f0e",
           "#2ca02c",
           "#d62728",
           "#9467bd",
           "#8c564b",
           "#e377c2",
           "#7f7f7f",
           "#bcbd22",
           "#17becf",
           "#1f77b4",
           "#ff7f0e",
           "#2ca02c",
           "#d62728",
           "#9467bd",
           "#8c564b",
           "#e377c2",
           "#7f7f7f",
           "#bcbd22",
           "#17becf",
           "#1f77b4",
           "#ff7f0e",
           "#2ca02c",
           "#d62728",
           "#9467bd",
           "#8c564b",
           "#e377c2",
           "#7f7f7f",
           "#bcbd22",
           "#17becf",
           "#1f77b4",
           "#ff7f0e",
           "#2ca02c",
           "#d62728",
           "#9467bd",
           "#8c564b",
           "#e377c2",
           "#7f7f7f",
           "#bcbd22",
           "#17becf",
           "#1f77b4",
           "#ff7f0e",
           "#2ca02c",
           "#d62728",
           "#9467bd",
           "#8c564b",
           "#e377c2",
           "#7f7f7f",
           "#bcbd22",
           "#17becf",
           "#1f77b4",
           "#ff7f0e",
           "#2ca02c",
           "#d62728",
           "#9467bd",
           "#8c564b",
           "#e377c2",
           "#7f7f7f",
           "#bcbd22",
           "#17becf",
           "#1f77b4",
           "#ff7f0e",
           "#2ca02c",
           "#d62728",
           "#9467bd",
           "#8c564b",
           "#e377c2",
           "#7f7f7f",
           "#bcbd22",
           "#17becf",
           "#1f77b4",
           "#ff7f0e",
           "#2ca02c",
           "#d62728",
           "#9467bd",
           "#8c564b",
           "#e377c2",
           "#7f7f7f",
           "#bcbd22",
           "#17becf"
          ],
          "label": [
           1,
           2,
           3,
           1,
           2,
           3,
           4,
           5,
           6,
           7,
           8,
           9,
           10,
           11,
           12,
           13,
           14,
           15,
           16,
           17,
           18,
           19,
           20,
           21,
           22,
           1,
           2,
           3,
           4,
           5,
           6,
           7,
           8,
           9,
           10,
           11,
           12,
           13,
           14,
           15,
           16,
           17,
           1,
           2,
           3,
           4,
           5,
           6,
           7,
           8,
           9,
           10,
           11,
           12,
           13,
           14,
           15,
           16,
           17,
           18,
           1,
           2,
           3,
           4,
           5,
           6,
           7,
           8,
           9,
           10,
           11,
           12,
           13,
           14,
           15,
           16,
           17,
           18,
           19,
           20,
           21,
           22,
           23,
           24,
           25,
           26,
           27,
           28,
           29,
           30,
           31,
           32,
           33,
           34,
           35,
           36,
           37,
           38,
           39,
           40,
           41,
           42,
           43,
           44,
           45,
           46,
           47,
           48,
           49,
           50,
           51,
           52,
           53,
           54,
           55,
           56,
           57,
           "Cluster-1",
           "Cluster-10",
           "Cluster-11",
           "Cluster-12",
           "Cluster-13",
           "Cluster-14",
           "Cluster-15",
           "Cluster-16",
           "Cluster-17",
           "Cluster-18",
           "Cluster-19",
           "Cluster-2",
           "Cluster-20",
           "Cluster-21",
           "Cluster-22",
           "Cluster-23",
           "Cluster-3",
           "Cluster-4",
           "Cluster-5",
           "Cluster-6",
           "Cluster-7",
           "Cluster-8",
           "Cluster-9"
          ],
          "line": {
           "color": "black",
           "width": 0.5
          },
          "pad": 15,
          "thickness": 20
         },
         "type": "sankey"
        }
       ],
       "layout": {
        "annotations": [
         {
          "showarrow": false,
          "text": "monocle",
          "x": 0,
          "xref": "x",
          "y": 1.05,
          "yref": "paper"
         },
         {
          "showarrow": false,
          "text": "scanpy",
          "x": 1,
          "xref": "x",
          "y": 1.05,
          "yref": "paper"
         },
         {
          "showarrow": false,
          "text": "scvi-tools",
          "x": 2,
          "xref": "x",
          "y": 1.05,
          "yref": "paper"
         },
         {
          "showarrow": false,
          "text": "seurat",
          "x": 3,
          "xref": "x",
          "y": 1.05,
          "yref": "paper"
         },
         {
          "showarrow": false,
          "text": "COTAN",
          "x": 4,
          "xref": "x",
          "y": 1.05,
          "yref": "paper"
         },
         {
          "showarrow": false,
          "text": "antibody",
          "x": 5,
          "xref": "x",
          "y": 1.05,
          "yref": "paper"
         }
        ],
        "font": {
         "size": 10
        },
        "plot_bgcolor": "rgba(0,0,0,0)",
        "template": {
         "data": {
          "bar": [
           {
            "error_x": {
             "color": "#2a3f5f"
            },
            "error_y": {
             "color": "#2a3f5f"
            },
            "marker": {
             "line": {
              "color": "#E5ECF6",
              "width": 0.5
             },
             "pattern": {
              "fillmode": "overlay",
              "size": 10,
              "solidity": 0.2
             }
            },
            "type": "bar"
           }
          ],
          "barpolar": [
           {
            "marker": {
             "line": {
              "color": "#E5ECF6",
              "width": 0.5
             },
             "pattern": {
              "fillmode": "overlay",
              "size": 10,
              "solidity": 0.2
             }
            },
            "type": "barpolar"
           }
          ],
          "carpet": [
           {
            "aaxis": {
             "endlinecolor": "#2a3f5f",
             "gridcolor": "white",
             "linecolor": "white",
             "minorgridcolor": "white",
             "startlinecolor": "#2a3f5f"
            },
            "baxis": {
             "endlinecolor": "#2a3f5f",
             "gridcolor": "white",
             "linecolor": "white",
             "minorgridcolor": "white",
             "startlinecolor": "#2a3f5f"
            },
            "type": "carpet"
           }
          ],
          "choropleth": [
           {
            "colorbar": {
             "outlinewidth": 0,
             "ticks": ""
            },
            "type": "choropleth"
           }
          ],
          "contour": [
           {
            "colorbar": {
             "outlinewidth": 0,
             "ticks": ""
            },
            "colorscale": [
             [
              0,
              "#0d0887"
             ],
             [
              0.1111111111111111,
              "#46039f"
             ],
             [
              0.2222222222222222,
              "#7201a8"
             ],
             [
              0.3333333333333333,
              "#9c179e"
             ],
             [
              0.4444444444444444,
              "#bd3786"
             ],
             [
              0.5555555555555556,
              "#d8576b"
             ],
             [
              0.6666666666666666,
              "#ed7953"
             ],
             [
              0.7777777777777778,
              "#fb9f3a"
             ],
             [
              0.8888888888888888,
              "#fdca26"
             ],
             [
              1,
              "#f0f921"
             ]
            ],
            "type": "contour"
           }
          ],
          "contourcarpet": [
           {
            "colorbar": {
             "outlinewidth": 0,
             "ticks": ""
            },
            "type": "contourcarpet"
           }
          ],
          "heatmap": [
           {
            "colorbar": {
             "outlinewidth": 0,
             "ticks": ""
            },
            "colorscale": [
             [
              0,
              "#0d0887"
             ],
             [
              0.1111111111111111,
              "#46039f"
             ],
             [
              0.2222222222222222,
              "#7201a8"
             ],
             [
              0.3333333333333333,
              "#9c179e"
             ],
             [
              0.4444444444444444,
              "#bd3786"
             ],
             [
              0.5555555555555556,
              "#d8576b"
             ],
             [
              0.6666666666666666,
              "#ed7953"
             ],
             [
              0.7777777777777778,
              "#fb9f3a"
             ],
             [
              0.8888888888888888,
              "#fdca26"
             ],
             [
              1,
              "#f0f921"
             ]
            ],
            "type": "heatmap"
           }
          ],
          "heatmapgl": [
           {
            "colorbar": {
             "outlinewidth": 0,
             "ticks": ""
            },
            "colorscale": [
             [
              0,
              "#0d0887"
             ],
             [
              0.1111111111111111,
              "#46039f"
             ],
             [
              0.2222222222222222,
              "#7201a8"
             ],
             [
              0.3333333333333333,
              "#9c179e"
             ],
             [
              0.4444444444444444,
              "#bd3786"
             ],
             [
              0.5555555555555556,
              "#d8576b"
             ],
             [
              0.6666666666666666,
              "#ed7953"
             ],
             [
              0.7777777777777778,
              "#fb9f3a"
             ],
             [
              0.8888888888888888,
              "#fdca26"
             ],
             [
              1,
              "#f0f921"
             ]
            ],
            "type": "heatmapgl"
           }
          ],
          "histogram": [
           {
            "marker": {
             "pattern": {
              "fillmode": "overlay",
              "size": 10,
              "solidity": 0.2
             }
            },
            "type": "histogram"
           }
          ],
          "histogram2d": [
           {
            "colorbar": {
             "outlinewidth": 0,
             "ticks": ""
            },
            "colorscale": [
             [
              0,
              "#0d0887"
             ],
             [
              0.1111111111111111,
              "#46039f"
             ],
             [
              0.2222222222222222,
              "#7201a8"
             ],
             [
              0.3333333333333333,
              "#9c179e"
             ],
             [
              0.4444444444444444,
              "#bd3786"
             ],
             [
              0.5555555555555556,
              "#d8576b"
             ],
             [
              0.6666666666666666,
              "#ed7953"
             ],
             [
              0.7777777777777778,
              "#fb9f3a"
             ],
             [
              0.8888888888888888,
              "#fdca26"
             ],
             [
              1,
              "#f0f921"
             ]
            ],
            "type": "histogram2d"
           }
          ],
          "histogram2dcontour": [
           {
            "colorbar": {
             "outlinewidth": 0,
             "ticks": ""
            },
            "colorscale": [
             [
              0,
              "#0d0887"
             ],
             [
              0.1111111111111111,
              "#46039f"
             ],
             [
              0.2222222222222222,
              "#7201a8"
             ],
             [
              0.3333333333333333,
              "#9c179e"
             ],
             [
              0.4444444444444444,
              "#bd3786"
             ],
             [
              0.5555555555555556,
              "#d8576b"
             ],
             [
              0.6666666666666666,
              "#ed7953"
             ],
             [
              0.7777777777777778,
              "#fb9f3a"
             ],
             [
              0.8888888888888888,
              "#fdca26"
             ],
             [
              1,
              "#f0f921"
             ]
            ],
            "type": "histogram2dcontour"
           }
          ],
          "mesh3d": [
           {
            "colorbar": {
             "outlinewidth": 0,
             "ticks": ""
            },
            "type": "mesh3d"
           }
          ],
          "parcoords": [
           {
            "line": {
             "colorbar": {
              "outlinewidth": 0,
              "ticks": ""
             }
            },
            "type": "parcoords"
           }
          ],
          "pie": [
           {
            "automargin": true,
            "type": "pie"
           }
          ],
          "scatter": [
           {
            "fillpattern": {
             "fillmode": "overlay",
             "size": 10,
             "solidity": 0.2
            },
            "type": "scatter"
           }
          ],
          "scatter3d": [
           {
            "line": {
             "colorbar": {
              "outlinewidth": 0,
              "ticks": ""
             }
            },
            "marker": {
             "colorbar": {
              "outlinewidth": 0,
              "ticks": ""
             }
            },
            "type": "scatter3d"
           }
          ],
          "scattercarpet": [
           {
            "marker": {
             "colorbar": {
              "outlinewidth": 0,
              "ticks": ""
             }
            },
            "type": "scattercarpet"
           }
          ],
          "scattergeo": [
           {
            "marker": {
             "colorbar": {
              "outlinewidth": 0,
              "ticks": ""
             }
            },
            "type": "scattergeo"
           }
          ],
          "scattergl": [
           {
            "marker": {
             "colorbar": {
              "outlinewidth": 0,
              "ticks": ""
             }
            },
            "type": "scattergl"
           }
          ],
          "scattermapbox": [
           {
            "marker": {
             "colorbar": {
              "outlinewidth": 0,
              "ticks": ""
             }
            },
            "type": "scattermapbox"
           }
          ],
          "scatterpolar": [
           {
            "marker": {
             "colorbar": {
              "outlinewidth": 0,
              "ticks": ""
             }
            },
            "type": "scatterpolar"
           }
          ],
          "scatterpolargl": [
           {
            "marker": {
             "colorbar": {
              "outlinewidth": 0,
              "ticks": ""
             }
            },
            "type": "scatterpolargl"
           }
          ],
          "scatterternary": [
           {
            "marker": {
             "colorbar": {
              "outlinewidth": 0,
              "ticks": ""
             }
            },
            "type": "scatterternary"
           }
          ],
          "surface": [
           {
            "colorbar": {
             "outlinewidth": 0,
             "ticks": ""
            },
            "colorscale": [
             [
              0,
              "#0d0887"
             ],
             [
              0.1111111111111111,
              "#46039f"
             ],
             [
              0.2222222222222222,
              "#7201a8"
             ],
             [
              0.3333333333333333,
              "#9c179e"
             ],
             [
              0.4444444444444444,
              "#bd3786"
             ],
             [
              0.5555555555555556,
              "#d8576b"
             ],
             [
              0.6666666666666666,
              "#ed7953"
             ],
             [
              0.7777777777777778,
              "#fb9f3a"
             ],
             [
              0.8888888888888888,
              "#fdca26"
             ],
             [
              1,
              "#f0f921"
             ]
            ],
            "type": "surface"
           }
          ],
          "table": [
           {
            "cells": {
             "fill": {
              "color": "#EBF0F8"
             },
             "line": {
              "color": "white"
             }
            },
            "header": {
             "fill": {
              "color": "#C8D4E3"
             },
             "line": {
              "color": "white"
             }
            },
            "type": "table"
           }
          ]
         },
         "layout": {
          "annotationdefaults": {
           "arrowcolor": "#2a3f5f",
           "arrowhead": 0,
           "arrowwidth": 1
          },
          "autotypenumbers": "strict",
          "coloraxis": {
           "colorbar": {
            "outlinewidth": 0,
            "ticks": ""
           }
          },
          "colorscale": {
           "diverging": [
            [
             0,
             "#8e0152"
            ],
            [
             0.1,
             "#c51b7d"
            ],
            [
             0.2,
             "#de77ae"
            ],
            [
             0.3,
             "#f1b6da"
            ],
            [
             0.4,
             "#fde0ef"
            ],
            [
             0.5,
             "#f7f7f7"
            ],
            [
             0.6,
             "#e6f5d0"
            ],
            [
             0.7,
             "#b8e186"
            ],
            [
             0.8,
             "#7fbc41"
            ],
            [
             0.9,
             "#4d9221"
            ],
            [
             1,
             "#276419"
            ]
           ],
           "sequential": [
            [
             0,
             "#0d0887"
            ],
            [
             0.1111111111111111,
             "#46039f"
            ],
            [
             0.2222222222222222,
             "#7201a8"
            ],
            [
             0.3333333333333333,
             "#9c179e"
            ],
            [
             0.4444444444444444,
             "#bd3786"
            ],
            [
             0.5555555555555556,
             "#d8576b"
            ],
            [
             0.6666666666666666,
             "#ed7953"
            ],
            [
             0.7777777777777778,
             "#fb9f3a"
            ],
            [
             0.8888888888888888,
             "#fdca26"
            ],
            [
             1,
             "#f0f921"
            ]
           ],
           "sequentialminus": [
            [
             0,
             "#0d0887"
            ],
            [
             0.1111111111111111,
             "#46039f"
            ],
            [
             0.2222222222222222,
             "#7201a8"
            ],
            [
             0.3333333333333333,
             "#9c179e"
            ],
            [
             0.4444444444444444,
             "#bd3786"
            ],
            [
             0.5555555555555556,
             "#d8576b"
            ],
            [
             0.6666666666666666,
             "#ed7953"
            ],
            [
             0.7777777777777778,
             "#fb9f3a"
            ],
            [
             0.8888888888888888,
             "#fdca26"
            ],
            [
             1,
             "#f0f921"
            ]
           ]
          },
          "colorway": [
           "#636efa",
           "#EF553B",
           "#00cc96",
           "#ab63fa",
           "#FFA15A",
           "#19d3f3",
           "#FF6692",
           "#B6E880",
           "#FF97FF",
           "#FECB52"
          ],
          "font": {
           "color": "#2a3f5f"
          },
          "geo": {
           "bgcolor": "white",
           "lakecolor": "white",
           "landcolor": "#E5ECF6",
           "showlakes": true,
           "showland": true,
           "subunitcolor": "white"
          },
          "hoverlabel": {
           "align": "left"
          },
          "hovermode": "closest",
          "mapbox": {
           "style": "light"
          },
          "paper_bgcolor": "white",
          "plot_bgcolor": "#E5ECF6",
          "polar": {
           "angularaxis": {
            "gridcolor": "white",
            "linecolor": "white",
            "ticks": ""
           },
           "bgcolor": "#E5ECF6",
           "radialaxis": {
            "gridcolor": "white",
            "linecolor": "white",
            "ticks": ""
           }
          },
          "scene": {
           "xaxis": {
            "backgroundcolor": "#E5ECF6",
            "gridcolor": "white",
            "gridwidth": 2,
            "linecolor": "white",
            "showbackground": true,
            "ticks": "",
            "zerolinecolor": "white"
           },
           "yaxis": {
            "backgroundcolor": "#E5ECF6",
            "gridcolor": "white",
            "gridwidth": 2,
            "linecolor": "white",
            "showbackground": true,
            "ticks": "",
            "zerolinecolor": "white"
           },
           "zaxis": {
            "backgroundcolor": "#E5ECF6",
            "gridcolor": "white",
            "gridwidth": 2,
            "linecolor": "white",
            "showbackground": true,
            "ticks": "",
            "zerolinecolor": "white"
           }
          },
          "shapedefaults": {
           "line": {
            "color": "#2a3f5f"
           }
          },
          "ternary": {
           "aaxis": {
            "gridcolor": "white",
            "linecolor": "white",
            "ticks": ""
           },
           "baxis": {
            "gridcolor": "white",
            "linecolor": "white",
            "ticks": ""
           },
           "bgcolor": "#E5ECF6",
           "caxis": {
            "gridcolor": "white",
            "linecolor": "white",
            "ticks": ""
           }
          },
          "title": {
           "x": 0.05
          },
          "xaxis": {
           "automargin": true,
           "gridcolor": "white",
           "linecolor": "white",
           "ticks": "",
           "title": {
            "standoff": 15
           },
           "zerolinecolor": "white",
           "zerolinewidth": 2
          },
          "yaxis": {
           "automargin": true,
           "gridcolor": "white",
           "linecolor": "white",
           "ticks": "",
           "title": {
            "standoff": 15
           },
           "zerolinecolor": "white",
           "zerolinewidth": 2
          }
         }
        },
        "title": {
         "text": "PBMC3 - default labels"
        },
        "xaxis": {
         "showgrid": false,
         "visible": false,
         "zeroline": false
        },
        "yaxis": {
         "showgrid": false,
         "visible": false,
         "zeroline": false
        }
       }
      }
     },
     "metadata": {},
     "output_type": "display_data"
    },
    {
     "name": "stdout",
     "output_type": "stream",
     "text": [
      "------------------------------\n",
      "PBMC4 - default labels\n"
     ]
    },
    {
     "name": "stderr",
     "output_type": "stream",
     "text": [
      "/Users/irenetesta/anaconda3/envs/chl/lib/python3.11/site-packages/anndata/_core/anndata.py:1113: FutureWarning:\n",
      "\n",
      "is_categorical_dtype is deprecated and will be removed in a future version. Use isinstance(dtype, CategoricalDtype) instead\n",
      "\n"
     ]
    },
    {
     "data": {
      "text/html": [
       "<div>\n",
       "<style scoped>\n",
       "    .dataframe tbody tr th:only-of-type {\n",
       "        vertical-align: middle;\n",
       "    }\n",
       "\n",
       "    .dataframe tbody tr th {\n",
       "        vertical-align: top;\n",
       "    }\n",
       "\n",
       "    .dataframe thead th {\n",
       "        text-align: right;\n",
       "    }\n",
       "</style>\n",
       "<table border=\"1\" class=\"dataframe\">\n",
       "  <thead>\n",
       "    <tr style=\"text-align: right;\">\n",
       "      <th></th>\n",
       "      <th>NMI</th>\n",
       "      <th>ARI</th>\n",
       "      <th>homogeneity</th>\n",
       "      <th>completeness</th>\n",
       "      <th>v_measure</th>\n",
       "      <th>fowlkes_mallows</th>\n",
       "    </tr>\n",
       "  </thead>\n",
       "  <tbody>\n",
       "    <tr>\n",
       "      <th>monocle</th>\n",
       "      <td>0.617714</td>\n",
       "      <td>0.497717</td>\n",
       "      <td>0.456620</td>\n",
       "      <td>0.954434</td>\n",
       "      <td>0.617714</td>\n",
       "      <td>0.667591</td>\n",
       "    </tr>\n",
       "    <tr>\n",
       "      <th>scanpy</th>\n",
       "      <td>0.690181</td>\n",
       "      <td>0.355238</td>\n",
       "      <td>0.815725</td>\n",
       "      <td>0.598126</td>\n",
       "      <td>0.690181</td>\n",
       "      <td>0.471439</td>\n",
       "    </tr>\n",
       "    <tr>\n",
       "      <th>scvi-tools</th>\n",
       "      <td>0.737086</td>\n",
       "      <td>0.471157</td>\n",
       "      <td>0.810623</td>\n",
       "      <td>0.675781</td>\n",
       "      <td>0.737086</td>\n",
       "      <td>0.563973</td>\n",
       "    </tr>\n",
       "    <tr>\n",
       "      <th>seurat</th>\n",
       "      <td>0.758058</td>\n",
       "      <td>0.477452</td>\n",
       "      <td>0.853752</td>\n",
       "      <td>0.681654</td>\n",
       "      <td>0.758058</td>\n",
       "      <td>0.576361</td>\n",
       "    </tr>\n",
       "    <tr>\n",
       "      <th>COTAN</th>\n",
       "      <td>0.697523</td>\n",
       "      <td>0.379661</td>\n",
       "      <td>0.819080</td>\n",
       "      <td>0.607383</td>\n",
       "      <td>0.697523</td>\n",
       "      <td>0.484246</td>\n",
       "    </tr>\n",
       "  </tbody>\n",
       "</table>\n",
       "</div>"
      ],
      "text/plain": [
       "                 NMI       ARI  homogeneity  completeness  v_measure  \\\n",
       "monocle     0.617714  0.497717     0.456620      0.954434   0.617714   \n",
       "scanpy      0.690181  0.355238     0.815725      0.598126   0.690181   \n",
       "scvi-tools  0.737086  0.471157     0.810623      0.675781   0.737086   \n",
       "seurat      0.758058  0.477452     0.853752      0.681654   0.758058   \n",
       "COTAN       0.697523  0.379661     0.819080      0.607383   0.697523   \n",
       "\n",
       "            fowlkes_mallows  \n",
       "monocle            0.667591  \n",
       "scanpy             0.471439  \n",
       "scvi-tools         0.563973  \n",
       "seurat             0.576361  \n",
       "COTAN              0.484246  "
      ]
     },
     "metadata": {},
     "output_type": "display_data"
    },
    {
     "data": {
      "application/vnd.plotly.v1+json": {
       "config": {
        "plotlyServerURL": "https://plot.ly"
       },
       "data": [
        {
         "link": {
          "source": [
           0,
           0,
           0,
           0,
           0,
           0,
           0,
           0,
           0,
           0,
           0,
           0,
           0,
           1,
           1,
           1,
           1,
           1,
           1,
           1,
           1,
           1,
           1,
           1,
           1,
           2,
           2,
           2,
           2,
           2,
           2,
           3,
           3,
           3,
           3,
           3,
           3,
           3,
           3,
           4,
           4,
           5,
           5,
           5,
           6,
           6,
           6,
           6,
           6,
           7,
           7,
           7,
           7,
           7,
           7,
           7,
           8,
           8,
           8,
           8,
           8,
           8,
           9,
           9,
           9,
           9,
           10,
           10,
           10,
           10,
           10,
           10,
           10,
           11,
           11,
           11,
           11,
           11,
           12,
           12,
           12,
           12,
           12,
           12,
           12,
           13,
           13,
           13,
           13,
           13,
           13,
           13,
           13,
           14,
           14,
           14,
           14,
           14,
           15,
           15,
           15,
           15,
           15,
           15,
           15,
           16,
           16,
           16,
           16,
           16,
           16,
           16,
           17,
           17,
           17,
           18,
           18,
           18,
           18,
           18,
           18,
           19,
           19,
           19,
           19,
           19,
           20,
           20,
           20,
           20,
           20,
           20,
           20,
           21,
           21,
           21,
           22,
           22,
           22,
           22,
           22,
           22,
           22,
           23,
           23,
           24,
           25,
           25,
           25,
           25,
           25,
           26,
           26,
           26,
           26,
           26,
           26,
           27,
           27,
           27,
           27,
           27,
           27,
           27,
           27,
           27,
           27,
           28,
           28,
           28,
           28,
           28,
           29,
           29,
           29,
           29,
           29,
           29,
           29,
           29,
           29,
           30,
           30,
           30,
           30,
           30,
           30,
           30,
           30,
           31,
           31,
           31,
           31,
           31,
           31,
           32,
           32,
           32,
           32,
           32,
           33,
           33,
           33,
           33,
           33,
           33,
           33,
           33,
           33,
           34,
           34,
           34,
           34,
           34,
           34,
           34,
           35,
           35,
           35,
           35,
           36,
           36,
           36,
           36,
           36,
           37,
           37,
           37,
           37,
           37,
           37,
           37,
           37,
           37,
           37,
           37,
           38,
           38,
           38,
           38,
           38,
           39,
           39,
           39,
           39,
           40,
           40,
           40,
           40,
           40,
           41,
           42,
           43,
           43,
           43,
           43,
           43,
           43,
           44,
           44,
           45,
           45,
           45,
           45,
           45,
           46,
           46,
           46,
           46,
           46,
           46,
           47,
           47,
           47,
           47,
           47,
           48,
           48,
           48,
           48,
           48,
           48,
           48,
           49,
           49,
           49,
           50,
           50,
           50,
           50,
           50,
           50,
           51,
           51,
           51,
           51,
           51,
           51,
           51,
           51,
           52,
           52,
           52,
           52,
           53,
           53,
           53,
           53,
           53,
           54,
           55,
           56,
           56,
           56,
           56,
           56,
           57,
           57,
           58,
           58,
           58,
           58,
           58,
           58,
           59,
           60,
           60,
           60,
           60,
           60,
           60,
           61,
           61,
           61,
           61,
           61,
           62,
           62,
           63,
           63,
           63,
           63,
           64,
           64,
           64,
           65,
           65,
           65,
           66,
           67,
           68,
           68,
           68,
           69,
           69,
           69,
           70,
           70,
           70,
           71,
           71,
           71,
           71,
           72,
           72,
           72,
           73,
           73,
           73,
           73,
           74,
           74,
           74,
           75,
           75,
           75,
           75,
           76,
           76,
           77,
           77,
           78,
           78,
           78,
           78,
           79,
           79,
           80,
           80,
           81,
           81,
           81,
           81,
           82,
           82,
           82,
           82,
           82,
           82,
           83,
           83,
           84,
           85,
           85,
           85,
           86,
           86,
           87,
           88,
           88,
           88,
           88,
           88,
           88,
           89,
           89,
           89,
           89,
           89,
           89,
           89,
           89,
           89,
           90,
           90,
           90,
           90,
           91,
           91,
           91
          ],
          "target": [
           3,
           7,
           8,
           9,
           10,
           11,
           13,
           15,
           16,
           17,
           20,
           21,
           22,
           5,
           6,
           9,
           11,
           12,
           14,
           15,
           18,
           19,
           20,
           22,
           23,
           4,
           13,
           15,
           19,
           22,
           24,
           26,
           28,
           31,
           32,
           33,
           37,
           38,
           40,
           25,
           40,
           27,
           29,
           30,
           27,
           29,
           30,
           35,
           36,
           26,
           28,
           31,
           33,
           34,
           38,
           40,
           26,
           28,
           33,
           34,
           38,
           40,
           27,
           29,
           30,
           37,
           26,
           31,
           32,
           33,
           37,
           38,
           39,
           25,
           31,
           33,
           37,
           39,
           27,
           29,
           30,
           35,
           36,
           37,
           38,
           25,
           26,
           28,
           32,
           33,
           37,
           38,
           40,
           27,
           29,
           30,
           35,
           37,
           26,
           27,
           28,
           33,
           34,
           38,
           40,
           26,
           28,
           32,
           33,
           34,
           37,
           39,
           28,
           33,
           34,
           27,
           29,
           30,
           33,
           35,
           36,
           25,
           27,
           29,
           30,
           36,
           27,
           29,
           30,
           31,
           32,
           36,
           37,
           31,
           33,
           39,
           25,
           27,
           29,
           30,
           33,
           35,
           42,
           36,
           41,
           25,
           47,
           51,
           58,
           60,
           61,
           43,
           44,
           49,
           52,
           53,
           60,
           43,
           45,
           46,
           48,
           51,
           54,
           56,
           57,
           58,
           61,
           43,
           44,
           53,
           55,
           60,
           45,
           46,
           48,
           51,
           54,
           56,
           57,
           58,
           61,
           45,
           46,
           48,
           54,
           56,
           57,
           58,
           61,
           43,
           49,
           50,
           51,
           52,
           56,
           43,
           49,
           52,
           56,
           60,
           43,
           44,
           48,
           49,
           50,
           52,
           53,
           55,
           60,
           43,
           44,
           52,
           53,
           55,
           57,
           60,
           46,
           48,
           54,
           56,
           45,
           48,
           56,
           57,
           59,
           43,
           45,
           46,
           48,
           49,
           50,
           51,
           52,
           53,
           54,
           56,
           43,
           44,
           53,
           56,
           60,
           43,
           49,
           50,
           52,
           43,
           44,
           51,
           53,
           55,
           59,
           58,
           63,
           78,
           82,
           85,
           88,
           89,
           88,
           89,
           64,
           65,
           66,
           67,
           68,
           64,
           65,
           66,
           67,
           68,
           70,
           74,
           75,
           76,
           77,
           78,
           63,
           64,
           65,
           66,
           67,
           68,
           69,
           82,
           86,
           89,
           81,
           83,
           84,
           85,
           86,
           87,
           62,
           72,
           74,
           75,
           76,
           77,
           78,
           86,
           81,
           82,
           88,
           89,
           63,
           88,
           89,
           90,
           91,
           70,
           88,
           63,
           64,
           65,
           69,
           70,
           65,
           71,
           65,
           66,
           68,
           74,
           75,
           80,
           79,
           73,
           74,
           75,
           77,
           78,
           88,
           62,
           63,
           64,
           68,
           69,
           93,
           104,
           92,
           93,
           94,
           104,
           93,
           100,
           104,
           93,
           100,
           104,
           93,
           93,
           93,
           94,
           100,
           93,
           94,
           100,
           93,
           100,
           104,
           93,
           94,
           95,
           100,
           98,
           99,
           101,
           92,
           95,
           99,
           104,
           93,
           98,
           99,
           93,
           98,
           99,
           101,
           98,
           99,
           98,
           99,
           98,
           99,
           101,
           104,
           94,
           108,
           93,
           97,
           92,
           96,
           106,
           107,
           92,
           93,
           96,
           99,
           104,
           107,
           92,
           104,
           92,
           92,
           95,
           104,
           92,
           104,
           92,
           99,
           102,
           103,
           104,
           105,
           107,
           92,
           93,
           96,
           102,
           103,
           104,
           105,
           106,
           107,
           102,
           104,
           106,
           107,
           92,
           102,
           104
          ],
          "value": [
           832,
           509,
           447,
           1,
           399,
           359,
           11,
           211,
           193,
           190,
           7,
           101,
           1,
           596,
           530,
           427,
           1,
           284,
           217,
           4,
           181,
           155,
           142,
           74,
           59,
           719,
           261,
           2,
           12,
           2,
           39,
           669,
           59,
           6,
           14,
           10,
           2,
           46,
           26,
           718,
           1,
           356,
           100,
           140,
           37,
           267,
           216,
           6,
           4,
           70,
           411,
           1,
           1,
           5,
           3,
           18,
           106,
           287,
           4,
           1,
           18,
           31,
           373,
           37,
           17,
           1,
           1,
           3,
           301,
           9,
           1,
           2,
           82,
           1,
           347,
           9,
           1,
           2,
           36,
           225,
           12,
           2,
           4,
           4,
           1,
           248,
           1,
           1,
           8,
           4,
           1,
           3,
           6,
           5,
           5,
           4,
           202,
           1,
           95,
           2,
           65,
           1,
           13,
           34,
           7,
           9,
           1,
           8,
           155,
           18,
           1,
           1,
           1,
           6,
           183,
           14,
           42,
           120,
           1,
           2,
           2,
           2,
           23,
           26,
           8,
           108,
           27,
           13,
           5,
           1,
           2,
           2,
           99,
           5,
           90,
           6,
           2,
           7,
           38,
           1,
           1,
           1,
           27,
           1,
           58,
           39,
           633,
           337,
           2,
           37,
           1,
           759,
           88,
           4,
           7,
           92,
           1,
           2,
           197,
           575,
           49,
           1,
           5,
           25,
           2,
           3,
           21,
           72,
           708,
           42,
           2,
           1,
           265,
           108,
           314,
           1,
           4,
           8,
           3,
           30,
           20,
           315,
           41,
           151,
           4,
           7,
           2,
           1,
           2,
           4,
           2,
           351,
           1,
           4,
           1,
           8,
           314,
           3,
           1,
           7,
           34,
           6,
           1,
           4,
           2,
           227,
           11,
           3,
           3,
           3,
           20,
           8,
           1,
           186,
           1,
           1,
           2,
           11,
           199,
           1,
           1,
           7,
           1,
           111,
           1,
           2,
           2,
           5,
           1,
           2,
           1,
           1,
           1,
           2,
           2,
           92,
           15,
           4,
           84,
           1,
           3,
           3,
           82,
           2,
           4,
           34,
           43,
           7,
           4,
           1,
           58,
           27,
           1,
           1,
           3,
           8,
           100,
           823,
           860,
           9,
           8,
           49,
           413,
           309,
           1,
           703,
           13,
           12,
           1,
           1,
           1,
           124,
           402,
           92,
           14,
           1,
           1,
           12,
           230,
           19,
           21,
           129,
           122,
           406,
           1,
           1,
           1,
           10,
           13,
           56,
           256,
           20,
           2,
           26,
           2,
           12,
           10,
           132,
           163,
           1,
           109,
           2,
           4,
           139,
           1,
           25,
           65,
           77,
           68,
           214,
           192,
           128,
           6,
           1,
           1,
           1,
           1,
           118,
           27,
           4,
           2,
           1,
           1,
           28,
           59,
           46,
           3,
           1,
           1,
           1,
           1,
           39,
           1,
           2,
           1,
           1,
           40,
           1,
           1,
           123,
           5,
           3,
           716,
           2,
           13,
           316,
           2,
           3,
           448,
           331,
           128,
           2,
           4,
           102,
           1,
           21,
           2,
           213,
           1,
           24,
           92,
           1,
           1,
           18,
           1,
           7,
           1,
           1,
           43,
           1,
           1,
           1,
           128,
           1,
           14,
           400,
           1,
           3,
           99,
           124,
           23,
           148,
           16,
           1,
           1,
           1,
           58,
           1,
           27,
           1,
           1,
           107,
           1,
           1,
           2,
           401,
           1,
           3,
           3,
           8,
           2,
           13,
           59,
           2,
           3,
           250,
           8,
           20,
           1,
           2,
           203,
           966,
           1,
           9,
           2,
           1,
           5,
           9,
           5,
           544,
           310,
           8,
           153,
           21,
           48,
           1,
           7,
           1,
           54,
           13
          ]
         },
         "node": {
          "color": [
           "#1f77b4",
           "#ff7f0e",
           "#2ca02c",
           "#d62728",
           "#9467bd",
           "#8c564b",
           "#e377c2",
           "#7f7f7f",
           "#bcbd22",
           "#17becf",
           "#1f77b4",
           "#ff7f0e",
           "#2ca02c",
           "#d62728",
           "#9467bd",
           "#8c564b",
           "#e377c2",
           "#7f7f7f",
           "#bcbd22",
           "#17becf",
           "#1f77b4",
           "#ff7f0e",
           "#2ca02c",
           "#d62728",
           "#9467bd",
           "#8c564b",
           "#e377c2",
           "#7f7f7f",
           "#bcbd22",
           "#17becf",
           "#1f77b4",
           "#ff7f0e",
           "#2ca02c",
           "#d62728",
           "#9467bd",
           "#8c564b",
           "#e377c2",
           "#7f7f7f",
           "#bcbd22",
           "#17becf",
           "#1f77b4",
           "#ff7f0e",
           "#2ca02c",
           "#d62728",
           "#9467bd",
           "#8c564b",
           "#e377c2",
           "#7f7f7f",
           "#bcbd22",
           "#17becf",
           "#1f77b4",
           "#ff7f0e",
           "#2ca02c",
           "#d62728",
           "#9467bd",
           "#8c564b",
           "#e377c2",
           "#7f7f7f",
           "#bcbd22",
           "#17becf",
           "#1f77b4",
           "#ff7f0e",
           "#2ca02c",
           "#d62728",
           "#9467bd",
           "#8c564b",
           "#e377c2",
           "#7f7f7f",
           "#bcbd22",
           "#17becf",
           "#1f77b4",
           "#ff7f0e",
           "#2ca02c",
           "#d62728",
           "#9467bd",
           "#8c564b",
           "#e377c2",
           "#7f7f7f",
           "#bcbd22",
           "#17becf",
           "#1f77b4",
           "#ff7f0e",
           "#2ca02c",
           "#d62728",
           "#9467bd",
           "#8c564b",
           "#e377c2",
           "#7f7f7f",
           "#bcbd22",
           "#17becf",
           "#1f77b4",
           "#ff7f0e",
           "#2ca02c",
           "#d62728",
           "#9467bd",
           "#8c564b",
           "#e377c2",
           "#7f7f7f",
           "#bcbd22",
           "#17becf",
           "#1f77b4",
           "#ff7f0e",
           "#2ca02c",
           "#d62728",
           "#9467bd",
           "#8c564b",
           "#e377c2",
           "#7f7f7f",
           "#bcbd22"
          ],
          "label": [
           1,
           2,
           3,
           1,
           2,
           3,
           4,
           5,
           6,
           7,
           8,
           9,
           10,
           11,
           12,
           13,
           14,
           15,
           16,
           17,
           18,
           19,
           20,
           21,
           22,
           1,
           2,
           3,
           4,
           5,
           6,
           7,
           8,
           9,
           10,
           11,
           12,
           13,
           14,
           15,
           16,
           17,
           18,
           1,
           2,
           3,
           4,
           5,
           6,
           7,
           8,
           9,
           10,
           11,
           12,
           13,
           14,
           15,
           16,
           17,
           18,
           19,
           1,
           2,
           3,
           4,
           5,
           6,
           7,
           8,
           9,
           10,
           11,
           12,
           13,
           14,
           15,
           16,
           17,
           18,
           19,
           20,
           21,
           22,
           23,
           24,
           25,
           26,
           27,
           28,
           29,
           30,
           "CD16+ NK cells",
           "Classical monocytes",
           "DC2",
           "ELP",
           "MAIT cells",
           "Megakaryocytes/platelets",
           "Memory B cells",
           "Naive B cells",
           "Non-classical monocytes",
           "Plasma cells",
           "Regulatory T cells",
           "Tcm/Naive cytotoxic T cells",
           "Tcm/Naive helper T cells",
           "Tem/Effector helper T cells",
           "Tem/Temra cytotoxic T cells",
           "Tem/Trm cytotoxic T cells",
           "pDC"
          ],
          "line": {
           "color": "black",
           "width": 0.5
          },
          "pad": 15,
          "thickness": 20
         },
         "type": "sankey"
        }
       ],
       "layout": {
        "annotations": [
         {
          "showarrow": false,
          "text": "monocle",
          "x": 0,
          "xref": "x",
          "y": 1.05,
          "yref": "paper"
         },
         {
          "showarrow": false,
          "text": "scanpy",
          "x": 1,
          "xref": "x",
          "y": 1.05,
          "yref": "paper"
         },
         {
          "showarrow": false,
          "text": "scvi-tools",
          "x": 2,
          "xref": "x",
          "y": 1.05,
          "yref": "paper"
         },
         {
          "showarrow": false,
          "text": "seurat",
          "x": 3,
          "xref": "x",
          "y": 1.05,
          "yref": "paper"
         },
         {
          "showarrow": false,
          "text": "COTAN",
          "x": 4,
          "xref": "x",
          "y": 1.05,
          "yref": "paper"
         },
         {
          "showarrow": false,
          "text": "celltypist",
          "x": 5,
          "xref": "x",
          "y": 1.05,
          "yref": "paper"
         }
        ],
        "font": {
         "size": 10
        },
        "plot_bgcolor": "rgba(0,0,0,0)",
        "template": {
         "data": {
          "bar": [
           {
            "error_x": {
             "color": "#2a3f5f"
            },
            "error_y": {
             "color": "#2a3f5f"
            },
            "marker": {
             "line": {
              "color": "#E5ECF6",
              "width": 0.5
             },
             "pattern": {
              "fillmode": "overlay",
              "size": 10,
              "solidity": 0.2
             }
            },
            "type": "bar"
           }
          ],
          "barpolar": [
           {
            "marker": {
             "line": {
              "color": "#E5ECF6",
              "width": 0.5
             },
             "pattern": {
              "fillmode": "overlay",
              "size": 10,
              "solidity": 0.2
             }
            },
            "type": "barpolar"
           }
          ],
          "carpet": [
           {
            "aaxis": {
             "endlinecolor": "#2a3f5f",
             "gridcolor": "white",
             "linecolor": "white",
             "minorgridcolor": "white",
             "startlinecolor": "#2a3f5f"
            },
            "baxis": {
             "endlinecolor": "#2a3f5f",
             "gridcolor": "white",
             "linecolor": "white",
             "minorgridcolor": "white",
             "startlinecolor": "#2a3f5f"
            },
            "type": "carpet"
           }
          ],
          "choropleth": [
           {
            "colorbar": {
             "outlinewidth": 0,
             "ticks": ""
            },
            "type": "choropleth"
           }
          ],
          "contour": [
           {
            "colorbar": {
             "outlinewidth": 0,
             "ticks": ""
            },
            "colorscale": [
             [
              0,
              "#0d0887"
             ],
             [
              0.1111111111111111,
              "#46039f"
             ],
             [
              0.2222222222222222,
              "#7201a8"
             ],
             [
              0.3333333333333333,
              "#9c179e"
             ],
             [
              0.4444444444444444,
              "#bd3786"
             ],
             [
              0.5555555555555556,
              "#d8576b"
             ],
             [
              0.6666666666666666,
              "#ed7953"
             ],
             [
              0.7777777777777778,
              "#fb9f3a"
             ],
             [
              0.8888888888888888,
              "#fdca26"
             ],
             [
              1,
              "#f0f921"
             ]
            ],
            "type": "contour"
           }
          ],
          "contourcarpet": [
           {
            "colorbar": {
             "outlinewidth": 0,
             "ticks": ""
            },
            "type": "contourcarpet"
           }
          ],
          "heatmap": [
           {
            "colorbar": {
             "outlinewidth": 0,
             "ticks": ""
            },
            "colorscale": [
             [
              0,
              "#0d0887"
             ],
             [
              0.1111111111111111,
              "#46039f"
             ],
             [
              0.2222222222222222,
              "#7201a8"
             ],
             [
              0.3333333333333333,
              "#9c179e"
             ],
             [
              0.4444444444444444,
              "#bd3786"
             ],
             [
              0.5555555555555556,
              "#d8576b"
             ],
             [
              0.6666666666666666,
              "#ed7953"
             ],
             [
              0.7777777777777778,
              "#fb9f3a"
             ],
             [
              0.8888888888888888,
              "#fdca26"
             ],
             [
              1,
              "#f0f921"
             ]
            ],
            "type": "heatmap"
           }
          ],
          "heatmapgl": [
           {
            "colorbar": {
             "outlinewidth": 0,
             "ticks": ""
            },
            "colorscale": [
             [
              0,
              "#0d0887"
             ],
             [
              0.1111111111111111,
              "#46039f"
             ],
             [
              0.2222222222222222,
              "#7201a8"
             ],
             [
              0.3333333333333333,
              "#9c179e"
             ],
             [
              0.4444444444444444,
              "#bd3786"
             ],
             [
              0.5555555555555556,
              "#d8576b"
             ],
             [
              0.6666666666666666,
              "#ed7953"
             ],
             [
              0.7777777777777778,
              "#fb9f3a"
             ],
             [
              0.8888888888888888,
              "#fdca26"
             ],
             [
              1,
              "#f0f921"
             ]
            ],
            "type": "heatmapgl"
           }
          ],
          "histogram": [
           {
            "marker": {
             "pattern": {
              "fillmode": "overlay",
              "size": 10,
              "solidity": 0.2
             }
            },
            "type": "histogram"
           }
          ],
          "histogram2d": [
           {
            "colorbar": {
             "outlinewidth": 0,
             "ticks": ""
            },
            "colorscale": [
             [
              0,
              "#0d0887"
             ],
             [
              0.1111111111111111,
              "#46039f"
             ],
             [
              0.2222222222222222,
              "#7201a8"
             ],
             [
              0.3333333333333333,
              "#9c179e"
             ],
             [
              0.4444444444444444,
              "#bd3786"
             ],
             [
              0.5555555555555556,
              "#d8576b"
             ],
             [
              0.6666666666666666,
              "#ed7953"
             ],
             [
              0.7777777777777778,
              "#fb9f3a"
             ],
             [
              0.8888888888888888,
              "#fdca26"
             ],
             [
              1,
              "#f0f921"
             ]
            ],
            "type": "histogram2d"
           }
          ],
          "histogram2dcontour": [
           {
            "colorbar": {
             "outlinewidth": 0,
             "ticks": ""
            },
            "colorscale": [
             [
              0,
              "#0d0887"
             ],
             [
              0.1111111111111111,
              "#46039f"
             ],
             [
              0.2222222222222222,
              "#7201a8"
             ],
             [
              0.3333333333333333,
              "#9c179e"
             ],
             [
              0.4444444444444444,
              "#bd3786"
             ],
             [
              0.5555555555555556,
              "#d8576b"
             ],
             [
              0.6666666666666666,
              "#ed7953"
             ],
             [
              0.7777777777777778,
              "#fb9f3a"
             ],
             [
              0.8888888888888888,
              "#fdca26"
             ],
             [
              1,
              "#f0f921"
             ]
            ],
            "type": "histogram2dcontour"
           }
          ],
          "mesh3d": [
           {
            "colorbar": {
             "outlinewidth": 0,
             "ticks": ""
            },
            "type": "mesh3d"
           }
          ],
          "parcoords": [
           {
            "line": {
             "colorbar": {
              "outlinewidth": 0,
              "ticks": ""
             }
            },
            "type": "parcoords"
           }
          ],
          "pie": [
           {
            "automargin": true,
            "type": "pie"
           }
          ],
          "scatter": [
           {
            "fillpattern": {
             "fillmode": "overlay",
             "size": 10,
             "solidity": 0.2
            },
            "type": "scatter"
           }
          ],
          "scatter3d": [
           {
            "line": {
             "colorbar": {
              "outlinewidth": 0,
              "ticks": ""
             }
            },
            "marker": {
             "colorbar": {
              "outlinewidth": 0,
              "ticks": ""
             }
            },
            "type": "scatter3d"
           }
          ],
          "scattercarpet": [
           {
            "marker": {
             "colorbar": {
              "outlinewidth": 0,
              "ticks": ""
             }
            },
            "type": "scattercarpet"
           }
          ],
          "scattergeo": [
           {
            "marker": {
             "colorbar": {
              "outlinewidth": 0,
              "ticks": ""
             }
            },
            "type": "scattergeo"
           }
          ],
          "scattergl": [
           {
            "marker": {
             "colorbar": {
              "outlinewidth": 0,
              "ticks": ""
             }
            },
            "type": "scattergl"
           }
          ],
          "scattermapbox": [
           {
            "marker": {
             "colorbar": {
              "outlinewidth": 0,
              "ticks": ""
             }
            },
            "type": "scattermapbox"
           }
          ],
          "scatterpolar": [
           {
            "marker": {
             "colorbar": {
              "outlinewidth": 0,
              "ticks": ""
             }
            },
            "type": "scatterpolar"
           }
          ],
          "scatterpolargl": [
           {
            "marker": {
             "colorbar": {
              "outlinewidth": 0,
              "ticks": ""
             }
            },
            "type": "scatterpolargl"
           }
          ],
          "scatterternary": [
           {
            "marker": {
             "colorbar": {
              "outlinewidth": 0,
              "ticks": ""
             }
            },
            "type": "scatterternary"
           }
          ],
          "surface": [
           {
            "colorbar": {
             "outlinewidth": 0,
             "ticks": ""
            },
            "colorscale": [
             [
              0,
              "#0d0887"
             ],
             [
              0.1111111111111111,
              "#46039f"
             ],
             [
              0.2222222222222222,
              "#7201a8"
             ],
             [
              0.3333333333333333,
              "#9c179e"
             ],
             [
              0.4444444444444444,
              "#bd3786"
             ],
             [
              0.5555555555555556,
              "#d8576b"
             ],
             [
              0.6666666666666666,
              "#ed7953"
             ],
             [
              0.7777777777777778,
              "#fb9f3a"
             ],
             [
              0.8888888888888888,
              "#fdca26"
             ],
             [
              1,
              "#f0f921"
             ]
            ],
            "type": "surface"
           }
          ],
          "table": [
           {
            "cells": {
             "fill": {
              "color": "#EBF0F8"
             },
             "line": {
              "color": "white"
             }
            },
            "header": {
             "fill": {
              "color": "#C8D4E3"
             },
             "line": {
              "color": "white"
             }
            },
            "type": "table"
           }
          ]
         },
         "layout": {
          "annotationdefaults": {
           "arrowcolor": "#2a3f5f",
           "arrowhead": 0,
           "arrowwidth": 1
          },
          "autotypenumbers": "strict",
          "coloraxis": {
           "colorbar": {
            "outlinewidth": 0,
            "ticks": ""
           }
          },
          "colorscale": {
           "diverging": [
            [
             0,
             "#8e0152"
            ],
            [
             0.1,
             "#c51b7d"
            ],
            [
             0.2,
             "#de77ae"
            ],
            [
             0.3,
             "#f1b6da"
            ],
            [
             0.4,
             "#fde0ef"
            ],
            [
             0.5,
             "#f7f7f7"
            ],
            [
             0.6,
             "#e6f5d0"
            ],
            [
             0.7,
             "#b8e186"
            ],
            [
             0.8,
             "#7fbc41"
            ],
            [
             0.9,
             "#4d9221"
            ],
            [
             1,
             "#276419"
            ]
           ],
           "sequential": [
            [
             0,
             "#0d0887"
            ],
            [
             0.1111111111111111,
             "#46039f"
            ],
            [
             0.2222222222222222,
             "#7201a8"
            ],
            [
             0.3333333333333333,
             "#9c179e"
            ],
            [
             0.4444444444444444,
             "#bd3786"
            ],
            [
             0.5555555555555556,
             "#d8576b"
            ],
            [
             0.6666666666666666,
             "#ed7953"
            ],
            [
             0.7777777777777778,
             "#fb9f3a"
            ],
            [
             0.8888888888888888,
             "#fdca26"
            ],
            [
             1,
             "#f0f921"
            ]
           ],
           "sequentialminus": [
            [
             0,
             "#0d0887"
            ],
            [
             0.1111111111111111,
             "#46039f"
            ],
            [
             0.2222222222222222,
             "#7201a8"
            ],
            [
             0.3333333333333333,
             "#9c179e"
            ],
            [
             0.4444444444444444,
             "#bd3786"
            ],
            [
             0.5555555555555556,
             "#d8576b"
            ],
            [
             0.6666666666666666,
             "#ed7953"
            ],
            [
             0.7777777777777778,
             "#fb9f3a"
            ],
            [
             0.8888888888888888,
             "#fdca26"
            ],
            [
             1,
             "#f0f921"
            ]
           ]
          },
          "colorway": [
           "#636efa",
           "#EF553B",
           "#00cc96",
           "#ab63fa",
           "#FFA15A",
           "#19d3f3",
           "#FF6692",
           "#B6E880",
           "#FF97FF",
           "#FECB52"
          ],
          "font": {
           "color": "#2a3f5f"
          },
          "geo": {
           "bgcolor": "white",
           "lakecolor": "white",
           "landcolor": "#E5ECF6",
           "showlakes": true,
           "showland": true,
           "subunitcolor": "white"
          },
          "hoverlabel": {
           "align": "left"
          },
          "hovermode": "closest",
          "mapbox": {
           "style": "light"
          },
          "paper_bgcolor": "white",
          "plot_bgcolor": "#E5ECF6",
          "polar": {
           "angularaxis": {
            "gridcolor": "white",
            "linecolor": "white",
            "ticks": ""
           },
           "bgcolor": "#E5ECF6",
           "radialaxis": {
            "gridcolor": "white",
            "linecolor": "white",
            "ticks": ""
           }
          },
          "scene": {
           "xaxis": {
            "backgroundcolor": "#E5ECF6",
            "gridcolor": "white",
            "gridwidth": 2,
            "linecolor": "white",
            "showbackground": true,
            "ticks": "",
            "zerolinecolor": "white"
           },
           "yaxis": {
            "backgroundcolor": "#E5ECF6",
            "gridcolor": "white",
            "gridwidth": 2,
            "linecolor": "white",
            "showbackground": true,
            "ticks": "",
            "zerolinecolor": "white"
           },
           "zaxis": {
            "backgroundcolor": "#E5ECF6",
            "gridcolor": "white",
            "gridwidth": 2,
            "linecolor": "white",
            "showbackground": true,
            "ticks": "",
            "zerolinecolor": "white"
           }
          },
          "shapedefaults": {
           "line": {
            "color": "#2a3f5f"
           }
          },
          "ternary": {
           "aaxis": {
            "gridcolor": "white",
            "linecolor": "white",
            "ticks": ""
           },
           "baxis": {
            "gridcolor": "white",
            "linecolor": "white",
            "ticks": ""
           },
           "bgcolor": "#E5ECF6",
           "caxis": {
            "gridcolor": "white",
            "linecolor": "white",
            "ticks": ""
           }
          },
          "title": {
           "x": 0.05
          },
          "xaxis": {
           "automargin": true,
           "gridcolor": "white",
           "linecolor": "white",
           "ticks": "",
           "title": {
            "standoff": 15
           },
           "zerolinecolor": "white",
           "zerolinewidth": 2
          },
          "yaxis": {
           "automargin": true,
           "gridcolor": "white",
           "linecolor": "white",
           "ticks": "",
           "title": {
            "standoff": 15
           },
           "zerolinecolor": "white",
           "zerolinewidth": 2
          }
         }
        },
        "title": {
         "text": "PBMC4 - default labels"
        },
        "xaxis": {
         "showgrid": false,
         "visible": false,
         "zeroline": false
        },
        "yaxis": {
         "showgrid": false,
         "visible": false,
         "zeroline": false
        }
       }
      }
     },
     "metadata": {},
     "output_type": "display_data"
    },
    {
     "data": {
      "text/html": [
       "<div>\n",
       "<style scoped>\n",
       "    .dataframe tbody tr th:only-of-type {\n",
       "        vertical-align: middle;\n",
       "    }\n",
       "\n",
       "    .dataframe tbody tr th {\n",
       "        vertical-align: top;\n",
       "    }\n",
       "\n",
       "    .dataframe thead th {\n",
       "        text-align: right;\n",
       "    }\n",
       "</style>\n",
       "<table border=\"1\" class=\"dataframe\">\n",
       "  <thead>\n",
       "    <tr style=\"text-align: right;\">\n",
       "      <th></th>\n",
       "      <th>NMI</th>\n",
       "      <th>ARI</th>\n",
       "      <th>homogeneity</th>\n",
       "      <th>completeness</th>\n",
       "      <th>v_measure</th>\n",
       "      <th>fowlkes_mallows</th>\n",
       "    </tr>\n",
       "  </thead>\n",
       "  <tbody>\n",
       "    <tr>\n",
       "      <th>monocle</th>\n",
       "      <td>0.536861</td>\n",
       "      <td>0.325029</td>\n",
       "      <td>0.372515</td>\n",
       "      <td>0.960701</td>\n",
       "      <td>0.536861</td>\n",
       "      <td>0.532810</td>\n",
       "    </tr>\n",
       "    <tr>\n",
       "      <th>scanpy</th>\n",
       "      <td>0.622945</td>\n",
       "      <td>0.371655</td>\n",
       "      <td>0.659143</td>\n",
       "      <td>0.590516</td>\n",
       "      <td>0.622945</td>\n",
       "      <td>0.439575</td>\n",
       "    </tr>\n",
       "    <tr>\n",
       "      <th>scvi-tools</th>\n",
       "      <td>0.671843</td>\n",
       "      <td>0.463489</td>\n",
       "      <td>0.666315</td>\n",
       "      <td>0.677464</td>\n",
       "      <td>0.671843</td>\n",
       "      <td>0.520987</td>\n",
       "    </tr>\n",
       "    <tr>\n",
       "      <th>seurat</th>\n",
       "      <td>0.669274</td>\n",
       "      <td>0.436706</td>\n",
       "      <td>0.676741</td>\n",
       "      <td>0.661971</td>\n",
       "      <td>0.669274</td>\n",
       "      <td>0.496402</td>\n",
       "    </tr>\n",
       "    <tr>\n",
       "      <th>COTAN</th>\n",
       "      <td>0.618976</td>\n",
       "      <td>0.351132</td>\n",
       "      <td>0.649094</td>\n",
       "      <td>0.591529</td>\n",
       "      <td>0.618976</td>\n",
       "      <td>0.418417</td>\n",
       "    </tr>\n",
       "  </tbody>\n",
       "</table>\n",
       "</div>"
      ],
      "text/plain": [
       "                 NMI       ARI  homogeneity  completeness  v_measure  \\\n",
       "monocle     0.536861  0.325029     0.372515      0.960701   0.536861   \n",
       "scanpy      0.622945  0.371655     0.659143      0.590516   0.622945   \n",
       "scvi-tools  0.671843  0.463489     0.666315      0.677464   0.671843   \n",
       "seurat      0.669274  0.436706     0.676741      0.661971   0.669274   \n",
       "COTAN       0.618976  0.351132     0.649094      0.591529   0.618976   \n",
       "\n",
       "            fowlkes_mallows  \n",
       "monocle            0.532810  \n",
       "scanpy             0.439575  \n",
       "scvi-tools         0.520987  \n",
       "seurat             0.496402  \n",
       "COTAN              0.418417  "
      ]
     },
     "metadata": {},
     "output_type": "display_data"
    },
    {
     "data": {
      "application/vnd.plotly.v1+json": {
       "config": {
        "plotlyServerURL": "https://plot.ly"
       },
       "data": [
        {
         "link": {
          "source": [
           0,
           0,
           0,
           0,
           0,
           0,
           0,
           0,
           0,
           0,
           0,
           0,
           1,
           1,
           1,
           1,
           1,
           1,
           1,
           1,
           1,
           1,
           1,
           2,
           2,
           2,
           2,
           2,
           2,
           3,
           3,
           3,
           3,
           3,
           3,
           3,
           3,
           4,
           4,
           5,
           5,
           5,
           6,
           6,
           6,
           6,
           6,
           7,
           7,
           7,
           7,
           7,
           7,
           7,
           8,
           8,
           8,
           8,
           8,
           8,
           9,
           9,
           9,
           9,
           10,
           10,
           10,
           10,
           10,
           10,
           10,
           11,
           11,
           11,
           11,
           12,
           12,
           12,
           12,
           12,
           12,
           13,
           13,
           13,
           13,
           13,
           13,
           13,
           13,
           14,
           14,
           14,
           14,
           14,
           15,
           15,
           15,
           15,
           15,
           15,
           15,
           16,
           16,
           16,
           16,
           16,
           16,
           16,
           17,
           17,
           17,
           18,
           18,
           18,
           18,
           18,
           18,
           19,
           19,
           19,
           19,
           19,
           20,
           20,
           20,
           20,
           20,
           20,
           20,
           21,
           21,
           21,
           22,
           22,
           22,
           22,
           22,
           22,
           23,
           23,
           24,
           25,
           25,
           25,
           25,
           25,
           26,
           26,
           26,
           26,
           26,
           26,
           27,
           27,
           27,
           27,
           27,
           27,
           27,
           27,
           27,
           27,
           28,
           28,
           28,
           28,
           28,
           29,
           29,
           29,
           29,
           29,
           29,
           29,
           29,
           30,
           30,
           30,
           30,
           30,
           30,
           30,
           30,
           31,
           31,
           31,
           31,
           31,
           31,
           32,
           32,
           32,
           32,
           32,
           33,
           33,
           33,
           33,
           33,
           33,
           33,
           33,
           33,
           34,
           34,
           34,
           34,
           34,
           34,
           34,
           35,
           35,
           35,
           35,
           36,
           36,
           36,
           36,
           36,
           37,
           37,
           37,
           37,
           37,
           37,
           37,
           37,
           37,
           37,
           38,
           38,
           38,
           38,
           39,
           39,
           39,
           39,
           40,
           40,
           40,
           40,
           40,
           41,
           42,
           43,
           43,
           43,
           43,
           43,
           43,
           44,
           44,
           45,
           45,
           45,
           45,
           46,
           46,
           46,
           46,
           46,
           46,
           47,
           47,
           47,
           47,
           47,
           48,
           48,
           48,
           48,
           48,
           48,
           48,
           49,
           49,
           49,
           50,
           50,
           50,
           50,
           50,
           50,
           51,
           51,
           51,
           51,
           51,
           51,
           51,
           51,
           52,
           52,
           52,
           52,
           53,
           53,
           53,
           53,
           53,
           54,
           55,
           56,
           56,
           56,
           56,
           56,
           57,
           57,
           58,
           58,
           58,
           58,
           58,
           58,
           59,
           60,
           60,
           60,
           60,
           60,
           61,
           61,
           61,
           61,
           61,
           62,
           62,
           62,
           63,
           63,
           63,
           63,
           63,
           63,
           63,
           64,
           64,
           64,
           64,
           64,
           64,
           64,
           65,
           65,
           65,
           65,
           66,
           66,
           66,
           66,
           66,
           66,
           66,
           67,
           67,
           67,
           67,
           67,
           68,
           68,
           68,
           68,
           68,
           69,
           69,
           69,
           69,
           69,
           70,
           70,
           70,
           70,
           70,
           70,
           70,
           70,
           71,
           71,
           71,
           71,
           71,
           71,
           71,
           71,
           71,
           71,
           71,
           72,
           72,
           72,
           73,
           73,
           73,
           73,
           74,
           74,
           74,
           74,
           74,
           75,
           75,
           75,
           76,
           76,
           77,
           77,
           77,
           77,
           78,
           78,
           78,
           78,
           78,
           78,
           79,
           79,
           79,
           79,
           80,
           80,
           81,
           81,
           81,
           81,
           81,
           81,
           81,
           81,
           82,
           82,
           82,
           82,
           82,
           82,
           82,
           82,
           82,
           82,
           83,
           84,
           84,
           84,
           84,
           84,
           85,
           85,
           85,
           85,
           85,
           85,
           86,
           86,
           86,
           86,
           86,
           87,
           87,
           87,
           88,
           88,
           88,
           88,
           88,
           88,
           88,
           88,
           88,
           88,
           88,
           88,
           88,
           89,
           89,
           89,
           89,
           89,
           89,
           89,
           89,
           89,
           89,
           89,
           89,
           89,
           89,
           89,
           90,
           90,
           90,
           90,
           90,
           90,
           90,
           90,
           91,
           91,
           91,
           91
          ],
          "target": [
           3,
           7,
           8,
           9,
           10,
           11,
           13,
           15,
           16,
           17,
           20,
           21,
           5,
           6,
           9,
           12,
           14,
           15,
           18,
           19,
           20,
           22,
           23,
           4,
           13,
           15,
           19,
           22,
           24,
           26,
           28,
           31,
           32,
           33,
           37,
           38,
           40,
           25,
           40,
           27,
           29,
           30,
           27,
           29,
           30,
           35,
           36,
           26,
           28,
           31,
           33,
           34,
           38,
           40,
           26,
           28,
           33,
           34,
           38,
           40,
           27,
           29,
           30,
           37,
           26,
           31,
           32,
           33,
           37,
           38,
           39,
           25,
           31,
           33,
           39,
           27,
           29,
           30,
           35,
           36,
           37,
           25,
           26,
           28,
           32,
           33,
           37,
           38,
           40,
           27,
           29,
           30,
           35,
           37,
           26,
           27,
           28,
           33,
           34,
           38,
           40,
           26,
           28,
           32,
           33,
           34,
           37,
           39,
           28,
           33,
           34,
           27,
           29,
           30,
           33,
           35,
           36,
           25,
           27,
           29,
           30,
           36,
           27,
           29,
           30,
           31,
           32,
           36,
           37,
           31,
           33,
           39,
           25,
           27,
           29,
           30,
           35,
           42,
           36,
           41,
           25,
           47,
           51,
           58,
           60,
           61,
           43,
           44,
           49,
           52,
           53,
           60,
           43,
           45,
           46,
           48,
           51,
           54,
           56,
           57,
           58,
           61,
           43,
           44,
           53,
           55,
           60,
           45,
           46,
           48,
           54,
           56,
           57,
           58,
           61,
           45,
           46,
           48,
           54,
           56,
           57,
           58,
           61,
           43,
           49,
           50,
           51,
           52,
           56,
           43,
           49,
           52,
           56,
           60,
           43,
           44,
           48,
           49,
           50,
           52,
           53,
           55,
           60,
           43,
           44,
           52,
           53,
           55,
           57,
           60,
           46,
           48,
           54,
           56,
           45,
           48,
           56,
           57,
           59,
           43,
           45,
           46,
           48,
           49,
           51,
           52,
           53,
           54,
           56,
           43,
           44,
           53,
           60,
           43,
           49,
           50,
           52,
           43,
           44,
           51,
           53,
           55,
           59,
           58,
           63,
           78,
           82,
           85,
           88,
           89,
           88,
           89,
           64,
           65,
           66,
           67,
           64,
           65,
           66,
           67,
           68,
           70,
           74,
           75,
           76,
           77,
           78,
           63,
           64,
           65,
           66,
           67,
           68,
           69,
           82,
           86,
           89,
           81,
           83,
           84,
           85,
           86,
           87,
           62,
           72,
           74,
           75,
           76,
           77,
           78,
           86,
           81,
           82,
           88,
           89,
           63,
           88,
           89,
           90,
           91,
           70,
           88,
           63,
           64,
           65,
           69,
           70,
           65,
           71,
           65,
           66,
           68,
           74,
           75,
           80,
           79,
           73,
           74,
           75,
           78,
           88,
           62,
           63,
           64,
           68,
           69,
           96,
           101,
           105,
           92,
           104,
           105,
           109,
           111,
           113,
           114,
           104,
           105,
           107,
           109,
           111,
           113,
           114,
           109,
           111,
           113,
           114,
           104,
           105,
           107,
           109,
           111,
           113,
           114,
           105,
           107,
           109,
           111,
           114,
           104,
           105,
           107,
           111,
           114,
           104,
           105,
           109,
           111,
           114,
           96,
           102,
           104,
           107,
           111,
           113,
           114,
           116,
           92,
           94,
           97,
           98,
           104,
           107,
           111,
           113,
           114,
           115,
           116,
           93,
           96,
           100,
           93,
           100,
           101,
           115,
           93,
           96,
           100,
           101,
           105,
           93,
           96,
           100,
           96,
           100,
           93,
           96,
           100,
           101,
           93,
           96,
           100,
           101,
           105,
           113,
           92,
           97,
           111,
           116,
           107,
           111,
           92,
           94,
           95,
           98,
           99,
           101,
           112,
           117,
           92,
           94,
           99,
           101,
           103,
           106,
           108,
           109,
           112,
           117,
           103,
           92,
           102,
           103,
           108,
           112,
           100,
           103,
           107,
           112,
           115,
           116,
           100,
           102,
           103,
           113,
           115,
           103,
           107,
           113,
           92,
           93,
           94,
           97,
           99,
           104,
           106,
           107,
           108,
           110,
           112,
           114,
           117,
           92,
           93,
           94,
           95,
           97,
           98,
           99,
           102,
           104,
           106,
           108,
           110,
           112,
           115,
           117,
           92,
           94,
           95,
           98,
           99,
           110,
           112,
           117,
           92,
           97,
           98,
           110
          ],
          "value": [
           830,
           508,
           447,
           1,
           398,
           354,
           11,
           208,
           193,
           189,
           4,
           101,
           579,
           516,
           410,
           278,
           211,
           4,
           179,
           149,
           128,
           69,
           59,
           658,
           245,
           2,
           7,
           2,
           37,
           667,
           59,
           6,
           14,
           10,
           2,
           46,
           26,
           657,
           1,
           346,
           100,
           133,
           36,
           266,
           204,
           6,
           4,
           70,
           410,
           1,
           1,
           5,
           3,
           18,
           106,
           287,
           4,
           1,
           18,
           31,
           356,
           37,
           17,
           1,
           1,
           3,
           301,
           9,
           1,
           2,
           81,
           1,
           342,
           9,
           2,
           35,
           225,
           10,
           2,
           4,
           2,
           234,
           1,
           1,
           8,
           4,
           1,
           1,
           6,
           4,
           5,
           4,
           197,
           1,
           94,
           1,
           65,
           1,
           13,
           33,
           7,
           9,
           1,
           8,
           155,
           18,
           1,
           1,
           1,
           6,
           182,
           13,
           42,
           119,
           1,
           2,
           2,
           2,
           19,
           20,
           7,
           108,
           21,
           13,
           3,
           1,
           2,
           2,
           90,
           5,
           90,
           6,
           2,
           6,
           36,
           1,
           1,
           25,
           1,
           58,
           37,
           600,
           297,
           2,
           33,
           1,
           756,
           88,
           4,
           7,
           92,
           1,
           1,
           190,
           554,
           47,
           1,
           3,
           21,
           1,
           2,
           17,
           72,
           707,
           42,
           2,
           1,
           264,
           108,
           312,
           4,
           8,
           3,
           28,
           17,
           300,
           40,
           144,
           3,
           6,
           2,
           1,
           2,
           4,
           2,
           346,
           1,
           4,
           1,
           8,
           314,
           3,
           1,
           7,
           34,
           6,
           1,
           3,
           2,
           227,
           11,
           3,
           3,
           3,
           19,
           8,
           1,
           186,
           1,
           1,
           2,
           11,
           194,
           1,
           1,
           7,
           1,
           111,
           1,
           2,
           1,
           3,
           1,
           2,
           1,
           1,
           2,
           2,
           84,
           15,
           4,
           83,
           1,
           3,
           81,
           2,
           4,
           34,
           43,
           7,
           4,
           1,
           58,
           25,
           1,
           1,
           3,
           8,
           99,
           820,
           858,
           9,
           8,
           49,
           396,
           303,
           679,
           13,
           12,
           1,
           1,
           1,
           118,
           390,
           77,
           14,
           1,
           1,
           11,
           228,
           19,
           20,
           126,
           118,
           404,
           1,
           1,
           1,
           10,
           13,
           55,
           252,
           19,
           1,
           24,
           2,
           10,
           7,
           111,
           151,
           1,
           109,
           2,
           4,
           139,
           1,
           25,
           65,
           76,
           68,
           206,
           192,
           117,
           3,
           1,
           1,
           1,
           1,
           117,
           24,
           4,
           2,
           1,
           1,
           26,
           59,
           42,
           2,
           1,
           1,
           1,
           33,
           1,
           1,
           1,
           1,
           2,
           1,
           31,
           1,
           63,
           1,
           43,
           3,
           9,
           1,
           11,
           4,
           9,
           5,
           488,
           2,
           183,
           4,
           211,
           2,
           99,
           7,
           2,
           1,
           1,
           304,
           1,
           115,
           1,
           1,
           2,
           214,
           106,
           2,
           1,
           2,
           91,
           34,
           3,
           1,
           1,
           70,
           45,
           1,
           9,
           3,
           2,
           18,
           169,
           5,
           1,
           3,
           1,
           1,
           1,
           2,
           2,
           19,
           3,
           4,
           4,
           77,
           2,
           5,
           17,
           24,
           1,
           16,
           1,
           7,
           42,
           72,
           1,
           1,
           3,
           142,
           257,
           25,
           59,
           4,
           43,
           77,
           1,
           5,
           47,
           97,
           2,
           2,
           1,
           1,
           1,
           3,
           54,
           25,
           1,
           2,
           3,
           36,
           39,
           9,
           1,
           18,
           2,
           9,
           95,
           1,
           2,
           1,
           6,
           1,
           1,
           1,
           292,
           10,
           1,
           9,
           1,
           1,
           1,
           1,
           23,
           3,
           1,
           34,
           1,
           4,
           2,
           243,
           1,
           4,
           15,
           1,
           3,
           431,
           1,
           2,
           333,
           1,
           1,
           17,
           1,
           187,
           1,
           191,
           1,
           12,
           824,
           1,
           6,
           1,
           9,
           11,
           1,
           1,
           2,
           19,
           4,
           5,
           28,
           4,
           118,
           60,
           1,
           1,
           4,
           2,
           6,
           1,
           1,
           15,
           1,
           1,
           51
          ]
         },
         "node": {
          "color": [
           "#1f77b4",
           "#ff7f0e",
           "#2ca02c",
           "#d62728",
           "#9467bd",
           "#8c564b",
           "#e377c2",
           "#7f7f7f",
           "#bcbd22",
           "#17becf",
           "#1f77b4",
           "#ff7f0e",
           "#2ca02c",
           "#d62728",
           "#9467bd",
           "#8c564b",
           "#e377c2",
           "#7f7f7f",
           "#bcbd22",
           "#17becf",
           "#1f77b4",
           "#ff7f0e",
           "#2ca02c",
           "#d62728",
           "#9467bd",
           "#8c564b",
           "#e377c2",
           "#7f7f7f",
           "#bcbd22",
           "#17becf",
           "#1f77b4",
           "#ff7f0e",
           "#2ca02c",
           "#d62728",
           "#9467bd",
           "#8c564b",
           "#e377c2",
           "#7f7f7f",
           "#bcbd22",
           "#17becf",
           "#1f77b4",
           "#ff7f0e",
           "#2ca02c",
           "#d62728",
           "#9467bd",
           "#8c564b",
           "#e377c2",
           "#7f7f7f",
           "#bcbd22",
           "#17becf",
           "#1f77b4",
           "#ff7f0e",
           "#2ca02c",
           "#d62728",
           "#9467bd",
           "#8c564b",
           "#e377c2",
           "#7f7f7f",
           "#bcbd22",
           "#17becf",
           "#1f77b4",
           "#ff7f0e",
           "#2ca02c",
           "#d62728",
           "#9467bd",
           "#8c564b",
           "#e377c2",
           "#7f7f7f",
           "#bcbd22",
           "#17becf",
           "#1f77b4",
           "#ff7f0e",
           "#2ca02c",
           "#d62728",
           "#9467bd",
           "#8c564b",
           "#e377c2",
           "#7f7f7f",
           "#bcbd22",
           "#17becf",
           "#1f77b4",
           "#ff7f0e",
           "#2ca02c",
           "#d62728",
           "#9467bd",
           "#8c564b",
           "#e377c2",
           "#7f7f7f",
           "#bcbd22",
           "#17becf",
           "#1f77b4",
           "#ff7f0e",
           "#2ca02c",
           "#d62728",
           "#9467bd",
           "#8c564b",
           "#e377c2",
           "#7f7f7f",
           "#bcbd22",
           "#17becf",
           "#1f77b4",
           "#ff7f0e",
           "#2ca02c",
           "#d62728",
           "#9467bd",
           "#8c564b",
           "#e377c2",
           "#7f7f7f",
           "#bcbd22",
           "#17becf",
           "#1f77b4",
           "#ff7f0e",
           "#2ca02c",
           "#d62728",
           "#9467bd",
           "#8c564b",
           "#e377c2",
           "#7f7f7f"
          ],
          "label": [
           1,
           2,
           3,
           1,
           2,
           3,
           4,
           5,
           6,
           7,
           8,
           9,
           10,
           11,
           12,
           13,
           14,
           15,
           16,
           17,
           18,
           19,
           20,
           21,
           22,
           1,
           2,
           3,
           4,
           5,
           6,
           7,
           8,
           9,
           10,
           11,
           12,
           13,
           14,
           15,
           16,
           17,
           18,
           1,
           2,
           3,
           4,
           5,
           6,
           7,
           8,
           9,
           10,
           11,
           12,
           13,
           14,
           15,
           16,
           17,
           18,
           19,
           1,
           2,
           3,
           4,
           5,
           6,
           7,
           8,
           9,
           10,
           11,
           12,
           13,
           14,
           15,
           16,
           17,
           18,
           19,
           20,
           21,
           22,
           23,
           24,
           25,
           26,
           27,
           28,
           29,
           30,
           "Cluster-1",
           "Cluster-10",
           "Cluster-11",
           "Cluster-12",
           "Cluster-13",
           "Cluster-14",
           "Cluster-15",
           "Cluster-16",
           "Cluster-17",
           "Cluster-18",
           "Cluster-19",
           "Cluster-2",
           "Cluster-20",
           "Cluster-21",
           "Cluster-22",
           "Cluster-23",
           "Cluster-24",
           "Cluster-25",
           "Cluster-26",
           "Cluster-3",
           "Cluster-4",
           "Cluster-5",
           "Cluster-6",
           "Cluster-7",
           "Cluster-8",
           "Cluster-9"
          ],
          "line": {
           "color": "black",
           "width": 0.5
          },
          "pad": 15,
          "thickness": 20
         },
         "type": "sankey"
        }
       ],
       "layout": {
        "annotations": [
         {
          "showarrow": false,
          "text": "monocle",
          "x": 0,
          "xref": "x",
          "y": 1.05,
          "yref": "paper"
         },
         {
          "showarrow": false,
          "text": "scanpy",
          "x": 1,
          "xref": "x",
          "y": 1.05,
          "yref": "paper"
         },
         {
          "showarrow": false,
          "text": "scvi-tools",
          "x": 2,
          "xref": "x",
          "y": 1.05,
          "yref": "paper"
         },
         {
          "showarrow": false,
          "text": "seurat",
          "x": 3,
          "xref": "x",
          "y": 1.05,
          "yref": "paper"
         },
         {
          "showarrow": false,
          "text": "COTAN",
          "x": 4,
          "xref": "x",
          "y": 1.05,
          "yref": "paper"
         },
         {
          "showarrow": false,
          "text": "antibody",
          "x": 5,
          "xref": "x",
          "y": 1.05,
          "yref": "paper"
         }
        ],
        "font": {
         "size": 10
        },
        "plot_bgcolor": "rgba(0,0,0,0)",
        "template": {
         "data": {
          "bar": [
           {
            "error_x": {
             "color": "#2a3f5f"
            },
            "error_y": {
             "color": "#2a3f5f"
            },
            "marker": {
             "line": {
              "color": "#E5ECF6",
              "width": 0.5
             },
             "pattern": {
              "fillmode": "overlay",
              "size": 10,
              "solidity": 0.2
             }
            },
            "type": "bar"
           }
          ],
          "barpolar": [
           {
            "marker": {
             "line": {
              "color": "#E5ECF6",
              "width": 0.5
             },
             "pattern": {
              "fillmode": "overlay",
              "size": 10,
              "solidity": 0.2
             }
            },
            "type": "barpolar"
           }
          ],
          "carpet": [
           {
            "aaxis": {
             "endlinecolor": "#2a3f5f",
             "gridcolor": "white",
             "linecolor": "white",
             "minorgridcolor": "white",
             "startlinecolor": "#2a3f5f"
            },
            "baxis": {
             "endlinecolor": "#2a3f5f",
             "gridcolor": "white",
             "linecolor": "white",
             "minorgridcolor": "white",
             "startlinecolor": "#2a3f5f"
            },
            "type": "carpet"
           }
          ],
          "choropleth": [
           {
            "colorbar": {
             "outlinewidth": 0,
             "ticks": ""
            },
            "type": "choropleth"
           }
          ],
          "contour": [
           {
            "colorbar": {
             "outlinewidth": 0,
             "ticks": ""
            },
            "colorscale": [
             [
              0,
              "#0d0887"
             ],
             [
              0.1111111111111111,
              "#46039f"
             ],
             [
              0.2222222222222222,
              "#7201a8"
             ],
             [
              0.3333333333333333,
              "#9c179e"
             ],
             [
              0.4444444444444444,
              "#bd3786"
             ],
             [
              0.5555555555555556,
              "#d8576b"
             ],
             [
              0.6666666666666666,
              "#ed7953"
             ],
             [
              0.7777777777777778,
              "#fb9f3a"
             ],
             [
              0.8888888888888888,
              "#fdca26"
             ],
             [
              1,
              "#f0f921"
             ]
            ],
            "type": "contour"
           }
          ],
          "contourcarpet": [
           {
            "colorbar": {
             "outlinewidth": 0,
             "ticks": ""
            },
            "type": "contourcarpet"
           }
          ],
          "heatmap": [
           {
            "colorbar": {
             "outlinewidth": 0,
             "ticks": ""
            },
            "colorscale": [
             [
              0,
              "#0d0887"
             ],
             [
              0.1111111111111111,
              "#46039f"
             ],
             [
              0.2222222222222222,
              "#7201a8"
             ],
             [
              0.3333333333333333,
              "#9c179e"
             ],
             [
              0.4444444444444444,
              "#bd3786"
             ],
             [
              0.5555555555555556,
              "#d8576b"
             ],
             [
              0.6666666666666666,
              "#ed7953"
             ],
             [
              0.7777777777777778,
              "#fb9f3a"
             ],
             [
              0.8888888888888888,
              "#fdca26"
             ],
             [
              1,
              "#f0f921"
             ]
            ],
            "type": "heatmap"
           }
          ],
          "heatmapgl": [
           {
            "colorbar": {
             "outlinewidth": 0,
             "ticks": ""
            },
            "colorscale": [
             [
              0,
              "#0d0887"
             ],
             [
              0.1111111111111111,
              "#46039f"
             ],
             [
              0.2222222222222222,
              "#7201a8"
             ],
             [
              0.3333333333333333,
              "#9c179e"
             ],
             [
              0.4444444444444444,
              "#bd3786"
             ],
             [
              0.5555555555555556,
              "#d8576b"
             ],
             [
              0.6666666666666666,
              "#ed7953"
             ],
             [
              0.7777777777777778,
              "#fb9f3a"
             ],
             [
              0.8888888888888888,
              "#fdca26"
             ],
             [
              1,
              "#f0f921"
             ]
            ],
            "type": "heatmapgl"
           }
          ],
          "histogram": [
           {
            "marker": {
             "pattern": {
              "fillmode": "overlay",
              "size": 10,
              "solidity": 0.2
             }
            },
            "type": "histogram"
           }
          ],
          "histogram2d": [
           {
            "colorbar": {
             "outlinewidth": 0,
             "ticks": ""
            },
            "colorscale": [
             [
              0,
              "#0d0887"
             ],
             [
              0.1111111111111111,
              "#46039f"
             ],
             [
              0.2222222222222222,
              "#7201a8"
             ],
             [
              0.3333333333333333,
              "#9c179e"
             ],
             [
              0.4444444444444444,
              "#bd3786"
             ],
             [
              0.5555555555555556,
              "#d8576b"
             ],
             [
              0.6666666666666666,
              "#ed7953"
             ],
             [
              0.7777777777777778,
              "#fb9f3a"
             ],
             [
              0.8888888888888888,
              "#fdca26"
             ],
             [
              1,
              "#f0f921"
             ]
            ],
            "type": "histogram2d"
           }
          ],
          "histogram2dcontour": [
           {
            "colorbar": {
             "outlinewidth": 0,
             "ticks": ""
            },
            "colorscale": [
             [
              0,
              "#0d0887"
             ],
             [
              0.1111111111111111,
              "#46039f"
             ],
             [
              0.2222222222222222,
              "#7201a8"
             ],
             [
              0.3333333333333333,
              "#9c179e"
             ],
             [
              0.4444444444444444,
              "#bd3786"
             ],
             [
              0.5555555555555556,
              "#d8576b"
             ],
             [
              0.6666666666666666,
              "#ed7953"
             ],
             [
              0.7777777777777778,
              "#fb9f3a"
             ],
             [
              0.8888888888888888,
              "#fdca26"
             ],
             [
              1,
              "#f0f921"
             ]
            ],
            "type": "histogram2dcontour"
           }
          ],
          "mesh3d": [
           {
            "colorbar": {
             "outlinewidth": 0,
             "ticks": ""
            },
            "type": "mesh3d"
           }
          ],
          "parcoords": [
           {
            "line": {
             "colorbar": {
              "outlinewidth": 0,
              "ticks": ""
             }
            },
            "type": "parcoords"
           }
          ],
          "pie": [
           {
            "automargin": true,
            "type": "pie"
           }
          ],
          "scatter": [
           {
            "fillpattern": {
             "fillmode": "overlay",
             "size": 10,
             "solidity": 0.2
            },
            "type": "scatter"
           }
          ],
          "scatter3d": [
           {
            "line": {
             "colorbar": {
              "outlinewidth": 0,
              "ticks": ""
             }
            },
            "marker": {
             "colorbar": {
              "outlinewidth": 0,
              "ticks": ""
             }
            },
            "type": "scatter3d"
           }
          ],
          "scattercarpet": [
           {
            "marker": {
             "colorbar": {
              "outlinewidth": 0,
              "ticks": ""
             }
            },
            "type": "scattercarpet"
           }
          ],
          "scattergeo": [
           {
            "marker": {
             "colorbar": {
              "outlinewidth": 0,
              "ticks": ""
             }
            },
            "type": "scattergeo"
           }
          ],
          "scattergl": [
           {
            "marker": {
             "colorbar": {
              "outlinewidth": 0,
              "ticks": ""
             }
            },
            "type": "scattergl"
           }
          ],
          "scattermapbox": [
           {
            "marker": {
             "colorbar": {
              "outlinewidth": 0,
              "ticks": ""
             }
            },
            "type": "scattermapbox"
           }
          ],
          "scatterpolar": [
           {
            "marker": {
             "colorbar": {
              "outlinewidth": 0,
              "ticks": ""
             }
            },
            "type": "scatterpolar"
           }
          ],
          "scatterpolargl": [
           {
            "marker": {
             "colorbar": {
              "outlinewidth": 0,
              "ticks": ""
             }
            },
            "type": "scatterpolargl"
           }
          ],
          "scatterternary": [
           {
            "marker": {
             "colorbar": {
              "outlinewidth": 0,
              "ticks": ""
             }
            },
            "type": "scatterternary"
           }
          ],
          "surface": [
           {
            "colorbar": {
             "outlinewidth": 0,
             "ticks": ""
            },
            "colorscale": [
             [
              0,
              "#0d0887"
             ],
             [
              0.1111111111111111,
              "#46039f"
             ],
             [
              0.2222222222222222,
              "#7201a8"
             ],
             [
              0.3333333333333333,
              "#9c179e"
             ],
             [
              0.4444444444444444,
              "#bd3786"
             ],
             [
              0.5555555555555556,
              "#d8576b"
             ],
             [
              0.6666666666666666,
              "#ed7953"
             ],
             [
              0.7777777777777778,
              "#fb9f3a"
             ],
             [
              0.8888888888888888,
              "#fdca26"
             ],
             [
              1,
              "#f0f921"
             ]
            ],
            "type": "surface"
           }
          ],
          "table": [
           {
            "cells": {
             "fill": {
              "color": "#EBF0F8"
             },
             "line": {
              "color": "white"
             }
            },
            "header": {
             "fill": {
              "color": "#C8D4E3"
             },
             "line": {
              "color": "white"
             }
            },
            "type": "table"
           }
          ]
         },
         "layout": {
          "annotationdefaults": {
           "arrowcolor": "#2a3f5f",
           "arrowhead": 0,
           "arrowwidth": 1
          },
          "autotypenumbers": "strict",
          "coloraxis": {
           "colorbar": {
            "outlinewidth": 0,
            "ticks": ""
           }
          },
          "colorscale": {
           "diverging": [
            [
             0,
             "#8e0152"
            ],
            [
             0.1,
             "#c51b7d"
            ],
            [
             0.2,
             "#de77ae"
            ],
            [
             0.3,
             "#f1b6da"
            ],
            [
             0.4,
             "#fde0ef"
            ],
            [
             0.5,
             "#f7f7f7"
            ],
            [
             0.6,
             "#e6f5d0"
            ],
            [
             0.7,
             "#b8e186"
            ],
            [
             0.8,
             "#7fbc41"
            ],
            [
             0.9,
             "#4d9221"
            ],
            [
             1,
             "#276419"
            ]
           ],
           "sequential": [
            [
             0,
             "#0d0887"
            ],
            [
             0.1111111111111111,
             "#46039f"
            ],
            [
             0.2222222222222222,
             "#7201a8"
            ],
            [
             0.3333333333333333,
             "#9c179e"
            ],
            [
             0.4444444444444444,
             "#bd3786"
            ],
            [
             0.5555555555555556,
             "#d8576b"
            ],
            [
             0.6666666666666666,
             "#ed7953"
            ],
            [
             0.7777777777777778,
             "#fb9f3a"
            ],
            [
             0.8888888888888888,
             "#fdca26"
            ],
            [
             1,
             "#f0f921"
            ]
           ],
           "sequentialminus": [
            [
             0,
             "#0d0887"
            ],
            [
             0.1111111111111111,
             "#46039f"
            ],
            [
             0.2222222222222222,
             "#7201a8"
            ],
            [
             0.3333333333333333,
             "#9c179e"
            ],
            [
             0.4444444444444444,
             "#bd3786"
            ],
            [
             0.5555555555555556,
             "#d8576b"
            ],
            [
             0.6666666666666666,
             "#ed7953"
            ],
            [
             0.7777777777777778,
             "#fb9f3a"
            ],
            [
             0.8888888888888888,
             "#fdca26"
            ],
            [
             1,
             "#f0f921"
            ]
           ]
          },
          "colorway": [
           "#636efa",
           "#EF553B",
           "#00cc96",
           "#ab63fa",
           "#FFA15A",
           "#19d3f3",
           "#FF6692",
           "#B6E880",
           "#FF97FF",
           "#FECB52"
          ],
          "font": {
           "color": "#2a3f5f"
          },
          "geo": {
           "bgcolor": "white",
           "lakecolor": "white",
           "landcolor": "#E5ECF6",
           "showlakes": true,
           "showland": true,
           "subunitcolor": "white"
          },
          "hoverlabel": {
           "align": "left"
          },
          "hovermode": "closest",
          "mapbox": {
           "style": "light"
          },
          "paper_bgcolor": "white",
          "plot_bgcolor": "#E5ECF6",
          "polar": {
           "angularaxis": {
            "gridcolor": "white",
            "linecolor": "white",
            "ticks": ""
           },
           "bgcolor": "#E5ECF6",
           "radialaxis": {
            "gridcolor": "white",
            "linecolor": "white",
            "ticks": ""
           }
          },
          "scene": {
           "xaxis": {
            "backgroundcolor": "#E5ECF6",
            "gridcolor": "white",
            "gridwidth": 2,
            "linecolor": "white",
            "showbackground": true,
            "ticks": "",
            "zerolinecolor": "white"
           },
           "yaxis": {
            "backgroundcolor": "#E5ECF6",
            "gridcolor": "white",
            "gridwidth": 2,
            "linecolor": "white",
            "showbackground": true,
            "ticks": "",
            "zerolinecolor": "white"
           },
           "zaxis": {
            "backgroundcolor": "#E5ECF6",
            "gridcolor": "white",
            "gridwidth": 2,
            "linecolor": "white",
            "showbackground": true,
            "ticks": "",
            "zerolinecolor": "white"
           }
          },
          "shapedefaults": {
           "line": {
            "color": "#2a3f5f"
           }
          },
          "ternary": {
           "aaxis": {
            "gridcolor": "white",
            "linecolor": "white",
            "ticks": ""
           },
           "baxis": {
            "gridcolor": "white",
            "linecolor": "white",
            "ticks": ""
           },
           "bgcolor": "#E5ECF6",
           "caxis": {
            "gridcolor": "white",
            "linecolor": "white",
            "ticks": ""
           }
          },
          "title": {
           "x": 0.05
          },
          "xaxis": {
           "automargin": true,
           "gridcolor": "white",
           "linecolor": "white",
           "ticks": "",
           "title": {
            "standoff": 15
           },
           "zerolinecolor": "white",
           "zerolinewidth": 2
          },
          "yaxis": {
           "automargin": true,
           "gridcolor": "white",
           "linecolor": "white",
           "ticks": "",
           "title": {
            "standoff": 15
           },
           "zerolinecolor": "white",
           "zerolinewidth": 2
          }
         }
        },
        "title": {
         "text": "PBMC4 - default labels"
        },
        "xaxis": {
         "showgrid": false,
         "visible": false,
         "zeroline": false
        },
        "yaxis": {
         "showgrid": false,
         "visible": false,
         "zeroline": false
        }
       }
      }
     },
     "metadata": {},
     "output_type": "display_data"
    },
    {
     "name": "stdout",
     "output_type": "stream",
     "text": [
      "------------------------------\n",
      "PBMC1 - matching celltypist labels\n"
     ]
    },
    {
     "name": "stderr",
     "output_type": "stream",
     "text": [
      "/Users/irenetesta/anaconda3/envs/chl/lib/python3.11/site-packages/anndata/_core/anndata.py:1113: FutureWarning:\n",
      "\n",
      "is_categorical_dtype is deprecated and will be removed in a future version. Use isinstance(dtype, CategoricalDtype) instead\n",
      "\n"
     ]
    },
    {
     "data": {
      "text/html": [
       "<div>\n",
       "<style scoped>\n",
       "    .dataframe tbody tr th:only-of-type {\n",
       "        vertical-align: middle;\n",
       "    }\n",
       "\n",
       "    .dataframe tbody tr th {\n",
       "        vertical-align: top;\n",
       "    }\n",
       "\n",
       "    .dataframe thead th {\n",
       "        text-align: right;\n",
       "    }\n",
       "</style>\n",
       "<table border=\"1\" class=\"dataframe\">\n",
       "  <thead>\n",
       "    <tr style=\"text-align: right;\">\n",
       "      <th></th>\n",
       "      <th>NMI</th>\n",
       "      <th>ARI</th>\n",
       "      <th>homogeneity</th>\n",
       "      <th>completeness</th>\n",
       "      <th>v_measure</th>\n",
       "      <th>fowlkes_mallows</th>\n",
       "    </tr>\n",
       "  </thead>\n",
       "  <tbody>\n",
       "    <tr>\n",
       "      <th>monocle</th>\n",
       "      <td>0.638152</td>\n",
       "      <td>0.292695</td>\n",
       "      <td>0.744839</td>\n",
       "      <td>0.558199</td>\n",
       "      <td>0.638152</td>\n",
       "      <td>0.413511</td>\n",
       "    </tr>\n",
       "    <tr>\n",
       "      <th>scanpy</th>\n",
       "      <td>0.707991</td>\n",
       "      <td>0.363700</td>\n",
       "      <td>0.821675</td>\n",
       "      <td>0.621941</td>\n",
       "      <td>0.707991</td>\n",
       "      <td>0.483365</td>\n",
       "    </tr>\n",
       "    <tr>\n",
       "      <th>scvi-tools</th>\n",
       "      <td>0.688328</td>\n",
       "      <td>0.325640</td>\n",
       "      <td>0.816697</td>\n",
       "      <td>0.594832</td>\n",
       "      <td>0.688328</td>\n",
       "      <td>0.451652</td>\n",
       "    </tr>\n",
       "    <tr>\n",
       "      <th>seurat</th>\n",
       "      <td>0.712972</td>\n",
       "      <td>0.377190</td>\n",
       "      <td>0.840982</td>\n",
       "      <td>0.618784</td>\n",
       "      <td>0.712972</td>\n",
       "      <td>0.497948</td>\n",
       "    </tr>\n",
       "    <tr>\n",
       "      <th>COTAN</th>\n",
       "      <td>0.731298</td>\n",
       "      <td>0.558190</td>\n",
       "      <td>0.711411</td>\n",
       "      <td>0.752330</td>\n",
       "      <td>0.731298</td>\n",
       "      <td>0.638123</td>\n",
       "    </tr>\n",
       "  </tbody>\n",
       "</table>\n",
       "</div>"
      ],
      "text/plain": [
       "                 NMI       ARI  homogeneity  completeness  v_measure  \\\n",
       "monocle     0.638152  0.292695     0.744839      0.558199   0.638152   \n",
       "scanpy      0.707991  0.363700     0.821675      0.621941   0.707991   \n",
       "scvi-tools  0.688328  0.325640     0.816697      0.594832   0.688328   \n",
       "seurat      0.712972  0.377190     0.840982      0.618784   0.712972   \n",
       "COTAN       0.731298  0.558190     0.711411      0.752330   0.731298   \n",
       "\n",
       "            fowlkes_mallows  \n",
       "monocle            0.413511  \n",
       "scanpy             0.483365  \n",
       "scvi-tools         0.451652  \n",
       "seurat             0.497948  \n",
       "COTAN              0.638123  "
      ]
     },
     "metadata": {},
     "output_type": "display_data"
    },
    {
     "data": {
      "application/vnd.plotly.v1+json": {
       "config": {
        "plotlyServerURL": "https://plot.ly"
       },
       "data": [
        {
         "link": {
          "source": [
           0,
           0,
           0,
           0,
           0,
           0,
           1,
           1,
           1,
           2,
           2,
           2,
           3,
           3,
           3,
           3,
           3,
           4,
           4,
           4,
           4,
           5,
           5,
           5,
           5,
           5,
           6,
           6,
           6,
           6,
           6,
           7,
           7,
           7,
           7,
           7,
           8,
           8,
           8,
           8,
           9,
           9,
           9,
           9,
           10,
           10,
           10,
           10,
           10,
           11,
           11,
           11,
           11,
           11,
           11,
           11,
           11,
           11,
           12,
           12,
           12,
           12,
           12,
           12,
           13,
           13,
           13,
           13,
           14,
           14,
           14,
           14,
           14,
           15,
           15,
           15,
           15,
           15,
           16,
           16,
           16,
           17,
           18,
           18,
           18,
           18,
           18,
           18,
           18,
           18,
           18,
           19,
           19,
           19,
           19,
           19,
           19,
           19,
           20,
           20,
           20,
           20,
           20,
           20,
           20,
           21,
           21,
           21,
           21,
           21,
           22,
           22,
           22,
           22,
           22,
           22,
           22,
           22,
           22,
           22,
           23,
           23,
           24,
           24,
           24,
           24,
           24,
           24,
           25,
           25,
           25,
           25,
           25,
           25,
           25,
           26,
           26,
           26,
           26,
           27,
           27,
           27,
           27,
           28,
           28,
           28,
           29,
           29,
           29,
           29,
           30,
           30,
           30,
           31,
           31,
           31,
           31,
           32,
           33,
           33,
           33,
           33,
           34,
           34,
           35,
           36,
           36,
           36,
           36,
           36,
           36,
           37,
           37,
           37,
           37,
           37,
           38,
           38,
           38,
           38,
           38,
           39,
           39,
           39,
           39,
           39,
           40,
           40,
           40,
           40,
           40,
           41,
           41,
           41,
           41,
           41,
           42,
           42,
           42,
           42,
           42,
           42,
           42,
           43,
           43,
           43,
           43,
           43,
           44,
           44,
           44,
           44,
           44,
           44,
           44,
           45,
           45,
           45,
           45,
           45,
           45,
           46,
           46,
           47,
           47,
           47,
           47,
           48,
           49,
           49,
           49,
           49,
           49,
           50,
           50,
           50,
           50,
           50,
           50,
           51,
           51,
           51,
           51,
           51,
           51,
           51,
           52,
           52,
           52,
           53,
           53,
           53,
           53,
           54,
           54,
           55,
           56,
           56,
           57,
           57,
           57,
           57,
           58,
           58,
           59,
           59,
           59,
           60,
           61,
           61,
           62,
           62,
           63,
           63,
           63,
           64,
           64,
           65,
           66,
           66,
           67,
           68,
           68,
           68,
           68,
           69,
           69,
           70,
           71,
           71,
           71,
           72,
           72,
           73,
           73,
           73,
           73,
           74,
           74,
           74,
           75,
           75,
           76,
           77,
           78,
           78,
           78,
           78,
           78,
           79,
           79,
           80,
           80,
           81,
           81,
           81,
           82,
           83,
           83,
           84,
           84,
           84,
           84,
           84,
           85,
           85,
           85,
           85,
           86,
           86,
           86,
           86,
           86,
           86,
           86,
           86,
           86,
           86,
           87,
           87,
           87,
           87,
           87,
           87,
           87,
           87,
           87
          ],
          "target": [
           18,
           19,
           25,
           27,
           29,
           31,
           27,
           28,
           30,
           22,
           23,
           27,
           22,
           23,
           27,
           29,
           31,
           20,
           22,
           24,
           26,
           18,
           19,
           21,
           25,
           33,
           18,
           19,
           21,
           25,
           33,
           18,
           19,
           21,
           25,
           33,
           20,
           22,
           24,
           26,
           20,
           22,
           24,
           26,
           20,
           22,
           24,
           30,
           34,
           18,
           19,
           21,
           22,
           25,
           27,
           29,
           31,
           33,
           18,
           19,
           22,
           25,
           27,
           29,
           20,
           22,
           24,
           32,
           18,
           19,
           25,
           29,
           31,
           18,
           20,
           22,
           24,
           26,
           19,
           30,
           34,
           35,
           36,
           38,
           39,
           40,
           41,
           43,
           44,
           50,
           51,
           36,
           39,
           41,
           43,
           44,
           50,
           51,
           37,
           42,
           45,
           47,
           49,
           52,
           53,
           36,
           41,
           43,
           50,
           51,
           37,
           38,
           42,
           44,
           45,
           47,
           49,
           52,
           53,
           55,
           38,
           40,
           37,
           42,
           45,
           47,
           49,
           53,
           36,
           39,
           41,
           43,
           44,
           50,
           51,
           37,
           47,
           49,
           53,
           38,
           40,
           44,
           51,
           46,
           48,
           49,
           39,
           40,
           44,
           51,
           42,
           46,
           53,
           36,
           40,
           44,
           51,
           45,
           41,
           43,
           50,
           51,
           42,
           52,
           54,
           56,
           57,
           60,
           62,
           64,
           73,
           58,
           59,
           61,
           71,
           74,
           57,
           63,
           69,
           70,
           73,
           56,
           57,
           62,
           66,
           75,
           57,
           63,
           64,
           66,
           69,
           56,
           57,
           60,
           62,
           75,
           57,
           58,
           59,
           68,
           71,
           72,
           74,
           56,
           57,
           60,
           62,
           75,
           56,
           57,
           60,
           64,
           66,
           69,
           74,
           58,
           59,
           61,
           68,
           71,
           74,
           65,
           67,
           58,
           59,
           61,
           71,
           65,
           58,
           59,
           61,
           71,
           74,
           56,
           57,
           60,
           62,
           73,
           75,
           56,
           57,
           60,
           62,
           64,
           66,
           73,
           58,
           59,
           72,
           58,
           59,
           61,
           71,
           72,
           76,
           74,
           86,
           87,
           80,
           85,
           86,
           87,
           80,
           81,
           79,
           80,
           81,
           87,
           80,
           81,
           86,
           87,
           84,
           86,
           87,
           86,
           87,
           83,
           86,
           87,
           83,
           78,
           79,
           81,
           87,
           86,
           87,
           84,
           79,
           80,
           81,
           78,
           81,
           80,
           85,
           86,
           87,
           77,
           80,
           81,
           85,
           86,
           82,
           90,
           90,
           91,
           92,
           98,
           106,
           90,
           98,
           90,
           95,
           90,
           92,
           98,
           106,
           96,
           97,
           88,
           90,
           97,
           99,
           104,
           94,
           100,
           102,
           103,
           88,
           89,
           93,
           94,
           100,
           101,
           102,
           103,
           104,
           105,
           88,
           89,
           90,
           94,
           95,
           98,
           101,
           102,
           105
          ],
          "value": [
           221,
           19,
           4,
           7,
           81,
           2,
           1,
           159,
           139,
           3,
           261,
           27,
           1,
           7,
           139,
           45,
           94,
           51,
           53,
           157,
           13,
           4,
           98,
           82,
           48,
           24,
           1,
           38,
           110,
           81,
           17,
           1,
           129,
           60,
           30,
           20,
           2,
           63,
           46,
           126,
           69,
           114,
           35,
           11,
           159,
           5,
           21,
           1,
           3,
           5,
           36,
           34,
           1,
           75,
           1,
           1,
           2,
           16,
           121,
           4,
           6,
           1,
           8,
           13,
           41,
           2,
           3,
           91,
           47,
           4,
           15,
           9,
           8,
           2,
           1,
           20,
           6,
           50,
           3,
           1,
           73,
           28,
           24,
           2,
           256,
           7,
           12,
           19,
           63,
           14,
           5,
           132,
           5,
           32,
           103,
           4,
           49,
           6,
           6,
           160,
           95,
           6,
           9,
           21,
           26,
           100,
           73,
           69,
           41,
           3,
           108,
           1,
           52,
           2,
           3,
           19,
           53,
           3,
           18,
           9,
           261,
           7,
           45,
           29,
           11,
           98,
           43,
           42,
           69,
           2,
           133,
           13,
           2,
           27,
           8,
           133,
           24,
           34,
           9,
           17,
           154,
           10,
           2,
           11,
           147,
           1,
           10,
           26,
           111,
           2,
           1,
           139,
           1,
           1,
           78,
           10,
           17,
           91,
           1,
           2,
           4,
           70,
           3,
           73,
           28,
           165,
           33,
           72,
           54,
           1,
           1,
           125,
           13,
           142,
           1,
           11,
           1,
           149,
           5,
           125,
           1,
           1,
           227,
           5,
           9,
           31,
           4,
           6,
           129,
           12,
           121,
           94,
           27,
           114,
           15,
           1,
           1,
           38,
           178,
           2,
           7,
           3,
           16,
           104,
           23,
           17,
           60,
           2,
           2,
           67,
           2,
           3,
           125,
           1,
           2,
           4,
           61,
           2,
           131,
           1,
           1,
           6,
           144,
           108,
           17,
           15,
           7,
           147,
           58,
           15,
           63,
           3,
           1,
           60,
           17,
           32,
           20,
           5,
           1,
           9,
           2,
           16,
           12,
           20,
           1,
           53,
           4,
           22,
           71,
           14,
           3,
           7,
           72,
           1,
           27,
           9,
           1,
           434,
           1,
           29,
           310,
           62,
           210,
           141,
           1,
           8,
           300,
           253,
           228,
           1,
           15,
           151,
           151,
           2,
           2,
           151,
           2,
           153,
           145,
           2,
           144,
           1,
           119,
           12,
           1,
           126,
           1,
           125,
           2,
           5,
           84,
           74,
           1,
           1,
           1,
           1,
           57,
           35,
           2,
           3,
           25,
           10,
           27,
           35,
           1,
           1,
           71,
           1,
           1,
           14,
           108,
           453,
           2,
           532,
           6,
           4,
           27,
           153,
           144,
           262,
           1,
           1,
           8,
           4,
           1,
           24,
           27,
           3,
           5,
           19,
           54,
           1,
           10,
           1,
           191,
           177,
           103,
           200,
           3,
           9,
           1,
           1,
           1,
           1,
           84,
           860,
           5
          ]
         },
         "node": {
          "color": [
           "#1f77b4",
           "#ff7f0e",
           "#2ca02c",
           "#d62728",
           "#9467bd",
           "#8c564b",
           "#e377c2",
           "#7f7f7f",
           "#bcbd22",
           "#17becf",
           "#1f77b4",
           "#ff7f0e",
           "#2ca02c",
           "#d62728",
           "#9467bd",
           "#8c564b",
           "#e377c2",
           "#7f7f7f",
           "#bcbd22",
           "#17becf",
           "#1f77b4",
           "#ff7f0e",
           "#2ca02c",
           "#d62728",
           "#9467bd",
           "#8c564b",
           "#e377c2",
           "#7f7f7f",
           "#bcbd22",
           "#17becf",
           "#1f77b4",
           "#ff7f0e",
           "#2ca02c",
           "#d62728",
           "#9467bd",
           "#8c564b",
           "#e377c2",
           "#7f7f7f",
           "#bcbd22",
           "#17becf",
           "#1f77b4",
           "#ff7f0e",
           "#2ca02c",
           "#d62728",
           "#9467bd",
           "#8c564b",
           "#e377c2",
           "#7f7f7f",
           "#bcbd22",
           "#17becf",
           "#1f77b4",
           "#ff7f0e",
           "#2ca02c",
           "#d62728",
           "#9467bd",
           "#8c564b",
           "#e377c2",
           "#7f7f7f",
           "#bcbd22",
           "#17becf",
           "#1f77b4",
           "#ff7f0e",
           "#2ca02c",
           "#d62728",
           "#9467bd",
           "#8c564b",
           "#e377c2",
           "#7f7f7f",
           "#bcbd22",
           "#17becf",
           "#1f77b4",
           "#ff7f0e",
           "#2ca02c",
           "#d62728",
           "#9467bd",
           "#8c564b",
           "#e377c2",
           "#7f7f7f",
           "#bcbd22",
           "#17becf",
           "#1f77b4",
           "#ff7f0e",
           "#2ca02c",
           "#d62728",
           "#9467bd",
           "#8c564b",
           "#e377c2",
           "#7f7f7f",
           "#bcbd22",
           "#17becf",
           "#1f77b4",
           "#ff7f0e",
           "#2ca02c",
           "#d62728",
           "#9467bd",
           "#8c564b",
           "#e377c2",
           "#7f7f7f",
           "#bcbd22",
           "#17becf",
           "#1f77b4",
           "#ff7f0e",
           "#2ca02c",
           "#d62728",
           "#9467bd",
           "#8c564b",
           "#e377c2"
          ],
          "label": [
           1,
           2,
           3,
           4,
           5,
           6,
           7,
           8,
           9,
           10,
           11,
           12,
           13,
           14,
           15,
           16,
           17,
           18,
           1,
           2,
           3,
           4,
           5,
           6,
           7,
           8,
           9,
           10,
           11,
           12,
           13,
           14,
           15,
           16,
           17,
           18,
           1,
           2,
           3,
           4,
           5,
           6,
           7,
           8,
           9,
           10,
           11,
           12,
           13,
           14,
           15,
           16,
           17,
           18,
           19,
           20,
           1,
           2,
           3,
           4,
           5,
           6,
           7,
           8,
           9,
           10,
           11,
           12,
           13,
           14,
           15,
           16,
           17,
           18,
           19,
           20,
           21,
           1,
           2,
           3,
           4,
           5,
           6,
           7,
           8,
           9,
           10,
           11,
           "CD16+ NK cells",
           "CD8a/a",
           "Classical monocytes",
           "DC1",
           "DC2",
           "MAIT cells",
           "Megakaryocyte precursor",
           "Megakaryocytes/platelets",
           "Memory B cells",
           "Naive B cells",
           "Non-classical monocytes",
           "Plasmablasts",
           "Regulatory T cells",
           "Tcm/Naive cytotoxic T cells",
           "Tcm/Naive helper T cells",
           "Tem/Effector helper T cells",
           "Tem/Temra cytotoxic T cells",
           "Tem/Trm cytotoxic T cells",
           "pDC"
          ],
          "line": {
           "color": "black",
           "width": 0.5
          },
          "pad": 15,
          "thickness": 20
         },
         "type": "sankey"
        }
       ],
       "layout": {
        "annotations": [
         {
          "showarrow": false,
          "text": "monocle",
          "x": 0,
          "xref": "x",
          "y": 1.05,
          "yref": "paper"
         },
         {
          "showarrow": false,
          "text": "scanpy",
          "x": 1,
          "xref": "x",
          "y": 1.05,
          "yref": "paper"
         },
         {
          "showarrow": false,
          "text": "scvi-tools",
          "x": 2,
          "xref": "x",
          "y": 1.05,
          "yref": "paper"
         },
         {
          "showarrow": false,
          "text": "seurat",
          "x": 3,
          "xref": "x",
          "y": 1.05,
          "yref": "paper"
         },
         {
          "showarrow": false,
          "text": "COTAN",
          "x": 4,
          "xref": "x",
          "y": 1.05,
          "yref": "paper"
         },
         {
          "showarrow": false,
          "text": "celltypist",
          "x": 5,
          "xref": "x",
          "y": 1.05,
          "yref": "paper"
         }
        ],
        "font": {
         "size": 10
        },
        "plot_bgcolor": "rgba(0,0,0,0)",
        "template": {
         "data": {
          "bar": [
           {
            "error_x": {
             "color": "#2a3f5f"
            },
            "error_y": {
             "color": "#2a3f5f"
            },
            "marker": {
             "line": {
              "color": "#E5ECF6",
              "width": 0.5
             },
             "pattern": {
              "fillmode": "overlay",
              "size": 10,
              "solidity": 0.2
             }
            },
            "type": "bar"
           }
          ],
          "barpolar": [
           {
            "marker": {
             "line": {
              "color": "#E5ECF6",
              "width": 0.5
             },
             "pattern": {
              "fillmode": "overlay",
              "size": 10,
              "solidity": 0.2
             }
            },
            "type": "barpolar"
           }
          ],
          "carpet": [
           {
            "aaxis": {
             "endlinecolor": "#2a3f5f",
             "gridcolor": "white",
             "linecolor": "white",
             "minorgridcolor": "white",
             "startlinecolor": "#2a3f5f"
            },
            "baxis": {
             "endlinecolor": "#2a3f5f",
             "gridcolor": "white",
             "linecolor": "white",
             "minorgridcolor": "white",
             "startlinecolor": "#2a3f5f"
            },
            "type": "carpet"
           }
          ],
          "choropleth": [
           {
            "colorbar": {
             "outlinewidth": 0,
             "ticks": ""
            },
            "type": "choropleth"
           }
          ],
          "contour": [
           {
            "colorbar": {
             "outlinewidth": 0,
             "ticks": ""
            },
            "colorscale": [
             [
              0,
              "#0d0887"
             ],
             [
              0.1111111111111111,
              "#46039f"
             ],
             [
              0.2222222222222222,
              "#7201a8"
             ],
             [
              0.3333333333333333,
              "#9c179e"
             ],
             [
              0.4444444444444444,
              "#bd3786"
             ],
             [
              0.5555555555555556,
              "#d8576b"
             ],
             [
              0.6666666666666666,
              "#ed7953"
             ],
             [
              0.7777777777777778,
              "#fb9f3a"
             ],
             [
              0.8888888888888888,
              "#fdca26"
             ],
             [
              1,
              "#f0f921"
             ]
            ],
            "type": "contour"
           }
          ],
          "contourcarpet": [
           {
            "colorbar": {
             "outlinewidth": 0,
             "ticks": ""
            },
            "type": "contourcarpet"
           }
          ],
          "heatmap": [
           {
            "colorbar": {
             "outlinewidth": 0,
             "ticks": ""
            },
            "colorscale": [
             [
              0,
              "#0d0887"
             ],
             [
              0.1111111111111111,
              "#46039f"
             ],
             [
              0.2222222222222222,
              "#7201a8"
             ],
             [
              0.3333333333333333,
              "#9c179e"
             ],
             [
              0.4444444444444444,
              "#bd3786"
             ],
             [
              0.5555555555555556,
              "#d8576b"
             ],
             [
              0.6666666666666666,
              "#ed7953"
             ],
             [
              0.7777777777777778,
              "#fb9f3a"
             ],
             [
              0.8888888888888888,
              "#fdca26"
             ],
             [
              1,
              "#f0f921"
             ]
            ],
            "type": "heatmap"
           }
          ],
          "heatmapgl": [
           {
            "colorbar": {
             "outlinewidth": 0,
             "ticks": ""
            },
            "colorscale": [
             [
              0,
              "#0d0887"
             ],
             [
              0.1111111111111111,
              "#46039f"
             ],
             [
              0.2222222222222222,
              "#7201a8"
             ],
             [
              0.3333333333333333,
              "#9c179e"
             ],
             [
              0.4444444444444444,
              "#bd3786"
             ],
             [
              0.5555555555555556,
              "#d8576b"
             ],
             [
              0.6666666666666666,
              "#ed7953"
             ],
             [
              0.7777777777777778,
              "#fb9f3a"
             ],
             [
              0.8888888888888888,
              "#fdca26"
             ],
             [
              1,
              "#f0f921"
             ]
            ],
            "type": "heatmapgl"
           }
          ],
          "histogram": [
           {
            "marker": {
             "pattern": {
              "fillmode": "overlay",
              "size": 10,
              "solidity": 0.2
             }
            },
            "type": "histogram"
           }
          ],
          "histogram2d": [
           {
            "colorbar": {
             "outlinewidth": 0,
             "ticks": ""
            },
            "colorscale": [
             [
              0,
              "#0d0887"
             ],
             [
              0.1111111111111111,
              "#46039f"
             ],
             [
              0.2222222222222222,
              "#7201a8"
             ],
             [
              0.3333333333333333,
              "#9c179e"
             ],
             [
              0.4444444444444444,
              "#bd3786"
             ],
             [
              0.5555555555555556,
              "#d8576b"
             ],
             [
              0.6666666666666666,
              "#ed7953"
             ],
             [
              0.7777777777777778,
              "#fb9f3a"
             ],
             [
              0.8888888888888888,
              "#fdca26"
             ],
             [
              1,
              "#f0f921"
             ]
            ],
            "type": "histogram2d"
           }
          ],
          "histogram2dcontour": [
           {
            "colorbar": {
             "outlinewidth": 0,
             "ticks": ""
            },
            "colorscale": [
             [
              0,
              "#0d0887"
             ],
             [
              0.1111111111111111,
              "#46039f"
             ],
             [
              0.2222222222222222,
              "#7201a8"
             ],
             [
              0.3333333333333333,
              "#9c179e"
             ],
             [
              0.4444444444444444,
              "#bd3786"
             ],
             [
              0.5555555555555556,
              "#d8576b"
             ],
             [
              0.6666666666666666,
              "#ed7953"
             ],
             [
              0.7777777777777778,
              "#fb9f3a"
             ],
             [
              0.8888888888888888,
              "#fdca26"
             ],
             [
              1,
              "#f0f921"
             ]
            ],
            "type": "histogram2dcontour"
           }
          ],
          "mesh3d": [
           {
            "colorbar": {
             "outlinewidth": 0,
             "ticks": ""
            },
            "type": "mesh3d"
           }
          ],
          "parcoords": [
           {
            "line": {
             "colorbar": {
              "outlinewidth": 0,
              "ticks": ""
             }
            },
            "type": "parcoords"
           }
          ],
          "pie": [
           {
            "automargin": true,
            "type": "pie"
           }
          ],
          "scatter": [
           {
            "fillpattern": {
             "fillmode": "overlay",
             "size": 10,
             "solidity": 0.2
            },
            "type": "scatter"
           }
          ],
          "scatter3d": [
           {
            "line": {
             "colorbar": {
              "outlinewidth": 0,
              "ticks": ""
             }
            },
            "marker": {
             "colorbar": {
              "outlinewidth": 0,
              "ticks": ""
             }
            },
            "type": "scatter3d"
           }
          ],
          "scattercarpet": [
           {
            "marker": {
             "colorbar": {
              "outlinewidth": 0,
              "ticks": ""
             }
            },
            "type": "scattercarpet"
           }
          ],
          "scattergeo": [
           {
            "marker": {
             "colorbar": {
              "outlinewidth": 0,
              "ticks": ""
             }
            },
            "type": "scattergeo"
           }
          ],
          "scattergl": [
           {
            "marker": {
             "colorbar": {
              "outlinewidth": 0,
              "ticks": ""
             }
            },
            "type": "scattergl"
           }
          ],
          "scattermapbox": [
           {
            "marker": {
             "colorbar": {
              "outlinewidth": 0,
              "ticks": ""
             }
            },
            "type": "scattermapbox"
           }
          ],
          "scatterpolar": [
           {
            "marker": {
             "colorbar": {
              "outlinewidth": 0,
              "ticks": ""
             }
            },
            "type": "scatterpolar"
           }
          ],
          "scatterpolargl": [
           {
            "marker": {
             "colorbar": {
              "outlinewidth": 0,
              "ticks": ""
             }
            },
            "type": "scatterpolargl"
           }
          ],
          "scatterternary": [
           {
            "marker": {
             "colorbar": {
              "outlinewidth": 0,
              "ticks": ""
             }
            },
            "type": "scatterternary"
           }
          ],
          "surface": [
           {
            "colorbar": {
             "outlinewidth": 0,
             "ticks": ""
            },
            "colorscale": [
             [
              0,
              "#0d0887"
             ],
             [
              0.1111111111111111,
              "#46039f"
             ],
             [
              0.2222222222222222,
              "#7201a8"
             ],
             [
              0.3333333333333333,
              "#9c179e"
             ],
             [
              0.4444444444444444,
              "#bd3786"
             ],
             [
              0.5555555555555556,
              "#d8576b"
             ],
             [
              0.6666666666666666,
              "#ed7953"
             ],
             [
              0.7777777777777778,
              "#fb9f3a"
             ],
             [
              0.8888888888888888,
              "#fdca26"
             ],
             [
              1,
              "#f0f921"
             ]
            ],
            "type": "surface"
           }
          ],
          "table": [
           {
            "cells": {
             "fill": {
              "color": "#EBF0F8"
             },
             "line": {
              "color": "white"
             }
            },
            "header": {
             "fill": {
              "color": "#C8D4E3"
             },
             "line": {
              "color": "white"
             }
            },
            "type": "table"
           }
          ]
         },
         "layout": {
          "annotationdefaults": {
           "arrowcolor": "#2a3f5f",
           "arrowhead": 0,
           "arrowwidth": 1
          },
          "autotypenumbers": "strict",
          "coloraxis": {
           "colorbar": {
            "outlinewidth": 0,
            "ticks": ""
           }
          },
          "colorscale": {
           "diverging": [
            [
             0,
             "#8e0152"
            ],
            [
             0.1,
             "#c51b7d"
            ],
            [
             0.2,
             "#de77ae"
            ],
            [
             0.3,
             "#f1b6da"
            ],
            [
             0.4,
             "#fde0ef"
            ],
            [
             0.5,
             "#f7f7f7"
            ],
            [
             0.6,
             "#e6f5d0"
            ],
            [
             0.7,
             "#b8e186"
            ],
            [
             0.8,
             "#7fbc41"
            ],
            [
             0.9,
             "#4d9221"
            ],
            [
             1,
             "#276419"
            ]
           ],
           "sequential": [
            [
             0,
             "#0d0887"
            ],
            [
             0.1111111111111111,
             "#46039f"
            ],
            [
             0.2222222222222222,
             "#7201a8"
            ],
            [
             0.3333333333333333,
             "#9c179e"
            ],
            [
             0.4444444444444444,
             "#bd3786"
            ],
            [
             0.5555555555555556,
             "#d8576b"
            ],
            [
             0.6666666666666666,
             "#ed7953"
            ],
            [
             0.7777777777777778,
             "#fb9f3a"
            ],
            [
             0.8888888888888888,
             "#fdca26"
            ],
            [
             1,
             "#f0f921"
            ]
           ],
           "sequentialminus": [
            [
             0,
             "#0d0887"
            ],
            [
             0.1111111111111111,
             "#46039f"
            ],
            [
             0.2222222222222222,
             "#7201a8"
            ],
            [
             0.3333333333333333,
             "#9c179e"
            ],
            [
             0.4444444444444444,
             "#bd3786"
            ],
            [
             0.5555555555555556,
             "#d8576b"
            ],
            [
             0.6666666666666666,
             "#ed7953"
            ],
            [
             0.7777777777777778,
             "#fb9f3a"
            ],
            [
             0.8888888888888888,
             "#fdca26"
            ],
            [
             1,
             "#f0f921"
            ]
           ]
          },
          "colorway": [
           "#636efa",
           "#EF553B",
           "#00cc96",
           "#ab63fa",
           "#FFA15A",
           "#19d3f3",
           "#FF6692",
           "#B6E880",
           "#FF97FF",
           "#FECB52"
          ],
          "font": {
           "color": "#2a3f5f"
          },
          "geo": {
           "bgcolor": "white",
           "lakecolor": "white",
           "landcolor": "#E5ECF6",
           "showlakes": true,
           "showland": true,
           "subunitcolor": "white"
          },
          "hoverlabel": {
           "align": "left"
          },
          "hovermode": "closest",
          "mapbox": {
           "style": "light"
          },
          "paper_bgcolor": "white",
          "plot_bgcolor": "#E5ECF6",
          "polar": {
           "angularaxis": {
            "gridcolor": "white",
            "linecolor": "white",
            "ticks": ""
           },
           "bgcolor": "#E5ECF6",
           "radialaxis": {
            "gridcolor": "white",
            "linecolor": "white",
            "ticks": ""
           }
          },
          "scene": {
           "xaxis": {
            "backgroundcolor": "#E5ECF6",
            "gridcolor": "white",
            "gridwidth": 2,
            "linecolor": "white",
            "showbackground": true,
            "ticks": "",
            "zerolinecolor": "white"
           },
           "yaxis": {
            "backgroundcolor": "#E5ECF6",
            "gridcolor": "white",
            "gridwidth": 2,
            "linecolor": "white",
            "showbackground": true,
            "ticks": "",
            "zerolinecolor": "white"
           },
           "zaxis": {
            "backgroundcolor": "#E5ECF6",
            "gridcolor": "white",
            "gridwidth": 2,
            "linecolor": "white",
            "showbackground": true,
            "ticks": "",
            "zerolinecolor": "white"
           }
          },
          "shapedefaults": {
           "line": {
            "color": "#2a3f5f"
           }
          },
          "ternary": {
           "aaxis": {
            "gridcolor": "white",
            "linecolor": "white",
            "ticks": ""
           },
           "baxis": {
            "gridcolor": "white",
            "linecolor": "white",
            "ticks": ""
           },
           "bgcolor": "#E5ECF6",
           "caxis": {
            "gridcolor": "white",
            "linecolor": "white",
            "ticks": ""
           }
          },
          "title": {
           "x": 0.05
          },
          "xaxis": {
           "automargin": true,
           "gridcolor": "white",
           "linecolor": "white",
           "ticks": "",
           "title": {
            "standoff": 15
           },
           "zerolinecolor": "white",
           "zerolinewidth": 2
          },
          "yaxis": {
           "automargin": true,
           "gridcolor": "white",
           "linecolor": "white",
           "ticks": "",
           "title": {
            "standoff": 15
           },
           "zerolinecolor": "white",
           "zerolinewidth": 2
          }
         }
        },
        "title": {
         "text": "PBMC1 - matching celltypist labels"
        },
        "xaxis": {
         "showgrid": false,
         "visible": false,
         "zeroline": false
        },
        "yaxis": {
         "showgrid": false,
         "visible": false,
         "zeroline": false
        }
       }
      }
     },
     "metadata": {},
     "output_type": "display_data"
    },
    {
     "name": "stdout",
     "output_type": "stream",
     "text": [
      "------------------------------\n",
      "PBMC2 - matching celltypist labels\n"
     ]
    },
    {
     "name": "stderr",
     "output_type": "stream",
     "text": [
      "/Users/irenetesta/anaconda3/envs/chl/lib/python3.11/site-packages/anndata/_core/anndata.py:1113: FutureWarning:\n",
      "\n",
      "is_categorical_dtype is deprecated and will be removed in a future version. Use isinstance(dtype, CategoricalDtype) instead\n",
      "\n"
     ]
    },
    {
     "data": {
      "text/html": [
       "<div>\n",
       "<style scoped>\n",
       "    .dataframe tbody tr th:only-of-type {\n",
       "        vertical-align: middle;\n",
       "    }\n",
       "\n",
       "    .dataframe tbody tr th {\n",
       "        vertical-align: top;\n",
       "    }\n",
       "\n",
       "    .dataframe thead th {\n",
       "        text-align: right;\n",
       "    }\n",
       "</style>\n",
       "<table border=\"1\" class=\"dataframe\">\n",
       "  <thead>\n",
       "    <tr style=\"text-align: right;\">\n",
       "      <th></th>\n",
       "      <th>NMI</th>\n",
       "      <th>ARI</th>\n",
       "      <th>homogeneity</th>\n",
       "      <th>completeness</th>\n",
       "      <th>v_measure</th>\n",
       "      <th>fowlkes_mallows</th>\n",
       "    </tr>\n",
       "  </thead>\n",
       "  <tbody>\n",
       "    <tr>\n",
       "      <th>monocle</th>\n",
       "      <td>0.558505</td>\n",
       "      <td>0.196684</td>\n",
       "      <td>0.686770</td>\n",
       "      <td>0.470611</td>\n",
       "      <td>0.558505</td>\n",
       "      <td>0.327606</td>\n",
       "    </tr>\n",
       "    <tr>\n",
       "      <th>scanpy</th>\n",
       "      <td>0.711770</td>\n",
       "      <td>0.411761</td>\n",
       "      <td>0.814608</td>\n",
       "      <td>0.631986</td>\n",
       "      <td>0.711770</td>\n",
       "      <td>0.532994</td>\n",
       "    </tr>\n",
       "    <tr>\n",
       "      <th>scvi-tools</th>\n",
       "      <td>0.716471</td>\n",
       "      <td>0.395908</td>\n",
       "      <td>0.815004</td>\n",
       "      <td>0.639193</td>\n",
       "      <td>0.716471</td>\n",
       "      <td>0.516451</td>\n",
       "    </tr>\n",
       "    <tr>\n",
       "      <th>seurat</th>\n",
       "      <td>0.724443</td>\n",
       "      <td>0.386488</td>\n",
       "      <td>0.849993</td>\n",
       "      <td>0.631209</td>\n",
       "      <td>0.724443</td>\n",
       "      <td>0.516762</td>\n",
       "    </tr>\n",
       "    <tr>\n",
       "      <th>COTAN</th>\n",
       "      <td>0.688973</td>\n",
       "      <td>0.444196</td>\n",
       "      <td>0.677858</td>\n",
       "      <td>0.700459</td>\n",
       "      <td>0.688973</td>\n",
       "      <td>0.554044</td>\n",
       "    </tr>\n",
       "  </tbody>\n",
       "</table>\n",
       "</div>"
      ],
      "text/plain": [
       "                 NMI       ARI  homogeneity  completeness  v_measure  \\\n",
       "monocle     0.558505  0.196684     0.686770      0.470611   0.558505   \n",
       "scanpy      0.711770  0.411761     0.814608      0.631986   0.711770   \n",
       "scvi-tools  0.716471  0.395908     0.815004      0.639193   0.716471   \n",
       "seurat      0.724443  0.386488     0.849993      0.631209   0.724443   \n",
       "COTAN       0.688973  0.444196     0.677858      0.700459   0.688973   \n",
       "\n",
       "            fowlkes_mallows  \n",
       "monocle            0.327606  \n",
       "scanpy             0.532994  \n",
       "scvi-tools         0.516451  \n",
       "seurat             0.516762  \n",
       "COTAN              0.554044  "
      ]
     },
     "metadata": {},
     "output_type": "display_data"
    },
    {
     "data": {
      "application/vnd.plotly.v1+json": {
       "config": {
        "plotlyServerURL": "https://plot.ly"
       },
       "data": [
        {
         "link": {
          "source": [
           0,
           0,
           0,
           1,
           1,
           1,
           1,
           2,
           2,
           2,
           2,
           2,
           2,
           3,
           3,
           3,
           3,
           3,
           3,
           4,
           4,
           4,
           4,
           4,
           4,
           4,
           4,
           4,
           5,
           5,
           5,
           5,
           5,
           5,
           5,
           6,
           6,
           6,
           6,
           6,
           7,
           7,
           7,
           7,
           7,
           7,
           7,
           8,
           8,
           8,
           8,
           8,
           9,
           9,
           9,
           9,
           9,
           10,
           10,
           10,
           11,
           11,
           11,
           11,
           11,
           11,
           12,
           12,
           12,
           12,
           12,
           12,
           12,
           12,
           12,
           12,
           13,
           13,
           13,
           13,
           13,
           13,
           13,
           13,
           13,
           14,
           14,
           14,
           14,
           14,
           15,
           15,
           15,
           15,
           15,
           15,
           15,
           16,
           16,
           17,
           17,
           17,
           18,
           18,
           18,
           18,
           19,
           19,
           19,
           19,
           19,
           19,
           20,
           20,
           20,
           20,
           21,
           21,
           22,
           22,
           22,
           22,
           22,
           23,
           23,
           23,
           23,
           23,
           23,
           23,
           24,
           24,
           24,
           24,
           24,
           24,
           24,
           24,
           24,
           25,
           25,
           25,
           25,
           25,
           25,
           26,
           26,
           26,
           26,
           26,
           26,
           26,
           26,
           27,
           27,
           27,
           27,
           28,
           28,
           29,
           29,
           29,
           30,
           30,
           30,
           30,
           30,
           30,
           30,
           30,
           31,
           31,
           31,
           31,
           31,
           31,
           31,
           31,
           31,
           32,
           32,
           32,
           32,
           32,
           32,
           33,
           33,
           33,
           33,
           33,
           33,
           33,
           34,
           34,
           34,
           34,
           34,
           34,
           34,
           34,
           34,
           34,
           35,
           35,
           35,
           36,
           36,
           36,
           36,
           36,
           37,
           37,
           38,
           38,
           39,
           39,
           40,
           40,
           41,
           41,
           41,
           41,
           41,
           41,
           41,
           41,
           42,
           42,
           42,
           42,
           42,
           42,
           42,
           43,
           43,
           43,
           43,
           44,
           44,
           44,
           44,
           44,
           44,
           45,
           45,
           45,
           45,
           45,
           46,
           46,
           46,
           46,
           47,
           47,
           47,
           47,
           47,
           47,
           47,
           47,
           47,
           48,
           48,
           48,
           48,
           48,
           48,
           48,
           48,
           49,
           49,
           49,
           49,
           49,
           49,
           49,
           49,
           50,
           50,
           50,
           50,
           50,
           50,
           50,
           50,
           51,
           51,
           51,
           51,
           51,
           52,
           52,
           52,
           52,
           52,
           52,
           52,
           52,
           53,
           53,
           53,
           54,
           54,
           54,
           55,
           55,
           56,
           56,
           56,
           56,
           56,
           56,
           56,
           56,
           57,
           58,
           58,
           59,
           60,
           60,
           61,
           61,
           61,
           62,
           62,
           63,
           63,
           64,
           64,
           65,
           65,
           66,
           66,
           66,
           66,
           67,
           67,
           67,
           67,
           68,
           68,
           69,
           69,
           69,
           70,
           70,
           70,
           70,
           70,
           70,
           70,
           71,
           71,
           71,
           72,
           72,
           73,
           74,
           74,
           74,
           75,
           75,
           75,
           75,
           75,
           75,
           76,
           77,
           78,
           79,
           79,
           79,
           79,
           79,
           79,
           79,
           79,
           79,
           80,
           80,
           80,
           80,
           81,
           81,
           81,
           81,
           81,
           81,
           81,
           81,
           82,
           82,
           82,
           82,
           82,
           83,
           83,
           83,
           83,
           83,
           84,
           84,
           85,
           85,
           85,
           86,
           86,
           87,
           87,
           87,
           88,
           88,
           88,
           89,
           89,
           89,
           90,
           90
          ],
          "target": [
           29,
           35,
           40,
           27,
           35,
           37,
           38,
           24,
           30,
           32,
           33,
           34,
           36,
           23,
           24,
           25,
           30,
           31,
           34,
           23,
           24,
           25,
           26,
           30,
           31,
           33,
           34,
           36,
           28,
           29,
           30,
           32,
           33,
           34,
           36,
           23,
           24,
           25,
           31,
           34,
           23,
           24,
           25,
           26,
           31,
           33,
           34,
           23,
           24,
           25,
           31,
           34,
           23,
           24,
           25,
           31,
           34,
           28,
           32,
           36,
           24,
           26,
           30,
           33,
           34,
           36,
           23,
           24,
           25,
           26,
           30,
           31,
           32,
           33,
           34,
           36,
           24,
           25,
           26,
           30,
           31,
           32,
           33,
           34,
           36,
           23,
           24,
           25,
           31,
           34,
           24,
           26,
           30,
           31,
           33,
           34,
           36,
           27,
           35,
           24,
           27,
           37,
           23,
           24,
           25,
           31,
           26,
           27,
           29,
           31,
           38,
           40,
           28,
           30,
           32,
           36,
           38,
           39,
           24,
           30,
           31,
           34,
           36,
           41,
           42,
           45,
           48,
           49,
           52,
           56,
           41,
           42,
           47,
           48,
           49,
           50,
           51,
           52,
           56,
           42,
           45,
           47,
           49,
           52,
           56,
           41,
           42,
           47,
           48,
           49,
           50,
           52,
           59,
           44,
           53,
           54,
           58,
           43,
           55,
           46,
           50,
           56,
           41,
           43,
           47,
           49,
           50,
           51,
           55,
           56,
           41,
           42,
           45,
           47,
           48,
           49,
           50,
           52,
           59,
           41,
           43,
           47,
           51,
           55,
           56,
           41,
           42,
           47,
           48,
           50,
           51,
           52,
           42,
           44,
           45,
           47,
           48,
           49,
           50,
           51,
           52,
           56,
           44,
           53,
           58,
           43,
           47,
           51,
           52,
           56,
           44,
           53,
           44,
           54,
           54,
           57,
           46,
           56,
           61,
           62,
           63,
           65,
           68,
           69,
           75,
           76,
           61,
           62,
           63,
           64,
           69,
           71,
           76,
           60,
           71,
           75,
           76,
           66,
           70,
           71,
           73,
           75,
           77,
           62,
           63,
           64,
           71,
           72,
           67,
           68,
           74,
           75,
           61,
           64,
           65,
           68,
           69,
           71,
           72,
           75,
           76,
           61,
           62,
           63,
           65,
           68,
           69,
           71,
           76,
           61,
           62,
           63,
           64,
           68,
           69,
           70,
           76,
           61,
           62,
           65,
           68,
           69,
           71,
           72,
           76,
           61,
           68,
           69,
           71,
           72,
           61,
           62,
           63,
           65,
           69,
           71,
           72,
           76,
           66,
           70,
           73,
           66,
           77,
           78,
           60,
           75,
           61,
           62,
           63,
           64,
           69,
           71,
           72,
           75,
           78,
           66,
           70,
           75,
           82,
           83,
           79,
           80,
           81,
           79,
           80,
           79,
           80,
           80,
           81,
           79,
           81,
           84,
           85,
           86,
           87,
           81,
           82,
           89,
           90,
           79,
           81,
           79,
           80,
           81,
           79,
           80,
           82,
           84,
           85,
           86,
           87,
           79,
           80,
           81,
           79,
           81,
           84,
           82,
           89,
           90,
           79,
           81,
           82,
           83,
           87,
           88,
           79,
           85,
           88,
           97,
           98,
           100,
           102,
           103,
           104,
           105,
           106,
           107,
           93,
           104,
           105,
           107,
           91,
           97,
           100,
           102,
           104,
           105,
           106,
           107,
           91,
           92,
           93,
           100,
           102,
           91,
           92,
           100,
           102,
           105,
           93,
           101,
           93,
           94,
           95,
           93,
           105,
           93,
           98,
           101,
           96,
           98,
           108,
           99,
           100,
           105,
           99,
           100
          ],
          "value": [
           439,
           1,
           1,
           371,
           18,
           43,
           8,
           2,
           261,
           5,
           27,
           16,
           123,
           212,
           7,
           132,
           2,
           46,
           4,
           10,
           182,
           5,
           107,
           13,
           1,
           49,
           33,
           2,
           156,
           2,
           3,
           206,
           2,
           1,
           17,
           223,
           13,
           65,
           61,
           8,
           34,
           245,
           1,
           54,
           11,
           8,
           15,
           100,
           1,
           235,
           20,
           3,
           213,
           1,
           83,
           35,
           2,
           256,
           39,
           2,
           29,
           172,
           6,
           43,
           3,
           3,
           1,
           27,
           1,
           22,
           17,
           1,
           1,
           50,
           100,
           2,
           53,
           1,
           46,
           13,
           26,
           1,
           20,
           9,
           26,
           146,
           3,
           22,
           17,
           2,
           55,
           106,
           1,
           2,
           8,
           8,
           5,
           3,
           170,
           1,
           108,
           45,
           5,
           1,
           34,
           63,
           1,
           1,
           1,
           5,
           79,
           13,
           51,
           1,
           33,
           3,
           1,
           48,
           5,
           1,
           17,
           1,
           1,
           9,
           482,
           4,
           151,
           221,
           70,
           7,
           322,
           52,
           1,
           106,
           34,
           52,
           1,
           54,
           3,
           11,
           550,
           10,
           2,
           1,
           5,
           402,
           2,
           15,
           28,
           1,
           20,
           39,
           1,
           480,
           1,
           1,
           1,
           462,
           1,
           440,
           1,
           1,
           1,
           1,
           32,
           1,
           49,
           228,
           1,
           5,
           15,
           154,
           1,
           2,
           62,
           48,
           5,
           13,
           5,
           2,
           209,
           2,
           1,
           70,
           1,
           40,
           1,
           5,
           6,
           141,
           6,
           8,
           5,
           1,
           18,
           153,
           3,
           1,
           6,
           1,
           2,
           15,
           12,
           168,
           9,
           1,
           163,
           4,
           1,
           15,
           86,
           2,
           4,
           84,
           1,
           47,
           1,
           13,
           280,
           6,
           4,
           370,
           4,
           48,
           4,
           75,
           83,
           331,
           276,
           4,
           2,
           6,
           5,
           622,
           1,
           49,
           1,
           352,
           222,
           1,
           6,
           1,
           1,
           10,
           2,
           539,
           21,
           1,
           291,
           1,
           148,
           1,
           4,
           5,
           17,
           2,
           7,
           151,
           190,
           1,
           6,
           116,
           92,
           92,
           18,
           1,
           20,
           2,
           15,
           40,
           124,
           136,
           2,
           1,
           3,
           1,
           1,
           28,
           1,
           51,
           34,
           145,
           3,
           2,
           10,
           1,
           229,
           7,
           1,
           3,
           56,
           37,
           46,
           32,
           10,
           2,
           1,
           4,
           2,
           3,
           166,
           5,
           80,
           1,
           15,
           57,
           1,
           1,
           1,
           4,
           2,
           39,
           2,
           15,
           47,
           1,
           9,
           6,
           635,
           2,
           585,
           23,
           1,
           6,
           596,
           1,
           556,
           553,
           1,
           485,
           3,
           3,
           10,
           344,
           3,
           1,
           2,
           285,
           3,
           4,
           268,
           228,
           2,
           14,
           1,
           1,
           1,
           2,
           33,
           84,
           113,
           141,
           23,
           63,
           10,
           189,
           172,
           1,
           8,
           139,
           1,
           1,
           5,
           108,
           3,
           16,
           117,
           81,
           48,
           18,
           1,
           1,
           7,
           51,
           99,
           1148,
           199,
           55,
           1,
           566,
           1183,
           4,
           1,
           272,
           1,
           1,
           13,
           77,
           3,
           173,
           615,
           19,
           1,
           3,
           6,
           58,
           48,
           1,
           2,
           1,
           10,
           167,
           48,
           3,
           73,
           427,
           1,
           115,
           3,
           1,
           14,
           2,
           48,
           206,
           85,
           2,
           1,
           141
          ]
         },
         "node": {
          "color": [
           "#1f77b4",
           "#ff7f0e",
           "#2ca02c",
           "#d62728",
           "#9467bd",
           "#8c564b",
           "#e377c2",
           "#7f7f7f",
           "#bcbd22",
           "#17becf",
           "#1f77b4",
           "#ff7f0e",
           "#2ca02c",
           "#d62728",
           "#9467bd",
           "#8c564b",
           "#e377c2",
           "#7f7f7f",
           "#bcbd22",
           "#17becf",
           "#1f77b4",
           "#ff7f0e",
           "#2ca02c",
           "#d62728",
           "#9467bd",
           "#8c564b",
           "#e377c2",
           "#7f7f7f",
           "#bcbd22",
           "#17becf",
           "#1f77b4",
           "#ff7f0e",
           "#2ca02c",
           "#d62728",
           "#9467bd",
           "#8c564b",
           "#e377c2",
           "#7f7f7f",
           "#bcbd22",
           "#17becf",
           "#1f77b4",
           "#ff7f0e",
           "#2ca02c",
           "#d62728",
           "#9467bd",
           "#8c564b",
           "#e377c2",
           "#7f7f7f",
           "#bcbd22",
           "#17becf",
           "#1f77b4",
           "#ff7f0e",
           "#2ca02c",
           "#d62728",
           "#9467bd",
           "#8c564b",
           "#e377c2",
           "#7f7f7f",
           "#bcbd22",
           "#17becf",
           "#1f77b4",
           "#ff7f0e",
           "#2ca02c",
           "#d62728",
           "#9467bd",
           "#8c564b",
           "#e377c2",
           "#7f7f7f",
           "#bcbd22",
           "#17becf",
           "#1f77b4",
           "#ff7f0e",
           "#2ca02c",
           "#d62728",
           "#9467bd",
           "#8c564b",
           "#e377c2",
           "#7f7f7f",
           "#bcbd22",
           "#17becf",
           "#1f77b4",
           "#ff7f0e",
           "#2ca02c",
           "#d62728",
           "#9467bd",
           "#8c564b",
           "#e377c2",
           "#7f7f7f",
           "#bcbd22",
           "#17becf",
           "#1f77b4",
           "#ff7f0e",
           "#2ca02c",
           "#d62728",
           "#9467bd",
           "#8c564b",
           "#e377c2",
           "#7f7f7f",
           "#bcbd22",
           "#17becf",
           "#1f77b4",
           "#ff7f0e",
           "#2ca02c",
           "#d62728",
           "#9467bd",
           "#8c564b",
           "#e377c2",
           "#7f7f7f",
           "#bcbd22"
          ],
          "label": [
           1,
           2,
           3,
           4,
           5,
           6,
           7,
           8,
           9,
           10,
           11,
           12,
           13,
           14,
           15,
           16,
           17,
           18,
           19,
           20,
           21,
           22,
           23,
           1,
           2,
           3,
           4,
           5,
           6,
           7,
           8,
           9,
           10,
           11,
           12,
           13,
           14,
           15,
           16,
           17,
           18,
           1,
           2,
           3,
           4,
           5,
           6,
           7,
           8,
           9,
           10,
           11,
           12,
           13,
           14,
           15,
           16,
           17,
           18,
           19,
           1,
           2,
           3,
           4,
           5,
           6,
           7,
           8,
           9,
           10,
           11,
           12,
           13,
           14,
           15,
           16,
           17,
           18,
           19,
           1,
           2,
           3,
           4,
           5,
           6,
           7,
           8,
           9,
           10,
           11,
           12,
           "CD16+ NK cells",
           "CD16- NK cells",
           "Classical monocytes",
           "DC1",
           "DC2",
           "HSC/MPP",
           "MAIT cells",
           "Megakaryocytes/platelets",
           "Memory B cells",
           "Naive B cells",
           "Non-classical monocytes",
           "Plasmablasts",
           "Regulatory T cells",
           "Tcm/Naive cytotoxic T cells",
           "Tcm/Naive helper T cells",
           "Tem/Effector helper T cells",
           "Tem/Trm cytotoxic T cells",
           "pDC"
          ],
          "line": {
           "color": "black",
           "width": 0.5
          },
          "pad": 15,
          "thickness": 20
         },
         "type": "sankey"
        }
       ],
       "layout": {
        "annotations": [
         {
          "showarrow": false,
          "text": "monocle",
          "x": 0,
          "xref": "x",
          "y": 1.05,
          "yref": "paper"
         },
         {
          "showarrow": false,
          "text": "scanpy",
          "x": 1,
          "xref": "x",
          "y": 1.05,
          "yref": "paper"
         },
         {
          "showarrow": false,
          "text": "scvi-tools",
          "x": 2,
          "xref": "x",
          "y": 1.05,
          "yref": "paper"
         },
         {
          "showarrow": false,
          "text": "seurat",
          "x": 3,
          "xref": "x",
          "y": 1.05,
          "yref": "paper"
         },
         {
          "showarrow": false,
          "text": "COTAN",
          "x": 4,
          "xref": "x",
          "y": 1.05,
          "yref": "paper"
         },
         {
          "showarrow": false,
          "text": "celltypist",
          "x": 5,
          "xref": "x",
          "y": 1.05,
          "yref": "paper"
         }
        ],
        "font": {
         "size": 10
        },
        "plot_bgcolor": "rgba(0,0,0,0)",
        "template": {
         "data": {
          "bar": [
           {
            "error_x": {
             "color": "#2a3f5f"
            },
            "error_y": {
             "color": "#2a3f5f"
            },
            "marker": {
             "line": {
              "color": "#E5ECF6",
              "width": 0.5
             },
             "pattern": {
              "fillmode": "overlay",
              "size": 10,
              "solidity": 0.2
             }
            },
            "type": "bar"
           }
          ],
          "barpolar": [
           {
            "marker": {
             "line": {
              "color": "#E5ECF6",
              "width": 0.5
             },
             "pattern": {
              "fillmode": "overlay",
              "size": 10,
              "solidity": 0.2
             }
            },
            "type": "barpolar"
           }
          ],
          "carpet": [
           {
            "aaxis": {
             "endlinecolor": "#2a3f5f",
             "gridcolor": "white",
             "linecolor": "white",
             "minorgridcolor": "white",
             "startlinecolor": "#2a3f5f"
            },
            "baxis": {
             "endlinecolor": "#2a3f5f",
             "gridcolor": "white",
             "linecolor": "white",
             "minorgridcolor": "white",
             "startlinecolor": "#2a3f5f"
            },
            "type": "carpet"
           }
          ],
          "choropleth": [
           {
            "colorbar": {
             "outlinewidth": 0,
             "ticks": ""
            },
            "type": "choropleth"
           }
          ],
          "contour": [
           {
            "colorbar": {
             "outlinewidth": 0,
             "ticks": ""
            },
            "colorscale": [
             [
              0,
              "#0d0887"
             ],
             [
              0.1111111111111111,
              "#46039f"
             ],
             [
              0.2222222222222222,
              "#7201a8"
             ],
             [
              0.3333333333333333,
              "#9c179e"
             ],
             [
              0.4444444444444444,
              "#bd3786"
             ],
             [
              0.5555555555555556,
              "#d8576b"
             ],
             [
              0.6666666666666666,
              "#ed7953"
             ],
             [
              0.7777777777777778,
              "#fb9f3a"
             ],
             [
              0.8888888888888888,
              "#fdca26"
             ],
             [
              1,
              "#f0f921"
             ]
            ],
            "type": "contour"
           }
          ],
          "contourcarpet": [
           {
            "colorbar": {
             "outlinewidth": 0,
             "ticks": ""
            },
            "type": "contourcarpet"
           }
          ],
          "heatmap": [
           {
            "colorbar": {
             "outlinewidth": 0,
             "ticks": ""
            },
            "colorscale": [
             [
              0,
              "#0d0887"
             ],
             [
              0.1111111111111111,
              "#46039f"
             ],
             [
              0.2222222222222222,
              "#7201a8"
             ],
             [
              0.3333333333333333,
              "#9c179e"
             ],
             [
              0.4444444444444444,
              "#bd3786"
             ],
             [
              0.5555555555555556,
              "#d8576b"
             ],
             [
              0.6666666666666666,
              "#ed7953"
             ],
             [
              0.7777777777777778,
              "#fb9f3a"
             ],
             [
              0.8888888888888888,
              "#fdca26"
             ],
             [
              1,
              "#f0f921"
             ]
            ],
            "type": "heatmap"
           }
          ],
          "heatmapgl": [
           {
            "colorbar": {
             "outlinewidth": 0,
             "ticks": ""
            },
            "colorscale": [
             [
              0,
              "#0d0887"
             ],
             [
              0.1111111111111111,
              "#46039f"
             ],
             [
              0.2222222222222222,
              "#7201a8"
             ],
             [
              0.3333333333333333,
              "#9c179e"
             ],
             [
              0.4444444444444444,
              "#bd3786"
             ],
             [
              0.5555555555555556,
              "#d8576b"
             ],
             [
              0.6666666666666666,
              "#ed7953"
             ],
             [
              0.7777777777777778,
              "#fb9f3a"
             ],
             [
              0.8888888888888888,
              "#fdca26"
             ],
             [
              1,
              "#f0f921"
             ]
            ],
            "type": "heatmapgl"
           }
          ],
          "histogram": [
           {
            "marker": {
             "pattern": {
              "fillmode": "overlay",
              "size": 10,
              "solidity": 0.2
             }
            },
            "type": "histogram"
           }
          ],
          "histogram2d": [
           {
            "colorbar": {
             "outlinewidth": 0,
             "ticks": ""
            },
            "colorscale": [
             [
              0,
              "#0d0887"
             ],
             [
              0.1111111111111111,
              "#46039f"
             ],
             [
              0.2222222222222222,
              "#7201a8"
             ],
             [
              0.3333333333333333,
              "#9c179e"
             ],
             [
              0.4444444444444444,
              "#bd3786"
             ],
             [
              0.5555555555555556,
              "#d8576b"
             ],
             [
              0.6666666666666666,
              "#ed7953"
             ],
             [
              0.7777777777777778,
              "#fb9f3a"
             ],
             [
              0.8888888888888888,
              "#fdca26"
             ],
             [
              1,
              "#f0f921"
             ]
            ],
            "type": "histogram2d"
           }
          ],
          "histogram2dcontour": [
           {
            "colorbar": {
             "outlinewidth": 0,
             "ticks": ""
            },
            "colorscale": [
             [
              0,
              "#0d0887"
             ],
             [
              0.1111111111111111,
              "#46039f"
             ],
             [
              0.2222222222222222,
              "#7201a8"
             ],
             [
              0.3333333333333333,
              "#9c179e"
             ],
             [
              0.4444444444444444,
              "#bd3786"
             ],
             [
              0.5555555555555556,
              "#d8576b"
             ],
             [
              0.6666666666666666,
              "#ed7953"
             ],
             [
              0.7777777777777778,
              "#fb9f3a"
             ],
             [
              0.8888888888888888,
              "#fdca26"
             ],
             [
              1,
              "#f0f921"
             ]
            ],
            "type": "histogram2dcontour"
           }
          ],
          "mesh3d": [
           {
            "colorbar": {
             "outlinewidth": 0,
             "ticks": ""
            },
            "type": "mesh3d"
           }
          ],
          "parcoords": [
           {
            "line": {
             "colorbar": {
              "outlinewidth": 0,
              "ticks": ""
             }
            },
            "type": "parcoords"
           }
          ],
          "pie": [
           {
            "automargin": true,
            "type": "pie"
           }
          ],
          "scatter": [
           {
            "fillpattern": {
             "fillmode": "overlay",
             "size": 10,
             "solidity": 0.2
            },
            "type": "scatter"
           }
          ],
          "scatter3d": [
           {
            "line": {
             "colorbar": {
              "outlinewidth": 0,
              "ticks": ""
             }
            },
            "marker": {
             "colorbar": {
              "outlinewidth": 0,
              "ticks": ""
             }
            },
            "type": "scatter3d"
           }
          ],
          "scattercarpet": [
           {
            "marker": {
             "colorbar": {
              "outlinewidth": 0,
              "ticks": ""
             }
            },
            "type": "scattercarpet"
           }
          ],
          "scattergeo": [
           {
            "marker": {
             "colorbar": {
              "outlinewidth": 0,
              "ticks": ""
             }
            },
            "type": "scattergeo"
           }
          ],
          "scattergl": [
           {
            "marker": {
             "colorbar": {
              "outlinewidth": 0,
              "ticks": ""
             }
            },
            "type": "scattergl"
           }
          ],
          "scattermapbox": [
           {
            "marker": {
             "colorbar": {
              "outlinewidth": 0,
              "ticks": ""
             }
            },
            "type": "scattermapbox"
           }
          ],
          "scatterpolar": [
           {
            "marker": {
             "colorbar": {
              "outlinewidth": 0,
              "ticks": ""
             }
            },
            "type": "scatterpolar"
           }
          ],
          "scatterpolargl": [
           {
            "marker": {
             "colorbar": {
              "outlinewidth": 0,
              "ticks": ""
             }
            },
            "type": "scatterpolargl"
           }
          ],
          "scatterternary": [
           {
            "marker": {
             "colorbar": {
              "outlinewidth": 0,
              "ticks": ""
             }
            },
            "type": "scatterternary"
           }
          ],
          "surface": [
           {
            "colorbar": {
             "outlinewidth": 0,
             "ticks": ""
            },
            "colorscale": [
             [
              0,
              "#0d0887"
             ],
             [
              0.1111111111111111,
              "#46039f"
             ],
             [
              0.2222222222222222,
              "#7201a8"
             ],
             [
              0.3333333333333333,
              "#9c179e"
             ],
             [
              0.4444444444444444,
              "#bd3786"
             ],
             [
              0.5555555555555556,
              "#d8576b"
             ],
             [
              0.6666666666666666,
              "#ed7953"
             ],
             [
              0.7777777777777778,
              "#fb9f3a"
             ],
             [
              0.8888888888888888,
              "#fdca26"
             ],
             [
              1,
              "#f0f921"
             ]
            ],
            "type": "surface"
           }
          ],
          "table": [
           {
            "cells": {
             "fill": {
              "color": "#EBF0F8"
             },
             "line": {
              "color": "white"
             }
            },
            "header": {
             "fill": {
              "color": "#C8D4E3"
             },
             "line": {
              "color": "white"
             }
            },
            "type": "table"
           }
          ]
         },
         "layout": {
          "annotationdefaults": {
           "arrowcolor": "#2a3f5f",
           "arrowhead": 0,
           "arrowwidth": 1
          },
          "autotypenumbers": "strict",
          "coloraxis": {
           "colorbar": {
            "outlinewidth": 0,
            "ticks": ""
           }
          },
          "colorscale": {
           "diverging": [
            [
             0,
             "#8e0152"
            ],
            [
             0.1,
             "#c51b7d"
            ],
            [
             0.2,
             "#de77ae"
            ],
            [
             0.3,
             "#f1b6da"
            ],
            [
             0.4,
             "#fde0ef"
            ],
            [
             0.5,
             "#f7f7f7"
            ],
            [
             0.6,
             "#e6f5d0"
            ],
            [
             0.7,
             "#b8e186"
            ],
            [
             0.8,
             "#7fbc41"
            ],
            [
             0.9,
             "#4d9221"
            ],
            [
             1,
             "#276419"
            ]
           ],
           "sequential": [
            [
             0,
             "#0d0887"
            ],
            [
             0.1111111111111111,
             "#46039f"
            ],
            [
             0.2222222222222222,
             "#7201a8"
            ],
            [
             0.3333333333333333,
             "#9c179e"
            ],
            [
             0.4444444444444444,
             "#bd3786"
            ],
            [
             0.5555555555555556,
             "#d8576b"
            ],
            [
             0.6666666666666666,
             "#ed7953"
            ],
            [
             0.7777777777777778,
             "#fb9f3a"
            ],
            [
             0.8888888888888888,
             "#fdca26"
            ],
            [
             1,
             "#f0f921"
            ]
           ],
           "sequentialminus": [
            [
             0,
             "#0d0887"
            ],
            [
             0.1111111111111111,
             "#46039f"
            ],
            [
             0.2222222222222222,
             "#7201a8"
            ],
            [
             0.3333333333333333,
             "#9c179e"
            ],
            [
             0.4444444444444444,
             "#bd3786"
            ],
            [
             0.5555555555555556,
             "#d8576b"
            ],
            [
             0.6666666666666666,
             "#ed7953"
            ],
            [
             0.7777777777777778,
             "#fb9f3a"
            ],
            [
             0.8888888888888888,
             "#fdca26"
            ],
            [
             1,
             "#f0f921"
            ]
           ]
          },
          "colorway": [
           "#636efa",
           "#EF553B",
           "#00cc96",
           "#ab63fa",
           "#FFA15A",
           "#19d3f3",
           "#FF6692",
           "#B6E880",
           "#FF97FF",
           "#FECB52"
          ],
          "font": {
           "color": "#2a3f5f"
          },
          "geo": {
           "bgcolor": "white",
           "lakecolor": "white",
           "landcolor": "#E5ECF6",
           "showlakes": true,
           "showland": true,
           "subunitcolor": "white"
          },
          "hoverlabel": {
           "align": "left"
          },
          "hovermode": "closest",
          "mapbox": {
           "style": "light"
          },
          "paper_bgcolor": "white",
          "plot_bgcolor": "#E5ECF6",
          "polar": {
           "angularaxis": {
            "gridcolor": "white",
            "linecolor": "white",
            "ticks": ""
           },
           "bgcolor": "#E5ECF6",
           "radialaxis": {
            "gridcolor": "white",
            "linecolor": "white",
            "ticks": ""
           }
          },
          "scene": {
           "xaxis": {
            "backgroundcolor": "#E5ECF6",
            "gridcolor": "white",
            "gridwidth": 2,
            "linecolor": "white",
            "showbackground": true,
            "ticks": "",
            "zerolinecolor": "white"
           },
           "yaxis": {
            "backgroundcolor": "#E5ECF6",
            "gridcolor": "white",
            "gridwidth": 2,
            "linecolor": "white",
            "showbackground": true,
            "ticks": "",
            "zerolinecolor": "white"
           },
           "zaxis": {
            "backgroundcolor": "#E5ECF6",
            "gridcolor": "white",
            "gridwidth": 2,
            "linecolor": "white",
            "showbackground": true,
            "ticks": "",
            "zerolinecolor": "white"
           }
          },
          "shapedefaults": {
           "line": {
            "color": "#2a3f5f"
           }
          },
          "ternary": {
           "aaxis": {
            "gridcolor": "white",
            "linecolor": "white",
            "ticks": ""
           },
           "baxis": {
            "gridcolor": "white",
            "linecolor": "white",
            "ticks": ""
           },
           "bgcolor": "#E5ECF6",
           "caxis": {
            "gridcolor": "white",
            "linecolor": "white",
            "ticks": ""
           }
          },
          "title": {
           "x": 0.05
          },
          "xaxis": {
           "automargin": true,
           "gridcolor": "white",
           "linecolor": "white",
           "ticks": "",
           "title": {
            "standoff": 15
           },
           "zerolinecolor": "white",
           "zerolinewidth": 2
          },
          "yaxis": {
           "automargin": true,
           "gridcolor": "white",
           "linecolor": "white",
           "ticks": "",
           "title": {
            "standoff": 15
           },
           "zerolinecolor": "white",
           "zerolinewidth": 2
          }
         }
        },
        "title": {
         "text": "PBMC2 - matching celltypist labels"
        },
        "xaxis": {
         "showgrid": false,
         "visible": false,
         "zeroline": false
        },
        "yaxis": {
         "showgrid": false,
         "visible": false,
         "zeroline": false
        }
       }
      }
     },
     "metadata": {},
     "output_type": "display_data"
    },
    {
     "name": "stdout",
     "output_type": "stream",
     "text": [
      "------------------------------\n",
      "PBMC3 - matching celltypist labels\n"
     ]
    },
    {
     "name": "stderr",
     "output_type": "stream",
     "text": [
      "/Users/irenetesta/anaconda3/envs/chl/lib/python3.11/site-packages/anndata/_core/anndata.py:1113: FutureWarning:\n",
      "\n",
      "is_categorical_dtype is deprecated and will be removed in a future version. Use isinstance(dtype, CategoricalDtype) instead\n",
      "\n"
     ]
    },
    {
     "data": {
      "text/html": [
       "<div>\n",
       "<style scoped>\n",
       "    .dataframe tbody tr th:only-of-type {\n",
       "        vertical-align: middle;\n",
       "    }\n",
       "\n",
       "    .dataframe tbody tr th {\n",
       "        vertical-align: top;\n",
       "    }\n",
       "\n",
       "    .dataframe thead th {\n",
       "        text-align: right;\n",
       "    }\n",
       "</style>\n",
       "<table border=\"1\" class=\"dataframe\">\n",
       "  <thead>\n",
       "    <tr style=\"text-align: right;\">\n",
       "      <th></th>\n",
       "      <th>NMI</th>\n",
       "      <th>ARI</th>\n",
       "      <th>homogeneity</th>\n",
       "      <th>completeness</th>\n",
       "      <th>v_measure</th>\n",
       "      <th>fowlkes_mallows</th>\n",
       "    </tr>\n",
       "  </thead>\n",
       "  <tbody>\n",
       "    <tr>\n",
       "      <th>monocle</th>\n",
       "      <td>0.560700</td>\n",
       "      <td>0.257249</td>\n",
       "      <td>0.666370</td>\n",
       "      <td>0.483957</td>\n",
       "      <td>0.560700</td>\n",
       "      <td>0.364163</td>\n",
       "    </tr>\n",
       "    <tr>\n",
       "      <th>scanpy</th>\n",
       "      <td>0.677829</td>\n",
       "      <td>0.412995</td>\n",
       "      <td>0.770393</td>\n",
       "      <td>0.605122</td>\n",
       "      <td>0.677829</td>\n",
       "      <td>0.510203</td>\n",
       "    </tr>\n",
       "    <tr>\n",
       "      <th>scvi-tools</th>\n",
       "      <td>0.721456</td>\n",
       "      <td>0.491665</td>\n",
       "      <td>0.782506</td>\n",
       "      <td>0.669242</td>\n",
       "      <td>0.721456</td>\n",
       "      <td>0.574810</td>\n",
       "    </tr>\n",
       "    <tr>\n",
       "      <th>seurat</th>\n",
       "      <td>0.727780</td>\n",
       "      <td>0.434786</td>\n",
       "      <td>0.853486</td>\n",
       "      <td>0.634350</td>\n",
       "      <td>0.727780</td>\n",
       "      <td>0.541110</td>\n",
       "    </tr>\n",
       "    <tr>\n",
       "      <th>COTAN</th>\n",
       "      <td>0.690438</td>\n",
       "      <td>0.448282</td>\n",
       "      <td>0.721157</td>\n",
       "      <td>0.662230</td>\n",
       "      <td>0.690438</td>\n",
       "      <td>0.532344</td>\n",
       "    </tr>\n",
       "  </tbody>\n",
       "</table>\n",
       "</div>"
      ],
      "text/plain": [
       "                 NMI       ARI  homogeneity  completeness  v_measure  \\\n",
       "monocle     0.560700  0.257249     0.666370      0.483957   0.560700   \n",
       "scanpy      0.677829  0.412995     0.770393      0.605122   0.677829   \n",
       "scvi-tools  0.721456  0.491665     0.782506      0.669242   0.721456   \n",
       "seurat      0.727780  0.434786     0.853486      0.634350   0.727780   \n",
       "COTAN       0.690438  0.448282     0.721157      0.662230   0.690438   \n",
       "\n",
       "            fowlkes_mallows  \n",
       "monocle            0.364163  \n",
       "scanpy             0.510203  \n",
       "scvi-tools         0.574810  \n",
       "seurat             0.541110  \n",
       "COTAN              0.532344  "
      ]
     },
     "metadata": {},
     "output_type": "display_data"
    },
    {
     "data": {
      "application/vnd.plotly.v1+json": {
       "config": {
        "plotlyServerURL": "https://plot.ly"
       },
       "data": [
        {
         "link": {
          "source": [
           0,
           0,
           0,
           0,
           0,
           0,
           1,
           1,
           2,
           2,
           2,
           2,
           3,
           3,
           3,
           3,
           3,
           3,
           3,
           4,
           4,
           4,
           4,
           4,
           4,
           4,
           4,
           4,
           4,
           5,
           5,
           5,
           5,
           5,
           5,
           5,
           5,
           5,
           6,
           6,
           6,
           6,
           6,
           6,
           6,
           6,
           6,
           6,
           6,
           7,
           7,
           7,
           7,
           7,
           7,
           7,
           8,
           8,
           8,
           8,
           8,
           8,
           8,
           9,
           9,
           9,
           9,
           9,
           9,
           9,
           10,
           10,
           10,
           10,
           10,
           10,
           10,
           10,
           11,
           11,
           11,
           11,
           11,
           12,
           12,
           12,
           12,
           12,
           12,
           12,
           12,
           12,
           12,
           13,
           13,
           13,
           13,
           13,
           13,
           13,
           14,
           14,
           14,
           15,
           15,
           15,
           15,
           16,
           16,
           16,
           16,
           16,
           16,
           16,
           16,
           17,
           17,
           17,
           17,
           17,
           17,
           18,
           18,
           18,
           18,
           18,
           18,
           18,
           19,
           19,
           19,
           19,
           19,
           20,
           20,
           20,
           20,
           20,
           21,
           21,
           21,
           22,
           22,
           22,
           22,
           22,
           22,
           22,
           22,
           22,
           23,
           23,
           24,
           25,
           25,
           26,
           26,
           26,
           26,
           26,
           26,
           26,
           27,
           27,
           27,
           27,
           28,
           28,
           28,
           28,
           28,
           28,
           28,
           28,
           29,
           30,
           30,
           30,
           31,
           31,
           31,
           31,
           31,
           31,
           31,
           32,
           32,
           32,
           32,
           32,
           32,
           33,
           33,
           33,
           33,
           33,
           33,
           33,
           33,
           33,
           33,
           34,
           34,
           34,
           34,
           34,
           34,
           34,
           34,
           34,
           34,
           35,
           35,
           35,
           35,
           35,
           35,
           35,
           35,
           35,
           35,
           36,
           36,
           36,
           37,
           37,
           37,
           37,
           37,
           37,
           37,
           37,
           37,
           37,
           38,
           38,
           38,
           38,
           38,
           38,
           39,
           39,
           40,
           40,
           40,
           40,
           40,
           40,
           40,
           41,
           41,
           41,
           41,
           42,
           42,
           42,
           42,
           42,
           42,
           42,
           42,
           43,
           43,
           43,
           44,
           44,
           45,
           45,
           46,
           46,
           46,
           46,
           46,
           46,
           47,
           48,
           48,
           48,
           48,
           48,
           48,
           48,
           48,
           48,
           48,
           48,
           48,
           49,
           49,
           49,
           49,
           49,
           49,
           49,
           49,
           50,
           50,
           50,
           50,
           50,
           50,
           50,
           50,
           50,
           50,
           51,
           51,
           51,
           51,
           51,
           52,
           52,
           52,
           52,
           52,
           52,
           52,
           52,
           52,
           52,
           52,
           53,
           53,
           53,
           53,
           53,
           53,
           53,
           54,
           54,
           54,
           54,
           54,
           54,
           54,
           55,
           55,
           55,
           55,
           55,
           55,
           55,
           55,
           55,
           55,
           55,
           55,
           55,
           56,
           56,
           56,
           56,
           56,
           56,
           56,
           56,
           56,
           56,
           57,
           57,
           57,
           57,
           57,
           57,
           58,
           58,
           58,
           58,
           58,
           58,
           58,
           59,
           59,
           59,
           59,
           59,
           59,
           59,
           59,
           59,
           60,
           60,
           60,
           60,
           60,
           60,
           60,
           60,
           60,
           60,
           60,
           60,
           60,
           61,
           61,
           61,
           62,
           62,
           62,
           62,
           62,
           63,
           64,
           64,
           65,
           66,
           66,
           66,
           66,
           67,
           67,
           67,
           67,
           67,
           68,
           68,
           68,
           68,
           68,
           68,
           68,
           69,
           69,
           69,
           70,
           70,
           70,
           70,
           70,
           70,
           71,
           71,
           72,
           72,
           72,
           72,
           73,
           73,
           73,
           73,
           74,
           74,
           74,
           75,
           75,
           75,
           75,
           75,
           76,
           77,
           77,
           77,
           77,
           77,
           77,
           77,
           77,
           77,
           78,
           78,
           78,
           78,
           78,
           78,
           78,
           79,
           79,
           79,
           80,
           80,
           80,
           80,
           81,
           81,
           82,
           82,
           82,
           82,
           82,
           83,
           83,
           83,
           84,
           84,
           84,
           84,
           85,
           85,
           85,
           85,
           85,
           85,
           86,
           86,
           86,
           87,
           87,
           87,
           88,
           89,
           89,
           89,
           89,
           89,
           89,
           89,
           90,
           90,
           90,
           90,
           90,
           90,
           91,
           91,
           92,
           92,
           92,
           92,
           92,
           92,
           93,
           93,
           93,
           93,
           93,
           94,
           94,
           94,
           94,
           94,
           94,
           94,
           95,
           95,
           95,
           95,
           95,
           95,
           95,
           95,
           95,
           95,
           95,
           96,
           96,
           96,
           96,
           96,
           97,
           97,
           97,
           97,
           98,
           98,
           98,
           98,
           98,
           98,
           98,
           99,
           99,
           99,
           100,
           100,
           100,
           101,
           101,
           101,
           101,
           101,
           101,
           101,
           102,
           102,
           103,
           103,
           103,
           103,
           103,
           104,
           104,
           105,
           105,
           105,
           106,
           106,
           107,
           107,
           107,
           107,
           107,
           108,
           108,
           109,
           109,
           109,
           110,
           110,
           110,
           111,
           111,
           111,
           112,
           112,
           112,
           113,
           113,
           113,
           113,
           113,
           113,
           114,
           114,
           115,
           116
          ],
          "target": [
           30,
           36,
           39,
           41,
           43,
           45,
           29,
           42,
           27,
           32,
           38,
           41,
           26,
           31,
           33,
           35,
           37,
           40,
           46,
           26,
           28,
           32,
           33,
           34,
           35,
           37,
           38,
           40,
           46,
           26,
           28,
           32,
           33,
           34,
           35,
           37,
           40,
           41,
           26,
           28,
           31,
           32,
           33,
           34,
           35,
           37,
           40,
           46,
           47,
           27,
           28,
           32,
           34,
           37,
           38,
           40,
           26,
           31,
           33,
           35,
           37,
           40,
           46,
           26,
           31,
           33,
           35,
           37,
           40,
           46,
           26,
           31,
           33,
           35,
           37,
           40,
           46,
           47,
           30,
           36,
           39,
           41,
           45,
           26,
           28,
           31,
           33,
           34,
           35,
           37,
           40,
           42,
           46,
           28,
           32,
           33,
           34,
           37,
           38,
           40,
           30,
           39,
           45,
           27,
           32,
           38,
           41,
           27,
           28,
           30,
           41,
           42,
           43,
           44,
           47,
           27,
           28,
           32,
           33,
           34,
           37,
           26,
           31,
           33,
           35,
           37,
           40,
           46,
           26,
           31,
           33,
           37,
           46,
           27,
           32,
           34,
           38,
           40,
           29,
           34,
           42,
           26,
           27,
           28,
           31,
           32,
           33,
           34,
           37,
           40,
           29,
           42,
           44,
           30,
           45,
           49,
           52,
           53,
           54,
           56,
           59,
           60,
           50,
           55,
           62,
           64,
           49,
           52,
           54,
           55,
           56,
           58,
           59,
           60,
           51,
           48,
           57,
           61,
           49,
           50,
           53,
           55,
           56,
           59,
           60,
           50,
           52,
           55,
           58,
           60,
           62,
           49,
           51,
           52,
           53,
           54,
           55,
           56,
           58,
           59,
           60,
           51,
           52,
           53,
           54,
           55,
           56,
           58,
           59,
           60,
           62,
           48,
           49,
           50,
           52,
           53,
           54,
           55,
           56,
           59,
           60,
           48,
           57,
           61,
           49,
           51,
           52,
           53,
           54,
           55,
           56,
           58,
           59,
           60,
           50,
           52,
           55,
           58,
           60,
           62,
           48,
           57,
           49,
           52,
           53,
           55,
           56,
           58,
           60,
           48,
           57,
           61,
           65,
           48,
           50,
           51,
           55,
           56,
           58,
           60,
           62,
           48,
           57,
           61,
           61,
           63,
           48,
           57,
           49,
           53,
           54,
           55,
           56,
           59,
           64,
           66,
           67,
           68,
           70,
           72,
           75,
           80,
           81,
           82,
           83,
           85,
           90,
           66,
           68,
           69,
           70,
           71,
           74,
           77,
           84,
           68,
           69,
           71,
           73,
           75,
           76,
           77,
           78,
           86,
           87,
           70,
           72,
           77,
           79,
           85,
           66,
           68,
           70,
           71,
           74,
           75,
           77,
           78,
           84,
           86,
           87,
           66,
           68,
           69,
           70,
           74,
           77,
           85,
           66,
           68,
           70,
           71,
           74,
           78,
           84,
           66,
           68,
           69,
           70,
           71,
           73,
           74,
           75,
           77,
           78,
           84,
           85,
           86,
           66,
           68,
           69,
           70,
           71,
           74,
           77,
           84,
           85,
           86,
           67,
           80,
           81,
           82,
           83,
           90,
           68,
           70,
           73,
           75,
           77,
           78,
           85,
           66,
           68,
           69,
           70,
           71,
           74,
           77,
           78,
           84,
           66,
           68,
           69,
           70,
           72,
           73,
           74,
           75,
           77,
           78,
           85,
           86,
           89,
           67,
           82,
           83,
           73,
           77,
           78,
           86,
           87,
           88,
           76,
           89,
           89,
           95,
           96,
           97,
           102,
           104,
           105,
           106,
           107,
           108,
           94,
           95,
           96,
           97,
           100,
           101,
           102,
           95,
           96,
           97,
           94,
           95,
           96,
           98,
           100,
           101,
           95,
           101,
           109,
           110,
           112,
           113,
           91,
           92,
           93,
           100,
           95,
           96,
           100,
           92,
           94,
           95,
           97,
           98,
           92,
           93,
           94,
           95,
           96,
           97,
           98,
           99,
           100,
           101,
           93,
           94,
           95,
           97,
           98,
           99,
           101,
           111,
           112,
           113,
           104,
           105,
           106,
           107,
           107,
           108,
           92,
           93,
           95,
           105,
           107,
           103,
           106,
           108,
           95,
           98,
           100,
           101,
           95,
           96,
           110,
           111,
           112,
           113,
           91,
           93,
           101,
           91,
           93,
           95,
           115,
           92,
           94,
           95,
           107,
           109,
           114,
           116,
           105,
           106,
           107,
           108,
           110,
           113,
           117,
           126,
           117,
           118,
           123,
           124,
           126,
           132,
           117,
           123,
           126,
           131,
           132,
           123,
           124,
           130,
           131,
           132,
           133,
           134,
           117,
           118,
           123,
           124,
           125,
           129,
           130,
           131,
           132,
           133,
           134,
           118,
           130,
           131,
           132,
           134,
           123,
           131,
           132,
           134,
           117,
           123,
           129,
           131,
           132,
           133,
           134,
           131,
           132,
           134,
           117,
           132,
           134,
           117,
           129,
           130,
           131,
           132,
           133,
           134,
           132,
           133,
           118,
           119,
           120,
           128,
           135,
           118,
           128,
           117,
           118,
           128,
           118,
           128,
           118,
           124,
           125,
           128,
           132,
           117,
           118,
           117,
           124,
           125,
           117,
           125,
           129,
           117,
           125,
           127,
           125,
           127,
           129,
           117,
           118,
           125,
           127,
           129,
           132,
           121,
           133,
           135,
           122
          ],
          "value": [
           818,
           63,
           3,
           177,
           6,
           1,
           873,
           37,
           733,
           1,
           79,
           1,
           430,
           267,
           4,
           62,
           3,
           6,
           6,
           12,
           129,
           31,
           170,
           118,
           67,
           1,
           2,
           151,
           1,
           1,
           500,
           5,
           100,
           38,
           1,
           30,
           5,
           1,
           10,
           253,
           1,
           8,
           210,
           94,
           31,
           7,
           62,
           1,
           3,
           1,
           7,
           476,
           98,
           1,
           31,
           7,
           286,
           238,
           7,
           65,
           4,
           15,
           5,
           294,
           152,
           3,
           50,
           2,
           7,
           5,
           268,
           122,
           8,
           63,
           3,
           7,
           5,
           1,
           44,
           329,
           3,
           85,
           2,
           11,
           22,
           5,
           184,
           5,
           105,
           1,
           24,
           1,
           1,
           14,
           201,
           2,
           117,
           8,
           2,
           5,
           36,
           307,
           1,
           227,
           16,
           74,
           3,
           1,
           1,
           15,
           2,
           12,
           155,
           3,
           16,
           1,
           23,
           6,
           12,
           5,
           153,
           107,
           44,
           7,
           17,
           3,
           11,
           4,
           14,
           4,
           2,
           145,
           1,
           3,
           7,
           2,
           134,
           7,
           16,
           1,
           109,
           6,
           2,
           4,
           2,
           7,
           12,
           11,
           31,
           3,
           49,
           6,
           54,
           1,
           34,
           888,
           7,
           25,
           9,
           380,
           127,
           3,
           960,
           2,
           5,
           1,
           2,
           372,
           494,
           5,
           16,
           1,
           61,
           2,
           938,
           789,
           115,
           10,
           9,
           1,
           811,
           7,
           3,
           2,
           2,
           3,
           16,
           304,
           281,
           147,
           7,
           84,
           1,
           258,
           3,
           217,
           26,
           67,
           2,
           58,
           5,
           2,
           298,
           1,
           10,
           110,
           6,
           32,
           10,
           17,
           3,
           3,
           179,
           2,
           51,
           14,
           38,
           4,
           119,
           47,
           4,
           386,
           5,
           1,
           93,
           1,
           48,
           56,
           75,
           50,
           24,
           13,
           22,
           10,
           223,
           3,
           8,
           2,
           2,
           84,
           1,
           312,
           3,
           9,
           43,
           209,
           3,
           10,
           33,
           242,
           14,
           2,
           11,
           2,
           1,
           137,
           1,
           1,
           1,
           21,
           1,
           3,
           5,
           153,
           5,
           52,
           34,
           4,
           12,
           1,
           1,
           1,
           10,
           4,
           20,
           1,
           967,
           2,
           1,
           1,
           1,
           2,
           230,
           205,
           15,
           1,
           34,
           803,
           142,
           3,
           4,
           4,
           303,
           5,
           6,
           1,
           1,
           1,
           575,
           1,
           461,
           2,
           3,
           140,
           5,
           1,
           585,
           2,
           344,
           147,
           4,
           235,
           479,
           294,
           6,
           22,
           10,
           2,
           6,
           2,
           2,
           11,
           2,
           883,
           2,
           7,
           48,
           1,
           16,
           286,
           98,
           307,
           7,
           5,
           125,
           1,
           16,
           7,
           28,
           7,
           5,
           2,
           3,
           325,
           327,
           3,
           2,
           1,
           305,
           141,
           4,
           13,
           3,
           137,
           4,
           19,
           1,
           2,
           108,
           317,
           8,
           12,
           7,
           3,
           2,
           28,
           2,
           305,
           3,
           1,
           1,
           119,
           80,
           1,
           21,
           47,
           50,
           1,
           1,
           11,
           4,
           11,
           3,
           2,
           6,
           1,
           1,
           137,
           52,
           13,
           3,
           1,
           12,
           5,
           2,
           164,
           3,
           1,
           1,
           3,
           92,
           52,
           1,
           20,
           11,
           8,
           1253,
           2,
           1,
           2,
           16,
           115,
           292,
           655,
           1,
           697,
           152,
           2,
           17,
           38,
           11,
           6,
           895,
           1,
           2,
           649,
           7,
           14,
           2,
           3,
           660,
           3,
           18,
           8,
           95,
           471,
           1,
           583,
           1,
           1,
           1,
           511,
           1,
           2,
           2,
           4,
           1,
           460,
           462,
           1,
           47,
           253,
           44,
           57,
           11,
           29,
           1,
           10,
           2,
           1,
           24,
           10,
           309,
           1,
           6,
           1,
           337,
           6,
           260,
           39,
           18,
           2,
           236,
           2,
           1,
           1,
           1,
           160,
           56,
           168,
           6,
           12,
           17,
           1,
           1,
           151,
           2,
           2,
           7,
           135,
           3,
           7,
           2,
           146,
           1,
           95,
           3,
           1,
           52,
           1,
           1,
           1,
           1,
           16,
           11,
           12,
           1,
           1,
           2,
           31,
           1,
           1,
           4,
           94,
           1038,
           2,
           5,
           1,
           2,
           1,
           144,
           2,
           5,
           1,
           2,
           3,
           1,
           1,
           10,
           37,
           1,
           1,
           1,
           2,
           10,
           1,
           2,
           2,
           26,
           188,
           1371,
           665,
           56,
           1,
           19,
           910,
           1931,
           3,
           2,
           3,
           66,
           2,
           1,
           449,
           1,
           8,
           24,
           11,
           301,
           27,
           1,
           2,
           1,
           20,
           2,
           1,
           9,
           128,
           1,
           56,
           14,
           3,
           11,
           1,
           12,
           8,
           141,
           2,
           5,
           6,
           256,
           22,
           154,
           40,
           83,
           57,
           582,
           1,
           1,
           2,
           3,
           1,
           699,
           1,
           16,
           17,
           1,
           10,
           5,
           22,
           109,
           5,
           114,
           319,
           2,
           5,
           1,
           425,
           52,
           1,
           1,
           10,
           1,
           52,
           12
          ]
         },
         "node": {
          "color": [
           "#1f77b4",
           "#ff7f0e",
           "#2ca02c",
           "#d62728",
           "#9467bd",
           "#8c564b",
           "#e377c2",
           "#7f7f7f",
           "#bcbd22",
           "#17becf",
           "#1f77b4",
           "#ff7f0e",
           "#2ca02c",
           "#d62728",
           "#9467bd",
           "#8c564b",
           "#e377c2",
           "#7f7f7f",
           "#bcbd22",
           "#17becf",
           "#1f77b4",
           "#ff7f0e",
           "#2ca02c",
           "#d62728",
           "#9467bd",
           "#8c564b",
           "#e377c2",
           "#7f7f7f",
           "#bcbd22",
           "#17becf",
           "#1f77b4",
           "#ff7f0e",
           "#2ca02c",
           "#d62728",
           "#9467bd",
           "#8c564b",
           "#e377c2",
           "#7f7f7f",
           "#bcbd22",
           "#17becf",
           "#1f77b4",
           "#ff7f0e",
           "#2ca02c",
           "#d62728",
           "#9467bd",
           "#8c564b",
           "#e377c2",
           "#7f7f7f",
           "#bcbd22",
           "#17becf",
           "#1f77b4",
           "#ff7f0e",
           "#2ca02c",
           "#d62728",
           "#9467bd",
           "#8c564b",
           "#e377c2",
           "#7f7f7f",
           "#bcbd22",
           "#17becf",
           "#1f77b4",
           "#ff7f0e",
           "#2ca02c",
           "#d62728",
           "#9467bd",
           "#8c564b",
           "#e377c2",
           "#7f7f7f",
           "#bcbd22",
           "#17becf",
           "#1f77b4",
           "#ff7f0e",
           "#2ca02c",
           "#d62728",
           "#9467bd",
           "#8c564b",
           "#e377c2",
           "#7f7f7f",
           "#bcbd22",
           "#17becf",
           "#1f77b4",
           "#ff7f0e",
           "#2ca02c",
           "#d62728",
           "#9467bd",
           "#8c564b",
           "#e377c2",
           "#7f7f7f",
           "#bcbd22",
           "#17becf",
           "#1f77b4",
           "#ff7f0e",
           "#2ca02c",
           "#d62728",
           "#9467bd",
           "#8c564b",
           "#e377c2",
           "#7f7f7f",
           "#bcbd22",
           "#17becf",
           "#1f77b4",
           "#ff7f0e",
           "#2ca02c",
           "#d62728",
           "#9467bd",
           "#8c564b",
           "#e377c2",
           "#7f7f7f",
           "#bcbd22",
           "#17becf",
           "#1f77b4",
           "#ff7f0e",
           "#2ca02c",
           "#d62728",
           "#9467bd",
           "#8c564b",
           "#e377c2",
           "#7f7f7f",
           "#bcbd22",
           "#17becf",
           "#1f77b4",
           "#ff7f0e",
           "#2ca02c",
           "#d62728",
           "#9467bd",
           "#8c564b",
           "#e377c2",
           "#7f7f7f",
           "#bcbd22",
           "#17becf",
           "#1f77b4",
           "#ff7f0e",
           "#2ca02c",
           "#d62728",
           "#9467bd",
           "#8c564b"
          ],
          "label": [
           1,
           2,
           3,
           4,
           5,
           6,
           7,
           8,
           9,
           10,
           11,
           12,
           13,
           14,
           15,
           16,
           17,
           18,
           19,
           20,
           21,
           22,
           23,
           24,
           25,
           26,
           1,
           2,
           3,
           4,
           5,
           6,
           7,
           8,
           9,
           10,
           11,
           12,
           13,
           14,
           15,
           16,
           17,
           18,
           19,
           20,
           21,
           22,
           1,
           2,
           3,
           4,
           5,
           6,
           7,
           8,
           9,
           10,
           11,
           12,
           13,
           14,
           15,
           16,
           17,
           18,
           1,
           2,
           3,
           4,
           5,
           6,
           7,
           8,
           9,
           10,
           11,
           12,
           13,
           14,
           15,
           16,
           17,
           18,
           19,
           20,
           21,
           22,
           23,
           24,
           25,
           1,
           2,
           3,
           4,
           5,
           6,
           7,
           8,
           9,
           10,
           11,
           12,
           13,
           14,
           15,
           16,
           17,
           18,
           19,
           20,
           21,
           22,
           23,
           24,
           25,
           26,
           "CD16+ NK cells",
           "Classical monocytes",
           "DC1",
           "DC2",
           "Epithelial cells",
           "HSC/MPP",
           "MAIT cells",
           "Megakaryocytes/platelets",
           "Memory B cells",
           "NK cells",
           "Naive B cells",
           "Non-classical monocytes",
           "Plasma cells",
           "Regulatory T cells",
           "Tcm/Naive cytotoxic T cells",
           "Tcm/Naive helper T cells",
           "Tem/Effector helper T cells",
           "Tem/Trm cytotoxic T cells",
           "pDC"
          ],
          "line": {
           "color": "black",
           "width": 0.5
          },
          "pad": 15,
          "thickness": 20
         },
         "type": "sankey"
        }
       ],
       "layout": {
        "annotations": [
         {
          "showarrow": false,
          "text": "monocle",
          "x": 0,
          "xref": "x",
          "y": 1.05,
          "yref": "paper"
         },
         {
          "showarrow": false,
          "text": "scanpy",
          "x": 1,
          "xref": "x",
          "y": 1.05,
          "yref": "paper"
         },
         {
          "showarrow": false,
          "text": "scvi-tools",
          "x": 2,
          "xref": "x",
          "y": 1.05,
          "yref": "paper"
         },
         {
          "showarrow": false,
          "text": "seurat",
          "x": 3,
          "xref": "x",
          "y": 1.05,
          "yref": "paper"
         },
         {
          "showarrow": false,
          "text": "COTAN",
          "x": 4,
          "xref": "x",
          "y": 1.05,
          "yref": "paper"
         },
         {
          "showarrow": false,
          "text": "celltypist",
          "x": 5,
          "xref": "x",
          "y": 1.05,
          "yref": "paper"
         }
        ],
        "font": {
         "size": 10
        },
        "plot_bgcolor": "rgba(0,0,0,0)",
        "template": {
         "data": {
          "bar": [
           {
            "error_x": {
             "color": "#2a3f5f"
            },
            "error_y": {
             "color": "#2a3f5f"
            },
            "marker": {
             "line": {
              "color": "#E5ECF6",
              "width": 0.5
             },
             "pattern": {
              "fillmode": "overlay",
              "size": 10,
              "solidity": 0.2
             }
            },
            "type": "bar"
           }
          ],
          "barpolar": [
           {
            "marker": {
             "line": {
              "color": "#E5ECF6",
              "width": 0.5
             },
             "pattern": {
              "fillmode": "overlay",
              "size": 10,
              "solidity": 0.2
             }
            },
            "type": "barpolar"
           }
          ],
          "carpet": [
           {
            "aaxis": {
             "endlinecolor": "#2a3f5f",
             "gridcolor": "white",
             "linecolor": "white",
             "minorgridcolor": "white",
             "startlinecolor": "#2a3f5f"
            },
            "baxis": {
             "endlinecolor": "#2a3f5f",
             "gridcolor": "white",
             "linecolor": "white",
             "minorgridcolor": "white",
             "startlinecolor": "#2a3f5f"
            },
            "type": "carpet"
           }
          ],
          "choropleth": [
           {
            "colorbar": {
             "outlinewidth": 0,
             "ticks": ""
            },
            "type": "choropleth"
           }
          ],
          "contour": [
           {
            "colorbar": {
             "outlinewidth": 0,
             "ticks": ""
            },
            "colorscale": [
             [
              0,
              "#0d0887"
             ],
             [
              0.1111111111111111,
              "#46039f"
             ],
             [
              0.2222222222222222,
              "#7201a8"
             ],
             [
              0.3333333333333333,
              "#9c179e"
             ],
             [
              0.4444444444444444,
              "#bd3786"
             ],
             [
              0.5555555555555556,
              "#d8576b"
             ],
             [
              0.6666666666666666,
              "#ed7953"
             ],
             [
              0.7777777777777778,
              "#fb9f3a"
             ],
             [
              0.8888888888888888,
              "#fdca26"
             ],
             [
              1,
              "#f0f921"
             ]
            ],
            "type": "contour"
           }
          ],
          "contourcarpet": [
           {
            "colorbar": {
             "outlinewidth": 0,
             "ticks": ""
            },
            "type": "contourcarpet"
           }
          ],
          "heatmap": [
           {
            "colorbar": {
             "outlinewidth": 0,
             "ticks": ""
            },
            "colorscale": [
             [
              0,
              "#0d0887"
             ],
             [
              0.1111111111111111,
              "#46039f"
             ],
             [
              0.2222222222222222,
              "#7201a8"
             ],
             [
              0.3333333333333333,
              "#9c179e"
             ],
             [
              0.4444444444444444,
              "#bd3786"
             ],
             [
              0.5555555555555556,
              "#d8576b"
             ],
             [
              0.6666666666666666,
              "#ed7953"
             ],
             [
              0.7777777777777778,
              "#fb9f3a"
             ],
             [
              0.8888888888888888,
              "#fdca26"
             ],
             [
              1,
              "#f0f921"
             ]
            ],
            "type": "heatmap"
           }
          ],
          "heatmapgl": [
           {
            "colorbar": {
             "outlinewidth": 0,
             "ticks": ""
            },
            "colorscale": [
             [
              0,
              "#0d0887"
             ],
             [
              0.1111111111111111,
              "#46039f"
             ],
             [
              0.2222222222222222,
              "#7201a8"
             ],
             [
              0.3333333333333333,
              "#9c179e"
             ],
             [
              0.4444444444444444,
              "#bd3786"
             ],
             [
              0.5555555555555556,
              "#d8576b"
             ],
             [
              0.6666666666666666,
              "#ed7953"
             ],
             [
              0.7777777777777778,
              "#fb9f3a"
             ],
             [
              0.8888888888888888,
              "#fdca26"
             ],
             [
              1,
              "#f0f921"
             ]
            ],
            "type": "heatmapgl"
           }
          ],
          "histogram": [
           {
            "marker": {
             "pattern": {
              "fillmode": "overlay",
              "size": 10,
              "solidity": 0.2
             }
            },
            "type": "histogram"
           }
          ],
          "histogram2d": [
           {
            "colorbar": {
             "outlinewidth": 0,
             "ticks": ""
            },
            "colorscale": [
             [
              0,
              "#0d0887"
             ],
             [
              0.1111111111111111,
              "#46039f"
             ],
             [
              0.2222222222222222,
              "#7201a8"
             ],
             [
              0.3333333333333333,
              "#9c179e"
             ],
             [
              0.4444444444444444,
              "#bd3786"
             ],
             [
              0.5555555555555556,
              "#d8576b"
             ],
             [
              0.6666666666666666,
              "#ed7953"
             ],
             [
              0.7777777777777778,
              "#fb9f3a"
             ],
             [
              0.8888888888888888,
              "#fdca26"
             ],
             [
              1,
              "#f0f921"
             ]
            ],
            "type": "histogram2d"
           }
          ],
          "histogram2dcontour": [
           {
            "colorbar": {
             "outlinewidth": 0,
             "ticks": ""
            },
            "colorscale": [
             [
              0,
              "#0d0887"
             ],
             [
              0.1111111111111111,
              "#46039f"
             ],
             [
              0.2222222222222222,
              "#7201a8"
             ],
             [
              0.3333333333333333,
              "#9c179e"
             ],
             [
              0.4444444444444444,
              "#bd3786"
             ],
             [
              0.5555555555555556,
              "#d8576b"
             ],
             [
              0.6666666666666666,
              "#ed7953"
             ],
             [
              0.7777777777777778,
              "#fb9f3a"
             ],
             [
              0.8888888888888888,
              "#fdca26"
             ],
             [
              1,
              "#f0f921"
             ]
            ],
            "type": "histogram2dcontour"
           }
          ],
          "mesh3d": [
           {
            "colorbar": {
             "outlinewidth": 0,
             "ticks": ""
            },
            "type": "mesh3d"
           }
          ],
          "parcoords": [
           {
            "line": {
             "colorbar": {
              "outlinewidth": 0,
              "ticks": ""
             }
            },
            "type": "parcoords"
           }
          ],
          "pie": [
           {
            "automargin": true,
            "type": "pie"
           }
          ],
          "scatter": [
           {
            "fillpattern": {
             "fillmode": "overlay",
             "size": 10,
             "solidity": 0.2
            },
            "type": "scatter"
           }
          ],
          "scatter3d": [
           {
            "line": {
             "colorbar": {
              "outlinewidth": 0,
              "ticks": ""
             }
            },
            "marker": {
             "colorbar": {
              "outlinewidth": 0,
              "ticks": ""
             }
            },
            "type": "scatter3d"
           }
          ],
          "scattercarpet": [
           {
            "marker": {
             "colorbar": {
              "outlinewidth": 0,
              "ticks": ""
             }
            },
            "type": "scattercarpet"
           }
          ],
          "scattergeo": [
           {
            "marker": {
             "colorbar": {
              "outlinewidth": 0,
              "ticks": ""
             }
            },
            "type": "scattergeo"
           }
          ],
          "scattergl": [
           {
            "marker": {
             "colorbar": {
              "outlinewidth": 0,
              "ticks": ""
             }
            },
            "type": "scattergl"
           }
          ],
          "scattermapbox": [
           {
            "marker": {
             "colorbar": {
              "outlinewidth": 0,
              "ticks": ""
             }
            },
            "type": "scattermapbox"
           }
          ],
          "scatterpolar": [
           {
            "marker": {
             "colorbar": {
              "outlinewidth": 0,
              "ticks": ""
             }
            },
            "type": "scatterpolar"
           }
          ],
          "scatterpolargl": [
           {
            "marker": {
             "colorbar": {
              "outlinewidth": 0,
              "ticks": ""
             }
            },
            "type": "scatterpolargl"
           }
          ],
          "scatterternary": [
           {
            "marker": {
             "colorbar": {
              "outlinewidth": 0,
              "ticks": ""
             }
            },
            "type": "scatterternary"
           }
          ],
          "surface": [
           {
            "colorbar": {
             "outlinewidth": 0,
             "ticks": ""
            },
            "colorscale": [
             [
              0,
              "#0d0887"
             ],
             [
              0.1111111111111111,
              "#46039f"
             ],
             [
              0.2222222222222222,
              "#7201a8"
             ],
             [
              0.3333333333333333,
              "#9c179e"
             ],
             [
              0.4444444444444444,
              "#bd3786"
             ],
             [
              0.5555555555555556,
              "#d8576b"
             ],
             [
              0.6666666666666666,
              "#ed7953"
             ],
             [
              0.7777777777777778,
              "#fb9f3a"
             ],
             [
              0.8888888888888888,
              "#fdca26"
             ],
             [
              1,
              "#f0f921"
             ]
            ],
            "type": "surface"
           }
          ],
          "table": [
           {
            "cells": {
             "fill": {
              "color": "#EBF0F8"
             },
             "line": {
              "color": "white"
             }
            },
            "header": {
             "fill": {
              "color": "#C8D4E3"
             },
             "line": {
              "color": "white"
             }
            },
            "type": "table"
           }
          ]
         },
         "layout": {
          "annotationdefaults": {
           "arrowcolor": "#2a3f5f",
           "arrowhead": 0,
           "arrowwidth": 1
          },
          "autotypenumbers": "strict",
          "coloraxis": {
           "colorbar": {
            "outlinewidth": 0,
            "ticks": ""
           }
          },
          "colorscale": {
           "diverging": [
            [
             0,
             "#8e0152"
            ],
            [
             0.1,
             "#c51b7d"
            ],
            [
             0.2,
             "#de77ae"
            ],
            [
             0.3,
             "#f1b6da"
            ],
            [
             0.4,
             "#fde0ef"
            ],
            [
             0.5,
             "#f7f7f7"
            ],
            [
             0.6,
             "#e6f5d0"
            ],
            [
             0.7,
             "#b8e186"
            ],
            [
             0.8,
             "#7fbc41"
            ],
            [
             0.9,
             "#4d9221"
            ],
            [
             1,
             "#276419"
            ]
           ],
           "sequential": [
            [
             0,
             "#0d0887"
            ],
            [
             0.1111111111111111,
             "#46039f"
            ],
            [
             0.2222222222222222,
             "#7201a8"
            ],
            [
             0.3333333333333333,
             "#9c179e"
            ],
            [
             0.4444444444444444,
             "#bd3786"
            ],
            [
             0.5555555555555556,
             "#d8576b"
            ],
            [
             0.6666666666666666,
             "#ed7953"
            ],
            [
             0.7777777777777778,
             "#fb9f3a"
            ],
            [
             0.8888888888888888,
             "#fdca26"
            ],
            [
             1,
             "#f0f921"
            ]
           ],
           "sequentialminus": [
            [
             0,
             "#0d0887"
            ],
            [
             0.1111111111111111,
             "#46039f"
            ],
            [
             0.2222222222222222,
             "#7201a8"
            ],
            [
             0.3333333333333333,
             "#9c179e"
            ],
            [
             0.4444444444444444,
             "#bd3786"
            ],
            [
             0.5555555555555556,
             "#d8576b"
            ],
            [
             0.6666666666666666,
             "#ed7953"
            ],
            [
             0.7777777777777778,
             "#fb9f3a"
            ],
            [
             0.8888888888888888,
             "#fdca26"
            ],
            [
             1,
             "#f0f921"
            ]
           ]
          },
          "colorway": [
           "#636efa",
           "#EF553B",
           "#00cc96",
           "#ab63fa",
           "#FFA15A",
           "#19d3f3",
           "#FF6692",
           "#B6E880",
           "#FF97FF",
           "#FECB52"
          ],
          "font": {
           "color": "#2a3f5f"
          },
          "geo": {
           "bgcolor": "white",
           "lakecolor": "white",
           "landcolor": "#E5ECF6",
           "showlakes": true,
           "showland": true,
           "subunitcolor": "white"
          },
          "hoverlabel": {
           "align": "left"
          },
          "hovermode": "closest",
          "mapbox": {
           "style": "light"
          },
          "paper_bgcolor": "white",
          "plot_bgcolor": "#E5ECF6",
          "polar": {
           "angularaxis": {
            "gridcolor": "white",
            "linecolor": "white",
            "ticks": ""
           },
           "bgcolor": "#E5ECF6",
           "radialaxis": {
            "gridcolor": "white",
            "linecolor": "white",
            "ticks": ""
           }
          },
          "scene": {
           "xaxis": {
            "backgroundcolor": "#E5ECF6",
            "gridcolor": "white",
            "gridwidth": 2,
            "linecolor": "white",
            "showbackground": true,
            "ticks": "",
            "zerolinecolor": "white"
           },
           "yaxis": {
            "backgroundcolor": "#E5ECF6",
            "gridcolor": "white",
            "gridwidth": 2,
            "linecolor": "white",
            "showbackground": true,
            "ticks": "",
            "zerolinecolor": "white"
           },
           "zaxis": {
            "backgroundcolor": "#E5ECF6",
            "gridcolor": "white",
            "gridwidth": 2,
            "linecolor": "white",
            "showbackground": true,
            "ticks": "",
            "zerolinecolor": "white"
           }
          },
          "shapedefaults": {
           "line": {
            "color": "#2a3f5f"
           }
          },
          "ternary": {
           "aaxis": {
            "gridcolor": "white",
            "linecolor": "white",
            "ticks": ""
           },
           "baxis": {
            "gridcolor": "white",
            "linecolor": "white",
            "ticks": ""
           },
           "bgcolor": "#E5ECF6",
           "caxis": {
            "gridcolor": "white",
            "linecolor": "white",
            "ticks": ""
           }
          },
          "title": {
           "x": 0.05
          },
          "xaxis": {
           "automargin": true,
           "gridcolor": "white",
           "linecolor": "white",
           "ticks": "",
           "title": {
            "standoff": 15
           },
           "zerolinecolor": "white",
           "zerolinewidth": 2
          },
          "yaxis": {
           "automargin": true,
           "gridcolor": "white",
           "linecolor": "white",
           "ticks": "",
           "title": {
            "standoff": 15
           },
           "zerolinecolor": "white",
           "zerolinewidth": 2
          }
         }
        },
        "title": {
         "text": "PBMC3 - matching celltypist labels"
        },
        "xaxis": {
         "showgrid": false,
         "visible": false,
         "zeroline": false
        },
        "yaxis": {
         "showgrid": false,
         "visible": false,
         "zeroline": false
        }
       }
      }
     },
     "metadata": {},
     "output_type": "display_data"
    },
    {
     "name": "stdout",
     "output_type": "stream",
     "text": [
      "------------------------------\n",
      "PBMC4 - matching celltypist labels\n"
     ]
    },
    {
     "name": "stderr",
     "output_type": "stream",
     "text": [
      "/Users/irenetesta/anaconda3/envs/chl/lib/python3.11/site-packages/anndata/_core/anndata.py:1113: FutureWarning:\n",
      "\n",
      "is_categorical_dtype is deprecated and will be removed in a future version. Use isinstance(dtype, CategoricalDtype) instead\n",
      "\n"
     ]
    },
    {
     "data": {
      "text/html": [
       "<div>\n",
       "<style scoped>\n",
       "    .dataframe tbody tr th:only-of-type {\n",
       "        vertical-align: middle;\n",
       "    }\n",
       "\n",
       "    .dataframe tbody tr th {\n",
       "        vertical-align: top;\n",
       "    }\n",
       "\n",
       "    .dataframe thead th {\n",
       "        text-align: right;\n",
       "    }\n",
       "</style>\n",
       "<table border=\"1\" class=\"dataframe\">\n",
       "  <thead>\n",
       "    <tr style=\"text-align: right;\">\n",
       "      <th></th>\n",
       "      <th>NMI</th>\n",
       "      <th>ARI</th>\n",
       "      <th>homogeneity</th>\n",
       "      <th>completeness</th>\n",
       "      <th>v_measure</th>\n",
       "      <th>fowlkes_mallows</th>\n",
       "    </tr>\n",
       "  </thead>\n",
       "  <tbody>\n",
       "    <tr>\n",
       "      <th>monocle</th>\n",
       "      <td>0.614294</td>\n",
       "      <td>0.244972</td>\n",
       "      <td>0.770923</td>\n",
       "      <td>0.510563</td>\n",
       "      <td>0.614294</td>\n",
       "      <td>0.372980</td>\n",
       "    </tr>\n",
       "    <tr>\n",
       "      <th>scanpy</th>\n",
       "      <td>0.690181</td>\n",
       "      <td>0.355238</td>\n",
       "      <td>0.815725</td>\n",
       "      <td>0.598126</td>\n",
       "      <td>0.690181</td>\n",
       "      <td>0.471439</td>\n",
       "    </tr>\n",
       "    <tr>\n",
       "      <th>scvi-tools</th>\n",
       "      <td>0.772969</td>\n",
       "      <td>0.583246</td>\n",
       "      <td>0.804110</td>\n",
       "      <td>0.744150</td>\n",
       "      <td>0.772969</td>\n",
       "      <td>0.655423</td>\n",
       "    </tr>\n",
       "    <tr>\n",
       "      <th>seurat</th>\n",
       "      <td>0.729819</td>\n",
       "      <td>0.400663</td>\n",
       "      <td>0.862845</td>\n",
       "      <td>0.632332</td>\n",
       "      <td>0.729819</td>\n",
       "      <td>0.518765</td>\n",
       "    </tr>\n",
       "    <tr>\n",
       "      <th>COTAN</th>\n",
       "      <td>0.715158</td>\n",
       "      <td>0.437598</td>\n",
       "      <td>0.770769</td>\n",
       "      <td>0.667031</td>\n",
       "      <td>0.715158</td>\n",
       "      <td>0.530832</td>\n",
       "    </tr>\n",
       "  </tbody>\n",
       "</table>\n",
       "</div>"
      ],
      "text/plain": [
       "                 NMI       ARI  homogeneity  completeness  v_measure  \\\n",
       "monocle     0.614294  0.244972     0.770923      0.510563   0.614294   \n",
       "scanpy      0.690181  0.355238     0.815725      0.598126   0.690181   \n",
       "scvi-tools  0.772969  0.583246     0.804110      0.744150   0.772969   \n",
       "seurat      0.729819  0.400663     0.862845      0.632332   0.729819   \n",
       "COTAN       0.715158  0.437598     0.770769      0.667031   0.715158   \n",
       "\n",
       "            fowlkes_mallows  \n",
       "monocle            0.372980  \n",
       "scanpy             0.471439  \n",
       "scvi-tools         0.655423  \n",
       "seurat             0.518765  \n",
       "COTAN              0.530832  "
      ]
     },
     "metadata": {},
     "output_type": "display_data"
    },
    {
     "data": {
      "application/vnd.plotly.v1+json": {
       "config": {
        "plotlyServerURL": "https://plot.ly"
       },
       "data": [
        {
         "link": {
          "source": [
           0,
           0,
           0,
           0,
           0,
           0,
           0,
           0,
           0,
           0,
           0,
           1,
           1,
           1,
           1,
           1,
           1,
           1,
           2,
           2,
           2,
           2,
           2,
           2,
           2,
           2,
           2,
           2,
           3,
           3,
           3,
           3,
           3,
           4,
           4,
           4,
           4,
           4,
           4,
           4,
           4,
           5,
           5,
           5,
           5,
           5,
           5,
           5,
           5,
           6,
           6,
           6,
           6,
           6,
           6,
           6,
           7,
           7,
           7,
           7,
           7,
           8,
           8,
           8,
           8,
           8,
           8,
           9,
           9,
           9,
           9,
           9,
           9,
           9,
           9,
           10,
           10,
           10,
           10,
           10,
           11,
           11,
           11,
           11,
           11,
           11,
           11,
           12,
           12,
           12,
           12,
           12,
           12,
           12,
           12,
           13,
           13,
           13,
           13,
           14,
           14,
           14,
           14,
           14,
           14,
           14,
           15,
           15,
           15,
           15,
           15,
           16,
           16,
           16,
           16,
           16,
           16,
           16,
           17,
           17,
           17,
           17,
           17,
           17,
           17,
           18,
           18,
           18,
           18,
           18,
           18,
           18,
           18,
           18,
           19,
           19,
           19,
           19,
           19,
           19,
           20,
           20,
           20,
           20,
           20,
           21,
           21,
           21,
           21,
           21,
           21,
           21,
           22,
           22,
           22,
           22,
           23,
           23,
           23,
           24,
           24,
           24,
           25,
           26,
           26,
           27,
           27,
           27,
           27,
           27,
           27,
           27,
           27,
           27,
           27,
           28,
           29,
           29,
           29,
           29,
           29,
           29,
           29,
           30,
           30,
           31,
           31,
           32,
           32,
           32,
           32,
           32,
           33,
           33,
           33,
           33,
           34,
           34,
           34,
           35,
           35,
           36,
           36,
           36,
           36,
           36,
           37,
           37,
           37,
           37,
           37,
           38,
           38,
           38,
           38,
           38,
           39,
           39,
           39,
           39,
           39,
           39,
           39,
           40,
           40,
           40,
           41,
           41,
           41,
           41,
           41,
           41,
           42,
           42,
           42,
           42,
           42,
           43,
           43,
           43,
           44,
           44,
           44,
           45,
           45,
           45,
           45,
           45,
           46,
           46,
           46,
           46,
           46,
           47,
           47,
           47,
           47,
           48,
           48,
           48,
           49,
           49,
           50,
           51,
           51,
           51,
           51,
           51,
           51,
           51,
           51,
           51,
           52,
           52,
           52,
           52,
           52,
           52,
           52,
           52,
           53,
           53,
           53,
           53,
           53,
           54,
           54,
           54,
           54,
           54,
           54,
           55,
           55,
           55,
           55,
           55,
           55,
           55,
           55,
           55,
           55,
           55,
           55,
           55,
           55,
           55,
           56,
           56,
           56,
           56,
           56,
           56,
           57,
           57,
           57,
           57,
           57,
           58,
           58,
           58,
           58,
           58,
           58,
           58,
           58,
           58,
           58,
           58,
           59,
           59,
           59,
           59,
           59,
           60,
           60,
           60,
           61,
           61,
           61,
           61,
           61,
           62,
           62,
           62,
           62,
           63,
           63,
           63,
           63,
           63,
           63,
           63,
           64,
           65,
           65,
           65,
           66,
           67,
           67,
           67,
           67,
           68,
           69,
           69,
           69,
           69,
           69,
           69,
           70,
           70,
           71,
           71,
           71,
           71,
           72,
           72,
           73,
           73,
           73,
           73,
           73,
           74,
           74,
           75,
           75,
           75,
           75,
           75,
           76,
           77,
           78,
           78,
           78,
           79,
           80,
           81,
           81,
           81,
           82,
           82,
           82,
           82,
           82,
           83,
           83,
           84,
           84,
           84,
           85,
           85,
           85,
           85,
           85,
           86,
           87,
           87,
           87,
           87,
           88,
           88,
           88,
           89,
           89,
           90,
           90,
           90,
           90,
           91,
           91,
           92,
           92,
           92,
           93,
           93,
           93,
           93,
           94,
           94,
           95,
           95,
           95,
           96,
           96,
           96,
           96,
           97,
           97,
           97,
           97,
           97,
           97,
           97,
           97,
           97,
           98,
           98,
           98,
           98,
           98,
           98,
           99,
           99,
           99,
           99,
           99,
           99,
           100,
           100,
           100,
           100,
           100,
           100,
           101,
           101,
           101,
           101,
           101,
           101,
           102,
           102,
           102,
           102,
           103,
           103,
           103,
           103,
           104,
           104,
           105,
           105
          ],
          "target": [
           31,
           32,
           35,
           37,
           38,
           40,
           41,
           44,
           45,
           46,
           48,
           29,
           33,
           34,
           39,
           41,
           42,
           43,
           29,
           33,
           34,
           36,
           39,
           41,
           42,
           43,
           46,
           47,
           30,
           39,
           41,
           45,
           50,
           29,
           33,
           34,
           39,
           41,
           42,
           43,
           46,
           29,
           36,
           37,
           39,
           42,
           46,
           47,
           48,
           31,
           32,
           35,
           38,
           44,
           45,
           48,
           36,
           37,
           39,
           46,
           47,
           29,
           33,
           34,
           41,
           42,
           43,
           31,
           32,
           35,
           38,
           44,
           45,
           46,
           48,
           30,
           39,
           45,
           48,
           50,
           29,
           33,
           34,
           36,
           41,
           42,
           43,
           31,
           32,
           35,
           38,
           44,
           45,
           46,
           48,
           30,
           39,
           45,
           50,
           31,
           32,
           35,
           38,
           44,
           46,
           48,
           32,
           40,
           44,
           46,
           48,
           29,
           33,
           34,
           41,
           42,
           43,
           46,
           31,
           32,
           35,
           38,
           44,
           45,
           46,
           29,
           33,
           34,
           36,
           39,
           41,
           42,
           43,
           46,
           31,
           32,
           40,
           44,
           45,
           46,
           29,
           36,
           37,
           42,
           47,
           31,
           32,
           35,
           38,
           44,
           46,
           48,
           32,
           38,
           45,
           46,
           44,
           45,
           46,
           41,
           45,
           49,
           48,
           30,
           39,
           29,
           33,
           34,
           35,
           36,
           37,
           39,
           41,
           42,
           47,
           45,
           52,
           54,
           55,
           57,
           58,
           62,
           65,
           53,
           66,
           51,
           55,
           51,
           55,
           60,
           61,
           63,
           52,
           54,
           58,
           59,
           52,
           54,
           58,
           51,
           55,
           52,
           56,
           57,
           58,
           62,
           55,
           56,
           58,
           62,
           65,
           51,
           52,
           55,
           60,
           61,
           52,
           53,
           54,
           57,
           58,
           61,
           66,
           51,
           55,
           60,
           52,
           54,
           55,
           56,
           58,
           59,
           52,
           54,
           57,
           58,
           59,
           54,
           58,
           59,
           51,
           55,
           61,
           51,
           53,
           55,
           61,
           66,
           51,
           55,
           58,
           61,
           65,
           56,
           58,
           62,
           63,
           51,
           55,
           63,
           61,
           64,
           53,
           67,
           71,
           73,
           77,
           79,
           82,
           84,
           85,
           88,
           68,
           69,
           72,
           76,
           78,
           82,
           83,
           87,
           70,
           75,
           87,
           88,
           89,
           68,
           69,
           72,
           78,
           80,
           87,
           67,
           69,
           71,
           72,
           73,
           74,
           75,
           76,
           77,
           78,
           79,
           82,
           84,
           85,
           88,
           69,
           74,
           75,
           81,
           84,
           87,
           69,
           76,
           81,
           83,
           87,
           68,
           69,
           72,
           74,
           76,
           78,
           80,
           81,
           82,
           83,
           87,
           68,
           69,
           72,
           80,
           83,
           73,
           77,
           79,
           73,
           75,
           82,
           84,
           86,
           69,
           74,
           76,
           81,
           67,
           71,
           73,
           76,
           79,
           81,
           85,
           86,
           69,
           74,
           82,
           75,
           91,
           92,
           93,
           94,
           98,
           90,
           97,
           98,
           99,
           100,
           103,
           102,
           103,
           91,
           92,
           93,
           94,
           97,
           98,
           90,
           91,
           92,
           93,
           94,
           99,
           100,
           93,
           99,
           101,
           102,
           103,
           100,
           92,
           90,
           97,
           98,
           95,
           98,
           97,
           99,
           100,
           90,
           91,
           92,
           93,
           95,
           97,
           98,
           92,
           94,
           96,
           91,
           93,
           94,
           102,
           105,
           104,
           98,
           101,
           102,
           103,
           90,
           92,
           93,
           102,
           103,
           106,
           107,
           108,
           118,
           107,
           118,
           107,
           114,
           118,
           107,
           108,
           114,
           118,
           107,
           114,
           107,
           114,
           118,
           107,
           108,
           109,
           114,
           106,
           107,
           110,
           116,
           117,
           118,
           119,
           120,
           121,
           113,
           116,
           117,
           118,
           119,
           121,
           106,
           109,
           110,
           118,
           120,
           121,
           106,
           107,
           110,
           113,
           118,
           121,
           106,
           109,
           112,
           113,
           115,
           118,
           107,
           112,
           113,
           115,
           112,
           113,
           115,
           118,
           108,
           122,
           107,
           111
          ],
          "value": [
           65,
           1,
           317,
           1,
           13,
           1,
           1,
           4,
           13,
           31,
           6,
           8,
           180,
           128,
           1,
           32,
           8,
           88,
           300,
           4,
           23,
           3,
           1,
           12,
           87,
           1,
           1,
           2,
           347,
           66,
           1,
           3,
           11,
           26,
           197,
           94,
           1,
           23,
           1,
           85,
           1,
           15,
           374,
           1,
           2,
           16,
           2,
           6,
           1,
           115,
           102,
           5,
           126,
           33,
           5,
           1,
           2,
           348,
           1,
           1,
           7,
           137,
           71,
           80,
           44,
           9,
           1,
           40,
           180,
           3,
           40,
           20,
           23,
           5,
           1,
           264,
           29,
           1,
           2,
           15,
           216,
           5,
           14,
           1,
           16,
           49,
           3,
           185,
           9,
           37,
           4,
           22,
           1,
           6,
           2,
           105,
           125,
           5,
           13,
           93,
           73,
           1,
           2,
           59,
           3,
           1,
           6,
           211,
           1,
           4,
           1,
           50,
           38,
           83,
           5,
           5,
           10,
           1,
           69,
           4,
           53,
           38,
           13,
           10,
           3,
           74,
           13,
           21,
           2,
           2,
           64,
           6,
           2,
           1,
           3,
           147,
           5,
           26,
           1,
           1,
           1,
           16,
           7,
           11,
           85,
           26,
           6,
           11,
           57,
           1,
           4,
           3,
           2,
           4,
           2,
           83,
           2,
           72,
           2,
           4,
           3,
           59,
           59,
           3,
           43,
           5,
           1,
           4,
           1,
           1,
           3,
           1,
           15,
           1,
           1,
           28,
           716,
           81,
           1,
           15,
           9,
           2,
           8,
           718,
           1,
           326,
           270,
           496,
           28,
           3,
           2,
           1,
           83,
           421,
           1,
           4,
           104,
           342,
           1,
           103,
           325,
           6,
           4,
           299,
           7,
           83,
           1,
           351,
           6,
           1,
           1,
           266,
           1,
           13,
           1,
           3,
           2,
           247,
           1,
           10,
           5,
           1,
           6,
           15,
           4,
           198,
           153,
           48,
           2,
           4,
           3,
           7,
           7,
           4,
           8,
           157,
           17,
           3,
           8,
           179,
           173,
           7,
           1,
           14,
           4,
           44,
           104,
           1,
           25,
           119,
           1,
           3,
           1,
           4,
           90,
           6,
           1,
           7,
           6,
           64,
           1,
           58,
           39,
           563,
           268,
           480,
           59,
           16,
           22,
           8,
           5,
           4,
           21,
           571,
           276,
           1,
           193,
           1,
           7,
           2,
           600,
           336,
           36,
           4,
           32,
           591,
           5,
           265,
           33,
           5,
           1,
           68,
           3,
           306,
           1,
           46,
           1,
           1,
           2,
           237,
           1,
           3,
           109,
           3,
           2,
           37,
           2,
           350,
           1,
           7,
           1,
           2,
           8,
           312,
           2,
           1,
           9,
           3,
           25,
           11,
           1,
           1,
           11,
           3,
           112,
           1,
           116,
           4,
           10,
           1,
           3,
           183,
           10,
           6,
           1,
           195,
           3,
           1,
           2,
           108,
           1,
           1,
           1,
           26,
           64,
           1,
           3,
           3,
           1,
           1,
           1,
           56,
           58,
           7,
           2,
           1,
           8,
           595,
           2,
           1,
           34,
           625,
           1,
           609,
           1,
           8,
           3,
           1,
           494,
           106,
           160,
           412,
           1,
           4,
           222,
           334,
           1,
           60,
           12,
           251,
           214,
           343,
           12,
           1,
           1,
           26,
           14,
           305,
           343,
           297,
           1,
           212,
           25,
           215,
           191,
           10,
           110,
           66,
           128,
           1,
           5,
           1,
           1,
           129,
           5,
           1,
           1,
           118,
           30,
           2,
           1,
           2,
           28,
           59,
           1,
           46,
           5,
           2,
           1,
           2,
           42,
           31,
           1,
           1,
           123,
           5,
           3,
           843,
           3,
           716,
           2,
           13,
           270,
           3,
           25,
           1,
           252,
           2,
           2,
           213,
           1,
           24,
           92,
           1,
           1,
           3,
           1,
           5,
           84,
           5,
           605,
           310,
           9,
           160,
           1,
           2,
           203,
           966,
           1,
           9,
           338,
           2,
           1,
           13,
           107,
           1,
           14,
           2,
           401,
           1,
           3,
           3,
           1,
           1,
           18,
           44,
           7,
           1,
           2,
           15,
           528,
           1,
           275,
           138,
           1,
           1,
           1,
           58,
           1,
           27
          ]
         },
         "node": {
          "color": [
           "#1f77b4",
           "#ff7f0e",
           "#2ca02c",
           "#d62728",
           "#9467bd",
           "#8c564b",
           "#e377c2",
           "#7f7f7f",
           "#bcbd22",
           "#17becf",
           "#1f77b4",
           "#ff7f0e",
           "#2ca02c",
           "#d62728",
           "#9467bd",
           "#8c564b",
           "#e377c2",
           "#7f7f7f",
           "#bcbd22",
           "#17becf",
           "#1f77b4",
           "#ff7f0e",
           "#2ca02c",
           "#d62728",
           "#9467bd",
           "#8c564b",
           "#e377c2",
           "#7f7f7f",
           "#bcbd22",
           "#17becf",
           "#1f77b4",
           "#ff7f0e",
           "#2ca02c",
           "#d62728",
           "#9467bd",
           "#8c564b",
           "#e377c2",
           "#7f7f7f",
           "#bcbd22",
           "#17becf",
           "#1f77b4",
           "#ff7f0e",
           "#2ca02c",
           "#d62728",
           "#9467bd",
           "#8c564b",
           "#e377c2",
           "#7f7f7f",
           "#bcbd22",
           "#17becf",
           "#1f77b4",
           "#ff7f0e",
           "#2ca02c",
           "#d62728",
           "#9467bd",
           "#8c564b",
           "#e377c2",
           "#7f7f7f",
           "#bcbd22",
           "#17becf",
           "#1f77b4",
           "#ff7f0e",
           "#2ca02c",
           "#d62728",
           "#9467bd",
           "#8c564b",
           "#e377c2",
           "#7f7f7f",
           "#bcbd22",
           "#17becf",
           "#1f77b4",
           "#ff7f0e",
           "#2ca02c",
           "#d62728",
           "#9467bd",
           "#8c564b",
           "#e377c2",
           "#7f7f7f",
           "#bcbd22",
           "#17becf",
           "#1f77b4",
           "#ff7f0e",
           "#2ca02c",
           "#d62728",
           "#9467bd",
           "#8c564b",
           "#e377c2",
           "#7f7f7f",
           "#bcbd22",
           "#17becf",
           "#1f77b4",
           "#ff7f0e",
           "#2ca02c",
           "#d62728",
           "#9467bd",
           "#8c564b",
           "#e377c2",
           "#7f7f7f",
           "#bcbd22",
           "#17becf",
           "#1f77b4",
           "#ff7f0e",
           "#2ca02c",
           "#d62728",
           "#9467bd",
           "#8c564b",
           "#e377c2",
           "#7f7f7f",
           "#bcbd22",
           "#17becf",
           "#1f77b4",
           "#ff7f0e",
           "#2ca02c",
           "#d62728",
           "#9467bd",
           "#8c564b",
           "#e377c2",
           "#7f7f7f",
           "#bcbd22",
           "#17becf",
           "#1f77b4",
           "#ff7f0e",
           "#2ca02c"
          ],
          "label": [
           1,
           2,
           3,
           4,
           5,
           6,
           7,
           8,
           9,
           10,
           11,
           12,
           13,
           14,
           15,
           16,
           17,
           18,
           19,
           20,
           21,
           22,
           23,
           24,
           25,
           26,
           27,
           28,
           29,
           1,
           2,
           3,
           4,
           5,
           6,
           7,
           8,
           9,
           10,
           11,
           12,
           13,
           14,
           15,
           16,
           17,
           18,
           19,
           20,
           21,
           22,
           1,
           2,
           3,
           4,
           5,
           6,
           7,
           8,
           9,
           10,
           11,
           12,
           13,
           14,
           15,
           16,
           1,
           2,
           3,
           4,
           5,
           6,
           7,
           8,
           9,
           10,
           11,
           12,
           13,
           14,
           15,
           16,
           17,
           18,
           19,
           20,
           21,
           22,
           23,
           1,
           2,
           3,
           4,
           5,
           6,
           7,
           8,
           9,
           10,
           11,
           12,
           13,
           14,
           15,
           16,
           "CD16+ NK cells",
           "Classical monocytes",
           "DC2",
           "ELP",
           "MAIT cells",
           "Megakaryocytes/platelets",
           "Memory B cells",
           "Naive B cells",
           "Non-classical monocytes",
           "Plasma cells",
           "Regulatory T cells",
           "Tcm/Naive cytotoxic T cells",
           "Tcm/Naive helper T cells",
           "Tem/Effector helper T cells",
           "Tem/Temra cytotoxic T cells",
           "Tem/Trm cytotoxic T cells",
           "pDC"
          ],
          "line": {
           "color": "black",
           "width": 0.5
          },
          "pad": 15,
          "thickness": 20
         },
         "type": "sankey"
        }
       ],
       "layout": {
        "annotations": [
         {
          "showarrow": false,
          "text": "monocle",
          "x": 0,
          "xref": "x",
          "y": 1.05,
          "yref": "paper"
         },
         {
          "showarrow": false,
          "text": "scanpy",
          "x": 1,
          "xref": "x",
          "y": 1.05,
          "yref": "paper"
         },
         {
          "showarrow": false,
          "text": "scvi-tools",
          "x": 2,
          "xref": "x",
          "y": 1.05,
          "yref": "paper"
         },
         {
          "showarrow": false,
          "text": "seurat",
          "x": 3,
          "xref": "x",
          "y": 1.05,
          "yref": "paper"
         },
         {
          "showarrow": false,
          "text": "COTAN",
          "x": 4,
          "xref": "x",
          "y": 1.05,
          "yref": "paper"
         },
         {
          "showarrow": false,
          "text": "celltypist",
          "x": 5,
          "xref": "x",
          "y": 1.05,
          "yref": "paper"
         }
        ],
        "font": {
         "size": 10
        },
        "plot_bgcolor": "rgba(0,0,0,0)",
        "template": {
         "data": {
          "bar": [
           {
            "error_x": {
             "color": "#2a3f5f"
            },
            "error_y": {
             "color": "#2a3f5f"
            },
            "marker": {
             "line": {
              "color": "#E5ECF6",
              "width": 0.5
             },
             "pattern": {
              "fillmode": "overlay",
              "size": 10,
              "solidity": 0.2
             }
            },
            "type": "bar"
           }
          ],
          "barpolar": [
           {
            "marker": {
             "line": {
              "color": "#E5ECF6",
              "width": 0.5
             },
             "pattern": {
              "fillmode": "overlay",
              "size": 10,
              "solidity": 0.2
             }
            },
            "type": "barpolar"
           }
          ],
          "carpet": [
           {
            "aaxis": {
             "endlinecolor": "#2a3f5f",
             "gridcolor": "white",
             "linecolor": "white",
             "minorgridcolor": "white",
             "startlinecolor": "#2a3f5f"
            },
            "baxis": {
             "endlinecolor": "#2a3f5f",
             "gridcolor": "white",
             "linecolor": "white",
             "minorgridcolor": "white",
             "startlinecolor": "#2a3f5f"
            },
            "type": "carpet"
           }
          ],
          "choropleth": [
           {
            "colorbar": {
             "outlinewidth": 0,
             "ticks": ""
            },
            "type": "choropleth"
           }
          ],
          "contour": [
           {
            "colorbar": {
             "outlinewidth": 0,
             "ticks": ""
            },
            "colorscale": [
             [
              0,
              "#0d0887"
             ],
             [
              0.1111111111111111,
              "#46039f"
             ],
             [
              0.2222222222222222,
              "#7201a8"
             ],
             [
              0.3333333333333333,
              "#9c179e"
             ],
             [
              0.4444444444444444,
              "#bd3786"
             ],
             [
              0.5555555555555556,
              "#d8576b"
             ],
             [
              0.6666666666666666,
              "#ed7953"
             ],
             [
              0.7777777777777778,
              "#fb9f3a"
             ],
             [
              0.8888888888888888,
              "#fdca26"
             ],
             [
              1,
              "#f0f921"
             ]
            ],
            "type": "contour"
           }
          ],
          "contourcarpet": [
           {
            "colorbar": {
             "outlinewidth": 0,
             "ticks": ""
            },
            "type": "contourcarpet"
           }
          ],
          "heatmap": [
           {
            "colorbar": {
             "outlinewidth": 0,
             "ticks": ""
            },
            "colorscale": [
             [
              0,
              "#0d0887"
             ],
             [
              0.1111111111111111,
              "#46039f"
             ],
             [
              0.2222222222222222,
              "#7201a8"
             ],
             [
              0.3333333333333333,
              "#9c179e"
             ],
             [
              0.4444444444444444,
              "#bd3786"
             ],
             [
              0.5555555555555556,
              "#d8576b"
             ],
             [
              0.6666666666666666,
              "#ed7953"
             ],
             [
              0.7777777777777778,
              "#fb9f3a"
             ],
             [
              0.8888888888888888,
              "#fdca26"
             ],
             [
              1,
              "#f0f921"
             ]
            ],
            "type": "heatmap"
           }
          ],
          "heatmapgl": [
           {
            "colorbar": {
             "outlinewidth": 0,
             "ticks": ""
            },
            "colorscale": [
             [
              0,
              "#0d0887"
             ],
             [
              0.1111111111111111,
              "#46039f"
             ],
             [
              0.2222222222222222,
              "#7201a8"
             ],
             [
              0.3333333333333333,
              "#9c179e"
             ],
             [
              0.4444444444444444,
              "#bd3786"
             ],
             [
              0.5555555555555556,
              "#d8576b"
             ],
             [
              0.6666666666666666,
              "#ed7953"
             ],
             [
              0.7777777777777778,
              "#fb9f3a"
             ],
             [
              0.8888888888888888,
              "#fdca26"
             ],
             [
              1,
              "#f0f921"
             ]
            ],
            "type": "heatmapgl"
           }
          ],
          "histogram": [
           {
            "marker": {
             "pattern": {
              "fillmode": "overlay",
              "size": 10,
              "solidity": 0.2
             }
            },
            "type": "histogram"
           }
          ],
          "histogram2d": [
           {
            "colorbar": {
             "outlinewidth": 0,
             "ticks": ""
            },
            "colorscale": [
             [
              0,
              "#0d0887"
             ],
             [
              0.1111111111111111,
              "#46039f"
             ],
             [
              0.2222222222222222,
              "#7201a8"
             ],
             [
              0.3333333333333333,
              "#9c179e"
             ],
             [
              0.4444444444444444,
              "#bd3786"
             ],
             [
              0.5555555555555556,
              "#d8576b"
             ],
             [
              0.6666666666666666,
              "#ed7953"
             ],
             [
              0.7777777777777778,
              "#fb9f3a"
             ],
             [
              0.8888888888888888,
              "#fdca26"
             ],
             [
              1,
              "#f0f921"
             ]
            ],
            "type": "histogram2d"
           }
          ],
          "histogram2dcontour": [
           {
            "colorbar": {
             "outlinewidth": 0,
             "ticks": ""
            },
            "colorscale": [
             [
              0,
              "#0d0887"
             ],
             [
              0.1111111111111111,
              "#46039f"
             ],
             [
              0.2222222222222222,
              "#7201a8"
             ],
             [
              0.3333333333333333,
              "#9c179e"
             ],
             [
              0.4444444444444444,
              "#bd3786"
             ],
             [
              0.5555555555555556,
              "#d8576b"
             ],
             [
              0.6666666666666666,
              "#ed7953"
             ],
             [
              0.7777777777777778,
              "#fb9f3a"
             ],
             [
              0.8888888888888888,
              "#fdca26"
             ],
             [
              1,
              "#f0f921"
             ]
            ],
            "type": "histogram2dcontour"
           }
          ],
          "mesh3d": [
           {
            "colorbar": {
             "outlinewidth": 0,
             "ticks": ""
            },
            "type": "mesh3d"
           }
          ],
          "parcoords": [
           {
            "line": {
             "colorbar": {
              "outlinewidth": 0,
              "ticks": ""
             }
            },
            "type": "parcoords"
           }
          ],
          "pie": [
           {
            "automargin": true,
            "type": "pie"
           }
          ],
          "scatter": [
           {
            "fillpattern": {
             "fillmode": "overlay",
             "size": 10,
             "solidity": 0.2
            },
            "type": "scatter"
           }
          ],
          "scatter3d": [
           {
            "line": {
             "colorbar": {
              "outlinewidth": 0,
              "ticks": ""
             }
            },
            "marker": {
             "colorbar": {
              "outlinewidth": 0,
              "ticks": ""
             }
            },
            "type": "scatter3d"
           }
          ],
          "scattercarpet": [
           {
            "marker": {
             "colorbar": {
              "outlinewidth": 0,
              "ticks": ""
             }
            },
            "type": "scattercarpet"
           }
          ],
          "scattergeo": [
           {
            "marker": {
             "colorbar": {
              "outlinewidth": 0,
              "ticks": ""
             }
            },
            "type": "scattergeo"
           }
          ],
          "scattergl": [
           {
            "marker": {
             "colorbar": {
              "outlinewidth": 0,
              "ticks": ""
             }
            },
            "type": "scattergl"
           }
          ],
          "scattermapbox": [
           {
            "marker": {
             "colorbar": {
              "outlinewidth": 0,
              "ticks": ""
             }
            },
            "type": "scattermapbox"
           }
          ],
          "scatterpolar": [
           {
            "marker": {
             "colorbar": {
              "outlinewidth": 0,
              "ticks": ""
             }
            },
            "type": "scatterpolar"
           }
          ],
          "scatterpolargl": [
           {
            "marker": {
             "colorbar": {
              "outlinewidth": 0,
              "ticks": ""
             }
            },
            "type": "scatterpolargl"
           }
          ],
          "scatterternary": [
           {
            "marker": {
             "colorbar": {
              "outlinewidth": 0,
              "ticks": ""
             }
            },
            "type": "scatterternary"
           }
          ],
          "surface": [
           {
            "colorbar": {
             "outlinewidth": 0,
             "ticks": ""
            },
            "colorscale": [
             [
              0,
              "#0d0887"
             ],
             [
              0.1111111111111111,
              "#46039f"
             ],
             [
              0.2222222222222222,
              "#7201a8"
             ],
             [
              0.3333333333333333,
              "#9c179e"
             ],
             [
              0.4444444444444444,
              "#bd3786"
             ],
             [
              0.5555555555555556,
              "#d8576b"
             ],
             [
              0.6666666666666666,
              "#ed7953"
             ],
             [
              0.7777777777777778,
              "#fb9f3a"
             ],
             [
              0.8888888888888888,
              "#fdca26"
             ],
             [
              1,
              "#f0f921"
             ]
            ],
            "type": "surface"
           }
          ],
          "table": [
           {
            "cells": {
             "fill": {
              "color": "#EBF0F8"
             },
             "line": {
              "color": "white"
             }
            },
            "header": {
             "fill": {
              "color": "#C8D4E3"
             },
             "line": {
              "color": "white"
             }
            },
            "type": "table"
           }
          ]
         },
         "layout": {
          "annotationdefaults": {
           "arrowcolor": "#2a3f5f",
           "arrowhead": 0,
           "arrowwidth": 1
          },
          "autotypenumbers": "strict",
          "coloraxis": {
           "colorbar": {
            "outlinewidth": 0,
            "ticks": ""
           }
          },
          "colorscale": {
           "diverging": [
            [
             0,
             "#8e0152"
            ],
            [
             0.1,
             "#c51b7d"
            ],
            [
             0.2,
             "#de77ae"
            ],
            [
             0.3,
             "#f1b6da"
            ],
            [
             0.4,
             "#fde0ef"
            ],
            [
             0.5,
             "#f7f7f7"
            ],
            [
             0.6,
             "#e6f5d0"
            ],
            [
             0.7,
             "#b8e186"
            ],
            [
             0.8,
             "#7fbc41"
            ],
            [
             0.9,
             "#4d9221"
            ],
            [
             1,
             "#276419"
            ]
           ],
           "sequential": [
            [
             0,
             "#0d0887"
            ],
            [
             0.1111111111111111,
             "#46039f"
            ],
            [
             0.2222222222222222,
             "#7201a8"
            ],
            [
             0.3333333333333333,
             "#9c179e"
            ],
            [
             0.4444444444444444,
             "#bd3786"
            ],
            [
             0.5555555555555556,
             "#d8576b"
            ],
            [
             0.6666666666666666,
             "#ed7953"
            ],
            [
             0.7777777777777778,
             "#fb9f3a"
            ],
            [
             0.8888888888888888,
             "#fdca26"
            ],
            [
             1,
             "#f0f921"
            ]
           ],
           "sequentialminus": [
            [
             0,
             "#0d0887"
            ],
            [
             0.1111111111111111,
             "#46039f"
            ],
            [
             0.2222222222222222,
             "#7201a8"
            ],
            [
             0.3333333333333333,
             "#9c179e"
            ],
            [
             0.4444444444444444,
             "#bd3786"
            ],
            [
             0.5555555555555556,
             "#d8576b"
            ],
            [
             0.6666666666666666,
             "#ed7953"
            ],
            [
             0.7777777777777778,
             "#fb9f3a"
            ],
            [
             0.8888888888888888,
             "#fdca26"
            ],
            [
             1,
             "#f0f921"
            ]
           ]
          },
          "colorway": [
           "#636efa",
           "#EF553B",
           "#00cc96",
           "#ab63fa",
           "#FFA15A",
           "#19d3f3",
           "#FF6692",
           "#B6E880",
           "#FF97FF",
           "#FECB52"
          ],
          "font": {
           "color": "#2a3f5f"
          },
          "geo": {
           "bgcolor": "white",
           "lakecolor": "white",
           "landcolor": "#E5ECF6",
           "showlakes": true,
           "showland": true,
           "subunitcolor": "white"
          },
          "hoverlabel": {
           "align": "left"
          },
          "hovermode": "closest",
          "mapbox": {
           "style": "light"
          },
          "paper_bgcolor": "white",
          "plot_bgcolor": "#E5ECF6",
          "polar": {
           "angularaxis": {
            "gridcolor": "white",
            "linecolor": "white",
            "ticks": ""
           },
           "bgcolor": "#E5ECF6",
           "radialaxis": {
            "gridcolor": "white",
            "linecolor": "white",
            "ticks": ""
           }
          },
          "scene": {
           "xaxis": {
            "backgroundcolor": "#E5ECF6",
            "gridcolor": "white",
            "gridwidth": 2,
            "linecolor": "white",
            "showbackground": true,
            "ticks": "",
            "zerolinecolor": "white"
           },
           "yaxis": {
            "backgroundcolor": "#E5ECF6",
            "gridcolor": "white",
            "gridwidth": 2,
            "linecolor": "white",
            "showbackground": true,
            "ticks": "",
            "zerolinecolor": "white"
           },
           "zaxis": {
            "backgroundcolor": "#E5ECF6",
            "gridcolor": "white",
            "gridwidth": 2,
            "linecolor": "white",
            "showbackground": true,
            "ticks": "",
            "zerolinecolor": "white"
           }
          },
          "shapedefaults": {
           "line": {
            "color": "#2a3f5f"
           }
          },
          "ternary": {
           "aaxis": {
            "gridcolor": "white",
            "linecolor": "white",
            "ticks": ""
           },
           "baxis": {
            "gridcolor": "white",
            "linecolor": "white",
            "ticks": ""
           },
           "bgcolor": "#E5ECF6",
           "caxis": {
            "gridcolor": "white",
            "linecolor": "white",
            "ticks": ""
           }
          },
          "title": {
           "x": 0.05
          },
          "xaxis": {
           "automargin": true,
           "gridcolor": "white",
           "linecolor": "white",
           "ticks": "",
           "title": {
            "standoff": 15
           },
           "zerolinecolor": "white",
           "zerolinewidth": 2
          },
          "yaxis": {
           "automargin": true,
           "gridcolor": "white",
           "linecolor": "white",
           "ticks": "",
           "title": {
            "standoff": 15
           },
           "zerolinecolor": "white",
           "zerolinewidth": 2
          }
         }
        },
        "title": {
         "text": "PBMC4 - matching celltypist labels"
        },
        "xaxis": {
         "showgrid": false,
         "visible": false,
         "zeroline": false
        },
        "yaxis": {
         "showgrid": false,
         "visible": false,
         "zeroline": false
        }
       }
      }
     },
     "metadata": {},
     "output_type": "display_data"
    }
   ],
   "source": [
    "for tuning in PARAMS_TUNING:\n",
    "    for dataset in DATASET_NAMES:\n",
    "        print('------------------------------')\n",
    "        print(f'{dataset} - matching {tuning} labels' if tuning != 'default' else f'{dataset} - default labels')\n",
    "        \n",
    "        # concat tools labels\n",
    "        labels_df = pd.read_csv(f'{DIR}{dataset}/COTAN/{tuning}/clustering_labels.csv', index_col=0)\n",
    "        labels_df.rename(columns={\"cluster\": \"cluster_COTAN\"}, inplace=True)\n",
    "        for tool in [t for t in TOOLS if t != 'COTAN']:\n",
    "            tool_labels_df = pd.read_csv(f'{DIR}{dataset}/{tool}/{tuning}/clustering_labels.csv', index_col=0)\n",
    "            labels_df = labels_df.merge(tool_labels_df, how='inner', on='cell')\n",
    "            labels_df.rename(columns={\"cluster\": f\"cluster_{tool}\"}, inplace=True)\n",
    "        \n",
    "        # load and concat celltypist labels\n",
    "        celltypist_df = pd.read_csv(f'{DIR}{dataset}/celltypist/celltypist_labels.csv', index_col=0)\n",
    "        celltypist_df.index = celltypist_df.index.str[:-2]\n",
    "        celltypist_df = labels_df.merge(celltypist_df, how='inner', on='cell')\n",
    "        celltypist_df.rename(columns={\"cluster.ids\": f\"cluster_celltypist\"}, inplace=True)\n",
    "        celltypist_mapping_df = pd.read_csv(f'{DIR}{dataset}/celltypist/celltypist_mapping.csv', index_col=0)\n",
    "        \n",
    "        # load and concat protein surface labels\n",
    "        antibody_df = pd.read_csv(f'{DIR}{dataset}/antibody_annotation/antibody_labels.csv', index_col=0)\n",
    "        antibody_df = labels_df.merge(antibody_df, how='inner', on='cell')\n",
    "        antibody_df.rename(columns={\"cluster.ids\": f\"cluster_antibody\"}, inplace=True)\n",
    "        antibody_mapping_df = pd.read_csv(f'{DIR}{dataset}/antibody_annotation/antibody_mapping.csv', index_col=1)\n",
    "\n",
    "        # read dataset\n",
    "        adata = sc.read_10x_mtx(\n",
    "            f'{DIR}{dataset}/filtered/10X/',\n",
    "            var_names='gene_symbols',\n",
    "            cache=False\n",
    "        )\n",
    "        # keep only labelled cells\n",
    "        adata.var_names_make_unique()\n",
    "        subset_cells = adata.obs_names.isin(labels_df.index)\n",
    "        adata = adata[subset_cells, :]\n",
    "\n",
    "        # compute silhouette score\n",
    "        silhouette = {}\n",
    "        for tool in TOOLS:\n",
    "            silhouette[tool] = silhouette_score(adata.X, labels_df[f'cluster_{tool}'])\n",
    "        if tuning=='celltypist':\n",
    "            silhouette['celltypist'] = silhouette_score(adata.X, celltypist_df[f'cluster_celltypist'])\n",
    "        elif tuning=='antibody':\n",
    "            silhouette['antibody'] = silhouette_score(adata.X, antibody_df[f'cluster_antibody'])\n",
    "        silhouette_df = pd.DataFrame(silhouette, index=[0])\n",
    "        silhouette_df.to_csv(f'{DIR}{dataset}/{tuning}_silhouette.csv')\n",
    "        silhouette_df.to_latex(f'{DIR}{dataset}/{tuning}_silhouette.tex')\n",
    "\n",
    "        # compute scores comparing each tool labels with celltypist labels\n",
    "        if tuning == 'celltypist' or tuning == 'default':\n",
    "            compute_scores(DIR, dataset, celltypist_df, tuning, 'celltypist')\n",
    "            labels = []\n",
    "            labels_titles = []\n",
    "            for tool in TOOLS:\n",
    "                labels.append(celltypist_df[f'cluster_{tool}'].to_list())\n",
    "                labels_titles.append(tool)\n",
    "            labels.append(celltypist_df[f'cluster_celltypist'].map(celltypist_mapping_df['go'].to_dict()).to_list())\n",
    "            labels_titles.append('celltypist')\n",
    "            title = f'{dataset} - matching {tuning} labels' if tuning != 'default' else f'{dataset} - default labels'\n",
    "            sankey_plot(labels=labels, labels_titles=labels_titles, title=title, path=f'{DIR}{dataset}/{tuning}_celltypist.html')\n",
    "        \n",
    "        # compute scores comparing each tool labels with protein labels\n",
    "        if tuning == 'antibody' or tuning == 'default':\n",
    "            compute_scores(DIR, dataset, antibody_df, tuning, 'antibody')\n",
    "            labels = []\n",
    "            labels_titles = []\n",
    "            for tool in TOOLS:\n",
    "                labels.append(antibody_df[f'cluster_{tool}'].to_list())\n",
    "                labels_titles.append(tool)\n",
    "            labels.append(antibody_df[f'cluster_antibody'].map(antibody_mapping_df['go'].to_dict()).to_list())\n",
    "            labels_titles.append('antibody')\n",
    "            title = f'{dataset} - matching {tuning} labels' if tuning != 'default' else f'{dataset} - default labels'\n",
    "            sankey_plot(labels=labels, labels_titles=labels_titles, title=title, path=f'{DIR}{dataset}/{tuning}_antibody.html')"
   ]
  }
 ],
 "metadata": {
  "kernelspec": {
   "display_name": "chl",
   "language": "python",
   "name": "python3"
  },
  "language_info": {
   "codemirror_mode": {
    "name": "ipython",
    "version": 3
   },
   "file_extension": ".py",
   "mimetype": "text/x-python",
   "name": "python",
   "nbconvert_exporter": "python",
   "pygments_lexer": "ipython3",
   "version": "3.11.5"
  },
  "orig_nbformat": 4
 },
 "nbformat": 4,
 "nbformat_minor": 2
}
