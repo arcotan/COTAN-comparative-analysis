{
 "cells": [
  {
   "cell_type": "code",
   "execution_count": 6,
   "metadata": {},
   "outputs": [],
   "source": [
    "import pandas as pd\n",
    "import scanpy as sc\n",
    "from sklearn.metrics.cluster import normalized_mutual_info_score, adjusted_rand_score\n",
    "from sklearn.metrics import homogeneity_score, completeness_score, v_measure_score, fowlkes_mallows_score, silhouette_score\n",
    "from utils import sankey_plot"
   ]
  },
  {
   "cell_type": "code",
   "execution_count": 7,
   "metadata": {},
   "outputs": [],
   "source": [
    "DIR = './data/'\n",
    "DATASET_NAMES = ['PBMC1', 'PBMC3', 'PBMC4']#, 'PBMC2', \n",
    "TOOLS = ['monocle', 'scanpy', 'scvi-tools', 'seurat', 'COTAN']\n",
    "PARAMS_TUNING = ['default', 'celltypist', 'antibody']"
   ]
  },
  {
   "cell_type": "code",
   "execution_count": 8,
   "metadata": {},
   "outputs": [],
   "source": [
    "def compute_scores(dir, dataset, labels_df, labels_matched, ground_truth_labels):\n",
    "    scores = {}\n",
    "    scores['NMI'] = {}\n",
    "    scores['ARI'] = {}\n",
    "    scores['homogeneity'] = {}\n",
    "    scores['completeness'] = {}\n",
    "    scores['v_measure'] = {}\n",
    "    scores['fowlkes_mallows'] = {}\n",
    "    for tool in TOOLS:\n",
    "        scores['NMI'][tool] = normalized_mutual_info_score(labels_pred=labels_df['cluster_'+tool], labels_true=labels_df[f'cluster_{ground_truth_labels}'], average_method='arithmetic')\n",
    "        scores['ARI'][tool] = adjusted_rand_score(labels_pred=labels_df['cluster_'+tool], labels_true=labels_df[f'cluster_{ground_truth_labels}'])\n",
    "        scores['homogeneity'][tool] = homogeneity_score(labels_pred=labels_df['cluster_'+tool], labels_true=labels_df[f'cluster_{ground_truth_labels}'])\n",
    "        scores['completeness'][tool] = completeness_score(labels_pred=labels_df['cluster_'+tool], labels_true=labels_df[f'cluster_{ground_truth_labels}'])\n",
    "        scores['v_measure'][tool] = v_measure_score(labels_pred=labels_df['cluster_'+tool], labels_true=labels_df[f'cluster_{ground_truth_labels}'])\n",
    "        scores['fowlkes_mallows'][tool] = fowlkes_mallows_score(labels_pred=labels_df['cluster_'+tool], labels_true=labels_df[f'cluster_{ground_truth_labels}'])\n",
    "    scores_df = pd.DataFrame(scores)\n",
    "    scores_df.to_csv(f'{dir}{dataset}/scores_{labels_matched}_{ground_truth_labels}.csv')\n",
    "    scores_df.to_latex(f'{dir}{dataset}/scores_{labels_matched}_{ground_truth_labels}.tex')\n",
    "    display(scores_df)"
   ]
  },
  {
   "cell_type": "code",
   "execution_count": 9,
   "metadata": {},
   "outputs": [
    {
     "name": "stdout",
     "output_type": "stream",
     "text": [
      "------------------------------\n",
      "PBMC1 - default labels\n"
     ]
    },
    {
     "name": "stderr",
     "output_type": "stream",
     "text": [
      "/Users/irenetesta/anaconda3/envs/chl/lib/python3.11/site-packages/anndata/_core/anndata.py:1113: FutureWarning:\n",
      "\n",
      "is_categorical_dtype is deprecated and will be removed in a future version. Use isinstance(dtype, CategoricalDtype) instead\n",
      "\n"
     ]
    },
    {
     "data": {
      "text/html": [
       "<div>\n",
       "<style scoped>\n",
       "    .dataframe tbody tr th:only-of-type {\n",
       "        vertical-align: middle;\n",
       "    }\n",
       "\n",
       "    .dataframe tbody tr th {\n",
       "        vertical-align: top;\n",
       "    }\n",
       "\n",
       "    .dataframe thead th {\n",
       "        text-align: right;\n",
       "    }\n",
       "</style>\n",
       "<table border=\"1\" class=\"dataframe\">\n",
       "  <thead>\n",
       "    <tr style=\"text-align: right;\">\n",
       "      <th></th>\n",
       "      <th>NMI</th>\n",
       "      <th>ARI</th>\n",
       "      <th>homogeneity</th>\n",
       "      <th>completeness</th>\n",
       "      <th>v_measure</th>\n",
       "      <th>fowlkes_mallows</th>\n",
       "    </tr>\n",
       "  </thead>\n",
       "  <tbody>\n",
       "    <tr>\n",
       "      <th>monocle</th>\n",
       "      <td>0.586477</td>\n",
       "      <td>0.434154</td>\n",
       "      <td>0.419100</td>\n",
       "      <td>0.976441</td>\n",
       "      <td>0.586477</td>\n",
       "      <td>0.641586</td>\n",
       "    </tr>\n",
       "    <tr>\n",
       "      <th>scanpy</th>\n",
       "      <td>0.707991</td>\n",
       "      <td>0.363700</td>\n",
       "      <td>0.821675</td>\n",
       "      <td>0.621941</td>\n",
       "      <td>0.707991</td>\n",
       "      <td>0.483365</td>\n",
       "    </tr>\n",
       "    <tr>\n",
       "      <th>scvi-tools</th>\n",
       "      <td>0.759984</td>\n",
       "      <td>0.540722</td>\n",
       "      <td>0.803366</td>\n",
       "      <td>0.721048</td>\n",
       "      <td>0.759984</td>\n",
       "      <td>0.626231</td>\n",
       "    </tr>\n",
       "    <tr>\n",
       "      <th>seurat</th>\n",
       "      <td>0.770234</td>\n",
       "      <td>0.588503</td>\n",
       "      <td>0.770632</td>\n",
       "      <td>0.769836</td>\n",
       "      <td>0.770234</td>\n",
       "      <td>0.661907</td>\n",
       "    </tr>\n",
       "    <tr>\n",
       "      <th>COTAN</th>\n",
       "      <td>0.760531</td>\n",
       "      <td>0.573026</td>\n",
       "      <td>0.824545</td>\n",
       "      <td>0.705741</td>\n",
       "      <td>0.760531</td>\n",
       "      <td>0.653886</td>\n",
       "    </tr>\n",
       "  </tbody>\n",
       "</table>\n",
       "</div>"
      ],
      "text/plain": [
       "                 NMI       ARI  homogeneity  completeness  v_measure  \\\n",
       "monocle     0.586477  0.434154     0.419100      0.976441   0.586477   \n",
       "scanpy      0.707991  0.363700     0.821675      0.621941   0.707991   \n",
       "scvi-tools  0.759984  0.540722     0.803366      0.721048   0.759984   \n",
       "seurat      0.770234  0.588503     0.770632      0.769836   0.770234   \n",
       "COTAN       0.760531  0.573026     0.824545      0.705741   0.760531   \n",
       "\n",
       "            fowlkes_mallows  \n",
       "monocle            0.641586  \n",
       "scanpy             0.483365  \n",
       "scvi-tools         0.626231  \n",
       "seurat             0.661907  \n",
       "COTAN              0.653886  "
      ]
     },
     "metadata": {},
     "output_type": "display_data"
    },
    {
     "data": {
      "application/vnd.plotly.v1+json": {
       "config": {
        "plotlyServerURL": "https://plot.ly"
       },
       "data": [
        {
         "link": {
          "source": [
           0,
           0,
           0,
           0,
           0,
           0,
           0,
           0,
           0,
           0,
           1,
           1,
           1,
           1,
           1,
           1,
           1,
           1,
           1,
           1,
           2,
           2,
           2,
           3,
           3,
           3,
           3,
           3,
           4,
           4,
           4,
           4,
           4,
           5,
           5,
           5,
           5,
           6,
           6,
           6,
           7,
           7,
           7,
           7,
           7,
           8,
           8,
           9,
           9,
           10,
           10,
           10,
           10,
           11,
           11,
           12,
           12,
           12,
           12,
           13,
           13,
           13,
           13,
           14,
           14,
           14,
           15,
           15,
           15,
           16,
           16,
           16,
           16,
           17,
           17,
           18,
           18,
           18,
           19,
           19,
           20,
           21,
           21,
           22,
           22,
           23,
           23,
           23,
           24,
           24,
           25,
           25,
           25,
           25,
           26,
           26,
           26,
           26,
           26,
           27,
           27,
           27,
           28,
           28,
           29,
           29,
           30,
           30,
           30,
           31,
           31,
           32,
           32,
           32,
           33,
           33,
           34,
           34,
           34,
           34,
           34,
           35,
           35,
           35,
           35,
           35,
           35,
           35,
           36,
           36,
           36,
           36,
           37,
           37,
           37,
           38,
           38,
           38,
           38,
           38,
           39,
           39,
           39,
           40,
           40,
           41,
           42,
           42,
           42,
           42,
           42,
           43,
           43,
           44,
           45,
           46,
           46,
           46,
           46,
           46,
           47,
           47,
           48,
           48,
           49,
           49,
           50,
           50,
           50,
           51,
           52,
           52,
           53,
           53,
           54,
           54,
           54,
           54,
           54,
           54,
           55,
           55,
           55,
           56,
           56,
           57,
           57,
           57,
           57,
           57,
           57,
           57,
           57,
           58,
           58,
           58,
           59,
           59,
           59,
           59,
           59,
           59,
           59,
           59,
           59,
           60,
           60,
           60,
           60,
           60,
           60,
           60,
           61,
           61,
           61
          ],
          "target": [
           3,
           4,
           6,
           7,
           8,
           10,
           12,
           14,
           16,
           18,
           3,
           4,
           5,
           7,
           9,
           11,
           15,
           17,
           19,
           20,
           12,
           13,
           15,
           22,
           23,
           24,
           26,
           32,
           22,
           23,
           24,
           26,
           32,
           21,
           25,
           30,
           31,
           22,
           24,
           32,
           21,
           22,
           25,
           27,
           30,
           26,
           27,
           21,
           25,
           22,
           23,
           24,
           26,
           21,
           25,
           23,
           26,
           27,
           32,
           21,
           26,
           28,
           29,
           22,
           23,
           26,
           25,
           27,
           29,
           23,
           24,
           26,
           32,
           25,
           31,
           22,
           26,
           32,
           25,
           30,
           33,
           36,
           37,
           34,
           35,
           34,
           35,
           39,
           34,
           35,
           36,
           37,
           42,
           43,
           34,
           35,
           38,
           39,
           40,
           38,
           39,
           41,
           40,
           41,
           40,
           41,
           36,
           37,
           43,
           37,
           42,
           34,
           35,
           39,
           43,
           44,
           48,
           57,
           58,
           59,
           60,
           48,
           54,
           57,
           58,
           59,
           60,
           61,
           45,
           48,
           49,
           50,
           47,
           49,
           50,
           54,
           55,
           56,
           59,
           60,
           54,
           56,
           57,
           52,
           53,
           53,
           46,
           47,
           49,
           50,
           59,
           46,
           50,
           51,
           64,
           64,
           65,
           66,
           72,
           80,
           64,
           72,
           64,
           69,
           64,
           72,
           64,
           66,
           72,
           80,
           70,
           71,
           70,
           71,
           62,
           63,
           75,
           76,
           78,
           79,
           62,
           73,
           78,
           62,
           64,
           62,
           63,
           67,
           74,
           76,
           77,
           78,
           79,
           63,
           75,
           76,
           62,
           63,
           64,
           69,
           72,
           74,
           75,
           76,
           79,
           62,
           68,
           71,
           73,
           74,
           76,
           79,
           74,
           76,
           77
          ],
          "value": [
           400,
           329,
           286,
           9,
           268,
           254,
           182,
           149,
           106,
           77,
           2,
           2,
           323,
           259,
           268,
           200,
           2,
           91,
           76,
           28,
           1,
           159,
           139,
           27,
           327,
           38,
           8,
           2,
           164,
           5,
           155,
           3,
           4,
           57,
           222,
           27,
           17,
           165,
           119,
           2,
           229,
           1,
           33,
           1,
           4,
           3,
           265,
           175,
           93,
           137,
           2,
           109,
           6,
           198,
           2,
           10,
           154,
           18,
           1,
           1,
           1,
           149,
           8,
           1,
           128,
           20,
           2,
           1,
           138,
           11,
           1,
           93,
           1,
           16,
           75,
           4,
           3,
           70,
           5,
           71,
           28,
           560,
           100,
           446,
           53,
           2,
           473,
           8,
           352,
           70,
           52,
           277,
           39,
           5,
           12,
           30,
           3,
           245,
           1,
           277,
           7,
           1,
           147,
           2,
           5,
           141,
           4,
           29,
           69,
           2,
           90,
           77,
           2,
           1,
           1,
           27,
           1,
           3,
           791,
           89,
           5,
           1,
           14,
           488,
           52,
           15,
           19,
           39,
           35,
           272,
           292,
           17,
           4,
           176,
           228,
           2,
           153,
           116,
           2,
           7,
           256,
           1,
           4,
           152,
           1,
           144,
           1,
           118,
           1,
           8,
           1,
           74,
           1,
           27,
           35,
           1,
           1,
           71,
           1,
           1,
           14,
           108,
           272,
           2,
           467,
           2,
           246,
           6,
           2,
           27,
           151,
           1,
           2,
           143,
           4,
           18,
           1,
           2,
           102,
           145,
           145,
           4,
           4,
           116,
           1,
           1,
           2,
           54,
           1,
           202,
           179,
           1,
           55,
           4,
           5,
           834,
           2,
           4,
           1,
           1,
           1,
           1,
           79,
           14,
           4,
           2,
           3,
           1,
           4,
           1,
           19,
           1,
           31,
           7,
           1
          ]
         },
         "node": {
          "color": [
           "#1f77b4",
           "#ff7f0e",
           "#2ca02c",
           "#d62728",
           "#9467bd",
           "#8c564b",
           "#e377c2",
           "#7f7f7f",
           "#bcbd22",
           "#17becf",
           "#1f77b4",
           "#ff7f0e",
           "#2ca02c",
           "#d62728",
           "#9467bd",
           "#8c564b",
           "#e377c2",
           "#7f7f7f",
           "#bcbd22",
           "#17becf",
           "#1f77b4",
           "#ff7f0e",
           "#2ca02c",
           "#d62728",
           "#9467bd",
           "#8c564b",
           "#e377c2",
           "#7f7f7f",
           "#bcbd22",
           "#17becf",
           "#1f77b4",
           "#ff7f0e",
           "#2ca02c",
           "#d62728",
           "#9467bd",
           "#8c564b",
           "#e377c2",
           "#7f7f7f",
           "#bcbd22",
           "#17becf",
           "#1f77b4",
           "#ff7f0e",
           "#2ca02c",
           "#d62728",
           "#9467bd",
           "#8c564b",
           "#e377c2",
           "#7f7f7f",
           "#bcbd22",
           "#17becf",
           "#1f77b4",
           "#ff7f0e",
           "#2ca02c",
           "#d62728",
           "#9467bd",
           "#8c564b",
           "#e377c2",
           "#7f7f7f",
           "#bcbd22",
           "#17becf",
           "#1f77b4",
           "#ff7f0e",
           "#2ca02c",
           "#d62728",
           "#9467bd",
           "#8c564b",
           "#e377c2",
           "#7f7f7f",
           "#bcbd22",
           "#17becf",
           "#1f77b4",
           "#ff7f0e",
           "#2ca02c",
           "#d62728",
           "#9467bd",
           "#8c564b",
           "#e377c2",
           "#7f7f7f",
           "#bcbd22",
           "#17becf",
           "#1f77b4"
          ],
          "label": [
           1,
           2,
           3,
           1,
           2,
           3,
           4,
           5,
           6,
           7,
           8,
           9,
           10,
           11,
           12,
           13,
           14,
           15,
           16,
           17,
           18,
           1,
           2,
           3,
           4,
           5,
           6,
           7,
           8,
           9,
           10,
           11,
           12,
           13,
           1,
           2,
           3,
           4,
           5,
           6,
           7,
           8,
           9,
           10,
           11,
           1,
           2,
           3,
           4,
           5,
           6,
           7,
           8,
           9,
           10,
           11,
           12,
           13,
           14,
           15,
           16,
           17,
           "CD16+ NK cells",
           "CD8a/a",
           "Classical monocytes",
           "DC1",
           "DC2",
           "MAIT cells",
           "Megakaryocyte precursor",
           "Megakaryocytes/platelets",
           "Memory B cells",
           "Naive B cells",
           "Non-classical monocytes",
           "Plasmablasts",
           "Regulatory T cells",
           "Tcm/Naive cytotoxic T cells",
           "Tcm/Naive helper T cells",
           "Tem/Effector helper T cells",
           "Tem/Temra cytotoxic T cells",
           "Tem/Trm cytotoxic T cells",
           "pDC"
          ],
          "line": {
           "color": "black",
           "width": 0.5
          },
          "pad": 15,
          "thickness": 20
         },
         "type": "sankey"
        }
       ],
       "layout": {
        "annotations": [
         {
          "showarrow": false,
          "text": "monocle",
          "x": 0,
          "xref": "x",
          "y": 1.05,
          "yref": "paper"
         },
         {
          "showarrow": false,
          "text": "scanpy",
          "x": 1,
          "xref": "x",
          "y": 1.05,
          "yref": "paper"
         },
         {
          "showarrow": false,
          "text": "scvi-tools",
          "x": 2,
          "xref": "x",
          "y": 1.05,
          "yref": "paper"
         },
         {
          "showarrow": false,
          "text": "seurat",
          "x": 3,
          "xref": "x",
          "y": 1.05,
          "yref": "paper"
         },
         {
          "showarrow": false,
          "text": "COTAN",
          "x": 4,
          "xref": "x",
          "y": 1.05,
          "yref": "paper"
         },
         {
          "showarrow": false,
          "text": "celltypist",
          "x": 5,
          "xref": "x",
          "y": 1.05,
          "yref": "paper"
         }
        ],
        "font": {
         "size": 10
        },
        "height": 450,
        "plot_bgcolor": "rgba(0,0,0,0)",
        "template": {
         "data": {
          "bar": [
           {
            "error_x": {
             "color": "#2a3f5f"
            },
            "error_y": {
             "color": "#2a3f5f"
            },
            "marker": {
             "line": {
              "color": "#E5ECF6",
              "width": 0.5
             },
             "pattern": {
              "fillmode": "overlay",
              "size": 10,
              "solidity": 0.2
             }
            },
            "type": "bar"
           }
          ],
          "barpolar": [
           {
            "marker": {
             "line": {
              "color": "#E5ECF6",
              "width": 0.5
             },
             "pattern": {
              "fillmode": "overlay",
              "size": 10,
              "solidity": 0.2
             }
            },
            "type": "barpolar"
           }
          ],
          "carpet": [
           {
            "aaxis": {
             "endlinecolor": "#2a3f5f",
             "gridcolor": "white",
             "linecolor": "white",
             "minorgridcolor": "white",
             "startlinecolor": "#2a3f5f"
            },
            "baxis": {
             "endlinecolor": "#2a3f5f",
             "gridcolor": "white",
             "linecolor": "white",
             "minorgridcolor": "white",
             "startlinecolor": "#2a3f5f"
            },
            "type": "carpet"
           }
          ],
          "choropleth": [
           {
            "colorbar": {
             "outlinewidth": 0,
             "ticks": ""
            },
            "type": "choropleth"
           }
          ],
          "contour": [
           {
            "colorbar": {
             "outlinewidth": 0,
             "ticks": ""
            },
            "colorscale": [
             [
              0,
              "#0d0887"
             ],
             [
              0.1111111111111111,
              "#46039f"
             ],
             [
              0.2222222222222222,
              "#7201a8"
             ],
             [
              0.3333333333333333,
              "#9c179e"
             ],
             [
              0.4444444444444444,
              "#bd3786"
             ],
             [
              0.5555555555555556,
              "#d8576b"
             ],
             [
              0.6666666666666666,
              "#ed7953"
             ],
             [
              0.7777777777777778,
              "#fb9f3a"
             ],
             [
              0.8888888888888888,
              "#fdca26"
             ],
             [
              1,
              "#f0f921"
             ]
            ],
            "type": "contour"
           }
          ],
          "contourcarpet": [
           {
            "colorbar": {
             "outlinewidth": 0,
             "ticks": ""
            },
            "type": "contourcarpet"
           }
          ],
          "heatmap": [
           {
            "colorbar": {
             "outlinewidth": 0,
             "ticks": ""
            },
            "colorscale": [
             [
              0,
              "#0d0887"
             ],
             [
              0.1111111111111111,
              "#46039f"
             ],
             [
              0.2222222222222222,
              "#7201a8"
             ],
             [
              0.3333333333333333,
              "#9c179e"
             ],
             [
              0.4444444444444444,
              "#bd3786"
             ],
             [
              0.5555555555555556,
              "#d8576b"
             ],
             [
              0.6666666666666666,
              "#ed7953"
             ],
             [
              0.7777777777777778,
              "#fb9f3a"
             ],
             [
              0.8888888888888888,
              "#fdca26"
             ],
             [
              1,
              "#f0f921"
             ]
            ],
            "type": "heatmap"
           }
          ],
          "heatmapgl": [
           {
            "colorbar": {
             "outlinewidth": 0,
             "ticks": ""
            },
            "colorscale": [
             [
              0,
              "#0d0887"
             ],
             [
              0.1111111111111111,
              "#46039f"
             ],
             [
              0.2222222222222222,
              "#7201a8"
             ],
             [
              0.3333333333333333,
              "#9c179e"
             ],
             [
              0.4444444444444444,
              "#bd3786"
             ],
             [
              0.5555555555555556,
              "#d8576b"
             ],
             [
              0.6666666666666666,
              "#ed7953"
             ],
             [
              0.7777777777777778,
              "#fb9f3a"
             ],
             [
              0.8888888888888888,
              "#fdca26"
             ],
             [
              1,
              "#f0f921"
             ]
            ],
            "type": "heatmapgl"
           }
          ],
          "histogram": [
           {
            "marker": {
             "pattern": {
              "fillmode": "overlay",
              "size": 10,
              "solidity": 0.2
             }
            },
            "type": "histogram"
           }
          ],
          "histogram2d": [
           {
            "colorbar": {
             "outlinewidth": 0,
             "ticks": ""
            },
            "colorscale": [
             [
              0,
              "#0d0887"
             ],
             [
              0.1111111111111111,
              "#46039f"
             ],
             [
              0.2222222222222222,
              "#7201a8"
             ],
             [
              0.3333333333333333,
              "#9c179e"
             ],
             [
              0.4444444444444444,
              "#bd3786"
             ],
             [
              0.5555555555555556,
              "#d8576b"
             ],
             [
              0.6666666666666666,
              "#ed7953"
             ],
             [
              0.7777777777777778,
              "#fb9f3a"
             ],
             [
              0.8888888888888888,
              "#fdca26"
             ],
             [
              1,
              "#f0f921"
             ]
            ],
            "type": "histogram2d"
           }
          ],
          "histogram2dcontour": [
           {
            "colorbar": {
             "outlinewidth": 0,
             "ticks": ""
            },
            "colorscale": [
             [
              0,
              "#0d0887"
             ],
             [
              0.1111111111111111,
              "#46039f"
             ],
             [
              0.2222222222222222,
              "#7201a8"
             ],
             [
              0.3333333333333333,
              "#9c179e"
             ],
             [
              0.4444444444444444,
              "#bd3786"
             ],
             [
              0.5555555555555556,
              "#d8576b"
             ],
             [
              0.6666666666666666,
              "#ed7953"
             ],
             [
              0.7777777777777778,
              "#fb9f3a"
             ],
             [
              0.8888888888888888,
              "#fdca26"
             ],
             [
              1,
              "#f0f921"
             ]
            ],
            "type": "histogram2dcontour"
           }
          ],
          "mesh3d": [
           {
            "colorbar": {
             "outlinewidth": 0,
             "ticks": ""
            },
            "type": "mesh3d"
           }
          ],
          "parcoords": [
           {
            "line": {
             "colorbar": {
              "outlinewidth": 0,
              "ticks": ""
             }
            },
            "type": "parcoords"
           }
          ],
          "pie": [
           {
            "automargin": true,
            "type": "pie"
           }
          ],
          "scatter": [
           {
            "fillpattern": {
             "fillmode": "overlay",
             "size": 10,
             "solidity": 0.2
            },
            "type": "scatter"
           }
          ],
          "scatter3d": [
           {
            "line": {
             "colorbar": {
              "outlinewidth": 0,
              "ticks": ""
             }
            },
            "marker": {
             "colorbar": {
              "outlinewidth": 0,
              "ticks": ""
             }
            },
            "type": "scatter3d"
           }
          ],
          "scattercarpet": [
           {
            "marker": {
             "colorbar": {
              "outlinewidth": 0,
              "ticks": ""
             }
            },
            "type": "scattercarpet"
           }
          ],
          "scattergeo": [
           {
            "marker": {
             "colorbar": {
              "outlinewidth": 0,
              "ticks": ""
             }
            },
            "type": "scattergeo"
           }
          ],
          "scattergl": [
           {
            "marker": {
             "colorbar": {
              "outlinewidth": 0,
              "ticks": ""
             }
            },
            "type": "scattergl"
           }
          ],
          "scattermapbox": [
           {
            "marker": {
             "colorbar": {
              "outlinewidth": 0,
              "ticks": ""
             }
            },
            "type": "scattermapbox"
           }
          ],
          "scatterpolar": [
           {
            "marker": {
             "colorbar": {
              "outlinewidth": 0,
              "ticks": ""
             }
            },
            "type": "scatterpolar"
           }
          ],
          "scatterpolargl": [
           {
            "marker": {
             "colorbar": {
              "outlinewidth": 0,
              "ticks": ""
             }
            },
            "type": "scatterpolargl"
           }
          ],
          "scatterternary": [
           {
            "marker": {
             "colorbar": {
              "outlinewidth": 0,
              "ticks": ""
             }
            },
            "type": "scatterternary"
           }
          ],
          "surface": [
           {
            "colorbar": {
             "outlinewidth": 0,
             "ticks": ""
            },
            "colorscale": [
             [
              0,
              "#0d0887"
             ],
             [
              0.1111111111111111,
              "#46039f"
             ],
             [
              0.2222222222222222,
              "#7201a8"
             ],
             [
              0.3333333333333333,
              "#9c179e"
             ],
             [
              0.4444444444444444,
              "#bd3786"
             ],
             [
              0.5555555555555556,
              "#d8576b"
             ],
             [
              0.6666666666666666,
              "#ed7953"
             ],
             [
              0.7777777777777778,
              "#fb9f3a"
             ],
             [
              0.8888888888888888,
              "#fdca26"
             ],
             [
              1,
              "#f0f921"
             ]
            ],
            "type": "surface"
           }
          ],
          "table": [
           {
            "cells": {
             "fill": {
              "color": "#EBF0F8"
             },
             "line": {
              "color": "white"
             }
            },
            "header": {
             "fill": {
              "color": "#C8D4E3"
             },
             "line": {
              "color": "white"
             }
            },
            "type": "table"
           }
          ]
         },
         "layout": {
          "annotationdefaults": {
           "arrowcolor": "#2a3f5f",
           "arrowhead": 0,
           "arrowwidth": 1
          },
          "autotypenumbers": "strict",
          "coloraxis": {
           "colorbar": {
            "outlinewidth": 0,
            "ticks": ""
           }
          },
          "colorscale": {
           "diverging": [
            [
             0,
             "#8e0152"
            ],
            [
             0.1,
             "#c51b7d"
            ],
            [
             0.2,
             "#de77ae"
            ],
            [
             0.3,
             "#f1b6da"
            ],
            [
             0.4,
             "#fde0ef"
            ],
            [
             0.5,
             "#f7f7f7"
            ],
            [
             0.6,
             "#e6f5d0"
            ],
            [
             0.7,
             "#b8e186"
            ],
            [
             0.8,
             "#7fbc41"
            ],
            [
             0.9,
             "#4d9221"
            ],
            [
             1,
             "#276419"
            ]
           ],
           "sequential": [
            [
             0,
             "#0d0887"
            ],
            [
             0.1111111111111111,
             "#46039f"
            ],
            [
             0.2222222222222222,
             "#7201a8"
            ],
            [
             0.3333333333333333,
             "#9c179e"
            ],
            [
             0.4444444444444444,
             "#bd3786"
            ],
            [
             0.5555555555555556,
             "#d8576b"
            ],
            [
             0.6666666666666666,
             "#ed7953"
            ],
            [
             0.7777777777777778,
             "#fb9f3a"
            ],
            [
             0.8888888888888888,
             "#fdca26"
            ],
            [
             1,
             "#f0f921"
            ]
           ],
           "sequentialminus": [
            [
             0,
             "#0d0887"
            ],
            [
             0.1111111111111111,
             "#46039f"
            ],
            [
             0.2222222222222222,
             "#7201a8"
            ],
            [
             0.3333333333333333,
             "#9c179e"
            ],
            [
             0.4444444444444444,
             "#bd3786"
            ],
            [
             0.5555555555555556,
             "#d8576b"
            ],
            [
             0.6666666666666666,
             "#ed7953"
            ],
            [
             0.7777777777777778,
             "#fb9f3a"
            ],
            [
             0.8888888888888888,
             "#fdca26"
            ],
            [
             1,
             "#f0f921"
            ]
           ]
          },
          "colorway": [
           "#636efa",
           "#EF553B",
           "#00cc96",
           "#ab63fa",
           "#FFA15A",
           "#19d3f3",
           "#FF6692",
           "#B6E880",
           "#FF97FF",
           "#FECB52"
          ],
          "font": {
           "color": "#2a3f5f"
          },
          "geo": {
           "bgcolor": "white",
           "lakecolor": "white",
           "landcolor": "#E5ECF6",
           "showlakes": true,
           "showland": true,
           "subunitcolor": "white"
          },
          "hoverlabel": {
           "align": "left"
          },
          "hovermode": "closest",
          "mapbox": {
           "style": "light"
          },
          "paper_bgcolor": "white",
          "plot_bgcolor": "#E5ECF6",
          "polar": {
           "angularaxis": {
            "gridcolor": "white",
            "linecolor": "white",
            "ticks": ""
           },
           "bgcolor": "#E5ECF6",
           "radialaxis": {
            "gridcolor": "white",
            "linecolor": "white",
            "ticks": ""
           }
          },
          "scene": {
           "xaxis": {
            "backgroundcolor": "#E5ECF6",
            "gridcolor": "white",
            "gridwidth": 2,
            "linecolor": "white",
            "showbackground": true,
            "ticks": "",
            "zerolinecolor": "white"
           },
           "yaxis": {
            "backgroundcolor": "#E5ECF6",
            "gridcolor": "white",
            "gridwidth": 2,
            "linecolor": "white",
            "showbackground": true,
            "ticks": "",
            "zerolinecolor": "white"
           },
           "zaxis": {
            "backgroundcolor": "#E5ECF6",
            "gridcolor": "white",
            "gridwidth": 2,
            "linecolor": "white",
            "showbackground": true,
            "ticks": "",
            "zerolinecolor": "white"
           }
          },
          "shapedefaults": {
           "line": {
            "color": "#2a3f5f"
           }
          },
          "ternary": {
           "aaxis": {
            "gridcolor": "white",
            "linecolor": "white",
            "ticks": ""
           },
           "baxis": {
            "gridcolor": "white",
            "linecolor": "white",
            "ticks": ""
           },
           "bgcolor": "#E5ECF6",
           "caxis": {
            "gridcolor": "white",
            "linecolor": "white",
            "ticks": ""
           }
          },
          "title": {
           "x": 0.05
          },
          "xaxis": {
           "automargin": true,
           "gridcolor": "white",
           "linecolor": "white",
           "ticks": "",
           "title": {
            "standoff": 15
           },
           "zerolinecolor": "white",
           "zerolinewidth": 2
          },
          "yaxis": {
           "automargin": true,
           "gridcolor": "white",
           "linecolor": "white",
           "ticks": "",
           "title": {
            "standoff": 15
           },
           "zerolinecolor": "white",
           "zerolinewidth": 2
          }
         }
        },
        "title": {
         "text": "PBMC1 - default labels"
        },
        "width": 700,
        "xaxis": {
         "showgrid": false,
         "visible": false,
         "zeroline": false
        },
        "yaxis": {
         "showgrid": false,
         "visible": false,
         "zeroline": false
        }
       }
      }
     },
     "metadata": {},
     "output_type": "display_data"
    },
    {
     "data": {
      "text/html": [
       "<div>\n",
       "<style scoped>\n",
       "    .dataframe tbody tr th:only-of-type {\n",
       "        vertical-align: middle;\n",
       "    }\n",
       "\n",
       "    .dataframe tbody tr th {\n",
       "        vertical-align: top;\n",
       "    }\n",
       "\n",
       "    .dataframe thead th {\n",
       "        text-align: right;\n",
       "    }\n",
       "</style>\n",
       "<table border=\"1\" class=\"dataframe\">\n",
       "  <thead>\n",
       "    <tr style=\"text-align: right;\">\n",
       "      <th></th>\n",
       "      <th>NMI</th>\n",
       "      <th>ARI</th>\n",
       "      <th>homogeneity</th>\n",
       "      <th>completeness</th>\n",
       "      <th>v_measure</th>\n",
       "      <th>fowlkes_mallows</th>\n",
       "    </tr>\n",
       "  </thead>\n",
       "  <tbody>\n",
       "    <tr>\n",
       "      <th>monocle</th>\n",
       "      <td>0.611988</td>\n",
       "      <td>0.425929</td>\n",
       "      <td>0.446299</td>\n",
       "      <td>0.973344</td>\n",
       "      <td>0.611988</td>\n",
       "      <td>0.635502</td>\n",
       "    </tr>\n",
       "    <tr>\n",
       "      <th>scanpy</th>\n",
       "      <td>0.659645</td>\n",
       "      <td>0.391203</td>\n",
       "      <td>0.795577</td>\n",
       "      <td>0.563386</td>\n",
       "      <td>0.659645</td>\n",
       "      <td>0.507730</td>\n",
       "    </tr>\n",
       "    <tr>\n",
       "      <th>scvi-tools</th>\n",
       "      <td>0.708581</td>\n",
       "      <td>0.551051</td>\n",
       "      <td>0.776228</td>\n",
       "      <td>0.651780</td>\n",
       "      <td>0.708581</td>\n",
       "      <td>0.632750</td>\n",
       "    </tr>\n",
       "    <tr>\n",
       "      <th>seurat</th>\n",
       "      <td>0.738344</td>\n",
       "      <td>0.643097</td>\n",
       "      <td>0.764146</td>\n",
       "      <td>0.714228</td>\n",
       "      <td>0.738344</td>\n",
       "      <td>0.706018</td>\n",
       "    </tr>\n",
       "    <tr>\n",
       "      <th>COTAN</th>\n",
       "      <td>0.711422</td>\n",
       "      <td>0.579912</td>\n",
       "      <td>0.799933</td>\n",
       "      <td>0.640547</td>\n",
       "      <td>0.711422</td>\n",
       "      <td>0.657343</td>\n",
       "    </tr>\n",
       "  </tbody>\n",
       "</table>\n",
       "</div>"
      ],
      "text/plain": [
       "                 NMI       ARI  homogeneity  completeness  v_measure  \\\n",
       "monocle     0.611988  0.425929     0.446299      0.973344   0.611988   \n",
       "scanpy      0.659645  0.391203     0.795577      0.563386   0.659645   \n",
       "scvi-tools  0.708581  0.551051     0.776228      0.651780   0.708581   \n",
       "seurat      0.738344  0.643097     0.764146      0.714228   0.738344   \n",
       "COTAN       0.711422  0.579912     0.799933      0.640547   0.711422   \n",
       "\n",
       "            fowlkes_mallows  \n",
       "monocle            0.635502  \n",
       "scanpy             0.507730  \n",
       "scvi-tools         0.632750  \n",
       "seurat             0.706018  \n",
       "COTAN              0.657343  "
      ]
     },
     "metadata": {},
     "output_type": "display_data"
    },
    {
     "data": {
      "application/vnd.plotly.v1+json": {
       "config": {
        "plotlyServerURL": "https://plot.ly"
       },
       "data": [
        {
         "link": {
          "source": [
           0,
           0,
           0,
           0,
           0,
           0,
           0,
           0,
           0,
           0,
           1,
           1,
           1,
           1,
           1,
           1,
           1,
           1,
           1,
           1,
           2,
           2,
           2,
           3,
           3,
           3,
           3,
           3,
           4,
           4,
           4,
           4,
           4,
           5,
           5,
           5,
           5,
           6,
           6,
           6,
           7,
           7,
           7,
           7,
           7,
           8,
           8,
           9,
           9,
           10,
           10,
           10,
           10,
           11,
           11,
           12,
           12,
           12,
           12,
           13,
           13,
           13,
           13,
           14,
           14,
           14,
           15,
           15,
           15,
           16,
           16,
           16,
           16,
           17,
           17,
           18,
           18,
           18,
           19,
           19,
           20,
           21,
           21,
           22,
           22,
           23,
           23,
           23,
           24,
           24,
           25,
           25,
           25,
           25,
           26,
           26,
           26,
           26,
           26,
           27,
           27,
           27,
           28,
           28,
           29,
           29,
           30,
           30,
           30,
           31,
           31,
           32,
           32,
           32,
           33,
           33,
           34,
           34,
           34,
           34,
           34,
           35,
           35,
           35,
           35,
           35,
           35,
           35,
           36,
           36,
           36,
           36,
           37,
           37,
           37,
           38,
           38,
           38,
           38,
           38,
           39,
           39,
           39,
           40,
           40,
           41,
           42,
           42,
           42,
           42,
           42,
           43,
           43,
           44,
           45,
           45,
           45,
           46,
           46,
           46,
           47,
           47,
           47,
           48,
           48,
           49,
           49,
           50,
           50,
           50,
           51,
           51,
           51,
           52,
           52,
           52,
           53,
           53,
           54,
           54,
           54,
           54,
           54,
           54,
           55,
           55,
           55,
           56,
           56,
           56,
           56,
           57,
           57,
           57,
           57,
           58,
           58,
           58,
           58,
           59,
           59,
           59,
           59,
           59,
           60,
           60,
           60,
           60,
           60,
           60,
           60,
           60,
           61
          ],
          "target": [
           3,
           4,
           6,
           7,
           8,
           10,
           12,
           14,
           16,
           18,
           3,
           4,
           5,
           7,
           9,
           11,
           15,
           17,
           19,
           20,
           12,
           13,
           15,
           22,
           23,
           24,
           26,
           32,
           22,
           23,
           24,
           26,
           32,
           21,
           25,
           30,
           31,
           22,
           24,
           32,
           21,
           22,
           25,
           27,
           30,
           26,
           27,
           21,
           25,
           22,
           23,
           24,
           26,
           21,
           25,
           23,
           26,
           27,
           32,
           21,
           26,
           28,
           29,
           22,
           23,
           26,
           25,
           27,
           29,
           23,
           24,
           26,
           32,
           25,
           31,
           22,
           26,
           32,
           25,
           30,
           33,
           36,
           37,
           34,
           35,
           34,
           35,
           39,
           34,
           35,
           36,
           37,
           42,
           43,
           34,
           35,
           38,
           39,
           40,
           38,
           39,
           41,
           40,
           41,
           40,
           41,
           36,
           37,
           43,
           37,
           42,
           34,
           35,
           39,
           43,
           44,
           48,
           57,
           58,
           59,
           60,
           48,
           54,
           57,
           58,
           59,
           60,
           61,
           45,
           48,
           49,
           50,
           47,
           49,
           50,
           54,
           55,
           56,
           59,
           60,
           54,
           56,
           57,
           52,
           53,
           53,
           46,
           47,
           49,
           50,
           59,
           46,
           50,
           51,
           65,
           67,
           68,
           65,
           66,
           67,
           65,
           66,
           67,
           65,
           66,
           65,
           67,
           65,
           66,
           67,
           65,
           66,
           70,
           62,
           67,
           70,
           62,
           67,
           63,
           64,
           68,
           69,
           70,
           71,
           68,
           69,
           71,
           62,
           65,
           68,
           69,
           63,
           64,
           69,
           70,
           63,
           64,
           65,
           70,
           63,
           64,
           65,
           69,
           70,
           62,
           63,
           64,
           66,
           68,
           69,
           70,
           71,
           64
          ],
          "value": [
           400,
           328,
           286,
           9,
           268,
           254,
           182,
           149,
           106,
           77,
           2,
           2,
           322,
           259,
           267,
           198,
           2,
           91,
           75,
           28,
           1,
           159,
           138,
           27,
           327,
           38,
           8,
           2,
           164,
           5,
           154,
           3,
           4,
           57,
           221,
           27,
           17,
           165,
           119,
           2,
           229,
           1,
           33,
           1,
           4,
           3,
           265,
           175,
           92,
           137,
           2,
           109,
           6,
           196,
           2,
           10,
           154,
           18,
           1,
           1,
           1,
           149,
           8,
           1,
           128,
           20,
           2,
           1,
           137,
           11,
           1,
           93,
           1,
           16,
           75,
           4,
           3,
           70,
           5,
           70,
           28,
           558,
           100,
           446,
           53,
           2,
           473,
           8,
           351,
           70,
           51,
           276,
           39,
           5,
           12,
           30,
           3,
           245,
           1,
           277,
           7,
           1,
           147,
           2,
           5,
           140,
           4,
           29,
           68,
           2,
           90,
           77,
           2,
           1,
           1,
           27,
           1,
           3,
           790,
           89,
           5,
           1,
           14,
           488,
           52,
           15,
           19,
           39,
           35,
           270,
           291,
           17,
           4,
           175,
           228,
           2,
           153,
           116,
           2,
           7,
           256,
           1,
           4,
           152,
           1,
           143,
           1,
           118,
           1,
           8,
           1,
           73,
           1,
           27,
           33,
           1,
           1,
           17,
           56,
           1,
           83,
           1,
           38,
           271,
           1,
           465,
           2,
           251,
           1,
           2,
           1,
           25,
           1,
           150,
           1,
           1,
           143,
           1,
           54,
           174,
           1,
           1,
           4,
           38,
           144,
           4,
           5,
           1,
           1,
           113,
           2,
           11,
           458,
           1,
           25,
           14,
           61,
           1,
           766,
           81,
           9,
           2,
           1,
           14,
           1,
           1,
           17,
           3,
           4,
           1,
           3,
           1,
           39
          ]
         },
         "node": {
          "color": [
           "#1f77b4",
           "#ff7f0e",
           "#2ca02c",
           "#d62728",
           "#9467bd",
           "#8c564b",
           "#e377c2",
           "#7f7f7f",
           "#bcbd22",
           "#17becf",
           "#1f77b4",
           "#ff7f0e",
           "#2ca02c",
           "#d62728",
           "#9467bd",
           "#8c564b",
           "#e377c2",
           "#7f7f7f",
           "#bcbd22",
           "#17becf",
           "#1f77b4",
           "#ff7f0e",
           "#2ca02c",
           "#d62728",
           "#9467bd",
           "#8c564b",
           "#e377c2",
           "#7f7f7f",
           "#bcbd22",
           "#17becf",
           "#1f77b4",
           "#ff7f0e",
           "#2ca02c",
           "#d62728",
           "#9467bd",
           "#8c564b",
           "#e377c2",
           "#7f7f7f",
           "#bcbd22",
           "#17becf",
           "#1f77b4",
           "#ff7f0e",
           "#2ca02c",
           "#d62728",
           "#9467bd",
           "#8c564b",
           "#e377c2",
           "#7f7f7f",
           "#bcbd22",
           "#17becf",
           "#1f77b4",
           "#ff7f0e",
           "#2ca02c",
           "#d62728",
           "#9467bd",
           "#8c564b",
           "#e377c2",
           "#7f7f7f",
           "#bcbd22",
           "#17becf",
           "#1f77b4",
           "#ff7f0e",
           "#2ca02c",
           "#d62728",
           "#9467bd",
           "#8c564b",
           "#e377c2",
           "#7f7f7f",
           "#bcbd22",
           "#17becf",
           "#1f77b4",
           "#ff7f0e"
          ],
          "label": [
           1,
           2,
           3,
           1,
           2,
           3,
           4,
           5,
           6,
           7,
           8,
           9,
           10,
           11,
           12,
           13,
           14,
           15,
           16,
           17,
           18,
           1,
           2,
           3,
           4,
           5,
           6,
           7,
           8,
           9,
           10,
           11,
           12,
           13,
           1,
           2,
           3,
           4,
           5,
           6,
           7,
           8,
           9,
           10,
           11,
           1,
           2,
           3,
           4,
           5,
           6,
           7,
           8,
           9,
           10,
           11,
           12,
           13,
           14,
           15,
           16,
           17,
           "B Cells",
           "CD8+ T Cells",
           "Central Memory T Cells",
           "Classical Monocytes",
           "Dendritic Cells",
           "Intermediate Monocytes",
           "NK Cells",
           "NKT Cells",
           "Naive T Cells",
           "Terminal Effector T Cells"
          ],
          "line": {
           "color": "black",
           "width": 0.5
          },
          "pad": 15,
          "thickness": 20
         },
         "type": "sankey"
        }
       ],
       "layout": {
        "annotations": [
         {
          "showarrow": false,
          "text": "monocle",
          "x": 0,
          "xref": "x",
          "y": 1.05,
          "yref": "paper"
         },
         {
          "showarrow": false,
          "text": "scanpy",
          "x": 1,
          "xref": "x",
          "y": 1.05,
          "yref": "paper"
         },
         {
          "showarrow": false,
          "text": "scvi-tools",
          "x": 2,
          "xref": "x",
          "y": 1.05,
          "yref": "paper"
         },
         {
          "showarrow": false,
          "text": "seurat",
          "x": 3,
          "xref": "x",
          "y": 1.05,
          "yref": "paper"
         },
         {
          "showarrow": false,
          "text": "COTAN",
          "x": 4,
          "xref": "x",
          "y": 1.05,
          "yref": "paper"
         },
         {
          "showarrow": false,
          "text": "antibody",
          "x": 5,
          "xref": "x",
          "y": 1.05,
          "yref": "paper"
         }
        ],
        "font": {
         "size": 10
        },
        "height": 450,
        "plot_bgcolor": "rgba(0,0,0,0)",
        "template": {
         "data": {
          "bar": [
           {
            "error_x": {
             "color": "#2a3f5f"
            },
            "error_y": {
             "color": "#2a3f5f"
            },
            "marker": {
             "line": {
              "color": "#E5ECF6",
              "width": 0.5
             },
             "pattern": {
              "fillmode": "overlay",
              "size": 10,
              "solidity": 0.2
             }
            },
            "type": "bar"
           }
          ],
          "barpolar": [
           {
            "marker": {
             "line": {
              "color": "#E5ECF6",
              "width": 0.5
             },
             "pattern": {
              "fillmode": "overlay",
              "size": 10,
              "solidity": 0.2
             }
            },
            "type": "barpolar"
           }
          ],
          "carpet": [
           {
            "aaxis": {
             "endlinecolor": "#2a3f5f",
             "gridcolor": "white",
             "linecolor": "white",
             "minorgridcolor": "white",
             "startlinecolor": "#2a3f5f"
            },
            "baxis": {
             "endlinecolor": "#2a3f5f",
             "gridcolor": "white",
             "linecolor": "white",
             "minorgridcolor": "white",
             "startlinecolor": "#2a3f5f"
            },
            "type": "carpet"
           }
          ],
          "choropleth": [
           {
            "colorbar": {
             "outlinewidth": 0,
             "ticks": ""
            },
            "type": "choropleth"
           }
          ],
          "contour": [
           {
            "colorbar": {
             "outlinewidth": 0,
             "ticks": ""
            },
            "colorscale": [
             [
              0,
              "#0d0887"
             ],
             [
              0.1111111111111111,
              "#46039f"
             ],
             [
              0.2222222222222222,
              "#7201a8"
             ],
             [
              0.3333333333333333,
              "#9c179e"
             ],
             [
              0.4444444444444444,
              "#bd3786"
             ],
             [
              0.5555555555555556,
              "#d8576b"
             ],
             [
              0.6666666666666666,
              "#ed7953"
             ],
             [
              0.7777777777777778,
              "#fb9f3a"
             ],
             [
              0.8888888888888888,
              "#fdca26"
             ],
             [
              1,
              "#f0f921"
             ]
            ],
            "type": "contour"
           }
          ],
          "contourcarpet": [
           {
            "colorbar": {
             "outlinewidth": 0,
             "ticks": ""
            },
            "type": "contourcarpet"
           }
          ],
          "heatmap": [
           {
            "colorbar": {
             "outlinewidth": 0,
             "ticks": ""
            },
            "colorscale": [
             [
              0,
              "#0d0887"
             ],
             [
              0.1111111111111111,
              "#46039f"
             ],
             [
              0.2222222222222222,
              "#7201a8"
             ],
             [
              0.3333333333333333,
              "#9c179e"
             ],
             [
              0.4444444444444444,
              "#bd3786"
             ],
             [
              0.5555555555555556,
              "#d8576b"
             ],
             [
              0.6666666666666666,
              "#ed7953"
             ],
             [
              0.7777777777777778,
              "#fb9f3a"
             ],
             [
              0.8888888888888888,
              "#fdca26"
             ],
             [
              1,
              "#f0f921"
             ]
            ],
            "type": "heatmap"
           }
          ],
          "heatmapgl": [
           {
            "colorbar": {
             "outlinewidth": 0,
             "ticks": ""
            },
            "colorscale": [
             [
              0,
              "#0d0887"
             ],
             [
              0.1111111111111111,
              "#46039f"
             ],
             [
              0.2222222222222222,
              "#7201a8"
             ],
             [
              0.3333333333333333,
              "#9c179e"
             ],
             [
              0.4444444444444444,
              "#bd3786"
             ],
             [
              0.5555555555555556,
              "#d8576b"
             ],
             [
              0.6666666666666666,
              "#ed7953"
             ],
             [
              0.7777777777777778,
              "#fb9f3a"
             ],
             [
              0.8888888888888888,
              "#fdca26"
             ],
             [
              1,
              "#f0f921"
             ]
            ],
            "type": "heatmapgl"
           }
          ],
          "histogram": [
           {
            "marker": {
             "pattern": {
              "fillmode": "overlay",
              "size": 10,
              "solidity": 0.2
             }
            },
            "type": "histogram"
           }
          ],
          "histogram2d": [
           {
            "colorbar": {
             "outlinewidth": 0,
             "ticks": ""
            },
            "colorscale": [
             [
              0,
              "#0d0887"
             ],
             [
              0.1111111111111111,
              "#46039f"
             ],
             [
              0.2222222222222222,
              "#7201a8"
             ],
             [
              0.3333333333333333,
              "#9c179e"
             ],
             [
              0.4444444444444444,
              "#bd3786"
             ],
             [
              0.5555555555555556,
              "#d8576b"
             ],
             [
              0.6666666666666666,
              "#ed7953"
             ],
             [
              0.7777777777777778,
              "#fb9f3a"
             ],
             [
              0.8888888888888888,
              "#fdca26"
             ],
             [
              1,
              "#f0f921"
             ]
            ],
            "type": "histogram2d"
           }
          ],
          "histogram2dcontour": [
           {
            "colorbar": {
             "outlinewidth": 0,
             "ticks": ""
            },
            "colorscale": [
             [
              0,
              "#0d0887"
             ],
             [
              0.1111111111111111,
              "#46039f"
             ],
             [
              0.2222222222222222,
              "#7201a8"
             ],
             [
              0.3333333333333333,
              "#9c179e"
             ],
             [
              0.4444444444444444,
              "#bd3786"
             ],
             [
              0.5555555555555556,
              "#d8576b"
             ],
             [
              0.6666666666666666,
              "#ed7953"
             ],
             [
              0.7777777777777778,
              "#fb9f3a"
             ],
             [
              0.8888888888888888,
              "#fdca26"
             ],
             [
              1,
              "#f0f921"
             ]
            ],
            "type": "histogram2dcontour"
           }
          ],
          "mesh3d": [
           {
            "colorbar": {
             "outlinewidth": 0,
             "ticks": ""
            },
            "type": "mesh3d"
           }
          ],
          "parcoords": [
           {
            "line": {
             "colorbar": {
              "outlinewidth": 0,
              "ticks": ""
             }
            },
            "type": "parcoords"
           }
          ],
          "pie": [
           {
            "automargin": true,
            "type": "pie"
           }
          ],
          "scatter": [
           {
            "fillpattern": {
             "fillmode": "overlay",
             "size": 10,
             "solidity": 0.2
            },
            "type": "scatter"
           }
          ],
          "scatter3d": [
           {
            "line": {
             "colorbar": {
              "outlinewidth": 0,
              "ticks": ""
             }
            },
            "marker": {
             "colorbar": {
              "outlinewidth": 0,
              "ticks": ""
             }
            },
            "type": "scatter3d"
           }
          ],
          "scattercarpet": [
           {
            "marker": {
             "colorbar": {
              "outlinewidth": 0,
              "ticks": ""
             }
            },
            "type": "scattercarpet"
           }
          ],
          "scattergeo": [
           {
            "marker": {
             "colorbar": {
              "outlinewidth": 0,
              "ticks": ""
             }
            },
            "type": "scattergeo"
           }
          ],
          "scattergl": [
           {
            "marker": {
             "colorbar": {
              "outlinewidth": 0,
              "ticks": ""
             }
            },
            "type": "scattergl"
           }
          ],
          "scattermapbox": [
           {
            "marker": {
             "colorbar": {
              "outlinewidth": 0,
              "ticks": ""
             }
            },
            "type": "scattermapbox"
           }
          ],
          "scatterpolar": [
           {
            "marker": {
             "colorbar": {
              "outlinewidth": 0,
              "ticks": ""
             }
            },
            "type": "scatterpolar"
           }
          ],
          "scatterpolargl": [
           {
            "marker": {
             "colorbar": {
              "outlinewidth": 0,
              "ticks": ""
             }
            },
            "type": "scatterpolargl"
           }
          ],
          "scatterternary": [
           {
            "marker": {
             "colorbar": {
              "outlinewidth": 0,
              "ticks": ""
             }
            },
            "type": "scatterternary"
           }
          ],
          "surface": [
           {
            "colorbar": {
             "outlinewidth": 0,
             "ticks": ""
            },
            "colorscale": [
             [
              0,
              "#0d0887"
             ],
             [
              0.1111111111111111,
              "#46039f"
             ],
             [
              0.2222222222222222,
              "#7201a8"
             ],
             [
              0.3333333333333333,
              "#9c179e"
             ],
             [
              0.4444444444444444,
              "#bd3786"
             ],
             [
              0.5555555555555556,
              "#d8576b"
             ],
             [
              0.6666666666666666,
              "#ed7953"
             ],
             [
              0.7777777777777778,
              "#fb9f3a"
             ],
             [
              0.8888888888888888,
              "#fdca26"
             ],
             [
              1,
              "#f0f921"
             ]
            ],
            "type": "surface"
           }
          ],
          "table": [
           {
            "cells": {
             "fill": {
              "color": "#EBF0F8"
             },
             "line": {
              "color": "white"
             }
            },
            "header": {
             "fill": {
              "color": "#C8D4E3"
             },
             "line": {
              "color": "white"
             }
            },
            "type": "table"
           }
          ]
         },
         "layout": {
          "annotationdefaults": {
           "arrowcolor": "#2a3f5f",
           "arrowhead": 0,
           "arrowwidth": 1
          },
          "autotypenumbers": "strict",
          "coloraxis": {
           "colorbar": {
            "outlinewidth": 0,
            "ticks": ""
           }
          },
          "colorscale": {
           "diverging": [
            [
             0,
             "#8e0152"
            ],
            [
             0.1,
             "#c51b7d"
            ],
            [
             0.2,
             "#de77ae"
            ],
            [
             0.3,
             "#f1b6da"
            ],
            [
             0.4,
             "#fde0ef"
            ],
            [
             0.5,
             "#f7f7f7"
            ],
            [
             0.6,
             "#e6f5d0"
            ],
            [
             0.7,
             "#b8e186"
            ],
            [
             0.8,
             "#7fbc41"
            ],
            [
             0.9,
             "#4d9221"
            ],
            [
             1,
             "#276419"
            ]
           ],
           "sequential": [
            [
             0,
             "#0d0887"
            ],
            [
             0.1111111111111111,
             "#46039f"
            ],
            [
             0.2222222222222222,
             "#7201a8"
            ],
            [
             0.3333333333333333,
             "#9c179e"
            ],
            [
             0.4444444444444444,
             "#bd3786"
            ],
            [
             0.5555555555555556,
             "#d8576b"
            ],
            [
             0.6666666666666666,
             "#ed7953"
            ],
            [
             0.7777777777777778,
             "#fb9f3a"
            ],
            [
             0.8888888888888888,
             "#fdca26"
            ],
            [
             1,
             "#f0f921"
            ]
           ],
           "sequentialminus": [
            [
             0,
             "#0d0887"
            ],
            [
             0.1111111111111111,
             "#46039f"
            ],
            [
             0.2222222222222222,
             "#7201a8"
            ],
            [
             0.3333333333333333,
             "#9c179e"
            ],
            [
             0.4444444444444444,
             "#bd3786"
            ],
            [
             0.5555555555555556,
             "#d8576b"
            ],
            [
             0.6666666666666666,
             "#ed7953"
            ],
            [
             0.7777777777777778,
             "#fb9f3a"
            ],
            [
             0.8888888888888888,
             "#fdca26"
            ],
            [
             1,
             "#f0f921"
            ]
           ]
          },
          "colorway": [
           "#636efa",
           "#EF553B",
           "#00cc96",
           "#ab63fa",
           "#FFA15A",
           "#19d3f3",
           "#FF6692",
           "#B6E880",
           "#FF97FF",
           "#FECB52"
          ],
          "font": {
           "color": "#2a3f5f"
          },
          "geo": {
           "bgcolor": "white",
           "lakecolor": "white",
           "landcolor": "#E5ECF6",
           "showlakes": true,
           "showland": true,
           "subunitcolor": "white"
          },
          "hoverlabel": {
           "align": "left"
          },
          "hovermode": "closest",
          "mapbox": {
           "style": "light"
          },
          "paper_bgcolor": "white",
          "plot_bgcolor": "#E5ECF6",
          "polar": {
           "angularaxis": {
            "gridcolor": "white",
            "linecolor": "white",
            "ticks": ""
           },
           "bgcolor": "#E5ECF6",
           "radialaxis": {
            "gridcolor": "white",
            "linecolor": "white",
            "ticks": ""
           }
          },
          "scene": {
           "xaxis": {
            "backgroundcolor": "#E5ECF6",
            "gridcolor": "white",
            "gridwidth": 2,
            "linecolor": "white",
            "showbackground": true,
            "ticks": "",
            "zerolinecolor": "white"
           },
           "yaxis": {
            "backgroundcolor": "#E5ECF6",
            "gridcolor": "white",
            "gridwidth": 2,
            "linecolor": "white",
            "showbackground": true,
            "ticks": "",
            "zerolinecolor": "white"
           },
           "zaxis": {
            "backgroundcolor": "#E5ECF6",
            "gridcolor": "white",
            "gridwidth": 2,
            "linecolor": "white",
            "showbackground": true,
            "ticks": "",
            "zerolinecolor": "white"
           }
          },
          "shapedefaults": {
           "line": {
            "color": "#2a3f5f"
           }
          },
          "ternary": {
           "aaxis": {
            "gridcolor": "white",
            "linecolor": "white",
            "ticks": ""
           },
           "baxis": {
            "gridcolor": "white",
            "linecolor": "white",
            "ticks": ""
           },
           "bgcolor": "#E5ECF6",
           "caxis": {
            "gridcolor": "white",
            "linecolor": "white",
            "ticks": ""
           }
          },
          "title": {
           "x": 0.05
          },
          "xaxis": {
           "automargin": true,
           "gridcolor": "white",
           "linecolor": "white",
           "ticks": "",
           "title": {
            "standoff": 15
           },
           "zerolinecolor": "white",
           "zerolinewidth": 2
          },
          "yaxis": {
           "automargin": true,
           "gridcolor": "white",
           "linecolor": "white",
           "ticks": "",
           "title": {
            "standoff": 15
           },
           "zerolinecolor": "white",
           "zerolinewidth": 2
          }
         }
        },
        "title": {
         "text": "PBMC1 - default labels"
        },
        "width": 700,
        "xaxis": {
         "showgrid": false,
         "visible": false,
         "zeroline": false
        },
        "yaxis": {
         "showgrid": false,
         "visible": false,
         "zeroline": false
        }
       }
      }
     },
     "metadata": {},
     "output_type": "display_data"
    },
    {
     "name": "stdout",
     "output_type": "stream",
     "text": [
      "------------------------------\n",
      "PBMC3 - default labels\n"
     ]
    },
    {
     "name": "stderr",
     "output_type": "stream",
     "text": [
      "/Users/irenetesta/anaconda3/envs/chl/lib/python3.11/site-packages/anndata/_core/anndata.py:1113: FutureWarning:\n",
      "\n",
      "is_categorical_dtype is deprecated and will be removed in a future version. Use isinstance(dtype, CategoricalDtype) instead\n",
      "\n"
     ]
    },
    {
     "data": {
      "text/html": [
       "<div>\n",
       "<style scoped>\n",
       "    .dataframe tbody tr th:only-of-type {\n",
       "        vertical-align: middle;\n",
       "    }\n",
       "\n",
       "    .dataframe tbody tr th {\n",
       "        vertical-align: top;\n",
       "    }\n",
       "\n",
       "    .dataframe thead th {\n",
       "        text-align: right;\n",
       "    }\n",
       "</style>\n",
       "<table border=\"1\" class=\"dataframe\">\n",
       "  <thead>\n",
       "    <tr style=\"text-align: right;\">\n",
       "      <th></th>\n",
       "      <th>NMI</th>\n",
       "      <th>ARI</th>\n",
       "      <th>homogeneity</th>\n",
       "      <th>completeness</th>\n",
       "      <th>v_measure</th>\n",
       "      <th>fowlkes_mallows</th>\n",
       "    </tr>\n",
       "  </thead>\n",
       "  <tbody>\n",
       "    <tr>\n",
       "      <th>monocle</th>\n",
       "      <td>0.512556</td>\n",
       "      <td>0.273175</td>\n",
       "      <td>0.350038</td>\n",
       "      <td>0.956777</td>\n",
       "      <td>0.512556</td>\n",
       "      <td>0.539835</td>\n",
       "    </tr>\n",
       "    <tr>\n",
       "      <th>scanpy</th>\n",
       "      <td>0.677829</td>\n",
       "      <td>0.412995</td>\n",
       "      <td>0.770393</td>\n",
       "      <td>0.605122</td>\n",
       "      <td>0.677829</td>\n",
       "      <td>0.510203</td>\n",
       "    </tr>\n",
       "    <tr>\n",
       "      <th>scvi-tools</th>\n",
       "      <td>0.737343</td>\n",
       "      <td>0.547919</td>\n",
       "      <td>0.770748</td>\n",
       "      <td>0.706712</td>\n",
       "      <td>0.737343</td>\n",
       "      <td>0.617917</td>\n",
       "    </tr>\n",
       "    <tr>\n",
       "      <th>seurat</th>\n",
       "      <td>0.753801</td>\n",
       "      <td>0.524471</td>\n",
       "      <td>0.819448</td>\n",
       "      <td>0.697892</td>\n",
       "      <td>0.753801</td>\n",
       "      <td>0.603038</td>\n",
       "    </tr>\n",
       "    <tr>\n",
       "      <th>COTAN</th>\n",
       "      <td>0.677317</td>\n",
       "      <td>0.394179</td>\n",
       "      <td>0.872352</td>\n",
       "      <td>0.553556</td>\n",
       "      <td>0.677317</td>\n",
       "      <td>0.515965</td>\n",
       "    </tr>\n",
       "  </tbody>\n",
       "</table>\n",
       "</div>"
      ],
      "text/plain": [
       "                 NMI       ARI  homogeneity  completeness  v_measure  \\\n",
       "monocle     0.512556  0.273175     0.350038      0.956777   0.512556   \n",
       "scanpy      0.677829  0.412995     0.770393      0.605122   0.677829   \n",
       "scvi-tools  0.737343  0.547919     0.770748      0.706712   0.737343   \n",
       "seurat      0.753801  0.524471     0.819448      0.697892   0.753801   \n",
       "COTAN       0.677317  0.394179     0.872352      0.553556   0.677317   \n",
       "\n",
       "            fowlkes_mallows  \n",
       "monocle            0.539835  \n",
       "scanpy             0.510203  \n",
       "scvi-tools         0.617917  \n",
       "seurat             0.603038  \n",
       "COTAN              0.515965  "
      ]
     },
     "metadata": {},
     "output_type": "display_data"
    },
    {
     "data": {
      "application/vnd.plotly.v1+json": {
       "config": {
        "plotlyServerURL": "https://plot.ly"
       },
       "data": [
        {
         "link": {
          "source": [
           0,
           0,
           0,
           0,
           0,
           0,
           0,
           0,
           0,
           0,
           0,
           0,
           0,
           0,
           0,
           1,
           1,
           1,
           1,
           1,
           1,
           1,
           1,
           1,
           1,
           2,
           2,
           2,
           2,
           3,
           3,
           3,
           3,
           3,
           3,
           4,
           4,
           4,
           4,
           5,
           5,
           5,
           5,
           5,
           5,
           5,
           5,
           5,
           6,
           7,
           7,
           7,
           8,
           8,
           8,
           8,
           8,
           8,
           8,
           8,
           9,
           9,
           9,
           9,
           9,
           9,
           9,
           10,
           10,
           10,
           10,
           10,
           10,
           10,
           11,
           11,
           11,
           11,
           11,
           11,
           11,
           11,
           11,
           11,
           11,
           12,
           12,
           12,
           12,
           12,
           12,
           12,
           12,
           12,
           12,
           12,
           13,
           14,
           14,
           14,
           14,
           14,
           14,
           14,
           14,
           14,
           15,
           15,
           15,
           15,
           16,
           16,
           17,
           17,
           17,
           17,
           17,
           17,
           17,
           18,
           18,
           18,
           18,
           19,
           19,
           19,
           19,
           19,
           19,
           19,
           20,
           20,
           21,
           21,
           21,
           22,
           22,
           22,
           23,
           23,
           23,
           23,
           23,
           24,
           25,
           25,
           25,
           25,
           25,
           26,
           26,
           26,
           26,
           26,
           27,
           27,
           27,
           27,
           27,
           27,
           27,
           27,
           27,
           27,
           27,
           27,
           28,
           28,
           28,
           28,
           28,
           28,
           28,
           29,
           29,
           29,
           29,
           29,
           29,
           29,
           30,
           30,
           30,
           30,
           30,
           30,
           31,
           31,
           31,
           31,
           31,
           31,
           31,
           31,
           31,
           32,
           32,
           32,
           32,
           32,
           32,
           33,
           33,
           33,
           33,
           33,
           34,
           34,
           34,
           34,
           34,
           35,
           35,
           35,
           35,
           35,
           36,
           36,
           36,
           36,
           36,
           36,
           37,
           37,
           37,
           38,
           38,
           38,
           39,
           39,
           40,
           40,
           41,
           42,
           42,
           42,
           42,
           42,
           42,
           42,
           42,
           42,
           43,
           43,
           43,
           43,
           43,
           43,
           43,
           43,
           43,
           43,
           43,
           43,
           43,
           44,
           44,
           44,
           44,
           44,
           44,
           44,
           44,
           44,
           45,
           45,
           45,
           45,
           45,
           46,
           46,
           46,
           46,
           46,
           46,
           46,
           46,
           46,
           46,
           46,
           46,
           46,
           46,
           46,
           47,
           47,
           47,
           47,
           47,
           47,
           47,
           47,
           48,
           48,
           48,
           48,
           48,
           48,
           48,
           48,
           48,
           48,
           48,
           48,
           48,
           48,
           48,
           48,
           48,
           48,
           48,
           48,
           48,
           48,
           48,
           49,
           49,
           49,
           49,
           49,
           49,
           49,
           49,
           49,
           49,
           49,
           50,
           50,
           50,
           50,
           50,
           50,
           50,
           50,
           50,
           51,
           51,
           51,
           51,
           52,
           52,
           52,
           52,
           52,
           52,
           52,
           53,
           53,
           53,
           53,
           53,
           53,
           53,
           53,
           53,
           53,
           53,
           54,
           54,
           54,
           54,
           55,
           55,
           55,
           55,
           55,
           55,
           56,
           56,
           56,
           57,
           57,
           57,
           57,
           57,
           57,
           57,
           57,
           57,
           57,
           58,
           59,
           59,
           59,
           59,
           59,
           59,
           60,
           61,
           61,
           62,
           62,
           62,
           62,
           62,
           63,
           63,
           63,
           63,
           64,
           64,
           64,
           64,
           65,
           65,
           65,
           65,
           65,
           66,
           66,
           67,
           67,
           67,
           67,
           68,
           68,
           69,
           69,
           69,
           69,
           69,
           70,
           70,
           70,
           70,
           70,
           71,
           72,
           72,
           73,
           73,
           73,
           73,
           74,
           74,
           74,
           75,
           75,
           76,
           76,
           77,
           77,
           78,
           78,
           78,
           78,
           78,
           79,
           79,
           79,
           79,
           80,
           80,
           80,
           80,
           80,
           80,
           81,
           81,
           81,
           81,
           82,
           82,
           82,
           82,
           83,
           83,
           83,
           84,
           84,
           84,
           84,
           84,
           84,
           85,
           85,
           85,
           85,
           86,
           86,
           86,
           86,
           86,
           87,
           87,
           87,
           87,
           87,
           87,
           87,
           88,
           89,
           90,
           90,
           91,
           91,
           92,
           92,
           93,
           94,
           94,
           94,
           94,
           94,
           95,
           95,
           96,
           96,
           97,
           97,
           98,
           99,
           100,
           100,
           100,
           101,
           102,
           102,
           102,
           102,
           103,
           103,
           104,
           104,
           104,
           105,
           105,
           106,
           106,
           106,
           107,
           107,
           107,
           108,
           108,
           109,
           110,
           110,
           110,
           111,
           112,
           112,
           113,
           113,
           114,
           114,
           115,
           116
          ],
          "target": [
           3,
           4,
           5,
           8,
           9,
           10,
           11,
           12,
           14,
           15,
           17,
           18,
           19,
           23,
           24,
           4,
           7,
           13,
           16,
           18,
           19,
           20,
           21,
           22,
           24,
           6,
           11,
           19,
           22,
           25,
           26,
           30,
           33,
           35,
           36,
           28,
           31,
           38,
           40,
           25,
           26,
           27,
           29,
           30,
           31,
           32,
           33,
           35,
           29,
           27,
           34,
           37,
           26,
           28,
           30,
           31,
           32,
           33,
           35,
           36,
           25,
           28,
           30,
           31,
           32,
           36,
           38,
           25,
           26,
           31,
           32,
           33,
           35,
           36,
           25,
           26,
           28,
           29,
           30,
           31,
           32,
           33,
           35,
           36,
           38,
           25,
           26,
           27,
           28,
           30,
           31,
           32,
           33,
           34,
           35,
           36,
           27,
           25,
           26,
           29,
           30,
           31,
           32,
           33,
           35,
           36,
           28,
           31,
           32,
           38,
           27,
           34,
           25,
           26,
           30,
           31,
           32,
           35,
           36,
           27,
           34,
           37,
           41,
           27,
           28,
           29,
           30,
           31,
           33,
           38,
           27,
           37,
           27,
           29,
           39,
           27,
           29,
           34,
           25,
           26,
           30,
           31,
           33,
           40,
           42,
           43,
           46,
           48,
           50,
           42,
           43,
           46,
           47,
           48,
           42,
           44,
           46,
           49,
           50,
           52,
           53,
           54,
           55,
           56,
           57,
           58,
           43,
           45,
           46,
           47,
           48,
           50,
           54,
           43,
           48,
           49,
           51,
           53,
           57,
           58,
           42,
           43,
           46,
           47,
           48,
           59,
           42,
           43,
           45,
           46,
           47,
           48,
           50,
           54,
           57,
           42,
           43,
           45,
           46,
           48,
           50,
           42,
           43,
           46,
           49,
           57,
           44,
           48,
           52,
           53,
           55,
           42,
           43,
           46,
           47,
           48,
           42,
           43,
           46,
           47,
           48,
           50,
           44,
           53,
           56,
           45,
           48,
           54,
           56,
           58,
           45,
           59,
           59,
           72,
           73,
           74,
           75,
           76,
           77,
           80,
           81,
           85,
           65,
           69,
           73,
           77,
           78,
           79,
           80,
           81,
           82,
           83,
           84,
           86,
           87,
           92,
           94,
           95,
           96,
           97,
           98,
           99,
           100,
           101,
           60,
           62,
           63,
           64,
           68,
           69,
           70,
           73,
           74,
           77,
           78,
           79,
           80,
           81,
           82,
           83,
           84,
           85,
           86,
           87,
           72,
           73,
           74,
           75,
           76,
           85,
           86,
           87,
           62,
           66,
           67,
           68,
           69,
           70,
           71,
           72,
           73,
           74,
           75,
           76,
           78,
           79,
           80,
           81,
           82,
           83,
           84,
           85,
           86,
           87,
           102,
           102,
           103,
           105,
           106,
           107,
           108,
           109,
           110,
           111,
           112,
           113,
           64,
           65,
           66,
           68,
           69,
           84,
           85,
           86,
           87,
           103,
           104,
           108,
           110,
           88,
           89,
           90,
           95,
           96,
           97,
           100,
           62,
           63,
           91,
           92,
           93,
           95,
           97,
           99,
           101,
           107,
           113,
           61,
           62,
           83,
           102,
           91,
           93,
           96,
           97,
           98,
           101,
           94,
           99,
           100,
           73,
           82,
           83,
           102,
           103,
           104,
           106,
           108,
           109,
           113,
           115,
           69,
           86,
           87,
           102,
           114,
           116,
           117,
           117,
           126,
           117,
           123,
           126,
           131,
           132,
           117,
           118,
           123,
           126,
           117,
           118,
           123,
           132,
           123,
           131,
           132,
           133,
           134,
           123,
           134,
           117,
           123,
           132,
           134,
           117,
           134,
           123,
           124,
           131,
           132,
           134,
           123,
           129,
           130,
           132,
           134,
           134,
           131,
           132,
           130,
           131,
           132,
           134,
           118,
           131,
           132,
           131,
           132,
           131,
           132,
           132,
           133,
           129,
           130,
           131,
           132,
           133,
           130,
           132,
           133,
           134,
           118,
           130,
           131,
           132,
           133,
           134,
           130,
           131,
           132,
           133,
           125,
           131,
           132,
           133,
           125,
           132,
           133,
           117,
           123,
           129,
           131,
           132,
           133,
           123,
           131,
           132,
           134,
           123,
           124,
           131,
           132,
           134,
           123,
           124,
           130,
           131,
           132,
           133,
           134,
           128,
           128,
           118,
           128,
           118,
           132,
           117,
           118,
           118,
           118,
           119,
           120,
           128,
           135,
           118,
           128,
           118,
           128,
           118,
           132,
           118,
           118,
           117,
           118,
           128,
           118,
           117,
           124,
           125,
           134,
           125,
           127,
           117,
           125,
           127,
           125,
           127,
           117,
           125,
           127,
           118,
           125,
           129,
           125,
           129,
           125,
           125,
           127,
           132,
           125,
           125,
           129,
           125,
           129,
           121,
           133,
           135,
           122
          ],
          "value": [
           1439,
           967,
           953,
           835,
           758,
           721,
           488,
           461,
           392,
           322,
           310,
           5,
           1,
           29,
           4,
           1,
           914,
           392,
           313,
           264,
           12,
           161,
           57,
           37,
           16,
           938,
           1,
           152,
           1,
           35,
           1147,
           30,
           131,
           89,
           7,
           959,
           4,
           4,
           1,
           793,
           8,
           1,
           1,
           1,
           6,
           3,
           83,
           57,
           938,
           895,
           11,
           8,
           10,
           1,
           811,
           8,
           1,
           1,
           2,
           1,
           13,
           5,
           1,
           302,
           282,
           149,
           6,
           479,
           111,
           12,
           6,
           60,
           47,
           6,
           278,
           2,
           2,
           3,
           1,
           98,
           49,
           8,
           16,
           29,
           3,
           103,
           248,
           2,
           1,
           9,
           8,
           3,
           43,
           1,
           42,
           1,
           392,
           125,
           101,
           2,
           57,
           44,
           13,
           24,
           18,
           8,
           227,
           9,
           1,
           85,
           12,
           301,
           9,
           6,
           45,
           205,
           12,
           6,
           27,
           255,
           1,
           2,
           11,
           2,
           1,
           140,
           12,
           1,
           8,
           1,
           9,
           152,
           1,
           1,
           55,
           36,
           1,
           1,
           2,
           21,
           1,
           1,
           4,
           20,
           42,
           1132,
           621,
           22,
           20,
           1401,
           24,
           211,
           5,
           13,
           2,
           1095,
           1,
           1,
           1,
           14,
           247,
           1,
           232,
           8,
           2,
           1,
           1,
           1036,
           1,
           1,
           3,
           2,
           152,
           1,
           2,
           592,
           338,
           1,
           151,
           1,
           22,
           2,
           1,
           888,
           43,
           12,
           1,
           31,
           4,
           11,
           12,
           631,
           4,
           3,
           1,
           1,
           47,
           1,
           5,
           11,
           305,
           171,
           94,
           89,
           7,
           1,
           5,
           1,
           305,
           3,
           1,
           121,
           91,
           57,
           1,
           7,
           8,
           16,
           3,
           1,
           64,
           136,
           8,
           2,
           152,
           6,
           1,
           92,
           5,
           50,
           1,
           20,
           11,
           2,
           103,
           1630,
           2,
           1,
           1,
           8,
           20,
           2,
           6,
           2,
           3,
           2,
           4,
           4,
           168,
           74,
           318,
           373,
           470,
           11,
           4,
           5,
           1,
           16,
           99,
           64,
           222,
           136,
           223,
           342,
           11,
           1,
           101,
           934,
           1,
           1,
           5,
           29,
           56,
           11,
           145,
           54,
           101,
           528,
           54,
           2,
           9,
           2,
           1,
           2,
           40,
           47,
           2,
           419,
           391,
           1,
           6,
           2,
           2,
           2,
           26,
           59,
           177,
           32,
           28,
           3,
           3,
           4,
           5,
           1,
           1,
           9,
           6,
           4,
           8,
           2,
           15,
           66,
           283,
           61,
           1,
           22,
           12,
           21,
           30,
           23,
           91,
           58,
           251,
           58,
           25,
           9,
           2,
           326,
           131,
           1,
           1,
           3,
           1,
           1,
           2,
           331,
           2,
           1,
           4,
           40,
           159,
           64,
           1,
           53,
           1,
           1,
           1,
           1,
           64,
           20,
           31,
           129,
           1,
           1,
           3,
           1,
           1,
           100,
           146,
           1,
           1,
           2,
           1,
           1,
           223,
           1,
           5,
           161,
           3,
           1,
           2,
           1,
           1,
           1,
           1,
           136,
           3,
           3,
           1,
           6,
           52,
           1,
           1,
           1,
           17,
           11,
           12,
           11,
           3,
           97,
           144,
           1,
           2,
           1,
           2,
           96,
           1,
           3,
           2,
           932,
           1,
           2,
           1,
           308,
           1,
           12,
           10,
           1,
           132,
           1,
           1,
           1,
           5,
           19,
           1,
           60,
           2,
           1,
           4,
           12,
           163,
           2,
           9,
           1,
           1,
           24,
           28,
           38,
           7,
           1,
           52,
           130,
           4,
           1,
           6,
           1685,
           416,
           10,
           389,
           4,
           13,
           1,
           1,
           126,
           1,
           15,
           7,
           3,
           53,
           8,
           3,
           1,
           15,
           1,
           253,
           9,
           4,
           27,
           4,
           573,
           22,
           1,
           3,
           112,
           265,
           1,
           104,
           274,
           1,
           13,
           2,
           13,
           373,
           95,
           2,
           4,
           65,
           1,
           3,
           1,
           204,
           38,
           57,
           2,
           1,
           1,
           11,
           52,
           1,
           4,
           40,
           159,
           2,
           62,
           64,
           2,
           22,
           3,
           32,
           6,
           8,
           141,
           2,
           5,
           143,
           3,
           65,
           88,
           288,
           1,
           223,
           140,
           1,
           221,
           3,
           350,
           3,
           17,
           21,
           1,
           30,
           314,
           25,
           108,
           5,
           20,
           1,
           2,
           30,
           1,
           1,
           22,
           1,
           94,
           1,
           59,
           199,
           55,
           1,
           58,
           23,
           2,
           12,
           4,
           10,
           1,
           52,
           12
          ]
         },
         "node": {
          "color": [
           "#1f77b4",
           "#ff7f0e",
           "#2ca02c",
           "#d62728",
           "#9467bd",
           "#8c564b",
           "#e377c2",
           "#7f7f7f",
           "#bcbd22",
           "#17becf",
           "#1f77b4",
           "#ff7f0e",
           "#2ca02c",
           "#d62728",
           "#9467bd",
           "#8c564b",
           "#e377c2",
           "#7f7f7f",
           "#bcbd22",
           "#17becf",
           "#1f77b4",
           "#ff7f0e",
           "#2ca02c",
           "#d62728",
           "#9467bd",
           "#8c564b",
           "#e377c2",
           "#7f7f7f",
           "#bcbd22",
           "#17becf",
           "#1f77b4",
           "#ff7f0e",
           "#2ca02c",
           "#d62728",
           "#9467bd",
           "#8c564b",
           "#e377c2",
           "#7f7f7f",
           "#bcbd22",
           "#17becf",
           "#1f77b4",
           "#ff7f0e",
           "#2ca02c",
           "#d62728",
           "#9467bd",
           "#8c564b",
           "#e377c2",
           "#7f7f7f",
           "#bcbd22",
           "#17becf",
           "#1f77b4",
           "#ff7f0e",
           "#2ca02c",
           "#d62728",
           "#9467bd",
           "#8c564b",
           "#e377c2",
           "#7f7f7f",
           "#bcbd22",
           "#17becf",
           "#1f77b4",
           "#ff7f0e",
           "#2ca02c",
           "#d62728",
           "#9467bd",
           "#8c564b",
           "#e377c2",
           "#7f7f7f",
           "#bcbd22",
           "#17becf",
           "#1f77b4",
           "#ff7f0e",
           "#2ca02c",
           "#d62728",
           "#9467bd",
           "#8c564b",
           "#e377c2",
           "#7f7f7f",
           "#bcbd22",
           "#17becf",
           "#1f77b4",
           "#ff7f0e",
           "#2ca02c",
           "#d62728",
           "#9467bd",
           "#8c564b",
           "#e377c2",
           "#7f7f7f",
           "#bcbd22",
           "#17becf",
           "#1f77b4",
           "#ff7f0e",
           "#2ca02c",
           "#d62728",
           "#9467bd",
           "#8c564b",
           "#e377c2",
           "#7f7f7f",
           "#bcbd22",
           "#17becf",
           "#1f77b4",
           "#ff7f0e",
           "#2ca02c",
           "#d62728",
           "#9467bd",
           "#8c564b",
           "#e377c2",
           "#7f7f7f",
           "#bcbd22",
           "#17becf",
           "#1f77b4",
           "#ff7f0e",
           "#2ca02c",
           "#d62728",
           "#9467bd",
           "#8c564b",
           "#e377c2",
           "#7f7f7f",
           "#bcbd22",
           "#17becf",
           "#1f77b4",
           "#ff7f0e",
           "#2ca02c",
           "#d62728",
           "#9467bd",
           "#8c564b",
           "#e377c2",
           "#7f7f7f",
           "#bcbd22",
           "#17becf",
           "#1f77b4",
           "#ff7f0e",
           "#2ca02c",
           "#d62728",
           "#9467bd",
           "#8c564b"
          ],
          "label": [
           1,
           2,
           3,
           1,
           2,
           3,
           4,
           5,
           6,
           7,
           8,
           9,
           10,
           11,
           12,
           13,
           14,
           15,
           16,
           17,
           18,
           19,
           20,
           21,
           22,
           1,
           2,
           3,
           4,
           5,
           6,
           7,
           8,
           9,
           10,
           11,
           12,
           13,
           14,
           15,
           16,
           17,
           1,
           2,
           3,
           4,
           5,
           6,
           7,
           8,
           9,
           10,
           11,
           12,
           13,
           14,
           15,
           16,
           17,
           18,
           1,
           2,
           3,
           4,
           5,
           6,
           7,
           8,
           9,
           10,
           11,
           12,
           13,
           14,
           15,
           16,
           17,
           18,
           19,
           20,
           21,
           22,
           23,
           24,
           25,
           26,
           27,
           28,
           29,
           30,
           31,
           32,
           33,
           34,
           35,
           36,
           37,
           38,
           39,
           40,
           41,
           42,
           43,
           44,
           45,
           46,
           47,
           48,
           49,
           50,
           51,
           52,
           53,
           54,
           55,
           56,
           57,
           "CD16+ NK cells",
           "Classical monocytes",
           "DC1",
           "DC2",
           "Epithelial cells",
           "HSC/MPP",
           "MAIT cells",
           "Megakaryocytes/platelets",
           "Memory B cells",
           "NK cells",
           "Naive B cells",
           "Non-classical monocytes",
           "Plasma cells",
           "Regulatory T cells",
           "Tcm/Naive cytotoxic T cells",
           "Tcm/Naive helper T cells",
           "Tem/Effector helper T cells",
           "Tem/Trm cytotoxic T cells",
           "pDC"
          ],
          "line": {
           "color": "black",
           "width": 0.5
          },
          "pad": 15,
          "thickness": 20
         },
         "type": "sankey"
        }
       ],
       "layout": {
        "annotations": [
         {
          "showarrow": false,
          "text": "monocle",
          "x": 0,
          "xref": "x",
          "y": 1.05,
          "yref": "paper"
         },
         {
          "showarrow": false,
          "text": "scanpy",
          "x": 1,
          "xref": "x",
          "y": 1.05,
          "yref": "paper"
         },
         {
          "showarrow": false,
          "text": "scvi-tools",
          "x": 2,
          "xref": "x",
          "y": 1.05,
          "yref": "paper"
         },
         {
          "showarrow": false,
          "text": "seurat",
          "x": 3,
          "xref": "x",
          "y": 1.05,
          "yref": "paper"
         },
         {
          "showarrow": false,
          "text": "COTAN",
          "x": 4,
          "xref": "x",
          "y": 1.05,
          "yref": "paper"
         },
         {
          "showarrow": false,
          "text": "celltypist",
          "x": 5,
          "xref": "x",
          "y": 1.05,
          "yref": "paper"
         }
        ],
        "font": {
         "size": 10
        },
        "height": 450,
        "plot_bgcolor": "rgba(0,0,0,0)",
        "template": {
         "data": {
          "bar": [
           {
            "error_x": {
             "color": "#2a3f5f"
            },
            "error_y": {
             "color": "#2a3f5f"
            },
            "marker": {
             "line": {
              "color": "#E5ECF6",
              "width": 0.5
             },
             "pattern": {
              "fillmode": "overlay",
              "size": 10,
              "solidity": 0.2
             }
            },
            "type": "bar"
           }
          ],
          "barpolar": [
           {
            "marker": {
             "line": {
              "color": "#E5ECF6",
              "width": 0.5
             },
             "pattern": {
              "fillmode": "overlay",
              "size": 10,
              "solidity": 0.2
             }
            },
            "type": "barpolar"
           }
          ],
          "carpet": [
           {
            "aaxis": {
             "endlinecolor": "#2a3f5f",
             "gridcolor": "white",
             "linecolor": "white",
             "minorgridcolor": "white",
             "startlinecolor": "#2a3f5f"
            },
            "baxis": {
             "endlinecolor": "#2a3f5f",
             "gridcolor": "white",
             "linecolor": "white",
             "minorgridcolor": "white",
             "startlinecolor": "#2a3f5f"
            },
            "type": "carpet"
           }
          ],
          "choropleth": [
           {
            "colorbar": {
             "outlinewidth": 0,
             "ticks": ""
            },
            "type": "choropleth"
           }
          ],
          "contour": [
           {
            "colorbar": {
             "outlinewidth": 0,
             "ticks": ""
            },
            "colorscale": [
             [
              0,
              "#0d0887"
             ],
             [
              0.1111111111111111,
              "#46039f"
             ],
             [
              0.2222222222222222,
              "#7201a8"
             ],
             [
              0.3333333333333333,
              "#9c179e"
             ],
             [
              0.4444444444444444,
              "#bd3786"
             ],
             [
              0.5555555555555556,
              "#d8576b"
             ],
             [
              0.6666666666666666,
              "#ed7953"
             ],
             [
              0.7777777777777778,
              "#fb9f3a"
             ],
             [
              0.8888888888888888,
              "#fdca26"
             ],
             [
              1,
              "#f0f921"
             ]
            ],
            "type": "contour"
           }
          ],
          "contourcarpet": [
           {
            "colorbar": {
             "outlinewidth": 0,
             "ticks": ""
            },
            "type": "contourcarpet"
           }
          ],
          "heatmap": [
           {
            "colorbar": {
             "outlinewidth": 0,
             "ticks": ""
            },
            "colorscale": [
             [
              0,
              "#0d0887"
             ],
             [
              0.1111111111111111,
              "#46039f"
             ],
             [
              0.2222222222222222,
              "#7201a8"
             ],
             [
              0.3333333333333333,
              "#9c179e"
             ],
             [
              0.4444444444444444,
              "#bd3786"
             ],
             [
              0.5555555555555556,
              "#d8576b"
             ],
             [
              0.6666666666666666,
              "#ed7953"
             ],
             [
              0.7777777777777778,
              "#fb9f3a"
             ],
             [
              0.8888888888888888,
              "#fdca26"
             ],
             [
              1,
              "#f0f921"
             ]
            ],
            "type": "heatmap"
           }
          ],
          "heatmapgl": [
           {
            "colorbar": {
             "outlinewidth": 0,
             "ticks": ""
            },
            "colorscale": [
             [
              0,
              "#0d0887"
             ],
             [
              0.1111111111111111,
              "#46039f"
             ],
             [
              0.2222222222222222,
              "#7201a8"
             ],
             [
              0.3333333333333333,
              "#9c179e"
             ],
             [
              0.4444444444444444,
              "#bd3786"
             ],
             [
              0.5555555555555556,
              "#d8576b"
             ],
             [
              0.6666666666666666,
              "#ed7953"
             ],
             [
              0.7777777777777778,
              "#fb9f3a"
             ],
             [
              0.8888888888888888,
              "#fdca26"
             ],
             [
              1,
              "#f0f921"
             ]
            ],
            "type": "heatmapgl"
           }
          ],
          "histogram": [
           {
            "marker": {
             "pattern": {
              "fillmode": "overlay",
              "size": 10,
              "solidity": 0.2
             }
            },
            "type": "histogram"
           }
          ],
          "histogram2d": [
           {
            "colorbar": {
             "outlinewidth": 0,
             "ticks": ""
            },
            "colorscale": [
             [
              0,
              "#0d0887"
             ],
             [
              0.1111111111111111,
              "#46039f"
             ],
             [
              0.2222222222222222,
              "#7201a8"
             ],
             [
              0.3333333333333333,
              "#9c179e"
             ],
             [
              0.4444444444444444,
              "#bd3786"
             ],
             [
              0.5555555555555556,
              "#d8576b"
             ],
             [
              0.6666666666666666,
              "#ed7953"
             ],
             [
              0.7777777777777778,
              "#fb9f3a"
             ],
             [
              0.8888888888888888,
              "#fdca26"
             ],
             [
              1,
              "#f0f921"
             ]
            ],
            "type": "histogram2d"
           }
          ],
          "histogram2dcontour": [
           {
            "colorbar": {
             "outlinewidth": 0,
             "ticks": ""
            },
            "colorscale": [
             [
              0,
              "#0d0887"
             ],
             [
              0.1111111111111111,
              "#46039f"
             ],
             [
              0.2222222222222222,
              "#7201a8"
             ],
             [
              0.3333333333333333,
              "#9c179e"
             ],
             [
              0.4444444444444444,
              "#bd3786"
             ],
             [
              0.5555555555555556,
              "#d8576b"
             ],
             [
              0.6666666666666666,
              "#ed7953"
             ],
             [
              0.7777777777777778,
              "#fb9f3a"
             ],
             [
              0.8888888888888888,
              "#fdca26"
             ],
             [
              1,
              "#f0f921"
             ]
            ],
            "type": "histogram2dcontour"
           }
          ],
          "mesh3d": [
           {
            "colorbar": {
             "outlinewidth": 0,
             "ticks": ""
            },
            "type": "mesh3d"
           }
          ],
          "parcoords": [
           {
            "line": {
             "colorbar": {
              "outlinewidth": 0,
              "ticks": ""
             }
            },
            "type": "parcoords"
           }
          ],
          "pie": [
           {
            "automargin": true,
            "type": "pie"
           }
          ],
          "scatter": [
           {
            "fillpattern": {
             "fillmode": "overlay",
             "size": 10,
             "solidity": 0.2
            },
            "type": "scatter"
           }
          ],
          "scatter3d": [
           {
            "line": {
             "colorbar": {
              "outlinewidth": 0,
              "ticks": ""
             }
            },
            "marker": {
             "colorbar": {
              "outlinewidth": 0,
              "ticks": ""
             }
            },
            "type": "scatter3d"
           }
          ],
          "scattercarpet": [
           {
            "marker": {
             "colorbar": {
              "outlinewidth": 0,
              "ticks": ""
             }
            },
            "type": "scattercarpet"
           }
          ],
          "scattergeo": [
           {
            "marker": {
             "colorbar": {
              "outlinewidth": 0,
              "ticks": ""
             }
            },
            "type": "scattergeo"
           }
          ],
          "scattergl": [
           {
            "marker": {
             "colorbar": {
              "outlinewidth": 0,
              "ticks": ""
             }
            },
            "type": "scattergl"
           }
          ],
          "scattermapbox": [
           {
            "marker": {
             "colorbar": {
              "outlinewidth": 0,
              "ticks": ""
             }
            },
            "type": "scattermapbox"
           }
          ],
          "scatterpolar": [
           {
            "marker": {
             "colorbar": {
              "outlinewidth": 0,
              "ticks": ""
             }
            },
            "type": "scatterpolar"
           }
          ],
          "scatterpolargl": [
           {
            "marker": {
             "colorbar": {
              "outlinewidth": 0,
              "ticks": ""
             }
            },
            "type": "scatterpolargl"
           }
          ],
          "scatterternary": [
           {
            "marker": {
             "colorbar": {
              "outlinewidth": 0,
              "ticks": ""
             }
            },
            "type": "scatterternary"
           }
          ],
          "surface": [
           {
            "colorbar": {
             "outlinewidth": 0,
             "ticks": ""
            },
            "colorscale": [
             [
              0,
              "#0d0887"
             ],
             [
              0.1111111111111111,
              "#46039f"
             ],
             [
              0.2222222222222222,
              "#7201a8"
             ],
             [
              0.3333333333333333,
              "#9c179e"
             ],
             [
              0.4444444444444444,
              "#bd3786"
             ],
             [
              0.5555555555555556,
              "#d8576b"
             ],
             [
              0.6666666666666666,
              "#ed7953"
             ],
             [
              0.7777777777777778,
              "#fb9f3a"
             ],
             [
              0.8888888888888888,
              "#fdca26"
             ],
             [
              1,
              "#f0f921"
             ]
            ],
            "type": "surface"
           }
          ],
          "table": [
           {
            "cells": {
             "fill": {
              "color": "#EBF0F8"
             },
             "line": {
              "color": "white"
             }
            },
            "header": {
             "fill": {
              "color": "#C8D4E3"
             },
             "line": {
              "color": "white"
             }
            },
            "type": "table"
           }
          ]
         },
         "layout": {
          "annotationdefaults": {
           "arrowcolor": "#2a3f5f",
           "arrowhead": 0,
           "arrowwidth": 1
          },
          "autotypenumbers": "strict",
          "coloraxis": {
           "colorbar": {
            "outlinewidth": 0,
            "ticks": ""
           }
          },
          "colorscale": {
           "diverging": [
            [
             0,
             "#8e0152"
            ],
            [
             0.1,
             "#c51b7d"
            ],
            [
             0.2,
             "#de77ae"
            ],
            [
             0.3,
             "#f1b6da"
            ],
            [
             0.4,
             "#fde0ef"
            ],
            [
             0.5,
             "#f7f7f7"
            ],
            [
             0.6,
             "#e6f5d0"
            ],
            [
             0.7,
             "#b8e186"
            ],
            [
             0.8,
             "#7fbc41"
            ],
            [
             0.9,
             "#4d9221"
            ],
            [
             1,
             "#276419"
            ]
           ],
           "sequential": [
            [
             0,
             "#0d0887"
            ],
            [
             0.1111111111111111,
             "#46039f"
            ],
            [
             0.2222222222222222,
             "#7201a8"
            ],
            [
             0.3333333333333333,
             "#9c179e"
            ],
            [
             0.4444444444444444,
             "#bd3786"
            ],
            [
             0.5555555555555556,
             "#d8576b"
            ],
            [
             0.6666666666666666,
             "#ed7953"
            ],
            [
             0.7777777777777778,
             "#fb9f3a"
            ],
            [
             0.8888888888888888,
             "#fdca26"
            ],
            [
             1,
             "#f0f921"
            ]
           ],
           "sequentialminus": [
            [
             0,
             "#0d0887"
            ],
            [
             0.1111111111111111,
             "#46039f"
            ],
            [
             0.2222222222222222,
             "#7201a8"
            ],
            [
             0.3333333333333333,
             "#9c179e"
            ],
            [
             0.4444444444444444,
             "#bd3786"
            ],
            [
             0.5555555555555556,
             "#d8576b"
            ],
            [
             0.6666666666666666,
             "#ed7953"
            ],
            [
             0.7777777777777778,
             "#fb9f3a"
            ],
            [
             0.8888888888888888,
             "#fdca26"
            ],
            [
             1,
             "#f0f921"
            ]
           ]
          },
          "colorway": [
           "#636efa",
           "#EF553B",
           "#00cc96",
           "#ab63fa",
           "#FFA15A",
           "#19d3f3",
           "#FF6692",
           "#B6E880",
           "#FF97FF",
           "#FECB52"
          ],
          "font": {
           "color": "#2a3f5f"
          },
          "geo": {
           "bgcolor": "white",
           "lakecolor": "white",
           "landcolor": "#E5ECF6",
           "showlakes": true,
           "showland": true,
           "subunitcolor": "white"
          },
          "hoverlabel": {
           "align": "left"
          },
          "hovermode": "closest",
          "mapbox": {
           "style": "light"
          },
          "paper_bgcolor": "white",
          "plot_bgcolor": "#E5ECF6",
          "polar": {
           "angularaxis": {
            "gridcolor": "white",
            "linecolor": "white",
            "ticks": ""
           },
           "bgcolor": "#E5ECF6",
           "radialaxis": {
            "gridcolor": "white",
            "linecolor": "white",
            "ticks": ""
           }
          },
          "scene": {
           "xaxis": {
            "backgroundcolor": "#E5ECF6",
            "gridcolor": "white",
            "gridwidth": 2,
            "linecolor": "white",
            "showbackground": true,
            "ticks": "",
            "zerolinecolor": "white"
           },
           "yaxis": {
            "backgroundcolor": "#E5ECF6",
            "gridcolor": "white",
            "gridwidth": 2,
            "linecolor": "white",
            "showbackground": true,
            "ticks": "",
            "zerolinecolor": "white"
           },
           "zaxis": {
            "backgroundcolor": "#E5ECF6",
            "gridcolor": "white",
            "gridwidth": 2,
            "linecolor": "white",
            "showbackground": true,
            "ticks": "",
            "zerolinecolor": "white"
           }
          },
          "shapedefaults": {
           "line": {
            "color": "#2a3f5f"
           }
          },
          "ternary": {
           "aaxis": {
            "gridcolor": "white",
            "linecolor": "white",
            "ticks": ""
           },
           "baxis": {
            "gridcolor": "white",
            "linecolor": "white",
            "ticks": ""
           },
           "bgcolor": "#E5ECF6",
           "caxis": {
            "gridcolor": "white",
            "linecolor": "white",
            "ticks": ""
           }
          },
          "title": {
           "x": 0.05
          },
          "xaxis": {
           "automargin": true,
           "gridcolor": "white",
           "linecolor": "white",
           "ticks": "",
           "title": {
            "standoff": 15
           },
           "zerolinecolor": "white",
           "zerolinewidth": 2
          },
          "yaxis": {
           "automargin": true,
           "gridcolor": "white",
           "linecolor": "white",
           "ticks": "",
           "title": {
            "standoff": 15
           },
           "zerolinecolor": "white",
           "zerolinewidth": 2
          }
         }
        },
        "title": {
         "text": "PBMC3 - default labels"
        },
        "width": 700,
        "xaxis": {
         "showgrid": false,
         "visible": false,
         "zeroline": false
        },
        "yaxis": {
         "showgrid": false,
         "visible": false,
         "zeroline": false
        }
       }
      }
     },
     "metadata": {},
     "output_type": "display_data"
    },
    {
     "data": {
      "text/html": [
       "<div>\n",
       "<style scoped>\n",
       "    .dataframe tbody tr th:only-of-type {\n",
       "        vertical-align: middle;\n",
       "    }\n",
       "\n",
       "    .dataframe tbody tr th {\n",
       "        vertical-align: top;\n",
       "    }\n",
       "\n",
       "    .dataframe thead th {\n",
       "        text-align: right;\n",
       "    }\n",
       "</style>\n",
       "<table border=\"1\" class=\"dataframe\">\n",
       "  <thead>\n",
       "    <tr style=\"text-align: right;\">\n",
       "      <th></th>\n",
       "      <th>NMI</th>\n",
       "      <th>ARI</th>\n",
       "      <th>homogeneity</th>\n",
       "      <th>completeness</th>\n",
       "      <th>v_measure</th>\n",
       "      <th>fowlkes_mallows</th>\n",
       "    </tr>\n",
       "  </thead>\n",
       "  <tbody>\n",
       "    <tr>\n",
       "      <th>monocle</th>\n",
       "      <td>0.429744</td>\n",
       "      <td>0.168276</td>\n",
       "      <td>0.280823</td>\n",
       "      <td>0.914939</td>\n",
       "      <td>0.429744</td>\n",
       "      <td>0.437511</td>\n",
       "    </tr>\n",
       "    <tr>\n",
       "      <th>scanpy</th>\n",
       "      <td>0.664567</td>\n",
       "      <td>0.542630</td>\n",
       "      <td>0.702416</td>\n",
       "      <td>0.630588</td>\n",
       "      <td>0.664567</td>\n",
       "      <td>0.596647</td>\n",
       "    </tr>\n",
       "    <tr>\n",
       "      <th>scvi-tools</th>\n",
       "      <td>0.691391</td>\n",
       "      <td>0.620339</td>\n",
       "      <td>0.677930</td>\n",
       "      <td>0.705398</td>\n",
       "      <td>0.691391</td>\n",
       "      <td>0.662580</td>\n",
       "    </tr>\n",
       "    <tr>\n",
       "      <th>seurat</th>\n",
       "      <td>0.735217</td>\n",
       "      <td>0.664188</td>\n",
       "      <td>0.744324</td>\n",
       "      <td>0.726330</td>\n",
       "      <td>0.735217</td>\n",
       "      <td>0.701375</td>\n",
       "    </tr>\n",
       "    <tr>\n",
       "      <th>COTAN</th>\n",
       "      <td>0.657321</td>\n",
       "      <td>0.476340</td>\n",
       "      <td>0.780031</td>\n",
       "      <td>0.567972</td>\n",
       "      <td>0.657321</td>\n",
       "      <td>0.550013</td>\n",
       "    </tr>\n",
       "  </tbody>\n",
       "</table>\n",
       "</div>"
      ],
      "text/plain": [
       "                 NMI       ARI  homogeneity  completeness  v_measure  \\\n",
       "monocle     0.429744  0.168276     0.280823      0.914939   0.429744   \n",
       "scanpy      0.664567  0.542630     0.702416      0.630588   0.664567   \n",
       "scvi-tools  0.691391  0.620339     0.677930      0.705398   0.691391   \n",
       "seurat      0.735217  0.664188     0.744324      0.726330   0.735217   \n",
       "COTAN       0.657321  0.476340     0.780031      0.567972   0.657321   \n",
       "\n",
       "            fowlkes_mallows  \n",
       "monocle            0.437511  \n",
       "scanpy             0.596647  \n",
       "scvi-tools         0.662580  \n",
       "seurat             0.701375  \n",
       "COTAN              0.550013  "
      ]
     },
     "metadata": {},
     "output_type": "display_data"
    },
    {
     "data": {
      "application/vnd.plotly.v1+json": {
       "config": {
        "plotlyServerURL": "https://plot.ly"
       },
       "data": [
        {
         "link": {
          "source": [
           0,
           0,
           0,
           0,
           0,
           0,
           0,
           0,
           0,
           0,
           0,
           0,
           0,
           0,
           0,
           1,
           1,
           1,
           1,
           1,
           1,
           1,
           1,
           1,
           1,
           2,
           2,
           2,
           3,
           3,
           3,
           3,
           3,
           3,
           4,
           4,
           4,
           4,
           5,
           5,
           5,
           5,
           5,
           5,
           5,
           5,
           5,
           6,
           7,
           7,
           7,
           8,
           8,
           8,
           8,
           8,
           8,
           8,
           8,
           9,
           9,
           9,
           9,
           9,
           9,
           9,
           10,
           10,
           10,
           10,
           10,
           10,
           10,
           11,
           11,
           11,
           11,
           11,
           11,
           11,
           11,
           11,
           11,
           11,
           12,
           12,
           12,
           12,
           12,
           12,
           12,
           12,
           12,
           12,
           13,
           14,
           14,
           14,
           14,
           14,
           14,
           14,
           14,
           14,
           15,
           15,
           15,
           15,
           16,
           16,
           17,
           17,
           17,
           17,
           17,
           17,
           17,
           18,
           18,
           18,
           18,
           19,
           19,
           19,
           19,
           19,
           19,
           19,
           20,
           20,
           21,
           21,
           21,
           22,
           22,
           22,
           23,
           23,
           23,
           23,
           23,
           24,
           25,
           25,
           25,
           25,
           25,
           26,
           26,
           26,
           26,
           26,
           27,
           27,
           27,
           27,
           27,
           27,
           27,
           27,
           27,
           28,
           28,
           28,
           28,
           28,
           28,
           28,
           29,
           29,
           29,
           29,
           29,
           29,
           29,
           30,
           30,
           30,
           30,
           30,
           30,
           31,
           31,
           31,
           31,
           31,
           31,
           31,
           31,
           31,
           32,
           32,
           32,
           32,
           32,
           32,
           33,
           33,
           33,
           33,
           33,
           34,
           34,
           34,
           34,
           35,
           35,
           35,
           35,
           35,
           36,
           36,
           36,
           36,
           36,
           36,
           37,
           37,
           37,
           38,
           38,
           38,
           39,
           39,
           40,
           40,
           41,
           42,
           42,
           42,
           42,
           42,
           42,
           42,
           42,
           43,
           43,
           43,
           43,
           43,
           43,
           43,
           43,
           43,
           43,
           43,
           43,
           43,
           44,
           44,
           44,
           44,
           44,
           44,
           44,
           44,
           44,
           45,
           45,
           45,
           45,
           45,
           46,
           46,
           46,
           46,
           46,
           46,
           46,
           46,
           46,
           46,
           46,
           46,
           46,
           46,
           47,
           47,
           47,
           47,
           47,
           47,
           47,
           47,
           48,
           48,
           48,
           48,
           48,
           48,
           48,
           48,
           48,
           48,
           48,
           48,
           48,
           48,
           48,
           48,
           48,
           48,
           48,
           48,
           48,
           48,
           48,
           49,
           49,
           49,
           49,
           49,
           49,
           49,
           49,
           49,
           49,
           49,
           50,
           50,
           50,
           50,
           50,
           50,
           50,
           50,
           50,
           51,
           51,
           51,
           51,
           52,
           52,
           52,
           52,
           52,
           52,
           53,
           53,
           53,
           53,
           53,
           53,
           53,
           53,
           53,
           53,
           54,
           54,
           54,
           54,
           55,
           55,
           55,
           55,
           55,
           56,
           56,
           56,
           57,
           57,
           57,
           57,
           57,
           57,
           57,
           57,
           57,
           57,
           58,
           59,
           59,
           59,
           59,
           60,
           61,
           61,
           61,
           61,
           61,
           62,
           62,
           62,
           62,
           62,
           62,
           62,
           63,
           63,
           63,
           63,
           63,
           63,
           63,
           64,
           64,
           64,
           64,
           64,
           64,
           64,
           65,
           65,
           65,
           65,
           65,
           65,
           65,
           65,
           65,
           66,
           66,
           66,
           66,
           66,
           66,
           67,
           67,
           67,
           67,
           68,
           68,
           68,
           68,
           69,
           69,
           69,
           69,
           69,
           69,
           70,
           70,
           70,
           70,
           70,
           71,
           71,
           71,
           71,
           72,
           72,
           72,
           72,
           72,
           73,
           73,
           73,
           73,
           73,
           73,
           73,
           74,
           74,
           74,
           74,
           74,
           74,
           74,
           75,
           75,
           75,
           75,
           75,
           76,
           76,
           76,
           76,
           76,
           76,
           77,
           77,
           77,
           78,
           78,
           78,
           78,
           78,
           78,
           79,
           79,
           79,
           79,
           79,
           79,
           79,
           80,
           80,
           80,
           80,
           80,
           80,
           80,
           80,
           80,
           80,
           81,
           81,
           81,
           81,
           81,
           81,
           81,
           82,
           82,
           82,
           82,
           82,
           82,
           82,
           83,
           83,
           83,
           83,
           83,
           83,
           83,
           83,
           84,
           84,
           84,
           84,
           84,
           84,
           84,
           85,
           85,
           85,
           85,
           85,
           85,
           86,
           86,
           86,
           86,
           86,
           86,
           87,
           87,
           87,
           87,
           87,
           87,
           88,
           88,
           88,
           88,
           88,
           88,
           89,
           89,
           89,
           89,
           89,
           90,
           90,
           90,
           90,
           90,
           90,
           91,
           91,
           91,
           91,
           91,
           91,
           92,
           92,
           92,
           93,
           94,
           94,
           94,
           94,
           94,
           94,
           95,
           95,
           95,
           95,
           95,
           95,
           96,
           96,
           96,
           96,
           97,
           97,
           98,
           99,
           99,
           99,
           100,
           100,
           101,
           101,
           101,
           101,
           102,
           102,
           102,
           102,
           102,
           102,
           102,
           102,
           103,
           104,
           104,
           104,
           104,
           104,
           105,
           106,
           106,
           106,
           106,
           107,
           108,
           109,
           110,
           111,
           112,
           113,
           114,
           114,
           115,
           115,
           115,
           115,
           115,
           115,
           116,
           116,
           116
          ],
          "target": [
           3,
           4,
           5,
           8,
           9,
           10,
           11,
           12,
           14,
           15,
           17,
           18,
           19,
           23,
           24,
           4,
           7,
           13,
           16,
           18,
           19,
           20,
           21,
           22,
           24,
           6,
           11,
           19,
           25,
           26,
           30,
           33,
           35,
           36,
           28,
           31,
           38,
           40,
           25,
           26,
           27,
           29,
           30,
           31,
           32,
           33,
           35,
           29,
           27,
           34,
           37,
           26,
           28,
           30,
           31,
           32,
           33,
           35,
           36,
           25,
           28,
           30,
           31,
           32,
           36,
           38,
           25,
           26,
           31,
           32,
           33,
           35,
           36,
           25,
           26,
           28,
           29,
           30,
           31,
           32,
           33,
           35,
           36,
           38,
           25,
           26,
           28,
           30,
           31,
           32,
           33,
           34,
           35,
           36,
           27,
           25,
           26,
           29,
           30,
           31,
           32,
           33,
           35,
           36,
           28,
           31,
           32,
           38,
           27,
           34,
           25,
           26,
           30,
           31,
           32,
           35,
           36,
           27,
           34,
           37,
           41,
           27,
           28,
           29,
           30,
           31,
           33,
           38,
           27,
           37,
           27,
           29,
           39,
           27,
           29,
           34,
           25,
           26,
           30,
           31,
           33,
           40,
           42,
           43,
           46,
           48,
           50,
           42,
           43,
           46,
           47,
           48,
           44,
           50,
           52,
           53,
           54,
           55,
           56,
           57,
           58,
           43,
           45,
           46,
           47,
           48,
           50,
           54,
           43,
           48,
           49,
           51,
           53,
           57,
           58,
           42,
           43,
           46,
           47,
           48,
           59,
           42,
           43,
           45,
           46,
           47,
           48,
           50,
           54,
           57,
           42,
           43,
           45,
           46,
           48,
           50,
           42,
           43,
           46,
           49,
           57,
           44,
           48,
           52,
           53,
           42,
           43,
           46,
           47,
           48,
           42,
           43,
           46,
           47,
           48,
           50,
           44,
           53,
           56,
           45,
           48,
           54,
           56,
           58,
           45,
           59,
           59,
           72,
           73,
           74,
           75,
           76,
           80,
           81,
           85,
           65,
           69,
           73,
           77,
           78,
           79,
           80,
           81,
           82,
           83,
           84,
           86,
           87,
           92,
           94,
           95,
           96,
           97,
           98,
           99,
           100,
           101,
           60,
           62,
           63,
           64,
           68,
           70,
           73,
           74,
           77,
           78,
           79,
           80,
           81,
           82,
           83,
           84,
           85,
           86,
           87,
           72,
           73,
           74,
           75,
           76,
           85,
           86,
           87,
           62,
           66,
           67,
           68,
           69,
           70,
           71,
           72,
           73,
           74,
           75,
           76,
           78,
           79,
           80,
           81,
           82,
           83,
           84,
           85,
           86,
           87,
           102,
           102,
           103,
           105,
           106,
           107,
           108,
           109,
           110,
           111,
           112,
           113,
           64,
           65,
           66,
           68,
           69,
           84,
           85,
           86,
           87,
           103,
           104,
           108,
           110,
           88,
           89,
           90,
           95,
           96,
           100,
           62,
           63,
           91,
           92,
           93,
           95,
           97,
           99,
           101,
           113,
           61,
           62,
           83,
           102,
           91,
           93,
           97,
           98,
           101,
           94,
           99,
           100,
           73,
           82,
           83,
           102,
           103,
           104,
           106,
           108,
           109,
           113,
           115,
           87,
           102,
           114,
           116,
           119,
           117,
           119,
           120,
           121,
           124,
           119,
           121,
           122,
           123,
           125,
           129,
           130,
           117,
           118,
           119,
           120,
           121,
           125,
           128,
           117,
           119,
           120,
           121,
           125,
           129,
           130,
           117,
           118,
           121,
           122,
           123,
           124,
           125,
           126,
           129,
           117,
           121,
           123,
           124,
           126,
           129,
           117,
           122,
           123,
           124,
           122,
           123,
           124,
           125,
           117,
           122,
           123,
           124,
           126,
           129,
           117,
           122,
           123,
           124,
           126,
           117,
           123,
           124,
           126,
           117,
           122,
           123,
           124,
           129,
           117,
           118,
           122,
           123,
           124,
           126,
           129,
           117,
           121,
           122,
           123,
           124,
           126,
           129,
           117,
           122,
           123,
           124,
           129,
           117,
           122,
           123,
           124,
           125,
           129,
           117,
           124,
           126,
           117,
           121,
           122,
           124,
           126,
           127,
           117,
           121,
           123,
           124,
           126,
           127,
           129,
           117,
           120,
           121,
           122,
           123,
           124,
           126,
           127,
           128,
           129,
           117,
           121,
           122,
           124,
           126,
           127,
           129,
           117,
           121,
           122,
           124,
           126,
           127,
           129,
           117,
           118,
           120,
           121,
           122,
           124,
           126,
           128,
           117,
           121,
           122,
           123,
           124,
           126,
           129,
           117,
           121,
           122,
           123,
           124,
           126,
           117,
           122,
           123,
           124,
           126,
           129,
           117,
           121,
           122,
           124,
           126,
           129,
           119,
           121,
           125,
           126,
           128,
           130,
           117,
           118,
           119,
           121,
           130,
           118,
           119,
           121,
           125,
           128,
           130,
           117,
           118,
           119,
           124,
           126,
           128,
           118,
           128,
           130,
           118,
           117,
           118,
           122,
           126,
           128,
           129,
           117,
           121,
           123,
           128,
           129,
           130,
           118,
           128,
           129,
           130,
           117,
           128,
           128,
           117,
           128,
           130,
           128,
           130,
           117,
           118,
           128,
           130,
           117,
           118,
           119,
           120,
           121,
           123,
           128,
           129,
           118,
           118,
           121,
           123,
           125,
           129,
           118,
           118,
           119,
           122,
           126,
           118,
           118,
           118,
           118,
           118,
           118,
           118,
           117,
           119,
           117,
           118,
           121,
           128,
           129,
           130,
           117,
           120,
           129
          ],
          "value": [
           1421,
           950,
           943,
           830,
           749,
           712,
           481,
           452,
           372,
           320,
           307,
           5,
           1,
           29,
           2,
           1,
           759,
           276,
           296,
           207,
           12,
           159,
           56,
           30,
           15,
           874,
           1,
           138,
           35,
           1133,
           30,
           130,
           86,
           7,
           942,
           4,
           4,
           1,
           785,
           8,
           1,
           1,
           1,
           6,
           3,
           81,
           57,
           874,
           741,
           10,
           8,
           10,
           1,
           806,
           8,
           1,
           1,
           2,
           1,
           13,
           5,
           1,
           296,
           280,
           148,
           6,
           472,
           110,
           12,
           6,
           60,
           46,
           6,
           274,
           2,
           2,
           3,
           1,
           95,
           49,
           8,
           16,
           29,
           3,
           102,
           248,
           1,
           9,
           8,
           3,
           40,
           1,
           39,
           1,
           276,
           116,
           97,
           1,
           55,
           41,
           13,
           23,
           18,
           8,
           225,
           9,
           1,
           85,
           12,
           284,
           9,
           6,
           44,
           203,
           12,
           6,
           27,
           207,
           1,
           2,
           2,
           1,
           1,
           127,
           12,
           1,
           8,
           1,
           9,
           150,
           1,
           1,
           54,
           28,
           1,
           1,
           2,
           21,
           1,
           1,
           4,
           17,
           41,
           1119,
           608,
           21,
           19,
           1388,
           24,
           205,
           5,
           13,
           886,
           1,
           13,
           198,
           1,
           167,
           8,
           1,
           1,
           1,
           1017,
           1,
           1,
           3,
           2,
           152,
           1,
           2,
           543,
           327,
           1,
           133,
           1,
           22,
           2,
           1,
           881,
           42,
           12,
           1,
           31,
           4,
           10,
           12,
           618,
           4,
           3,
           1,
           1,
           47,
           1,
           5,
           11,
           303,
           168,
           93,
           86,
           7,
           1,
           5,
           1,
           288,
           3,
           115,
           91,
           56,
           1,
           7,
           8,
           16,
           3,
           1,
           64,
           135,
           8,
           2,
           150,
           6,
           1,
           92,
           5,
           49,
           1,
           17,
           2,
           2,
           99,
           1611,
           2,
           1,
           7,
           20,
           2,
           6,
           2,
           3,
           2,
           4,
           4,
           162,
           74,
           318,
           370,
           465,
           11,
           4,
           5,
           1,
           12,
           89,
           47,
           171,
           122,
           161,
           291,
           11,
           1,
           99,
           917,
           1,
           5,
           23,
           56,
           11,
           142,
           52,
           95,
           521,
           54,
           2,
           9,
           2,
           1,
           2,
           39,
           46,
           2,
           415,
           390,
           1,
           6,
           2,
           2,
           2,
           25,
           59,
           169,
           32,
           28,
           3,
           2,
           4,
           5,
           1,
           1,
           9,
           6,
           4,
           8,
           2,
           15,
           66,
           279,
           60,
           1,
           21,
           12,
           21,
           25,
           20,
           83,
           55,
           232,
           49,
           24,
           8,
           2,
           322,
           131,
           1,
           1,
           3,
           1,
           1,
           2,
           320,
           2,
           1,
           4,
           40,
           151,
           60,
           1,
           48,
           1,
           1,
           1,
           46,
           16,
           25,
           109,
           1,
           1,
           3,
           1,
           100,
           146,
           1,
           1,
           2,
           1,
           159,
           1,
           4,
           159,
           3,
           1,
           1,
           1,
           1,
           1,
           1,
           118,
           3,
           3,
           1,
           6,
           51,
           1,
           16,
           2,
           12,
           11,
           1,
           12,
           74,
           11,
           2,
           2,
           110,
           1,
           5,
           28,
           3,
           1,
           1,
           1,
           86,
           2,
           3,
           6,
           1,
           5,
           883,
           5,
           11,
           11,
           2,
           2,
           65,
           1,
           2,
           11,
           4,
           220,
           1,
           23,
           1,
           125,
           2,
           1,
           3,
           1,
           1,
           5,
           1,
           6,
           13,
           2,
           1,
           57,
           1,
           11,
           6,
           14,
           124,
           14,
           3,
           7,
           1,
           3,
           20,
           6,
           12,
           3,
           10,
           3,
           10,
           1,
           30,
           1,
           2,
           3,
           1,
           5,
           47,
           5,
           31,
           82,
           37,
           18,
           16,
           1,
           1,
           132,
           1468,
           4,
           41,
           368,
           7,
           2,
           7,
           6,
           375,
           2,
           1,
           1,
           1,
           1,
           11,
           1,
           1,
           2,
           1,
           32,
           110,
           6,
           3,
           3,
           1,
           49,
           1,
           2,
           34,
           2,
           3,
           9,
           1,
           3,
           198,
           6,
           1,
           13,
           13,
           21,
           11,
           1,
           542,
           10,
           21,
           4,
           3,
           9,
           13,
           343,
           3,
           6,
           4,
           1,
           2,
           8,
           3,
           2,
           355,
           1,
           4,
           8,
           14,
           2,
           17,
           444,
           3,
           56,
           1,
           1,
           9,
           3,
           2,
           9,
           15,
           31,
           228,
           14,
           1,
           2,
           5,
           54,
           5,
           1,
           4,
           1,
           17,
           9,
           3,
           3,
           7,
           1,
           1,
           8,
           1,
           140,
           3,
           1,
           1,
           3,
           1,
           51,
           2,
           1,
           1,
           1,
           1,
           42,
           1,
           1,
           19,
           26,
           123,
           2,
           2,
           5,
           24,
           4,
           6,
           1,
           2,
           105,
           3,
           5,
           4,
           95,
           1,
           37,
           2,
           205,
           172,
           1,
           124,
           1,
           161,
           2,
           3,
           2,
           291,
           2,
           13,
           21,
           1,
           1,
           1,
           1,
           1,
           1,
           333,
           114,
           1,
           1,
           1,
           3,
           21,
           25,
           1,
           1,
           1,
           20,
           87,
           56,
           236,
           49,
           24,
           15,
           1,
           1,
           40,
           2,
           4,
           2,
           2,
           1,
           9,
           1,
           2
          ]
         },
         "node": {
          "color": [
           "#1f77b4",
           "#ff7f0e",
           "#2ca02c",
           "#d62728",
           "#9467bd",
           "#8c564b",
           "#e377c2",
           "#7f7f7f",
           "#bcbd22",
           "#17becf",
           "#1f77b4",
           "#ff7f0e",
           "#2ca02c",
           "#d62728",
           "#9467bd",
           "#8c564b",
           "#e377c2",
           "#7f7f7f",
           "#bcbd22",
           "#17becf",
           "#1f77b4",
           "#ff7f0e",
           "#2ca02c",
           "#d62728",
           "#9467bd",
           "#8c564b",
           "#e377c2",
           "#7f7f7f",
           "#bcbd22",
           "#17becf",
           "#1f77b4",
           "#ff7f0e",
           "#2ca02c",
           "#d62728",
           "#9467bd",
           "#8c564b",
           "#e377c2",
           "#7f7f7f",
           "#bcbd22",
           "#17becf",
           "#1f77b4",
           "#ff7f0e",
           "#2ca02c",
           "#d62728",
           "#9467bd",
           "#8c564b",
           "#e377c2",
           "#7f7f7f",
           "#bcbd22",
           "#17becf",
           "#1f77b4",
           "#ff7f0e",
           "#2ca02c",
           "#d62728",
           "#9467bd",
           "#8c564b",
           "#e377c2",
           "#7f7f7f",
           "#bcbd22",
           "#17becf",
           "#1f77b4",
           "#ff7f0e",
           "#2ca02c",
           "#d62728",
           "#9467bd",
           "#8c564b",
           "#e377c2",
           "#7f7f7f",
           "#bcbd22",
           "#17becf",
           "#1f77b4",
           "#ff7f0e",
           "#2ca02c",
           "#d62728",
           "#9467bd",
           "#8c564b",
           "#e377c2",
           "#7f7f7f",
           "#bcbd22",
           "#17becf",
           "#1f77b4",
           "#ff7f0e",
           "#2ca02c",
           "#d62728",
           "#9467bd",
           "#8c564b",
           "#e377c2",
           "#7f7f7f",
           "#bcbd22",
           "#17becf",
           "#1f77b4",
           "#ff7f0e",
           "#2ca02c",
           "#d62728",
           "#9467bd",
           "#8c564b",
           "#e377c2",
           "#7f7f7f",
           "#bcbd22",
           "#17becf",
           "#1f77b4",
           "#ff7f0e",
           "#2ca02c",
           "#d62728",
           "#9467bd",
           "#8c564b",
           "#e377c2",
           "#7f7f7f",
           "#bcbd22",
           "#17becf",
           "#1f77b4",
           "#ff7f0e",
           "#2ca02c",
           "#d62728",
           "#9467bd",
           "#8c564b",
           "#e377c2",
           "#7f7f7f",
           "#bcbd22",
           "#17becf",
           "#1f77b4",
           "#ff7f0e",
           "#2ca02c",
           "#d62728",
           "#9467bd",
           "#8c564b",
           "#e377c2",
           "#7f7f7f",
           "#bcbd22",
           "#17becf",
           "#1f77b4"
          ],
          "label": [
           1,
           2,
           3,
           1,
           2,
           3,
           4,
           5,
           6,
           7,
           8,
           9,
           10,
           11,
           12,
           13,
           14,
           15,
           16,
           17,
           18,
           19,
           20,
           21,
           22,
           1,
           2,
           3,
           4,
           5,
           6,
           7,
           8,
           9,
           10,
           11,
           12,
           13,
           14,
           15,
           16,
           17,
           1,
           2,
           3,
           4,
           5,
           6,
           7,
           8,
           9,
           10,
           11,
           12,
           13,
           14,
           15,
           16,
           17,
           18,
           1,
           2,
           3,
           4,
           5,
           6,
           7,
           8,
           9,
           10,
           11,
           12,
           13,
           14,
           15,
           16,
           17,
           18,
           19,
           20,
           21,
           22,
           23,
           24,
           25,
           26,
           27,
           28,
           29,
           30,
           31,
           32,
           33,
           34,
           35,
           36,
           37,
           38,
           39,
           40,
           41,
           42,
           43,
           44,
           45,
           46,
           47,
           48,
           49,
           50,
           51,
           52,
           53,
           54,
           55,
           56,
           57,
           "?",
           "B Cells",
           "CD16+ NK Cells",
           "CD16- NK Cells",
           "CD4+ T Cells",
           "CD4+/CD8+ Cells",
           "CD8 Terminal Effector Cells",
           "CD8+ Effector Memory Cells",
           "CD8+ T Cells",
           "Central Effector Memory T Cells",
           "Central Memory T Cells",
           "Classical Monocytes",
           "Effector Memory T Cells",
           "Intermediate Monocytes"
          ],
          "line": {
           "color": "black",
           "width": 0.5
          },
          "pad": 15,
          "thickness": 20
         },
         "type": "sankey"
        }
       ],
       "layout": {
        "annotations": [
         {
          "showarrow": false,
          "text": "monocle",
          "x": 0,
          "xref": "x",
          "y": 1.05,
          "yref": "paper"
         },
         {
          "showarrow": false,
          "text": "scanpy",
          "x": 1,
          "xref": "x",
          "y": 1.05,
          "yref": "paper"
         },
         {
          "showarrow": false,
          "text": "scvi-tools",
          "x": 2,
          "xref": "x",
          "y": 1.05,
          "yref": "paper"
         },
         {
          "showarrow": false,
          "text": "seurat",
          "x": 3,
          "xref": "x",
          "y": 1.05,
          "yref": "paper"
         },
         {
          "showarrow": false,
          "text": "COTAN",
          "x": 4,
          "xref": "x",
          "y": 1.05,
          "yref": "paper"
         },
         {
          "showarrow": false,
          "text": "antibody",
          "x": 5,
          "xref": "x",
          "y": 1.05,
          "yref": "paper"
         }
        ],
        "font": {
         "size": 10
        },
        "height": 450,
        "plot_bgcolor": "rgba(0,0,0,0)",
        "template": {
         "data": {
          "bar": [
           {
            "error_x": {
             "color": "#2a3f5f"
            },
            "error_y": {
             "color": "#2a3f5f"
            },
            "marker": {
             "line": {
              "color": "#E5ECF6",
              "width": 0.5
             },
             "pattern": {
              "fillmode": "overlay",
              "size": 10,
              "solidity": 0.2
             }
            },
            "type": "bar"
           }
          ],
          "barpolar": [
           {
            "marker": {
             "line": {
              "color": "#E5ECF6",
              "width": 0.5
             },
             "pattern": {
              "fillmode": "overlay",
              "size": 10,
              "solidity": 0.2
             }
            },
            "type": "barpolar"
           }
          ],
          "carpet": [
           {
            "aaxis": {
             "endlinecolor": "#2a3f5f",
             "gridcolor": "white",
             "linecolor": "white",
             "minorgridcolor": "white",
             "startlinecolor": "#2a3f5f"
            },
            "baxis": {
             "endlinecolor": "#2a3f5f",
             "gridcolor": "white",
             "linecolor": "white",
             "minorgridcolor": "white",
             "startlinecolor": "#2a3f5f"
            },
            "type": "carpet"
           }
          ],
          "choropleth": [
           {
            "colorbar": {
             "outlinewidth": 0,
             "ticks": ""
            },
            "type": "choropleth"
           }
          ],
          "contour": [
           {
            "colorbar": {
             "outlinewidth": 0,
             "ticks": ""
            },
            "colorscale": [
             [
              0,
              "#0d0887"
             ],
             [
              0.1111111111111111,
              "#46039f"
             ],
             [
              0.2222222222222222,
              "#7201a8"
             ],
             [
              0.3333333333333333,
              "#9c179e"
             ],
             [
              0.4444444444444444,
              "#bd3786"
             ],
             [
              0.5555555555555556,
              "#d8576b"
             ],
             [
              0.6666666666666666,
              "#ed7953"
             ],
             [
              0.7777777777777778,
              "#fb9f3a"
             ],
             [
              0.8888888888888888,
              "#fdca26"
             ],
             [
              1,
              "#f0f921"
             ]
            ],
            "type": "contour"
           }
          ],
          "contourcarpet": [
           {
            "colorbar": {
             "outlinewidth": 0,
             "ticks": ""
            },
            "type": "contourcarpet"
           }
          ],
          "heatmap": [
           {
            "colorbar": {
             "outlinewidth": 0,
             "ticks": ""
            },
            "colorscale": [
             [
              0,
              "#0d0887"
             ],
             [
              0.1111111111111111,
              "#46039f"
             ],
             [
              0.2222222222222222,
              "#7201a8"
             ],
             [
              0.3333333333333333,
              "#9c179e"
             ],
             [
              0.4444444444444444,
              "#bd3786"
             ],
             [
              0.5555555555555556,
              "#d8576b"
             ],
             [
              0.6666666666666666,
              "#ed7953"
             ],
             [
              0.7777777777777778,
              "#fb9f3a"
             ],
             [
              0.8888888888888888,
              "#fdca26"
             ],
             [
              1,
              "#f0f921"
             ]
            ],
            "type": "heatmap"
           }
          ],
          "heatmapgl": [
           {
            "colorbar": {
             "outlinewidth": 0,
             "ticks": ""
            },
            "colorscale": [
             [
              0,
              "#0d0887"
             ],
             [
              0.1111111111111111,
              "#46039f"
             ],
             [
              0.2222222222222222,
              "#7201a8"
             ],
             [
              0.3333333333333333,
              "#9c179e"
             ],
             [
              0.4444444444444444,
              "#bd3786"
             ],
             [
              0.5555555555555556,
              "#d8576b"
             ],
             [
              0.6666666666666666,
              "#ed7953"
             ],
             [
              0.7777777777777778,
              "#fb9f3a"
             ],
             [
              0.8888888888888888,
              "#fdca26"
             ],
             [
              1,
              "#f0f921"
             ]
            ],
            "type": "heatmapgl"
           }
          ],
          "histogram": [
           {
            "marker": {
             "pattern": {
              "fillmode": "overlay",
              "size": 10,
              "solidity": 0.2
             }
            },
            "type": "histogram"
           }
          ],
          "histogram2d": [
           {
            "colorbar": {
             "outlinewidth": 0,
             "ticks": ""
            },
            "colorscale": [
             [
              0,
              "#0d0887"
             ],
             [
              0.1111111111111111,
              "#46039f"
             ],
             [
              0.2222222222222222,
              "#7201a8"
             ],
             [
              0.3333333333333333,
              "#9c179e"
             ],
             [
              0.4444444444444444,
              "#bd3786"
             ],
             [
              0.5555555555555556,
              "#d8576b"
             ],
             [
              0.6666666666666666,
              "#ed7953"
             ],
             [
              0.7777777777777778,
              "#fb9f3a"
             ],
             [
              0.8888888888888888,
              "#fdca26"
             ],
             [
              1,
              "#f0f921"
             ]
            ],
            "type": "histogram2d"
           }
          ],
          "histogram2dcontour": [
           {
            "colorbar": {
             "outlinewidth": 0,
             "ticks": ""
            },
            "colorscale": [
             [
              0,
              "#0d0887"
             ],
             [
              0.1111111111111111,
              "#46039f"
             ],
             [
              0.2222222222222222,
              "#7201a8"
             ],
             [
              0.3333333333333333,
              "#9c179e"
             ],
             [
              0.4444444444444444,
              "#bd3786"
             ],
             [
              0.5555555555555556,
              "#d8576b"
             ],
             [
              0.6666666666666666,
              "#ed7953"
             ],
             [
              0.7777777777777778,
              "#fb9f3a"
             ],
             [
              0.8888888888888888,
              "#fdca26"
             ],
             [
              1,
              "#f0f921"
             ]
            ],
            "type": "histogram2dcontour"
           }
          ],
          "mesh3d": [
           {
            "colorbar": {
             "outlinewidth": 0,
             "ticks": ""
            },
            "type": "mesh3d"
           }
          ],
          "parcoords": [
           {
            "line": {
             "colorbar": {
              "outlinewidth": 0,
              "ticks": ""
             }
            },
            "type": "parcoords"
           }
          ],
          "pie": [
           {
            "automargin": true,
            "type": "pie"
           }
          ],
          "scatter": [
           {
            "fillpattern": {
             "fillmode": "overlay",
             "size": 10,
             "solidity": 0.2
            },
            "type": "scatter"
           }
          ],
          "scatter3d": [
           {
            "line": {
             "colorbar": {
              "outlinewidth": 0,
              "ticks": ""
             }
            },
            "marker": {
             "colorbar": {
              "outlinewidth": 0,
              "ticks": ""
             }
            },
            "type": "scatter3d"
           }
          ],
          "scattercarpet": [
           {
            "marker": {
             "colorbar": {
              "outlinewidth": 0,
              "ticks": ""
             }
            },
            "type": "scattercarpet"
           }
          ],
          "scattergeo": [
           {
            "marker": {
             "colorbar": {
              "outlinewidth": 0,
              "ticks": ""
             }
            },
            "type": "scattergeo"
           }
          ],
          "scattergl": [
           {
            "marker": {
             "colorbar": {
              "outlinewidth": 0,
              "ticks": ""
             }
            },
            "type": "scattergl"
           }
          ],
          "scattermapbox": [
           {
            "marker": {
             "colorbar": {
              "outlinewidth": 0,
              "ticks": ""
             }
            },
            "type": "scattermapbox"
           }
          ],
          "scatterpolar": [
           {
            "marker": {
             "colorbar": {
              "outlinewidth": 0,
              "ticks": ""
             }
            },
            "type": "scatterpolar"
           }
          ],
          "scatterpolargl": [
           {
            "marker": {
             "colorbar": {
              "outlinewidth": 0,
              "ticks": ""
             }
            },
            "type": "scatterpolargl"
           }
          ],
          "scatterternary": [
           {
            "marker": {
             "colorbar": {
              "outlinewidth": 0,
              "ticks": ""
             }
            },
            "type": "scatterternary"
           }
          ],
          "surface": [
           {
            "colorbar": {
             "outlinewidth": 0,
             "ticks": ""
            },
            "colorscale": [
             [
              0,
              "#0d0887"
             ],
             [
              0.1111111111111111,
              "#46039f"
             ],
             [
              0.2222222222222222,
              "#7201a8"
             ],
             [
              0.3333333333333333,
              "#9c179e"
             ],
             [
              0.4444444444444444,
              "#bd3786"
             ],
             [
              0.5555555555555556,
              "#d8576b"
             ],
             [
              0.6666666666666666,
              "#ed7953"
             ],
             [
              0.7777777777777778,
              "#fb9f3a"
             ],
             [
              0.8888888888888888,
              "#fdca26"
             ],
             [
              1,
              "#f0f921"
             ]
            ],
            "type": "surface"
           }
          ],
          "table": [
           {
            "cells": {
             "fill": {
              "color": "#EBF0F8"
             },
             "line": {
              "color": "white"
             }
            },
            "header": {
             "fill": {
              "color": "#C8D4E3"
             },
             "line": {
              "color": "white"
             }
            },
            "type": "table"
           }
          ]
         },
         "layout": {
          "annotationdefaults": {
           "arrowcolor": "#2a3f5f",
           "arrowhead": 0,
           "arrowwidth": 1
          },
          "autotypenumbers": "strict",
          "coloraxis": {
           "colorbar": {
            "outlinewidth": 0,
            "ticks": ""
           }
          },
          "colorscale": {
           "diverging": [
            [
             0,
             "#8e0152"
            ],
            [
             0.1,
             "#c51b7d"
            ],
            [
             0.2,
             "#de77ae"
            ],
            [
             0.3,
             "#f1b6da"
            ],
            [
             0.4,
             "#fde0ef"
            ],
            [
             0.5,
             "#f7f7f7"
            ],
            [
             0.6,
             "#e6f5d0"
            ],
            [
             0.7,
             "#b8e186"
            ],
            [
             0.8,
             "#7fbc41"
            ],
            [
             0.9,
             "#4d9221"
            ],
            [
             1,
             "#276419"
            ]
           ],
           "sequential": [
            [
             0,
             "#0d0887"
            ],
            [
             0.1111111111111111,
             "#46039f"
            ],
            [
             0.2222222222222222,
             "#7201a8"
            ],
            [
             0.3333333333333333,
             "#9c179e"
            ],
            [
             0.4444444444444444,
             "#bd3786"
            ],
            [
             0.5555555555555556,
             "#d8576b"
            ],
            [
             0.6666666666666666,
             "#ed7953"
            ],
            [
             0.7777777777777778,
             "#fb9f3a"
            ],
            [
             0.8888888888888888,
             "#fdca26"
            ],
            [
             1,
             "#f0f921"
            ]
           ],
           "sequentialminus": [
            [
             0,
             "#0d0887"
            ],
            [
             0.1111111111111111,
             "#46039f"
            ],
            [
             0.2222222222222222,
             "#7201a8"
            ],
            [
             0.3333333333333333,
             "#9c179e"
            ],
            [
             0.4444444444444444,
             "#bd3786"
            ],
            [
             0.5555555555555556,
             "#d8576b"
            ],
            [
             0.6666666666666666,
             "#ed7953"
            ],
            [
             0.7777777777777778,
             "#fb9f3a"
            ],
            [
             0.8888888888888888,
             "#fdca26"
            ],
            [
             1,
             "#f0f921"
            ]
           ]
          },
          "colorway": [
           "#636efa",
           "#EF553B",
           "#00cc96",
           "#ab63fa",
           "#FFA15A",
           "#19d3f3",
           "#FF6692",
           "#B6E880",
           "#FF97FF",
           "#FECB52"
          ],
          "font": {
           "color": "#2a3f5f"
          },
          "geo": {
           "bgcolor": "white",
           "lakecolor": "white",
           "landcolor": "#E5ECF6",
           "showlakes": true,
           "showland": true,
           "subunitcolor": "white"
          },
          "hoverlabel": {
           "align": "left"
          },
          "hovermode": "closest",
          "mapbox": {
           "style": "light"
          },
          "paper_bgcolor": "white",
          "plot_bgcolor": "#E5ECF6",
          "polar": {
           "angularaxis": {
            "gridcolor": "white",
            "linecolor": "white",
            "ticks": ""
           },
           "bgcolor": "#E5ECF6",
           "radialaxis": {
            "gridcolor": "white",
            "linecolor": "white",
            "ticks": ""
           }
          },
          "scene": {
           "xaxis": {
            "backgroundcolor": "#E5ECF6",
            "gridcolor": "white",
            "gridwidth": 2,
            "linecolor": "white",
            "showbackground": true,
            "ticks": "",
            "zerolinecolor": "white"
           },
           "yaxis": {
            "backgroundcolor": "#E5ECF6",
            "gridcolor": "white",
            "gridwidth": 2,
            "linecolor": "white",
            "showbackground": true,
            "ticks": "",
            "zerolinecolor": "white"
           },
           "zaxis": {
            "backgroundcolor": "#E5ECF6",
            "gridcolor": "white",
            "gridwidth": 2,
            "linecolor": "white",
            "showbackground": true,
            "ticks": "",
            "zerolinecolor": "white"
           }
          },
          "shapedefaults": {
           "line": {
            "color": "#2a3f5f"
           }
          },
          "ternary": {
           "aaxis": {
            "gridcolor": "white",
            "linecolor": "white",
            "ticks": ""
           },
           "baxis": {
            "gridcolor": "white",
            "linecolor": "white",
            "ticks": ""
           },
           "bgcolor": "#E5ECF6",
           "caxis": {
            "gridcolor": "white",
            "linecolor": "white",
            "ticks": ""
           }
          },
          "title": {
           "x": 0.05
          },
          "xaxis": {
           "automargin": true,
           "gridcolor": "white",
           "linecolor": "white",
           "ticks": "",
           "title": {
            "standoff": 15
           },
           "zerolinecolor": "white",
           "zerolinewidth": 2
          },
          "yaxis": {
           "automargin": true,
           "gridcolor": "white",
           "linecolor": "white",
           "ticks": "",
           "title": {
            "standoff": 15
           },
           "zerolinecolor": "white",
           "zerolinewidth": 2
          }
         }
        },
        "title": {
         "text": "PBMC3 - default labels"
        },
        "width": 700,
        "xaxis": {
         "showgrid": false,
         "visible": false,
         "zeroline": false
        },
        "yaxis": {
         "showgrid": false,
         "visible": false,
         "zeroline": false
        }
       }
      }
     },
     "metadata": {},
     "output_type": "display_data"
    },
    {
     "name": "stdout",
     "output_type": "stream",
     "text": [
      "------------------------------\n",
      "PBMC4 - default labels\n"
     ]
    },
    {
     "name": "stderr",
     "output_type": "stream",
     "text": [
      "/Users/irenetesta/anaconda3/envs/chl/lib/python3.11/site-packages/anndata/_core/anndata.py:1113: FutureWarning:\n",
      "\n",
      "is_categorical_dtype is deprecated and will be removed in a future version. Use isinstance(dtype, CategoricalDtype) instead\n",
      "\n"
     ]
    },
    {
     "data": {
      "text/html": [
       "<div>\n",
       "<style scoped>\n",
       "    .dataframe tbody tr th:only-of-type {\n",
       "        vertical-align: middle;\n",
       "    }\n",
       "\n",
       "    .dataframe tbody tr th {\n",
       "        vertical-align: top;\n",
       "    }\n",
       "\n",
       "    .dataframe thead th {\n",
       "        text-align: right;\n",
       "    }\n",
       "</style>\n",
       "<table border=\"1\" class=\"dataframe\">\n",
       "  <thead>\n",
       "    <tr style=\"text-align: right;\">\n",
       "      <th></th>\n",
       "      <th>NMI</th>\n",
       "      <th>ARI</th>\n",
       "      <th>homogeneity</th>\n",
       "      <th>completeness</th>\n",
       "      <th>v_measure</th>\n",
       "      <th>fowlkes_mallows</th>\n",
       "    </tr>\n",
       "  </thead>\n",
       "  <tbody>\n",
       "    <tr>\n",
       "      <th>monocle</th>\n",
       "      <td>0.617714</td>\n",
       "      <td>0.497717</td>\n",
       "      <td>0.456620</td>\n",
       "      <td>0.954434</td>\n",
       "      <td>0.617714</td>\n",
       "      <td>0.667591</td>\n",
       "    </tr>\n",
       "    <tr>\n",
       "      <th>scanpy</th>\n",
       "      <td>0.690181</td>\n",
       "      <td>0.355238</td>\n",
       "      <td>0.815725</td>\n",
       "      <td>0.598126</td>\n",
       "      <td>0.690181</td>\n",
       "      <td>0.471439</td>\n",
       "    </tr>\n",
       "    <tr>\n",
       "      <th>scvi-tools</th>\n",
       "      <td>0.722408</td>\n",
       "      <td>0.449732</td>\n",
       "      <td>0.779284</td>\n",
       "      <td>0.673269</td>\n",
       "      <td>0.722408</td>\n",
       "      <td>0.543035</td>\n",
       "    </tr>\n",
       "    <tr>\n",
       "      <th>seurat</th>\n",
       "      <td>0.758058</td>\n",
       "      <td>0.477452</td>\n",
       "      <td>0.853752</td>\n",
       "      <td>0.681654</td>\n",
       "      <td>0.758058</td>\n",
       "      <td>0.576361</td>\n",
       "    </tr>\n",
       "    <tr>\n",
       "      <th>COTAN</th>\n",
       "      <td>0.694128</td>\n",
       "      <td>0.373214</td>\n",
       "      <td>0.843035</td>\n",
       "      <td>0.589928</td>\n",
       "      <td>0.694128</td>\n",
       "      <td>0.482714</td>\n",
       "    </tr>\n",
       "  </tbody>\n",
       "</table>\n",
       "</div>"
      ],
      "text/plain": [
       "                 NMI       ARI  homogeneity  completeness  v_measure  \\\n",
       "monocle     0.617714  0.497717     0.456620      0.954434   0.617714   \n",
       "scanpy      0.690181  0.355238     0.815725      0.598126   0.690181   \n",
       "scvi-tools  0.722408  0.449732     0.779284      0.673269   0.722408   \n",
       "seurat      0.758058  0.477452     0.853752      0.681654   0.758058   \n",
       "COTAN       0.694128  0.373214     0.843035      0.589928   0.694128   \n",
       "\n",
       "            fowlkes_mallows  \n",
       "monocle            0.667591  \n",
       "scanpy             0.471439  \n",
       "scvi-tools         0.543035  \n",
       "seurat             0.576361  \n",
       "COTAN              0.482714  "
      ]
     },
     "metadata": {},
     "output_type": "display_data"
    },
    {
     "data": {
      "application/vnd.plotly.v1+json": {
       "config": {
        "plotlyServerURL": "https://plot.ly"
       },
       "data": [
        {
         "link": {
          "source": [
           0,
           0,
           0,
           0,
           0,
           0,
           0,
           0,
           0,
           0,
           0,
           0,
           0,
           1,
           1,
           1,
           1,
           1,
           1,
           1,
           1,
           1,
           1,
           1,
           1,
           2,
           2,
           2,
           2,
           2,
           2,
           3,
           3,
           3,
           3,
           3,
           3,
           3,
           4,
           4,
           5,
           5,
           5,
           5,
           5,
           6,
           6,
           6,
           6,
           6,
           7,
           7,
           7,
           7,
           8,
           8,
           8,
           8,
           9,
           9,
           9,
           10,
           10,
           10,
           10,
           10,
           10,
           11,
           11,
           11,
           11,
           12,
           12,
           12,
           12,
           12,
           12,
           13,
           13,
           13,
           13,
           13,
           13,
           13,
           14,
           14,
           14,
           15,
           15,
           15,
           15,
           15,
           15,
           16,
           16,
           16,
           16,
           17,
           18,
           18,
           18,
           18,
           18,
           18,
           19,
           19,
           19,
           19,
           19,
           19,
           19,
           20,
           20,
           20,
           20,
           20,
           20,
           20,
           20,
           20,
           21,
           21,
           21,
           22,
           22,
           22,
           23,
           23,
           24,
           25,
           25,
           25,
           25,
           25,
           25,
           26,
           26,
           26,
           26,
           27,
           27,
           27,
           27,
           27,
           27,
           27,
           27,
           27,
           27,
           27,
           27,
           27,
           28,
           28,
           28,
           28,
           28,
           28,
           29,
           29,
           29,
           29,
           29,
           29,
           30,
           30,
           30,
           30,
           30,
           30,
           31,
           31,
           31,
           31,
           31,
           31,
           31,
           31,
           31,
           32,
           32,
           32,
           32,
           32,
           32,
           32,
           32,
           33,
           33,
           33,
           33,
           33,
           33,
           34,
           34,
           34,
           34,
           35,
           35,
           35,
           35,
           36,
           36,
           36,
           36,
           37,
           37,
           37,
           37,
           37,
           37,
           38,
           38,
           38,
           38,
           38,
           38,
           39,
           39,
           40,
           40,
           40,
           40,
           40,
           40,
           40,
           41,
           41,
           42,
           42,
           42,
           42,
           42,
           42,
           43,
           43,
           43,
           43,
           43,
           43,
           43,
           44,
           44,
           44,
           44,
           44,
           44,
           44,
           45,
           45,
           45,
           45,
           45,
           45,
           45,
           45,
           46,
           46,
           46,
           46,
           47,
           47,
           47,
           47,
           47,
           47,
           48,
           48,
           48,
           48,
           48,
           48,
           48,
           48,
           48,
           49,
           49,
           49,
           49,
           49,
           50,
           50,
           50,
           50,
           50,
           51,
           52,
           53,
           53,
           53,
           53,
           53,
           54,
           54,
           55,
           55,
           55,
           55,
           55,
           55,
           55,
           55,
           56,
           57,
           57,
           57,
           57,
           57,
           57,
           58,
           58,
           58,
           58,
           58,
           59,
           59,
           60,
           60,
           60,
           60,
           61,
           62,
           62,
           62,
           63,
           63,
           63,
           64,
           64,
           65,
           65,
           65,
           66,
           67,
           68,
           68,
           68,
           69,
           69,
           69,
           69,
           70,
           70,
           71,
           71,
           72,
           72,
           73,
           73,
           73,
           74,
           74,
           74,
           74,
           75,
           75,
           76,
           76,
           77,
           77,
           77,
           77,
           78,
           78,
           78,
           79,
           79,
           79,
           80,
           80,
           81,
           81,
           81,
           81,
           82,
           82,
           82,
           83,
           83,
           83,
           83,
           84,
           84,
           85,
           85,
           86,
           86,
           87,
           87,
           87,
           88,
           88,
           88,
           88,
           89,
           89,
           89,
           89,
           89,
           89,
           90,
           90,
           91,
           91,
           91,
           91,
           92,
           92,
           92,
           92,
           92,
           92,
           93,
           93,
           93,
           93,
           93,
           93,
           93,
           93
          ],
          "target": [
           3,
           7,
           8,
           9,
           10,
           11,
           13,
           15,
           16,
           17,
           20,
           21,
           22,
           5,
           6,
           9,
           11,
           12,
           14,
           15,
           18,
           19,
           20,
           22,
           23,
           4,
           13,
           15,
           19,
           22,
           24,
           25,
           27,
           28,
           31,
           32,
           34,
           35,
           26,
           39,
           27,
           29,
           30,
           33,
           38,
           27,
           29,
           30,
           33,
           36,
           25,
           28,
           31,
           35,
           25,
           28,
           31,
           35,
           27,
           29,
           30,
           25,
           31,
           32,
           34,
           35,
           37,
           27,
           31,
           32,
           37,
           27,
           29,
           30,
           33,
           36,
           38,
           25,
           26,
           27,
           28,
           31,
           34,
           39,
           27,
           30,
           33,
           25,
           27,
           28,
           31,
           32,
           35,
           25,
           28,
           31,
           34,
           31,
           27,
           29,
           30,
           31,
           33,
           36,
           26,
           27,
           29,
           30,
           33,
           36,
           39,
           27,
           29,
           30,
           31,
           32,
           33,
           34,
           36,
           37,
           31,
           32,
           37,
           27,
           29,
           38,
           36,
           39,
           26,
           40,
           41,
           46,
           49,
           50,
           57,
           44,
           48,
           57,
           58,
           40,
           42,
           43,
           45,
           46,
           47,
           48,
           50,
           51,
           53,
           54,
           55,
           58,
           40,
           41,
           49,
           50,
           52,
           57,
           42,
           43,
           45,
           53,
           54,
           55,
           42,
           43,
           45,
           51,
           53,
           58,
           40,
           41,
           45,
           46,
           47,
           49,
           50,
           52,
           53,
           40,
           46,
           47,
           48,
           49,
           53,
           54,
           57,
           43,
           45,
           51,
           53,
           54,
           58,
           40,
           46,
           49,
           57,
           40,
           41,
           50,
           52,
           45,
           53,
           54,
           56,
           40,
           46,
           47,
           49,
           53,
           57,
           42,
           43,
           45,
           46,
           51,
           55,
           48,
           56,
           60,
           77,
           82,
           89,
           91,
           92,
           93,
           92,
           93,
           61,
           63,
           64,
           65,
           66,
           67,
           61,
           62,
           64,
           65,
           66,
           67,
           68,
           75,
           76,
           77,
           78,
           79,
           80,
           81,
           60,
           61,
           62,
           63,
           64,
           65,
           66,
           67,
           86,
           89,
           90,
           93,
           81,
           82,
           83,
           84,
           85,
           86,
           59,
           73,
           76,
           77,
           78,
           79,
           80,
           81,
           85,
           83,
           90,
           91,
           92,
           93,
           60,
           87,
           88,
           92,
           93,
           68,
           92,
           60,
           61,
           62,
           65,
           68,
           64,
           69,
           62,
           63,
           64,
           66,
           71,
           72,
           79,
           81,
           70,
           74,
           76,
           77,
           79,
           81,
           92,
           59,
           60,
           62,
           63,
           65,
           95,
           106,
           94,
           95,
           96,
           106,
           95,
           95,
           96,
           102,
           95,
           96,
           102,
           95,
           102,
           95,
           102,
           106,
           95,
           95,
           95,
           102,
           106,
           95,
           96,
           97,
           102,
           96,
           110,
           95,
           99,
           95,
           106,
           100,
           101,
           103,
           94,
           97,
           101,
           106,
           100,
           101,
           100,
           101,
           100,
           101,
           103,
           106,
           100,
           101,
           103,
           95,
           100,
           101,
           100,
           101,
           95,
           100,
           101,
           106,
           94,
           97,
           106,
           94,
           98,
           108,
           109,
           94,
           106,
           94,
           106,
           94,
           106,
           104,
           106,
           109,
           94,
           104,
           106,
           108,
           94,
           95,
           98,
           101,
           106,
           109,
           98,
           106,
           105,
           106,
           108,
           109,
           101,
           104,
           105,
           106,
           107,
           109,
           94,
           95,
           98,
           104,
           105,
           106,
           107,
           109
          ],
          "value": [
           832,
           509,
           447,
           1,
           399,
           359,
           11,
           211,
           193,
           190,
           7,
           101,
           1,
           596,
           530,
           427,
           1,
           284,
           217,
           4,
           181,
           155,
           142,
           74,
           59,
           719,
           261,
           2,
           12,
           2,
           39,
           675,
           1,
           63,
           9,
           6,
           14,
           64,
           718,
           1,
           254,
           218,
           122,
           1,
           1,
           33,
           242,
           161,
           92,
           2,
           88,
           378,
           4,
           39,
           106,
           291,
           4,
           46,
           346,
           50,
           32,
           5,
           8,
           3,
           298,
           1,
           84,
           2,
           5,
           348,
           5,
           23,
           216,
           30,
           10,
           3,
           2,
           2,
           254,
           1,
           1,
           1,
           6,
           7,
           6,
           1,
           210,
           152,
           2,
           36,
           10,
           5,
           12,
           5,
           2,
           177,
           9,
           190,
           12,
           10,
           150,
           1,
           7,
           1,
           3,
           44,
           8,
           3,
           6,
           102,
           1,
           110,
           13,
           6,
           3,
           2,
           5,
           1,
           3,
           6,
           89,
           5,
           7,
           6,
           5,
           66,
           1,
           58,
           39,
           733,
           96,
           4,
           2,
           196,
           2,
           633,
           336,
           43,
           2,
           4,
           85,
           543,
           54,
           1,
           2,
           2,
           1,
           5,
           100,
           2,
           2,
           39,
           70,
           676,
           4,
           19,
           1,
           1,
           365,
           123,
           252,
           10,
           9,
           3,
           328,
           55,
           112,
           1,
           8,
           1,
           32,
           25,
           1,
           3,
           1,
           235,
           11,
           190,
           3,
           8,
           2,
           352,
           1,
           2,
           2,
           1,
           1,
           7,
           109,
           207,
           5,
           1,
           2,
           8,
           312,
           3,
           5,
           80,
           72,
           9,
           1,
           2,
           3,
           106,
           1,
           1,
           85,
           1,
           8,
           6,
           1,
           2,
           3,
           4,
           1,
           1,
           58,
           9,
           58,
           1,
           1,
           8,
           3,
           7,
           100,
           816,
           860,
           9,
           11,
           1,
           38,
           8,
           413,
           309,
           12,
           1,
           1,
           703,
           12,
           1,
           1,
           24,
           14,
           1,
           31,
           127,
           86,
           350,
           1,
           17,
           127,
           124,
           213,
           12,
           19,
           21,
           1,
           326,
           80,
           1,
           1,
           56,
           1,
           53,
           120,
           125,
           2,
           26,
           132,
           164,
           5,
           2,
           9,
           7,
           1,
           109,
           2,
           136,
           4,
           3,
           1,
           77,
           68,
           25,
           65,
           214,
           192,
           128,
           1,
           1,
           6,
           1,
           1,
           118,
           1,
           1,
           1,
           4,
           28,
           26,
           1,
           1,
           59,
           46,
           1,
           1,
           3,
           1,
           1,
           39,
           1,
           1,
           1,
           2,
           40,
           1,
           1,
           123,
           5,
           3,
           41,
           107,
           1,
           23,
           123,
           2,
           2,
           252,
           2,
           716,
           2,
           13,
           448,
           331,
           2,
           213,
           1,
           24,
           92,
           1,
           1,
           1,
           58,
           1,
           27,
           23,
           3,
           18,
           1,
           7,
           1,
           1,
           43,
           1,
           1,
           23,
           124,
           23,
           149,
           16,
           1,
           1,
           4,
           31,
           1,
           1,
           1,
           131,
           3,
           92,
           1,
           8,
           350,
           1,
           59,
           2,
           3,
           1,
           1,
           107,
           1,
           52,
           1,
           120,
           1,
           119,
           7,
           22,
           48,
           7,
           1,
           53,
           13,
           1,
           1,
           2,
           320,
           1,
           2,
           3,
           81,
           1,
           4,
           2,
           8,
           129,
           1,
           2,
           203,
           966,
           1,
           9,
           2,
           1,
           5,
           9,
           1,
           542,
           310,
           24
          ]
         },
         "node": {
          "color": [
           "#1f77b4",
           "#ff7f0e",
           "#2ca02c",
           "#d62728",
           "#9467bd",
           "#8c564b",
           "#e377c2",
           "#7f7f7f",
           "#bcbd22",
           "#17becf",
           "#1f77b4",
           "#ff7f0e",
           "#2ca02c",
           "#d62728",
           "#9467bd",
           "#8c564b",
           "#e377c2",
           "#7f7f7f",
           "#bcbd22",
           "#17becf",
           "#1f77b4",
           "#ff7f0e",
           "#2ca02c",
           "#d62728",
           "#9467bd",
           "#8c564b",
           "#e377c2",
           "#7f7f7f",
           "#bcbd22",
           "#17becf",
           "#1f77b4",
           "#ff7f0e",
           "#2ca02c",
           "#d62728",
           "#9467bd",
           "#8c564b",
           "#e377c2",
           "#7f7f7f",
           "#bcbd22",
           "#17becf",
           "#1f77b4",
           "#ff7f0e",
           "#2ca02c",
           "#d62728",
           "#9467bd",
           "#8c564b",
           "#e377c2",
           "#7f7f7f",
           "#bcbd22",
           "#17becf",
           "#1f77b4",
           "#ff7f0e",
           "#2ca02c",
           "#d62728",
           "#9467bd",
           "#8c564b",
           "#e377c2",
           "#7f7f7f",
           "#bcbd22",
           "#17becf",
           "#1f77b4",
           "#ff7f0e",
           "#2ca02c",
           "#d62728",
           "#9467bd",
           "#8c564b",
           "#e377c2",
           "#7f7f7f",
           "#bcbd22",
           "#17becf",
           "#1f77b4",
           "#ff7f0e",
           "#2ca02c",
           "#d62728",
           "#9467bd",
           "#8c564b",
           "#e377c2",
           "#7f7f7f",
           "#bcbd22",
           "#17becf",
           "#1f77b4",
           "#ff7f0e",
           "#2ca02c",
           "#d62728",
           "#9467bd",
           "#8c564b",
           "#e377c2",
           "#7f7f7f",
           "#bcbd22",
           "#17becf",
           "#1f77b4",
           "#ff7f0e",
           "#2ca02c",
           "#d62728",
           "#9467bd",
           "#8c564b",
           "#e377c2",
           "#7f7f7f",
           "#bcbd22",
           "#17becf",
           "#1f77b4",
           "#ff7f0e",
           "#2ca02c",
           "#d62728",
           "#9467bd",
           "#8c564b",
           "#e377c2",
           "#7f7f7f",
           "#bcbd22",
           "#17becf",
           "#1f77b4"
          ],
          "label": [
           1,
           2,
           3,
           1,
           2,
           3,
           4,
           5,
           6,
           7,
           8,
           9,
           10,
           11,
           12,
           13,
           14,
           15,
           16,
           17,
           18,
           19,
           20,
           21,
           22,
           1,
           2,
           3,
           4,
           5,
           6,
           7,
           8,
           9,
           10,
           11,
           12,
           13,
           14,
           15,
           1,
           2,
           3,
           4,
           5,
           6,
           7,
           8,
           9,
           10,
           11,
           12,
           13,
           14,
           15,
           16,
           17,
           18,
           19,
           1,
           2,
           3,
           4,
           5,
           6,
           7,
           8,
           9,
           10,
           11,
           12,
           13,
           14,
           15,
           16,
           17,
           18,
           19,
           20,
           21,
           22,
           23,
           24,
           25,
           26,
           27,
           28,
           29,
           30,
           31,
           32,
           33,
           34,
           35,
           "CD16+ NK cells",
           "Classical monocytes",
           "DC2",
           "ELP",
           "MAIT cells",
           "Megakaryocytes/platelets",
           "Memory B cells",
           "Naive B cells",
           "Non-classical monocytes",
           "Plasma cells",
           "Regulatory T cells",
           "Tcm/Naive cytotoxic T cells",
           "Tcm/Naive helper T cells",
           "Tem/Effector helper T cells",
           "Tem/Temra cytotoxic T cells",
           "Tem/Trm cytotoxic T cells",
           "pDC"
          ],
          "line": {
           "color": "black",
           "width": 0.5
          },
          "pad": 15,
          "thickness": 20
         },
         "type": "sankey"
        }
       ],
       "layout": {
        "annotations": [
         {
          "showarrow": false,
          "text": "monocle",
          "x": 0,
          "xref": "x",
          "y": 1.05,
          "yref": "paper"
         },
         {
          "showarrow": false,
          "text": "scanpy",
          "x": 1,
          "xref": "x",
          "y": 1.05,
          "yref": "paper"
         },
         {
          "showarrow": false,
          "text": "scvi-tools",
          "x": 2,
          "xref": "x",
          "y": 1.05,
          "yref": "paper"
         },
         {
          "showarrow": false,
          "text": "seurat",
          "x": 3,
          "xref": "x",
          "y": 1.05,
          "yref": "paper"
         },
         {
          "showarrow": false,
          "text": "COTAN",
          "x": 4,
          "xref": "x",
          "y": 1.05,
          "yref": "paper"
         },
         {
          "showarrow": false,
          "text": "celltypist",
          "x": 5,
          "xref": "x",
          "y": 1.05,
          "yref": "paper"
         }
        ],
        "font": {
         "size": 10
        },
        "height": 450,
        "plot_bgcolor": "rgba(0,0,0,0)",
        "template": {
         "data": {
          "bar": [
           {
            "error_x": {
             "color": "#2a3f5f"
            },
            "error_y": {
             "color": "#2a3f5f"
            },
            "marker": {
             "line": {
              "color": "#E5ECF6",
              "width": 0.5
             },
             "pattern": {
              "fillmode": "overlay",
              "size": 10,
              "solidity": 0.2
             }
            },
            "type": "bar"
           }
          ],
          "barpolar": [
           {
            "marker": {
             "line": {
              "color": "#E5ECF6",
              "width": 0.5
             },
             "pattern": {
              "fillmode": "overlay",
              "size": 10,
              "solidity": 0.2
             }
            },
            "type": "barpolar"
           }
          ],
          "carpet": [
           {
            "aaxis": {
             "endlinecolor": "#2a3f5f",
             "gridcolor": "white",
             "linecolor": "white",
             "minorgridcolor": "white",
             "startlinecolor": "#2a3f5f"
            },
            "baxis": {
             "endlinecolor": "#2a3f5f",
             "gridcolor": "white",
             "linecolor": "white",
             "minorgridcolor": "white",
             "startlinecolor": "#2a3f5f"
            },
            "type": "carpet"
           }
          ],
          "choropleth": [
           {
            "colorbar": {
             "outlinewidth": 0,
             "ticks": ""
            },
            "type": "choropleth"
           }
          ],
          "contour": [
           {
            "colorbar": {
             "outlinewidth": 0,
             "ticks": ""
            },
            "colorscale": [
             [
              0,
              "#0d0887"
             ],
             [
              0.1111111111111111,
              "#46039f"
             ],
             [
              0.2222222222222222,
              "#7201a8"
             ],
             [
              0.3333333333333333,
              "#9c179e"
             ],
             [
              0.4444444444444444,
              "#bd3786"
             ],
             [
              0.5555555555555556,
              "#d8576b"
             ],
             [
              0.6666666666666666,
              "#ed7953"
             ],
             [
              0.7777777777777778,
              "#fb9f3a"
             ],
             [
              0.8888888888888888,
              "#fdca26"
             ],
             [
              1,
              "#f0f921"
             ]
            ],
            "type": "contour"
           }
          ],
          "contourcarpet": [
           {
            "colorbar": {
             "outlinewidth": 0,
             "ticks": ""
            },
            "type": "contourcarpet"
           }
          ],
          "heatmap": [
           {
            "colorbar": {
             "outlinewidth": 0,
             "ticks": ""
            },
            "colorscale": [
             [
              0,
              "#0d0887"
             ],
             [
              0.1111111111111111,
              "#46039f"
             ],
             [
              0.2222222222222222,
              "#7201a8"
             ],
             [
              0.3333333333333333,
              "#9c179e"
             ],
             [
              0.4444444444444444,
              "#bd3786"
             ],
             [
              0.5555555555555556,
              "#d8576b"
             ],
             [
              0.6666666666666666,
              "#ed7953"
             ],
             [
              0.7777777777777778,
              "#fb9f3a"
             ],
             [
              0.8888888888888888,
              "#fdca26"
             ],
             [
              1,
              "#f0f921"
             ]
            ],
            "type": "heatmap"
           }
          ],
          "heatmapgl": [
           {
            "colorbar": {
             "outlinewidth": 0,
             "ticks": ""
            },
            "colorscale": [
             [
              0,
              "#0d0887"
             ],
             [
              0.1111111111111111,
              "#46039f"
             ],
             [
              0.2222222222222222,
              "#7201a8"
             ],
             [
              0.3333333333333333,
              "#9c179e"
             ],
             [
              0.4444444444444444,
              "#bd3786"
             ],
             [
              0.5555555555555556,
              "#d8576b"
             ],
             [
              0.6666666666666666,
              "#ed7953"
             ],
             [
              0.7777777777777778,
              "#fb9f3a"
             ],
             [
              0.8888888888888888,
              "#fdca26"
             ],
             [
              1,
              "#f0f921"
             ]
            ],
            "type": "heatmapgl"
           }
          ],
          "histogram": [
           {
            "marker": {
             "pattern": {
              "fillmode": "overlay",
              "size": 10,
              "solidity": 0.2
             }
            },
            "type": "histogram"
           }
          ],
          "histogram2d": [
           {
            "colorbar": {
             "outlinewidth": 0,
             "ticks": ""
            },
            "colorscale": [
             [
              0,
              "#0d0887"
             ],
             [
              0.1111111111111111,
              "#46039f"
             ],
             [
              0.2222222222222222,
              "#7201a8"
             ],
             [
              0.3333333333333333,
              "#9c179e"
             ],
             [
              0.4444444444444444,
              "#bd3786"
             ],
             [
              0.5555555555555556,
              "#d8576b"
             ],
             [
              0.6666666666666666,
              "#ed7953"
             ],
             [
              0.7777777777777778,
              "#fb9f3a"
             ],
             [
              0.8888888888888888,
              "#fdca26"
             ],
             [
              1,
              "#f0f921"
             ]
            ],
            "type": "histogram2d"
           }
          ],
          "histogram2dcontour": [
           {
            "colorbar": {
             "outlinewidth": 0,
             "ticks": ""
            },
            "colorscale": [
             [
              0,
              "#0d0887"
             ],
             [
              0.1111111111111111,
              "#46039f"
             ],
             [
              0.2222222222222222,
              "#7201a8"
             ],
             [
              0.3333333333333333,
              "#9c179e"
             ],
             [
              0.4444444444444444,
              "#bd3786"
             ],
             [
              0.5555555555555556,
              "#d8576b"
             ],
             [
              0.6666666666666666,
              "#ed7953"
             ],
             [
              0.7777777777777778,
              "#fb9f3a"
             ],
             [
              0.8888888888888888,
              "#fdca26"
             ],
             [
              1,
              "#f0f921"
             ]
            ],
            "type": "histogram2dcontour"
           }
          ],
          "mesh3d": [
           {
            "colorbar": {
             "outlinewidth": 0,
             "ticks": ""
            },
            "type": "mesh3d"
           }
          ],
          "parcoords": [
           {
            "line": {
             "colorbar": {
              "outlinewidth": 0,
              "ticks": ""
             }
            },
            "type": "parcoords"
           }
          ],
          "pie": [
           {
            "automargin": true,
            "type": "pie"
           }
          ],
          "scatter": [
           {
            "fillpattern": {
             "fillmode": "overlay",
             "size": 10,
             "solidity": 0.2
            },
            "type": "scatter"
           }
          ],
          "scatter3d": [
           {
            "line": {
             "colorbar": {
              "outlinewidth": 0,
              "ticks": ""
             }
            },
            "marker": {
             "colorbar": {
              "outlinewidth": 0,
              "ticks": ""
             }
            },
            "type": "scatter3d"
           }
          ],
          "scattercarpet": [
           {
            "marker": {
             "colorbar": {
              "outlinewidth": 0,
              "ticks": ""
             }
            },
            "type": "scattercarpet"
           }
          ],
          "scattergeo": [
           {
            "marker": {
             "colorbar": {
              "outlinewidth": 0,
              "ticks": ""
             }
            },
            "type": "scattergeo"
           }
          ],
          "scattergl": [
           {
            "marker": {
             "colorbar": {
              "outlinewidth": 0,
              "ticks": ""
             }
            },
            "type": "scattergl"
           }
          ],
          "scattermapbox": [
           {
            "marker": {
             "colorbar": {
              "outlinewidth": 0,
              "ticks": ""
             }
            },
            "type": "scattermapbox"
           }
          ],
          "scatterpolar": [
           {
            "marker": {
             "colorbar": {
              "outlinewidth": 0,
              "ticks": ""
             }
            },
            "type": "scatterpolar"
           }
          ],
          "scatterpolargl": [
           {
            "marker": {
             "colorbar": {
              "outlinewidth": 0,
              "ticks": ""
             }
            },
            "type": "scatterpolargl"
           }
          ],
          "scatterternary": [
           {
            "marker": {
             "colorbar": {
              "outlinewidth": 0,
              "ticks": ""
             }
            },
            "type": "scatterternary"
           }
          ],
          "surface": [
           {
            "colorbar": {
             "outlinewidth": 0,
             "ticks": ""
            },
            "colorscale": [
             [
              0,
              "#0d0887"
             ],
             [
              0.1111111111111111,
              "#46039f"
             ],
             [
              0.2222222222222222,
              "#7201a8"
             ],
             [
              0.3333333333333333,
              "#9c179e"
             ],
             [
              0.4444444444444444,
              "#bd3786"
             ],
             [
              0.5555555555555556,
              "#d8576b"
             ],
             [
              0.6666666666666666,
              "#ed7953"
             ],
             [
              0.7777777777777778,
              "#fb9f3a"
             ],
             [
              0.8888888888888888,
              "#fdca26"
             ],
             [
              1,
              "#f0f921"
             ]
            ],
            "type": "surface"
           }
          ],
          "table": [
           {
            "cells": {
             "fill": {
              "color": "#EBF0F8"
             },
             "line": {
              "color": "white"
             }
            },
            "header": {
             "fill": {
              "color": "#C8D4E3"
             },
             "line": {
              "color": "white"
             }
            },
            "type": "table"
           }
          ]
         },
         "layout": {
          "annotationdefaults": {
           "arrowcolor": "#2a3f5f",
           "arrowhead": 0,
           "arrowwidth": 1
          },
          "autotypenumbers": "strict",
          "coloraxis": {
           "colorbar": {
            "outlinewidth": 0,
            "ticks": ""
           }
          },
          "colorscale": {
           "diverging": [
            [
             0,
             "#8e0152"
            ],
            [
             0.1,
             "#c51b7d"
            ],
            [
             0.2,
             "#de77ae"
            ],
            [
             0.3,
             "#f1b6da"
            ],
            [
             0.4,
             "#fde0ef"
            ],
            [
             0.5,
             "#f7f7f7"
            ],
            [
             0.6,
             "#e6f5d0"
            ],
            [
             0.7,
             "#b8e186"
            ],
            [
             0.8,
             "#7fbc41"
            ],
            [
             0.9,
             "#4d9221"
            ],
            [
             1,
             "#276419"
            ]
           ],
           "sequential": [
            [
             0,
             "#0d0887"
            ],
            [
             0.1111111111111111,
             "#46039f"
            ],
            [
             0.2222222222222222,
             "#7201a8"
            ],
            [
             0.3333333333333333,
             "#9c179e"
            ],
            [
             0.4444444444444444,
             "#bd3786"
            ],
            [
             0.5555555555555556,
             "#d8576b"
            ],
            [
             0.6666666666666666,
             "#ed7953"
            ],
            [
             0.7777777777777778,
             "#fb9f3a"
            ],
            [
             0.8888888888888888,
             "#fdca26"
            ],
            [
             1,
             "#f0f921"
            ]
           ],
           "sequentialminus": [
            [
             0,
             "#0d0887"
            ],
            [
             0.1111111111111111,
             "#46039f"
            ],
            [
             0.2222222222222222,
             "#7201a8"
            ],
            [
             0.3333333333333333,
             "#9c179e"
            ],
            [
             0.4444444444444444,
             "#bd3786"
            ],
            [
             0.5555555555555556,
             "#d8576b"
            ],
            [
             0.6666666666666666,
             "#ed7953"
            ],
            [
             0.7777777777777778,
             "#fb9f3a"
            ],
            [
             0.8888888888888888,
             "#fdca26"
            ],
            [
             1,
             "#f0f921"
            ]
           ]
          },
          "colorway": [
           "#636efa",
           "#EF553B",
           "#00cc96",
           "#ab63fa",
           "#FFA15A",
           "#19d3f3",
           "#FF6692",
           "#B6E880",
           "#FF97FF",
           "#FECB52"
          ],
          "font": {
           "color": "#2a3f5f"
          },
          "geo": {
           "bgcolor": "white",
           "lakecolor": "white",
           "landcolor": "#E5ECF6",
           "showlakes": true,
           "showland": true,
           "subunitcolor": "white"
          },
          "hoverlabel": {
           "align": "left"
          },
          "hovermode": "closest",
          "mapbox": {
           "style": "light"
          },
          "paper_bgcolor": "white",
          "plot_bgcolor": "#E5ECF6",
          "polar": {
           "angularaxis": {
            "gridcolor": "white",
            "linecolor": "white",
            "ticks": ""
           },
           "bgcolor": "#E5ECF6",
           "radialaxis": {
            "gridcolor": "white",
            "linecolor": "white",
            "ticks": ""
           }
          },
          "scene": {
           "xaxis": {
            "backgroundcolor": "#E5ECF6",
            "gridcolor": "white",
            "gridwidth": 2,
            "linecolor": "white",
            "showbackground": true,
            "ticks": "",
            "zerolinecolor": "white"
           },
           "yaxis": {
            "backgroundcolor": "#E5ECF6",
            "gridcolor": "white",
            "gridwidth": 2,
            "linecolor": "white",
            "showbackground": true,
            "ticks": "",
            "zerolinecolor": "white"
           },
           "zaxis": {
            "backgroundcolor": "#E5ECF6",
            "gridcolor": "white",
            "gridwidth": 2,
            "linecolor": "white",
            "showbackground": true,
            "ticks": "",
            "zerolinecolor": "white"
           }
          },
          "shapedefaults": {
           "line": {
            "color": "#2a3f5f"
           }
          },
          "ternary": {
           "aaxis": {
            "gridcolor": "white",
            "linecolor": "white",
            "ticks": ""
           },
           "baxis": {
            "gridcolor": "white",
            "linecolor": "white",
            "ticks": ""
           },
           "bgcolor": "#E5ECF6",
           "caxis": {
            "gridcolor": "white",
            "linecolor": "white",
            "ticks": ""
           }
          },
          "title": {
           "x": 0.05
          },
          "xaxis": {
           "automargin": true,
           "gridcolor": "white",
           "linecolor": "white",
           "ticks": "",
           "title": {
            "standoff": 15
           },
           "zerolinecolor": "white",
           "zerolinewidth": 2
          },
          "yaxis": {
           "automargin": true,
           "gridcolor": "white",
           "linecolor": "white",
           "ticks": "",
           "title": {
            "standoff": 15
           },
           "zerolinecolor": "white",
           "zerolinewidth": 2
          }
         }
        },
        "title": {
         "text": "PBMC4 - default labels"
        },
        "width": 700,
        "xaxis": {
         "showgrid": false,
         "visible": false,
         "zeroline": false
        },
        "yaxis": {
         "showgrid": false,
         "visible": false,
         "zeroline": false
        }
       }
      }
     },
     "metadata": {},
     "output_type": "display_data"
    },
    {
     "data": {
      "text/html": [
       "<div>\n",
       "<style scoped>\n",
       "    .dataframe tbody tr th:only-of-type {\n",
       "        vertical-align: middle;\n",
       "    }\n",
       "\n",
       "    .dataframe tbody tr th {\n",
       "        vertical-align: top;\n",
       "    }\n",
       "\n",
       "    .dataframe thead th {\n",
       "        text-align: right;\n",
       "    }\n",
       "</style>\n",
       "<table border=\"1\" class=\"dataframe\">\n",
       "  <thead>\n",
       "    <tr style=\"text-align: right;\">\n",
       "      <th></th>\n",
       "      <th>NMI</th>\n",
       "      <th>ARI</th>\n",
       "      <th>homogeneity</th>\n",
       "      <th>completeness</th>\n",
       "      <th>v_measure</th>\n",
       "      <th>fowlkes_mallows</th>\n",
       "    </tr>\n",
       "  </thead>\n",
       "  <tbody>\n",
       "    <tr>\n",
       "      <th>monocle</th>\n",
       "      <td>0.536861</td>\n",
       "      <td>0.325029</td>\n",
       "      <td>0.372515</td>\n",
       "      <td>0.960701</td>\n",
       "      <td>0.536861</td>\n",
       "      <td>0.532810</td>\n",
       "    </tr>\n",
       "    <tr>\n",
       "      <th>scanpy</th>\n",
       "      <td>0.622945</td>\n",
       "      <td>0.371655</td>\n",
       "      <td>0.659143</td>\n",
       "      <td>0.590516</td>\n",
       "      <td>0.622945</td>\n",
       "      <td>0.439575</td>\n",
       "    </tr>\n",
       "    <tr>\n",
       "      <th>scvi-tools</th>\n",
       "      <td>0.650080</td>\n",
       "      <td>0.439333</td>\n",
       "      <td>0.633700</td>\n",
       "      <td>0.667330</td>\n",
       "      <td>0.650080</td>\n",
       "      <td>0.499805</td>\n",
       "    </tr>\n",
       "    <tr>\n",
       "      <th>seurat</th>\n",
       "      <td>0.669274</td>\n",
       "      <td>0.436706</td>\n",
       "      <td>0.676741</td>\n",
       "      <td>0.661971</td>\n",
       "      <td>0.669274</td>\n",
       "      <td>0.496402</td>\n",
       "    </tr>\n",
       "    <tr>\n",
       "      <th>COTAN</th>\n",
       "      <td>0.620969</td>\n",
       "      <td>0.354846</td>\n",
       "      <td>0.671867</td>\n",
       "      <td>0.577239</td>\n",
       "      <td>0.620969</td>\n",
       "      <td>0.421695</td>\n",
       "    </tr>\n",
       "  </tbody>\n",
       "</table>\n",
       "</div>"
      ],
      "text/plain": [
       "                 NMI       ARI  homogeneity  completeness  v_measure  \\\n",
       "monocle     0.536861  0.325029     0.372515      0.960701   0.536861   \n",
       "scanpy      0.622945  0.371655     0.659143      0.590516   0.622945   \n",
       "scvi-tools  0.650080  0.439333     0.633700      0.667330   0.650080   \n",
       "seurat      0.669274  0.436706     0.676741      0.661971   0.669274   \n",
       "COTAN       0.620969  0.354846     0.671867      0.577239   0.620969   \n",
       "\n",
       "            fowlkes_mallows  \n",
       "monocle            0.532810  \n",
       "scanpy             0.439575  \n",
       "scvi-tools         0.499805  \n",
       "seurat             0.496402  \n",
       "COTAN              0.421695  "
      ]
     },
     "metadata": {},
     "output_type": "display_data"
    },
    {
     "data": {
      "application/vnd.plotly.v1+json": {
       "config": {
        "plotlyServerURL": "https://plot.ly"
       },
       "data": [
        {
         "link": {
          "source": [
           0,
           0,
           0,
           0,
           0,
           0,
           0,
           0,
           0,
           0,
           0,
           0,
           1,
           1,
           1,
           1,
           1,
           1,
           1,
           1,
           1,
           1,
           1,
           2,
           2,
           2,
           2,
           2,
           2,
           3,
           3,
           3,
           3,
           3,
           3,
           3,
           4,
           4,
           5,
           5,
           5,
           5,
           5,
           6,
           6,
           6,
           6,
           6,
           7,
           7,
           7,
           7,
           8,
           8,
           8,
           8,
           9,
           9,
           9,
           10,
           10,
           10,
           10,
           10,
           10,
           11,
           11,
           11,
           11,
           12,
           12,
           12,
           12,
           12,
           12,
           13,
           13,
           13,
           13,
           13,
           13,
           13,
           14,
           14,
           14,
           15,
           15,
           15,
           15,
           15,
           15,
           16,
           16,
           16,
           16,
           17,
           18,
           18,
           18,
           18,
           18,
           18,
           19,
           19,
           19,
           19,
           19,
           19,
           19,
           20,
           20,
           20,
           20,
           20,
           20,
           20,
           20,
           20,
           21,
           21,
           21,
           22,
           22,
           22,
           23,
           23,
           24,
           25,
           25,
           25,
           25,
           25,
           25,
           26,
           26,
           26,
           26,
           27,
           27,
           27,
           27,
           27,
           27,
           27,
           27,
           27,
           27,
           27,
           27,
           27,
           28,
           28,
           28,
           28,
           28,
           28,
           29,
           29,
           29,
           29,
           29,
           29,
           30,
           30,
           30,
           30,
           30,
           31,
           31,
           31,
           31,
           31,
           31,
           31,
           31,
           31,
           32,
           32,
           32,
           32,
           32,
           32,
           32,
           32,
           33,
           33,
           33,
           33,
           33,
           33,
           34,
           34,
           34,
           34,
           35,
           35,
           35,
           35,
           36,
           36,
           36,
           36,
           37,
           37,
           37,
           37,
           37,
           37,
           38,
           38,
           38,
           38,
           38,
           39,
           39,
           40,
           40,
           40,
           40,
           40,
           40,
           40,
           41,
           41,
           42,
           42,
           42,
           42,
           42,
           43,
           43,
           43,
           43,
           43,
           43,
           43,
           44,
           44,
           44,
           44,
           44,
           44,
           44,
           45,
           45,
           45,
           45,
           45,
           45,
           45,
           45,
           46,
           46,
           46,
           46,
           47,
           47,
           47,
           47,
           47,
           47,
           48,
           48,
           48,
           48,
           48,
           48,
           48,
           48,
           48,
           49,
           49,
           49,
           49,
           49,
           50,
           50,
           50,
           50,
           50,
           51,
           52,
           53,
           53,
           53,
           53,
           53,
           54,
           54,
           55,
           55,
           55,
           55,
           55,
           55,
           55,
           55,
           56,
           57,
           57,
           57,
           57,
           57,
           58,
           58,
           58,
           58,
           58,
           59,
           59,
           60,
           60,
           60,
           60,
           61,
           62,
           62,
           63,
           63,
           63,
           64,
           64,
           65,
           65,
           65,
           65,
           66,
           66,
           66,
           66,
           67,
           67,
           67,
           68,
           68,
           68,
           68,
           68,
           69,
           69,
           69,
           69,
           69,
           69,
           69,
           70,
           70,
           70,
           70,
           71,
           71,
           72,
           72,
           73,
           74,
           74,
           74,
           75,
           76,
           76,
           77,
           77,
           77,
           78,
           79,
           79,
           80,
           81,
           81,
           82,
           82,
           82,
           82,
           83,
           83,
           83,
           83,
           84,
           84,
           84,
           84,
           84,
           85,
           85,
           86,
           86,
           86,
           86,
           87,
           87,
           87,
           87,
           87,
           88,
           88,
           88,
           89,
           89,
           89,
           89,
           89,
           89,
           89,
           90,
           90,
           90,
           91,
           91,
           91,
           91,
           91,
           92,
           92,
           92,
           92,
           92,
           92,
           92,
           92,
           93,
           93,
           93,
           93,
           93,
           93,
           93,
           93,
           93,
           93
          ],
          "target": [
           3,
           7,
           8,
           9,
           10,
           11,
           13,
           15,
           16,
           17,
           20,
           21,
           5,
           6,
           9,
           12,
           14,
           15,
           18,
           19,
           20,
           22,
           23,
           4,
           13,
           15,
           19,
           22,
           24,
           25,
           27,
           28,
           31,
           32,
           34,
           35,
           26,
           39,
           27,
           29,
           30,
           33,
           38,
           27,
           29,
           30,
           33,
           36,
           25,
           28,
           31,
           35,
           25,
           28,
           31,
           35,
           27,
           29,
           30,
           25,
           31,
           32,
           34,
           35,
           37,
           27,
           31,
           32,
           37,
           27,
           29,
           30,
           33,
           36,
           38,
           25,
           26,
           27,
           28,
           31,
           34,
           39,
           27,
           30,
           33,
           25,
           27,
           28,
           31,
           32,
           35,
           25,
           28,
           31,
           34,
           31,
           27,
           29,
           30,
           31,
           33,
           36,
           26,
           27,
           29,
           30,
           33,
           36,
           39,
           27,
           29,
           30,
           31,
           32,
           33,
           34,
           36,
           37,
           31,
           32,
           37,
           27,
           29,
           38,
           36,
           39,
           26,
           40,
           41,
           46,
           49,
           50,
           57,
           44,
           48,
           57,
           58,
           40,
           42,
           43,
           45,
           46,
           47,
           48,
           50,
           51,
           53,
           54,
           55,
           58,
           40,
           41,
           49,
           50,
           52,
           57,
           42,
           43,
           45,
           53,
           54,
           55,
           42,
           43,
           45,
           53,
           58,
           40,
           41,
           45,
           46,
           47,
           49,
           50,
           52,
           53,
           40,
           46,
           47,
           48,
           49,
           53,
           54,
           57,
           43,
           45,
           51,
           53,
           54,
           58,
           40,
           46,
           49,
           57,
           40,
           41,
           50,
           52,
           45,
           53,
           54,
           56,
           40,
           46,
           47,
           49,
           53,
           57,
           42,
           43,
           45,
           51,
           55,
           48,
           56,
           60,
           77,
           82,
           89,
           91,
           92,
           93,
           92,
           93,
           61,
           64,
           65,
           66,
           67,
           61,
           62,
           64,
           65,
           66,
           67,
           68,
           75,
           76,
           77,
           78,
           79,
           80,
           81,
           60,
           61,
           62,
           63,
           64,
           65,
           66,
           67,
           86,
           89,
           90,
           93,
           81,
           82,
           83,
           84,
           85,
           86,
           59,
           73,
           76,
           77,
           78,
           79,
           80,
           81,
           85,
           83,
           90,
           91,
           92,
           93,
           60,
           87,
           88,
           92,
           93,
           68,
           92,
           60,
           61,
           62,
           65,
           68,
           64,
           69,
           62,
           63,
           64,
           66,
           71,
           72,
           79,
           81,
           70,
           74,
           77,
           79,
           81,
           92,
           59,
           60,
           62,
           63,
           65,
           94,
           95,
           95,
           99,
           100,
           102,
           100,
           95,
           100,
           94,
           95,
           100,
           100,
           102,
           94,
           95,
           100,
           102,
           94,
           95,
           100,
           102,
           94,
           95,
           100,
           94,
           95,
           96,
           100,
           102,
           94,
           98,
           99,
           100,
           101,
           102,
           104,
           94,
           99,
           100,
           104,
           94,
           100,
           100,
           102,
           95,
           94,
           95,
           101,
           95,
           94,
           95,
           94,
           95,
           102,
           95,
           94,
           95,
           95,
           95,
           101,
           94,
           95,
           101,
           104,
           94,
           98,
           99,
           104,
           94,
           95,
           99,
           101,
           102,
           95,
           101,
           95,
           96,
           101,
           104,
           94,
           98,
           99,
           103,
           104,
           98,
           99,
           103,
           94,
           97,
           98,
           99,
           100,
           101,
           104,
           94,
           98,
           104,
           94,
           97,
           98,
           99,
           104,
           94,
           95,
           97,
           98,
           99,
           100,
           103,
           104,
           94,
           95,
           96,
           97,
           98,
           99,
           100,
           101,
           103,
           104
          ],
          "value": [
           830,
           508,
           447,
           1,
           398,
           354,
           11,
           208,
           193,
           189,
           4,
           101,
           579,
           516,
           410,
           278,
           211,
           4,
           179,
           149,
           128,
           69,
           59,
           658,
           245,
           2,
           7,
           2,
           37,
           673,
           1,
           63,
           9,
           6,
           14,
           64,
           657,
           1,
           245,
           215,
           117,
           1,
           1,
           30,
           239,
           154,
           91,
           2,
           88,
           377,
           4,
           39,
           106,
           291,
           4,
           46,
           329,
           50,
           32,
           5,
           8,
           3,
           298,
           1,
           83,
           1,
           5,
           343,
           5,
           20,
           216,
           28,
           10,
           2,
           2,
           2,
           238,
           1,
           1,
           1,
           6,
           7,
           5,
           1,
           205,
           150,
           1,
           36,
           10,
           5,
           12,
           5,
           2,
           177,
           9,
           189,
           11,
           10,
           149,
           1,
           7,
           1,
           2,
           35,
           8,
           3,
           5,
           102,
           1,
           97,
           13,
           5,
           2,
           2,
           5,
           1,
           3,
           4,
           89,
           5,
           7,
           5,
           5,
           61,
           1,
           58,
           37,
           730,
           96,
           4,
           2,
           195,
           2,
           600,
           295,
           37,
           2,
           3,
           77,
           519,
           49,
           1,
           1,
           2,
           1,
           3,
           91,
           1,
           1,
           32,
           70,
           675,
           4,
           19,
           1,
           1,
           360,
           123,
           251,
           10,
           9,
           3,
           317,
           55,
           109,
           7,
           1,
           32,
           24,
           1,
           3,
           1,
           235,
           11,
           190,
           2,
           8,
           2,
           347,
           1,
           2,
           2,
           1,
           1,
           7,
           107,
           202,
           5,
           1,
           2,
           8,
           312,
           3,
           5,
           80,
           72,
           9,
           1,
           2,
           2,
           106,
           1,
           1,
           84,
           1,
           8,
           4,
           1,
           2,
           3,
           4,
           1,
           54,
           9,
           58,
           1,
           1,
           8,
           3,
           7,
           99,
           813,
           858,
           9,
           11,
           38,
           8,
           396,
           303,
           12,
           1,
           1,
           679,
           12,
           1,
           1,
           23,
           14,
           1,
           31,
           121,
           72,
           338,
           1,
           17,
           122,
           122,
           211,
           11,
           19,
           20,
           1,
           325,
           79,
           1,
           1,
           55,
           1,
           51,
           118,
           124,
           1,
           24,
           111,
           152,
           4,
           2,
           6,
           6,
           1,
           109,
           2,
           136,
           4,
           3,
           1,
           76,
           68,
           25,
           65,
           206,
           192,
           117,
           1,
           1,
           3,
           1,
           1,
           117,
           1,
           1,
           1,
           4,
           26,
           23,
           1,
           1,
           59,
           42,
           1,
           2,
           1,
           1,
           33,
           1,
           1,
           1,
           1,
           1,
           33,
           1,
           1,
           110,
           9,
           41,
           1,
           125,
           2,
           1,
           121,
           251,
           1,
           9,
           4,
           687,
           2,
           1,
           2,
           427,
           1,
           1,
           1,
           322,
           3,
           1,
           9,
           26,
           169,
           80,
           1,
           3,
           25,
           4,
           3,
           1,
           54,
           1,
           3,
           1,
           25,
           1,
           22,
           1,
           24,
           16,
           25,
           1,
           23,
           1,
           124,
           2,
           152,
           1,
           35,
           1,
           125,
           78,
           346,
           1,
           4,
           1,
           57,
           1,
           13,
           41,
           2,
           54,
           1,
           1,
           1,
           44,
           4,
           2,
           117,
           1,
           11,
           111,
           2,
           3,
           4,
           60,
           6,
           3,
           2,
           15,
           51,
           23,
           6,
           287,
           9,
           1,
           1,
           1,
           75,
           5,
           1,
           2,
           8,
           102,
           4,
           27,
           4,
           1,
           17,
           12,
           431,
           2,
           1,
           711,
           5,
           1,
           1,
           11,
           27,
           820,
           2,
           4,
           5,
           15
          ]
         },
         "node": {
          "color": [
           "#1f77b4",
           "#ff7f0e",
           "#2ca02c",
           "#d62728",
           "#9467bd",
           "#8c564b",
           "#e377c2",
           "#7f7f7f",
           "#bcbd22",
           "#17becf",
           "#1f77b4",
           "#ff7f0e",
           "#2ca02c",
           "#d62728",
           "#9467bd",
           "#8c564b",
           "#e377c2",
           "#7f7f7f",
           "#bcbd22",
           "#17becf",
           "#1f77b4",
           "#ff7f0e",
           "#2ca02c",
           "#d62728",
           "#9467bd",
           "#8c564b",
           "#e377c2",
           "#7f7f7f",
           "#bcbd22",
           "#17becf",
           "#1f77b4",
           "#ff7f0e",
           "#2ca02c",
           "#d62728",
           "#9467bd",
           "#8c564b",
           "#e377c2",
           "#7f7f7f",
           "#bcbd22",
           "#17becf",
           "#1f77b4",
           "#ff7f0e",
           "#2ca02c",
           "#d62728",
           "#9467bd",
           "#8c564b",
           "#e377c2",
           "#7f7f7f",
           "#bcbd22",
           "#17becf",
           "#1f77b4",
           "#ff7f0e",
           "#2ca02c",
           "#d62728",
           "#9467bd",
           "#8c564b",
           "#e377c2",
           "#7f7f7f",
           "#bcbd22",
           "#17becf",
           "#1f77b4",
           "#ff7f0e",
           "#2ca02c",
           "#d62728",
           "#9467bd",
           "#8c564b",
           "#e377c2",
           "#7f7f7f",
           "#bcbd22",
           "#17becf",
           "#1f77b4",
           "#ff7f0e",
           "#2ca02c",
           "#d62728",
           "#9467bd",
           "#8c564b",
           "#e377c2",
           "#7f7f7f",
           "#bcbd22",
           "#17becf",
           "#1f77b4",
           "#ff7f0e",
           "#2ca02c",
           "#d62728",
           "#9467bd",
           "#8c564b",
           "#e377c2",
           "#7f7f7f",
           "#bcbd22",
           "#17becf",
           "#1f77b4",
           "#ff7f0e",
           "#2ca02c",
           "#d62728",
           "#9467bd",
           "#8c564b",
           "#e377c2",
           "#7f7f7f",
           "#bcbd22",
           "#17becf",
           "#1f77b4",
           "#ff7f0e",
           "#2ca02c",
           "#d62728",
           "#9467bd"
          ],
          "label": [
           1,
           2,
           3,
           1,
           2,
           3,
           4,
           5,
           6,
           7,
           8,
           9,
           10,
           11,
           12,
           13,
           14,
           15,
           16,
           17,
           18,
           19,
           20,
           21,
           22,
           1,
           2,
           3,
           4,
           5,
           6,
           7,
           8,
           9,
           10,
           11,
           12,
           13,
           14,
           15,
           1,
           2,
           3,
           4,
           5,
           6,
           7,
           8,
           9,
           10,
           11,
           12,
           13,
           14,
           15,
           16,
           17,
           18,
           19,
           1,
           2,
           3,
           4,
           5,
           6,
           7,
           8,
           9,
           10,
           11,
           12,
           13,
           14,
           15,
           16,
           17,
           18,
           19,
           20,
           21,
           22,
           23,
           24,
           25,
           26,
           27,
           28,
           29,
           30,
           31,
           32,
           33,
           34,
           35,
           "?",
           "B Cells",
           "CD4+ T Cells",
           "CD4+/CD8+ Cells",
           "CD8+ Cells",
           "Central Memory T Cells",
           "Classical Monocytes",
           "NK Cells",
           "Non Classical Monocytes",
           "T Regulatory Cells",
           "Terminal Effector T Cells"
          ],
          "line": {
           "color": "black",
           "width": 0.5
          },
          "pad": 15,
          "thickness": 20
         },
         "type": "sankey"
        }
       ],
       "layout": {
        "annotations": [
         {
          "showarrow": false,
          "text": "monocle",
          "x": 0,
          "xref": "x",
          "y": 1.05,
          "yref": "paper"
         },
         {
          "showarrow": false,
          "text": "scanpy",
          "x": 1,
          "xref": "x",
          "y": 1.05,
          "yref": "paper"
         },
         {
          "showarrow": false,
          "text": "scvi-tools",
          "x": 2,
          "xref": "x",
          "y": 1.05,
          "yref": "paper"
         },
         {
          "showarrow": false,
          "text": "seurat",
          "x": 3,
          "xref": "x",
          "y": 1.05,
          "yref": "paper"
         },
         {
          "showarrow": false,
          "text": "COTAN",
          "x": 4,
          "xref": "x",
          "y": 1.05,
          "yref": "paper"
         },
         {
          "showarrow": false,
          "text": "antibody",
          "x": 5,
          "xref": "x",
          "y": 1.05,
          "yref": "paper"
         }
        ],
        "font": {
         "size": 10
        },
        "height": 450,
        "plot_bgcolor": "rgba(0,0,0,0)",
        "template": {
         "data": {
          "bar": [
           {
            "error_x": {
             "color": "#2a3f5f"
            },
            "error_y": {
             "color": "#2a3f5f"
            },
            "marker": {
             "line": {
              "color": "#E5ECF6",
              "width": 0.5
             },
             "pattern": {
              "fillmode": "overlay",
              "size": 10,
              "solidity": 0.2
             }
            },
            "type": "bar"
           }
          ],
          "barpolar": [
           {
            "marker": {
             "line": {
              "color": "#E5ECF6",
              "width": 0.5
             },
             "pattern": {
              "fillmode": "overlay",
              "size": 10,
              "solidity": 0.2
             }
            },
            "type": "barpolar"
           }
          ],
          "carpet": [
           {
            "aaxis": {
             "endlinecolor": "#2a3f5f",
             "gridcolor": "white",
             "linecolor": "white",
             "minorgridcolor": "white",
             "startlinecolor": "#2a3f5f"
            },
            "baxis": {
             "endlinecolor": "#2a3f5f",
             "gridcolor": "white",
             "linecolor": "white",
             "minorgridcolor": "white",
             "startlinecolor": "#2a3f5f"
            },
            "type": "carpet"
           }
          ],
          "choropleth": [
           {
            "colorbar": {
             "outlinewidth": 0,
             "ticks": ""
            },
            "type": "choropleth"
           }
          ],
          "contour": [
           {
            "colorbar": {
             "outlinewidth": 0,
             "ticks": ""
            },
            "colorscale": [
             [
              0,
              "#0d0887"
             ],
             [
              0.1111111111111111,
              "#46039f"
             ],
             [
              0.2222222222222222,
              "#7201a8"
             ],
             [
              0.3333333333333333,
              "#9c179e"
             ],
             [
              0.4444444444444444,
              "#bd3786"
             ],
             [
              0.5555555555555556,
              "#d8576b"
             ],
             [
              0.6666666666666666,
              "#ed7953"
             ],
             [
              0.7777777777777778,
              "#fb9f3a"
             ],
             [
              0.8888888888888888,
              "#fdca26"
             ],
             [
              1,
              "#f0f921"
             ]
            ],
            "type": "contour"
           }
          ],
          "contourcarpet": [
           {
            "colorbar": {
             "outlinewidth": 0,
             "ticks": ""
            },
            "type": "contourcarpet"
           }
          ],
          "heatmap": [
           {
            "colorbar": {
             "outlinewidth": 0,
             "ticks": ""
            },
            "colorscale": [
             [
              0,
              "#0d0887"
             ],
             [
              0.1111111111111111,
              "#46039f"
             ],
             [
              0.2222222222222222,
              "#7201a8"
             ],
             [
              0.3333333333333333,
              "#9c179e"
             ],
             [
              0.4444444444444444,
              "#bd3786"
             ],
             [
              0.5555555555555556,
              "#d8576b"
             ],
             [
              0.6666666666666666,
              "#ed7953"
             ],
             [
              0.7777777777777778,
              "#fb9f3a"
             ],
             [
              0.8888888888888888,
              "#fdca26"
             ],
             [
              1,
              "#f0f921"
             ]
            ],
            "type": "heatmap"
           }
          ],
          "heatmapgl": [
           {
            "colorbar": {
             "outlinewidth": 0,
             "ticks": ""
            },
            "colorscale": [
             [
              0,
              "#0d0887"
             ],
             [
              0.1111111111111111,
              "#46039f"
             ],
             [
              0.2222222222222222,
              "#7201a8"
             ],
             [
              0.3333333333333333,
              "#9c179e"
             ],
             [
              0.4444444444444444,
              "#bd3786"
             ],
             [
              0.5555555555555556,
              "#d8576b"
             ],
             [
              0.6666666666666666,
              "#ed7953"
             ],
             [
              0.7777777777777778,
              "#fb9f3a"
             ],
             [
              0.8888888888888888,
              "#fdca26"
             ],
             [
              1,
              "#f0f921"
             ]
            ],
            "type": "heatmapgl"
           }
          ],
          "histogram": [
           {
            "marker": {
             "pattern": {
              "fillmode": "overlay",
              "size": 10,
              "solidity": 0.2
             }
            },
            "type": "histogram"
           }
          ],
          "histogram2d": [
           {
            "colorbar": {
             "outlinewidth": 0,
             "ticks": ""
            },
            "colorscale": [
             [
              0,
              "#0d0887"
             ],
             [
              0.1111111111111111,
              "#46039f"
             ],
             [
              0.2222222222222222,
              "#7201a8"
             ],
             [
              0.3333333333333333,
              "#9c179e"
             ],
             [
              0.4444444444444444,
              "#bd3786"
             ],
             [
              0.5555555555555556,
              "#d8576b"
             ],
             [
              0.6666666666666666,
              "#ed7953"
             ],
             [
              0.7777777777777778,
              "#fb9f3a"
             ],
             [
              0.8888888888888888,
              "#fdca26"
             ],
             [
              1,
              "#f0f921"
             ]
            ],
            "type": "histogram2d"
           }
          ],
          "histogram2dcontour": [
           {
            "colorbar": {
             "outlinewidth": 0,
             "ticks": ""
            },
            "colorscale": [
             [
              0,
              "#0d0887"
             ],
             [
              0.1111111111111111,
              "#46039f"
             ],
             [
              0.2222222222222222,
              "#7201a8"
             ],
             [
              0.3333333333333333,
              "#9c179e"
             ],
             [
              0.4444444444444444,
              "#bd3786"
             ],
             [
              0.5555555555555556,
              "#d8576b"
             ],
             [
              0.6666666666666666,
              "#ed7953"
             ],
             [
              0.7777777777777778,
              "#fb9f3a"
             ],
             [
              0.8888888888888888,
              "#fdca26"
             ],
             [
              1,
              "#f0f921"
             ]
            ],
            "type": "histogram2dcontour"
           }
          ],
          "mesh3d": [
           {
            "colorbar": {
             "outlinewidth": 0,
             "ticks": ""
            },
            "type": "mesh3d"
           }
          ],
          "parcoords": [
           {
            "line": {
             "colorbar": {
              "outlinewidth": 0,
              "ticks": ""
             }
            },
            "type": "parcoords"
           }
          ],
          "pie": [
           {
            "automargin": true,
            "type": "pie"
           }
          ],
          "scatter": [
           {
            "fillpattern": {
             "fillmode": "overlay",
             "size": 10,
             "solidity": 0.2
            },
            "type": "scatter"
           }
          ],
          "scatter3d": [
           {
            "line": {
             "colorbar": {
              "outlinewidth": 0,
              "ticks": ""
             }
            },
            "marker": {
             "colorbar": {
              "outlinewidth": 0,
              "ticks": ""
             }
            },
            "type": "scatter3d"
           }
          ],
          "scattercarpet": [
           {
            "marker": {
             "colorbar": {
              "outlinewidth": 0,
              "ticks": ""
             }
            },
            "type": "scattercarpet"
           }
          ],
          "scattergeo": [
           {
            "marker": {
             "colorbar": {
              "outlinewidth": 0,
              "ticks": ""
             }
            },
            "type": "scattergeo"
           }
          ],
          "scattergl": [
           {
            "marker": {
             "colorbar": {
              "outlinewidth": 0,
              "ticks": ""
             }
            },
            "type": "scattergl"
           }
          ],
          "scattermapbox": [
           {
            "marker": {
             "colorbar": {
              "outlinewidth": 0,
              "ticks": ""
             }
            },
            "type": "scattermapbox"
           }
          ],
          "scatterpolar": [
           {
            "marker": {
             "colorbar": {
              "outlinewidth": 0,
              "ticks": ""
             }
            },
            "type": "scatterpolar"
           }
          ],
          "scatterpolargl": [
           {
            "marker": {
             "colorbar": {
              "outlinewidth": 0,
              "ticks": ""
             }
            },
            "type": "scatterpolargl"
           }
          ],
          "scatterternary": [
           {
            "marker": {
             "colorbar": {
              "outlinewidth": 0,
              "ticks": ""
             }
            },
            "type": "scatterternary"
           }
          ],
          "surface": [
           {
            "colorbar": {
             "outlinewidth": 0,
             "ticks": ""
            },
            "colorscale": [
             [
              0,
              "#0d0887"
             ],
             [
              0.1111111111111111,
              "#46039f"
             ],
             [
              0.2222222222222222,
              "#7201a8"
             ],
             [
              0.3333333333333333,
              "#9c179e"
             ],
             [
              0.4444444444444444,
              "#bd3786"
             ],
             [
              0.5555555555555556,
              "#d8576b"
             ],
             [
              0.6666666666666666,
              "#ed7953"
             ],
             [
              0.7777777777777778,
              "#fb9f3a"
             ],
             [
              0.8888888888888888,
              "#fdca26"
             ],
             [
              1,
              "#f0f921"
             ]
            ],
            "type": "surface"
           }
          ],
          "table": [
           {
            "cells": {
             "fill": {
              "color": "#EBF0F8"
             },
             "line": {
              "color": "white"
             }
            },
            "header": {
             "fill": {
              "color": "#C8D4E3"
             },
             "line": {
              "color": "white"
             }
            },
            "type": "table"
           }
          ]
         },
         "layout": {
          "annotationdefaults": {
           "arrowcolor": "#2a3f5f",
           "arrowhead": 0,
           "arrowwidth": 1
          },
          "autotypenumbers": "strict",
          "coloraxis": {
           "colorbar": {
            "outlinewidth": 0,
            "ticks": ""
           }
          },
          "colorscale": {
           "diverging": [
            [
             0,
             "#8e0152"
            ],
            [
             0.1,
             "#c51b7d"
            ],
            [
             0.2,
             "#de77ae"
            ],
            [
             0.3,
             "#f1b6da"
            ],
            [
             0.4,
             "#fde0ef"
            ],
            [
             0.5,
             "#f7f7f7"
            ],
            [
             0.6,
             "#e6f5d0"
            ],
            [
             0.7,
             "#b8e186"
            ],
            [
             0.8,
             "#7fbc41"
            ],
            [
             0.9,
             "#4d9221"
            ],
            [
             1,
             "#276419"
            ]
           ],
           "sequential": [
            [
             0,
             "#0d0887"
            ],
            [
             0.1111111111111111,
             "#46039f"
            ],
            [
             0.2222222222222222,
             "#7201a8"
            ],
            [
             0.3333333333333333,
             "#9c179e"
            ],
            [
             0.4444444444444444,
             "#bd3786"
            ],
            [
             0.5555555555555556,
             "#d8576b"
            ],
            [
             0.6666666666666666,
             "#ed7953"
            ],
            [
             0.7777777777777778,
             "#fb9f3a"
            ],
            [
             0.8888888888888888,
             "#fdca26"
            ],
            [
             1,
             "#f0f921"
            ]
           ],
           "sequentialminus": [
            [
             0,
             "#0d0887"
            ],
            [
             0.1111111111111111,
             "#46039f"
            ],
            [
             0.2222222222222222,
             "#7201a8"
            ],
            [
             0.3333333333333333,
             "#9c179e"
            ],
            [
             0.4444444444444444,
             "#bd3786"
            ],
            [
             0.5555555555555556,
             "#d8576b"
            ],
            [
             0.6666666666666666,
             "#ed7953"
            ],
            [
             0.7777777777777778,
             "#fb9f3a"
            ],
            [
             0.8888888888888888,
             "#fdca26"
            ],
            [
             1,
             "#f0f921"
            ]
           ]
          },
          "colorway": [
           "#636efa",
           "#EF553B",
           "#00cc96",
           "#ab63fa",
           "#FFA15A",
           "#19d3f3",
           "#FF6692",
           "#B6E880",
           "#FF97FF",
           "#FECB52"
          ],
          "font": {
           "color": "#2a3f5f"
          },
          "geo": {
           "bgcolor": "white",
           "lakecolor": "white",
           "landcolor": "#E5ECF6",
           "showlakes": true,
           "showland": true,
           "subunitcolor": "white"
          },
          "hoverlabel": {
           "align": "left"
          },
          "hovermode": "closest",
          "mapbox": {
           "style": "light"
          },
          "paper_bgcolor": "white",
          "plot_bgcolor": "#E5ECF6",
          "polar": {
           "angularaxis": {
            "gridcolor": "white",
            "linecolor": "white",
            "ticks": ""
           },
           "bgcolor": "#E5ECF6",
           "radialaxis": {
            "gridcolor": "white",
            "linecolor": "white",
            "ticks": ""
           }
          },
          "scene": {
           "xaxis": {
            "backgroundcolor": "#E5ECF6",
            "gridcolor": "white",
            "gridwidth": 2,
            "linecolor": "white",
            "showbackground": true,
            "ticks": "",
            "zerolinecolor": "white"
           },
           "yaxis": {
            "backgroundcolor": "#E5ECF6",
            "gridcolor": "white",
            "gridwidth": 2,
            "linecolor": "white",
            "showbackground": true,
            "ticks": "",
            "zerolinecolor": "white"
           },
           "zaxis": {
            "backgroundcolor": "#E5ECF6",
            "gridcolor": "white",
            "gridwidth": 2,
            "linecolor": "white",
            "showbackground": true,
            "ticks": "",
            "zerolinecolor": "white"
           }
          },
          "shapedefaults": {
           "line": {
            "color": "#2a3f5f"
           }
          },
          "ternary": {
           "aaxis": {
            "gridcolor": "white",
            "linecolor": "white",
            "ticks": ""
           },
           "baxis": {
            "gridcolor": "white",
            "linecolor": "white",
            "ticks": ""
           },
           "bgcolor": "#E5ECF6",
           "caxis": {
            "gridcolor": "white",
            "linecolor": "white",
            "ticks": ""
           }
          },
          "title": {
           "x": 0.05
          },
          "xaxis": {
           "automargin": true,
           "gridcolor": "white",
           "linecolor": "white",
           "ticks": "",
           "title": {
            "standoff": 15
           },
           "zerolinecolor": "white",
           "zerolinewidth": 2
          },
          "yaxis": {
           "automargin": true,
           "gridcolor": "white",
           "linecolor": "white",
           "ticks": "",
           "title": {
            "standoff": 15
           },
           "zerolinecolor": "white",
           "zerolinewidth": 2
          }
         }
        },
        "title": {
         "text": "PBMC4 - default labels"
        },
        "width": 700,
        "xaxis": {
         "showgrid": false,
         "visible": false,
         "zeroline": false
        },
        "yaxis": {
         "showgrid": false,
         "visible": false,
         "zeroline": false
        }
       }
      }
     },
     "metadata": {},
     "output_type": "display_data"
    },
    {
     "name": "stdout",
     "output_type": "stream",
     "text": [
      "------------------------------\n",
      "PBMC1 - matching celltypist labels\n"
     ]
    },
    {
     "name": "stderr",
     "output_type": "stream",
     "text": [
      "/Users/irenetesta/anaconda3/envs/chl/lib/python3.11/site-packages/anndata/_core/anndata.py:1113: FutureWarning:\n",
      "\n",
      "is_categorical_dtype is deprecated and will be removed in a future version. Use isinstance(dtype, CategoricalDtype) instead\n",
      "\n"
     ]
    },
    {
     "data": {
      "text/html": [
       "<div>\n",
       "<style scoped>\n",
       "    .dataframe tbody tr th:only-of-type {\n",
       "        vertical-align: middle;\n",
       "    }\n",
       "\n",
       "    .dataframe tbody tr th {\n",
       "        vertical-align: top;\n",
       "    }\n",
       "\n",
       "    .dataframe thead th {\n",
       "        text-align: right;\n",
       "    }\n",
       "</style>\n",
       "<table border=\"1\" class=\"dataframe\">\n",
       "  <thead>\n",
       "    <tr style=\"text-align: right;\">\n",
       "      <th></th>\n",
       "      <th>NMI</th>\n",
       "      <th>ARI</th>\n",
       "      <th>homogeneity</th>\n",
       "      <th>completeness</th>\n",
       "      <th>v_measure</th>\n",
       "      <th>fowlkes_mallows</th>\n",
       "    </tr>\n",
       "  </thead>\n",
       "  <tbody>\n",
       "    <tr>\n",
       "      <th>monocle</th>\n",
       "      <td>0.638152</td>\n",
       "      <td>0.292695</td>\n",
       "      <td>0.744839</td>\n",
       "      <td>0.558199</td>\n",
       "      <td>0.638152</td>\n",
       "      <td>0.413511</td>\n",
       "    </tr>\n",
       "    <tr>\n",
       "      <th>scanpy</th>\n",
       "      <td>0.720739</td>\n",
       "      <td>0.412778</td>\n",
       "      <td>0.816894</td>\n",
       "      <td>0.644836</td>\n",
       "      <td>0.720739</td>\n",
       "      <td>0.523473</td>\n",
       "    </tr>\n",
       "    <tr>\n",
       "      <th>scvi-tools</th>\n",
       "      <td>0.695184</td>\n",
       "      <td>0.334699</td>\n",
       "      <td>0.815078</td>\n",
       "      <td>0.606039</td>\n",
       "      <td>0.695184</td>\n",
       "      <td>0.454645</td>\n",
       "    </tr>\n",
       "    <tr>\n",
       "      <th>seurat</th>\n",
       "      <td>0.712972</td>\n",
       "      <td>0.377190</td>\n",
       "      <td>0.840982</td>\n",
       "      <td>0.618784</td>\n",
       "      <td>0.712972</td>\n",
       "      <td>0.497948</td>\n",
       "    </tr>\n",
       "    <tr>\n",
       "      <th>COTAN</th>\n",
       "      <td>0.743779</td>\n",
       "      <td>0.537549</td>\n",
       "      <td>0.793723</td>\n",
       "      <td>0.699747</td>\n",
       "      <td>0.743779</td>\n",
       "      <td>0.620191</td>\n",
       "    </tr>\n",
       "  </tbody>\n",
       "</table>\n",
       "</div>"
      ],
      "text/plain": [
       "                 NMI       ARI  homogeneity  completeness  v_measure  \\\n",
       "monocle     0.638152  0.292695     0.744839      0.558199   0.638152   \n",
       "scanpy      0.720739  0.412778     0.816894      0.644836   0.720739   \n",
       "scvi-tools  0.695184  0.334699     0.815078      0.606039   0.695184   \n",
       "seurat      0.712972  0.377190     0.840982      0.618784   0.712972   \n",
       "COTAN       0.743779  0.537549     0.793723      0.699747   0.743779   \n",
       "\n",
       "            fowlkes_mallows  \n",
       "monocle            0.413511  \n",
       "scanpy             0.523473  \n",
       "scvi-tools         0.454645  \n",
       "seurat             0.497948  \n",
       "COTAN              0.620191  "
      ]
     },
     "metadata": {},
     "output_type": "display_data"
    },
    {
     "data": {
      "application/vnd.plotly.v1+json": {
       "config": {
        "plotlyServerURL": "https://plot.ly"
       },
       "data": [
        {
         "link": {
          "source": [
           0,
           0,
           0,
           0,
           0,
           0,
           1,
           1,
           1,
           2,
           2,
           2,
           3,
           3,
           3,
           3,
           4,
           4,
           4,
           4,
           5,
           5,
           5,
           5,
           5,
           6,
           6,
           6,
           6,
           6,
           7,
           7,
           7,
           7,
           7,
           8,
           8,
           8,
           8,
           9,
           9,
           9,
           9,
           10,
           10,
           10,
           10,
           10,
           11,
           11,
           11,
           11,
           11,
           11,
           11,
           11,
           12,
           12,
           12,
           12,
           12,
           12,
           12,
           13,
           13,
           13,
           13,
           14,
           14,
           14,
           14,
           14,
           15,
           15,
           15,
           15,
           15,
           16,
           16,
           16,
           17,
           18,
           18,
           18,
           18,
           18,
           18,
           18,
           19,
           19,
           19,
           19,
           19,
           19,
           19,
           19,
           19,
           19,
           20,
           20,
           20,
           20,
           21,
           21,
           21,
           21,
           21,
           21,
           22,
           22,
           22,
           22,
           22,
           23,
           23,
           23,
           23,
           23,
           23,
           23,
           23,
           24,
           24,
           24,
           24,
           25,
           25,
           25,
           25,
           25,
           25,
           26,
           26,
           26,
           26,
           26,
           26,
           27,
           27,
           27,
           27,
           28,
           29,
           29,
           29,
           29,
           29,
           29,
           29,
           30,
           30,
           30,
           31,
           31,
           31,
           31,
           31,
           32,
           32,
           33,
           33,
           33,
           33,
           33,
           33,
           33,
           33,
           33,
           33,
           34,
           35,
           35,
           35,
           35,
           35,
           35,
           35,
           35,
           35,
           36,
           36,
           36,
           36,
           36,
           37,
           37,
           37,
           37,
           37,
           37,
           37,
           38,
           38,
           38,
           38,
           38,
           38,
           38,
           38,
           39,
           39,
           39,
           39,
           39,
           39,
           39,
           39,
           40,
           40,
           40,
           40,
           40,
           40,
           41,
           41,
           41,
           41,
           41,
           41,
           42,
           42,
           42,
           42,
           42,
           42,
           43,
           43,
           43,
           43,
           43,
           44,
           44,
           44,
           44,
           45,
           45,
           45,
           46,
           46,
           46,
           46,
           46,
           47,
           47,
           47,
           48,
           48,
           48,
           49,
           49,
           50,
           50,
           51,
           51,
           51,
           51,
           52,
           52,
           52,
           52,
           53,
           53,
           54,
           54,
           54,
           54,
           54,
           54,
           55,
           55,
           55,
           56,
           56,
           56,
           56,
           56,
           56,
           57,
           57,
           57,
           58,
           58,
           58,
           59,
           59,
           59,
           59,
           60,
           60,
           61,
           61,
           61,
           62,
           62,
           62,
           62,
           63,
           63,
           63,
           63,
           63,
           64,
           64,
           65,
           65,
           65,
           65,
           66,
           67,
           67,
           67,
           67,
           67,
           68,
           68,
           69,
           69,
           69,
           70,
           70,
           70,
           71,
           71,
           72,
           72,
           72,
           73,
           73,
           73,
           73,
           74,
           74,
           74,
           74,
           75,
           76,
           77,
           77,
           77,
           77,
           77,
           78,
           78,
           79,
           79,
           80,
           80,
           81,
           81,
           81,
           82,
           83,
           83,
           84,
           84,
           85,
           85,
           85,
           85,
           85,
           85,
           86,
           86,
           86,
           87,
           87,
           88,
           88,
           88,
           88,
           89,
           89,
           89,
           89,
           89,
           89,
           89,
           89,
           90,
           90,
           90,
           90,
           90,
           90,
           91,
           91,
           91,
           91,
           91,
           91,
           91,
           92,
           92,
           92
          ],
          "target": [
           18,
           19,
           23,
           25,
           26,
           29,
           26,
           27,
           28,
           24,
           26,
           33,
           24,
           25,
           26,
           33,
           20,
           21,
           22,
           33,
           18,
           19,
           23,
           29,
           31,
           18,
           19,
           23,
           29,
           31,
           18,
           19,
           23,
           29,
           31,
           20,
           21,
           22,
           33,
           20,
           21,
           22,
           33,
           20,
           21,
           22,
           32,
           33,
           18,
           19,
           23,
           25,
           26,
           29,
           31,
           33,
           18,
           19,
           23,
           25,
           26,
           29,
           33,
           21,
           22,
           30,
           33,
           18,
           19,
           23,
           25,
           29,
           19,
           20,
           21,
           22,
           33,
           19,
           21,
           32,
           34,
           35,
           38,
           40,
           41,
           43,
           51,
           52,
           35,
           38,
           39,
           40,
           41,
           43,
           47,
           51,
           52,
           54,
           36,
           37,
           42,
           46,
           36,
           37,
           42,
           46,
           49,
           50,
           36,
           37,
           42,
           46,
           50,
           35,
           38,
           40,
           41,
           43,
           51,
           52,
           54,
           39,
           44,
           45,
           48,
           35,
           39,
           40,
           43,
           52,
           54,
           35,
           39,
           43,
           44,
           48,
           54,
           42,
           45,
           47,
           54,
           45,
           35,
           38,
           40,
           41,
           43,
           51,
           52,
           37,
           42,
           50,
           38,
           40,
           41,
           51,
           54,
           37,
           49,
           35,
           36,
           37,
           38,
           39,
           41,
           42,
           44,
           46,
           48,
           53,
           55,
           56,
           59,
           61,
           63,
           65,
           68,
           73,
           74,
           57,
           58,
           60,
           70,
           73,
           57,
           58,
           60,
           67,
           70,
           71,
           73,
           55,
           56,
           59,
           61,
           63,
           72,
           73,
           74,
           56,
           62,
           63,
           65,
           68,
           72,
           73,
           74,
           55,
           56,
           59,
           61,
           72,
           74,
           55,
           56,
           59,
           61,
           65,
           73,
           57,
           58,
           60,
           67,
           70,
           73,
           55,
           56,
           59,
           61,
           63,
           62,
           68,
           69,
           73,
           64,
           66,
           69,
           57,
           58,
           60,
           70,
           73,
           56,
           64,
           72,
           62,
           68,
           69,
           58,
           71,
           60,
           67,
           55,
           59,
           61,
           72,
           55,
           56,
           61,
           74,
           71,
           75,
           55,
           56,
           59,
           63,
           64,
           72,
           89,
           90,
           91,
           79,
           88,
           89,
           90,
           91,
           92,
           79,
           80,
           81,
           78,
           80,
           81,
           88,
           89,
           90,
           91,
           79,
           80,
           89,
           90,
           91,
           85,
           86,
           88,
           91,
           85,
           88,
           89,
           90,
           91,
           83,
           84,
           85,
           88,
           89,
           90,
           84,
           77,
           78,
           80,
           81,
           90,
           85,
           89,
           86,
           87,
           91,
           78,
           79,
           80,
           77,
           81,
           79,
           90,
           91,
           76,
           79,
           80,
           81,
           88,
           89,
           91,
           92,
           82,
           95,
           95,
           96,
           97,
           103,
           111,
           95,
           103,
           95,
           100,
           95,
           103,
           95,
           97,
           103,
           111,
           101,
           102,
           101,
           102,
           93,
           94,
           106,
           107,
           109,
           110,
           93,
           104,
           109,
           93,
           95,
           93,
           95,
           105,
           107,
           93,
           94,
           98,
           105,
           107,
           108,
           109,
           110,
           94,
           100,
           103,
           106,
           107,
           110,
           93,
           99,
           102,
           104,
           105,
           107,
           110,
           105,
           107,
           108
          ],
          "value": [
           12,
           230,
           4,
           76,
           5,
           7,
           1,
           159,
           139,
           261,
           27,
           3,
           7,
           140,
           138,
           1,
           143,
           44,
           76,
           11,
           154,
           4,
           51,
           23,
           24,
           128,
           1,
           94,
           8,
           16,
           128,
           1,
           30,
           61,
           20,
           86,
           2,
           139,
           10,
           134,
           59,
           13,
           23,
           4,
           174,
           7,
           3,
           1,
           55,
           5,
           78,
           2,
           1,
           13,
           16,
           1,
           1,
           124,
           1,
           12,
           6,
           3,
           6,
           41,
           3,
           91,
           2,
           3,
           51,
           15,
           13,
           1,
           2,
           2,
           2,
           56,
           17,
           3,
           1,
           73,
           28,
           3,
           151,
           123,
           96,
           101,
           3,
           4,
           288,
           40,
           11,
           24,
           6,
           5,
           3,
           1,
           40,
           3,
           171,
           61,
           65,
           72,
           14,
           248,
           9,
           31,
           19,
           2,
           150,
           10,
           101,
           32,
           1,
           5,
           67,
           75,
           78,
           35,
           2,
           3,
           8,
           3,
           154,
           1,
           110,
           121,
           112,
           1,
           1,
           1,
           7,
           8,
           148,
           1,
           3,
           16,
           2,
           1,
           12,
           145,
           1,
           139,
           2,
           41,
           15,
           8,
           44,
           5,
           1,
           11,
           1,
           79,
           1,
           2,
           1,
           70,
           2,
           3,
           73,
           1,
           18,
           19,
           1,
           2,
           2,
           10,
           4,
           17,
           1,
           28,
           1,
           280,
           2,
           1,
           4,
           134,
           2,
           1,
           3,
           155,
           22,
           167,
           3,
           6,
           41,
           226,
           6,
           51,
           11,
           3,
           14,
           136,
           43,
           58,
           54,
           1,
           3,
           1,
           5,
           3,
           3,
           135,
           12,
           117,
           3,
           2,
           1,
           110,
           30,
           77,
           19,
           3,
           1,
           86,
           12,
           71,
           20,
           1,
           1,
           121,
           23,
           22,
           1,
           10,
           10,
           88,
           11,
           30,
           56,
           2,
           146,
           6,
           5,
           4,
           7,
           144,
           1,
           34,
           17,
           33,
           67,
           1,
           1,
           145,
           2,
           6,
           2,
           119,
           21,
           71,
           1,
           81,
           10,
           9,
           15,
           47,
           3,
           20,
           1,
           25,
           1,
           27,
           1,
           2,
           6,
           11,
           1,
           2,
           1,
           433,
           1,
           1,
           7,
           339,
           31,
           16,
           8,
           59,
           276,
           16,
           1,
           84,
           224,
           1,
           2,
           249,
           1,
           211,
           18,
           16,
           149,
           1,
           1,
           146,
           2,
           6,
           144,
           1,
           6,
           1,
           1,
           152,
           1,
           1,
           1,
           144,
           1,
           144,
           1,
           119,
           1,
           11,
           1,
           126,
           1,
           7,
           117,
           1,
           2,
           1,
           88,
           74,
           1,
           1,
           56,
           3,
           35,
           1,
           2,
           2,
           1,
           2,
           1,
           31,
           27,
           35,
           1,
           1,
           71,
           1,
           1,
           14,
           108,
           272,
           2,
           467,
           2,
           246,
           6,
           2,
           27,
           151,
           1,
           2,
           143,
           4,
           18,
           1,
           2,
           102,
           145,
           145,
           4,
           4,
           116,
           1,
           2,
           1,
           1,
           9,
           1,
           3,
           54,
           1,
           217,
           179,
           1,
           55,
           7,
           1,
           1,
           84,
           824,
           4,
           2,
           3,
           1,
           4,
           1,
           19,
           1,
           31,
           7,
           1
          ]
         },
         "node": {
          "color": [
           "#1f77b4",
           "#ff7f0e",
           "#2ca02c",
           "#d62728",
           "#9467bd",
           "#8c564b",
           "#e377c2",
           "#7f7f7f",
           "#bcbd22",
           "#17becf",
           "#1f77b4",
           "#ff7f0e",
           "#2ca02c",
           "#d62728",
           "#9467bd",
           "#8c564b",
           "#e377c2",
           "#7f7f7f",
           "#bcbd22",
           "#17becf",
           "#1f77b4",
           "#ff7f0e",
           "#2ca02c",
           "#d62728",
           "#9467bd",
           "#8c564b",
           "#e377c2",
           "#7f7f7f",
           "#bcbd22",
           "#17becf",
           "#1f77b4",
           "#ff7f0e",
           "#2ca02c",
           "#d62728",
           "#9467bd",
           "#8c564b",
           "#e377c2",
           "#7f7f7f",
           "#bcbd22",
           "#17becf",
           "#1f77b4",
           "#ff7f0e",
           "#2ca02c",
           "#d62728",
           "#9467bd",
           "#8c564b",
           "#e377c2",
           "#7f7f7f",
           "#bcbd22",
           "#17becf",
           "#1f77b4",
           "#ff7f0e",
           "#2ca02c",
           "#d62728",
           "#9467bd",
           "#8c564b",
           "#e377c2",
           "#7f7f7f",
           "#bcbd22",
           "#17becf",
           "#1f77b4",
           "#ff7f0e",
           "#2ca02c",
           "#d62728",
           "#9467bd",
           "#8c564b",
           "#e377c2",
           "#7f7f7f",
           "#bcbd22",
           "#17becf",
           "#1f77b4",
           "#ff7f0e",
           "#2ca02c",
           "#d62728",
           "#9467bd",
           "#8c564b",
           "#e377c2",
           "#7f7f7f",
           "#bcbd22",
           "#17becf",
           "#1f77b4",
           "#ff7f0e",
           "#2ca02c",
           "#d62728",
           "#9467bd",
           "#8c564b",
           "#e377c2",
           "#7f7f7f",
           "#bcbd22",
           "#17becf",
           "#1f77b4",
           "#ff7f0e",
           "#2ca02c",
           "#d62728",
           "#9467bd",
           "#8c564b",
           "#e377c2",
           "#7f7f7f",
           "#bcbd22",
           "#17becf",
           "#1f77b4",
           "#ff7f0e",
           "#2ca02c",
           "#d62728",
           "#9467bd",
           "#8c564b",
           "#e377c2",
           "#7f7f7f",
           "#bcbd22",
           "#17becf",
           "#1f77b4",
           "#ff7f0e"
          ],
          "label": [
           1,
           2,
           3,
           4,
           5,
           6,
           7,
           8,
           9,
           10,
           11,
           12,
           13,
           14,
           15,
           16,
           17,
           18,
           1,
           2,
           3,
           4,
           5,
           6,
           7,
           8,
           9,
           10,
           11,
           12,
           13,
           14,
           15,
           16,
           17,
           1,
           2,
           3,
           4,
           5,
           6,
           7,
           8,
           9,
           10,
           11,
           12,
           13,
           14,
           15,
           16,
           17,
           18,
           19,
           20,
           1,
           2,
           3,
           4,
           5,
           6,
           7,
           8,
           9,
           10,
           11,
           12,
           13,
           14,
           15,
           16,
           17,
           18,
           19,
           20,
           21,
           1,
           2,
           3,
           4,
           5,
           6,
           7,
           8,
           9,
           10,
           11,
           12,
           13,
           14,
           15,
           16,
           17,
           "CD16+ NK cells",
           "CD8a/a",
           "Classical monocytes",
           "DC1",
           "DC2",
           "MAIT cells",
           "Megakaryocyte precursor",
           "Megakaryocytes/platelets",
           "Memory B cells",
           "Naive B cells",
           "Non-classical monocytes",
           "Plasmablasts",
           "Regulatory T cells",
           "Tcm/Naive cytotoxic T cells",
           "Tcm/Naive helper T cells",
           "Tem/Effector helper T cells",
           "Tem/Temra cytotoxic T cells",
           "Tem/Trm cytotoxic T cells",
           "pDC"
          ],
          "line": {
           "color": "black",
           "width": 0.5
          },
          "pad": 15,
          "thickness": 20
         },
         "type": "sankey"
        }
       ],
       "layout": {
        "annotations": [
         {
          "showarrow": false,
          "text": "monocle",
          "x": 0,
          "xref": "x",
          "y": 1.05,
          "yref": "paper"
         },
         {
          "showarrow": false,
          "text": "scanpy",
          "x": 1,
          "xref": "x",
          "y": 1.05,
          "yref": "paper"
         },
         {
          "showarrow": false,
          "text": "scvi-tools",
          "x": 2,
          "xref": "x",
          "y": 1.05,
          "yref": "paper"
         },
         {
          "showarrow": false,
          "text": "seurat",
          "x": 3,
          "xref": "x",
          "y": 1.05,
          "yref": "paper"
         },
         {
          "showarrow": false,
          "text": "COTAN",
          "x": 4,
          "xref": "x",
          "y": 1.05,
          "yref": "paper"
         },
         {
          "showarrow": false,
          "text": "celltypist",
          "x": 5,
          "xref": "x",
          "y": 1.05,
          "yref": "paper"
         }
        ],
        "font": {
         "size": 10
        },
        "height": 450,
        "plot_bgcolor": "rgba(0,0,0,0)",
        "template": {
         "data": {
          "bar": [
           {
            "error_x": {
             "color": "#2a3f5f"
            },
            "error_y": {
             "color": "#2a3f5f"
            },
            "marker": {
             "line": {
              "color": "#E5ECF6",
              "width": 0.5
             },
             "pattern": {
              "fillmode": "overlay",
              "size": 10,
              "solidity": 0.2
             }
            },
            "type": "bar"
           }
          ],
          "barpolar": [
           {
            "marker": {
             "line": {
              "color": "#E5ECF6",
              "width": 0.5
             },
             "pattern": {
              "fillmode": "overlay",
              "size": 10,
              "solidity": 0.2
             }
            },
            "type": "barpolar"
           }
          ],
          "carpet": [
           {
            "aaxis": {
             "endlinecolor": "#2a3f5f",
             "gridcolor": "white",
             "linecolor": "white",
             "minorgridcolor": "white",
             "startlinecolor": "#2a3f5f"
            },
            "baxis": {
             "endlinecolor": "#2a3f5f",
             "gridcolor": "white",
             "linecolor": "white",
             "minorgridcolor": "white",
             "startlinecolor": "#2a3f5f"
            },
            "type": "carpet"
           }
          ],
          "choropleth": [
           {
            "colorbar": {
             "outlinewidth": 0,
             "ticks": ""
            },
            "type": "choropleth"
           }
          ],
          "contour": [
           {
            "colorbar": {
             "outlinewidth": 0,
             "ticks": ""
            },
            "colorscale": [
             [
              0,
              "#0d0887"
             ],
             [
              0.1111111111111111,
              "#46039f"
             ],
             [
              0.2222222222222222,
              "#7201a8"
             ],
             [
              0.3333333333333333,
              "#9c179e"
             ],
             [
              0.4444444444444444,
              "#bd3786"
             ],
             [
              0.5555555555555556,
              "#d8576b"
             ],
             [
              0.6666666666666666,
              "#ed7953"
             ],
             [
              0.7777777777777778,
              "#fb9f3a"
             ],
             [
              0.8888888888888888,
              "#fdca26"
             ],
             [
              1,
              "#f0f921"
             ]
            ],
            "type": "contour"
           }
          ],
          "contourcarpet": [
           {
            "colorbar": {
             "outlinewidth": 0,
             "ticks": ""
            },
            "type": "contourcarpet"
           }
          ],
          "heatmap": [
           {
            "colorbar": {
             "outlinewidth": 0,
             "ticks": ""
            },
            "colorscale": [
             [
              0,
              "#0d0887"
             ],
             [
              0.1111111111111111,
              "#46039f"
             ],
             [
              0.2222222222222222,
              "#7201a8"
             ],
             [
              0.3333333333333333,
              "#9c179e"
             ],
             [
              0.4444444444444444,
              "#bd3786"
             ],
             [
              0.5555555555555556,
              "#d8576b"
             ],
             [
              0.6666666666666666,
              "#ed7953"
             ],
             [
              0.7777777777777778,
              "#fb9f3a"
             ],
             [
              0.8888888888888888,
              "#fdca26"
             ],
             [
              1,
              "#f0f921"
             ]
            ],
            "type": "heatmap"
           }
          ],
          "heatmapgl": [
           {
            "colorbar": {
             "outlinewidth": 0,
             "ticks": ""
            },
            "colorscale": [
             [
              0,
              "#0d0887"
             ],
             [
              0.1111111111111111,
              "#46039f"
             ],
             [
              0.2222222222222222,
              "#7201a8"
             ],
             [
              0.3333333333333333,
              "#9c179e"
             ],
             [
              0.4444444444444444,
              "#bd3786"
             ],
             [
              0.5555555555555556,
              "#d8576b"
             ],
             [
              0.6666666666666666,
              "#ed7953"
             ],
             [
              0.7777777777777778,
              "#fb9f3a"
             ],
             [
              0.8888888888888888,
              "#fdca26"
             ],
             [
              1,
              "#f0f921"
             ]
            ],
            "type": "heatmapgl"
           }
          ],
          "histogram": [
           {
            "marker": {
             "pattern": {
              "fillmode": "overlay",
              "size": 10,
              "solidity": 0.2
             }
            },
            "type": "histogram"
           }
          ],
          "histogram2d": [
           {
            "colorbar": {
             "outlinewidth": 0,
             "ticks": ""
            },
            "colorscale": [
             [
              0,
              "#0d0887"
             ],
             [
              0.1111111111111111,
              "#46039f"
             ],
             [
              0.2222222222222222,
              "#7201a8"
             ],
             [
              0.3333333333333333,
              "#9c179e"
             ],
             [
              0.4444444444444444,
              "#bd3786"
             ],
             [
              0.5555555555555556,
              "#d8576b"
             ],
             [
              0.6666666666666666,
              "#ed7953"
             ],
             [
              0.7777777777777778,
              "#fb9f3a"
             ],
             [
              0.8888888888888888,
              "#fdca26"
             ],
             [
              1,
              "#f0f921"
             ]
            ],
            "type": "histogram2d"
           }
          ],
          "histogram2dcontour": [
           {
            "colorbar": {
             "outlinewidth": 0,
             "ticks": ""
            },
            "colorscale": [
             [
              0,
              "#0d0887"
             ],
             [
              0.1111111111111111,
              "#46039f"
             ],
             [
              0.2222222222222222,
              "#7201a8"
             ],
             [
              0.3333333333333333,
              "#9c179e"
             ],
             [
              0.4444444444444444,
              "#bd3786"
             ],
             [
              0.5555555555555556,
              "#d8576b"
             ],
             [
              0.6666666666666666,
              "#ed7953"
             ],
             [
              0.7777777777777778,
              "#fb9f3a"
             ],
             [
              0.8888888888888888,
              "#fdca26"
             ],
             [
              1,
              "#f0f921"
             ]
            ],
            "type": "histogram2dcontour"
           }
          ],
          "mesh3d": [
           {
            "colorbar": {
             "outlinewidth": 0,
             "ticks": ""
            },
            "type": "mesh3d"
           }
          ],
          "parcoords": [
           {
            "line": {
             "colorbar": {
              "outlinewidth": 0,
              "ticks": ""
             }
            },
            "type": "parcoords"
           }
          ],
          "pie": [
           {
            "automargin": true,
            "type": "pie"
           }
          ],
          "scatter": [
           {
            "fillpattern": {
             "fillmode": "overlay",
             "size": 10,
             "solidity": 0.2
            },
            "type": "scatter"
           }
          ],
          "scatter3d": [
           {
            "line": {
             "colorbar": {
              "outlinewidth": 0,
              "ticks": ""
             }
            },
            "marker": {
             "colorbar": {
              "outlinewidth": 0,
              "ticks": ""
             }
            },
            "type": "scatter3d"
           }
          ],
          "scattercarpet": [
           {
            "marker": {
             "colorbar": {
              "outlinewidth": 0,
              "ticks": ""
             }
            },
            "type": "scattercarpet"
           }
          ],
          "scattergeo": [
           {
            "marker": {
             "colorbar": {
              "outlinewidth": 0,
              "ticks": ""
             }
            },
            "type": "scattergeo"
           }
          ],
          "scattergl": [
           {
            "marker": {
             "colorbar": {
              "outlinewidth": 0,
              "ticks": ""
             }
            },
            "type": "scattergl"
           }
          ],
          "scattermapbox": [
           {
            "marker": {
             "colorbar": {
              "outlinewidth": 0,
              "ticks": ""
             }
            },
            "type": "scattermapbox"
           }
          ],
          "scatterpolar": [
           {
            "marker": {
             "colorbar": {
              "outlinewidth": 0,
              "ticks": ""
             }
            },
            "type": "scatterpolar"
           }
          ],
          "scatterpolargl": [
           {
            "marker": {
             "colorbar": {
              "outlinewidth": 0,
              "ticks": ""
             }
            },
            "type": "scatterpolargl"
           }
          ],
          "scatterternary": [
           {
            "marker": {
             "colorbar": {
              "outlinewidth": 0,
              "ticks": ""
             }
            },
            "type": "scatterternary"
           }
          ],
          "surface": [
           {
            "colorbar": {
             "outlinewidth": 0,
             "ticks": ""
            },
            "colorscale": [
             [
              0,
              "#0d0887"
             ],
             [
              0.1111111111111111,
              "#46039f"
             ],
             [
              0.2222222222222222,
              "#7201a8"
             ],
             [
              0.3333333333333333,
              "#9c179e"
             ],
             [
              0.4444444444444444,
              "#bd3786"
             ],
             [
              0.5555555555555556,
              "#d8576b"
             ],
             [
              0.6666666666666666,
              "#ed7953"
             ],
             [
              0.7777777777777778,
              "#fb9f3a"
             ],
             [
              0.8888888888888888,
              "#fdca26"
             ],
             [
              1,
              "#f0f921"
             ]
            ],
            "type": "surface"
           }
          ],
          "table": [
           {
            "cells": {
             "fill": {
              "color": "#EBF0F8"
             },
             "line": {
              "color": "white"
             }
            },
            "header": {
             "fill": {
              "color": "#C8D4E3"
             },
             "line": {
              "color": "white"
             }
            },
            "type": "table"
           }
          ]
         },
         "layout": {
          "annotationdefaults": {
           "arrowcolor": "#2a3f5f",
           "arrowhead": 0,
           "arrowwidth": 1
          },
          "autotypenumbers": "strict",
          "coloraxis": {
           "colorbar": {
            "outlinewidth": 0,
            "ticks": ""
           }
          },
          "colorscale": {
           "diverging": [
            [
             0,
             "#8e0152"
            ],
            [
             0.1,
             "#c51b7d"
            ],
            [
             0.2,
             "#de77ae"
            ],
            [
             0.3,
             "#f1b6da"
            ],
            [
             0.4,
             "#fde0ef"
            ],
            [
             0.5,
             "#f7f7f7"
            ],
            [
             0.6,
             "#e6f5d0"
            ],
            [
             0.7,
             "#b8e186"
            ],
            [
             0.8,
             "#7fbc41"
            ],
            [
             0.9,
             "#4d9221"
            ],
            [
             1,
             "#276419"
            ]
           ],
           "sequential": [
            [
             0,
             "#0d0887"
            ],
            [
             0.1111111111111111,
             "#46039f"
            ],
            [
             0.2222222222222222,
             "#7201a8"
            ],
            [
             0.3333333333333333,
             "#9c179e"
            ],
            [
             0.4444444444444444,
             "#bd3786"
            ],
            [
             0.5555555555555556,
             "#d8576b"
            ],
            [
             0.6666666666666666,
             "#ed7953"
            ],
            [
             0.7777777777777778,
             "#fb9f3a"
            ],
            [
             0.8888888888888888,
             "#fdca26"
            ],
            [
             1,
             "#f0f921"
            ]
           ],
           "sequentialminus": [
            [
             0,
             "#0d0887"
            ],
            [
             0.1111111111111111,
             "#46039f"
            ],
            [
             0.2222222222222222,
             "#7201a8"
            ],
            [
             0.3333333333333333,
             "#9c179e"
            ],
            [
             0.4444444444444444,
             "#bd3786"
            ],
            [
             0.5555555555555556,
             "#d8576b"
            ],
            [
             0.6666666666666666,
             "#ed7953"
            ],
            [
             0.7777777777777778,
             "#fb9f3a"
            ],
            [
             0.8888888888888888,
             "#fdca26"
            ],
            [
             1,
             "#f0f921"
            ]
           ]
          },
          "colorway": [
           "#636efa",
           "#EF553B",
           "#00cc96",
           "#ab63fa",
           "#FFA15A",
           "#19d3f3",
           "#FF6692",
           "#B6E880",
           "#FF97FF",
           "#FECB52"
          ],
          "font": {
           "color": "#2a3f5f"
          },
          "geo": {
           "bgcolor": "white",
           "lakecolor": "white",
           "landcolor": "#E5ECF6",
           "showlakes": true,
           "showland": true,
           "subunitcolor": "white"
          },
          "hoverlabel": {
           "align": "left"
          },
          "hovermode": "closest",
          "mapbox": {
           "style": "light"
          },
          "paper_bgcolor": "white",
          "plot_bgcolor": "#E5ECF6",
          "polar": {
           "angularaxis": {
            "gridcolor": "white",
            "linecolor": "white",
            "ticks": ""
           },
           "bgcolor": "#E5ECF6",
           "radialaxis": {
            "gridcolor": "white",
            "linecolor": "white",
            "ticks": ""
           }
          },
          "scene": {
           "xaxis": {
            "backgroundcolor": "#E5ECF6",
            "gridcolor": "white",
            "gridwidth": 2,
            "linecolor": "white",
            "showbackground": true,
            "ticks": "",
            "zerolinecolor": "white"
           },
           "yaxis": {
            "backgroundcolor": "#E5ECF6",
            "gridcolor": "white",
            "gridwidth": 2,
            "linecolor": "white",
            "showbackground": true,
            "ticks": "",
            "zerolinecolor": "white"
           },
           "zaxis": {
            "backgroundcolor": "#E5ECF6",
            "gridcolor": "white",
            "gridwidth": 2,
            "linecolor": "white",
            "showbackground": true,
            "ticks": "",
            "zerolinecolor": "white"
           }
          },
          "shapedefaults": {
           "line": {
            "color": "#2a3f5f"
           }
          },
          "ternary": {
           "aaxis": {
            "gridcolor": "white",
            "linecolor": "white",
            "ticks": ""
           },
           "baxis": {
            "gridcolor": "white",
            "linecolor": "white",
            "ticks": ""
           },
           "bgcolor": "#E5ECF6",
           "caxis": {
            "gridcolor": "white",
            "linecolor": "white",
            "ticks": ""
           }
          },
          "title": {
           "x": 0.05
          },
          "xaxis": {
           "automargin": true,
           "gridcolor": "white",
           "linecolor": "white",
           "ticks": "",
           "title": {
            "standoff": 15
           },
           "zerolinecolor": "white",
           "zerolinewidth": 2
          },
          "yaxis": {
           "automargin": true,
           "gridcolor": "white",
           "linecolor": "white",
           "ticks": "",
           "title": {
            "standoff": 15
           },
           "zerolinecolor": "white",
           "zerolinewidth": 2
          }
         }
        },
        "title": {
         "text": "PBMC1 - matching celltypist labels"
        },
        "width": 700,
        "xaxis": {
         "showgrid": false,
         "visible": false,
         "zeroline": false
        },
        "yaxis": {
         "showgrid": false,
         "visible": false,
         "zeroline": false
        }
       }
      }
     },
     "metadata": {},
     "output_type": "display_data"
    },
    {
     "name": "stdout",
     "output_type": "stream",
     "text": [
      "------------------------------\n",
      "PBMC3 - matching celltypist labels\n"
     ]
    },
    {
     "name": "stderr",
     "output_type": "stream",
     "text": [
      "/Users/irenetesta/anaconda3/envs/chl/lib/python3.11/site-packages/anndata/_core/anndata.py:1113: FutureWarning:\n",
      "\n",
      "is_categorical_dtype is deprecated and will be removed in a future version. Use isinstance(dtype, CategoricalDtype) instead\n",
      "\n"
     ]
    },
    {
     "data": {
      "text/html": [
       "<div>\n",
       "<style scoped>\n",
       "    .dataframe tbody tr th:only-of-type {\n",
       "        vertical-align: middle;\n",
       "    }\n",
       "\n",
       "    .dataframe tbody tr th {\n",
       "        vertical-align: top;\n",
       "    }\n",
       "\n",
       "    .dataframe thead th {\n",
       "        text-align: right;\n",
       "    }\n",
       "</style>\n",
       "<table border=\"1\" class=\"dataframe\">\n",
       "  <thead>\n",
       "    <tr style=\"text-align: right;\">\n",
       "      <th></th>\n",
       "      <th>NMI</th>\n",
       "      <th>ARI</th>\n",
       "      <th>homogeneity</th>\n",
       "      <th>completeness</th>\n",
       "      <th>v_measure</th>\n",
       "      <th>fowlkes_mallows</th>\n",
       "    </tr>\n",
       "  </thead>\n",
       "  <tbody>\n",
       "    <tr>\n",
       "      <th>monocle</th>\n",
       "      <td>0.584046</td>\n",
       "      <td>0.317239</td>\n",
       "      <td>0.646407</td>\n",
       "      <td>0.532658</td>\n",
       "      <td>0.584046</td>\n",
       "      <td>0.414759</td>\n",
       "    </tr>\n",
       "    <tr>\n",
       "      <th>scanpy</th>\n",
       "      <td>0.707606</td>\n",
       "      <td>0.499221</td>\n",
       "      <td>0.768091</td>\n",
       "      <td>0.655951</td>\n",
       "      <td>0.707606</td>\n",
       "      <td>0.581001</td>\n",
       "    </tr>\n",
       "    <tr>\n",
       "      <th>scvi-tools</th>\n",
       "      <td>0.734542</td>\n",
       "      <td>0.532472</td>\n",
       "      <td>0.781902</td>\n",
       "      <td>0.692591</td>\n",
       "      <td>0.734542</td>\n",
       "      <td>0.606452</td>\n",
       "    </tr>\n",
       "    <tr>\n",
       "      <th>seurat</th>\n",
       "      <td>0.727780</td>\n",
       "      <td>0.434786</td>\n",
       "      <td>0.853486</td>\n",
       "      <td>0.634350</td>\n",
       "      <td>0.727780</td>\n",
       "      <td>0.541110</td>\n",
       "    </tr>\n",
       "    <tr>\n",
       "      <th>COTAN</th>\n",
       "      <td>0.680167</td>\n",
       "      <td>0.471733</td>\n",
       "      <td>0.691555</td>\n",
       "      <td>0.669149</td>\n",
       "      <td>0.680167</td>\n",
       "      <td>0.553997</td>\n",
       "    </tr>\n",
       "  </tbody>\n",
       "</table>\n",
       "</div>"
      ],
      "text/plain": [
       "                 NMI       ARI  homogeneity  completeness  v_measure  \\\n",
       "monocle     0.584046  0.317239     0.646407      0.532658   0.584046   \n",
       "scanpy      0.707606  0.499221     0.768091      0.655951   0.707606   \n",
       "scvi-tools  0.734542  0.532472     0.781902      0.692591   0.734542   \n",
       "seurat      0.727780  0.434786     0.853486      0.634350   0.727780   \n",
       "COTAN       0.680167  0.471733     0.691555      0.669149   0.680167   \n",
       "\n",
       "            fowlkes_mallows  \n",
       "monocle            0.414759  \n",
       "scanpy             0.581001  \n",
       "scvi-tools         0.606452  \n",
       "seurat             0.541110  \n",
       "COTAN              0.553997  "
      ]
     },
     "metadata": {},
     "output_type": "display_data"
    },
    {
     "data": {
      "application/vnd.plotly.v1+json": {
       "config": {
        "plotlyServerURL": "https://plot.ly"
       },
       "data": [
        {
         "link": {
          "source": [
           0,
           0,
           0,
           0,
           0,
           0,
           1,
           1,
           1,
           1,
           1,
           2,
           2,
           2,
           2,
           3,
           3,
           3,
           4,
           4,
           4,
           4,
           4,
           5,
           5,
           5,
           5,
           5,
           6,
           6,
           6,
           6,
           6,
           6,
           6,
           7,
           7,
           7,
           7,
           7,
           7,
           7,
           7,
           8,
           8,
           8,
           8,
           8,
           8,
           9,
           9,
           9,
           9,
           9,
           10,
           10,
           10,
           10,
           10,
           10,
           10,
           10,
           10,
           11,
           11,
           11,
           11,
           12,
           12,
           12,
           12,
           12,
           12,
           12,
           12,
           13,
           13,
           13,
           14,
           14,
           14,
           14,
           14,
           14,
           14,
           14,
           15,
           15,
           15,
           15,
           16,
           16,
           17,
           17,
           17,
           17,
           17,
           17,
           17,
           17,
           17,
           17,
           18,
           18,
           18,
           19,
           19,
           19,
           19,
           19,
           20,
           20,
           20,
           20,
           20,
           20,
           20,
           20,
           20,
           21,
           22,
           22,
           22,
           22,
           22,
           22,
           23,
           23,
           23,
           23,
           23,
           23,
           23,
           23,
           23,
           23,
           23,
           23,
           23,
           24,
           24,
           24,
           24,
           24,
           24,
           24,
           24,
           24,
           24,
           25,
           25,
           25,
           25,
           25,
           25,
           25,
           25,
           26,
           26,
           26,
           26,
           26,
           26,
           26,
           26,
           26,
           26,
           26,
           27,
           27,
           28,
           28,
           28,
           28,
           29,
           29,
           29,
           30,
           30,
           30,
           30,
           30,
           30,
           31,
           31,
           32,
           32,
           33,
           33,
           33,
           34,
           35,
           35,
           35,
           35,
           35,
           35,
           35,
           35,
           35,
           35,
           35,
           35,
           36,
           36,
           36,
           36,
           36,
           36,
           36,
           36,
           36,
           37,
           37,
           37,
           37,
           37,
           37,
           37,
           37,
           37,
           38,
           38,
           38,
           38,
           38,
           38,
           38,
           38,
           38,
           39,
           39,
           39,
           39,
           39,
           39,
           39,
           39,
           40,
           40,
           40,
           40,
           40,
           40,
           41,
           41,
           41,
           41,
           41,
           41,
           41,
           41,
           41,
           41,
           41,
           42,
           42,
           42,
           42,
           42,
           42,
           42,
           42,
           42,
           42,
           42,
           42,
           43,
           43,
           43,
           43,
           43,
           44,
           44,
           44,
           44,
           45,
           45,
           45,
           45,
           45,
           45,
           45,
           45,
           45,
           45,
           46,
           46,
           46,
           47,
           47,
           47,
           47,
           47,
           47,
           47,
           48,
           48,
           48,
           48,
           48,
           48,
           48,
           49,
           49,
           49,
           49,
           50,
           50,
           51,
           51,
           51,
           51,
           52,
           52,
           52,
           52,
           52,
           52,
           53,
           53,
           54,
           54,
           55,
           55,
           55,
           55,
           56,
           56,
           56,
           57,
           57,
           57,
           57,
           57,
           58,
           58,
           58,
           58,
           59,
           59,
           59,
           59,
           59,
           60,
           60,
           60,
           61,
           61,
           61,
           62,
           62,
           62,
           63,
           63,
           63,
           64,
           64,
           64,
           65,
           66,
           66,
           66,
           66,
           66,
           66,
           67,
           67,
           67,
           67,
           67,
           68,
           68,
           69,
           69,
           69,
           69,
           70,
           70,
           70,
           71,
           71,
           71,
           71,
           71,
           71,
           72,
           72,
           73,
           73,
           73,
           73,
           74,
           74,
           74,
           74,
           74,
           74,
           75,
           75,
           76,
           76,
           77,
           78,
           78,
           78,
           78,
           78,
           79,
           79,
           79,
           80,
           80,
           80,
           80,
           80,
           81,
           81,
           81,
           81,
           81,
           82,
           82,
           82,
           82,
           82,
           83,
           83,
           83,
           83,
           84,
           84,
           84,
           84,
           84,
           84,
           84,
           85,
           85,
           85,
           85,
           85,
           85,
           85,
           86,
           86,
           86,
           86,
           86,
           86,
           86,
           86,
           86,
           86,
           86,
           87,
           87,
           87,
           87,
           88,
           88,
           88,
           89,
           89,
           89,
           89,
           89,
           90,
           90,
           90,
           90,
           91,
           91,
           91,
           91,
           91,
           91,
           92,
           92,
           93,
           93,
           93,
           93,
           94,
           94,
           95,
           95,
           95,
           96,
           96,
           97
          ],
          "target": [
           17,
           22,
           23,
           24,
           26,
           34,
           18,
           27,
           28,
           31,
           33,
           19,
           25,
           28,
           29,
           21,
           23,
           30,
           19,
           20,
           23,
           25,
           29,
           17,
           22,
           23,
           24,
           26,
           17,
           20,
           23,
           24,
           25,
           26,
           28,
           17,
           20,
           22,
           23,
           24,
           25,
           26,
           34,
           17,
           20,
           23,
           24,
           26,
           30,
           17,
           22,
           23,
           24,
           26,
           17,
           19,
           20,
           22,
           23,
           24,
           25,
           26,
           29,
           18,
           27,
           28,
           33,
           17,
           19,
           20,
           22,
           23,
           24,
           25,
           26,
           18,
           27,
           33,
           18,
           19,
           26,
           28,
           30,
           31,
           32,
           34,
           19,
           23,
           25,
           29,
           18,
           33,
           35,
           36,
           37,
           40,
           41,
           45,
           47,
           48,
           51,
           52,
           35,
           44,
           46,
           38,
           42,
           45,
           49,
           53,
           36,
           37,
           41,
           42,
           43,
           47,
           48,
           51,
           52,
           39,
           37,
           40,
           41,
           42,
           45,
           48,
           36,
           37,
           38,
           39,
           40,
           41,
           42,
           43,
           45,
           47,
           48,
           49,
           52,
           36,
           37,
           39,
           41,
           42,
           45,
           47,
           48,
           51,
           52,
           36,
           38,
           39,
           41,
           42,
           43,
           45,
           49,
           36,
           37,
           38,
           39,
           40,
           41,
           42,
           45,
           47,
           48,
           52,
           35,
           44,
           35,
           44,
           46,
           50,
           38,
           42,
           49,
           35,
           38,
           39,
           42,
           45,
           54,
           35,
           46,
           46,
           50,
           35,
           39,
           44,
           53,
           55,
           56,
           57,
           59,
           61,
           64,
           69,
           70,
           71,
           72,
           74,
           79,
           55,
           57,
           59,
           60,
           63,
           64,
           66,
           67,
           73,
           55,
           57,
           58,
           59,
           60,
           63,
           66,
           73,
           74,
           57,
           59,
           60,
           62,
           65,
           66,
           67,
           75,
           76,
           59,
           61,
           66,
           67,
           68,
           74,
           76,
           79,
           55,
           58,
           59,
           63,
           66,
           74,
           55,
           57,
           58,
           59,
           60,
           63,
           64,
           66,
           67,
           73,
           75,
           55,
           57,
           58,
           59,
           60,
           62,
           64,
           66,
           67,
           73,
           74,
           75,
           59,
           60,
           64,
           66,
           67,
           56,
           69,
           70,
           71,
           55,
           57,
           58,
           59,
           62,
           63,
           64,
           66,
           67,
           78,
           56,
           71,
           72,
           55,
           57,
           59,
           60,
           66,
           67,
           73,
           55,
           57,
           58,
           59,
           60,
           63,
           66,
           62,
           64,
           75,
           76,
           77,
           78,
           55,
           57,
           63,
           73,
           55,
           57,
           59,
           60,
           63,
           66,
           65,
           78,
           61,
           74,
           82,
           83,
           85,
           86,
           93,
           94,
           95,
           82,
           83,
           84,
           85,
           86,
           82,
           83,
           85,
           86,
           82,
           83,
           84,
           85,
           86,
           82,
           84,
           86,
           87,
           89,
           90,
           80,
           81,
           85,
           82,
           83,
           86,
           80,
           85,
           86,
           80,
           81,
           82,
           83,
           84,
           85,
           86,
           81,
           84,
           85,
           86,
           87,
           88,
           89,
           92,
           93,
           94,
           95,
           93,
           94,
           95,
           80,
           81,
           89,
           93,
           94,
           95,
           91,
           95,
           82,
           84,
           85,
           86,
           83,
           86,
           87,
           88,
           89,
           90,
           81,
           87,
           81,
           86,
           97,
           85,
           86,
           87,
           91,
           96,
           90,
           93,
           95,
           98,
           99,
           104,
           107,
           113,
           98,
           104,
           107,
           112,
           113,
           99,
           111,
           112,
           113,
           114,
           111,
           112,
           113,
           115,
           104,
           110,
           111,
           112,
           113,
           114,
           115,
           98,
           104,
           105,
           112,
           113,
           114,
           115,
           98,
           99,
           104,
           105,
           106,
           110,
           111,
           112,
           113,
           114,
           115,
           98,
           105,
           106,
           115,
           98,
           106,
           108,
           98,
           106,
           108,
           110,
           113,
           99,
           106,
           108,
           110,
           99,
           100,
           101,
           103,
           109,
           116,
           99,
           109,
           98,
           99,
           109,
           113,
           99,
           113,
           98,
           99,
           109,
           102,
           114,
           116
          ],
          "value": [
           807,
           394,
           17,
           47,
           6,
           1,
           965,
           4,
           164,
           12,
           2,
           1022,
           19,
           4,
           81,
           938,
           1,
           152,
           3,
           24,
           212,
           661,
           30,
           517,
           292,
           25,
           39,
           6,
           26,
           272,
           121,
           221,
           7,
           125,
           1,
           20,
           300,
           2,
           187,
           193,
           9,
           23,
           3,
           12,
           245,
           38,
           203,
           13,
           1,
           310,
           149,
           8,
           13,
           2,
           8,
           1,
           103,
           2,
           215,
           54,
           17,
           38,
           2,
           331,
           3,
           73,
           2,
           16,
           1,
           14,
           4,
           11,
           10,
           50,
           276,
           23,
           306,
           1,
           9,
           1,
           1,
           2,
           12,
           151,
           57,
           16,
           16,
           3,
           7,
           125,
           1,
           33,
           2,
           50,
           1197,
           39,
           343,
           4,
           1,
           34,
           26,
           20,
           1306,
           16,
           7,
           1031,
           3,
           2,
           7,
           1,
           671,
           1,
           221,
           10,
           2,
           44,
           7,
           1,
           1,
           938,
           10,
           772,
           2,
           9,
           3,
           47,
           261,
           1,
           1,
           2,
           36,
           76,
           353,
           46,
           43,
           6,
           8,
           4,
           1,
           396,
           141,
           1,
           183,
           13,
           2,
           19,
           10,
           8,
           7,
           19,
           11,
           1,
           1,
           301,
           287,
           146,
           4,
           187,
           105,
           2,
           2,
           57,
           7,
           21,
           1,
           99,
           5,
           4,
           6,
           307,
           230,
           1,
           2,
           11,
           164,
           3,
           71,
           3,
           1,
           140,
           1,
           12,
           8,
           8,
           155,
           5,
           52,
           36,
           1,
           1,
           20,
           1,
           1065,
           1,
           1,
           1,
           1,
           8,
           237,
           215,
           23,
           2,
           36,
           23,
           492,
           461,
           505,
           27,
           21,
           18,
           6,
           31,
           936,
           154,
           5,
           4,
           2,
           349,
           2,
           2,
           1,
           1,
           1,
           1,
           579,
           461,
           1,
           4,
           143,
           19,
           2,
           585,
           2,
           1,
           344,
           149,
           1,
           1,
           14,
           842,
           1,
           10,
           36,
           1,
           215,
           207,
           2,
           145,
           130,
           107,
           3,
           14,
           1,
           7,
           2,
           2,
           15,
           6,
           22,
           9,
           1,
           10,
           324,
           321,
           1,
           1,
           2,
           27,
           1,
           303,
           1,
           3,
           11,
           311,
           1,
           2,
           3,
           1,
           1,
           1,
           2,
           1,
           130,
           47,
           15,
           12,
           4,
           2,
           163,
           1,
           25,
           4,
           7,
           2,
           2,
           128,
           31,
           10,
           46,
           4,
           6,
           9,
           5,
           4,
           1,
           2,
           79,
           52,
           11,
           21,
           8,
           5,
           1,
           17,
           4,
           4,
           2,
           5,
           1,
           1,
           20,
           6,
           2,
           1246,
           13,
           2,
           3,
           20,
           60,
           1000,
           618,
           26,
           46,
           2,
           226,
           851,
           44,
           1,
           6,
           11,
           3,
           5,
           8,
           650,
           16,
           5,
           642,
           22,
           435,
           135,
           584,
           1,
           1,
           410,
           96,
           7,
           2,
           460,
           7,
           462,
           1,
           20,
           3,
           11,
           66,
           352,
           1,
           31,
           292,
           28,
           1,
           1,
           343,
           263,
           1,
           1,
           54,
           3,
           227,
           8,
           1,
           1,
           1,
           213,
           1,
           2,
           162,
           24,
           10,
           156,
           1,
           3,
           2,
           2,
           1,
           137,
           6,
           8,
           148,
           1,
           98,
           1,
           52,
           1,
           2,
           17,
           12,
           11,
           2,
           32,
           3,
           1039,
           2,
           5,
           2,
           1,
           147,
           1,
           99,
           1,
           2,
           1,
           27,
           853,
           2279,
           22,
           1,
           52,
           130,
           4,
           2,
           10,
           130,
           1,
           69,
           15,
           27,
           2,
           445,
           1,
           9,
           94,
           10,
           273,
           1,
           1,
           18,
           2,
           2,
           2,
           16,
           232,
           945,
           645,
           65,
           3,
           17,
           21,
           1,
           25,
           108,
           5,
           2,
           411,
           370,
           1,
           1,
           1,
           136,
           1,
           7,
           6,
           8,
           141,
           12,
           2,
           5,
           2,
           261,
           22,
           242,
           3,
           2,
           288,
           1,
           1,
           999,
           91,
           10,
           1,
           52
          ]
         },
         "node": {
          "color": [
           "#1f77b4",
           "#ff7f0e",
           "#2ca02c",
           "#d62728",
           "#9467bd",
           "#8c564b",
           "#e377c2",
           "#7f7f7f",
           "#bcbd22",
           "#17becf",
           "#1f77b4",
           "#ff7f0e",
           "#2ca02c",
           "#d62728",
           "#9467bd",
           "#8c564b",
           "#e377c2",
           "#7f7f7f",
           "#bcbd22",
           "#17becf",
           "#1f77b4",
           "#ff7f0e",
           "#2ca02c",
           "#d62728",
           "#9467bd",
           "#8c564b",
           "#e377c2",
           "#7f7f7f",
           "#bcbd22",
           "#17becf",
           "#1f77b4",
           "#ff7f0e",
           "#2ca02c",
           "#d62728",
           "#9467bd",
           "#8c564b",
           "#e377c2",
           "#7f7f7f",
           "#bcbd22",
           "#17becf",
           "#1f77b4",
           "#ff7f0e",
           "#2ca02c",
           "#d62728",
           "#9467bd",
           "#8c564b",
           "#e377c2",
           "#7f7f7f",
           "#bcbd22",
           "#17becf",
           "#1f77b4",
           "#ff7f0e",
           "#2ca02c",
           "#d62728",
           "#9467bd",
           "#8c564b",
           "#e377c2",
           "#7f7f7f",
           "#bcbd22",
           "#17becf",
           "#1f77b4",
           "#ff7f0e",
           "#2ca02c",
           "#d62728",
           "#9467bd",
           "#8c564b",
           "#e377c2",
           "#7f7f7f",
           "#bcbd22",
           "#17becf",
           "#1f77b4",
           "#ff7f0e",
           "#2ca02c",
           "#d62728",
           "#9467bd",
           "#8c564b",
           "#e377c2",
           "#7f7f7f",
           "#bcbd22",
           "#17becf",
           "#1f77b4",
           "#ff7f0e",
           "#2ca02c",
           "#d62728",
           "#9467bd",
           "#8c564b",
           "#e377c2",
           "#7f7f7f",
           "#bcbd22",
           "#17becf",
           "#1f77b4",
           "#ff7f0e",
           "#2ca02c",
           "#d62728",
           "#9467bd",
           "#8c564b",
           "#e377c2",
           "#7f7f7f",
           "#bcbd22",
           "#17becf",
           "#1f77b4",
           "#ff7f0e",
           "#2ca02c",
           "#d62728",
           "#9467bd",
           "#8c564b",
           "#e377c2",
           "#7f7f7f",
           "#bcbd22",
           "#17becf",
           "#1f77b4",
           "#ff7f0e",
           "#2ca02c",
           "#d62728",
           "#9467bd",
           "#8c564b",
           "#e377c2"
          ],
          "label": [
           1,
           2,
           3,
           4,
           5,
           6,
           7,
           8,
           9,
           10,
           11,
           12,
           13,
           14,
           15,
           16,
           17,
           1,
           2,
           3,
           4,
           5,
           6,
           7,
           8,
           9,
           10,
           11,
           12,
           13,
           14,
           15,
           16,
           17,
           18,
           1,
           2,
           3,
           4,
           5,
           6,
           7,
           8,
           9,
           10,
           11,
           12,
           13,
           14,
           15,
           16,
           17,
           18,
           19,
           20,
           1,
           2,
           3,
           4,
           5,
           6,
           7,
           8,
           9,
           10,
           11,
           12,
           13,
           14,
           15,
           16,
           17,
           18,
           19,
           20,
           21,
           22,
           23,
           24,
           25,
           1,
           2,
           3,
           4,
           5,
           6,
           7,
           8,
           9,
           10,
           11,
           12,
           13,
           14,
           15,
           16,
           17,
           18,
           "CD16+ NK cells",
           "Classical monocytes",
           "DC1",
           "DC2",
           "Epithelial cells",
           "HSC/MPP",
           "MAIT cells",
           "Megakaryocytes/platelets",
           "Memory B cells",
           "NK cells",
           "Naive B cells",
           "Non-classical monocytes",
           "Plasma cells",
           "Regulatory T cells",
           "Tcm/Naive cytotoxic T cells",
           "Tcm/Naive helper T cells",
           "Tem/Effector helper T cells",
           "Tem/Trm cytotoxic T cells",
           "pDC"
          ],
          "line": {
           "color": "black",
           "width": 0.5
          },
          "pad": 15,
          "thickness": 20
         },
         "type": "sankey"
        }
       ],
       "layout": {
        "annotations": [
         {
          "showarrow": false,
          "text": "monocle",
          "x": 0,
          "xref": "x",
          "y": 1.05,
          "yref": "paper"
         },
         {
          "showarrow": false,
          "text": "scanpy",
          "x": 1,
          "xref": "x",
          "y": 1.05,
          "yref": "paper"
         },
         {
          "showarrow": false,
          "text": "scvi-tools",
          "x": 2,
          "xref": "x",
          "y": 1.05,
          "yref": "paper"
         },
         {
          "showarrow": false,
          "text": "seurat",
          "x": 3,
          "xref": "x",
          "y": 1.05,
          "yref": "paper"
         },
         {
          "showarrow": false,
          "text": "COTAN",
          "x": 4,
          "xref": "x",
          "y": 1.05,
          "yref": "paper"
         },
         {
          "showarrow": false,
          "text": "celltypist",
          "x": 5,
          "xref": "x",
          "y": 1.05,
          "yref": "paper"
         }
        ],
        "font": {
         "size": 10
        },
        "height": 450,
        "plot_bgcolor": "rgba(0,0,0,0)",
        "template": {
         "data": {
          "bar": [
           {
            "error_x": {
             "color": "#2a3f5f"
            },
            "error_y": {
             "color": "#2a3f5f"
            },
            "marker": {
             "line": {
              "color": "#E5ECF6",
              "width": 0.5
             },
             "pattern": {
              "fillmode": "overlay",
              "size": 10,
              "solidity": 0.2
             }
            },
            "type": "bar"
           }
          ],
          "barpolar": [
           {
            "marker": {
             "line": {
              "color": "#E5ECF6",
              "width": 0.5
             },
             "pattern": {
              "fillmode": "overlay",
              "size": 10,
              "solidity": 0.2
             }
            },
            "type": "barpolar"
           }
          ],
          "carpet": [
           {
            "aaxis": {
             "endlinecolor": "#2a3f5f",
             "gridcolor": "white",
             "linecolor": "white",
             "minorgridcolor": "white",
             "startlinecolor": "#2a3f5f"
            },
            "baxis": {
             "endlinecolor": "#2a3f5f",
             "gridcolor": "white",
             "linecolor": "white",
             "minorgridcolor": "white",
             "startlinecolor": "#2a3f5f"
            },
            "type": "carpet"
           }
          ],
          "choropleth": [
           {
            "colorbar": {
             "outlinewidth": 0,
             "ticks": ""
            },
            "type": "choropleth"
           }
          ],
          "contour": [
           {
            "colorbar": {
             "outlinewidth": 0,
             "ticks": ""
            },
            "colorscale": [
             [
              0,
              "#0d0887"
             ],
             [
              0.1111111111111111,
              "#46039f"
             ],
             [
              0.2222222222222222,
              "#7201a8"
             ],
             [
              0.3333333333333333,
              "#9c179e"
             ],
             [
              0.4444444444444444,
              "#bd3786"
             ],
             [
              0.5555555555555556,
              "#d8576b"
             ],
             [
              0.6666666666666666,
              "#ed7953"
             ],
             [
              0.7777777777777778,
              "#fb9f3a"
             ],
             [
              0.8888888888888888,
              "#fdca26"
             ],
             [
              1,
              "#f0f921"
             ]
            ],
            "type": "contour"
           }
          ],
          "contourcarpet": [
           {
            "colorbar": {
             "outlinewidth": 0,
             "ticks": ""
            },
            "type": "contourcarpet"
           }
          ],
          "heatmap": [
           {
            "colorbar": {
             "outlinewidth": 0,
             "ticks": ""
            },
            "colorscale": [
             [
              0,
              "#0d0887"
             ],
             [
              0.1111111111111111,
              "#46039f"
             ],
             [
              0.2222222222222222,
              "#7201a8"
             ],
             [
              0.3333333333333333,
              "#9c179e"
             ],
             [
              0.4444444444444444,
              "#bd3786"
             ],
             [
              0.5555555555555556,
              "#d8576b"
             ],
             [
              0.6666666666666666,
              "#ed7953"
             ],
             [
              0.7777777777777778,
              "#fb9f3a"
             ],
             [
              0.8888888888888888,
              "#fdca26"
             ],
             [
              1,
              "#f0f921"
             ]
            ],
            "type": "heatmap"
           }
          ],
          "heatmapgl": [
           {
            "colorbar": {
             "outlinewidth": 0,
             "ticks": ""
            },
            "colorscale": [
             [
              0,
              "#0d0887"
             ],
             [
              0.1111111111111111,
              "#46039f"
             ],
             [
              0.2222222222222222,
              "#7201a8"
             ],
             [
              0.3333333333333333,
              "#9c179e"
             ],
             [
              0.4444444444444444,
              "#bd3786"
             ],
             [
              0.5555555555555556,
              "#d8576b"
             ],
             [
              0.6666666666666666,
              "#ed7953"
             ],
             [
              0.7777777777777778,
              "#fb9f3a"
             ],
             [
              0.8888888888888888,
              "#fdca26"
             ],
             [
              1,
              "#f0f921"
             ]
            ],
            "type": "heatmapgl"
           }
          ],
          "histogram": [
           {
            "marker": {
             "pattern": {
              "fillmode": "overlay",
              "size": 10,
              "solidity": 0.2
             }
            },
            "type": "histogram"
           }
          ],
          "histogram2d": [
           {
            "colorbar": {
             "outlinewidth": 0,
             "ticks": ""
            },
            "colorscale": [
             [
              0,
              "#0d0887"
             ],
             [
              0.1111111111111111,
              "#46039f"
             ],
             [
              0.2222222222222222,
              "#7201a8"
             ],
             [
              0.3333333333333333,
              "#9c179e"
             ],
             [
              0.4444444444444444,
              "#bd3786"
             ],
             [
              0.5555555555555556,
              "#d8576b"
             ],
             [
              0.6666666666666666,
              "#ed7953"
             ],
             [
              0.7777777777777778,
              "#fb9f3a"
             ],
             [
              0.8888888888888888,
              "#fdca26"
             ],
             [
              1,
              "#f0f921"
             ]
            ],
            "type": "histogram2d"
           }
          ],
          "histogram2dcontour": [
           {
            "colorbar": {
             "outlinewidth": 0,
             "ticks": ""
            },
            "colorscale": [
             [
              0,
              "#0d0887"
             ],
             [
              0.1111111111111111,
              "#46039f"
             ],
             [
              0.2222222222222222,
              "#7201a8"
             ],
             [
              0.3333333333333333,
              "#9c179e"
             ],
             [
              0.4444444444444444,
              "#bd3786"
             ],
             [
              0.5555555555555556,
              "#d8576b"
             ],
             [
              0.6666666666666666,
              "#ed7953"
             ],
             [
              0.7777777777777778,
              "#fb9f3a"
             ],
             [
              0.8888888888888888,
              "#fdca26"
             ],
             [
              1,
              "#f0f921"
             ]
            ],
            "type": "histogram2dcontour"
           }
          ],
          "mesh3d": [
           {
            "colorbar": {
             "outlinewidth": 0,
             "ticks": ""
            },
            "type": "mesh3d"
           }
          ],
          "parcoords": [
           {
            "line": {
             "colorbar": {
              "outlinewidth": 0,
              "ticks": ""
             }
            },
            "type": "parcoords"
           }
          ],
          "pie": [
           {
            "automargin": true,
            "type": "pie"
           }
          ],
          "scatter": [
           {
            "fillpattern": {
             "fillmode": "overlay",
             "size": 10,
             "solidity": 0.2
            },
            "type": "scatter"
           }
          ],
          "scatter3d": [
           {
            "line": {
             "colorbar": {
              "outlinewidth": 0,
              "ticks": ""
             }
            },
            "marker": {
             "colorbar": {
              "outlinewidth": 0,
              "ticks": ""
             }
            },
            "type": "scatter3d"
           }
          ],
          "scattercarpet": [
           {
            "marker": {
             "colorbar": {
              "outlinewidth": 0,
              "ticks": ""
             }
            },
            "type": "scattercarpet"
           }
          ],
          "scattergeo": [
           {
            "marker": {
             "colorbar": {
              "outlinewidth": 0,
              "ticks": ""
             }
            },
            "type": "scattergeo"
           }
          ],
          "scattergl": [
           {
            "marker": {
             "colorbar": {
              "outlinewidth": 0,
              "ticks": ""
             }
            },
            "type": "scattergl"
           }
          ],
          "scattermapbox": [
           {
            "marker": {
             "colorbar": {
              "outlinewidth": 0,
              "ticks": ""
             }
            },
            "type": "scattermapbox"
           }
          ],
          "scatterpolar": [
           {
            "marker": {
             "colorbar": {
              "outlinewidth": 0,
              "ticks": ""
             }
            },
            "type": "scatterpolar"
           }
          ],
          "scatterpolargl": [
           {
            "marker": {
             "colorbar": {
              "outlinewidth": 0,
              "ticks": ""
             }
            },
            "type": "scatterpolargl"
           }
          ],
          "scatterternary": [
           {
            "marker": {
             "colorbar": {
              "outlinewidth": 0,
              "ticks": ""
             }
            },
            "type": "scatterternary"
           }
          ],
          "surface": [
           {
            "colorbar": {
             "outlinewidth": 0,
             "ticks": ""
            },
            "colorscale": [
             [
              0,
              "#0d0887"
             ],
             [
              0.1111111111111111,
              "#46039f"
             ],
             [
              0.2222222222222222,
              "#7201a8"
             ],
             [
              0.3333333333333333,
              "#9c179e"
             ],
             [
              0.4444444444444444,
              "#bd3786"
             ],
             [
              0.5555555555555556,
              "#d8576b"
             ],
             [
              0.6666666666666666,
              "#ed7953"
             ],
             [
              0.7777777777777778,
              "#fb9f3a"
             ],
             [
              0.8888888888888888,
              "#fdca26"
             ],
             [
              1,
              "#f0f921"
             ]
            ],
            "type": "surface"
           }
          ],
          "table": [
           {
            "cells": {
             "fill": {
              "color": "#EBF0F8"
             },
             "line": {
              "color": "white"
             }
            },
            "header": {
             "fill": {
              "color": "#C8D4E3"
             },
             "line": {
              "color": "white"
             }
            },
            "type": "table"
           }
          ]
         },
         "layout": {
          "annotationdefaults": {
           "arrowcolor": "#2a3f5f",
           "arrowhead": 0,
           "arrowwidth": 1
          },
          "autotypenumbers": "strict",
          "coloraxis": {
           "colorbar": {
            "outlinewidth": 0,
            "ticks": ""
           }
          },
          "colorscale": {
           "diverging": [
            [
             0,
             "#8e0152"
            ],
            [
             0.1,
             "#c51b7d"
            ],
            [
             0.2,
             "#de77ae"
            ],
            [
             0.3,
             "#f1b6da"
            ],
            [
             0.4,
             "#fde0ef"
            ],
            [
             0.5,
             "#f7f7f7"
            ],
            [
             0.6,
             "#e6f5d0"
            ],
            [
             0.7,
             "#b8e186"
            ],
            [
             0.8,
             "#7fbc41"
            ],
            [
             0.9,
             "#4d9221"
            ],
            [
             1,
             "#276419"
            ]
           ],
           "sequential": [
            [
             0,
             "#0d0887"
            ],
            [
             0.1111111111111111,
             "#46039f"
            ],
            [
             0.2222222222222222,
             "#7201a8"
            ],
            [
             0.3333333333333333,
             "#9c179e"
            ],
            [
             0.4444444444444444,
             "#bd3786"
            ],
            [
             0.5555555555555556,
             "#d8576b"
            ],
            [
             0.6666666666666666,
             "#ed7953"
            ],
            [
             0.7777777777777778,
             "#fb9f3a"
            ],
            [
             0.8888888888888888,
             "#fdca26"
            ],
            [
             1,
             "#f0f921"
            ]
           ],
           "sequentialminus": [
            [
             0,
             "#0d0887"
            ],
            [
             0.1111111111111111,
             "#46039f"
            ],
            [
             0.2222222222222222,
             "#7201a8"
            ],
            [
             0.3333333333333333,
             "#9c179e"
            ],
            [
             0.4444444444444444,
             "#bd3786"
            ],
            [
             0.5555555555555556,
             "#d8576b"
            ],
            [
             0.6666666666666666,
             "#ed7953"
            ],
            [
             0.7777777777777778,
             "#fb9f3a"
            ],
            [
             0.8888888888888888,
             "#fdca26"
            ],
            [
             1,
             "#f0f921"
            ]
           ]
          },
          "colorway": [
           "#636efa",
           "#EF553B",
           "#00cc96",
           "#ab63fa",
           "#FFA15A",
           "#19d3f3",
           "#FF6692",
           "#B6E880",
           "#FF97FF",
           "#FECB52"
          ],
          "font": {
           "color": "#2a3f5f"
          },
          "geo": {
           "bgcolor": "white",
           "lakecolor": "white",
           "landcolor": "#E5ECF6",
           "showlakes": true,
           "showland": true,
           "subunitcolor": "white"
          },
          "hoverlabel": {
           "align": "left"
          },
          "hovermode": "closest",
          "mapbox": {
           "style": "light"
          },
          "paper_bgcolor": "white",
          "plot_bgcolor": "#E5ECF6",
          "polar": {
           "angularaxis": {
            "gridcolor": "white",
            "linecolor": "white",
            "ticks": ""
           },
           "bgcolor": "#E5ECF6",
           "radialaxis": {
            "gridcolor": "white",
            "linecolor": "white",
            "ticks": ""
           }
          },
          "scene": {
           "xaxis": {
            "backgroundcolor": "#E5ECF6",
            "gridcolor": "white",
            "gridwidth": 2,
            "linecolor": "white",
            "showbackground": true,
            "ticks": "",
            "zerolinecolor": "white"
           },
           "yaxis": {
            "backgroundcolor": "#E5ECF6",
            "gridcolor": "white",
            "gridwidth": 2,
            "linecolor": "white",
            "showbackground": true,
            "ticks": "",
            "zerolinecolor": "white"
           },
           "zaxis": {
            "backgroundcolor": "#E5ECF6",
            "gridcolor": "white",
            "gridwidth": 2,
            "linecolor": "white",
            "showbackground": true,
            "ticks": "",
            "zerolinecolor": "white"
           }
          },
          "shapedefaults": {
           "line": {
            "color": "#2a3f5f"
           }
          },
          "ternary": {
           "aaxis": {
            "gridcolor": "white",
            "linecolor": "white",
            "ticks": ""
           },
           "baxis": {
            "gridcolor": "white",
            "linecolor": "white",
            "ticks": ""
           },
           "bgcolor": "#E5ECF6",
           "caxis": {
            "gridcolor": "white",
            "linecolor": "white",
            "ticks": ""
           }
          },
          "title": {
           "x": 0.05
          },
          "xaxis": {
           "automargin": true,
           "gridcolor": "white",
           "linecolor": "white",
           "ticks": "",
           "title": {
            "standoff": 15
           },
           "zerolinecolor": "white",
           "zerolinewidth": 2
          },
          "yaxis": {
           "automargin": true,
           "gridcolor": "white",
           "linecolor": "white",
           "ticks": "",
           "title": {
            "standoff": 15
           },
           "zerolinecolor": "white",
           "zerolinewidth": 2
          }
         }
        },
        "title": {
         "text": "PBMC3 - matching celltypist labels"
        },
        "width": 700,
        "xaxis": {
         "showgrid": false,
         "visible": false,
         "zeroline": false
        },
        "yaxis": {
         "showgrid": false,
         "visible": false,
         "zeroline": false
        }
       }
      }
     },
     "metadata": {},
     "output_type": "display_data"
    },
    {
     "name": "stdout",
     "output_type": "stream",
     "text": [
      "------------------------------\n",
      "PBMC4 - matching celltypist labels\n"
     ]
    },
    {
     "name": "stderr",
     "output_type": "stream",
     "text": [
      "/Users/irenetesta/anaconda3/envs/chl/lib/python3.11/site-packages/anndata/_core/anndata.py:1113: FutureWarning:\n",
      "\n",
      "is_categorical_dtype is deprecated and will be removed in a future version. Use isinstance(dtype, CategoricalDtype) instead\n",
      "\n"
     ]
    },
    {
     "data": {
      "text/html": [
       "<div>\n",
       "<style scoped>\n",
       "    .dataframe tbody tr th:only-of-type {\n",
       "        vertical-align: middle;\n",
       "    }\n",
       "\n",
       "    .dataframe tbody tr th {\n",
       "        vertical-align: top;\n",
       "    }\n",
       "\n",
       "    .dataframe thead th {\n",
       "        text-align: right;\n",
       "    }\n",
       "</style>\n",
       "<table border=\"1\" class=\"dataframe\">\n",
       "  <thead>\n",
       "    <tr style=\"text-align: right;\">\n",
       "      <th></th>\n",
       "      <th>NMI</th>\n",
       "      <th>ARI</th>\n",
       "      <th>homogeneity</th>\n",
       "      <th>completeness</th>\n",
       "      <th>v_measure</th>\n",
       "      <th>fowlkes_mallows</th>\n",
       "    </tr>\n",
       "  </thead>\n",
       "  <tbody>\n",
       "    <tr>\n",
       "      <th>monocle</th>\n",
       "      <td>0.672294</td>\n",
       "      <td>0.380324</td>\n",
       "      <td>0.739909</td>\n",
       "      <td>0.616002</td>\n",
       "      <td>0.672294</td>\n",
       "      <td>0.482458</td>\n",
       "    </tr>\n",
       "    <tr>\n",
       "      <th>scanpy</th>\n",
       "      <td>0.712517</td>\n",
       "      <td>0.448522</td>\n",
       "      <td>0.798838</td>\n",
       "      <td>0.643032</td>\n",
       "      <td>0.712517</td>\n",
       "      <td>0.547478</td>\n",
       "    </tr>\n",
       "    <tr>\n",
       "      <th>scvi-tools</th>\n",
       "      <td>0.737628</td>\n",
       "      <td>0.487465</td>\n",
       "      <td>0.803928</td>\n",
       "      <td>0.681429</td>\n",
       "      <td>0.737628</td>\n",
       "      <td>0.578736</td>\n",
       "    </tr>\n",
       "    <tr>\n",
       "      <th>seurat</th>\n",
       "      <td>0.758228</td>\n",
       "      <td>0.476344</td>\n",
       "      <td>0.854145</td>\n",
       "      <td>0.681679</td>\n",
       "      <td>0.758228</td>\n",
       "      <td>0.575419</td>\n",
       "    </tr>\n",
       "    <tr>\n",
       "      <th>COTAN</th>\n",
       "      <td>0.711669</td>\n",
       "      <td>0.458362</td>\n",
       "      <td>0.742837</td>\n",
       "      <td>0.683011</td>\n",
       "      <td>0.711669</td>\n",
       "      <td>0.547341</td>\n",
       "    </tr>\n",
       "  </tbody>\n",
       "</table>\n",
       "</div>"
      ],
      "text/plain": [
       "                 NMI       ARI  homogeneity  completeness  v_measure  \\\n",
       "monocle     0.672294  0.380324     0.739909      0.616002   0.672294   \n",
       "scanpy      0.712517  0.448522     0.798838      0.643032   0.712517   \n",
       "scvi-tools  0.737628  0.487465     0.803928      0.681429   0.737628   \n",
       "seurat      0.758228  0.476344     0.854145      0.681679   0.758228   \n",
       "COTAN       0.711669  0.458362     0.742837      0.683011   0.711669   \n",
       "\n",
       "            fowlkes_mallows  \n",
       "monocle            0.482458  \n",
       "scanpy             0.547478  \n",
       "scvi-tools         0.578736  \n",
       "seurat             0.575419  \n",
       "COTAN              0.547341  "
      ]
     },
     "metadata": {},
     "output_type": "display_data"
    },
    {
     "data": {
      "application/vnd.plotly.v1+json": {
       "config": {
        "plotlyServerURL": "https://plot.ly"
       },
       "data": [
        {
         "link": {
          "source": [
           0,
           0,
           0,
           0,
           0,
           1,
           1,
           1,
           1,
           1,
           1,
           1,
           2,
           2,
           2,
           2,
           2,
           2,
           2,
           2,
           2,
           3,
           3,
           3,
           3,
           3,
           3,
           4,
           4,
           4,
           4,
           4,
           4,
           5,
           5,
           5,
           5,
           5,
           5,
           5,
           6,
           6,
           6,
           6,
           6,
           7,
           7,
           7,
           7,
           7,
           7,
           8,
           8,
           8,
           8,
           8,
           8,
           8,
           8,
           8,
           8,
           9,
           9,
           9,
           9,
           9,
           9,
           9,
           9,
           10,
           10,
           10,
           10,
           10,
           10,
           10,
           10,
           10,
           10,
           10,
           11,
           11,
           11,
           11,
           12,
           12,
           12,
           13,
           13,
           13,
           14,
           15,
           15,
           16,
           16,
           16,
           16,
           16,
           16,
           16,
           17,
           17,
           17,
           17,
           17,
           17,
           17,
           18,
           18,
           18,
           18,
           18,
           18,
           18,
           19,
           19,
           19,
           20,
           20,
           20,
           21,
           21,
           21,
           21,
           22,
           22,
           22,
           22,
           22,
           22,
           23,
           23,
           23,
           23,
           24,
           24,
           24,
           24,
           25,
           25,
           25,
           25,
           25,
           25,
           26,
           26,
           26,
           27,
           27,
           27,
           27,
           28,
           28,
           28,
           28,
           28,
           28,
           28,
           28,
           29,
           29,
           29,
           29,
           29,
           29,
           29,
           29,
           30,
           30,
           30,
           30,
           31,
           31,
           31,
           32,
           32,
           32,
           32,
           33,
           33,
           34,
           34,
           34,
           34,
           34,
           34,
           34,
           35,
           35,
           35,
           35,
           35,
           35,
           36,
           36,
           36,
           36,
           36,
           36,
           36,
           36,
           37,
           37,
           37,
           37,
           37,
           37,
           37,
           37,
           37,
           37,
           37,
           37,
           38,
           38,
           38,
           38,
           38,
           39,
           39,
           39,
           39,
           39,
           39,
           39,
           40,
           40,
           40,
           40,
           40,
           40,
           40,
           40,
           40,
           41,
           41,
           41,
           41,
           41,
           41,
           41,
           41,
           42,
           42,
           42,
           42,
           43,
           43,
           43,
           43,
           44,
           44,
           44,
           44,
           44,
           45,
           45,
           45,
           45,
           45,
           46,
           46,
           46,
           46,
           46,
           46,
           47,
           47,
           47,
           47,
           47,
           48,
           48,
           48,
           48,
           48,
           49,
           50,
           50,
           50,
           50,
           50,
           51,
           51,
           52,
           52,
           52,
           53,
           53,
           53,
           53,
           54,
           54,
           55,
           55,
           55,
           55,
           56,
           56,
           57,
           57,
           58,
           58,
           58,
           58,
           59,
           59,
           59,
           60,
           60,
           60,
           60,
           61,
           62,
           63,
           63,
           63,
           63,
           63,
           64,
           64,
           65,
           65,
           65,
           65,
           66,
           67,
           67,
           67,
           67,
           68,
           68,
           68,
           68,
           69,
           69,
           70,
           70,
           70,
           70,
           71,
           71,
           71,
           72,
           72,
           72,
           73,
           73,
           73,
           74,
           74,
           74,
           75,
           75,
           75,
           75,
           76,
           76,
           76,
           76,
           76,
           76,
           77,
           77,
           77,
           77,
           77,
           78,
           78,
           78,
           78,
           78,
           78,
           78,
           78,
           78,
           78,
           79,
           79,
           79,
           79,
           79,
           79,
           80,
           80,
           80,
           80,
           81,
           81,
           81,
           81,
           82,
           82,
           82,
           82,
           82,
           83,
           83,
           84,
           84
          ],
          "target": [
           17,
           19,
           25,
           28,
           32,
           17,
           20,
           21,
           23,
           25,
           29,
           31,
           17,
           20,
           21,
           22,
           23,
           25,
           29,
           30,
           31,
           16,
           18,
           27,
           28,
           29,
           32,
           16,
           18,
           27,
           28,
           29,
           32,
           16,
           18,
           26,
           27,
           28,
           29,
           32,
           17,
           20,
           21,
           23,
           31,
           22,
           23,
           24,
           25,
           29,
           30,
           16,
           17,
           18,
           21,
           24,
           26,
           27,
           28,
           29,
           32,
           17,
           22,
           23,
           24,
           25,
           29,
           30,
           32,
           17,
           18,
           20,
           21,
           22,
           23,
           24,
           25,
           29,
           30,
           31,
           16,
           26,
           29,
           32,
           27,
           28,
           29,
           17,
           28,
           33,
           32,
           19,
           25,
           36,
           37,
           39,
           44,
           45,
           46,
           48,
           34,
           35,
           37,
           40,
           41,
           42,
           47,
           36,
           37,
           39,
           44,
           45,
           46,
           48,
           37,
           38,
           43,
           34,
           35,
           40,
           34,
           35,
           40,
           43,
           35,
           40,
           41,
           42,
           46,
           47,
           34,
           35,
           40,
           42,
           34,
           40,
           41,
           47,
           35,
           37,
           38,
           40,
           42,
           43,
           36,
           37,
           44,
           36,
           37,
           39,
           45,
           36,
           37,
           38,
           39,
           43,
           44,
           45,
           46,
           34,
           36,
           37,
           39,
           41,
           45,
           46,
           47,
           34,
           40,
           41,
           47,
           34,
           35,
           40,
           36,
           37,
           44,
           48,
           45,
           49,
           50,
           51,
           57,
           59,
           60,
           62,
           63,
           50,
           51,
           56,
           59,
           60,
           67,
           52,
           53,
           55,
           61,
           63,
           64,
           65,
           68,
           50,
           52,
           53,
           54,
           55,
           58,
           61,
           63,
           64,
           65,
           67,
           68,
           54,
           58,
           59,
           67,
           68,
           52,
           53,
           55,
           61,
           63,
           64,
           68,
           50,
           51,
           56,
           57,
           58,
           59,
           60,
           62,
           67,
           50,
           56,
           57,
           58,
           59,
           63,
           64,
           67,
           50,
           56,
           59,
           67,
           54,
           58,
           60,
           67,
           53,
           55,
           61,
           63,
           68,
           52,
           55,
           63,
           64,
           66,
           50,
           52,
           53,
           56,
           60,
           63,
           50,
           56,
           57,
           59,
           63,
           52,
           53,
           55,
           56,
           65,
           66,
           70,
           76,
           78,
           79,
           81,
           78,
           79,
           71,
           72,
           73,
           71,
           72,
           73,
           74,
           81,
           82,
           70,
           71,
           72,
           73,
           76,
           78,
           76,
           82,
           69,
           76,
           81,
           82,
           76,
           78,
           79,
           70,
           77,
           78,
           79,
           74,
           79,
           70,
           71,
           72,
           73,
           74,
           72,
           75,
           71,
           72,
           82,
           84,
           83,
           79,
           80,
           81,
           82,
           69,
           70,
           71,
           73,
           86,
           97,
           85,
           86,
           87,
           97,
           86,
           87,
           93,
           86,
           93,
           97,
           86,
           93,
           97,
           86,
           93,
           97,
           86,
           87,
           88,
           93,
           85,
           88,
           89,
           97,
           99,
           100,
           85,
           95,
           97,
           99,
           100,
           85,
           86,
           89,
           92,
           95,
           96,
           97,
           98,
           99,
           100,
           92,
           95,
           96,
           97,
           98,
           100,
           85,
           88,
           92,
           97,
           91,
           92,
           94,
           97,
           86,
           91,
           92,
           94,
           97,
           87,
           101,
           86,
           90
          ],
          "value": [
           1,
           716,
           260,
           3,
           2,
           43,
           395,
           249,
           189,
           2,
           2,
           35,
           536,
           12,
           25,
           3,
           131,
           1,
           1,
           2,
           8,
           228,
           362,
           46,
           14,
           9,
           2,
           398,
           87,
           43,
           28,
           89,
           5,
           362,
           8,
           5,
           98,
           3,
           4,
           2,
           205,
           100,
           123,
           18,
           30,
           17,
           10,
           355,
           1,
           1,
           90,
           7,
           1,
           366,
           2,
           1,
           2,
           4,
           14,
           30,
           6,
           15,
           377,
           18,
           1,
           3,
           3,
           8,
           1,
           127,
           1,
           16,
           55,
           3,
           13,
           3,
           4,
           1,
           1,
           26,
           7,
           210,
           5,
           1,
           2,
           105,
           2,
           4,
           3,
           59,
           57,
           3,
           40,
           519,
           118,
           343,
           3,
           6,
           5,
           8,
           152,
           750,
           3,
           8,
           5,
           13,
           1,
           213,
           567,
           35,
           1,
           2,
           5,
           1,
           1,
           647,
           71,
           452,
           63,
           8,
           370,
           80,
           3,
           1,
           5,
           7,
           4,
           297,
           1,
           86,
           9,
           3,
           358,
           9,
           1,
           4,
           354,
           1,
           3,
           1,
           92,
           2,
           2,
           211,
           12,
           6,
           199,
           48,
           11,
           133,
           1,
           8,
           46,
           1,
           5,
           1,
           1,
           107,
           1,
           1,
           22,
           24,
           2,
           6,
           4,
           86,
           2,
           1,
           89,
           4,
           7,
           31,
           61,
           7,
           3,
           7,
           1,
           65,
           2,
           57,
           168,
           783,
           2,
           6,
           54,
           3,
           1,
           724,
           54,
           5,
           2,
           177,
           3,
           323,
           139,
           322,
           13,
           19,
           4,
           2,
           3,
           3,
           100,
           553,
           1,
           56,
           2,
           5,
           20,
           2,
           3,
           1,
           38,
           628,
           70,
           1,
           40,
           1,
           336,
           35,
           142,
           1,
           2,
           1,
           1,
           31,
           21,
           2,
           1,
           1,
           231,
           9,
           189,
           1,
           3,
           2,
           352,
           1,
           6,
           6,
           1,
           2,
           9,
           308,
           3,
           1,
           4,
           274,
           1,
           5,
           3,
           5,
           195,
           1,
           1,
           1,
           5,
           3,
           111,
           2,
           1,
           4,
           6,
           3,
           1,
           83,
           2,
           87,
           1,
           5,
           2,
           7,
           4,
           4,
           1,
           58,
           57,
           1,
           8,
           826,
           105,
           1,
           7,
           851,
           1,
           763,
           7,
           1,
           34,
           704,
           1,
           15,
           618,
           1,
           251,
           270,
           12,
           1,
           407,
           355,
           1,
           2,
           1,
           322,
           23,
           109,
           141,
           4,
           1,
           145,
           67,
           29,
           214,
           192,
           128,
           1,
           1,
           6,
           1,
           1,
           118,
           2,
           31,
           2,
           28,
           59,
           1,
           46,
           2,
           4,
           39,
           1,
           2,
           2,
           40,
           1,
           1,
           123,
           5,
           3,
           230,
           3,
           25,
           1095,
           2,
           3,
           716,
           2,
           13,
           2,
           213,
           1,
           24,
           92,
           1,
           1,
           351,
           2,
           1,
           12,
           107,
           1,
           1,
           75,
           61,
           1,
           7,
           3,
           3,
           406,
           1,
           9,
           5,
           547,
           310,
           8,
           156,
           1,
           2,
           203,
           966,
           1,
           9,
           1,
           1,
           43,
           1,
           291,
           40,
           8,
           1,
           2,
           17,
           627,
           1,
           1,
           1,
           58,
           1,
           27
          ]
         },
         "node": {
          "color": [
           "#1f77b4",
           "#ff7f0e",
           "#2ca02c",
           "#d62728",
           "#9467bd",
           "#8c564b",
           "#e377c2",
           "#7f7f7f",
           "#bcbd22",
           "#17becf",
           "#1f77b4",
           "#ff7f0e",
           "#2ca02c",
           "#d62728",
           "#9467bd",
           "#8c564b",
           "#e377c2",
           "#7f7f7f",
           "#bcbd22",
           "#17becf",
           "#1f77b4",
           "#ff7f0e",
           "#2ca02c",
           "#d62728",
           "#9467bd",
           "#8c564b",
           "#e377c2",
           "#7f7f7f",
           "#bcbd22",
           "#17becf",
           "#1f77b4",
           "#ff7f0e",
           "#2ca02c",
           "#d62728",
           "#9467bd",
           "#8c564b",
           "#e377c2",
           "#7f7f7f",
           "#bcbd22",
           "#17becf",
           "#1f77b4",
           "#ff7f0e",
           "#2ca02c",
           "#d62728",
           "#9467bd",
           "#8c564b",
           "#e377c2",
           "#7f7f7f",
           "#bcbd22",
           "#17becf",
           "#1f77b4",
           "#ff7f0e",
           "#2ca02c",
           "#d62728",
           "#9467bd",
           "#8c564b",
           "#e377c2",
           "#7f7f7f",
           "#bcbd22",
           "#17becf",
           "#1f77b4",
           "#ff7f0e",
           "#2ca02c",
           "#d62728",
           "#9467bd",
           "#8c564b",
           "#e377c2",
           "#7f7f7f",
           "#bcbd22",
           "#17becf",
           "#1f77b4",
           "#ff7f0e",
           "#2ca02c",
           "#d62728",
           "#9467bd",
           "#8c564b",
           "#e377c2",
           "#7f7f7f",
           "#bcbd22",
           "#17becf",
           "#1f77b4",
           "#ff7f0e",
           "#2ca02c",
           "#d62728",
           "#9467bd",
           "#8c564b",
           "#e377c2",
           "#7f7f7f",
           "#bcbd22",
           "#17becf",
           "#1f77b4",
           "#ff7f0e",
           "#2ca02c",
           "#d62728",
           "#9467bd",
           "#8c564b",
           "#e377c2",
           "#7f7f7f",
           "#bcbd22",
           "#17becf",
           "#1f77b4",
           "#ff7f0e"
          ],
          "label": [
           1,
           2,
           3,
           4,
           5,
           6,
           7,
           8,
           9,
           10,
           11,
           12,
           13,
           14,
           15,
           16,
           1,
           2,
           3,
           4,
           5,
           6,
           7,
           8,
           9,
           10,
           11,
           12,
           13,
           14,
           15,
           16,
           17,
           18,
           1,
           2,
           3,
           4,
           5,
           6,
           7,
           8,
           9,
           10,
           11,
           12,
           13,
           14,
           15,
           16,
           1,
           2,
           3,
           4,
           5,
           6,
           7,
           8,
           9,
           10,
           11,
           12,
           13,
           14,
           15,
           16,
           17,
           18,
           19,
           1,
           2,
           3,
           4,
           5,
           6,
           7,
           8,
           9,
           10,
           11,
           12,
           13,
           14,
           15,
           16,
           "CD16+ NK cells",
           "Classical monocytes",
           "DC2",
           "ELP",
           "MAIT cells",
           "Megakaryocytes/platelets",
           "Memory B cells",
           "Naive B cells",
           "Non-classical monocytes",
           "Plasma cells",
           "Regulatory T cells",
           "Tcm/Naive cytotoxic T cells",
           "Tcm/Naive helper T cells",
           "Tem/Effector helper T cells",
           "Tem/Temra cytotoxic T cells",
           "Tem/Trm cytotoxic T cells",
           "pDC"
          ],
          "line": {
           "color": "black",
           "width": 0.5
          },
          "pad": 15,
          "thickness": 20
         },
         "type": "sankey"
        }
       ],
       "layout": {
        "annotations": [
         {
          "showarrow": false,
          "text": "monocle",
          "x": 0,
          "xref": "x",
          "y": 1.05,
          "yref": "paper"
         },
         {
          "showarrow": false,
          "text": "scanpy",
          "x": 1,
          "xref": "x",
          "y": 1.05,
          "yref": "paper"
         },
         {
          "showarrow": false,
          "text": "scvi-tools",
          "x": 2,
          "xref": "x",
          "y": 1.05,
          "yref": "paper"
         },
         {
          "showarrow": false,
          "text": "seurat",
          "x": 3,
          "xref": "x",
          "y": 1.05,
          "yref": "paper"
         },
         {
          "showarrow": false,
          "text": "COTAN",
          "x": 4,
          "xref": "x",
          "y": 1.05,
          "yref": "paper"
         },
         {
          "showarrow": false,
          "text": "celltypist",
          "x": 5,
          "xref": "x",
          "y": 1.05,
          "yref": "paper"
         }
        ],
        "font": {
         "size": 10
        },
        "height": 450,
        "plot_bgcolor": "rgba(0,0,0,0)",
        "template": {
         "data": {
          "bar": [
           {
            "error_x": {
             "color": "#2a3f5f"
            },
            "error_y": {
             "color": "#2a3f5f"
            },
            "marker": {
             "line": {
              "color": "#E5ECF6",
              "width": 0.5
             },
             "pattern": {
              "fillmode": "overlay",
              "size": 10,
              "solidity": 0.2
             }
            },
            "type": "bar"
           }
          ],
          "barpolar": [
           {
            "marker": {
             "line": {
              "color": "#E5ECF6",
              "width": 0.5
             },
             "pattern": {
              "fillmode": "overlay",
              "size": 10,
              "solidity": 0.2
             }
            },
            "type": "barpolar"
           }
          ],
          "carpet": [
           {
            "aaxis": {
             "endlinecolor": "#2a3f5f",
             "gridcolor": "white",
             "linecolor": "white",
             "minorgridcolor": "white",
             "startlinecolor": "#2a3f5f"
            },
            "baxis": {
             "endlinecolor": "#2a3f5f",
             "gridcolor": "white",
             "linecolor": "white",
             "minorgridcolor": "white",
             "startlinecolor": "#2a3f5f"
            },
            "type": "carpet"
           }
          ],
          "choropleth": [
           {
            "colorbar": {
             "outlinewidth": 0,
             "ticks": ""
            },
            "type": "choropleth"
           }
          ],
          "contour": [
           {
            "colorbar": {
             "outlinewidth": 0,
             "ticks": ""
            },
            "colorscale": [
             [
              0,
              "#0d0887"
             ],
             [
              0.1111111111111111,
              "#46039f"
             ],
             [
              0.2222222222222222,
              "#7201a8"
             ],
             [
              0.3333333333333333,
              "#9c179e"
             ],
             [
              0.4444444444444444,
              "#bd3786"
             ],
             [
              0.5555555555555556,
              "#d8576b"
             ],
             [
              0.6666666666666666,
              "#ed7953"
             ],
             [
              0.7777777777777778,
              "#fb9f3a"
             ],
             [
              0.8888888888888888,
              "#fdca26"
             ],
             [
              1,
              "#f0f921"
             ]
            ],
            "type": "contour"
           }
          ],
          "contourcarpet": [
           {
            "colorbar": {
             "outlinewidth": 0,
             "ticks": ""
            },
            "type": "contourcarpet"
           }
          ],
          "heatmap": [
           {
            "colorbar": {
             "outlinewidth": 0,
             "ticks": ""
            },
            "colorscale": [
             [
              0,
              "#0d0887"
             ],
             [
              0.1111111111111111,
              "#46039f"
             ],
             [
              0.2222222222222222,
              "#7201a8"
             ],
             [
              0.3333333333333333,
              "#9c179e"
             ],
             [
              0.4444444444444444,
              "#bd3786"
             ],
             [
              0.5555555555555556,
              "#d8576b"
             ],
             [
              0.6666666666666666,
              "#ed7953"
             ],
             [
              0.7777777777777778,
              "#fb9f3a"
             ],
             [
              0.8888888888888888,
              "#fdca26"
             ],
             [
              1,
              "#f0f921"
             ]
            ],
            "type": "heatmap"
           }
          ],
          "heatmapgl": [
           {
            "colorbar": {
             "outlinewidth": 0,
             "ticks": ""
            },
            "colorscale": [
             [
              0,
              "#0d0887"
             ],
             [
              0.1111111111111111,
              "#46039f"
             ],
             [
              0.2222222222222222,
              "#7201a8"
             ],
             [
              0.3333333333333333,
              "#9c179e"
             ],
             [
              0.4444444444444444,
              "#bd3786"
             ],
             [
              0.5555555555555556,
              "#d8576b"
             ],
             [
              0.6666666666666666,
              "#ed7953"
             ],
             [
              0.7777777777777778,
              "#fb9f3a"
             ],
             [
              0.8888888888888888,
              "#fdca26"
             ],
             [
              1,
              "#f0f921"
             ]
            ],
            "type": "heatmapgl"
           }
          ],
          "histogram": [
           {
            "marker": {
             "pattern": {
              "fillmode": "overlay",
              "size": 10,
              "solidity": 0.2
             }
            },
            "type": "histogram"
           }
          ],
          "histogram2d": [
           {
            "colorbar": {
             "outlinewidth": 0,
             "ticks": ""
            },
            "colorscale": [
             [
              0,
              "#0d0887"
             ],
             [
              0.1111111111111111,
              "#46039f"
             ],
             [
              0.2222222222222222,
              "#7201a8"
             ],
             [
              0.3333333333333333,
              "#9c179e"
             ],
             [
              0.4444444444444444,
              "#bd3786"
             ],
             [
              0.5555555555555556,
              "#d8576b"
             ],
             [
              0.6666666666666666,
              "#ed7953"
             ],
             [
              0.7777777777777778,
              "#fb9f3a"
             ],
             [
              0.8888888888888888,
              "#fdca26"
             ],
             [
              1,
              "#f0f921"
             ]
            ],
            "type": "histogram2d"
           }
          ],
          "histogram2dcontour": [
           {
            "colorbar": {
             "outlinewidth": 0,
             "ticks": ""
            },
            "colorscale": [
             [
              0,
              "#0d0887"
             ],
             [
              0.1111111111111111,
              "#46039f"
             ],
             [
              0.2222222222222222,
              "#7201a8"
             ],
             [
              0.3333333333333333,
              "#9c179e"
             ],
             [
              0.4444444444444444,
              "#bd3786"
             ],
             [
              0.5555555555555556,
              "#d8576b"
             ],
             [
              0.6666666666666666,
              "#ed7953"
             ],
             [
              0.7777777777777778,
              "#fb9f3a"
             ],
             [
              0.8888888888888888,
              "#fdca26"
             ],
             [
              1,
              "#f0f921"
             ]
            ],
            "type": "histogram2dcontour"
           }
          ],
          "mesh3d": [
           {
            "colorbar": {
             "outlinewidth": 0,
             "ticks": ""
            },
            "type": "mesh3d"
           }
          ],
          "parcoords": [
           {
            "line": {
             "colorbar": {
              "outlinewidth": 0,
              "ticks": ""
             }
            },
            "type": "parcoords"
           }
          ],
          "pie": [
           {
            "automargin": true,
            "type": "pie"
           }
          ],
          "scatter": [
           {
            "fillpattern": {
             "fillmode": "overlay",
             "size": 10,
             "solidity": 0.2
            },
            "type": "scatter"
           }
          ],
          "scatter3d": [
           {
            "line": {
             "colorbar": {
              "outlinewidth": 0,
              "ticks": ""
             }
            },
            "marker": {
             "colorbar": {
              "outlinewidth": 0,
              "ticks": ""
             }
            },
            "type": "scatter3d"
           }
          ],
          "scattercarpet": [
           {
            "marker": {
             "colorbar": {
              "outlinewidth": 0,
              "ticks": ""
             }
            },
            "type": "scattercarpet"
           }
          ],
          "scattergeo": [
           {
            "marker": {
             "colorbar": {
              "outlinewidth": 0,
              "ticks": ""
             }
            },
            "type": "scattergeo"
           }
          ],
          "scattergl": [
           {
            "marker": {
             "colorbar": {
              "outlinewidth": 0,
              "ticks": ""
             }
            },
            "type": "scattergl"
           }
          ],
          "scattermapbox": [
           {
            "marker": {
             "colorbar": {
              "outlinewidth": 0,
              "ticks": ""
             }
            },
            "type": "scattermapbox"
           }
          ],
          "scatterpolar": [
           {
            "marker": {
             "colorbar": {
              "outlinewidth": 0,
              "ticks": ""
             }
            },
            "type": "scatterpolar"
           }
          ],
          "scatterpolargl": [
           {
            "marker": {
             "colorbar": {
              "outlinewidth": 0,
              "ticks": ""
             }
            },
            "type": "scatterpolargl"
           }
          ],
          "scatterternary": [
           {
            "marker": {
             "colorbar": {
              "outlinewidth": 0,
              "ticks": ""
             }
            },
            "type": "scatterternary"
           }
          ],
          "surface": [
           {
            "colorbar": {
             "outlinewidth": 0,
             "ticks": ""
            },
            "colorscale": [
             [
              0,
              "#0d0887"
             ],
             [
              0.1111111111111111,
              "#46039f"
             ],
             [
              0.2222222222222222,
              "#7201a8"
             ],
             [
              0.3333333333333333,
              "#9c179e"
             ],
             [
              0.4444444444444444,
              "#bd3786"
             ],
             [
              0.5555555555555556,
              "#d8576b"
             ],
             [
              0.6666666666666666,
              "#ed7953"
             ],
             [
              0.7777777777777778,
              "#fb9f3a"
             ],
             [
              0.8888888888888888,
              "#fdca26"
             ],
             [
              1,
              "#f0f921"
             ]
            ],
            "type": "surface"
           }
          ],
          "table": [
           {
            "cells": {
             "fill": {
              "color": "#EBF0F8"
             },
             "line": {
              "color": "white"
             }
            },
            "header": {
             "fill": {
              "color": "#C8D4E3"
             },
             "line": {
              "color": "white"
             }
            },
            "type": "table"
           }
          ]
         },
         "layout": {
          "annotationdefaults": {
           "arrowcolor": "#2a3f5f",
           "arrowhead": 0,
           "arrowwidth": 1
          },
          "autotypenumbers": "strict",
          "coloraxis": {
           "colorbar": {
            "outlinewidth": 0,
            "ticks": ""
           }
          },
          "colorscale": {
           "diverging": [
            [
             0,
             "#8e0152"
            ],
            [
             0.1,
             "#c51b7d"
            ],
            [
             0.2,
             "#de77ae"
            ],
            [
             0.3,
             "#f1b6da"
            ],
            [
             0.4,
             "#fde0ef"
            ],
            [
             0.5,
             "#f7f7f7"
            ],
            [
             0.6,
             "#e6f5d0"
            ],
            [
             0.7,
             "#b8e186"
            ],
            [
             0.8,
             "#7fbc41"
            ],
            [
             0.9,
             "#4d9221"
            ],
            [
             1,
             "#276419"
            ]
           ],
           "sequential": [
            [
             0,
             "#0d0887"
            ],
            [
             0.1111111111111111,
             "#46039f"
            ],
            [
             0.2222222222222222,
             "#7201a8"
            ],
            [
             0.3333333333333333,
             "#9c179e"
            ],
            [
             0.4444444444444444,
             "#bd3786"
            ],
            [
             0.5555555555555556,
             "#d8576b"
            ],
            [
             0.6666666666666666,
             "#ed7953"
            ],
            [
             0.7777777777777778,
             "#fb9f3a"
            ],
            [
             0.8888888888888888,
             "#fdca26"
            ],
            [
             1,
             "#f0f921"
            ]
           ],
           "sequentialminus": [
            [
             0,
             "#0d0887"
            ],
            [
             0.1111111111111111,
             "#46039f"
            ],
            [
             0.2222222222222222,
             "#7201a8"
            ],
            [
             0.3333333333333333,
             "#9c179e"
            ],
            [
             0.4444444444444444,
             "#bd3786"
            ],
            [
             0.5555555555555556,
             "#d8576b"
            ],
            [
             0.6666666666666666,
             "#ed7953"
            ],
            [
             0.7777777777777778,
             "#fb9f3a"
            ],
            [
             0.8888888888888888,
             "#fdca26"
            ],
            [
             1,
             "#f0f921"
            ]
           ]
          },
          "colorway": [
           "#636efa",
           "#EF553B",
           "#00cc96",
           "#ab63fa",
           "#FFA15A",
           "#19d3f3",
           "#FF6692",
           "#B6E880",
           "#FF97FF",
           "#FECB52"
          ],
          "font": {
           "color": "#2a3f5f"
          },
          "geo": {
           "bgcolor": "white",
           "lakecolor": "white",
           "landcolor": "#E5ECF6",
           "showlakes": true,
           "showland": true,
           "subunitcolor": "white"
          },
          "hoverlabel": {
           "align": "left"
          },
          "hovermode": "closest",
          "mapbox": {
           "style": "light"
          },
          "paper_bgcolor": "white",
          "plot_bgcolor": "#E5ECF6",
          "polar": {
           "angularaxis": {
            "gridcolor": "white",
            "linecolor": "white",
            "ticks": ""
           },
           "bgcolor": "#E5ECF6",
           "radialaxis": {
            "gridcolor": "white",
            "linecolor": "white",
            "ticks": ""
           }
          },
          "scene": {
           "xaxis": {
            "backgroundcolor": "#E5ECF6",
            "gridcolor": "white",
            "gridwidth": 2,
            "linecolor": "white",
            "showbackground": true,
            "ticks": "",
            "zerolinecolor": "white"
           },
           "yaxis": {
            "backgroundcolor": "#E5ECF6",
            "gridcolor": "white",
            "gridwidth": 2,
            "linecolor": "white",
            "showbackground": true,
            "ticks": "",
            "zerolinecolor": "white"
           },
           "zaxis": {
            "backgroundcolor": "#E5ECF6",
            "gridcolor": "white",
            "gridwidth": 2,
            "linecolor": "white",
            "showbackground": true,
            "ticks": "",
            "zerolinecolor": "white"
           }
          },
          "shapedefaults": {
           "line": {
            "color": "#2a3f5f"
           }
          },
          "ternary": {
           "aaxis": {
            "gridcolor": "white",
            "linecolor": "white",
            "ticks": ""
           },
           "baxis": {
            "gridcolor": "white",
            "linecolor": "white",
            "ticks": ""
           },
           "bgcolor": "#E5ECF6",
           "caxis": {
            "gridcolor": "white",
            "linecolor": "white",
            "ticks": ""
           }
          },
          "title": {
           "x": 0.05
          },
          "xaxis": {
           "automargin": true,
           "gridcolor": "white",
           "linecolor": "white",
           "ticks": "",
           "title": {
            "standoff": 15
           },
           "zerolinecolor": "white",
           "zerolinewidth": 2
          },
          "yaxis": {
           "automargin": true,
           "gridcolor": "white",
           "linecolor": "white",
           "ticks": "",
           "title": {
            "standoff": 15
           },
           "zerolinecolor": "white",
           "zerolinewidth": 2
          }
         }
        },
        "title": {
         "text": "PBMC4 - matching celltypist labels"
        },
        "width": 700,
        "xaxis": {
         "showgrid": false,
         "visible": false,
         "zeroline": false
        },
        "yaxis": {
         "showgrid": false,
         "visible": false,
         "zeroline": false
        }
       }
      }
     },
     "metadata": {},
     "output_type": "display_data"
    },
    {
     "name": "stdout",
     "output_type": "stream",
     "text": [
      "------------------------------\n",
      "PBMC1 - matching antibody labels\n"
     ]
    },
    {
     "name": "stderr",
     "output_type": "stream",
     "text": [
      "/Users/irenetesta/anaconda3/envs/chl/lib/python3.11/site-packages/anndata/_core/anndata.py:1113: FutureWarning:\n",
      "\n",
      "is_categorical_dtype is deprecated and will be removed in a future version. Use isinstance(dtype, CategoricalDtype) instead\n",
      "\n"
     ]
    },
    {
     "data": {
      "text/html": [
       "<div>\n",
       "<style scoped>\n",
       "    .dataframe tbody tr th:only-of-type {\n",
       "        vertical-align: middle;\n",
       "    }\n",
       "\n",
       "    .dataframe tbody tr th {\n",
       "        vertical-align: top;\n",
       "    }\n",
       "\n",
       "    .dataframe thead th {\n",
       "        text-align: right;\n",
       "    }\n",
       "</style>\n",
       "<table border=\"1\" class=\"dataframe\">\n",
       "  <thead>\n",
       "    <tr style=\"text-align: right;\">\n",
       "      <th></th>\n",
       "      <th>NMI</th>\n",
       "      <th>ARI</th>\n",
       "      <th>homogeneity</th>\n",
       "      <th>completeness</th>\n",
       "      <th>v_measure</th>\n",
       "      <th>fowlkes_mallows</th>\n",
       "    </tr>\n",
       "  </thead>\n",
       "  <tbody>\n",
       "    <tr>\n",
       "      <th>monocle</th>\n",
       "      <td>0.715777</td>\n",
       "      <td>0.633217</td>\n",
       "      <td>0.707203</td>\n",
       "      <td>0.724563</td>\n",
       "      <td>0.715777</td>\n",
       "      <td>0.698798</td>\n",
       "    </tr>\n",
       "    <tr>\n",
       "      <th>scanpy</th>\n",
       "      <td>0.736466</td>\n",
       "      <td>0.645073</td>\n",
       "      <td>0.769273</td>\n",
       "      <td>0.706342</td>\n",
       "      <td>0.736466</td>\n",
       "      <td>0.707927</td>\n",
       "    </tr>\n",
       "    <tr>\n",
       "      <th>scvi-tools</th>\n",
       "      <td>0.746355</td>\n",
       "      <td>0.650567</td>\n",
       "      <td>0.757864</td>\n",
       "      <td>0.735189</td>\n",
       "      <td>0.746355</td>\n",
       "      <td>0.712214</td>\n",
       "    </tr>\n",
       "    <tr>\n",
       "      <th>seurat</th>\n",
       "      <td>0.739813</td>\n",
       "      <td>0.640616</td>\n",
       "      <td>0.767621</td>\n",
       "      <td>0.713949</td>\n",
       "      <td>0.739813</td>\n",
       "      <td>0.704048</td>\n",
       "    </tr>\n",
       "    <tr>\n",
       "      <th>COTAN</th>\n",
       "      <td>0.704411</td>\n",
       "      <td>0.599209</td>\n",
       "      <td>0.706965</td>\n",
       "      <td>0.701876</td>\n",
       "      <td>0.704411</td>\n",
       "      <td>0.669953</td>\n",
       "    </tr>\n",
       "  </tbody>\n",
       "</table>\n",
       "</div>"
      ],
      "text/plain": [
       "                 NMI       ARI  homogeneity  completeness  v_measure  \\\n",
       "monocle     0.715777  0.633217     0.707203      0.724563   0.715777   \n",
       "scanpy      0.736466  0.645073     0.769273      0.706342   0.736466   \n",
       "scvi-tools  0.746355  0.650567     0.757864      0.735189   0.746355   \n",
       "seurat      0.739813  0.640616     0.767621      0.713949   0.739813   \n",
       "COTAN       0.704411  0.599209     0.706965      0.701876   0.704411   \n",
       "\n",
       "            fowlkes_mallows  \n",
       "monocle            0.698798  \n",
       "scanpy             0.707927  \n",
       "scvi-tools         0.712214  \n",
       "seurat             0.704048  \n",
       "COTAN              0.669953  "
      ]
     },
     "metadata": {},
     "output_type": "display_data"
    },
    {
     "data": {
      "application/vnd.plotly.v1+json": {
       "config": {
        "plotlyServerURL": "https://plot.ly"
       },
       "data": [
        {
         "link": {
          "source": [
           0,
           0,
           0,
           0,
           1,
           1,
           1,
           2,
           2,
           2,
           3,
           3,
           3,
           3,
           4,
           4,
           4,
           5,
           5,
           5,
           6,
           6,
           6,
           7,
           7,
           7,
           8,
           9,
           9,
           9,
           9,
           10,
           10,
           10,
           11,
           11,
           11,
           11,
           11,
           12,
           12,
           12,
           12,
           12,
           13,
           13,
           13,
           14,
           14,
           14,
           15,
           15,
           16,
           17,
           17,
           17,
           17,
           18,
           19,
           19,
           20,
           20,
           20,
           21,
           21,
           21,
           21,
           21,
           21,
           21,
           22,
           22,
           22,
           22,
           23,
           23,
           23,
           24,
           24,
           24,
           25,
           25,
           26,
           26,
           26,
           27,
           27,
           28,
           28,
           28,
           29,
           29,
           30,
           30,
           30,
           30,
           31,
           31,
           31,
           31,
           31,
           32,
           32,
           32,
           33,
           33,
           33,
           33,
           34,
           34,
           34,
           34,
           35,
           35,
           35,
           35,
           36,
           37,
           38,
           38,
           38,
           38,
           39,
           39,
           40,
           41,
           41,
           41,
           41,
           42,
           42,
           42,
           43,
           43,
           44,
           44,
           44,
           45,
           45,
           45,
           46,
           46,
           46,
           47,
           47,
           47,
           47,
           47,
           48,
           48,
           48,
           48,
           48,
           49,
           49,
           49,
           49,
           49,
           49,
           49,
           49,
           50,
           50,
           50,
           50,
           50,
           50,
           50,
           50
          ],
          "target": [
           9,
           11,
           12,
           19,
           10,
           13,
           17,
           9,
           11,
           12,
           10,
           11,
           12,
           14,
           12,
           15,
           16,
           10,
           11,
           13,
           10,
           13,
           18,
           9,
           13,
           17,
           17,
           20,
           21,
           23,
           28,
           21,
           22,
           25,
           20,
           21,
           23,
           26,
           28,
           20,
           23,
           25,
           26,
           28,
           21,
           22,
           27,
           24,
           25,
           26,
           21,
           24,
           24,
           21,
           22,
           27,
           29,
           22,
           20,
           28,
           30,
           31,
           35,
           30,
           31,
           32,
           33,
           34,
           36,
           39,
           32,
           33,
           38,
           39,
           30,
           31,
           35,
           34,
           36,
           37,
           34,
           35,
           31,
           34,
           35,
           33,
           39,
           30,
           31,
           35,
           39,
           40,
           43,
           47,
           48,
           49,
           43,
           47,
           48,
           49,
           50,
           41,
           43,
           44,
           41,
           42,
           43,
           44,
           41,
           47,
           49,
           50,
           47,
           48,
           49,
           50,
           46,
           46,
           41,
           42,
           44,
           48,
           41,
           44,
           45,
           54,
           55,
           56,
           57,
           54,
           55,
           56,
           54,
           55,
           54,
           55,
           56,
           54,
           55,
           59,
           51,
           56,
           59,
           52,
           53,
           54,
           58,
           59,
           52,
           53,
           54,
           58,
           59,
           51,
           52,
           53,
           55,
           57,
           58,
           59,
           60,
           51,
           52,
           53,
           54,
           57,
           58,
           59,
           60
          ],
          "value": [
           822,
           10,
           1,
           76,
           427,
           307,
           3,
           51,
           432,
           93,
           4,
           4,
           293,
           268,
           1,
           159,
           138,
           271,
           2,
           3,
           1,
           42,
           91,
           3,
           1,
           72,
           28,
           855,
           1,
           10,
           10,
           585,
           117,
           1,
           67,
           2,
           368,
           9,
           2,
           8,
           115,
           20,
           243,
           2,
           58,
           281,
           14,
           1,
           262,
           5,
           2,
           157,
           138,
           1,
           5,
           69,
           28,
           91,
           8,
           68,
           805,
           125,
           8,
           1,
           2,
           484,
           159,
           1,
           1,
           1,
           42,
           318,
           129,
           5,
           2,
           473,
           18,
           1,
           152,
           143,
           274,
           9,
           9,
           6,
           242,
           16,
           67,
           79,
           1,
           2,
           1,
           27,
           1,
           1,
           880,
           5,
           1,
           490,
           100,
           18,
           1,
           33,
           426,
           67,
           1,
           4,
           25,
           463,
           1,
           2,
           7,
           272,
           7,
           2,
           1,
           269,
           153,
           143,
           1,
           118,
           9,
           1,
           73,
           1,
           27,
           50,
           56,
           2,
           1,
           83,
           1,
           38,
           452,
           1,
           535,
           1,
           4,
           1,
           25,
           1,
           293,
           2,
           1,
           10,
           473,
           1,
           1,
           15,
           96,
           94,
           2,
           1,
           790,
           1,
           1,
           17,
           3,
           4,
           1,
           3,
           1,
           1,
           54,
           174,
           1,
           258,
           7,
           4,
           43
          ]
         },
         "node": {
          "color": [
           "#1f77b4",
           "#ff7f0e",
           "#2ca02c",
           "#d62728",
           "#9467bd",
           "#8c564b",
           "#e377c2",
           "#7f7f7f",
           "#bcbd22",
           "#17becf",
           "#1f77b4",
           "#ff7f0e",
           "#2ca02c",
           "#d62728",
           "#9467bd",
           "#8c564b",
           "#e377c2",
           "#7f7f7f",
           "#bcbd22",
           "#17becf",
           "#1f77b4",
           "#ff7f0e",
           "#2ca02c",
           "#d62728",
           "#9467bd",
           "#8c564b",
           "#e377c2",
           "#7f7f7f",
           "#bcbd22",
           "#17becf",
           "#1f77b4",
           "#ff7f0e",
           "#2ca02c",
           "#d62728",
           "#9467bd",
           "#8c564b",
           "#e377c2",
           "#7f7f7f",
           "#bcbd22",
           "#17becf",
           "#1f77b4",
           "#ff7f0e",
           "#2ca02c",
           "#d62728",
           "#9467bd",
           "#8c564b",
           "#e377c2",
           "#7f7f7f",
           "#bcbd22",
           "#17becf",
           "#1f77b4",
           "#ff7f0e",
           "#2ca02c",
           "#d62728",
           "#9467bd",
           "#8c564b",
           "#e377c2",
           "#7f7f7f",
           "#bcbd22",
           "#17becf",
           "#1f77b4"
          ],
          "label": [
           1,
           2,
           3,
           4,
           5,
           6,
           7,
           8,
           9,
           1,
           2,
           3,
           4,
           5,
           6,
           7,
           8,
           9,
           10,
           11,
           1,
           2,
           3,
           4,
           5,
           6,
           7,
           8,
           9,
           10,
           1,
           2,
           3,
           4,
           5,
           6,
           7,
           8,
           9,
           10,
           11,
           1,
           2,
           3,
           4,
           5,
           6,
           7,
           8,
           9,
           10,
           "B Cells",
           "CD8+ T Cells",
           "Central Memory T Cells",
           "Classical Monocytes",
           "Dendritic Cells",
           "Intermediate Monocytes",
           "NK Cells",
           "NKT Cells",
           "Naive T Cells",
           "Terminal Effector T Cells"
          ],
          "line": {
           "color": "black",
           "width": 0.5
          },
          "pad": 15,
          "thickness": 20
         },
         "type": "sankey"
        }
       ],
       "layout": {
        "annotations": [
         {
          "showarrow": false,
          "text": "monocle",
          "x": 0,
          "xref": "x",
          "y": 1.05,
          "yref": "paper"
         },
         {
          "showarrow": false,
          "text": "scanpy",
          "x": 1,
          "xref": "x",
          "y": 1.05,
          "yref": "paper"
         },
         {
          "showarrow": false,
          "text": "scvi-tools",
          "x": 2,
          "xref": "x",
          "y": 1.05,
          "yref": "paper"
         },
         {
          "showarrow": false,
          "text": "seurat",
          "x": 3,
          "xref": "x",
          "y": 1.05,
          "yref": "paper"
         },
         {
          "showarrow": false,
          "text": "COTAN",
          "x": 4,
          "xref": "x",
          "y": 1.05,
          "yref": "paper"
         },
         {
          "showarrow": false,
          "text": "antibody",
          "x": 5,
          "xref": "x",
          "y": 1.05,
          "yref": "paper"
         }
        ],
        "font": {
         "size": 10
        },
        "height": 450,
        "plot_bgcolor": "rgba(0,0,0,0)",
        "template": {
         "data": {
          "bar": [
           {
            "error_x": {
             "color": "#2a3f5f"
            },
            "error_y": {
             "color": "#2a3f5f"
            },
            "marker": {
             "line": {
              "color": "#E5ECF6",
              "width": 0.5
             },
             "pattern": {
              "fillmode": "overlay",
              "size": 10,
              "solidity": 0.2
             }
            },
            "type": "bar"
           }
          ],
          "barpolar": [
           {
            "marker": {
             "line": {
              "color": "#E5ECF6",
              "width": 0.5
             },
             "pattern": {
              "fillmode": "overlay",
              "size": 10,
              "solidity": 0.2
             }
            },
            "type": "barpolar"
           }
          ],
          "carpet": [
           {
            "aaxis": {
             "endlinecolor": "#2a3f5f",
             "gridcolor": "white",
             "linecolor": "white",
             "minorgridcolor": "white",
             "startlinecolor": "#2a3f5f"
            },
            "baxis": {
             "endlinecolor": "#2a3f5f",
             "gridcolor": "white",
             "linecolor": "white",
             "minorgridcolor": "white",
             "startlinecolor": "#2a3f5f"
            },
            "type": "carpet"
           }
          ],
          "choropleth": [
           {
            "colorbar": {
             "outlinewidth": 0,
             "ticks": ""
            },
            "type": "choropleth"
           }
          ],
          "contour": [
           {
            "colorbar": {
             "outlinewidth": 0,
             "ticks": ""
            },
            "colorscale": [
             [
              0,
              "#0d0887"
             ],
             [
              0.1111111111111111,
              "#46039f"
             ],
             [
              0.2222222222222222,
              "#7201a8"
             ],
             [
              0.3333333333333333,
              "#9c179e"
             ],
             [
              0.4444444444444444,
              "#bd3786"
             ],
             [
              0.5555555555555556,
              "#d8576b"
             ],
             [
              0.6666666666666666,
              "#ed7953"
             ],
             [
              0.7777777777777778,
              "#fb9f3a"
             ],
             [
              0.8888888888888888,
              "#fdca26"
             ],
             [
              1,
              "#f0f921"
             ]
            ],
            "type": "contour"
           }
          ],
          "contourcarpet": [
           {
            "colorbar": {
             "outlinewidth": 0,
             "ticks": ""
            },
            "type": "contourcarpet"
           }
          ],
          "heatmap": [
           {
            "colorbar": {
             "outlinewidth": 0,
             "ticks": ""
            },
            "colorscale": [
             [
              0,
              "#0d0887"
             ],
             [
              0.1111111111111111,
              "#46039f"
             ],
             [
              0.2222222222222222,
              "#7201a8"
             ],
             [
              0.3333333333333333,
              "#9c179e"
             ],
             [
              0.4444444444444444,
              "#bd3786"
             ],
             [
              0.5555555555555556,
              "#d8576b"
             ],
             [
              0.6666666666666666,
              "#ed7953"
             ],
             [
              0.7777777777777778,
              "#fb9f3a"
             ],
             [
              0.8888888888888888,
              "#fdca26"
             ],
             [
              1,
              "#f0f921"
             ]
            ],
            "type": "heatmap"
           }
          ],
          "heatmapgl": [
           {
            "colorbar": {
             "outlinewidth": 0,
             "ticks": ""
            },
            "colorscale": [
             [
              0,
              "#0d0887"
             ],
             [
              0.1111111111111111,
              "#46039f"
             ],
             [
              0.2222222222222222,
              "#7201a8"
             ],
             [
              0.3333333333333333,
              "#9c179e"
             ],
             [
              0.4444444444444444,
              "#bd3786"
             ],
             [
              0.5555555555555556,
              "#d8576b"
             ],
             [
              0.6666666666666666,
              "#ed7953"
             ],
             [
              0.7777777777777778,
              "#fb9f3a"
             ],
             [
              0.8888888888888888,
              "#fdca26"
             ],
             [
              1,
              "#f0f921"
             ]
            ],
            "type": "heatmapgl"
           }
          ],
          "histogram": [
           {
            "marker": {
             "pattern": {
              "fillmode": "overlay",
              "size": 10,
              "solidity": 0.2
             }
            },
            "type": "histogram"
           }
          ],
          "histogram2d": [
           {
            "colorbar": {
             "outlinewidth": 0,
             "ticks": ""
            },
            "colorscale": [
             [
              0,
              "#0d0887"
             ],
             [
              0.1111111111111111,
              "#46039f"
             ],
             [
              0.2222222222222222,
              "#7201a8"
             ],
             [
              0.3333333333333333,
              "#9c179e"
             ],
             [
              0.4444444444444444,
              "#bd3786"
             ],
             [
              0.5555555555555556,
              "#d8576b"
             ],
             [
              0.6666666666666666,
              "#ed7953"
             ],
             [
              0.7777777777777778,
              "#fb9f3a"
             ],
             [
              0.8888888888888888,
              "#fdca26"
             ],
             [
              1,
              "#f0f921"
             ]
            ],
            "type": "histogram2d"
           }
          ],
          "histogram2dcontour": [
           {
            "colorbar": {
             "outlinewidth": 0,
             "ticks": ""
            },
            "colorscale": [
             [
              0,
              "#0d0887"
             ],
             [
              0.1111111111111111,
              "#46039f"
             ],
             [
              0.2222222222222222,
              "#7201a8"
             ],
             [
              0.3333333333333333,
              "#9c179e"
             ],
             [
              0.4444444444444444,
              "#bd3786"
             ],
             [
              0.5555555555555556,
              "#d8576b"
             ],
             [
              0.6666666666666666,
              "#ed7953"
             ],
             [
              0.7777777777777778,
              "#fb9f3a"
             ],
             [
              0.8888888888888888,
              "#fdca26"
             ],
             [
              1,
              "#f0f921"
             ]
            ],
            "type": "histogram2dcontour"
           }
          ],
          "mesh3d": [
           {
            "colorbar": {
             "outlinewidth": 0,
             "ticks": ""
            },
            "type": "mesh3d"
           }
          ],
          "parcoords": [
           {
            "line": {
             "colorbar": {
              "outlinewidth": 0,
              "ticks": ""
             }
            },
            "type": "parcoords"
           }
          ],
          "pie": [
           {
            "automargin": true,
            "type": "pie"
           }
          ],
          "scatter": [
           {
            "fillpattern": {
             "fillmode": "overlay",
             "size": 10,
             "solidity": 0.2
            },
            "type": "scatter"
           }
          ],
          "scatter3d": [
           {
            "line": {
             "colorbar": {
              "outlinewidth": 0,
              "ticks": ""
             }
            },
            "marker": {
             "colorbar": {
              "outlinewidth": 0,
              "ticks": ""
             }
            },
            "type": "scatter3d"
           }
          ],
          "scattercarpet": [
           {
            "marker": {
             "colorbar": {
              "outlinewidth": 0,
              "ticks": ""
             }
            },
            "type": "scattercarpet"
           }
          ],
          "scattergeo": [
           {
            "marker": {
             "colorbar": {
              "outlinewidth": 0,
              "ticks": ""
             }
            },
            "type": "scattergeo"
           }
          ],
          "scattergl": [
           {
            "marker": {
             "colorbar": {
              "outlinewidth": 0,
              "ticks": ""
             }
            },
            "type": "scattergl"
           }
          ],
          "scattermapbox": [
           {
            "marker": {
             "colorbar": {
              "outlinewidth": 0,
              "ticks": ""
             }
            },
            "type": "scattermapbox"
           }
          ],
          "scatterpolar": [
           {
            "marker": {
             "colorbar": {
              "outlinewidth": 0,
              "ticks": ""
             }
            },
            "type": "scatterpolar"
           }
          ],
          "scatterpolargl": [
           {
            "marker": {
             "colorbar": {
              "outlinewidth": 0,
              "ticks": ""
             }
            },
            "type": "scatterpolargl"
           }
          ],
          "scatterternary": [
           {
            "marker": {
             "colorbar": {
              "outlinewidth": 0,
              "ticks": ""
             }
            },
            "type": "scatterternary"
           }
          ],
          "surface": [
           {
            "colorbar": {
             "outlinewidth": 0,
             "ticks": ""
            },
            "colorscale": [
             [
              0,
              "#0d0887"
             ],
             [
              0.1111111111111111,
              "#46039f"
             ],
             [
              0.2222222222222222,
              "#7201a8"
             ],
             [
              0.3333333333333333,
              "#9c179e"
             ],
             [
              0.4444444444444444,
              "#bd3786"
             ],
             [
              0.5555555555555556,
              "#d8576b"
             ],
             [
              0.6666666666666666,
              "#ed7953"
             ],
             [
              0.7777777777777778,
              "#fb9f3a"
             ],
             [
              0.8888888888888888,
              "#fdca26"
             ],
             [
              1,
              "#f0f921"
             ]
            ],
            "type": "surface"
           }
          ],
          "table": [
           {
            "cells": {
             "fill": {
              "color": "#EBF0F8"
             },
             "line": {
              "color": "white"
             }
            },
            "header": {
             "fill": {
              "color": "#C8D4E3"
             },
             "line": {
              "color": "white"
             }
            },
            "type": "table"
           }
          ]
         },
         "layout": {
          "annotationdefaults": {
           "arrowcolor": "#2a3f5f",
           "arrowhead": 0,
           "arrowwidth": 1
          },
          "autotypenumbers": "strict",
          "coloraxis": {
           "colorbar": {
            "outlinewidth": 0,
            "ticks": ""
           }
          },
          "colorscale": {
           "diverging": [
            [
             0,
             "#8e0152"
            ],
            [
             0.1,
             "#c51b7d"
            ],
            [
             0.2,
             "#de77ae"
            ],
            [
             0.3,
             "#f1b6da"
            ],
            [
             0.4,
             "#fde0ef"
            ],
            [
             0.5,
             "#f7f7f7"
            ],
            [
             0.6,
             "#e6f5d0"
            ],
            [
             0.7,
             "#b8e186"
            ],
            [
             0.8,
             "#7fbc41"
            ],
            [
             0.9,
             "#4d9221"
            ],
            [
             1,
             "#276419"
            ]
           ],
           "sequential": [
            [
             0,
             "#0d0887"
            ],
            [
             0.1111111111111111,
             "#46039f"
            ],
            [
             0.2222222222222222,
             "#7201a8"
            ],
            [
             0.3333333333333333,
             "#9c179e"
            ],
            [
             0.4444444444444444,
             "#bd3786"
            ],
            [
             0.5555555555555556,
             "#d8576b"
            ],
            [
             0.6666666666666666,
             "#ed7953"
            ],
            [
             0.7777777777777778,
             "#fb9f3a"
            ],
            [
             0.8888888888888888,
             "#fdca26"
            ],
            [
             1,
             "#f0f921"
            ]
           ],
           "sequentialminus": [
            [
             0,
             "#0d0887"
            ],
            [
             0.1111111111111111,
             "#46039f"
            ],
            [
             0.2222222222222222,
             "#7201a8"
            ],
            [
             0.3333333333333333,
             "#9c179e"
            ],
            [
             0.4444444444444444,
             "#bd3786"
            ],
            [
             0.5555555555555556,
             "#d8576b"
            ],
            [
             0.6666666666666666,
             "#ed7953"
            ],
            [
             0.7777777777777778,
             "#fb9f3a"
            ],
            [
             0.8888888888888888,
             "#fdca26"
            ],
            [
             1,
             "#f0f921"
            ]
           ]
          },
          "colorway": [
           "#636efa",
           "#EF553B",
           "#00cc96",
           "#ab63fa",
           "#FFA15A",
           "#19d3f3",
           "#FF6692",
           "#B6E880",
           "#FF97FF",
           "#FECB52"
          ],
          "font": {
           "color": "#2a3f5f"
          },
          "geo": {
           "bgcolor": "white",
           "lakecolor": "white",
           "landcolor": "#E5ECF6",
           "showlakes": true,
           "showland": true,
           "subunitcolor": "white"
          },
          "hoverlabel": {
           "align": "left"
          },
          "hovermode": "closest",
          "mapbox": {
           "style": "light"
          },
          "paper_bgcolor": "white",
          "plot_bgcolor": "#E5ECF6",
          "polar": {
           "angularaxis": {
            "gridcolor": "white",
            "linecolor": "white",
            "ticks": ""
           },
           "bgcolor": "#E5ECF6",
           "radialaxis": {
            "gridcolor": "white",
            "linecolor": "white",
            "ticks": ""
           }
          },
          "scene": {
           "xaxis": {
            "backgroundcolor": "#E5ECF6",
            "gridcolor": "white",
            "gridwidth": 2,
            "linecolor": "white",
            "showbackground": true,
            "ticks": "",
            "zerolinecolor": "white"
           },
           "yaxis": {
            "backgroundcolor": "#E5ECF6",
            "gridcolor": "white",
            "gridwidth": 2,
            "linecolor": "white",
            "showbackground": true,
            "ticks": "",
            "zerolinecolor": "white"
           },
           "zaxis": {
            "backgroundcolor": "#E5ECF6",
            "gridcolor": "white",
            "gridwidth": 2,
            "linecolor": "white",
            "showbackground": true,
            "ticks": "",
            "zerolinecolor": "white"
           }
          },
          "shapedefaults": {
           "line": {
            "color": "#2a3f5f"
           }
          },
          "ternary": {
           "aaxis": {
            "gridcolor": "white",
            "linecolor": "white",
            "ticks": ""
           },
           "baxis": {
            "gridcolor": "white",
            "linecolor": "white",
            "ticks": ""
           },
           "bgcolor": "#E5ECF6",
           "caxis": {
            "gridcolor": "white",
            "linecolor": "white",
            "ticks": ""
           }
          },
          "title": {
           "x": 0.05
          },
          "xaxis": {
           "automargin": true,
           "gridcolor": "white",
           "linecolor": "white",
           "ticks": "",
           "title": {
            "standoff": 15
           },
           "zerolinecolor": "white",
           "zerolinewidth": 2
          },
          "yaxis": {
           "automargin": true,
           "gridcolor": "white",
           "linecolor": "white",
           "ticks": "",
           "title": {
            "standoff": 15
           },
           "zerolinecolor": "white",
           "zerolinewidth": 2
          }
         }
        },
        "title": {
         "text": "PBMC1 - matching antibody labels"
        },
        "width": 700,
        "xaxis": {
         "showgrid": false,
         "visible": false,
         "zeroline": false
        },
        "yaxis": {
         "showgrid": false,
         "visible": false,
         "zeroline": false
        }
       }
      }
     },
     "metadata": {},
     "output_type": "display_data"
    },
    {
     "name": "stdout",
     "output_type": "stream",
     "text": [
      "------------------------------\n",
      "PBMC3 - matching antibody labels\n"
     ]
    },
    {
     "name": "stderr",
     "output_type": "stream",
     "text": [
      "/Users/irenetesta/anaconda3/envs/chl/lib/python3.11/site-packages/anndata/_core/anndata.py:1113: FutureWarning:\n",
      "\n",
      "is_categorical_dtype is deprecated and will be removed in a future version. Use isinstance(dtype, CategoricalDtype) instead\n",
      "\n"
     ]
    },
    {
     "data": {
      "text/html": [
       "<div>\n",
       "<style scoped>\n",
       "    .dataframe tbody tr th:only-of-type {\n",
       "        vertical-align: middle;\n",
       "    }\n",
       "\n",
       "    .dataframe tbody tr th {\n",
       "        vertical-align: top;\n",
       "    }\n",
       "\n",
       "    .dataframe thead th {\n",
       "        text-align: right;\n",
       "    }\n",
       "</style>\n",
       "<table border=\"1\" class=\"dataframe\">\n",
       "  <thead>\n",
       "    <tr style=\"text-align: right;\">\n",
       "      <th></th>\n",
       "      <th>NMI</th>\n",
       "      <th>ARI</th>\n",
       "      <th>homogeneity</th>\n",
       "      <th>completeness</th>\n",
       "      <th>v_measure</th>\n",
       "      <th>fowlkes_mallows</th>\n",
       "    </tr>\n",
       "  </thead>\n",
       "  <tbody>\n",
       "    <tr>\n",
       "      <th>monocle</th>\n",
       "      <td>0.633333</td>\n",
       "      <td>0.503352</td>\n",
       "      <td>0.609373</td>\n",
       "      <td>0.659256</td>\n",
       "      <td>0.633333</td>\n",
       "      <td>0.567586</td>\n",
       "    </tr>\n",
       "    <tr>\n",
       "      <th>scanpy</th>\n",
       "      <td>0.737439</td>\n",
       "      <td>0.695008</td>\n",
       "      <td>0.736412</td>\n",
       "      <td>0.738468</td>\n",
       "      <td>0.737439</td>\n",
       "      <td>0.732379</td>\n",
       "    </tr>\n",
       "    <tr>\n",
       "      <th>scvi-tools</th>\n",
       "      <td>0.712286</td>\n",
       "      <td>0.638310</td>\n",
       "      <td>0.692394</td>\n",
       "      <td>0.733355</td>\n",
       "      <td>0.712286</td>\n",
       "      <td>0.684119</td>\n",
       "    </tr>\n",
       "    <tr>\n",
       "      <th>seurat</th>\n",
       "      <td>0.719240</td>\n",
       "      <td>0.547590</td>\n",
       "      <td>0.797156</td>\n",
       "      <td>0.655200</td>\n",
       "      <td>0.719240</td>\n",
       "      <td>0.613912</td>\n",
       "    </tr>\n",
       "    <tr>\n",
       "      <th>COTAN</th>\n",
       "      <td>0.710483</td>\n",
       "      <td>0.621643</td>\n",
       "      <td>0.674240</td>\n",
       "      <td>0.750844</td>\n",
       "      <td>0.710483</td>\n",
       "      <td>0.682058</td>\n",
       "    </tr>\n",
       "  </tbody>\n",
       "</table>\n",
       "</div>"
      ],
      "text/plain": [
       "                 NMI       ARI  homogeneity  completeness  v_measure  \\\n",
       "monocle     0.633333  0.503352     0.609373      0.659256   0.633333   \n",
       "scanpy      0.737439  0.695008     0.736412      0.738468   0.737439   \n",
       "scvi-tools  0.712286  0.638310     0.692394      0.733355   0.712286   \n",
       "seurat      0.719240  0.547590     0.797156      0.655200   0.719240   \n",
       "COTAN       0.710483  0.621643     0.674240      0.750844   0.710483   \n",
       "\n",
       "            fowlkes_mallows  \n",
       "monocle            0.567586  \n",
       "scanpy             0.732379  \n",
       "scvi-tools         0.684119  \n",
       "seurat             0.613912  \n",
       "COTAN              0.682058  "
      ]
     },
     "metadata": {},
     "output_type": "display_data"
    },
    {
     "data": {
      "application/vnd.plotly.v1+json": {
       "config": {
        "plotlyServerURL": "https://plot.ly"
       },
       "data": [
        {
         "link": {
          "source": [
           0,
           0,
           0,
           0,
           0,
           1,
           1,
           1,
           1,
           1,
           1,
           1,
           1,
           1,
           2,
           2,
           2,
           2,
           3,
           3,
           3,
           3,
           4,
           4,
           4,
           5,
           5,
           5,
           5,
           5,
           5,
           6,
           6,
           6,
           6,
           6,
           6,
           6,
           6,
           7,
           7,
           7,
           7,
           7,
           8,
           8,
           8,
           9,
           9,
           9,
           9,
           9,
           9,
           10,
           10,
           10,
           10,
           10,
           11,
           11,
           11,
           11,
           11,
           11,
           11,
           12,
           12,
           12,
           12,
           12,
           12,
           12,
           13,
           13,
           13,
           13,
           13,
           13,
           14,
           14,
           15,
           15,
           15,
           16,
           17,
           17,
           17,
           17,
           17,
           17,
           17,
           17,
           18,
           18,
           18,
           18,
           18,
           19,
           19,
           19,
           19,
           19,
           19,
           19,
           20,
           20,
           20,
           20,
           20,
           20,
           20,
           20,
           21,
           21,
           22,
           22,
           22,
           23,
           24,
           24,
           24,
           24,
           24,
           24,
           25,
           26,
           26,
           26,
           26,
           26,
           26,
           26,
           26,
           26,
           26,
           27,
           27,
           27,
           27,
           27,
           27,
           27,
           27,
           27,
           28,
           28,
           28,
           28,
           28,
           28,
           28,
           29,
           29,
           29,
           29,
           29,
           29,
           29,
           29,
           29,
           29,
           30,
           30,
           30,
           30,
           30,
           31,
           31,
           31,
           31,
           31,
           31,
           32,
           32,
           32,
           32,
           32,
           32,
           32,
           32,
           32,
           32,
           32,
           32,
           33,
           33,
           33,
           33,
           33,
           33,
           33,
           33,
           34,
           34,
           34,
           35,
           35,
           35,
           35,
           36,
           36,
           36,
           36,
           36,
           36,
           36,
           37,
           37,
           37,
           37,
           37,
           37,
           37,
           38,
           38,
           38,
           39,
           39,
           40,
           40,
           40,
           40,
           41,
           41,
           41,
           41,
           42,
           42,
           42,
           43,
           43,
           43,
           43,
           43,
           43,
           44,
           44,
           45,
           45,
           46,
           46,
           47,
           48,
           48,
           48,
           48,
           49,
           49,
           49,
           49,
           49,
           49,
           50,
           50,
           51,
           51,
           51,
           51,
           52,
           52,
           53,
           53,
           53,
           54,
           54,
           54,
           54,
           54,
           54,
           55,
           55,
           55,
           56,
           56,
           57,
           57,
           57,
           58,
           58,
           59,
           59,
           59,
           59,
           60,
           60,
           61,
           62,
           62,
           62,
           63,
           63,
           63,
           63,
           63,
           63,
           63,
           63,
           64,
           64,
           64,
           64,
           64,
           64,
           64,
           64,
           65,
           65,
           65,
           65,
           65,
           65,
           65,
           65,
           65,
           66,
           66,
           66,
           66,
           66,
           66,
           66,
           67,
           67,
           67,
           67,
           67,
           67,
           67,
           67,
           67,
           67,
           68,
           68,
           68,
           68,
           68,
           68,
           68,
           68,
           69,
           69,
           69,
           69,
           69,
           70,
           70,
           70,
           70,
           70,
           70,
           70,
           71,
           72,
           72,
           72,
           72,
           72,
           72,
           72,
           72,
           72,
           72,
           73,
           73,
           73,
           73,
           74,
           74,
           74,
           74,
           74,
           74,
           74,
           75,
           75,
           75,
           75,
           75,
           75,
           75,
           75,
           76,
           76,
           76,
           76
          ],
          "target": [
           12,
           13,
           17,
           18,
           20,
           12,
           13,
           17,
           18,
           19,
           20,
           22,
           23,
           24,
           14,
           20,
           21,
           23,
           15,
           17,
           22,
           23,
           16,
           23,
           24,
           12,
           15,
           17,
           19,
           22,
           24,
           12,
           13,
           15,
           17,
           18,
           19,
           20,
           24,
           12,
           13,
           17,
           18,
           20,
           14,
           21,
           23,
           12,
           14,
           15,
           23,
           24,
           25,
           12,
           13,
           17,
           18,
           20,
           12,
           13,
           15,
           17,
           18,
           19,
           20,
           26,
           27,
           29,
           32,
           33,
           36,
           37,
           26,
           27,
           31,
           33,
           36,
           37,
           28,
           34,
           29,
           32,
           37,
           30,
           26,
           27,
           29,
           31,
           32,
           33,
           35,
           36,
           27,
           31,
           32,
           36,
           37,
           26,
           27,
           32,
           33,
           35,
           36,
           37,
           26,
           27,
           30,
           31,
           32,
           33,
           36,
           37,
           28,
           34,
           29,
           32,
           35,
           28,
           26,
           27,
           29,
           30,
           32,
           38,
           38,
           39,
           40,
           43,
           46,
           48,
           49,
           50,
           51,
           55,
           59,
           39,
           40,
           42,
           43,
           46,
           49,
           50,
           55,
           62,
           41,
           48,
           53,
           54,
           56,
           57,
           58,
           40,
           44,
           46,
           47,
           48,
           49,
           51,
           58,
           59,
           60,
           44,
           45,
           52,
           58,
           59,
           39,
           40,
           42,
           43,
           49,
           50,
           40,
           42,
           43,
           44,
           46,
           48,
           49,
           50,
           51,
           55,
           58,
           59,
           39,
           40,
           42,
           43,
           46,
           49,
           50,
           55,
           41,
           53,
           54,
           43,
           48,
           49,
           51,
           39,
           40,
           42,
           43,
           46,
           49,
           50,
           39,
           40,
           43,
           46,
           47,
           50,
           62,
           45,
           59,
           61,
           67,
           68,
           66,
           67,
           68,
           69,
           70,
           71,
           72,
           73,
           67,
           68,
           69,
           63,
           66,
           67,
           68,
           69,
           74,
           63,
           64,
           75,
           76,
           66,
           67,
           64,
           63,
           64,
           67,
           69,
           63,
           65,
           66,
           67,
           68,
           69,
           67,
           68,
           63,
           65,
           67,
           75,
           75,
           76,
           70,
           72,
           73,
           64,
           71,
           72,
           73,
           75,
           76,
           63,
           66,
           67,
           72,
           73,
           71,
           72,
           73,
           65,
           75,
           67,
           68,
           75,
           76,
           65,
           67,
           74,
           69,
           74,
           75,
           77,
           80,
           81,
           82,
           83,
           84,
           85,
           88,
           77,
           78,
           79,
           80,
           84,
           87,
           88,
           89,
           78,
           79,
           80,
           81,
           82,
           83,
           84,
           88,
           89,
           80,
           81,
           82,
           83,
           85,
           86,
           88,
           77,
           79,
           80,
           81,
           82,
           83,
           85,
           86,
           87,
           88,
           77,
           80,
           81,
           82,
           83,
           84,
           85,
           88,
           80,
           81,
           83,
           85,
           88,
           77,
           78,
           80,
           84,
           85,
           87,
           89,
           87,
           77,
           78,
           80,
           81,
           82,
           83,
           85,
           87,
           88,
           89,
           77,
           87,
           88,
           89,
           77,
           78,
           79,
           80,
           87,
           88,
           89,
           77,
           78,
           79,
           80,
           82,
           84,
           87,
           88,
           77,
           78,
           81,
           85
          ],
          "value": [
           113,
           1286,
           26,
           648,
           12,
           1190,
           37,
           219,
           2,
           222,
           24,
           2,
           1,
           1,
           1060,
           1,
           8,
           193,
           991,
           3,
           101,
           4,
           875,
           1,
           137,
           2,
           6,
           501,
           92,
           170,
           2,
           430,
           16,
           1,
           109,
           2,
           85,
           123,
           2,
           15,
           323,
           7,
           175,
           3,
           11,
           286,
           1,
           3,
           32,
           1,
           1,
           3,
           11,
           2,
           13,
           1,
           4,
           139,
           14,
           2,
           1,
           8,
           2,
           2,
           12,
           1322,
           233,
           2,
           29,
           136,
           27,
           20,
           45,
           1335,
           34,
           84,
           101,
           78,
           1102,
           1,
           996,
           3,
           1,
           875,
           55,
           3,
           9,
           26,
           533,
           4,
           243,
           1,
           9,
           808,
           12,
           3,
           1,
           306,
           2,
           51,
           25,
           13,
           3,
           1,
           114,
           100,
           1,
           56,
           14,
           15,
           9,
           5,
           36,
           258,
           263,
           9,
           1,
           201,
           2,
           3,
           2,
           124,
           6,
           8,
           11,
           21,
           518,
           602,
           499,
           33,
           19,
           9,
           9,
           132,
           2,
           1083,
           260,
           1,
           11,
           1,
           5,
           305,
           16,
           3,
           943,
           1,
           34,
           162,
           40,
           158,
           1,
           1,
           545,
           1,
           471,
           2,
           6,
           2,
           145,
           1,
           98,
           1,
           541,
           329,
           2,
           127,
           14,
           2,
           863,
           2,
           37,
           6,
           12,
           12,
           21,
           4,
           4,
           3,
           311,
           1,
           281,
           1,
           3,
           4,
           62,
           76,
           1,
           51,
           33,
           6,
           24,
           11,
           1,
           257,
           1,
           16,
           237,
           2,
           2,
           88,
           30,
           1,
           5,
           2,
           1,
           17,
           61,
           20,
           1,
           1,
           1,
           18,
           4,
           7,
           1,
           11,
           22,
           1307,
           50,
           796,
           71,
           2,
           1,
           53,
           93,
           797,
           6,
           870,
           2,
           7,
           2,
           693,
           3,
           3,
           1,
           1,
           549,
           69,
           479,
           3,
           538,
           472,
           267,
           2,
           4,
           3,
           8,
           3,
           5,
           297,
           16,
           58,
           4,
           376,
           252,
           19,
           22,
           1,
           2,
           327,
           249,
           2,
           40,
           1,
           1,
           155,
           4,
           1,
           1,
           4,
           145,
           11,
           38,
           2,
           151,
           3,
           4,
           150,
           1,
           2,
           1,
           126,
           6,
           97,
           1,
           11,
           1,
           3,
           3,
           1,
           4,
           20,
           26,
           434,
           2,
           47,
           5,
           1,
           980,
           7,
           14,
           17,
           1,
           2,
           2,
           14,
           74,
           121,
           2,
           11,
           15,
           28,
           3,
           1,
           4,
           2,
           3,
           2,
           81,
           111,
           2,
           1,
           4,
           44,
           62,
           43,
           268,
           1909,
           19,
           2,
           44,
           1,
           18,
           69,
           821,
           16,
           1,
           163,
           1555,
           5,
           54,
           5,
           1,
           4,
           4,
           10,
           19,
           12,
           3,
           4,
           198,
           205,
           30,
           1,
           1,
           2,
           2,
           1,
           6,
           216,
           7,
           25,
           6,
           799,
           1,
           41,
           2,
           1,
           1,
           4,
           2,
           4,
           1,
           191,
           1,
           1,
           2,
           2,
           1,
           1,
           4,
           810,
           1,
           1,
           1
          ]
         },
         "node": {
          "color": [
           "#1f77b4",
           "#ff7f0e",
           "#2ca02c",
           "#d62728",
           "#9467bd",
           "#8c564b",
           "#e377c2",
           "#7f7f7f",
           "#bcbd22",
           "#17becf",
           "#1f77b4",
           "#ff7f0e",
           "#2ca02c",
           "#d62728",
           "#9467bd",
           "#8c564b",
           "#e377c2",
           "#7f7f7f",
           "#bcbd22",
           "#17becf",
           "#1f77b4",
           "#ff7f0e",
           "#2ca02c",
           "#d62728",
           "#9467bd",
           "#8c564b",
           "#e377c2",
           "#7f7f7f",
           "#bcbd22",
           "#17becf",
           "#1f77b4",
           "#ff7f0e",
           "#2ca02c",
           "#d62728",
           "#9467bd",
           "#8c564b",
           "#e377c2",
           "#7f7f7f",
           "#bcbd22",
           "#17becf",
           "#1f77b4",
           "#ff7f0e",
           "#2ca02c",
           "#d62728",
           "#9467bd",
           "#8c564b",
           "#e377c2",
           "#7f7f7f",
           "#bcbd22",
           "#17becf",
           "#1f77b4",
           "#ff7f0e",
           "#2ca02c",
           "#d62728",
           "#9467bd",
           "#8c564b",
           "#e377c2",
           "#7f7f7f",
           "#bcbd22",
           "#17becf",
           "#1f77b4",
           "#ff7f0e",
           "#2ca02c",
           "#d62728",
           "#9467bd",
           "#8c564b",
           "#e377c2",
           "#7f7f7f",
           "#bcbd22",
           "#17becf",
           "#1f77b4",
           "#ff7f0e",
           "#2ca02c",
           "#d62728",
           "#9467bd",
           "#8c564b",
           "#e377c2",
           "#7f7f7f",
           "#bcbd22",
           "#17becf",
           "#1f77b4",
           "#ff7f0e",
           "#2ca02c",
           "#d62728",
           "#9467bd",
           "#8c564b",
           "#e377c2",
           "#7f7f7f",
           "#bcbd22",
           "#17becf"
          ],
          "label": [
           1,
           2,
           3,
           4,
           5,
           6,
           7,
           8,
           9,
           10,
           11,
           12,
           1,
           2,
           3,
           4,
           5,
           6,
           7,
           8,
           9,
           10,
           11,
           12,
           13,
           14,
           1,
           2,
           3,
           4,
           5,
           6,
           7,
           8,
           9,
           10,
           11,
           12,
           13,
           1,
           2,
           3,
           4,
           5,
           6,
           7,
           8,
           9,
           10,
           11,
           12,
           13,
           14,
           15,
           16,
           17,
           18,
           19,
           20,
           21,
           22,
           23,
           24,
           1,
           2,
           3,
           4,
           5,
           6,
           7,
           8,
           9,
           10,
           11,
           12,
           13,
           14,
           "B Cells",
           "CD16+ NK Cells",
           "CD16- NK Cells",
           "CD4+ T Cells",
           "CD4+/CD8+ Cells",
           "CD8 Terminal Effector Cells",
           "CD8+ Effector Memory Cells",
           "CD8+ T Cells",
           "Central Effector Memory T Cells",
           "Central Memory T Cells",
           "Classical Monocytes",
           "Effector Memory T Cells",
           "Intermediate Monocytes"
          ],
          "line": {
           "color": "black",
           "width": 0.5
          },
          "pad": 15,
          "thickness": 20
         },
         "type": "sankey"
        }
       ],
       "layout": {
        "annotations": [
         {
          "showarrow": false,
          "text": "monocle",
          "x": 0,
          "xref": "x",
          "y": 1.05,
          "yref": "paper"
         },
         {
          "showarrow": false,
          "text": "scanpy",
          "x": 1,
          "xref": "x",
          "y": 1.05,
          "yref": "paper"
         },
         {
          "showarrow": false,
          "text": "scvi-tools",
          "x": 2,
          "xref": "x",
          "y": 1.05,
          "yref": "paper"
         },
         {
          "showarrow": false,
          "text": "seurat",
          "x": 3,
          "xref": "x",
          "y": 1.05,
          "yref": "paper"
         },
         {
          "showarrow": false,
          "text": "COTAN",
          "x": 4,
          "xref": "x",
          "y": 1.05,
          "yref": "paper"
         },
         {
          "showarrow": false,
          "text": "antibody",
          "x": 5,
          "xref": "x",
          "y": 1.05,
          "yref": "paper"
         }
        ],
        "font": {
         "size": 10
        },
        "height": 450,
        "plot_bgcolor": "rgba(0,0,0,0)",
        "template": {
         "data": {
          "bar": [
           {
            "error_x": {
             "color": "#2a3f5f"
            },
            "error_y": {
             "color": "#2a3f5f"
            },
            "marker": {
             "line": {
              "color": "#E5ECF6",
              "width": 0.5
             },
             "pattern": {
              "fillmode": "overlay",
              "size": 10,
              "solidity": 0.2
             }
            },
            "type": "bar"
           }
          ],
          "barpolar": [
           {
            "marker": {
             "line": {
              "color": "#E5ECF6",
              "width": 0.5
             },
             "pattern": {
              "fillmode": "overlay",
              "size": 10,
              "solidity": 0.2
             }
            },
            "type": "barpolar"
           }
          ],
          "carpet": [
           {
            "aaxis": {
             "endlinecolor": "#2a3f5f",
             "gridcolor": "white",
             "linecolor": "white",
             "minorgridcolor": "white",
             "startlinecolor": "#2a3f5f"
            },
            "baxis": {
             "endlinecolor": "#2a3f5f",
             "gridcolor": "white",
             "linecolor": "white",
             "minorgridcolor": "white",
             "startlinecolor": "#2a3f5f"
            },
            "type": "carpet"
           }
          ],
          "choropleth": [
           {
            "colorbar": {
             "outlinewidth": 0,
             "ticks": ""
            },
            "type": "choropleth"
           }
          ],
          "contour": [
           {
            "colorbar": {
             "outlinewidth": 0,
             "ticks": ""
            },
            "colorscale": [
             [
              0,
              "#0d0887"
             ],
             [
              0.1111111111111111,
              "#46039f"
             ],
             [
              0.2222222222222222,
              "#7201a8"
             ],
             [
              0.3333333333333333,
              "#9c179e"
             ],
             [
              0.4444444444444444,
              "#bd3786"
             ],
             [
              0.5555555555555556,
              "#d8576b"
             ],
             [
              0.6666666666666666,
              "#ed7953"
             ],
             [
              0.7777777777777778,
              "#fb9f3a"
             ],
             [
              0.8888888888888888,
              "#fdca26"
             ],
             [
              1,
              "#f0f921"
             ]
            ],
            "type": "contour"
           }
          ],
          "contourcarpet": [
           {
            "colorbar": {
             "outlinewidth": 0,
             "ticks": ""
            },
            "type": "contourcarpet"
           }
          ],
          "heatmap": [
           {
            "colorbar": {
             "outlinewidth": 0,
             "ticks": ""
            },
            "colorscale": [
             [
              0,
              "#0d0887"
             ],
             [
              0.1111111111111111,
              "#46039f"
             ],
             [
              0.2222222222222222,
              "#7201a8"
             ],
             [
              0.3333333333333333,
              "#9c179e"
             ],
             [
              0.4444444444444444,
              "#bd3786"
             ],
             [
              0.5555555555555556,
              "#d8576b"
             ],
             [
              0.6666666666666666,
              "#ed7953"
             ],
             [
              0.7777777777777778,
              "#fb9f3a"
             ],
             [
              0.8888888888888888,
              "#fdca26"
             ],
             [
              1,
              "#f0f921"
             ]
            ],
            "type": "heatmap"
           }
          ],
          "heatmapgl": [
           {
            "colorbar": {
             "outlinewidth": 0,
             "ticks": ""
            },
            "colorscale": [
             [
              0,
              "#0d0887"
             ],
             [
              0.1111111111111111,
              "#46039f"
             ],
             [
              0.2222222222222222,
              "#7201a8"
             ],
             [
              0.3333333333333333,
              "#9c179e"
             ],
             [
              0.4444444444444444,
              "#bd3786"
             ],
             [
              0.5555555555555556,
              "#d8576b"
             ],
             [
              0.6666666666666666,
              "#ed7953"
             ],
             [
              0.7777777777777778,
              "#fb9f3a"
             ],
             [
              0.8888888888888888,
              "#fdca26"
             ],
             [
              1,
              "#f0f921"
             ]
            ],
            "type": "heatmapgl"
           }
          ],
          "histogram": [
           {
            "marker": {
             "pattern": {
              "fillmode": "overlay",
              "size": 10,
              "solidity": 0.2
             }
            },
            "type": "histogram"
           }
          ],
          "histogram2d": [
           {
            "colorbar": {
             "outlinewidth": 0,
             "ticks": ""
            },
            "colorscale": [
             [
              0,
              "#0d0887"
             ],
             [
              0.1111111111111111,
              "#46039f"
             ],
             [
              0.2222222222222222,
              "#7201a8"
             ],
             [
              0.3333333333333333,
              "#9c179e"
             ],
             [
              0.4444444444444444,
              "#bd3786"
             ],
             [
              0.5555555555555556,
              "#d8576b"
             ],
             [
              0.6666666666666666,
              "#ed7953"
             ],
             [
              0.7777777777777778,
              "#fb9f3a"
             ],
             [
              0.8888888888888888,
              "#fdca26"
             ],
             [
              1,
              "#f0f921"
             ]
            ],
            "type": "histogram2d"
           }
          ],
          "histogram2dcontour": [
           {
            "colorbar": {
             "outlinewidth": 0,
             "ticks": ""
            },
            "colorscale": [
             [
              0,
              "#0d0887"
             ],
             [
              0.1111111111111111,
              "#46039f"
             ],
             [
              0.2222222222222222,
              "#7201a8"
             ],
             [
              0.3333333333333333,
              "#9c179e"
             ],
             [
              0.4444444444444444,
              "#bd3786"
             ],
             [
              0.5555555555555556,
              "#d8576b"
             ],
             [
              0.6666666666666666,
              "#ed7953"
             ],
             [
              0.7777777777777778,
              "#fb9f3a"
             ],
             [
              0.8888888888888888,
              "#fdca26"
             ],
             [
              1,
              "#f0f921"
             ]
            ],
            "type": "histogram2dcontour"
           }
          ],
          "mesh3d": [
           {
            "colorbar": {
             "outlinewidth": 0,
             "ticks": ""
            },
            "type": "mesh3d"
           }
          ],
          "parcoords": [
           {
            "line": {
             "colorbar": {
              "outlinewidth": 0,
              "ticks": ""
             }
            },
            "type": "parcoords"
           }
          ],
          "pie": [
           {
            "automargin": true,
            "type": "pie"
           }
          ],
          "scatter": [
           {
            "fillpattern": {
             "fillmode": "overlay",
             "size": 10,
             "solidity": 0.2
            },
            "type": "scatter"
           }
          ],
          "scatter3d": [
           {
            "line": {
             "colorbar": {
              "outlinewidth": 0,
              "ticks": ""
             }
            },
            "marker": {
             "colorbar": {
              "outlinewidth": 0,
              "ticks": ""
             }
            },
            "type": "scatter3d"
           }
          ],
          "scattercarpet": [
           {
            "marker": {
             "colorbar": {
              "outlinewidth": 0,
              "ticks": ""
             }
            },
            "type": "scattercarpet"
           }
          ],
          "scattergeo": [
           {
            "marker": {
             "colorbar": {
              "outlinewidth": 0,
              "ticks": ""
             }
            },
            "type": "scattergeo"
           }
          ],
          "scattergl": [
           {
            "marker": {
             "colorbar": {
              "outlinewidth": 0,
              "ticks": ""
             }
            },
            "type": "scattergl"
           }
          ],
          "scattermapbox": [
           {
            "marker": {
             "colorbar": {
              "outlinewidth": 0,
              "ticks": ""
             }
            },
            "type": "scattermapbox"
           }
          ],
          "scatterpolar": [
           {
            "marker": {
             "colorbar": {
              "outlinewidth": 0,
              "ticks": ""
             }
            },
            "type": "scatterpolar"
           }
          ],
          "scatterpolargl": [
           {
            "marker": {
             "colorbar": {
              "outlinewidth": 0,
              "ticks": ""
             }
            },
            "type": "scatterpolargl"
           }
          ],
          "scatterternary": [
           {
            "marker": {
             "colorbar": {
              "outlinewidth": 0,
              "ticks": ""
             }
            },
            "type": "scatterternary"
           }
          ],
          "surface": [
           {
            "colorbar": {
             "outlinewidth": 0,
             "ticks": ""
            },
            "colorscale": [
             [
              0,
              "#0d0887"
             ],
             [
              0.1111111111111111,
              "#46039f"
             ],
             [
              0.2222222222222222,
              "#7201a8"
             ],
             [
              0.3333333333333333,
              "#9c179e"
             ],
             [
              0.4444444444444444,
              "#bd3786"
             ],
             [
              0.5555555555555556,
              "#d8576b"
             ],
             [
              0.6666666666666666,
              "#ed7953"
             ],
             [
              0.7777777777777778,
              "#fb9f3a"
             ],
             [
              0.8888888888888888,
              "#fdca26"
             ],
             [
              1,
              "#f0f921"
             ]
            ],
            "type": "surface"
           }
          ],
          "table": [
           {
            "cells": {
             "fill": {
              "color": "#EBF0F8"
             },
             "line": {
              "color": "white"
             }
            },
            "header": {
             "fill": {
              "color": "#C8D4E3"
             },
             "line": {
              "color": "white"
             }
            },
            "type": "table"
           }
          ]
         },
         "layout": {
          "annotationdefaults": {
           "arrowcolor": "#2a3f5f",
           "arrowhead": 0,
           "arrowwidth": 1
          },
          "autotypenumbers": "strict",
          "coloraxis": {
           "colorbar": {
            "outlinewidth": 0,
            "ticks": ""
           }
          },
          "colorscale": {
           "diverging": [
            [
             0,
             "#8e0152"
            ],
            [
             0.1,
             "#c51b7d"
            ],
            [
             0.2,
             "#de77ae"
            ],
            [
             0.3,
             "#f1b6da"
            ],
            [
             0.4,
             "#fde0ef"
            ],
            [
             0.5,
             "#f7f7f7"
            ],
            [
             0.6,
             "#e6f5d0"
            ],
            [
             0.7,
             "#b8e186"
            ],
            [
             0.8,
             "#7fbc41"
            ],
            [
             0.9,
             "#4d9221"
            ],
            [
             1,
             "#276419"
            ]
           ],
           "sequential": [
            [
             0,
             "#0d0887"
            ],
            [
             0.1111111111111111,
             "#46039f"
            ],
            [
             0.2222222222222222,
             "#7201a8"
            ],
            [
             0.3333333333333333,
             "#9c179e"
            ],
            [
             0.4444444444444444,
             "#bd3786"
            ],
            [
             0.5555555555555556,
             "#d8576b"
            ],
            [
             0.6666666666666666,
             "#ed7953"
            ],
            [
             0.7777777777777778,
             "#fb9f3a"
            ],
            [
             0.8888888888888888,
             "#fdca26"
            ],
            [
             1,
             "#f0f921"
            ]
           ],
           "sequentialminus": [
            [
             0,
             "#0d0887"
            ],
            [
             0.1111111111111111,
             "#46039f"
            ],
            [
             0.2222222222222222,
             "#7201a8"
            ],
            [
             0.3333333333333333,
             "#9c179e"
            ],
            [
             0.4444444444444444,
             "#bd3786"
            ],
            [
             0.5555555555555556,
             "#d8576b"
            ],
            [
             0.6666666666666666,
             "#ed7953"
            ],
            [
             0.7777777777777778,
             "#fb9f3a"
            ],
            [
             0.8888888888888888,
             "#fdca26"
            ],
            [
             1,
             "#f0f921"
            ]
           ]
          },
          "colorway": [
           "#636efa",
           "#EF553B",
           "#00cc96",
           "#ab63fa",
           "#FFA15A",
           "#19d3f3",
           "#FF6692",
           "#B6E880",
           "#FF97FF",
           "#FECB52"
          ],
          "font": {
           "color": "#2a3f5f"
          },
          "geo": {
           "bgcolor": "white",
           "lakecolor": "white",
           "landcolor": "#E5ECF6",
           "showlakes": true,
           "showland": true,
           "subunitcolor": "white"
          },
          "hoverlabel": {
           "align": "left"
          },
          "hovermode": "closest",
          "mapbox": {
           "style": "light"
          },
          "paper_bgcolor": "white",
          "plot_bgcolor": "#E5ECF6",
          "polar": {
           "angularaxis": {
            "gridcolor": "white",
            "linecolor": "white",
            "ticks": ""
           },
           "bgcolor": "#E5ECF6",
           "radialaxis": {
            "gridcolor": "white",
            "linecolor": "white",
            "ticks": ""
           }
          },
          "scene": {
           "xaxis": {
            "backgroundcolor": "#E5ECF6",
            "gridcolor": "white",
            "gridwidth": 2,
            "linecolor": "white",
            "showbackground": true,
            "ticks": "",
            "zerolinecolor": "white"
           },
           "yaxis": {
            "backgroundcolor": "#E5ECF6",
            "gridcolor": "white",
            "gridwidth": 2,
            "linecolor": "white",
            "showbackground": true,
            "ticks": "",
            "zerolinecolor": "white"
           },
           "zaxis": {
            "backgroundcolor": "#E5ECF6",
            "gridcolor": "white",
            "gridwidth": 2,
            "linecolor": "white",
            "showbackground": true,
            "ticks": "",
            "zerolinecolor": "white"
           }
          },
          "shapedefaults": {
           "line": {
            "color": "#2a3f5f"
           }
          },
          "ternary": {
           "aaxis": {
            "gridcolor": "white",
            "linecolor": "white",
            "ticks": ""
           },
           "baxis": {
            "gridcolor": "white",
            "linecolor": "white",
            "ticks": ""
           },
           "bgcolor": "#E5ECF6",
           "caxis": {
            "gridcolor": "white",
            "linecolor": "white",
            "ticks": ""
           }
          },
          "title": {
           "x": 0.05
          },
          "xaxis": {
           "automargin": true,
           "gridcolor": "white",
           "linecolor": "white",
           "ticks": "",
           "title": {
            "standoff": 15
           },
           "zerolinecolor": "white",
           "zerolinewidth": 2
          },
          "yaxis": {
           "automargin": true,
           "gridcolor": "white",
           "linecolor": "white",
           "ticks": "",
           "title": {
            "standoff": 15
           },
           "zerolinecolor": "white",
           "zerolinewidth": 2
          }
         }
        },
        "title": {
         "text": "PBMC3 - matching antibody labels"
        },
        "width": 700,
        "xaxis": {
         "showgrid": false,
         "visible": false,
         "zeroline": false
        },
        "yaxis": {
         "showgrid": false,
         "visible": false,
         "zeroline": false
        }
       }
      }
     },
     "metadata": {},
     "output_type": "display_data"
    },
    {
     "name": "stdout",
     "output_type": "stream",
     "text": [
      "------------------------------\n",
      "PBMC4 - matching antibody labels\n"
     ]
    },
    {
     "name": "stderr",
     "output_type": "stream",
     "text": [
      "/Users/irenetesta/anaconda3/envs/chl/lib/python3.11/site-packages/anndata/_core/anndata.py:1113: FutureWarning:\n",
      "\n",
      "is_categorical_dtype is deprecated and will be removed in a future version. Use isinstance(dtype, CategoricalDtype) instead\n",
      "\n"
     ]
    },
    {
     "data": {
      "text/html": [
       "<div>\n",
       "<style scoped>\n",
       "    .dataframe tbody tr th:only-of-type {\n",
       "        vertical-align: middle;\n",
       "    }\n",
       "\n",
       "    .dataframe tbody tr th {\n",
       "        vertical-align: top;\n",
       "    }\n",
       "\n",
       "    .dataframe thead th {\n",
       "        text-align: right;\n",
       "    }\n",
       "</style>\n",
       "<table border=\"1\" class=\"dataframe\">\n",
       "  <thead>\n",
       "    <tr style=\"text-align: right;\">\n",
       "      <th></th>\n",
       "      <th>NMI</th>\n",
       "      <th>ARI</th>\n",
       "      <th>homogeneity</th>\n",
       "      <th>completeness</th>\n",
       "      <th>v_measure</th>\n",
       "      <th>fowlkes_mallows</th>\n",
       "    </tr>\n",
       "  </thead>\n",
       "  <tbody>\n",
       "    <tr>\n",
       "      <th>monocle</th>\n",
       "      <td>0.646496</td>\n",
       "      <td>0.476298</td>\n",
       "      <td>0.583962</td>\n",
       "      <td>0.724030</td>\n",
       "      <td>0.646496</td>\n",
       "      <td>0.552480</td>\n",
       "    </tr>\n",
       "    <tr>\n",
       "      <th>scanpy</th>\n",
       "      <td>0.684939</td>\n",
       "      <td>0.495584</td>\n",
       "      <td>0.645785</td>\n",
       "      <td>0.729147</td>\n",
       "      <td>0.684939</td>\n",
       "      <td>0.560952</td>\n",
       "    </tr>\n",
       "    <tr>\n",
       "      <th>scvi-tools</th>\n",
       "      <td>0.677494</td>\n",
       "      <td>0.471424</td>\n",
       "      <td>0.630909</td>\n",
       "      <td>0.731506</td>\n",
       "      <td>0.677494</td>\n",
       "      <td>0.540577</td>\n",
       "    </tr>\n",
       "    <tr>\n",
       "      <th>seurat</th>\n",
       "      <td>0.724976</td>\n",
       "      <td>0.590682</td>\n",
       "      <td>0.616860</td>\n",
       "      <td>0.879046</td>\n",
       "      <td>0.724976</td>\n",
       "      <td>0.688576</td>\n",
       "    </tr>\n",
       "    <tr>\n",
       "      <th>COTAN</th>\n",
       "      <td>0.629502</td>\n",
       "      <td>0.410868</td>\n",
       "      <td>0.575363</td>\n",
       "      <td>0.694887</td>\n",
       "      <td>0.629502</td>\n",
       "      <td>0.494384</td>\n",
       "    </tr>\n",
       "  </tbody>\n",
       "</table>\n",
       "</div>"
      ],
      "text/plain": [
       "                 NMI       ARI  homogeneity  completeness  v_measure  \\\n",
       "monocle     0.646496  0.476298     0.583962      0.724030   0.646496   \n",
       "scanpy      0.684939  0.495584     0.645785      0.729147   0.684939   \n",
       "scvi-tools  0.677494  0.471424     0.630909      0.731506   0.677494   \n",
       "seurat      0.724976  0.590682     0.616860      0.879046   0.724976   \n",
       "COTAN       0.629502  0.410868     0.575363      0.694887   0.629502   \n",
       "\n",
       "            fowlkes_mallows  \n",
       "monocle            0.552480  \n",
       "scanpy             0.560952  \n",
       "scvi-tools         0.540577  \n",
       "seurat             0.688576  \n",
       "COTAN              0.494384  "
      ]
     },
     "metadata": {},
     "output_type": "display_data"
    },
    {
     "data": {
      "application/vnd.plotly.v1+json": {
       "config": {
        "plotlyServerURL": "https://plot.ly"
       },
       "data": [
        {
         "link": {
          "source": [
           0,
           0,
           0,
           0,
           0,
           1,
           1,
           1,
           1,
           1,
           1,
           1,
           1,
           2,
           2,
           2,
           3,
           3,
           3,
           3,
           3,
           4,
           4,
           4,
           4,
           4,
           5,
           5,
           6,
           6,
           6,
           6,
           6,
           7,
           7,
           7,
           7,
           8,
           8,
           8,
           8,
           8,
           9,
           10,
           10,
           10,
           10,
           11,
           11,
           11,
           12,
           12,
           12,
           12,
           12,
           12,
           12,
           12,
           13,
           13,
           13,
           13,
           13,
           13,
           14,
           14,
           14,
           15,
           15,
           15,
           15,
           16,
           16,
           16,
           16,
           16,
           17,
           17,
           17,
           18,
           18,
           18,
           19,
           19,
           19,
           20,
           20,
           20,
           20,
           21,
           21,
           21,
           21,
           21,
           21,
           22,
           22,
           22,
           22,
           23,
           23,
           23,
           23,
           23,
           23,
           23,
           24,
           24,
           24,
           24,
           25,
           25,
           25,
           25,
           26,
           26,
           26,
           26,
           27,
           27,
           27,
           27,
           27,
           28,
           28,
           28,
           28,
           29,
           29,
           29,
           30,
           30,
           30,
           30,
           31,
           32,
           32,
           32,
           32,
           32,
           33,
           33,
           33,
           33,
           33,
           33,
           34,
           34,
           34,
           34,
           35,
           35,
           35,
           36,
           36,
           36,
           36,
           37,
           37,
           37,
           38,
           39,
           39,
           39,
           39,
           39,
           40,
           40,
           40,
           41,
           41,
           41,
           41,
           42,
           42,
           42,
           42,
           43,
           43,
           43,
           43,
           43,
           43,
           43,
           44,
           44,
           44,
           45,
           45,
           45,
           46,
           46,
           47,
           47,
           47,
           48,
           48,
           48,
           48,
           48,
           48,
           48,
           49,
           49,
           49,
           49,
           49,
           49,
           49,
           49,
           49,
           50,
           50,
           50,
           50,
           50,
           50,
           50
          ],
          "target": [
           10,
           14,
           18,
           19,
           20,
           11,
           12,
           13,
           14,
           15,
           16,
           17,
           19,
           12,
           13,
           20,
           11,
           12,
           13,
           16,
           19,
           10,
           14,
           18,
           19,
           20,
           15,
           16,
           12,
           15,
           16,
           17,
           19,
           10,
           18,
           19,
           20,
           10,
           12,
           13,
           19,
           20,
           20,
           21,
           23,
           29,
           30,
           22,
           24,
           26,
           21,
           22,
           23,
           24,
           25,
           26,
           27,
           28,
           21,
           22,
           23,
           24,
           25,
           31,
           21,
           23,
           31,
           25,
           26,
           27,
           28,
           22,
           24,
           26,
           27,
           28,
           24,
           26,
           28,
           21,
           23,
           29,
           21,
           23,
           27,
           21,
           23,
           25,
           30,
           32,
           33,
           37,
           38,
           39,
           40,
           33,
           34,
           35,
           37,
           32,
           33,
           34,
           37,
           38,
           39,
           40,
           33,
           34,
           35,
           37,
           32,
           33,
           34,
           36,
           33,
           35,
           36,
           37,
           33,
           34,
           35,
           36,
           39,
           33,
           34,
           35,
           37,
           32,
           38,
           39,
           32,
           34,
           38,
           40,
           34,
           41,
           42,
           43,
           44,
           45,
           42,
           46,
           47,
           48,
           49,
           50,
           44,
           46,
           47,
           48,
           48,
           49,
           50,
           42,
           46,
           47,
           48,
           43,
           48,
           49,
           41,
           41,
           42,
           43,
           44,
           45,
           43,
           44,
           45,
           51,
           52,
           56,
           58,
           51,
           55,
           56,
           58,
           51,
           54,
           55,
           56,
           57,
           58,
           60,
           51,
           56,
           58,
           51,
           56,
           58,
           51,
           57,
           51,
           57,
           58,
           51,
           52,
           54,
           55,
           57,
           58,
           60,
           51,
           52,
           53,
           54,
           55,
           56,
           57,
           59,
           60,
           51,
           53,
           54,
           55,
           56,
           59,
           60
          ],
          "value": [
           1180,
           61,
           5,
           90,
           45,
           268,
           876,
           3,
           1,
           4,
           156,
           6,
           1,
           1,
           923,
           9,
           756,
           72,
           1,
           192,
           1,
           149,
           576,
           5,
           29,
           24,
           435,
           11,
           15,
           6,
           20,
           289,
           2,
           5,
           198,
           3,
           1,
           16,
           2,
           5,
           2,
           1,
           6,
           1034,
           313,
           2,
           1,
           836,
           169,
           19,
           1,
           159,
           1,
           770,
           4,
           8,
           7,
           16,
           5,
           2,
           1,
           1,
           917,
           6,
           64,
           573,
           1,
           1,
           92,
           350,
           2,
           6,
           4,
           359,
           1,
           9,
           4,
           4,
           287,
           15,
           4,
           189,
           88,
           32,
           8,
           9,
           35,
           4,
           38,
           1115,
           2,
           1,
           11,
           86,
           1,
           996,
           1,
           5,
           1,
           919,
           1,
           2,
           1,
           3,
           31,
           2,
           942,
           1,
           3,
           2,
           4,
           2,
           919,
           1,
           62,
           416,
           1,
           3,
           6,
           1,
           3,
           349,
           7,
           9,
           1,
           6,
           298,
           5,
           185,
           1,
           5,
           2,
           1,
           31,
           7,
           4,
           1,
           284,
           1069,
           690,
           1,
           1,
           1,
           4,
           1035,
           978,
           2,
           48,
           883,
           1,
           101,
           135,
           197,
           1,
           1,
           1,
           348,
           1,
           2,
           303,
           200,
           1,
           118,
           3,
           1,
           2,
           2,
           30,
           2,
           1,
           9,
           26,
           169,
           1,
           1,
           110,
           9,
           2,
           1,
           4,
           274,
           4,
           3,
           2,
           36,
           1063,
           3,
           4,
           688,
           2,
           49,
           1,
           883,
           1,
           1,
           5,
           11,
           46,
           3,
           329,
           4,
           58,
           1,
           1,
           25,
           422,
           908,
           3,
           5,
           62,
           46,
           1,
           17,
           12,
           431,
           2,
           1,
           711
          ]
         },
         "node": {
          "color": [
           "#1f77b4",
           "#ff7f0e",
           "#2ca02c",
           "#d62728",
           "#9467bd",
           "#8c564b",
           "#e377c2",
           "#7f7f7f",
           "#bcbd22",
           "#17becf",
           "#1f77b4",
           "#ff7f0e",
           "#2ca02c",
           "#d62728",
           "#9467bd",
           "#8c564b",
           "#e377c2",
           "#7f7f7f",
           "#bcbd22",
           "#17becf",
           "#1f77b4",
           "#ff7f0e",
           "#2ca02c",
           "#d62728",
           "#9467bd",
           "#8c564b",
           "#e377c2",
           "#7f7f7f",
           "#bcbd22",
           "#17becf",
           "#1f77b4",
           "#ff7f0e",
           "#2ca02c",
           "#d62728",
           "#9467bd",
           "#8c564b",
           "#e377c2",
           "#7f7f7f",
           "#bcbd22",
           "#17becf",
           "#1f77b4",
           "#ff7f0e",
           "#2ca02c",
           "#d62728",
           "#9467bd",
           "#8c564b",
           "#e377c2",
           "#7f7f7f",
           "#bcbd22",
           "#17becf",
           "#1f77b4",
           "#ff7f0e",
           "#2ca02c",
           "#d62728",
           "#9467bd",
           "#8c564b",
           "#e377c2",
           "#7f7f7f",
           "#bcbd22",
           "#17becf",
           "#1f77b4"
          ],
          "label": [
           1,
           2,
           3,
           4,
           5,
           6,
           7,
           8,
           9,
           10,
           1,
           2,
           3,
           4,
           5,
           6,
           7,
           8,
           9,
           10,
           11,
           1,
           2,
           3,
           4,
           5,
           6,
           7,
           8,
           9,
           10,
           11,
           1,
           2,
           3,
           4,
           5,
           6,
           7,
           8,
           9,
           1,
           2,
           3,
           4,
           5,
           6,
           7,
           8,
           9,
           10,
           "B Cells",
           "CD4+ T Cells",
           "CD4+/CD8+ Cells",
           "CD8+ Cells",
           "Central Memory T Cells",
           "Classical Monocytes",
           "NK Cells",
           "Non Classical Monocytes",
           "T Regulatory Cells",
           "Terminal Effector T Cells"
          ],
          "line": {
           "color": "black",
           "width": 0.5
          },
          "pad": 15,
          "thickness": 20
         },
         "type": "sankey"
        }
       ],
       "layout": {
        "annotations": [
         {
          "showarrow": false,
          "text": "monocle",
          "x": 0,
          "xref": "x",
          "y": 1.05,
          "yref": "paper"
         },
         {
          "showarrow": false,
          "text": "scanpy",
          "x": 1,
          "xref": "x",
          "y": 1.05,
          "yref": "paper"
         },
         {
          "showarrow": false,
          "text": "scvi-tools",
          "x": 2,
          "xref": "x",
          "y": 1.05,
          "yref": "paper"
         },
         {
          "showarrow": false,
          "text": "seurat",
          "x": 3,
          "xref": "x",
          "y": 1.05,
          "yref": "paper"
         },
         {
          "showarrow": false,
          "text": "COTAN",
          "x": 4,
          "xref": "x",
          "y": 1.05,
          "yref": "paper"
         },
         {
          "showarrow": false,
          "text": "antibody",
          "x": 5,
          "xref": "x",
          "y": 1.05,
          "yref": "paper"
         }
        ],
        "font": {
         "size": 10
        },
        "height": 450,
        "plot_bgcolor": "rgba(0,0,0,0)",
        "template": {
         "data": {
          "bar": [
           {
            "error_x": {
             "color": "#2a3f5f"
            },
            "error_y": {
             "color": "#2a3f5f"
            },
            "marker": {
             "line": {
              "color": "#E5ECF6",
              "width": 0.5
             },
             "pattern": {
              "fillmode": "overlay",
              "size": 10,
              "solidity": 0.2
             }
            },
            "type": "bar"
           }
          ],
          "barpolar": [
           {
            "marker": {
             "line": {
              "color": "#E5ECF6",
              "width": 0.5
             },
             "pattern": {
              "fillmode": "overlay",
              "size": 10,
              "solidity": 0.2
             }
            },
            "type": "barpolar"
           }
          ],
          "carpet": [
           {
            "aaxis": {
             "endlinecolor": "#2a3f5f",
             "gridcolor": "white",
             "linecolor": "white",
             "minorgridcolor": "white",
             "startlinecolor": "#2a3f5f"
            },
            "baxis": {
             "endlinecolor": "#2a3f5f",
             "gridcolor": "white",
             "linecolor": "white",
             "minorgridcolor": "white",
             "startlinecolor": "#2a3f5f"
            },
            "type": "carpet"
           }
          ],
          "choropleth": [
           {
            "colorbar": {
             "outlinewidth": 0,
             "ticks": ""
            },
            "type": "choropleth"
           }
          ],
          "contour": [
           {
            "colorbar": {
             "outlinewidth": 0,
             "ticks": ""
            },
            "colorscale": [
             [
              0,
              "#0d0887"
             ],
             [
              0.1111111111111111,
              "#46039f"
             ],
             [
              0.2222222222222222,
              "#7201a8"
             ],
             [
              0.3333333333333333,
              "#9c179e"
             ],
             [
              0.4444444444444444,
              "#bd3786"
             ],
             [
              0.5555555555555556,
              "#d8576b"
             ],
             [
              0.6666666666666666,
              "#ed7953"
             ],
             [
              0.7777777777777778,
              "#fb9f3a"
             ],
             [
              0.8888888888888888,
              "#fdca26"
             ],
             [
              1,
              "#f0f921"
             ]
            ],
            "type": "contour"
           }
          ],
          "contourcarpet": [
           {
            "colorbar": {
             "outlinewidth": 0,
             "ticks": ""
            },
            "type": "contourcarpet"
           }
          ],
          "heatmap": [
           {
            "colorbar": {
             "outlinewidth": 0,
             "ticks": ""
            },
            "colorscale": [
             [
              0,
              "#0d0887"
             ],
             [
              0.1111111111111111,
              "#46039f"
             ],
             [
              0.2222222222222222,
              "#7201a8"
             ],
             [
              0.3333333333333333,
              "#9c179e"
             ],
             [
              0.4444444444444444,
              "#bd3786"
             ],
             [
              0.5555555555555556,
              "#d8576b"
             ],
             [
              0.6666666666666666,
              "#ed7953"
             ],
             [
              0.7777777777777778,
              "#fb9f3a"
             ],
             [
              0.8888888888888888,
              "#fdca26"
             ],
             [
              1,
              "#f0f921"
             ]
            ],
            "type": "heatmap"
           }
          ],
          "heatmapgl": [
           {
            "colorbar": {
             "outlinewidth": 0,
             "ticks": ""
            },
            "colorscale": [
             [
              0,
              "#0d0887"
             ],
             [
              0.1111111111111111,
              "#46039f"
             ],
             [
              0.2222222222222222,
              "#7201a8"
             ],
             [
              0.3333333333333333,
              "#9c179e"
             ],
             [
              0.4444444444444444,
              "#bd3786"
             ],
             [
              0.5555555555555556,
              "#d8576b"
             ],
             [
              0.6666666666666666,
              "#ed7953"
             ],
             [
              0.7777777777777778,
              "#fb9f3a"
             ],
             [
              0.8888888888888888,
              "#fdca26"
             ],
             [
              1,
              "#f0f921"
             ]
            ],
            "type": "heatmapgl"
           }
          ],
          "histogram": [
           {
            "marker": {
             "pattern": {
              "fillmode": "overlay",
              "size": 10,
              "solidity": 0.2
             }
            },
            "type": "histogram"
           }
          ],
          "histogram2d": [
           {
            "colorbar": {
             "outlinewidth": 0,
             "ticks": ""
            },
            "colorscale": [
             [
              0,
              "#0d0887"
             ],
             [
              0.1111111111111111,
              "#46039f"
             ],
             [
              0.2222222222222222,
              "#7201a8"
             ],
             [
              0.3333333333333333,
              "#9c179e"
             ],
             [
              0.4444444444444444,
              "#bd3786"
             ],
             [
              0.5555555555555556,
              "#d8576b"
             ],
             [
              0.6666666666666666,
              "#ed7953"
             ],
             [
              0.7777777777777778,
              "#fb9f3a"
             ],
             [
              0.8888888888888888,
              "#fdca26"
             ],
             [
              1,
              "#f0f921"
             ]
            ],
            "type": "histogram2d"
           }
          ],
          "histogram2dcontour": [
           {
            "colorbar": {
             "outlinewidth": 0,
             "ticks": ""
            },
            "colorscale": [
             [
              0,
              "#0d0887"
             ],
             [
              0.1111111111111111,
              "#46039f"
             ],
             [
              0.2222222222222222,
              "#7201a8"
             ],
             [
              0.3333333333333333,
              "#9c179e"
             ],
             [
              0.4444444444444444,
              "#bd3786"
             ],
             [
              0.5555555555555556,
              "#d8576b"
             ],
             [
              0.6666666666666666,
              "#ed7953"
             ],
             [
              0.7777777777777778,
              "#fb9f3a"
             ],
             [
              0.8888888888888888,
              "#fdca26"
             ],
             [
              1,
              "#f0f921"
             ]
            ],
            "type": "histogram2dcontour"
           }
          ],
          "mesh3d": [
           {
            "colorbar": {
             "outlinewidth": 0,
             "ticks": ""
            },
            "type": "mesh3d"
           }
          ],
          "parcoords": [
           {
            "line": {
             "colorbar": {
              "outlinewidth": 0,
              "ticks": ""
             }
            },
            "type": "parcoords"
           }
          ],
          "pie": [
           {
            "automargin": true,
            "type": "pie"
           }
          ],
          "scatter": [
           {
            "fillpattern": {
             "fillmode": "overlay",
             "size": 10,
             "solidity": 0.2
            },
            "type": "scatter"
           }
          ],
          "scatter3d": [
           {
            "line": {
             "colorbar": {
              "outlinewidth": 0,
              "ticks": ""
             }
            },
            "marker": {
             "colorbar": {
              "outlinewidth": 0,
              "ticks": ""
             }
            },
            "type": "scatter3d"
           }
          ],
          "scattercarpet": [
           {
            "marker": {
             "colorbar": {
              "outlinewidth": 0,
              "ticks": ""
             }
            },
            "type": "scattercarpet"
           }
          ],
          "scattergeo": [
           {
            "marker": {
             "colorbar": {
              "outlinewidth": 0,
              "ticks": ""
             }
            },
            "type": "scattergeo"
           }
          ],
          "scattergl": [
           {
            "marker": {
             "colorbar": {
              "outlinewidth": 0,
              "ticks": ""
             }
            },
            "type": "scattergl"
           }
          ],
          "scattermapbox": [
           {
            "marker": {
             "colorbar": {
              "outlinewidth": 0,
              "ticks": ""
             }
            },
            "type": "scattermapbox"
           }
          ],
          "scatterpolar": [
           {
            "marker": {
             "colorbar": {
              "outlinewidth": 0,
              "ticks": ""
             }
            },
            "type": "scatterpolar"
           }
          ],
          "scatterpolargl": [
           {
            "marker": {
             "colorbar": {
              "outlinewidth": 0,
              "ticks": ""
             }
            },
            "type": "scatterpolargl"
           }
          ],
          "scatterternary": [
           {
            "marker": {
             "colorbar": {
              "outlinewidth": 0,
              "ticks": ""
             }
            },
            "type": "scatterternary"
           }
          ],
          "surface": [
           {
            "colorbar": {
             "outlinewidth": 0,
             "ticks": ""
            },
            "colorscale": [
             [
              0,
              "#0d0887"
             ],
             [
              0.1111111111111111,
              "#46039f"
             ],
             [
              0.2222222222222222,
              "#7201a8"
             ],
             [
              0.3333333333333333,
              "#9c179e"
             ],
             [
              0.4444444444444444,
              "#bd3786"
             ],
             [
              0.5555555555555556,
              "#d8576b"
             ],
             [
              0.6666666666666666,
              "#ed7953"
             ],
             [
              0.7777777777777778,
              "#fb9f3a"
             ],
             [
              0.8888888888888888,
              "#fdca26"
             ],
             [
              1,
              "#f0f921"
             ]
            ],
            "type": "surface"
           }
          ],
          "table": [
           {
            "cells": {
             "fill": {
              "color": "#EBF0F8"
             },
             "line": {
              "color": "white"
             }
            },
            "header": {
             "fill": {
              "color": "#C8D4E3"
             },
             "line": {
              "color": "white"
             }
            },
            "type": "table"
           }
          ]
         },
         "layout": {
          "annotationdefaults": {
           "arrowcolor": "#2a3f5f",
           "arrowhead": 0,
           "arrowwidth": 1
          },
          "autotypenumbers": "strict",
          "coloraxis": {
           "colorbar": {
            "outlinewidth": 0,
            "ticks": ""
           }
          },
          "colorscale": {
           "diverging": [
            [
             0,
             "#8e0152"
            ],
            [
             0.1,
             "#c51b7d"
            ],
            [
             0.2,
             "#de77ae"
            ],
            [
             0.3,
             "#f1b6da"
            ],
            [
             0.4,
             "#fde0ef"
            ],
            [
             0.5,
             "#f7f7f7"
            ],
            [
             0.6,
             "#e6f5d0"
            ],
            [
             0.7,
             "#b8e186"
            ],
            [
             0.8,
             "#7fbc41"
            ],
            [
             0.9,
             "#4d9221"
            ],
            [
             1,
             "#276419"
            ]
           ],
           "sequential": [
            [
             0,
             "#0d0887"
            ],
            [
             0.1111111111111111,
             "#46039f"
            ],
            [
             0.2222222222222222,
             "#7201a8"
            ],
            [
             0.3333333333333333,
             "#9c179e"
            ],
            [
             0.4444444444444444,
             "#bd3786"
            ],
            [
             0.5555555555555556,
             "#d8576b"
            ],
            [
             0.6666666666666666,
             "#ed7953"
            ],
            [
             0.7777777777777778,
             "#fb9f3a"
            ],
            [
             0.8888888888888888,
             "#fdca26"
            ],
            [
             1,
             "#f0f921"
            ]
           ],
           "sequentialminus": [
            [
             0,
             "#0d0887"
            ],
            [
             0.1111111111111111,
             "#46039f"
            ],
            [
             0.2222222222222222,
             "#7201a8"
            ],
            [
             0.3333333333333333,
             "#9c179e"
            ],
            [
             0.4444444444444444,
             "#bd3786"
            ],
            [
             0.5555555555555556,
             "#d8576b"
            ],
            [
             0.6666666666666666,
             "#ed7953"
            ],
            [
             0.7777777777777778,
             "#fb9f3a"
            ],
            [
             0.8888888888888888,
             "#fdca26"
            ],
            [
             1,
             "#f0f921"
            ]
           ]
          },
          "colorway": [
           "#636efa",
           "#EF553B",
           "#00cc96",
           "#ab63fa",
           "#FFA15A",
           "#19d3f3",
           "#FF6692",
           "#B6E880",
           "#FF97FF",
           "#FECB52"
          ],
          "font": {
           "color": "#2a3f5f"
          },
          "geo": {
           "bgcolor": "white",
           "lakecolor": "white",
           "landcolor": "#E5ECF6",
           "showlakes": true,
           "showland": true,
           "subunitcolor": "white"
          },
          "hoverlabel": {
           "align": "left"
          },
          "hovermode": "closest",
          "mapbox": {
           "style": "light"
          },
          "paper_bgcolor": "white",
          "plot_bgcolor": "#E5ECF6",
          "polar": {
           "angularaxis": {
            "gridcolor": "white",
            "linecolor": "white",
            "ticks": ""
           },
           "bgcolor": "#E5ECF6",
           "radialaxis": {
            "gridcolor": "white",
            "linecolor": "white",
            "ticks": ""
           }
          },
          "scene": {
           "xaxis": {
            "backgroundcolor": "#E5ECF6",
            "gridcolor": "white",
            "gridwidth": 2,
            "linecolor": "white",
            "showbackground": true,
            "ticks": "",
            "zerolinecolor": "white"
           },
           "yaxis": {
            "backgroundcolor": "#E5ECF6",
            "gridcolor": "white",
            "gridwidth": 2,
            "linecolor": "white",
            "showbackground": true,
            "ticks": "",
            "zerolinecolor": "white"
           },
           "zaxis": {
            "backgroundcolor": "#E5ECF6",
            "gridcolor": "white",
            "gridwidth": 2,
            "linecolor": "white",
            "showbackground": true,
            "ticks": "",
            "zerolinecolor": "white"
           }
          },
          "shapedefaults": {
           "line": {
            "color": "#2a3f5f"
           }
          },
          "ternary": {
           "aaxis": {
            "gridcolor": "white",
            "linecolor": "white",
            "ticks": ""
           },
           "baxis": {
            "gridcolor": "white",
            "linecolor": "white",
            "ticks": ""
           },
           "bgcolor": "#E5ECF6",
           "caxis": {
            "gridcolor": "white",
            "linecolor": "white",
            "ticks": ""
           }
          },
          "title": {
           "x": 0.05
          },
          "xaxis": {
           "automargin": true,
           "gridcolor": "white",
           "linecolor": "white",
           "ticks": "",
           "title": {
            "standoff": 15
           },
           "zerolinecolor": "white",
           "zerolinewidth": 2
          },
          "yaxis": {
           "automargin": true,
           "gridcolor": "white",
           "linecolor": "white",
           "ticks": "",
           "title": {
            "standoff": 15
           },
           "zerolinecolor": "white",
           "zerolinewidth": 2
          }
         }
        },
        "title": {
         "text": "PBMC4 - matching antibody labels"
        },
        "width": 700,
        "xaxis": {
         "showgrid": false,
         "visible": false,
         "zeroline": false
        },
        "yaxis": {
         "showgrid": false,
         "visible": false,
         "zeroline": false
        }
       }
      }
     },
     "metadata": {},
     "output_type": "display_data"
    }
   ],
   "source": [
    "for tuning in PARAMS_TUNING:\n",
    "    for dataset in DATASET_NAMES:\n",
    "        print('------------------------------')\n",
    "        print(f'{dataset} - matching {tuning} labels' if tuning != 'default' else f'{dataset} - default labels')\n",
    "        \n",
    "        # concat tools labels\n",
    "        labels_df = pd.read_csv(f'{DIR}{dataset}/COTAN/{tuning}/clustering_labels.csv', index_col=0)\n",
    "        labels_df.rename(columns={\"cluster\": \"cluster_COTAN\"}, inplace=True)\n",
    "        for tool in [t for t in TOOLS if t != 'COTAN']:\n",
    "            tool_labels_df = pd.read_csv(f'{DIR}{dataset}/{tool}/{tuning}/clustering_labels.csv', index_col=0)\n",
    "            labels_df = labels_df.merge(tool_labels_df, how='inner', on='cell')\n",
    "            labels_df.rename(columns={\"cluster\": f\"cluster_{tool}\"}, inplace=True)\n",
    "        \n",
    "        # load and concat celltypist labels\n",
    "        celltypist_df = pd.read_csv(f'{DIR}{dataset}/celltypist/celltypist_labels.csv', index_col=0)\n",
    "        celltypist_df.index = celltypist_df.index.str[:-2]\n",
    "        celltypist_df = labels_df.merge(celltypist_df, how='inner', on='cell')\n",
    "        celltypist_df.rename(columns={\"cluster.ids\": f\"cluster_celltypist\"}, inplace=True)\n",
    "        celltypist_mapping_df = pd.read_csv(f'{DIR}{dataset}/celltypist/celltypist_mapping.csv', index_col=0)\n",
    "        \n",
    "        # load and concat protein surface labels\n",
    "        antibody_df = pd.read_csv(f'{DIR}{dataset}/antibody_annotation/antibody_labels.csv', index_col=0)\n",
    "        antibody_df = labels_df.merge(antibody_df, how='inner', on='cell')\n",
    "        antibody_df.rename(columns={\"cluster.ids\": f\"cluster_antibody\"}, inplace=True)\n",
    "        antibody_mapping_df = pd.read_csv(f'{DIR}{dataset}/antibody_annotation/antibody_mapping.csv', index_col=1)\n",
    "\n",
    "        # read dataset\n",
    "        adata = sc.read_10x_mtx(\n",
    "            f'{DIR}{dataset}/filtered/10X/',\n",
    "            var_names='gene_symbols',\n",
    "            cache=False\n",
    "        )\n",
    "        # keep only labelled cells\n",
    "        adata.var_names_make_unique()\n",
    "        subset_cells = adata.obs_names.isin(labels_df.index)\n",
    "        adata = adata[subset_cells, :]\n",
    "\n",
    "        # compute silhouette score\n",
    "        silhouette = {}\n",
    "        for tool in TOOLS:\n",
    "            silhouette[tool] = silhouette_score(adata.X, labels_df[f'cluster_{tool}'])\n",
    "        if tuning=='celltypist':\n",
    "            silhouette['celltypist'] = silhouette_score(adata.X, celltypist_df[f'cluster_celltypist'])\n",
    "        elif tuning=='antibody':\n",
    "            silhouette['antibody'] = silhouette_score(adata.X, antibody_df[f'cluster_antibody'])\n",
    "        silhouette_df = pd.DataFrame(silhouette, index=[0])\n",
    "        silhouette_df.to_csv(f'{DIR}{dataset}/{tuning}_silhouette.csv')\n",
    "        silhouette_df.to_latex(f'{DIR}{dataset}/{tuning}_silhouette.tex')\n",
    "\n",
    "        # compute scores comparing each tool labels with celltypist labels\n",
    "        if tuning == 'celltypist' or tuning == 'default':\n",
    "            compute_scores(DIR, dataset, celltypist_df, tuning, 'celltypist')\n",
    "            labels = []\n",
    "            labels_titles = []\n",
    "            for tool in TOOLS:\n",
    "                labels.append(celltypist_df[f'cluster_{tool}'].to_list())\n",
    "                labels_titles.append(tool)\n",
    "            labels.append(celltypist_df[f'cluster_celltypist'].map(celltypist_mapping_df['go'].to_dict()).to_list())\n",
    "            labels_titles.append('celltypist')\n",
    "            title = f'{dataset} - matching {tuning} labels' if tuning != 'default' else f'{dataset} - default labels'\n",
    "            sankey_plot(labels=labels, labels_titles=labels_titles, title=title, path=f'{DIR}{dataset}/{tuning}_celltypist.html')\n",
    "        \n",
    "        # compute scores comparing each tool labels with protein labels\n",
    "        if tuning == 'antibody' or tuning == 'default':\n",
    "            compute_scores(DIR, dataset, antibody_df, tuning, 'antibody')\n",
    "            labels = []\n",
    "            labels_titles = []\n",
    "            for tool in TOOLS:\n",
    "                labels.append(antibody_df[f'cluster_{tool}'].to_list())\n",
    "                labels_titles.append(tool)\n",
    "            labels.append(antibody_df[f'cluster_antibody'].map(antibody_mapping_df['go'].to_dict()).to_list())\n",
    "            labels_titles.append('antibody')\n",
    "            title = f'{dataset} - matching {tuning} labels' if tuning != 'default' else f'{dataset} - default labels'\n",
    "            sankey_plot(labels=labels, labels_titles=labels_titles, title=title, path=f'{DIR}{dataset}/{tuning}_antibody.html')"
   ]
  }
 ],
 "metadata": {
  "kernelspec": {
   "display_name": "chl",
   "language": "python",
   "name": "python3"
  },
  "language_info": {
   "codemirror_mode": {
    "name": "ipython",
    "version": 3
   },
   "file_extension": ".py",
   "mimetype": "text/x-python",
   "name": "python",
   "nbconvert_exporter": "python",
   "pygments_lexer": "ipython3",
   "version": "3.11.5"
  },
  "orig_nbformat": 4
 },
 "nbformat": 4,
 "nbformat_minor": 2
}
